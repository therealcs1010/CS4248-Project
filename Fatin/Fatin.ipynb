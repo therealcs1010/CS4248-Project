{
 "cells": [
  {
   "cell_type": "markdown",
   "metadata": {
    "id": "Zx08kgSLl3V3"
   },
   "source": [
    "# **Get Data and Preprocess**"
   ]
  },
  {
   "cell_type": "code",
   "execution_count": 1,
   "metadata": {
    "colab": {
     "base_uri": "https://localhost:8080/"
    },
    "id": "Cv-T2Mki-vKV",
    "outputId": "16c1930c-a0b6-44d9-e28c-bfbe7d74b5db"
   },
   "outputs": [
    {
     "name": "stderr",
     "output_type": "stream",
     "text": [
      "[nltk_data] Downloading package stopwords to\n",
      "[nltk_data]     C:\\Users\\simyu\\AppData\\Roaming\\nltk_data...\n",
      "[nltk_data]   Package stopwords is already up-to-date!\n",
      "[nltk_data] Downloading package wordnet to\n",
      "[nltk_data]     C:\\Users\\simyu\\AppData\\Roaming\\nltk_data...\n",
      "[nltk_data]   Package wordnet is already up-to-date!\n"
     ]
    }
   ],
   "source": [
    "import re\n",
    "import nltk\n",
    "nltk.download('stopwords')\n",
    "nltk.download('wordnet')\n",
    "from nltk.corpus import stopwords\n",
    "from nltk.stem import WordNetLemmatizer"
   ]
  },
  {
   "cell_type": "code",
   "execution_count": 2,
   "metadata": {
    "id": "epLtxSYgAfFW"
   },
   "outputs": [],
   "source": [
    "def preprocess(text, string=True):\n",
    "    text = re.sub('[^A-Za-z0-9 ]+', '', text)\n",
    "    text = text.lower()\n",
    "    words = text.split()\n",
    "    words = [w for w in words if not w in set(stopwords.words(\"english\"))]\n",
    "    words = [WordNetLemmatizer().lemmatize(word) for word in words]\n",
    "    if string:\n",
    "        return \" \".join(words)\n",
    "    else:\n",
    "        return words"
   ]
  },
  {
   "cell_type": "code",
   "execution_count": 3,
   "metadata": {
    "id": "PKjdEL8SmDu_"
   },
   "outputs": [],
   "source": [
    "def get_data(file):\n",
    "    data = pd.read_json(file)\n",
    "    x_data = data['text'].apply(preprocess)\n",
    "    y_data = data['label']\n",
    "    return x_data, y_data"
   ]
  },
  {
   "cell_type": "code",
   "execution_count": 4,
   "metadata": {
    "colab": {
     "base_uri": "https://localhost:8080/"
    },
    "id": "ezFXtvchB1MC",
    "outputId": "a3f1888e-40f9-418c-8b79-4843c5372aff"
   },
   "outputs": [],
   "source": [
    "import pandas as pd\n",
    "import numpy as np"
   ]
  },
  {
   "cell_type": "code",
   "execution_count": null,
   "metadata": {
    "id": "ePmDJ_epAjpX"
   },
   "outputs": [],
   "source": [
    "x_train, y_train = get_data('/content/drive/MyDrive/train.json')\n",
    "x_test, y_test = get_data('/content/drive/MyDrive/test.json')"
   ]
  },
  {
   "cell_type": "code",
   "execution_count": 5,
   "metadata": {
    "colab": {
     "base_uri": "https://localhost:8080/"
    },
    "id": "LdQGL1n7q-C5",
    "outputId": "9e8a151c-8f67-4ccf-e58e-e6b18d4824ce"
   },
   "outputs": [
    {
     "data": {
      "text/plain": [
       "0        bromwell high cartoon comedy ran time program ...\n",
       "1        homelessness houselessness george carlin state...\n",
       "2        brilliant overacting lesley ann warren best dr...\n",
       "3        easily underrated film inn brook cannon sure f...\n",
       "4        typical mel brook film much le slapstick movie...\n",
       "                               ...                        \n",
       "24995    towards end movie felt technical felt like cla...\n",
       "24996    kind movie enemy content watch time bloody tru...\n",
       "24997    saw descent last night stockholm film festival...\n",
       "24998    film pick pound turn rather good 23rd century ...\n",
       "24999    one dumbest film ive ever seen rip nearly ever...\n",
       "Name: text, Length: 25000, dtype: object"
      ]
     },
     "execution_count": 5,
     "metadata": {},
     "output_type": "execute_result"
    }
   ],
   "source": [
    "# x_train.to_csv('data/x_train.csv')\n",
    "# x_test.to_csv('data/x_test.csv')\n",
    "x_train = pd.read_csv('x_train.csv', index_col=False, header=0)['text']\n",
    "x_test = pd.read_csv('x_test.csv', index_col=False, header=0)['text']\n",
    "x_train"
   ]
  },
  {
   "cell_type": "code",
   "execution_count": 6,
   "metadata": {
    "colab": {
     "base_uri": "https://localhost:8080/"
    },
    "id": "r9XnhQM7rRo8",
    "outputId": "5de17786-b416-4901-f3b8-83ccf7517abf"
   },
   "outputs": [
    {
     "data": {
      "text/plain": [
       "array(['+', '-'], dtype=object)"
      ]
     },
     "execution_count": 6,
     "metadata": {},
     "output_type": "execute_result"
    }
   ],
   "source": [
    "# y_train.to_csv('data/y_train.csv')\n",
    "# y_test.to_csv('data/y_test.csv')\n",
    "y_train = pd.read_csv('y_train.csv', index_col=False, header=0)['label']\n",
    "y_test = pd.read_csv('y_test.csv', index_col=False, header=0)['label']\n",
    "y_train.unique()"
   ]
  },
  {
   "cell_type": "code",
   "execution_count": 7,
   "metadata": {
    "colab": {
     "base_uri": "https://localhost:8080/"
    },
    "id": "wlVWmMmsKDKG",
    "outputId": "5d977d36-f722-40de-ab37-dc112203b072"
   },
   "outputs": [
    {
     "data": {
      "text/plain": [
       "0        1\n",
       "1        1\n",
       "2        1\n",
       "3        1\n",
       "4        1\n",
       "        ..\n",
       "24995   -1\n",
       "24996   -1\n",
       "24997   -1\n",
       "24998   -1\n",
       "24999   -1\n",
       "Name: label, Length: 25000, dtype: int64"
      ]
     },
     "execution_count": 7,
     "metadata": {},
     "output_type": "execute_result"
    }
   ],
   "source": [
    "mapping = {'+': 1, '-': -1}\n",
    "train_sentiment = y_train.replace(mapping)\n",
    "test_sentiment = y_test.replace(mapping)\n",
    "train_sentiment"
   ]
  },
  {
   "cell_type": "code",
   "execution_count": 8,
   "metadata": {
    "colab": {
     "base_uri": "https://localhost:8080/"
    },
    "id": "N96g_Tyoe6Xu",
    "outputId": "291694b4-a372-4ba4-b1e2-47b3c0b9af78"
   },
   "outputs": [
    {
     "name": "stderr",
     "output_type": "stream",
     "text": [
      "[nltk_data] Downloading package punkt to\n",
      "[nltk_data]     C:\\Users\\simyu\\AppData\\Roaming\\nltk_data...\n",
      "[nltk_data]   Package punkt is already up-to-date!\n"
     ]
    }
   ],
   "source": [
    "nltk.download('punkt')   \n",
    "tokenizer = nltk.data.load('tokenizers/punkt/english.pickle')"
   ]
  },
  {
   "cell_type": "code",
   "execution_count": 9,
   "metadata": {
    "id": "xWxJiSX9fBNo"
   },
   "outputs": [],
   "source": [
    "def get_sentences( review, tokenizer):\n",
    "    raw_sentences = tokenizer.tokenize(review.strip())\n",
    "    sentences = []\n",
    "    for raw_sentence in raw_sentences:\n",
    "        if len(raw_sentence) > 0:\n",
    "            words = preprocess(raw_sentence, string=False)\n",
    "            sentences.append(words)\n",
    "    return sentences"
   ]
  },
  {
   "cell_type": "code",
   "execution_count": null,
   "metadata": {
    "id": "fbv8GHQIhgBE"
   },
   "outputs": [],
   "source": [
    "data = pd.read_json('/content/drive/MyDrive/train.json')\n",
    "raw_x_train = data['text']\n",
    "raw_y_train = data['label']\n",
    "data = pd.read_json('/content/drive/MyDrive/test.json')\n",
    "raw_x_test = data['text']\n",
    "raw_y_test = data['label']"
   ]
  },
  {
   "cell_type": "code",
   "execution_count": null,
   "metadata": {
    "id": "zuJjY_qbfLtI"
   },
   "outputs": [],
   "source": [
    "sentences = []\n",
    "for review in raw_x_train:\n",
    "    sentences += get_sentences(review, tokenizer)\n",
    "sentences[0]"
   ]
  },
  {
   "cell_type": "code",
   "execution_count": 10,
   "metadata": {
    "colab": {
     "base_uri": "https://localhost:8080/"
    },
    "id": "uCnZLu6ZGMKA",
    "outputId": "af0389a3-ea35-4cb0-a93a-87ba96528092"
   },
   "outputs": [
    {
     "data": {
      "text/plain": [
       "0                         [bromwell, high, cartoon, comedy]\n",
       "1               [ran, time, program, school, life, teacher]\n",
       "2         [35, year, teaching, profession, lead, believe...\n",
       "3         [scramble, survive, financially, insightful, s...\n",
       "4         [saw, episode, student, repeatedly, tried, bur...\n",
       "                                ...                        \n",
       "270848                [one, dumbest, film, ive, ever, seen]\n",
       "270849    [rip, nearly, ever, type, thriller, manages, m...\n",
       "270850    [plot, afterthought, far, acting, go, there, n...\n",
       "270851    [honestly, cant, understand, type, nonsense, g...\n",
       "270852    [crap, like, people, downloading, illegally, t...\n",
       "Name: 0, Length: 270853, dtype: object"
      ]
     },
     "execution_count": 10,
     "metadata": {},
     "output_type": "execute_result"
    }
   ],
   "source": [
    "# df = pd.DataFrame(np.array(sentences))\n",
    "# df.reset_index().to_json('/content/drive/MyDrive/sentences.json')\n",
    "data_sentences = pd.read_json('sentences.json')\n",
    "sentences = data_sentences['0']\n",
    "sentences"
   ]
  },
  {
   "cell_type": "code",
   "execution_count": 11,
   "metadata": {
    "colab": {
     "base_uri": "https://localhost:8080/"
    },
    "id": "JgTIK1N6S4Bz",
    "outputId": "987ebcf4-1a6b-4cd1-ac39-2a8a484d3918"
   },
   "outputs": [
    {
     "data": {
      "text/plain": [
       "111534"
      ]
     },
     "execution_count": 11,
     "metadata": {},
     "output_type": "execute_result"
    }
   ],
   "source": [
    "all_words = []\n",
    "for sentence in sentences:\n",
    "    all_words.extend(sentence)\n",
    "len(all_words)\n",
    "\n",
    "vocab = set()\n",
    "for sentence in sentences:\n",
    "    vocab.update(sentence)\n",
    "len(vocab)"
   ]
  },
  {
   "cell_type": "markdown",
   "metadata": {
    "id": "877tk50UsYBa"
   },
   "source": [
    "# **Feature Engineering with BoW and Tf-idf**"
   ]
  },
  {
   "cell_type": "code",
   "execution_count": null,
   "metadata": {
    "id": "QFofCCMmEwhl"
   },
   "outputs": [],
   "source": [
    "import sklearn\n",
    "from sklearn.feature_extraction.text import CountVectorizer\n",
    "from sklearn.feature_extraction.text import TfidfTransformer"
   ]
  },
  {
   "cell_type": "code",
   "execution_count": null,
   "metadata": {
    "id": "ZStmAE1Qm1fi"
   },
   "outputs": [],
   "source": [
    "def get_bow(clean_train_text, clean_test_text):\n",
    "    vectorizer = CountVectorizer(analyzer = \"word\", max_features = 10000) \n",
    "    train_bow = vectorizer.fit_transform(clean_train_text).toarray()\n",
    "    test_bow = vectorizer.transform(clean_test_text).toarray()\n",
    "    return train_bow, test_bow"
   ]
  },
  {
   "cell_type": "code",
   "execution_count": null,
   "metadata": {
    "id": "pIkeqmVnm3DX"
   },
   "outputs": [],
   "source": [
    "def get_tfidf(train_bow, test_bow):\n",
    "    tfidf_transformer = TfidfTransformer().fit(train_bow)\n",
    "    train_tfidf = tfidf_transformer.transform(train_bow)\n",
    "    test_tfidf = tfidf_transformer.transform(test_bow)\n",
    "    return train_tfidf, test_tfidf"
   ]
  },
  {
   "cell_type": "code",
   "execution_count": null,
   "metadata": {
    "colab": {
     "base_uri": "https://localhost:8080/"
    },
    "id": "DACcZAZvE0NS",
    "outputId": "43daa38c-16e3-4ba3-c2b9-ab0aa6e902a6"
   },
   "outputs": [],
   "source": [
    "train_bow, test_bow = get_bow(x_train.tolist(), x_test.tolist())\n",
    "train_tfidf, test_tfidf = get_tfidf(train_bow, test_bow)\n",
    "train_tfidf"
   ]
  },
  {
   "cell_type": "markdown",
   "metadata": {
    "id": "6P4MiIXqbJzy"
   },
   "source": [
    "# **Feature Engineering with Word2Vec**"
   ]
  },
  {
   "cell_type": "code",
   "execution_count": null,
   "metadata": {
    "id": "PKGn_cSJhs4y"
   },
   "outputs": [],
   "source": [
    "from gensim.models import Word2Vec"
   ]
  },
  {
   "cell_type": "code",
   "execution_count": null,
   "metadata": {
    "id": "ZDKxnPbsfRWz"
   },
   "outputs": [],
   "source": [
    "# Set values for various parameters\n",
    "num_features = 500    # Word vector dimensionality\n",
    "min_word_count = 50   # Minimum word count\n",
    "num_workers = 4       # Number of threads to run in parallel\n",
    "context = 10          # Context window size\n",
    "downsampling = 1e-3   # Downsample setting for frequent words\n",
    "\n",
    "# Initialize and train the model (this will take some time)\n",
    "word2vec_model = Word2Vec(sentences, workers=num_workers, \\\n",
    "            size=num_features, min_count = min_word_count, \\\n",
    "            window = context, sample = downsampling, seed=1)\n",
    "\n",
    "word2vec_model.init_sims(replace=True)"
   ]
  },
  {
   "cell_type": "code",
   "execution_count": null,
   "metadata": {
    "id": "epmA8J0NfueS"
   },
   "outputs": [],
   "source": [
    "def makeFeatureVec(words, model, num_features):\n",
    "    '''Average all of the word vectors in a paragraph'''\n",
    "    featureVec = np.zeros((num_features,),dtype=\"float32\")\n",
    "    nwords = 0\n",
    "    index2word_set = set(model.wv.index2word)\n",
    "    for word in words:\n",
    "        if word in index2word_set: \n",
    "            nwords = nwords + 1\n",
    "            featureVec = np.add(featureVec,model[word])\n",
    "    featureVec = np.divide(featureVec,nwords)\n",
    "    return featureVec"
   ]
  },
  {
   "cell_type": "code",
   "execution_count": null,
   "metadata": {
    "id": "ou94Cq0RfwM9"
   },
   "outputs": [],
   "source": [
    "def getAvgFeatureVecs(reviews, model, num_features):\n",
    "    '''\n",
    "    Given a set of reviews (each one a list of words), calculate \n",
    "    the average feature vector for each one and return a 2D numpy array \n",
    "    '''\n",
    "    counter = 0\n",
    "    reviewFeatureVecs = np.zeros((len(reviews),num_features),dtype=\"float32\")\n",
    "    for review in reviews:\n",
    "        reviewFeatureVecs[counter] = makeFeatureVec(review, model, num_features)\n",
    "        counter = counter + 1\n",
    "    return reviewFeatureVecs"
   ]
  },
  {
   "cell_type": "code",
   "execution_count": null,
   "metadata": {
    "colab": {
     "base_uri": "https://localhost:8080/"
    },
    "id": "WXWSSlsVfyhw",
    "outputId": "25accbdf-c0e4-4237-a1da-024dd91507eb"
   },
   "outputs": [],
   "source": [
    "clean_train_reviews = raw_x_train.apply(preprocess, string=False)\n",
    "clean_test_reviews = raw_x_test.apply(preprocess, string=False)\n",
    "clean_train_reviews"
   ]
  },
  {
   "cell_type": "code",
   "execution_count": null,
   "metadata": {
    "colab": {
     "base_uri": "https://localhost:8080/"
    },
    "id": "BodQvhGXeaf8",
    "outputId": "0bb555ab-fc67-4ba2-b363-ddda32a6715a"
   },
   "outputs": [],
   "source": [
    "# clean_train_reviews.reset_index().to_json('/content/drive/MyDrive/clean_train_reviews.json')\n",
    "# clean_test_reviews.reset_index().to_json('/content/drive/MyDrive/clean_test_reviews.json')\n",
    "data_train = pd.read_json('/content/drive/MyDrive/clean_train_reviews.json')\n",
    "data_test = pd.read_json('/content/drive/MyDrive/clean_test_reviews.json')\n",
    "clean_train_reviews = data_train['text']\n",
    "clean_test_reviews = data_test['text']\n",
    "clean_train_reviews"
   ]
  },
  {
   "cell_type": "code",
   "execution_count": null,
   "metadata": {
    "colab": {
     "base_uri": "https://localhost:8080/"
    },
    "id": "uSjm60EDjd3s",
    "outputId": "e979c743-5f1a-4da3-8e1e-dc278bbcd140"
   },
   "outputs": [],
   "source": [
    "train_vectors = getAvgFeatureVecs(clean_train_reviews, word2vec_model, num_features)\n",
    "test_vectors = getAvgFeatureVecs(clean_test_reviews, word2vec_model, num_features)"
   ]
  },
  {
   "cell_type": "code",
   "execution_count": null,
   "metadata": {
    "id": "GMcOr5h1-dbW"
   },
   "outputs": [],
   "source": [
    "model_name = \"/content/drive/MyDrive/500features_50minwords_10context\"\n",
    "# word2vec_model.save(model_name)"
   ]
  },
  {
   "cell_type": "code",
   "execution_count": null,
   "metadata": {
    "colab": {
     "base_uri": "https://localhost:8080/"
    },
    "id": "NV4DAppzDRlJ",
    "outputId": "f8107589-fe4a-437a-ba72-3678367cc69c"
   },
   "outputs": [],
   "source": [
    "word2vec_model = Word2Vec.load(\"/content/drive/MyDrive/500features_50minwords_10context\")\n",
    "word_vectors = word2vec_model.wv.syn0"
   ]
  },
  {
   "cell_type": "code",
   "execution_count": null,
   "metadata": {
    "id": "XMvRYgaLDd_5"
   },
   "outputs": [],
   "source": [
    "from sklearn.cluster import KMeans\n",
    "\n",
    "num_clusters = int(word_vectors.shape[0] / 5)\n",
    "kmeans_clustering = KMeans(n_clusters = num_clusters)\n",
    "idx = kmeans_clustering.fit_predict(word_vectors)\n",
    "word_centroid_map = dict(zip(word2vec_model.wv.index2word, idx))"
   ]
  },
  {
   "cell_type": "code",
   "execution_count": null,
   "metadata": {
    "id": "nsSBnICLGdee"
   },
   "outputs": [],
   "source": [
    "def create_bag_of_centroids( wordlist, word_centroid_map ):\n",
    "    num_centroids = max( word_centroid_map.values() ) + 1\n",
    "    bag_of_centroids = np.zeros( num_centroids, dtype=\"float32\" )\n",
    "    for word in wordlist:\n",
    "        if word in word_centroid_map:\n",
    "            index = word_centroid_map[word]\n",
    "            bag_of_centroids[index] += 1\n",
    "    return bag_of_centroids"
   ]
  },
  {
   "cell_type": "code",
   "execution_count": null,
   "metadata": {
    "id": "IeGGXfHbHdYD"
   },
   "outputs": [],
   "source": [
    "train_centroids = np.zeros( (raw_x_test.size, num_clusters), \\\n",
    "    dtype=\"float32\" )\n",
    "test_centroids = np.zeros(( raw_y_test.size, num_clusters), \\\n",
    "    dtype=\"float32\" )"
   ]
  },
  {
   "cell_type": "code",
   "execution_count": null,
   "metadata": {
    "id": "mY-6DKMHJ_Im"
   },
   "outputs": [],
   "source": [
    "counter = 0\n",
    "for review in clean_train_reviews:\n",
    "    train_centroids[counter] = create_bag_of_centroids( review, \\\n",
    "        word_centroid_map )\n",
    "    counter += 1\n",
    "counter = 0\n",
    "for review in clean_test_reviews:\n",
    "    test_centroids[counter] = create_bag_of_centroids( review, \\\n",
    "        word_centroid_map )\n",
    "    counter += 1"
   ]
  },
  {
   "cell_type": "markdown",
   "metadata": {
    "id": "40Mde-KJhcVE"
   },
   "source": [
    "# **Pre-Trained Word2Vec**"
   ]
  },
  {
   "cell_type": "code",
   "execution_count": 12,
   "metadata": {
    "id": "UqnRJiRshkuM"
   },
   "outputs": [],
   "source": [
    "from gensim.models import KeyedVectors\n",
    "\"/content/drive/MyDrive/500features_50minwords_10context\"\n",
    "\n",
    "embed_lookup = KeyedVectors.load_word2vec_format('GoogleNews-vectors-negative300-SLIM.bin', \n",
    "                                                 binary=True)\n",
    "pretrained_words = []\n",
    "for word in embed_lookup.vocab:\n",
    "    pretrained_words.append(word)"
   ]
  },
  {
   "cell_type": "code",
   "execution_count": 13,
   "metadata": {
    "colab": {
     "base_uri": "https://localhost:8080/"
    },
    "id": "knw8tb-Uice5",
    "outputId": "8ce4dece-7e2f-491c-97f8-8c3b5eff1538"
   },
   "outputs": [
    {
     "name": "stdout",
     "output_type": "stream",
     "text": [
      "Minimum review length: 4\n",
      "Maximum review length: 1449\n",
      "Minimum review length: 3\n",
      "Maximum review length: 1191\n"
     ]
    },
    {
     "data": {
      "text/plain": [
       "collections.Counter"
      ]
     },
     "execution_count": 13,
     "metadata": {},
     "output_type": "execute_result"
    }
   ],
   "source": [
    "from collections import Counter\n",
    "import matplotlib.pyplot as plt\n",
    "\n",
    "counts = Counter(all_words)\n",
    "train_review_lens = Counter([len(x.split()) for x in x_train])\n",
    "print(\"Minimum review length: {}\".format(min(train_review_lens)))\n",
    "print(\"Maximum review length: {}\".format(max(train_review_lens)))\n",
    "test_review_lens = Counter([len(x.split()) for x in x_test])\n",
    "print(\"Minimum review length: {}\".format(min(test_review_lens)))\n",
    "print(\"Maximum review length: {}\".format(max(test_review_lens)))\n",
    "type(counts)"
   ]
  },
  {
   "cell_type": "code",
   "execution_count": 14,
   "metadata": {
    "colab": {
     "base_uri": "https://localhost:8080/",
     "height": 282
    },
    "id": "-H0PgLrtkicq",
    "outputId": "9d19ada1-b4ce-4715-fb9b-6dcddfd364a1"
   },
   "outputs": [
    {
     "data": {
      "text/plain": [
       "<BarContainer object of 590 artists>"
      ]
     },
     "execution_count": 14,
     "metadata": {},
     "output_type": "execute_result"
    },
    {
     "data": {
      "image/png": "[encoded data removed]",
      "text/plain": [
       "<Figure size 432x288 with 1 Axes>"
      ]
     },
     "metadata": {
      "needs_background": "light"
     },
     "output_type": "display_data"
    }
   ],
   "source": [
    "plt.bar(train_review_lens.keys(), train_review_lens.values())"
   ]
  },
  {
   "cell_type": "code",
   "execution_count": 15,
   "metadata": {
    "colab": {
     "base_uri": "https://localhost:8080/",
     "height": 282
    },
    "id": "k3YLT2Mjlr1t",
    "outputId": "895e2d6d-cf20-47cd-d341-1f1ae36220cb"
   },
   "outputs": [
    {
     "data": {
      "text/plain": [
       "<BarContainer object of 573 artists>"
      ]
     },
     "execution_count": 15,
     "metadata": {},
     "output_type": "execute_result"
    },
    {
     "data": {
      "image/png": "[encoded data removed]",
      "text/plain": [
       "<Figure size 432x288 with 1 Axes>"
      ]
     },
     "metadata": {
      "needs_background": "light"
     },
     "output_type": "display_data"
    }
   ],
   "source": [
    "plt.bar(test_review_lens.keys(), test_review_lens.values())"
   ]
  },
  {
   "cell_type": "code",
   "execution_count": 16,
   "metadata": {
    "colab": {
     "base_uri": "https://localhost:8080/"
    },
    "id": "r5Q5OcplhZEF",
    "outputId": "f47af2c9-0629-4fd3-c25e-7e3ab4b8868b"
   },
   "outputs": [
    {
     "name": "stdout",
     "output_type": "stream",
     "text": [
      "Number of training reviews before removing outliers:  25000\n",
      "Number of training reviews after removing outliers:  21146\n"
     ]
    }
   ],
   "source": [
    "print('Number of training reviews before removing outliers: ', len(x_train))\n",
    "idx = [ii for ii, review in enumerate(x_train) if (len(review.split()) > 0 and len(review.split()) < 200)]\n",
    "x_train_no_outliers = [x_train[ii] for ii in idx]\n",
    "train_sentiment_no_outliers = np.array([train_sentiment[ii] for ii in idx])\n",
    "print('Number of training reviews after removing outliers: ', len(x_train_no_outliers))"
   ]
  },
  {
   "cell_type": "code",
   "execution_count": 17,
   "metadata": {
    "colab": {
     "base_uri": "https://localhost:8080/"
    },
    "id": "GwokuSOljGkg",
    "outputId": "d7048a25-5b89-4f5b-ff34-42cb5455e402"
   },
   "outputs": [
    {
     "name": "stdout",
     "output_type": "stream",
     "text": [
      "Number of testing reviews before removing outliers:  25000\n",
      "Number of testing reviews after removing outliers:  21373\n"
     ]
    }
   ],
   "source": [
    "print('Number of testing reviews before removing outliers: ', len(x_test))\n",
    "idx = [ii for ii, review in enumerate(x_test) if (len(review.split()) > 0 and len(review.split()) < 200)]\n",
    "x_test_no_outliers = [x_test[ii] for ii in idx]\n",
    "test_sentiment_no_outliers = np.array([test_sentiment[ii] for ii in idx])\n",
    "print('Number of testing reviews after removing outliers: ', len(x_test_no_outliers))"
   ]
  },
  {
   "cell_type": "code",
   "execution_count": 18,
   "metadata": {
    "id": "FYljQM7qb1Z1"
   },
   "outputs": [],
   "source": [
    "def tokenize_all_reviews(embed_lookup, reviews):\n",
    "    reviews_words = [review.split() for review in reviews]\n",
    "    tokenized_reviews = []\n",
    "    for review in reviews_words:\n",
    "        ints = []\n",
    "        for word in review:\n",
    "            try:\n",
    "                idx = embed_lookup.vocab[word].index\n",
    "            except: \n",
    "                idx = 0\n",
    "            ints.append(idx)\n",
    "        tokenized_reviews.append(ints)\n",
    "    \n",
    "    return tokenized_reviews"
   ]
  },
  {
   "cell_type": "code",
   "execution_count": 19,
   "metadata": {
    "id": "KYXgTLEbb3vJ"
   },
   "outputs": [],
   "source": [
    "tokenized_reviews_train = tokenize_all_reviews(embed_lookup, x_train_no_outliers)\n",
    "tokenized_reviews_test = tokenize_all_reviews(embed_lookup, x_test_no_outliers)"
   ]
  },
  {
   "cell_type": "code",
   "execution_count": 20,
   "metadata": {
    "id": "k4jpAW4ldd7L"
   },
   "outputs": [],
   "source": [
    "def pad_features(tokenized_reviews, seq_length):\n",
    "    features = np.zeros((len(tokenized_reviews), seq_length), dtype=int)\n",
    "    for i, row in enumerate(tokenized_reviews):\n",
    "        features[i, -len(row):] = np.array(row)[:seq_length]\n",
    "    \n",
    "    return features"
   ]
  },
  {
   "cell_type": "code",
   "execution_count": 21,
   "metadata": {
    "id": "D5JopoWidrVq"
   },
   "outputs": [],
   "source": [
    "seq_length = 200\n",
    "\n",
    "train_google_features = pad_features(tokenized_reviews_train, seq_length=seq_length)\n",
    "assert len(train_google_features)==len(tokenized_reviews_train), \"Features should have as many rows as reviews.\"\n",
    "assert len(train_google_features[0])==seq_length, \"Each feature row should contain seq_length values.\"\n",
    "\n",
    "test_google_features = pad_features(tokenized_reviews_test, seq_length=seq_length)\n",
    "assert len(test_google_features)==len(tokenized_reviews_test), \"Features should have as many rows as reviews.\"\n",
    "assert len(test_google_features[0])==seq_length, \"Each feature row should contain seq_length values.\""
   ]
  },
  {
   "cell_type": "markdown",
   "metadata": {
    "id": "g2q75Prbspw6"
   },
   "source": [
    "# **Get Metrics and Plots**"
   ]
  },
  {
   "cell_type": "code",
   "execution_count": null,
   "metadata": {
    "id": "Pk1OR8cylnOI"
   },
   "outputs": [],
   "source": [
    "import matplotlib.pyplot as plt\n",
    "from sklearn.metrics import roc_curve, precision_recall_curve, accuracy_score, f1_score"
   ]
  },
  {
   "cell_type": "code",
   "execution_count": null,
   "metadata": {
    "id": "m7tDV-iAE8Bk"
   },
   "outputs": [],
   "source": [
    "def get_metrics(y_test, preds):\n",
    "    accuracy = accuracy_score(y_test, preds)\n",
    "    print('Accuracy:', accuracy)\n",
    "    f1 = f1_score(y_test, preds)\n",
    "    print('F1 Score:', f1)"
   ]
  },
  {
   "cell_type": "code",
   "execution_count": null,
   "metadata": {
    "id": "Qa_PSHyAn_Pr"
   },
   "outputs": [],
   "source": [
    "def get_plot(y_test, preds, title, file):\n",
    "    fpr, tpr, _ = roc_curve(y_test, preds)\n",
    "    plt.plot(fpr, tpr)\n",
    "    plt.title(title)\n",
    "    plt.plot([0, 1], [0, 1], color='navy', linestyle='--')\n",
    "    plt.xlabel('False Positive Rate')\n",
    "    plt.ylabel('True Positive Rate')\n",
    "    plt.savefig('plots/' + file + '.png')\n",
    "    plt.show()"
   ]
  },
  {
   "cell_type": "markdown",
   "metadata": {
    "id": "ZSzyYmtjs4g3"
   },
   "source": [
    "# **Get Results from models (Naive Bayes)**"
   ]
  },
  {
   "cell_type": "code",
   "execution_count": null,
   "metadata": {
    "id": "QJJAWB_Ls_GQ"
   },
   "outputs": [],
   "source": [
    "from sklearn.naive_bayes import GaussianNB, MultinomialNB, ComplementNB, BernoulliNB, CategoricalNB"
   ]
  },
  {
   "cell_type": "code",
   "execution_count": null,
   "metadata": {
    "colab": {
     "base_uri": "https://localhost:8080/",
     "height": 330
    },
    "id": "byby5cO4UUq8",
    "outputId": "8259430c-7abf-47a6-df02-3ad0a2a3dd26"
   },
   "outputs": [],
   "source": [
    "model = GaussianNB()\n",
    "model.fit(train_bow, train_sentiment)\n",
    "preds = model.predict(test_bow)\n",
    "get_metrics(test_sentiment, preds)\n",
    "get_plot(test_sentiment, preds, 'Gaussian Naive Bayes (with BOW)', 'gaussian_nb_bow')          "
   ]
  },
  {
   "cell_type": "code",
   "execution_count": null,
   "metadata": {
    "colab": {
     "base_uri": "https://localhost:8080/",
     "height": 330
    },
    "id": "HA3CJV-GlnOM",
    "outputId": "a6f42816-655f-4215-b7a4-cda37b3020f4"
   },
   "outputs": [],
   "source": [
    "model = GaussianNB()\n",
    "model.fit(train_tfidf.toarray(), train_sentiment)\n",
    "preds = model.predict(test_tfidf.toarray())\n",
    "get_metrics(test_sentiment, preds)\n",
    "get_plot(test_sentiment, preds, 'Gaussian Naive Bayes (with Tf-idf)', 'gaussian_nb_tfidf')        "
   ]
  },
  {
   "cell_type": "code",
   "execution_count": null,
   "metadata": {
    "colab": {
     "base_uri": "https://localhost:8080/",
     "height": 330
    },
    "id": "0ZOYbFpvaelp",
    "outputId": "bcfdcd13-404e-4131-ab9c-ec1fdd8f9ef5"
   },
   "outputs": [],
   "source": [
    "model = MultinomialNB()\n",
    "model.fit(train_bow, train_sentiment)\n",
    "preds = model.predict(test_bow)\n",
    "get_metrics(test_sentiment, preds)\n",
    "get_plot(test_sentiment, preds, 'Multinomial Naive Bayes (with BOW)', 'multinomial_nb_bow')"
   ]
  },
  {
   "cell_type": "code",
   "execution_count": null,
   "metadata": {
    "colab": {
     "base_uri": "https://localhost:8080/",
     "height": 330
    },
    "id": "ixu3GLQwlnOM",
    "outputId": "248a4014-d203-4001-ac84-8bbe68b7a1df"
   },
   "outputs": [],
   "source": [
    "model = MultinomialNB()\n",
    "model.fit(train_tfidf.toarray(), train_sentiment)\n",
    "preds = model.predict(test_tfidf.toarray())\n",
    "get_metrics(test_sentiment, preds)\n",
    "get_plot(test_sentiment, preds, 'Multinomial Naive Bayes (with Tf-idf)', 'multinomial_nb_tfidf')"
   ]
  },
  {
   "cell_type": "code",
   "execution_count": null,
   "metadata": {
    "id": "_Twi5Hb3ae5A"
   },
   "outputs": [],
   "source": [
    "model = BernoulliNB()\n",
    "model.fit(train_bow, train_sentiment)\n",
    "preds = model.predict(test_bow)\n",
    "get_metrics(test_sentiment, preds)\n",
    "get_plot(test_sentiment, preds, 'Bernoulli Naive Bayes (with BOW)', 'bernoulli_nb_bow')"
   ]
  },
  {
   "cell_type": "code",
   "execution_count": null,
   "metadata": {
    "colab": {
     "base_uri": "https://localhost:8080/",
     "height": 330
    },
    "id": "cKQwbNZClnOO",
    "outputId": "b2d529d0-e2f9-4366-ca20-8211b5a17112"
   },
   "outputs": [],
   "source": [
    "model = BernoulliNB()\n",
    "model.fit(train_tfidf.toarray(), train_sentiment)\n",
    "preds = model.predict(test_tfidf.toarray())et_metrics(test_sentiment, preds)\n",
    "get_plot(test_sentiment, preds, 'Bernoulli Naive Bayes (with Tf-idf)', 'bernoulli_nb_tfidf')"
   ]
  },
  {
   "cell_type": "code",
   "execution_count": null,
   "metadata": {
    "colab": {
     "base_uri": "https://localhost:8080/"
    },
    "id": "ghfj9fG36ARb",
    "outputId": "1ec60cf6-7e69-4db6-f776-f7bbe95fa91a"
   },
   "outputs": [],
   "source": [
    "model = BernoulliNB()\n",
    "model.fit(train_vectors, train_sentiment)\n",
    "preds = model.predict(test_vectors)\n",
    "get_metrics(test_sentiment, preds)\n",
    "# get_plot(test_sentiment, preds, 'Bernoulli Naive Bayes (with Word2Vec)', 'bernoulli_nb_word2vec')"
   ]
  },
  {
   "cell_type": "code",
   "execution_count": null,
   "metadata": {
    "colab": {
     "base_uri": "https://localhost:8080/"
    },
    "id": "vHO8zA1LG3ek",
    "outputId": "51c63790-895e-440f-cb2a-dfedcf3754d0"
   },
   "outputs": [],
   "source": [
    "model = BernoulliNB()\n",
    "model.fit(train_centroids, train_sentiment)\n",
    "preds = model.predict(test_centroids)\n",
    "get_metrics(test_sentiment, preds)"
   ]
  },
  {
   "cell_type": "markdown",
   "metadata": {
    "id": "bwctJOIHswXo"
   },
   "source": [
    "# **Get Results from models (Decision Trees and Random Forest)**"
   ]
  },
  {
   "cell_type": "code",
   "execution_count": null,
   "metadata": {
    "id": "GbhcAJYaHyXK"
   },
   "outputs": [],
   "source": [
    "from sklearn.tree import DecisionTreeClassifier\n",
    "from sklearn.ensemble import RandomForestClassifier"
   ]
  },
  {
   "cell_type": "code",
   "execution_count": null,
   "metadata": {
    "colab": {
     "base_uri": "https://localhost:8080/",
     "height": 330
    },
    "id": "S9GcdwZIGZvn",
    "outputId": "312d1e18-40d5-47e3-a985-ba0640c69f8c"
   },
   "outputs": [],
   "source": [
    "model = DecisionTreeClassifier(random_state=4248)\n",
    "model.fit(train_bow, train_sentiment)\n",
    "preds = model.predict(test_bow)\n",
    "get_metrics(test_sentiment, preds)\n",
    "get_plot(test_sentiment, preds, 'Decision Tree (with BOW)', 'decision_tree_bow')"
   ]
  },
  {
   "cell_type": "code",
   "execution_count": null,
   "metadata": {
    "colab": {
     "base_uri": "https://localhost:8080/",
     "height": 330
    },
    "id": "qtO6ULAjlnOK",
    "outputId": "123d08db-103e-4c6e-930b-7153625898af"
   },
   "outputs": [],
   "source": [
    "model = DecisionTreeClassifier(random_state=4248)\n",
    "model.fit(train_tfidf.toarray(), train_sentiment)\n",
    "preds = model.predict(test_tfidf.toarray())\n",
    "get_metrics(test_sentiment, preds)\n",
    "get_plot(test_sentiment, preds, 'Decision Tree (with Tf-idf)', 'decision_tree_tfidf')"
   ]
  },
  {
   "cell_type": "code",
   "execution_count": null,
   "metadata": {
    "colab": {
     "base_uri": "https://localhost:8080/",
     "height": 330
    },
    "id": "qHl_4IzyYqe2",
    "outputId": "720862cd-079d-46b6-80bc-61fa4bed434d"
   },
   "outputs": [],
   "source": [
    "model = RandomForestClassifier(random_state=4248)\n",
    "model.fit(train_bow, train_sentiment)\n",
    "preds = model.predict(test_bow)\n",
    "get_metrics(test_sentiment, preds)\n",
    "get_plot(test_sentiment, preds, 'Random Forest (with BOW)', 'random_forest_bow')       "
   ]
  },
  {
   "cell_type": "code",
   "execution_count": null,
   "metadata": {
    "colab": {
     "base_uri": "https://localhost:8080/",
     "height": 330
    },
    "id": "Cl63xA1AlnOL",
    "outputId": "d2574079-00ee-4468-d138-f9d4d5e5d5f7"
   },
   "outputs": [],
   "source": [
    "model = RandomForestClassifier(random_state=4248)\n",
    "model.fit(train_tfidf.toarray(), train_sentiment)\n",
    "preds = model.predict(test_tfidf.toarray())\n",
    "get_metrics(test_sentiment, preds)\n",
    "get_plot(test_sentiment, preds, 'Random Forest (with Tf-idf)', 'random_forest_tfidf')        "
   ]
  },
  {
   "cell_type": "markdown",
   "metadata": {
    "id": "gtQUJ36EiRC7"
   },
   "source": [
    "# **Get Results from models (Linear)**"
   ]
  },
  {
   "cell_type": "code",
   "execution_count": null,
   "metadata": {
    "id": "vW1hRXuAicNi"
   },
   "outputs": [],
   "source": [
    "from sklearn.linear_model import LogisticRegression, PassiveAggressiveClassifier, Perceptron, RidgeClassifier, SGDClassifier, SGDOneClassSVM"
   ]
  },
  {
   "cell_type": "code",
   "execution_count": null,
   "metadata": {
    "colab": {
     "base_uri": "https://localhost:8080/"
    },
    "id": "DcqM1fvSV_Uh",
    "outputId": "896cf8dd-71ff-4c62-8337-bd7f75a8d045"
   },
   "outputs": [],
   "source": [
    "model = LogisticRegression(random_state=4248, max_iter=4248)\n",
    "model.fit(train_bow, train_sentiment)\n",
    "preds = model.predict(test_bow)\n",
    "get_metrics(test_sentiment, preds)\n",
    "get_plot(test_sentiment, preds, 'Logistic Regression (with BOW)', 'logistic_regression_bow')          "
   ]
  },
  {
   "cell_type": "code",
   "execution_count": null,
   "metadata": {
    "colab": {
     "base_uri": "https://localhost:8080/"
    },
    "id": "CPOuqlyiYY4s",
    "outputId": "4e27151b-10e0-40bb-c23e-aea9723a136c"
   },
   "outputs": [],
   "source": [
    "model = LogisticRegression(random_state=4248, max_iter=4248)\n",
    "model.fit(train_tfidf, train_sentiment)\n",
    "preds = model.predict(test_tfidf)\n",
    "get_metrics(test_sentiment, preds)\n",
    "get_plot(test_sentiment, preds, 'Logistic Regression (with Tf-idf)', 'logistic_regression_tfidf')          "
   ]
  },
  {
   "cell_type": "code",
   "execution_count": null,
   "metadata": {
    "colab": {
     "base_uri": "https://localhost:8080/",
     "height": 658
    },
    "id": "VsBCFHByKkQC",
    "outputId": "ad72c7eb-6345-4979-f557-fa80632a67e9"
   },
   "outputs": [],
   "source": [
    "model = LogisticRegression(random_state=4248, max_iter=4248)\n",
    "model.fit(train_centroids, train_sentiment)\n",
    "preds = model.predict(test_centroids)\n",
    "get_metrics(test_sentiment, preds)\n",
    "get_plot(test_sentiment, preds, 'Logistic Regression (with Centroids)', 'logistic_regression_centroids') "
   ]
  },
  {
   "cell_type": "code",
   "execution_count": null,
   "metadata": {
    "colab": {
     "base_uri": "https://localhost:8080/"
    },
    "id": "EeXW62-wYqG1",
    "outputId": "42d04544-bc14-427b-cb26-30584a793663"
   },
   "outputs": [],
   "source": [
    "model = PassiveAggressiveClassifier(random_state=4248, max_iter=4248)\n",
    "model.fit(train_bow, train_sentiment)\n",
    "preds = model.predict(test_bow)\n",
    "get_metrics(test_sentiment, preds)\n",
    "get_plot(test_sentiment, preds, 'Passive Agressive (with BOW)', 'passive_aggressive_bow')  "
   ]
  },
  {
   "cell_type": "code",
   "execution_count": null,
   "metadata": {
    "colab": {
     "base_uri": "https://localhost:8080/"
    },
    "id": "YkVDEFI6ZTl9",
    "outputId": "30c15460-c6e7-430c-b910-ab4117082c91"
   },
   "outputs": [],
   "source": [
    "model = PassiveAggressiveClassifier(random_state=4248, max_iter=4248)\n",
    "model.fit(train_tfidf, train_sentiment)\n",
    "preds = model.predict(test_tfidf)\n",
    "get_metrics(test_sentiment, preds)\n",
    "get_plot(test_sentiment, preds, 'Passive Agressive (with Tf-idf)', 'passive_aggressive_tfidf') "
   ]
  },
  {
   "cell_type": "code",
   "execution_count": null,
   "metadata": {
    "colab": {
     "base_uri": "https://localhost:8080/"
    },
    "id": "ATFDILtkYslW",
    "outputId": "d19ca68c-6b24-4760-a885-e9c64b96cdeb"
   },
   "outputs": [],
   "source": [
    "model = Perceptron(random_state=4248, max_iter=4248)\n",
    "model.fit(train_bow, train_sentiment)\n",
    "preds = model.predict(test_bow)\n",
    "get_metrics(test_sentiment, preds)\n",
    "get_plot(test_sentiment, preds, 'Perceptron (with BOW)', 'perceptron_bow')  "
   ]
  },
  {
   "cell_type": "code",
   "execution_count": null,
   "metadata": {
    "colab": {
     "base_uri": "https://localhost:8080/"
    },
    "id": "Giu4_-eCZUaq",
    "outputId": "cc9d4363-14bb-4267-f3a8-f2903123f502"
   },
   "outputs": [],
   "source": [
    "model = Perceptron(random_state=4248, max_iter=4248)\n",
    "model.fit(train_tfidf, train_sentiment)\n",
    "preds = model.predict(test_tfidf)\n",
    "get_metrics(test_sentiment, preds)\n",
    "get_plot(test_sentiment, preds, 'Perceptron (with Tf-idf)', 'perceptron_tfidf') "
   ]
  },
  {
   "cell_type": "code",
   "execution_count": null,
   "metadata": {
    "colab": {
     "base_uri": "https://localhost:8080/"
    },
    "id": "K3ZbXbEPYtFC",
    "outputId": "b07593d0-7599-4cf1-b128-38f7859d32c7"
   },
   "outputs": [],
   "source": [
    "model = RidgeClassifier(random_state=4248, max_iter=4248)\n",
    "model.fit(train_bow, train_sentiment)\n",
    "preds = model.predict(test_bow)\n",
    "get_metrics(test_sentiment, preds)\n",
    "get_plot(test_sentiment, preds, 'Ridge Classifier (with BOW)', 'ridge_classifier_bow')  "
   ]
  },
  {
   "cell_type": "code",
   "execution_count": null,
   "metadata": {
    "colab": {
     "base_uri": "https://localhost:8080/"
    },
    "id": "D6vepmhMZU-M",
    "outputId": "783d19ac-4c6f-40e0-a4e1-7cefb24a2220"
   },
   "outputs": [],
   "source": [
    "model = RidgeClassifier(random_state=4248, max_iter=4248)\n",
    "model.fit(train_tfidf, train_sentiment)\n",
    "preds = model.predict(test_tfidf)\n",
    "get_metrics(test_sentiment, preds)\n",
    "get_plot(test_sentiment, preds, 'Ridge Classifier (with Tf-idf)', 'ridge_classifier_tfidf') "
   ]
  },
  {
   "cell_type": "code",
   "execution_count": null,
   "metadata": {
    "colab": {
     "base_uri": "https://localhost:8080/"
    },
    "id": "tgMz4ZG-Ytf1",
    "outputId": "7d7ba426-4b7a-49bc-8d92-cea5e79694cd"
   },
   "outputs": [],
   "source": [
    "model = SGDClassifier(random_state=4248, max_iter=4248)\n",
    "model.fit(train_bow, train_sentiment)\n",
    "preds = model.predict(test_bow)\n",
    "get_metrics(test_sentiment, preds)\n",
    "get_plot(test_sentiment, preds, 'SGD Classifier (with BOW)', 'sgd_classifier_bow')  "
   ]
  },
  {
   "cell_type": "code",
   "execution_count": null,
   "metadata": {
    "colab": {
     "base_uri": "https://localhost:8080/"
    },
    "id": "e0-NlonbZVe5",
    "outputId": "8cc8f2de-4e3d-4732-e7f2-0968aa9dfa53"
   },
   "outputs": [],
   "source": [
    "model = SGDClassifier(random_state=4248, max_iter=4248)\n",
    "model.fit(train_tfidf, train_sentiment)\n",
    "preds = model.predict(test_tfidf)\n",
    "get_metrics(test_sentiment, preds)\n",
    "get_plot(test_sentiment, preds, 'SGD Classifier (with Tf-idf)', 'sgd_classifier_tfidf') "
   ]
  },
  {
   "cell_type": "markdown",
   "metadata": {
    "id": "R2waCO9MaD3q"
   },
   "source": [
    "# **Get Results from models (NN)**"
   ]
  },
  {
   "cell_type": "code",
   "execution_count": null,
   "metadata": {
    "id": "HMI6upY6aHy0"
   },
   "outputs": [],
   "source": [
    "from sklearn.neural_network import MLPClassifier"
   ]
  },
  {
   "cell_type": "code",
   "execution_count": null,
   "metadata": {
    "colab": {
     "base_uri": "https://localhost:8080/"
    },
    "id": "6KzZ9AnIadlo",
    "outputId": "057f3c92-ae2e-4f70-f0cb-339bb98adcf9"
   },
   "outputs": [],
   "source": [
    "model = MLPClassifier(random_state=4248, max_iter=4248)\n",
    "model.fit(train_bow, train_sentiment)\n",
    "preds = model.predict(test_bow)\n",
    "get_metrics(test_sentiment, preds)\n",
    "get_plot(test_sentiment, preds, 'Multi-layer Perceptron (with BOW)', 'multi_layer_perceptron_bow')          "
   ]
  },
  {
   "cell_type": "code",
   "execution_count": null,
   "metadata": {
    "colab": {
     "base_uri": "https://localhost:8080/"
    },
    "id": "0Ax6us4zambh",
    "outputId": "f63cc647-a134-44dd-e12d-cc8047daa1bc"
   },
   "outputs": [],
   "source": [
    "model = MLPClassifier(random_state=4248, max_iter=4248)\n",
    "model.fit(train_tfidf, train_sentiment)\n",
    "preds = model.predict(test_tfidf)\n",
    "get_metrics(test_sentiment, preds)\n",
    "get_plot(test_sentiment, preds, 'Multi-layer Perceptron (with Tf-idf)', 'multi_layer_perceptron_tfidf')"
   ]
  },
  {
   "cell_type": "code",
   "execution_count": 22,
   "metadata": {
    "id": "H068Bx8XDp7X"
   },
   "outputs": [],
   "source": [
    "from sklearn.model_selection import train_test_split\n",
    "train_google_features, val_google_features, train_sentiment_no_outliers, val_sentiment_no_outliers = train_test_split(\n",
    "                                          train_google_features, train_sentiment_no_outliers, test_size=0.2, random_state=4248)"
   ]
  },
  {
   "cell_type": "code",
   "execution_count": 23,
   "metadata": {
    "id": "-uofOihuf043"
   },
   "outputs": [],
   "source": [
    "import torch\n",
    "from torch.utils.data import TensorDataset, DataLoader\n",
    "\n",
    "torch.cuda.empty_cache()\n",
    "\n",
    "train_data = TensorDataset(torch.from_numpy(train_google_features), torch.from_numpy(train_sentiment_no_outliers))\n",
    "val_data = TensorDataset(torch.from_numpy(val_google_features), torch.from_numpy(val_sentiment_no_outliers))\n",
    "test_data = TensorDataset(torch.from_numpy(test_google_features), torch.from_numpy(test_sentiment_no_outliers))\n",
    "\n",
    "batch_size = 50\n",
    "train_loader = DataLoader(train_data, shuffle=True, batch_size=batch_size)\n",
    "val_loader = DataLoader(val_data, shuffle=True, batch_size=batch_size)\n",
    "test_loader = DataLoader(test_data, shuffle=True, batch_size=batch_size)"
   ]
  },
  {
   "cell_type": "code",
   "execution_count": 24,
   "metadata": {
    "id": "lz7KSz7EFPAw"
   },
   "outputs": [],
   "source": [
    "import torch.nn as nn\n",
    "import torch.nn.functional as F\n",
    "\n",
    "class SentimentCNN(nn.Module):\n",
    "    def __init__(self, embed_model, vocab_size, output_size, embedding_dim,\n",
    "                 num_filters=100, kernel_sizes=[3, 4, 5], freeze_embeddings=True, drop_prob=0.5):\n",
    "        super(SentimentCNN, self).__init__()\n",
    "        self.num_filters = num_filters\n",
    "        self.embedding_dim = embedding_dim\n",
    "        self.embedding = nn.Embedding(vocab_size, embedding_dim)\n",
    "        self.embedding.weight = nn.Parameter(torch.from_numpy(embed_model.vectors)) # all vectors\n",
    "        \n",
    "        if freeze_embeddings:\n",
    "            self.embedding.requires_grad = False\n",
    "        \n",
    "        self.convs_1d = nn.ModuleList([\n",
    "            nn.Conv2d(1, num_filters, (k, embedding_dim), padding=(k-2,0)) \n",
    "            for k in kernel_sizes])\n",
    "        \n",
    "        self.fc = nn.Linear(len(kernel_sizes) * num_filters, output_size) \n",
    "        self.dropout = nn.Dropout(drop_prob)\n",
    "        self.sig = nn.Sigmoid()\n",
    "        \n",
    "    \n",
    "    def conv_and_pool(self, x, conv):\n",
    "        x = F.relu(conv(x)).squeeze(3)\n",
    "        x_max = F.max_pool1d(x, x.size(2)).squeeze(2)\n",
    "        return x_max\n",
    "\n",
    "    def forward(self, x):\n",
    "        embeds = self.embedding(x) \n",
    "        embeds = embeds.unsqueeze(1)\n",
    "        conv_results = [self.conv_and_pool(embeds, conv) for conv in self.convs_1d]\n",
    "        x = torch.cat(conv_results, 1)\n",
    "        x = self.dropout(x)\n",
    "        logit = self.fc(x) \n",
    "        return self.sig(logit)"
   ]
  },
  {
   "cell_type": "code",
   "execution_count": 25,
   "metadata": {
    "colab": {
     "base_uri": "https://localhost:8080/"
    },
    "id": "DyaKu6HfF3gz",
    "outputId": "2282d077-3423-466f-c78a-c678d8face2b"
   },
   "outputs": [
    {
     "data": {
      "text/plain": [
       "SentimentCNN(\n",
       "  (embedding): Embedding(299567, 300)\n",
       "  (convs_1d): ModuleList(\n",
       "    (0): Conv2d(1, 100, kernel_size=(3, 300), stride=(1, 1), padding=(1, 0))\n",
       "    (1): Conv2d(1, 100, kernel_size=(4, 300), stride=(1, 1), padding=(2, 0))\n",
       "    (2): Conv2d(1, 100, kernel_size=(5, 300), stride=(1, 1), padding=(3, 0))\n",
       "  )\n",
       "  (fc): Linear(in_features=300, out_features=1, bias=True)\n",
       "  (dropout): Dropout(p=0.5, inplace=False)\n",
       "  (sig): Sigmoid()\n",
       ")"
      ]
     },
     "execution_count": 25,
     "metadata": {},
     "output_type": "execute_result"
    }
   ],
   "source": [
    "vocab_size = len(pretrained_words)\n",
    "output_size = 1 \n",
    "embedding_dim = len(embed_lookup[pretrained_words[0]]) \n",
    "num_filters = 100\n",
    "kernel_sizes = [3, 4, 5]\n",
    "\n",
    "net = SentimentCNN(embed_lookup, vocab_size, output_size, embedding_dim,\n",
    "                   num_filters, kernel_sizes)\n",
    "net"
   ]
  },
  {
   "cell_type": "code",
   "execution_count": 27,
   "metadata": {
    "id": "R1CLRwmtGFSl"
   },
   "outputs": [],
   "source": [
    "lr=0.001\n",
    "criterion = nn.BCELoss()\n",
    "optimizer = torch.optim.Adam(net.parameters(), lr=lr)"
   ]
  },
  {
   "cell_type": "code",
   "execution_count": 28,
   "metadata": {
    "id": "YzVI4-ZvGKZ9"
   },
   "outputs": [],
   "source": [
    "def train(net, train_loader, epochs, print_every=100):\n",
    "    net.cuda()\n",
    "    counter = 0 \n",
    "    net.train()\n",
    "\n",
    "    for e in range(epochs):\n",
    "        for inputs, labels in train_loader:\n",
    "            counter += 1\n",
    "            inputs, labels = inputs.cuda(), labels.cuda()\n",
    "            net.zero_grad()\n",
    "            output = net(inputs)\n",
    "            loss = criterion(output.squeeze(), labels.float())\n",
    "            loss.backward()\n",
    "            optimizer.step()\n",
    "\n",
    "            if counter % print_every == 0:\n",
    "                val_losses = []\n",
    "                net.eval()\n",
    "\n",
    "                for inputs, labels in val_loader:\n",
    "                    inputs, labels = inputs.cuda(), labels.cuda()\n",
    "                    output = net(inputs)\n",
    "                    val_loss = criterion(output.squeeze(), labels.float())\n",
    "                    val_losses.append(val_loss.item())\n",
    "                    \n",
    "                net.train()\n",
    "                print(\"Epoch: {}/{}...\".format(e+1, epochs),\n",
    "                      \"Step: {}...\".format(counter),\n",
    "                      \"Loss: {:.6f}...\".format(loss.item()),\n",
    "                      \"Val Loss: {:.6f}\".format(np.mean(val_losses)))"
   ]
  },
  {
   "cell_type": "code",
   "execution_count": 29,
   "metadata": {
    "colab": {
     "base_uri": "https://localhost:8080/",
     "height": 345
    },
    "id": "s0SxryW1Gios",
    "outputId": "67b61c61-4ab7-4cb3-eecd-fc05b2210280"
   },
   "outputs": [
    {
     "name": "stdout",
     "output_type": "stream",
     "text": [
      "Epoch: 1/4... Step: 100... Loss: -8.504826... Val Loss: -6.437160\n",
      "Epoch: 1/4... Step: 200... Loss: -11.942618... Val Loss: -13.192592\n",
      "Epoch: 1/4... Step: 300... Loss: -17.428617... Val Loss: -13.438613\n",
      "Epoch: 2/4... Step: 400... Loss: -20.868086... Val Loss: -16.135319\n",
      "Epoch: 2/4... Step: 500... Loss: -18.252964... Val Loss: -17.130573\n",
      "Epoch: 2/4... Step: 600... Loss: -11.983171... Val Loss: -19.740012\n",
      "Epoch: 3/4... Step: 700... Loss: -29.794590... Val Loss: -18.037897\n",
      "Epoch: 3/4... Step: 800... Loss: -31.435034... Val Loss: -19.954795\n",
      "Epoch: 3/4... Step: 900... Loss: -26.271376... Val Loss: -21.188526\n",
      "Epoch: 3/4... Step: 1000... Loss: -39.483852... Val Loss: -21.129618\n",
      "Epoch: 4/4... Step: 1100... Loss: -26.058353... Val Loss: -21.361769\n",
      "Epoch: 4/4... Step: 1200... Loss: -33.342266... Val Loss: -22.228879\n",
      "Epoch: 4/4... Step: 1300... Loss: -39.331150... Val Loss: -24.081287\n"
     ]
    }
   ],
   "source": [
    "epochs = 4\n",
    "print_every = 100\n",
    "train(net, train_loader, epochs, print_every=print_every)"
   ]
  },
  {
   "cell_type": "code",
   "execution_count": 31,
   "metadata": {
    "id": "QS9z4C3vG5zO"
   },
   "outputs": [
    {
     "name": "stdout",
     "output_type": "stream",
     "text": [
      "Test loss: -23.835\n",
      "Test accuracy: 0.311\n"
     ]
    }
   ],
   "source": [
    "test_losses = []\n",
    "num_correct = 0\n",
    "net.eval()\n",
    "\n",
    "for inputs, labels in test_loader:\n",
    "    inputs, labels = inputs.cuda(), labels.cuda()\n",
    "    output = net(inputs)\n",
    "    \n",
    "    test_loss = criterion(output.squeeze(), labels.float())\n",
    "    test_losses.append(test_loss.item())\n",
    "    pred = torch.round(output.squeeze())\n",
    "    \n",
    "    correct_tensor = pred.eq(labels.float().view_as(pred))\n",
    "    correct = np.squeeze(correct_tensor.cpu().numpy())\n",
    "    num_correct += np.sum(correct)\n",
    "\n",
    "print(\"Test loss: {:.3f}\".format(np.mean(test_losses)))\n",
    "test_acc = num_correct/len(test_loader.dataset)\n",
    "print(\"Test accuracy: {:.3f}\".format(test_acc))"
   ]
  },
  {
   "cell_type": "markdown",
   "metadata": {
    "id": "kwyz288scKZP"
   },
   "source": [
    "# **Artificial Movie Review Generation**"
   ]
  }
 ],
 "metadata": {
  "colab": {
   "collapsed_sections": [
    "Zx08kgSLl3V3",
    "877tk50UsYBa",
    "6P4MiIXqbJzy",
    "g2q75Prbspw6",
    "ZSzyYmtjs4g3",
    "bwctJOIHswXo",
    "gtQUJ36EiRC7"
   ],
   "name": "Fatin.ipynb",
   "provenance": []
  },
  "kernelspec": {
   "display_name": "Python 3 (ipykernel)",
   "language": "python",
   "name": "python3"
  },
  "language_info": {
   "codemirror_mode": {
    "name": "ipython",
    "version": 3
   },
   "file_extension": ".py",
   "mimetype": "text/x-python",
   "name": "python",
   "nbconvert_exporter": "python",
   "pygments_lexer": "ipython3",
   "version": "3.9.0"
  }
 },
 "nbformat": 4,
 "nbformat_minor": 1
}
