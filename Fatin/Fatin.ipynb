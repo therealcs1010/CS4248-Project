{
  "cells": [
    {
      "cell_type": "markdown",
      "metadata": {
        "id": "view-in-github",
        "colab_type": "text"
      },
      "source": [
        "<a href=\"https://colab.research.google.com/github/therealcs1010/CS4248-Project/blob/main/Fatin/Fatin.ipynb\" target=\"_parent\"><img src=\"https://colab.research.google.com/assets/colab-badge.svg\" alt=\"Open In Colab\"/></a>"
      ]
    },
    {
      "cell_type": "markdown",
      "metadata": {
        "id": "Zx08kgSLl3V3"
      },
      "source": [
        "# **Get Data and Preprocess**"
      ]
    },
    {
      "cell_type": "code",
      "execution_count": 8,
      "metadata": {
        "colab": {
          "base_uri": "https://localhost:8080/"
        },
        "id": "Cv-T2Mki-vKV",
        "outputId": "1ea1cfe9-707e-4d52-895e-e9bf453bf897"
      },
      "outputs": [
        {
          "output_type": "stream",
          "name": "stdout",
          "text": [
            "[nltk_data] Downloading package stopwords to /root/nltk_data...\n",
            "[nltk_data]   Package stopwords is already up-to-date!\n",
            "[nltk_data] Downloading package wordnet to /root/nltk_data...\n",
            "[nltk_data]   Package wordnet is already up-to-date!\n"
          ]
        }
      ],
      "source": [
        "import re\n",
        "import nltk\n",
        "nltk.download('stopwords')\n",
        "nltk.download('wordnet')\n",
        "from nltk.corpus import stopwords\n",
        "from nltk.stem import WordNetLemmatizer"
      ]
    },
    {
      "cell_type": "code",
      "execution_count": 9,
      "metadata": {
        "id": "epLtxSYgAfFW"
      },
      "outputs": [],
      "source": [
        "def preprocess(text):\n",
        "    text = re.sub('[^A-Za-z0-9 ]+', '', text)\n",
        "    text = text.lower()\n",
        "    words = text.split()\n",
        "    words = [w for w in words if not w in set(stopwords.words(\"english\"))]\n",
        "    words = [WordNetLemmatizer().lemmatize(word) for word in words]\n",
        "    return \" \".join(words)"
      ]
    },
    {
      "cell_type": "code",
      "execution_count": 10,
      "metadata": {
        "id": "PKjdEL8SmDu_"
      },
      "outputs": [],
      "source": [
        "def get_data(file):\n",
        "    data = pd.read_json(file)\n",
        "    x_data = data['text'].apply(preprocess)\n",
        "    y_data = data['label']\n",
        "    return x_data, y_data"
      ]
    },
    {
      "cell_type": "code",
      "execution_count": 11,
      "metadata": {
        "colab": {
          "base_uri": "https://localhost:8080/"
        },
        "id": "ezFXtvchB1MC",
        "outputId": "6905c965-28fe-4f2d-fe29-12ed9c719144"
      },
      "outputs": [
        {
          "output_type": "stream",
          "name": "stdout",
          "text": [
            "Mounted at /content/drive\n"
          ]
        }
      ],
      "source": [
        "from google.colab import drive\n",
        "drive.mount('/content/drive', force_remount=True)\n",
        "import pandas as pd\n",
        "import numpy as np"
      ]
    },
    {
      "cell_type": "code",
      "execution_count": 12,
      "metadata": {
        "id": "ePmDJ_epAjpX"
      },
      "outputs": [],
      "source": [
        "# x_train, y_train = get_data('/content/drive/MyDrive/train.json')\n",
        "# x_test, y_test = get_data('/content/drive/MyDrive/test.json')"
      ]
    },
    {
      "cell_type": "code",
      "execution_count": 13,
      "metadata": {
        "colab": {
          "base_uri": "https://localhost:8080/"
        },
        "id": "LdQGL1n7q-C5",
        "outputId": "15210005-e707-43be-8341-adae365f5ce4"
      },
      "outputs": [
        {
          "output_type": "execute_result",
          "data": {
            "text/plain": [
              "0        bromwell high cartoon comedy ran time program ...\n",
              "1        homelessness houselessness george carlin state...\n",
              "2        brilliant overacting lesley ann warren best dr...\n",
              "3        easily underrated film inn brook cannon sure f...\n",
              "4        typical mel brook film much le slapstick movie...\n",
              "                               ...                        \n",
              "24995    towards end movie felt technical felt like cla...\n",
              "24996    kind movie enemy content watch time bloody tru...\n",
              "24997    saw descent last night stockholm film festival...\n",
              "24998    film pick pound turn rather good 23rd century ...\n",
              "24999    one dumbest film ive ever seen rip nearly ever...\n",
              "Name: text, Length: 25000, dtype: object"
            ]
          },
          "metadata": {},
          "execution_count": 13
        }
      ],
      "source": [
        "# x_train.to_csv('data/x_train.csv')\n",
        "# x_test.to_csv('data/x_test.csv')\n",
        "x_train = pd.read_csv('/content/drive/MyDrive/x_train.csv', index_col=False, header=0)['text']\n",
        "x_test = pd.read_csv('/content/drive/MyDrive/x_test.csv', index_col=False, header=0)['text']\n",
        "x_train"
      ]
    },
    {
      "cell_type": "code",
      "execution_count": 14,
      "metadata": {
        "colab": {
          "base_uri": "https://localhost:8080/"
        },
        "id": "r9XnhQM7rRo8",
        "outputId": "cb275b44-7a86-4995-fd57-bf10dcad5f77"
      },
      "outputs": [
        {
          "output_type": "execute_result",
          "data": {
            "text/plain": [
              "array(['+', '-'], dtype=object)"
            ]
          },
          "metadata": {},
          "execution_count": 14
        }
      ],
      "source": [
        "# y_train.to_csv('data/y_train.csv')\n",
        "# y_test.to_csv('data/y_test.csv')\n",
        "y_train = pd.read_csv('/content/drive/MyDrive/y_train.csv', index_col=False, header=0)['label']\n",
        "y_test = pd.read_csv('/content/drive/MyDrive/y_test.csv', index_col=False, header=0)['label']\n",
        "y_train.unique()"
      ]
    },
    {
      "cell_type": "code",
      "execution_count": 15,
      "metadata": {
        "colab": {
          "base_uri": "https://localhost:8080/"
        },
        "id": "wlVWmMmsKDKG",
        "outputId": "6a101657-22d3-4bbf-abfd-ca430eef76e1"
      },
      "outputs": [
        {
          "output_type": "execute_result",
          "data": {
            "text/plain": [
              "0        1\n",
              "1        1\n",
              "2        1\n",
              "3        1\n",
              "4        1\n",
              "        ..\n",
              "24995   -1\n",
              "24996   -1\n",
              "24997   -1\n",
              "24998   -1\n",
              "24999   -1\n",
              "Name: label, Length: 25000, dtype: int64"
            ]
          },
          "metadata": {},
          "execution_count": 15
        }
      ],
      "source": [
        "mapping = {'+': 1, '-': -1}\n",
        "train_sentiment = y_train.replace(mapping)\n",
        "test_sentiment = y_test.replace(mapping)\n",
        "train_sentiment"
      ]
    },
    {
      "cell_type": "markdown",
      "metadata": {
        "id": "GMlRBnJj4mfP"
      },
      "source": [
        "# **Get Vocabulary**"
      ]
    },
    {
      "cell_type": "code",
      "execution_count": 16,
      "metadata": {
        "colab": {
          "base_uri": "https://localhost:8080/"
        },
        "id": "N96g_Tyoe6Xu",
        "outputId": "7370e740-baf6-4c62-8150-ea8496c4ec4d"
      },
      "outputs": [
        {
          "output_type": "stream",
          "name": "stdout",
          "text": [
            "[nltk_data] Downloading package punkt to /root/nltk_data...\n",
            "[nltk_data]   Unzipping tokenizers/punkt.zip.\n"
          ]
        }
      ],
      "source": [
        "nltk.download('punkt')   \n",
        "tokenizer = nltk.data.load('tokenizers/punkt/english.pickle')"
      ]
    },
    {
      "cell_type": "code",
      "execution_count": 17,
      "metadata": {
        "id": "xWxJiSX9fBNo"
      },
      "outputs": [],
      "source": [
        "def get_sentences( review, tokenizer):\n",
        "    raw_sentences = tokenizer.tokenize(review.strip())\n",
        "    sentences = []\n",
        "    for raw_sentence in raw_sentences:\n",
        "        if len(raw_sentence) > 0:\n",
        "            words = preprocess(raw_sentence, string=False)\n",
        "            sentences.append(words)\n",
        "    return sentences"
      ]
    },
    {
      "cell_type": "code",
      "execution_count": 18,
      "metadata": {
        "id": "fbv8GHQIhgBE"
      },
      "outputs": [],
      "source": [
        "data = pd.read_json('/content/drive/MyDrive/train.json')\n",
        "raw_x_train = data['text']\n",
        "raw_y_train = data['label']\n",
        "data = pd.read_json('/content/drive/MyDrive/test.json')\n",
        "raw_x_test = data['text']\n",
        "raw_y_test = data['label']"
      ]
    },
    {
      "cell_type": "code",
      "execution_count": 19,
      "metadata": {
        "id": "zuJjY_qbfLtI"
      },
      "outputs": [],
      "source": [
        "# sentences = []\n",
        "# for review in raw_x_train:\n",
        "#     sentences += get_sentences(review, tokenizer)\n",
        "# sentences[0]"
      ]
    },
    {
      "cell_type": "code",
      "execution_count": 20,
      "metadata": {
        "colab": {
          "base_uri": "https://localhost:8080/"
        },
        "id": "uCnZLu6ZGMKA",
        "outputId": "a1f173fd-d094-4ca2-e899-eaa21abe952b"
      },
      "outputs": [
        {
          "output_type": "execute_result",
          "data": {
            "text/plain": [
              "0                         [bromwell, high, cartoon, comedy]\n",
              "1               [ran, time, program, school, life, teacher]\n",
              "2         [35, year, teaching, profession, lead, believe...\n",
              "3         [scramble, survive, financially, insightful, s...\n",
              "4         [saw, episode, student, repeatedly, tried, bur...\n",
              "                                ...                        \n",
              "270848                [one, dumbest, film, ive, ever, seen]\n",
              "270849    [rip, nearly, ever, type, thriller, manages, m...\n",
              "270850    [plot, afterthought, far, acting, go, there, n...\n",
              "270851    [honestly, cant, understand, type, nonsense, g...\n",
              "270852    [crap, like, people, downloading, illegally, t...\n",
              "Name: 0, Length: 270853, dtype: object"
            ]
          },
          "metadata": {},
          "execution_count": 20
        }
      ],
      "source": [
        "# df = pd.DataFrame(np.array(sentences))\n",
        "# df.reset_index().to_json('/content/drive/MyDrive/sentences.json')\n",
        "data_sentences = pd.read_json('/content/drive/MyDrive/sentences.json')\n",
        "sentences = data_sentences['0']\n",
        "sentences"
      ]
    },
    {
      "cell_type": "code",
      "execution_count": 21,
      "metadata": {
        "id": "Sg9YrWNkGBGE"
      },
      "outputs": [],
      "source": [
        "idx = [ii for ii, sentence in enumerate(sentences) if (len(sentence) > 0)]\n",
        "sentences = [sentences[ii] for ii in idx]"
      ]
    },
    {
      "cell_type": "code",
      "execution_count": 22,
      "metadata": {
        "colab": {
          "base_uri": "https://localhost:8080/"
        },
        "id": "JgTIK1N6S4Bz",
        "outputId": "6d29d7f1-ed0c-4d43-f472-19d9bbedf537"
      },
      "outputs": [
        {
          "output_type": "execute_result",
          "data": {
            "text/plain": [
              "111534"
            ]
          },
          "metadata": {},
          "execution_count": 22
        }
      ],
      "source": [
        "all_words = []\n",
        "for sentence in sentences:\n",
        "    all_words.extend(sentence)\n",
        "len(all_words)\n",
        "\n",
        "vocab = set()\n",
        "for sentence in sentences:\n",
        "    vocab.update(sentence)\n",
        "len(vocab)"
      ]
    },
    {
      "cell_type": "markdown",
      "metadata": {
        "id": "LtTIZxeN5HeU"
      },
      "source": [
        "# **Remove Outliers**"
      ]
    },
    {
      "cell_type": "code",
      "execution_count": 23,
      "metadata": {
        "id": "Y85XqaFU4JvY"
      },
      "outputs": [],
      "source": [
        "from collections import Counter\n",
        "import matplotlib.pyplot as plt\n",
        "\n",
        "counts = Counter(all_words)\n",
        "train_review_lens = Counter([len(x.split()) for x in x_train])\n",
        "test_review_lens = Counter([len(x.split()) for x in x_test])"
      ]
    },
    {
      "cell_type": "code",
      "execution_count": 24,
      "metadata": {
        "colab": {
          "base_uri": "https://localhost:8080/",
          "height": 0
        },
        "id": "VsGXtZ5N4Lv_",
        "outputId": "282a71f3-fd6c-4238-b102-22a51eafecb3"
      },
      "outputs": [
        {
          "output_type": "execute_result",
          "data": {
            "text/plain": [
              "Text(0, 0.5, 'Number of reviews')"
            ]
          },
          "metadata": {},
          "execution_count": 24
        },
        {
          "output_type": "display_data",
          "data": {
            "text/plain": [
              "<Figure size 432x288 with 1 Axes>"
            ],
            "image/png": "[encoded data removed]"
          },
          "metadata": {
            "needs_background": "light"
          }
        }
      ],
      "source": [
        "plt.bar(train_review_lens.keys(), train_review_lens.values())\n",
        "plt.xlabel('Review length')\n",
        "plt.ylabel('Number of reviews')"
      ]
    },
    {
      "cell_type": "code",
      "execution_count": 25,
      "metadata": {
        "colab": {
          "base_uri": "https://localhost:8080/",
          "height": 0
        },
        "id": "2zAuQ4R54Nmd",
        "outputId": "7b6f401b-e985-4bc3-8c18-f07d8ec01fb3"
      },
      "outputs": [
        {
          "output_type": "execute_result",
          "data": {
            "text/plain": [
              "Text(0, 0.5, 'Number of reviews')"
            ]
          },
          "metadata": {},
          "execution_count": 25
        },
        {
          "output_type": "display_data",
          "data": {
            "text/plain": [
              "<Figure size 432x288 with 1 Axes>"
            ],
            "image/png": "[encoded data removed]"
          },
          "metadata": {
            "needs_background": "light"
          }
        }
      ],
      "source": [
        "plt.bar(test_review_lens.keys(), test_review_lens.values())\n",
        "plt.xlabel('Review length')\n",
        "plt.ylabel('Number of reviews')"
      ]
    },
    {
      "cell_type": "code",
      "execution_count": 26,
      "metadata": {
        "colab": {
          "base_uri": "https://localhost:8080/"
        },
        "id": "gGMUsUlN4Put",
        "outputId": "c8ce302a-e4f0-47fc-cf49-e65773fff572"
      },
      "outputs": [
        {
          "output_type": "stream",
          "name": "stdout",
          "text": [
            "Number of training reviews before removing outliers:  25000\n",
            "Number of training reviews after removing outliers:  21146\n"
          ]
        }
      ],
      "source": [
        "print('Number of training reviews before removing outliers: ', len(x_train))\n",
        "idx = [ii for ii, review in enumerate(x_train) if (len(review.split()) > 0 and len(review.split()) < 200)]\n",
        "x_train = [x_train[ii] for ii in idx]\n",
        "train_sentiment = np.array([train_sentiment[ii] for ii in idx])\n",
        "print('Number of training reviews after removing outliers: ', len(x_train))"
      ]
    },
    {
      "cell_type": "code",
      "execution_count": 27,
      "metadata": {
        "colab": {
          "base_uri": "https://localhost:8080/"
        },
        "id": "2VunEqrs4RhS",
        "outputId": "b9ff8100-9085-4081-d52c-af888b78bb2c"
      },
      "outputs": [
        {
          "output_type": "stream",
          "name": "stdout",
          "text": [
            "Number of testing reviews before removing outliers:  25000\n",
            "Number of testing reviews after removing outliers:  21373\n"
          ]
        }
      ],
      "source": [
        "print('Number of testing reviews before removing outliers: ', len(x_test))\n",
        "idx = [ii for ii, review in enumerate(x_test) if (len(review.split()) > 0 and len(review.split()) < 200)]\n",
        "x_test = [x_test[ii] for ii in idx]\n",
        "test_sentiment = np.array([test_sentiment[ii] for ii in idx])\n",
        "print('Number of testing reviews after removing outliers: ', len(x_test))"
      ]
    },
    {
      "cell_type": "markdown",
      "metadata": {
        "id": "877tk50UsYBa"
      },
      "source": [
        "# **Feature Engineering with BoW and Tf-idf**"
      ]
    },
    {
      "cell_type": "code",
      "execution_count": 28,
      "metadata": {
        "id": "QFofCCMmEwhl"
      },
      "outputs": [],
      "source": [
        "import sklearn\n",
        "from sklearn.feature_extraction.text import CountVectorizer, TfidfVectorizer"
      ]
    },
    {
      "cell_type": "code",
      "execution_count": 29,
      "metadata": {
        "id": "ZStmAE1Qm1fi"
      },
      "outputs": [],
      "source": [
        "def get_bow(clean_train_text, clean_test_text):\n",
        "    vectorizer = CountVectorizer(analyzer = \"word\", max_features = 10000) \n",
        "    train_bow = vectorizer.fit_transform(clean_train_text).toarray()\n",
        "    test_bow = vectorizer.transform(clean_test_text).toarray()\n",
        "    return train_bow, test_bow"
      ]
    },
    {
      "cell_type": "code",
      "execution_count": 30,
      "metadata": {
        "id": "pIkeqmVnm3DX"
      },
      "outputs": [],
      "source": [
        "def get_tfidf(clean_train_text, clean_test_text):\n",
        "    vectorizer = TfidfVectorizer(analyzer = \"word\", max_features = 10000) \n",
        "    train_tfidf = vectorizer.fit_transform(clean_train_text).toarray()\n",
        "    test_tfidf = vectorizer.transform(clean_test_text).toarray()\n",
        "    return train_tfidf, test_tfidf"
      ]
    },
    {
      "cell_type": "code",
      "execution_count": 31,
      "metadata": {
        "colab": {
          "base_uri": "https://localhost:8080/"
        },
        "id": "DACcZAZvE0NS",
        "outputId": "c2f4d9c3-5fe0-422e-f2bc-aba6c7c02a1b"
      },
      "outputs": [
        {
          "output_type": "execute_result",
          "data": {
            "text/plain": [
              "array([[0., 0., 0., ..., 0., 0., 0.],\n",
              "       [0., 0., 0., ..., 0., 0., 0.],\n",
              "       [0., 0., 0., ..., 0., 0., 0.],\n",
              "       ...,\n",
              "       [0., 0., 0., ..., 0., 0., 0.],\n",
              "       [0., 0., 0., ..., 0., 0., 0.],\n",
              "       [0., 0., 0., ..., 0., 0., 0.]])"
            ]
          },
          "metadata": {},
          "execution_count": 31
        }
      ],
      "source": [
        "train_bow, test_bow = get_bow(x_train, x_test)\n",
        "train_tfidf, test_tfidf = get_tfidf(x_train, x_test)\n",
        "train_tfidf"
      ]
    },
    {
      "cell_type": "markdown",
      "metadata": {
        "id": "6P4MiIXqbJzy"
      },
      "source": [
        "# **Feature Engineering with Word2Vec (Average Vectors)**"
      ]
    },
    {
      "cell_type": "markdown",
      "source": [
        "Referenced from https://github.com/wendykan/DeepLearningMovies"
      ],
      "metadata": {
        "id": "wBkFgqsnlNme"
      }
    },
    {
      "cell_type": "code",
      "execution_count": 27,
      "metadata": {
        "id": "PKGn_cSJhs4y"
      },
      "outputs": [],
      "source": [
        "from gensim.models import Word2Vec"
      ]
    },
    {
      "cell_type": "code",
      "execution_count": 28,
      "metadata": {
        "id": "ZDKxnPbsfRWz"
      },
      "outputs": [],
      "source": [
        "num_features = 300    \n",
        "min_word_count = 40   \n",
        "num_workers = 4       \n",
        "context = 10          \n",
        "downsampling = 1e-3   \n",
        "\n",
        "word2vec_model = Word2Vec(sentences, workers=num_workers, \\\n",
        "            size=num_features, min_count = min_word_count, \\\n",
        "            window = context, sample = downsampling, seed=1)\n",
        "\n",
        "word2vec_model.init_sims(replace=True)"
      ]
    },
    {
      "cell_type": "code",
      "execution_count": 29,
      "metadata": {
        "id": "epmA8J0NfueS"
      },
      "outputs": [],
      "source": [
        "def makeFeatureVec(words, model, num_features):\n",
        "    featureVec = np.zeros((num_features,),dtype=\"float32\")\n",
        "    nwords = 0\n",
        "    index2word_set = set(model.wv.index2word)\n",
        "    for word in words:\n",
        "        if word in index2word_set: \n",
        "            nwords = nwords + 1\n",
        "            featureVec = np.add(featureVec,model[word])\n",
        "    featureVec = np.divide(featureVec,nwords)\n",
        "    return featureVec"
      ]
    },
    {
      "cell_type": "code",
      "execution_count": 30,
      "metadata": {
        "id": "ou94Cq0RfwM9"
      },
      "outputs": [],
      "source": [
        "def getAvgFeatureVecs(reviews, model, num_features):\n",
        "    counter = 0\n",
        "    reviewFeatureVecs = np.zeros((len(reviews),num_features),dtype=\"float32\")\n",
        "    for review in reviews:\n",
        "        reviewFeatureVecs[counter] = makeFeatureVec(review, model, num_features)\n",
        "        counter = counter + 1\n",
        "    return reviewFeatureVecs"
      ]
    },
    {
      "cell_type": "code",
      "execution_count": 31,
      "metadata": {
        "id": "kQVlMRSfJa34"
      },
      "outputs": [],
      "source": [
        "clean_train_reviews = [review.split() for review in x_train]\n",
        "clean_test_reviews = [review.split() for review in x_test]"
      ]
    },
    {
      "cell_type": "code",
      "execution_count": 32,
      "metadata": {
        "colab": {
          "base_uri": "https://localhost:8080/"
        },
        "id": "uSjm60EDjd3s",
        "outputId": "a5dcb0c2-0a2f-43d3-b98a-d2f1344c57dd"
      },
      "outputs": [
        {
          "output_type": "stream",
          "name": "stderr",
          "text": [
            "/usr/local/lib/python3.7/dist-packages/ipykernel_launcher.py:9: DeprecationWarning: Call to deprecated `__getitem__` (Method will be removed in 4.0.0, use self.wv.__getitem__() instead).\n",
            "  if __name__ == '__main__':\n"
          ]
        }
      ],
      "source": [
        "train_vectors = getAvgFeatureVecs(clean_train_reviews, word2vec_model, num_features)\n",
        "test_vectors = getAvgFeatureVecs(clean_test_reviews, word2vec_model, num_features)"
      ]
    },
    {
      "cell_type": "code",
      "execution_count": 33,
      "metadata": {
        "id": "GMcOr5h1-dbW"
      },
      "outputs": [],
      "source": [
        "model_name = \"/content/drive/MyDrive/300features_40minwords_10context\"\n",
        "word2vec_model.save(model_name)"
      ]
    },
    {
      "cell_type": "code",
      "execution_count": 34,
      "metadata": {
        "colab": {
          "base_uri": "https://localhost:8080/"
        },
        "id": "NV4DAppzDRlJ",
        "outputId": "422a15e7-7fc4-4a3d-a172-47171f91c06f"
      },
      "outputs": [
        {
          "output_type": "stream",
          "name": "stderr",
          "text": [
            "/usr/local/lib/python3.7/dist-packages/ipykernel_launcher.py:2: DeprecationWarning: Call to deprecated `syn0` (Attribute will be removed in 4.0.0, use self.wv.vectors instead).\n",
            "  \n"
          ]
        }
      ],
      "source": [
        "word2vec_model = Word2Vec.load(\"/content/drive/MyDrive/300features_40minwords_10context\")\n",
        "word_vectors = word2vec_model.wv.syn0"
      ]
    },
    {
      "cell_type": "markdown",
      "metadata": {
        "id": "3kuigFlm48ns"
      },
      "source": [
        "# **Feature Engineering with Word2Vec (Bag of Centroids)**"
      ]
    },
    {
      "cell_type": "markdown",
      "source": [
        "Referenced from https://github.com/wendykan/DeepLearningMovies"
      ],
      "metadata": {
        "id": "_RH1btHclUai"
      }
    },
    {
      "cell_type": "code",
      "execution_count": 35,
      "metadata": {
        "id": "XMvRYgaLDd_5"
      },
      "outputs": [],
      "source": [
        "from sklearn.cluster import KMeans\n",
        "\n",
        "num_clusters = int(word_vectors.shape[0] / 5)\n",
        "kmeans_clustering = KMeans(n_clusters = num_clusters)\n",
        "idx = kmeans_clustering.fit_predict(word_vectors)\n",
        "word_centroid_map = dict(zip(word2vec_model.wv.index2word, idx))"
      ]
    },
    {
      "cell_type": "code",
      "execution_count": 36,
      "metadata": {
        "id": "nsSBnICLGdee"
      },
      "outputs": [],
      "source": [
        "def create_bag_of_centroids( wordlist, word_centroid_map ):\n",
        "    num_centroids = max( word_centroid_map.values() ) + 1\n",
        "    bag_of_centroids = np.zeros( num_centroids, dtype=\"float32\" )\n",
        "    for word in wordlist:\n",
        "        if word in word_centroid_map:\n",
        "            index = word_centroid_map[word]\n",
        "            bag_of_centroids[index] += 1\n",
        "    return bag_of_centroids"
      ]
    },
    {
      "cell_type": "code",
      "execution_count": 37,
      "metadata": {
        "id": "IeGGXfHbHdYD"
      },
      "outputs": [],
      "source": [
        "train_centroids = np.zeros((len(x_train), num_clusters), \\\n",
        "    dtype=\"float32\" )\n",
        "test_centroids = np.zeros((len(x_test), num_clusters), \\\n",
        "    dtype=\"float32\" )"
      ]
    },
    {
      "cell_type": "code",
      "execution_count": 38,
      "metadata": {
        "id": "mY-6DKMHJ_Im"
      },
      "outputs": [],
      "source": [
        "counter = 0\n",
        "for review in clean_train_reviews:\n",
        "    train_centroids[counter] = create_bag_of_centroids( review, \\\n",
        "        word_centroid_map )\n",
        "    counter += 1\n",
        "counter = 0\n",
        "for review in clean_test_reviews:\n",
        "    test_centroids[counter] = create_bag_of_centroids( review, \\\n",
        "        word_centroid_map )\n",
        "    counter += 1"
      ]
    },
    {
      "cell_type": "markdown",
      "metadata": {
        "id": "40Mde-KJhcVE"
      },
      "source": [
        "# **Pre-Trained Word2Vec**"
      ]
    },
    {
      "cell_type": "markdown",
      "source": [
        "Referenced from https://github.com/cezannec/CNN_Text_Classification"
      ],
      "metadata": {
        "id": "yGHRL09Jmrsq"
      }
    },
    {
      "cell_type": "code",
      "execution_count": null,
      "metadata": {
        "colab": {
          "background_save": true
        },
        "id": "UqnRJiRshkuM"
      },
      "outputs": [],
      "source": [
        "from gensim.models import KeyedVectors\n",
        "\n",
        "embed_lookup = KeyedVectors.load_word2vec_format('/content/drive/MyDrive/GoogleNews-vectors-negative300-SLIM.bin', \n",
        "                                                 binary=True)\n",
        "pretrained_words = []\n",
        "for word in embed_lookup.vocab:\n",
        "    pretrained_words.append(word)"
      ]
    },
    {
      "cell_type": "code",
      "execution_count": null,
      "metadata": {
        "colab": {
          "background_save": true
        },
        "id": "FYljQM7qb1Z1"
      },
      "outputs": [],
      "source": [
        "def tokenize_all_reviews(embed_lookup, reviews):\n",
        "    reviews_words = [review.split() for review in reviews]\n",
        "    tokenized_reviews = []\n",
        "    for review in reviews_words:\n",
        "        ints = []\n",
        "        for word in review:\n",
        "            try:\n",
        "                idx = embed_lookup.vocab[word].index\n",
        "            except: \n",
        "                idx = 0\n",
        "            ints.append(idx)\n",
        "        tokenized_reviews.append(ints)\n",
        "    \n",
        "    return tokenized_reviews"
      ]
    },
    {
      "cell_type": "code",
      "execution_count": null,
      "metadata": {
        "colab": {
          "background_save": true
        },
        "id": "KYXgTLEbb3vJ"
      },
      "outputs": [],
      "source": [
        "tokenized_reviews_train = tokenize_all_reviews(embed_lookup, x_train)\n",
        "tokenized_reviews_test = tokenize_all_reviews(embed_lookup, x_test)"
      ]
    },
    {
      "cell_type": "code",
      "execution_count": null,
      "metadata": {
        "colab": {
          "background_save": true
        },
        "id": "k4jpAW4ldd7L"
      },
      "outputs": [],
      "source": [
        "def pad_features(tokenized_reviews, seq_length):\n",
        "    features = np.zeros((len(tokenized_reviews), seq_length), dtype=int)\n",
        "    for i, row in enumerate(tokenized_reviews):\n",
        "        features[i, -len(row):] = np.array(row)[:seq_length]\n",
        "    \n",
        "    return features"
      ]
    },
    {
      "cell_type": "code",
      "execution_count": null,
      "metadata": {
        "colab": {
          "background_save": true
        },
        "id": "D5JopoWidrVq"
      },
      "outputs": [],
      "source": [
        "seq_length = 200\n",
        "train_google_features = pad_features(tokenized_reviews_train, seq_length=seq_length)\n",
        "test_google_features = pad_features(tokenized_reviews_test, seq_length=seq_length)"
      ]
    },
    {
      "cell_type": "markdown",
      "metadata": {
        "id": "g2q75Prbspw6"
      },
      "source": [
        "# **Get Metrics and Plots**"
      ]
    },
    {
      "cell_type": "code",
      "execution_count": 32,
      "metadata": {
        "id": "Pk1OR8cylnOI"
      },
      "outputs": [],
      "source": [
        "import matplotlib.pyplot as plt\n",
        "from sklearn.metrics import roc_curve, precision_recall_curve, accuracy_score, f1_score"
      ]
    },
    {
      "cell_type": "code",
      "execution_count": 33,
      "metadata": {
        "id": "m7tDV-iAE8Bk"
      },
      "outputs": [],
      "source": [
        "def get_metrics(y_test, preds):\n",
        "    accuracy = accuracy_score(y_test, preds)\n",
        "    print('Accuracy:', accuracy)\n",
        "    f1 = f1_score(y_test, preds)\n",
        "    print('F1 Score:', f1)"
      ]
    },
    {
      "cell_type": "code",
      "execution_count": 34,
      "metadata": {
        "id": "Qa_PSHyAn_Pr"
      },
      "outputs": [],
      "source": [
        "def get_plot(y_test, preds, title, file):\n",
        "    fpr, tpr, _ = roc_curve(y_test, preds)\n",
        "    plt.plot(fpr, tpr)\n",
        "    plt.title(title)\n",
        "    plt.plot([0, 1], [0, 1], color='navy', linestyle='--')\n",
        "    plt.xlabel('False Positive Rate')\n",
        "    plt.ylabel('True Positive Rate')\n",
        "    plt.savefig('plots/' + file + '.png')\n",
        "    plt.show()"
      ]
    },
    {
      "cell_type": "markdown",
      "metadata": {
        "id": "gLQ4sY8eKTi0"
      },
      "source": [
        "# **Benchmarking Feature Engineering Methods**"
      ]
    },
    {
      "cell_type": "code",
      "execution_count": 56,
      "metadata": {
        "id": "mu2-GC16KjBQ",
        "colab": {
          "base_uri": "https://localhost:8080/"
        },
        "outputId": "3f93eaf4-6b32-4a97-d47d-4d66b52455f6"
      },
      "outputs": [
        {
          "output_type": "stream",
          "name": "stdout",
          "text": [
            "Accuracy: 0.8573433771580966\n",
            "F1 Score: 0.8555044784607364\n"
          ]
        }
      ],
      "source": [
        "model = BernoulliNB()\n",
        "model.fit(train_bow, train_sentiment)\n",
        "preds = model.predict(test_bow)\n",
        "get_metrics(test_sentiment, preds)"
      ]
    },
    {
      "cell_type": "code",
      "execution_count": 55,
      "metadata": {
        "colab": {
          "base_uri": "https://localhost:8080/"
        },
        "id": "jbRIMZi_Kjtv",
        "outputId": "f67170d2-d0d5-43cc-b108-2425d3e26466"
      },
      "outputs": [
        {
          "output_type": "stream",
          "name": "stdout",
          "text": [
            "Accuracy: 0.8573433771580966\n",
            "F1 Score: 0.8555044784607364\n"
          ]
        }
      ],
      "source": [
        "model = BernoulliNB()\n",
        "model.fit(train_tfidf, train_sentiment)\n",
        "preds = model.predict(test_tfidf)\n",
        "get_metrics(test_sentiment, preds)"
      ]
    },
    {
      "cell_type": "code",
      "execution_count": null,
      "metadata": {
        "colab": {
          "base_uri": "https://localhost:8080/"
        },
        "id": "dVz6asNLKkLo",
        "outputId": "dfb5015e-7767-4611-a660-ec87fa5cbea4"
      },
      "outputs": [
        {
          "output_type": "stream",
          "name": "stdout",
          "text": [
            "Accuracy: 0.6912927525382492\n",
            "F1 Score: 0.6715452011150935\n"
          ]
        }
      ],
      "source": [
        "model = BernoulliNB()\n",
        "model.fit(train_vectors, train_sentiment)\n",
        "preds = model.predict(test_vectors)\n",
        "get_metrics(test_sentiment, preds)"
      ]
    },
    {
      "cell_type": "code",
      "execution_count": 48,
      "metadata": {
        "colab": {
          "base_uri": "https://localhost:8080/"
        },
        "id": "4oQMeJiKKkbR",
        "outputId": "1954e98b-f4a9-4c39-bf90-35c40ed017eb"
      },
      "outputs": [
        {
          "output_type": "stream",
          "name": "stdout",
          "text": [
            "Accuracy: 0.8216909184485098\n",
            "F1 Score: 0.8219408494136335\n"
          ]
        }
      ],
      "source": [
        "model = BernoulliNB()\n",
        "model.fit(train_centroids, train_sentiment)\n",
        "preds = model.predict(test_centroids)\n",
        "get_metrics(test_sentiment, preds)"
      ]
    },
    {
      "cell_type": "code",
      "execution_count": null,
      "metadata": {
        "colab": {
          "base_uri": "https://localhost:8080/"
        },
        "id": "wZoYeoKDKzbJ",
        "outputId": "bfbd600e-2ff5-4d05-f3be-637939f76983"
      },
      "outputs": [
        {
          "output_type": "stream",
          "name": "stdout",
          "text": [
            "Accuracy: 0.5221073316801572\n",
            "F1 Score: 0.46162766181741516\n"
          ]
        }
      ],
      "source": [
        "model = BernoulliNB()\n",
        "model.fit(train_google_features, train_sentiment)\n",
        "preds = model.predict(test_google_features)\n",
        "get_metrics(test_sentiment, preds)"
      ]
    },
    {
      "cell_type": "markdown",
      "metadata": {
        "id": "ZSzyYmtjs4g3"
      },
      "source": [
        "# **Get Results from models (Naive Bayes)**"
      ]
    },
    {
      "cell_type": "code",
      "execution_count": 27,
      "metadata": {
        "id": "QJJAWB_Ls_GQ"
      },
      "outputs": [],
      "source": [
        "from sklearn.naive_bayes import GaussianNB, MultinomialNB, ComplementNB, BernoulliNB, CategoricalNB"
      ]
    },
    {
      "cell_type": "code",
      "execution_count": 28,
      "metadata": {
        "colab": {
          "base_uri": "https://localhost:8080/",
          "height": 0
        },
        "id": "HA3CJV-GlnOM",
        "outputId": "b2f8a5fd-04c6-46dc-b7c2-e238005fddb1"
      },
      "outputs": [
        {
          "output_type": "error",
          "ename": "NameError",
          "evalue": "ignored",
          "traceback": [
            "\u001b[0;31m---------------------------------------------------------------------------\u001b[0m",
            "\u001b[0;31mNameError\u001b[0m                                 Traceback (most recent call last)",
            "\u001b[0;32m<ipython-input-28-d60a11506006>\u001b[0m in \u001b[0;36m<module>\u001b[0;34m()\u001b[0m\n\u001b[1;32m      2\u001b[0m \u001b[0mmodel\u001b[0m\u001b[0;34m.\u001b[0m\u001b[0mfit\u001b[0m\u001b[0;34m(\u001b[0m\u001b[0mtrain_tfidf\u001b[0m\u001b[0;34m,\u001b[0m \u001b[0mtrain_sentiment\u001b[0m\u001b[0;34m)\u001b[0m\u001b[0;34m\u001b[0m\u001b[0;34m\u001b[0m\u001b[0m\n\u001b[1;32m      3\u001b[0m \u001b[0mpreds\u001b[0m \u001b[0;34m=\u001b[0m \u001b[0mmodel\u001b[0m\u001b[0;34m.\u001b[0m\u001b[0mpredict\u001b[0m\u001b[0;34m(\u001b[0m\u001b[0mtest_tfidf\u001b[0m\u001b[0;34m)\u001b[0m\u001b[0;34m\u001b[0m\u001b[0;34m\u001b[0m\u001b[0m\n\u001b[0;32m----> 4\u001b[0;31m \u001b[0mget_metrics\u001b[0m\u001b[0;34m(\u001b[0m\u001b[0mtest_sentiment\u001b[0m\u001b[0;34m,\u001b[0m \u001b[0mpreds\u001b[0m\u001b[0;34m)\u001b[0m\u001b[0;34m\u001b[0m\u001b[0;34m\u001b[0m\u001b[0m\n\u001b[0m\u001b[1;32m      5\u001b[0m \u001b[0mget_plot\u001b[0m\u001b[0;34m(\u001b[0m\u001b[0mtest_sentiment\u001b[0m\u001b[0;34m,\u001b[0m \u001b[0mpreds\u001b[0m\u001b[0;34m,\u001b[0m \u001b[0;34m'Gaussian Naive Bayes (with Tf-idf)'\u001b[0m\u001b[0;34m,\u001b[0m \u001b[0;34m'gaussian_nb_tfidf'\u001b[0m\u001b[0;34m)\u001b[0m\u001b[0;34m\u001b[0m\u001b[0;34m\u001b[0m\u001b[0m\n",
            "\u001b[0;31mNameError\u001b[0m: name 'get_metrics' is not defined"
          ]
        }
      ],
      "source": [
        "model = GaussianNB()\n",
        "model.fit(train_tfidf, train_sentiment)\n",
        "preds = model.predict(test_tfidf)\n",
        "get_metrics(test_sentiment, preds)\n",
        "get_plot(test_sentiment, preds, 'Gaussian Naive Bayes (with Tf-idf)', 'gaussian_nb_tfidf')        "
      ]
    },
    {
      "cell_type": "code",
      "execution_count": null,
      "metadata": {
        "id": "ixu3GLQwlnOM"
      },
      "outputs": [],
      "source": [
        "model = MultinomialNB()\n",
        "model.fit(train_tfidf, train_sentiment)\n",
        "preds = model.predict(test_tfidf)\n",
        "get_metrics(test_sentiment, preds)\n",
        "get_plot(test_sentiment, preds, 'Multinomial Naive Bayes (with Tf-idf)', 'multinomial_nb_tfidf')"
      ]
    },
    {
      "cell_type": "code",
      "execution_count": null,
      "metadata": {
        "id": "cKQwbNZClnOO"
      },
      "outputs": [],
      "source": [
        "model = BernoulliNB()\n",
        "model.fit(train_tfidf, train_sentiment)\n",
        "preds = model.predict(test_tfidf)\n",
        "get_metrics(test_sentiment, preds)\n",
        "get_plot(test_sentiment, preds, 'Bernoulli Naive Bayes (with Tf-idf)', 'bernoulli_nb_tfidf')"
      ]
    },
    {
      "cell_type": "markdown",
      "metadata": {
        "id": "bwctJOIHswXo"
      },
      "source": [
        "# **Get Results from models (Decision Trees and Random Forest)**"
      ]
    },
    {
      "cell_type": "code",
      "execution_count": 35,
      "metadata": {
        "id": "GbhcAJYaHyXK"
      },
      "outputs": [],
      "source": [
        "from sklearn.tree import DecisionTreeClassifier, ExtraTreeClassifier\n",
        "from sklearn.ensemble import AdaBoostClassifier, BaggingClassifier, ExtraTreesClassifier, GradientBoostingClassifier, RandomForestClassifier, StackingClassifier, VotingClassifier, HistGradientBoostingClassifier"
      ]
    },
    {
      "cell_type": "code",
      "execution_count": 37,
      "metadata": {
        "colab": {
          "base_uri": "https://localhost:8080/",
          "height": 332
        },
        "id": "qtO6ULAjlnOK",
        "outputId": "4cf76ba8-a1ae-4671-af0f-5b9917d4c606"
      },
      "outputs": [
        {
          "output_type": "stream",
          "name": "stdout",
          "text": [
            "Accuracy: 0.7157160903944229\n",
            "F1 Score: 0.7119286933434478\n"
          ]
        },
        {
          "output_type": "display_data",
          "data": {
            "text/plain": [
              "<Figure size 432x288 with 1 Axes>"
            ],
            "image/png": "[encoded data removed]"
          },
          "metadata": {
            "needs_background": "light"
          }
        }
      ],
      "source": [
        "model = DecisionTreeClassifier(random_state=4248)\n",
        "model.fit(train_tfidf, train_sentiment)\n",
        "preds = model.predict(test_tfidf)\n",
        "get_metrics(test_sentiment, preds)\n",
        "get_plot(test_sentiment, preds, 'Decision Tree (with Tf-idf)', 'decision_tree_tfidf')"
      ]
    },
    {
      "cell_type": "code",
      "source": [
        "model = ExtraTreeClassifier(random_state=4248)\n",
        "model.fit(train_tfidf, train_sentiment)\n",
        "preds = model.predict(test_tfidf)\n",
        "get_metrics(test_sentiment, preds)\n",
        "get_plot(test_sentiment, preds, 'Extra Tree (with Tf-idf)', 'extra_tree_tfidf')"
      ],
      "metadata": {
        "colab": {
          "base_uri": "https://localhost:8080/",
          "height": 332
        },
        "id": "EdkHrmMMwEiX",
        "outputId": "aecf7d9e-e5ba-4174-bef1-a5354a5402f9"
      },
      "execution_count": 38,
      "outputs": [
        {
          "output_type": "stream",
          "name": "stdout",
          "text": [
            "Accuracy: 0.6544238057362093\n",
            "F1 Score: 0.6471431301356774\n"
          ]
        },
        {
          "output_type": "display_data",
          "data": {
            "text/plain": [
              "<Figure size 432x288 with 1 Axes>"
            ],
            "image/png": "[encoded data removed]"
          },
          "metadata": {
            "needs_background": "light"
          }
        }
      ]
    },
    {
      "cell_type": "code",
      "execution_count": 39,
      "metadata": {
        "colab": {
          "base_uri": "https://localhost:8080/",
          "height": 332
        },
        "id": "Cl63xA1AlnOL",
        "outputId": "09f0b373-ecda-4596-d24a-e5ba84167950"
      },
      "outputs": [
        {
          "output_type": "stream",
          "name": "stdout",
          "text": [
            "Accuracy: 0.8473307443971366\n",
            "F1 Score: 0.8436586651334386\n"
          ]
        },
        {
          "output_type": "display_data",
          "data": {
            "text/plain": [
              "<Figure size 432x288 with 1 Axes>"
            ],
            "image/png": "[encoded data removed]"
          },
          "metadata": {
            "needs_background": "light"
          }
        }
      ],
      "source": [
        "model = RandomForestClassifier(random_state=4248)\n",
        "model.fit(train_tfidf, train_sentiment)\n",
        "preds = model.predict(test_tfidf)\n",
        "get_metrics(test_sentiment, preds)\n",
        "get_plot(test_sentiment, preds, 'Random Forest (with Tf-idf)', 'random_forest_tfidf')        "
      ]
    },
    {
      "cell_type": "code",
      "source": [
        "model = AdaBoostClassifier(random_state=4248)\n",
        "model.fit(train_tfidf, train_sentiment)\n",
        "preds = model.predict(test_tfidf)\n",
        "get_metrics(test_sentiment, preds)\n",
        "get_plot(test_sentiment, preds, 'Ada Boost (with Tf-idf)', 'ada_boost_tfidf')    "
      ],
      "metadata": {
        "colab": {
          "base_uri": "https://localhost:8080/",
          "height": 332
        },
        "id": "lcxv2EVNRGi0",
        "outputId": "90504e26-090f-4b85-8f6d-c562b1e63592"
      },
      "execution_count": 40,
      "outputs": [
        {
          "output_type": "stream",
          "name": "stdout",
          "text": [
            "Accuracy: 0.8022271089692603\n",
            "F1 Score: 0.8094143108345732\n"
          ]
        },
        {
          "output_type": "display_data",
          "data": {
            "text/plain": [
              "<Figure size 432x288 with 1 Axes>"
            ],
            "image/png": "[encoded data removed]"
          },
          "metadata": {
            "needs_background": "light"
          }
        }
      ]
    },
    {
      "cell_type": "code",
      "source": [
        "model = BaggingClassifier(random_state=4248)\n",
        "model.fit(train_tfidf, train_sentiment)\n",
        "preds = model.predict(test_tfidf)\n",
        "get_metrics(test_sentiment, preds)\n",
        "get_plot(test_sentiment, preds, 'Bagging (with Tf-idf)', 'bagging_tfidf')    "
      ],
      "metadata": {
        "colab": {
          "base_uri": "https://localhost:8080/",
          "height": 332
        },
        "id": "QlTzaGDwRKey",
        "outputId": "38e900e9-c9ef-424d-a4ba-076ede9ac563"
      },
      "execution_count": 41,
      "outputs": [
        {
          "output_type": "stream",
          "name": "stdout",
          "text": [
            "Accuracy: 0.7799092312731015\n",
            "F1 Score: 0.7691175026995191\n"
          ]
        },
        {
          "output_type": "display_data",
          "data": {
            "text/plain": [
              "<Figure size 432x288 with 1 Axes>"
            ],
            "image/png": "[encoded data removed]"
          },
          "metadata": {
            "needs_background": "light"
          }
        }
      ]
    },
    {
      "cell_type": "code",
      "source": [
        "model = ExtraTreesClassifier(random_state=4248)\n",
        "model.fit(train_tfidf, train_sentiment)\n",
        "preds = model.predict(test_tfidf)\n",
        "get_metrics(test_sentiment, preds)\n",
        "get_plot(test_sentiment, preds, 'Extra Trees (with Tf-idf)', 'extra_trees_tfidf')    "
      ],
      "metadata": {
        "colab": {
          "base_uri": "https://localhost:8080/",
          "height": 332
        },
        "id": "at2j71S7RKzj",
        "outputId": "ab68d8ef-b680-4d18-cacb-09a5a98c9acf"
      },
      "execution_count": 42,
      "outputs": [
        {
          "output_type": "stream",
          "name": "stdout",
          "text": [
            "Accuracy: 0.8635661816310298\n",
            "F1 Score: 0.8595375722543352\n"
          ]
        },
        {
          "output_type": "display_data",
          "data": {
            "text/plain": [
              "<Figure size 432x288 with 1 Axes>"
            ],
            "image/png": "[encoded data removed]"
          },
          "metadata": {
            "needs_background": "light"
          }
        }
      ]
    },
    {
      "cell_type": "code",
      "source": [
        "model = GradientBoostingClassifier(random_state=4248)\n",
        "model.fit(train_tfidf, train_sentiment)\n",
        "preds = model.predict(test_tfidf)\n",
        "get_metrics(test_sentiment, preds)\n",
        "get_plot(test_sentiment, preds, 'Gradient Boosting (with Tf-idf)', 'gradient_boosting_tfidf')    "
      ],
      "metadata": {
        "colab": {
          "base_uri": "https://localhost:8080/",
          "height": 332
        },
        "id": "Gl1LKvcSRLBr",
        "outputId": "57a4f81c-122c-46de-cc4b-8c1e4faf3be2"
      },
      "execution_count": 43,
      "outputs": [
        {
          "output_type": "stream",
          "name": "stdout",
          "text": [
            "Accuracy: 0.812380105740888\n",
            "F1 Score: 0.8209021884769987\n"
          ]
        },
        {
          "output_type": "display_data",
          "data": {
            "text/plain": [
              "<Figure size 432x288 with 1 Axes>"
            ],
            "image/png": "[encoded data removed]"
          },
          "metadata": {
            "needs_background": "light"
          }
        }
      ]
    },
    {
      "cell_type": "code",
      "source": [
        "model = HistGradientBoostingClassifier(random_state=4248)\n",
        "model.fit(train_tfidf, train_sentiment)\n",
        "preds = model.predict(test_tfidf)\n",
        "get_metrics(test_sentiment, preds)\n",
        "get_plot(test_sentiment, preds, 'Hist Gradient Boosting (with Tf-idf)', 'hist_gradient_boosting_tfidf')    "
      ],
      "metadata": {
        "colab": {
          "base_uri": "https://localhost:8080/",
          "height": 332
        },
        "id": "zr8dP-8pRMEr",
        "outputId": "bb89c40a-09a4-4ea0-b573-0aa470e05471"
      },
      "execution_count": 46,
      "outputs": [
        {
          "output_type": "stream",
          "name": "stdout",
          "text": [
            "Accuracy: 0.8599167173536705\n",
            "F1 Score: 0.8605366126327558\n"
          ]
        },
        {
          "output_type": "display_data",
          "data": {
            "text/plain": [
              "<Figure size 432x288 with 1 Axes>"
            ],
            "image/png": "[encoded data removed]"
          },
          "metadata": {
            "needs_background": "light"
          }
        }
      ]
    },
    {
      "cell_type": "markdown",
      "metadata": {
        "id": "gtQUJ36EiRC7"
      },
      "source": [
        "# **Get Results from models (Linear)**"
      ]
    },
    {
      "cell_type": "code",
      "execution_count": 26,
      "metadata": {
        "id": "vW1hRXuAicNi"
      },
      "outputs": [],
      "source": [
        "from sklearn.linear_model import LogisticRegression, PassiveAggressiveClassifier, Perceptron, RidgeClassifier, SGDClassifier"
      ]
    },
    {
      "cell_type": "code",
      "execution_count": 31,
      "metadata": {
        "id": "CPOuqlyiYY4s",
        "colab": {
          "base_uri": "https://localhost:8080/",
          "height": 332
        },
        "outputId": "3ebc2a29-fc34-4c9f-b42f-bd1d35e908c4"
      },
      "outputs": [
        {
          "output_type": "stream",
          "name": "stdout",
          "text": [
            "Accuracy: 0.8798484068684789\n",
            "F1 Score: 0.8795384182381086\n"
          ]
        },
        {
          "output_type": "display_data",
          "data": {
            "text/plain": [
              "<Figure size 432x288 with 1 Axes>"
            ],
            "image/png": "[encoded data removed]"
          },
          "metadata": {
            "needs_background": "light"
          }
        }
      ],
      "source": [
        "model = LogisticRegression(random_state=4248, max_iter=4248)\n",
        "model.fit(train_tfidf, train_sentiment)\n",
        "preds = model.predict(test_tfidf)\n",
        "get_metrics(test_sentiment, preds)\n",
        "get_plot(test_sentiment, preds, 'Logistic Regression (with Tf-idf)', 'logistic_regression_tfidf')          "
      ]
    },
    {
      "cell_type": "code",
      "execution_count": 32,
      "metadata": {
        "colab": {
          "base_uri": "https://localhost:8080/",
          "height": 332
        },
        "id": "YkVDEFI6ZTl9",
        "outputId": "a67a994f-00a3-4351-c6ac-9fb75df06193"
      },
      "outputs": [
        {
          "output_type": "stream",
          "name": "stdout",
          "text": [
            "Accuracy: 0.8307677911383521\n",
            "F1 Score: 0.8270453784727204\n"
          ]
        },
        {
          "output_type": "display_data",
          "data": {
            "text/plain": [
              "<Figure size 432x288 with 1 Axes>"
            ],
            "image/png": "[encoded data removed]"
          },
          "metadata": {
            "needs_background": "light"
          }
        }
      ],
      "source": [
        "model = PassiveAggressiveClassifier(random_state=4248, max_iter=4248)\n",
        "model.fit(train_tfidf, train_sentiment)\n",
        "preds = model.predict(test_tfidf)\n",
        "get_metrics(test_sentiment, preds)\n",
        "get_plot(test_sentiment, preds, 'Passive Agressive (with Tf-idf)', 'passive_aggressive_tfidf') "
      ]
    },
    {
      "cell_type": "code",
      "execution_count": 33,
      "metadata": {
        "colab": {
          "base_uri": "https://localhost:8080/",
          "height": 332
        },
        "id": "Giu4_-eCZUaq",
        "outputId": "85c6da45-dcab-444c-f5df-2bbc5dd74dc2"
      },
      "outputs": [
        {
          "output_type": "stream",
          "name": "stdout",
          "text": [
            "Accuracy: 0.8365227155757264\n",
            "F1 Score: 0.8336507331936774\n"
          ]
        },
        {
          "output_type": "display_data",
          "data": {
            "text/plain": [
              "<Figure size 432x288 with 1 Axes>"
            ],
            "image/png": "[encoded data removed]"
          },
          "metadata": {
            "needs_background": "light"
          }
        }
      ],
      "source": [
        "model = Perceptron(random_state=4248, max_iter=4248)\n",
        "model.fit(train_tfidf, train_sentiment)\n",
        "preds = model.predict(test_tfidf)\n",
        "get_metrics(test_sentiment, preds)\n",
        "get_plot(test_sentiment, preds, 'Perceptron (with Tf-idf)', 'perceptron_tfidf') "
      ]
    },
    {
      "cell_type": "code",
      "execution_count": null,
      "metadata": {
        "id": "D6vepmhMZU-M"
      },
      "outputs": [],
      "source": [
        "model = RidgeClassifier(random_state=4248, max_iter=4248)\n",
        "model.fit(train_tfidf, train_sentiment)\n",
        "preds = model.predict(test_tfidf)\n",
        "get_metrics(test_sentiment, preds)\n",
        "get_plot(test_sentiment, preds, 'Ridge Classifier (with Tf-idf)', 'ridge_classifier_tfidf') "
      ]
    },
    {
      "cell_type": "code",
      "execution_count": 32,
      "metadata": {
        "colab": {
          "base_uri": "https://localhost:8080/",
          "height": 332
        },
        "id": "e0-NlonbZVe5",
        "outputId": "9d37b2bc-4bc0-452d-cc3d-2f7e4c645c3b"
      },
      "outputs": [
        {
          "output_type": "stream",
          "name": "stdout",
          "text": [
            "Accuracy: 0.8774154306835728\n",
            "F1 Score: 0.8766942771084336\n"
          ]
        },
        {
          "output_type": "display_data",
          "data": {
            "text/plain": [
              "<Figure size 432x288 with 1 Axes>"
            ],
            "image/png": "[encoded data removed]"
          },
          "metadata": {
            "needs_background": "light"
          }
        }
      ],
      "source": [
        "model = SGDClassifier(random_state=4248, max_iter=4248)\n",
        "model.fit(train_tfidf, train_sentiment)\n",
        "preds = model.predict(test_tfidf)\n",
        "get_metrics(test_sentiment, preds)\n",
        "get_plot(test_sentiment, preds, 'SGD Classifier (with Tf-idf)', 'sgd_classifier_tfidf') "
      ]
    },
    {
      "cell_type": "markdown",
      "metadata": {
        "id": "R2waCO9MaD3q"
      },
      "source": [
        "# **Get Results from models (NN)**"
      ]
    },
    {
      "cell_type": "code",
      "execution_count": null,
      "metadata": {
        "id": "HMI6upY6aHy0"
      },
      "outputs": [],
      "source": [
        "from sklearn.neural_network import MLPClassifier"
      ]
    },
    {
      "cell_type": "code",
      "execution_count": null,
      "metadata": {
        "colab": {
          "base_uri": "https://localhost:8080/"
        },
        "id": "6KzZ9AnIadlo",
        "outputId": "057f3c92-ae2e-4f70-f0cb-339bb98adcf9"
      },
      "outputs": [
        {
          "name": "stdout",
          "output_type": "stream",
          "text": [
            "Accuracy: 0.84784\n",
            "F1 Score: 0.8450635386119257\n"
          ]
        },
        {
          "data": {
            "image/png": "[encoded data removed]",
            "text/plain": [
              "<Figure size 432x288 with 1 Axes>"
            ]
          },
          "metadata": {},
          "output_type": "display_data"
        }
      ],
      "source": [
        "model = MLPClassifier(random_state=4248, max_iter=4248)\n",
        "model.fit(train_bow, train_sentiment)\n",
        "preds = model.predict(test_bow)\n",
        "get_metrics(test_sentiment, preds)\n",
        "get_plot(test_sentiment, preds, 'Multi-layer Perceptron (with BOW)', 'multi_layer_perceptron_bow')          "
      ]
    },
    {
      "cell_type": "code",
      "execution_count": null,
      "metadata": {
        "colab": {
          "base_uri": "https://localhost:8080/"
        },
        "id": "0Ax6us4zambh",
        "outputId": "f63cc647-a134-44dd-e12d-cc8047daa1bc"
      },
      "outputs": [
        {
          "name": "stdout",
          "output_type": "stream",
          "text": [
            "Accuracy: 0.829\n",
            "F1 Score: 0.8253747804419753\n"
          ]
        },
        {
          "data": {
            "image/png": "[encoded data removed]",
            "text/plain": [
              "<Figure size 432x288 with 1 Axes>"
            ]
          },
          "metadata": {},
          "output_type": "display_data"
        }
      ],
      "source": [
        "model = MLPClassifier(random_state=4248, max_iter=4248)\n",
        "model.fit(train_tfidf, train_sentiment)\n",
        "preds = model.predict(test_tfidf)\n",
        "get_metrics(test_sentiment, preds)\n",
        "get_plot(test_sentiment, preds, 'Multi-layer Perceptron (with Tf-idf)', 'multi_layer_perceptron_tfidf')"
      ]
    },
    {
      "cell_type": "code",
      "execution_count": null,
      "metadata": {
        "id": "H068Bx8XDp7X"
      },
      "outputs": [],
      "source": [
        "from sklearn.model_selection import train_test_split\n",
        "train_google_features, val_google_features, train_sentiment, val_sentiment = train_test_split(\n",
        "                                          train_google_features, train_sentiment, test_size=0.2, random_state=4248)"
      ]
    },
    {
      "cell_type": "markdown",
      "source": [
        "Referenced from https://github.com/cezannec/CNN_Text_Classification"
      ],
      "metadata": {
        "id": "jqDJLPVclf_M"
      }
    },
    {
      "cell_type": "code",
      "execution_count": null,
      "metadata": {
        "id": "-uofOihuf043"
      },
      "outputs": [],
      "source": [
        "import torch\n",
        "from torch.utils.data import TensorDataset, DataLoader\n",
        "\n",
        "train_data = TensorDataset(torch.from_numpy(train_google_features), torch.from_numpy(train_sentiment))\n",
        "val_data = TensorDataset(torch.from_numpy(val_google_features), torch.from_numpy(val_sentiment))\n",
        "test_data = TensorDataset(torch.from_numpy(test_google_features), torch.from_numpy(test_sentiment))\n",
        "\n",
        "batch_size = 50\n",
        "train_loader = DataLoader(train_data, shuffle=True, batch_size=batch_size)\n",
        "val_loader = DataLoader(val_data, shuffle=True, batch_size=batch_size)\n",
        "test_loader = DataLoader(test_data, shuffle=True, batch_size=batch_size)"
      ]
    },
    {
      "cell_type": "code",
      "execution_count": null,
      "metadata": {
        "id": "lz7KSz7EFPAw"
      },
      "outputs": [],
      "source": [
        "import torch.nn as nn\n",
        "import torch.nn.functional as F\n",
        "\n",
        "class SentimentCNN(nn.Module):\n",
        "    def __init__(self, embed_model, vocab_size, output_size, embedding_dim,\n",
        "                 num_filters=100, kernel_sizes=[3, 4, 5], freeze_embeddings=True, drop_prob=0.5):\n",
        "        super(SentimentCNN, self).__init__()\n",
        "        self.num_filters = num_filters\n",
        "        self.embedding_dim = embedding_dim\n",
        "        self.embedding = nn.Embedding(vocab_size, embedding_dim)\n",
        "        self.embedding.weight = nn.Parameter(torch.from_numpy(embed_model.vectors)) # all vectors\n",
        "        \n",
        "        if freeze_embeddings:\n",
        "            self.embedding.requires_grad = False\n",
        "        \n",
        "        self.convs_1d = nn.ModuleList([\n",
        "            nn.Conv2d(1, num_filters, (k, embedding_dim), padding=(k-2,0)) \n",
        "            for k in kernel_sizes])\n",
        "        \n",
        "        self.fc = nn.Linear(len(kernel_sizes) * num_filters, output_size) \n",
        "        self.dropout = nn.Dropout(drop_prob)\n",
        "        self.sig = nn.Sigmoid()\n",
        "        \n",
        "    \n",
        "    def conv_and_pool(self, x, conv):\n",
        "        x = F.relu(conv(x)).squeeze(3)\n",
        "        x_max = F.max_pool1d(x, x.size(2)).squeeze(2)\n",
        "        return x_max\n",
        "\n",
        "    def forward(self, x):\n",
        "        embeds = self.embedding(x) \n",
        "        embeds = embeds.unsqueeze(1)\n",
        "        conv_results = [self.conv_and_pool(embeds, conv) for conv in self.convs_1d]\n",
        "        x = torch.cat(conv_results, 1)\n",
        "        x = self.dropout(x)\n",
        "        logit = self.fc(x) \n",
        "        return self.sig(logit)"
      ]
    },
    {
      "cell_type": "code",
      "execution_count": null,
      "metadata": {
        "colab": {
          "base_uri": "https://localhost:8080/"
        },
        "id": "DyaKu6HfF3gz",
        "outputId": "2282d077-3423-466f-c78a-c678d8face2b"
      },
      "outputs": [
        {
          "data": {
            "text/plain": [
              "SentimentCNN(\n",
              "  (embedding): Embedding(3000000, 300)\n",
              "  (convs_1d): ModuleList(\n",
              "    (0): Conv2d(1, 100, kernel_size=(3, 300), stride=(1, 1), padding=(1, 0))\n",
              "    (1): Conv2d(1, 100, kernel_size=(4, 300), stride=(1, 1), padding=(2, 0))\n",
              "    (2): Conv2d(1, 100, kernel_size=(5, 300), stride=(1, 1), padding=(3, 0))\n",
              "  )\n",
              "  (fc): Linear(in_features=300, out_features=1, bias=True)\n",
              "  (dropout): Dropout(p=0.5, inplace=False)\n",
              "  (sig): Sigmoid()\n",
              ")"
            ]
          },
          "execution_count": 46,
          "metadata": {},
          "output_type": "execute_result"
        }
      ],
      "source": [
        "vocab_size = len(pretrained_words)\n",
        "output_size = 1 \n",
        "embedding_dim = len(embed_lookup[pretrained_words[0]]) \n",
        "num_filters = 100\n",
        "kernel_sizes = [3, 4, 5]\n",
        "\n",
        "net = SentimentCNN(embed_lookup, vocab_size, output_size, embedding_dim,\n",
        "                   num_filters, kernel_sizes)\n",
        "net"
      ]
    },
    {
      "cell_type": "code",
      "execution_count": null,
      "metadata": {
        "id": "R1CLRwmtGFSl"
      },
      "outputs": [],
      "source": [
        "lr=0.001\n",
        "criterion = nn.BCELoss()\n",
        "optimizer = torch.optim.Adam(net.parameters(), lr=lr)"
      ]
    },
    {
      "cell_type": "code",
      "execution_count": null,
      "metadata": {
        "id": "YzVI4-ZvGKZ9"
      },
      "outputs": [],
      "source": [
        "def train(net, train_loader, epochs, print_every=100):\n",
        "    counter = 0 \n",
        "    net.train()\n",
        "\n",
        "    for e in range(epochs):\n",
        "        for inputs, labels in train_loader:\n",
        "            counter += 1\n",
        "            net.zero_grad()\n",
        "            output = net(inputs)\n",
        "            loss = criterion(output.squeeze(), labels.float())\n",
        "            loss.backward()\n",
        "            optimizer.step()\n",
        "\n",
        "            if counter % print_every == 0:\n",
        "                val_losses = []\n",
        "                net.eval()\n",
        "\n",
        "                for inputs, labels in val_loader:\n",
        "                    output = net(inputs)\n",
        "                    val_loss = criterion(output.squeeze(), labels.float())\n",
        "                    val_losses.append(val_loss.item())\n",
        "\n",
        "                net.train()\n",
        "                print(\"Epoch: {}/{}...\".format(e+1, epochs),\n",
        "                      \"Step: {}...\".format(counter),\n",
        "                      \"Loss: {:.6f}...\".format(loss.item()),\n",
        "                      \"Val Loss: {:.6f}\".format(np.mean(val_losses)))"
      ]
    },
    {
      "cell_type": "code",
      "execution_count": null,
      "metadata": {
        "id": "s0SxryW1Gios"
      },
      "outputs": [],
      "source": [
        "epochs = 10\n",
        "print_every = 100\n",
        "train(net, train_loader, epochs, print_every=print_every)"
      ]
    },
    {
      "cell_type": "code",
      "execution_count": null,
      "metadata": {
        "id": "QS9z4C3vG5zO"
      },
      "outputs": [],
      "source": [
        "test_losses = [] \n",
        "num_correct = 0\n",
        "net.eval()\n",
        "for inputs, labels in test_loader:\n",
        "    output = net(inputs)\n",
        "    test_loss = criterion(output.squeeze(), labels.float())\n",
        "    test_losses.append(test_loss.item())\n",
        "    pred = torch.round(output.squeeze()) \n",
        "    correct_tensor = pred.eq(labels.float().view_as(pred))\n",
        "    correct = np.squeeze(correct_tensor.numpy()) if not train_on_gpu else np.squeeze(correct_tensor.cpu().numpy())\n",
        "    num_correct += np.sum(correct)\n",
        "\n",
        "print(\"Test loss: {:.3f}\".format(np.mean(test_losses)))\n",
        "test_acc = num_correct/len(test_loader.dataset)\n",
        "print(\"Test accuracy: {:.3f}\".format(test_acc))"
      ]
    },
    {
      "cell_type": "markdown",
      "metadata": {
        "id": "kwyz288scKZP"
      },
      "source": [
        "# **Testing with self-generated reviews**"
      ]
    },
    {
      "cell_type": "code",
      "source": [
        "model = LogisticRegression(random_state=4248, max_iter=4248)\n",
        "model.fit(train_tfidf, train_sentiment)\n",
        "preds = model.predict(test_tfidf)\n",
        "get_metrics(test_sentiment, preds)"
      ],
      "metadata": {
        "colab": {
          "base_uri": "https://localhost:8080/"
        },
        "id": "LGtRZoujU_tc",
        "outputId": "c91c45b7-434d-4632-e80c-07c9a51736b8"
      },
      "execution_count": null,
      "outputs": [
        {
          "output_type": "stream",
          "name": "stdout",
          "text": [
            "Accuracy: 0.8798484068684789\n",
            "F1 Score: 0.8795384182381086\n"
          ]
        }
      ]
    },
    {
      "cell_type": "code",
      "execution_count": null,
      "metadata": {
        "id": "QXRVyylrDt69"
      },
      "outputs": [],
      "source": [
        "test_review_neg = \"In the Name of the King: A Dungeon Siege Tale is yet another video game turned film by Uwe Boll. The cast is actually pretty good, and features Jason Statham, Ron Perlman, Leelee Sobieski, Claire Forlani, and Ray Liotta; but their performances are bland and lifeless. The only thing worst are the special effects, which are atrocious. And the score is mundane, capturing none of the adventure or wonder of a fantasy film. Cheaply made and uninspired, In the Name of the King: A Dungeon Siege Tale is a dreadful piece of garbage.\"\n",
        "test_review_pos = \"This movie lived up to its hype. It's possibly one of the best films of its kind, and I especially liked the development of all the characters. The villain isn't just a villain. I understood him. Like all Marvel films, the visual and aural elements are excellent. Acting and writing are top notch here as well. This film is a bit more serious than most Marvel films, which works in its favor.\"\n",
        "test_review_neg = preprocess(test_review_neg)\n",
        "test_review_pos = preprocess(test_review_pos)"
      ]
    },
    {
      "cell_type": "code",
      "source": [
        "vectorizer = TfidfVectorizer(analyzer = \"word\", max_features = 10000) \n",
        "vectorizer.fit_transform(x_train).toarray()"
      ],
      "metadata": {
        "id": "gqrvx1JfVs7m",
        "colab": {
          "base_uri": "https://localhost:8080/"
        },
        "outputId": "8a36eb9f-4b41-4973-e5b1-efeb9362312e"
      },
      "execution_count": null,
      "outputs": [
        {
          "output_type": "execute_result",
          "data": {
            "text/plain": [
              "array([[0., 0., 0., ..., 0., 0., 0.],\n",
              "       [0., 0., 0., ..., 0., 0., 0.],\n",
              "       [0., 0., 0., ..., 0., 0., 0.],\n",
              "       ...,\n",
              "       [0., 0., 0., ..., 0., 0., 0.],\n",
              "       [0., 0., 0., ..., 0., 0., 0.],\n",
              "       [0., 0., 0., ..., 0., 0., 0.]])"
            ]
          },
          "metadata": {},
          "execution_count": 30
        }
      ]
    },
    {
      "cell_type": "code",
      "source": [
        "neg_tfidf = vectorizer.transform([test_review_neg])\n",
        "pos_tfidf = vectorizer.transform([test_review_pos])"
      ],
      "metadata": {
        "id": "XiJvz9UqZAUE"
      },
      "execution_count": null,
      "outputs": []
    },
    {
      "cell_type": "code",
      "source": [
        "model.predict(neg_tfidf)"
      ],
      "metadata": {
        "colab": {
          "base_uri": "https://localhost:8080/"
        },
        "id": "lTQS3MzjZZgJ",
        "outputId": "eb16f06f-99c4-480d-a9de-44a736277197"
      },
      "execution_count": null,
      "outputs": [
        {
          "output_type": "execute_result",
          "data": {
            "text/plain": [
              "array([-1])"
            ]
          },
          "metadata": {},
          "execution_count": 32
        }
      ]
    },
    {
      "cell_type": "code",
      "source": [
        "model.predict(pos_tfidf)"
      ],
      "metadata": {
        "id": "zDzjeNG7Zee5",
        "outputId": "db76ab99-ad2f-45cd-8c46-3e66a7e3c442",
        "colab": {
          "base_uri": "https://localhost:8080/"
        }
      },
      "execution_count": null,
      "outputs": [
        {
          "output_type": "execute_result",
          "data": {
            "text/plain": [
              "array([1])"
            ]
          },
          "metadata": {},
          "execution_count": 33
        }
      ]
    },
    {
      "cell_type": "markdown",
      "source": [
        "# **Ensembling Models Together**"
      ],
      "metadata": {
        "id": "TlW0RuptfIy6"
      }
    },
    {
      "cell_type": "code",
      "source": [
        "model = StackingClassifier(random_state=4248)\n",
        "model.fit(train_tfidf, train_sentiment)\n",
        "preds = model.predict(test_tfidf)\n",
        "get_metrics(test_sentiment, preds)\n",
        "get_plot(test_sentiment, preds, 'Stacking (with Tf-idf)', 'stacking_tfidf')    "
      ],
      "metadata": {
        "colab": {
          "base_uri": "https://localhost:8080/",
          "height": 245
        },
        "id": "vsU_yNBNRLki",
        "outputId": "34194598-e65e-41e2-dc8d-63c822f3a92c"
      },
      "execution_count": 44,
      "outputs": [
        {
          "output_type": "error",
          "ename": "TypeError",
          "evalue": "ignored",
          "traceback": [
            "\u001b[0;31m---------------------------------------------------------------------------\u001b[0m",
            "\u001b[0;31mTypeError\u001b[0m                                 Traceback (most recent call last)",
            "\u001b[0;32m<ipython-input-44-07deef0c551d>\u001b[0m in \u001b[0;36m<module>\u001b[0;34m()\u001b[0m\n\u001b[0;32m----> 1\u001b[0;31m \u001b[0mmodel\u001b[0m \u001b[0;34m=\u001b[0m \u001b[0mStackingClassifier\u001b[0m\u001b[0;34m(\u001b[0m\u001b[0mrandom_state\u001b[0m\u001b[0;34m=\u001b[0m\u001b[0;36m4248\u001b[0m\u001b[0;34m)\u001b[0m\u001b[0;34m\u001b[0m\u001b[0;34m\u001b[0m\u001b[0m\n\u001b[0m\u001b[1;32m      2\u001b[0m \u001b[0mmodel\u001b[0m\u001b[0;34m.\u001b[0m\u001b[0mfit\u001b[0m\u001b[0;34m(\u001b[0m\u001b[0mtrain_tfidf\u001b[0m\u001b[0;34m,\u001b[0m \u001b[0mtrain_sentiment\u001b[0m\u001b[0;34m)\u001b[0m\u001b[0;34m\u001b[0m\u001b[0;34m\u001b[0m\u001b[0m\n\u001b[1;32m      3\u001b[0m \u001b[0mpreds\u001b[0m \u001b[0;34m=\u001b[0m \u001b[0mmodel\u001b[0m\u001b[0;34m.\u001b[0m\u001b[0mpredict\u001b[0m\u001b[0;34m(\u001b[0m\u001b[0mtest_tfidf\u001b[0m\u001b[0;34m)\u001b[0m\u001b[0;34m\u001b[0m\u001b[0;34m\u001b[0m\u001b[0m\n\u001b[1;32m      4\u001b[0m \u001b[0mget_metrics\u001b[0m\u001b[0;34m(\u001b[0m\u001b[0mtest_sentiment\u001b[0m\u001b[0;34m,\u001b[0m \u001b[0mpreds\u001b[0m\u001b[0;34m)\u001b[0m\u001b[0;34m\u001b[0m\u001b[0;34m\u001b[0m\u001b[0m\n\u001b[1;32m      5\u001b[0m \u001b[0mget_plot\u001b[0m\u001b[0;34m(\u001b[0m\u001b[0mtest_sentiment\u001b[0m\u001b[0;34m,\u001b[0m \u001b[0mpreds\u001b[0m\u001b[0;34m,\u001b[0m \u001b[0;34m'Stacking (with Tf-idf)'\u001b[0m\u001b[0;34m,\u001b[0m \u001b[0;34m'stacking_tfidf'\u001b[0m\u001b[0;34m)\u001b[0m\u001b[0;34m\u001b[0m\u001b[0;34m\u001b[0m\u001b[0m\n",
            "\u001b[0;31mTypeError\u001b[0m: __init__() got an unexpected keyword argument 'random_state'"
          ]
        }
      ]
    },
    {
      "cell_type": "code",
      "source": [
        "model = VotingClassifier(random_state=4248)\n",
        "model.fit(train_tfidf, train_sentiment)\n",
        "preds = model.predict(test_tfidf)\n",
        "get_metrics(test_sentiment, preds)\n",
        "get_plot(test_sentiment, preds, 'Voting (with Tf-idf)', 'voting_tfidf')    "
      ],
      "metadata": {
        "colab": {
          "base_uri": "https://localhost:8080/",
          "height": 245
        },
        "id": "a3kvbXGIRLz9",
        "outputId": "bfeed5e8-4f66-4160-dd9b-369659181578"
      },
      "execution_count": 47,
      "outputs": [
        {
          "output_type": "error",
          "ename": "TypeError",
          "evalue": "ignored",
          "traceback": [
            "\u001b[0;31m---------------------------------------------------------------------------\u001b[0m",
            "\u001b[0;31mTypeError\u001b[0m                                 Traceback (most recent call last)",
            "\u001b[0;32m<ipython-input-47-8a7200da67f7>\u001b[0m in \u001b[0;36m<module>\u001b[0;34m()\u001b[0m\n\u001b[0;32m----> 1\u001b[0;31m \u001b[0mmodel\u001b[0m \u001b[0;34m=\u001b[0m \u001b[0mVotingClassifier\u001b[0m\u001b[0;34m(\u001b[0m\u001b[0mrandom_state\u001b[0m\u001b[0;34m=\u001b[0m\u001b[0;36m4248\u001b[0m\u001b[0;34m)\u001b[0m\u001b[0;34m\u001b[0m\u001b[0;34m\u001b[0m\u001b[0m\n\u001b[0m\u001b[1;32m      2\u001b[0m \u001b[0mmodel\u001b[0m\u001b[0;34m.\u001b[0m\u001b[0mfit\u001b[0m\u001b[0;34m(\u001b[0m\u001b[0mtrain_tfidf\u001b[0m\u001b[0;34m,\u001b[0m \u001b[0mtrain_sentiment\u001b[0m\u001b[0;34m)\u001b[0m\u001b[0;34m\u001b[0m\u001b[0;34m\u001b[0m\u001b[0m\n\u001b[1;32m      3\u001b[0m \u001b[0mpreds\u001b[0m \u001b[0;34m=\u001b[0m \u001b[0mmodel\u001b[0m\u001b[0;34m.\u001b[0m\u001b[0mpredict\u001b[0m\u001b[0;34m(\u001b[0m\u001b[0mtest_tfidf\u001b[0m\u001b[0;34m)\u001b[0m\u001b[0;34m\u001b[0m\u001b[0;34m\u001b[0m\u001b[0m\n\u001b[1;32m      4\u001b[0m \u001b[0mget_metrics\u001b[0m\u001b[0;34m(\u001b[0m\u001b[0mtest_sentiment\u001b[0m\u001b[0;34m,\u001b[0m \u001b[0mpreds\u001b[0m\u001b[0;34m)\u001b[0m\u001b[0;34m\u001b[0m\u001b[0;34m\u001b[0m\u001b[0m\n\u001b[1;32m      5\u001b[0m \u001b[0mget_plot\u001b[0m\u001b[0;34m(\u001b[0m\u001b[0mtest_sentiment\u001b[0m\u001b[0;34m,\u001b[0m \u001b[0mpreds\u001b[0m\u001b[0;34m,\u001b[0m \u001b[0;34m'Voting (with Tf-idf)'\u001b[0m\u001b[0;34m,\u001b[0m \u001b[0;34m'voting_tfidf'\u001b[0m\u001b[0;34m)\u001b[0m\u001b[0;34m\u001b[0m\u001b[0;34m\u001b[0m\u001b[0m\n",
            "\u001b[0;31mTypeError\u001b[0m: __init__() got an unexpected keyword argument 'random_state'"
          ]
        }
      ]
    }
  ],
  "metadata": {
    "colab": {
      "collapsed_sections": [
        "40Mde-KJhcVE",
        "g2q75Prbspw6",
        "ZSzyYmtjs4g3",
        "bwctJOIHswXo",
        "gtQUJ36EiRC7",
        "R2waCO9MaD3q"
      ],
      "name": "Fatin.ipynb",
      "provenance": [],
      "include_colab_link": true
    },
    "kernelspec": {
      "display_name": "Python 3",
      "name": "python3"
    },
    "language_info": {
      "codemirror_mode": {
        "name": "ipython",
        "version": 3
      },
      "file_extension": ".py",
      "mimetype": "text/x-python",
      "name": "python",
      "nbconvert_exporter": "python",
      "pygments_lexer": "ipython3",
      "version": "3.8.3"
    }
  },
  "nbformat": 4,
  "nbformat_minor": 0
}