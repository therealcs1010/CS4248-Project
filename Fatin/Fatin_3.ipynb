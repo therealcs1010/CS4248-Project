{
 "cells": [
  {
   "cell_type": "markdown",
   "metadata": {
    "id": "Zx08kgSLl3V3"
   },
   "source": [
    "# **Get Data and Preprocess**"
   ]
  },
  {
   "cell_type": "code",
   "execution_count": 34,
   "metadata": {
    "colab": {
     "base_uri": "https://localhost:8080/"
    },
    "id": "Cv-T2Mki-vKV",
    "outputId": "55daaa17-c966-4d4e-ec43-58f2edfddc44"
   },
   "outputs": [
    {
     "name": "stderr",
     "output_type": "stream",
     "text": [
      "[nltk_data] Downloading package stopwords to\n",
      "[nltk_data]     C:\\Users\\simyu\\AppData\\Roaming\\nltk_data...\n",
      "[nltk_data]   Package stopwords is already up-to-date!\n",
      "[nltk_data] Downloading package wordnet to\n",
      "[nltk_data]     C:\\Users\\simyu\\AppData\\Roaming\\nltk_data...\n",
      "[nltk_data]   Package wordnet is already up-to-date!\n"
     ]
    }
   ],
   "source": [
    "import re\n",
    "import nltk\n",
    "nltk.download('stopwords')\n",
    "nltk.download('wordnet')\n",
    "from nltk.corpus import stopwords\n",
    "from nltk.stem import WordNetLemmatizer"
   ]
  },
  {
   "cell_type": "code",
   "execution_count": 35,
   "metadata": {
    "id": "epLtxSYgAfFW"
   },
   "outputs": [],
   "source": [
    "def preprocess(text):\n",
    "    text = re.sub('[^A-Za-z0-9 ]+', '', text)\n",
    "    text = text.lower()\n",
    "    words = text.split()\n",
    "    words = [w for w in words if not w in set(stopwords.words(\"english\"))]\n",
    "    words = [WordNetLemmatizer().lemmatize(word) for word in words]\n",
    "    return \" \".join(words)"
   ]
  },
  {
   "cell_type": "code",
   "execution_count": 36,
   "metadata": {
    "id": "PKjdEL8SmDu_"
   },
   "outputs": [],
   "source": [
    "def get_data(file):\n",
    "    data = pd.read_json(file)\n",
    "    #x_data = data['text'].apply(preprocess)\n",
    "    x_data = data['text']\n",
    "    y_data = data['label']\n",
    "    return x_data, y_data"
   ]
  },
  {
   "cell_type": "code",
   "execution_count": 37,
   "metadata": {
    "colab": {
     "base_uri": "https://localhost:8080/"
    },
    "id": "ezFXtvchB1MC",
    "outputId": "9249563f-1248-4ffc-b66d-2010496c4882"
   },
   "outputs": [],
   "source": [
    "import pandas as pd\n",
    "import numpy as np"
   ]
  },
  {
   "cell_type": "code",
   "execution_count": 38,
   "metadata": {
    "id": "ePmDJ_epAjpX"
   },
   "outputs": [],
   "source": [
    "x_train, y_train = get_data('train.json')\n",
    "x_test, y_test = get_data('test.json')"
   ]
  },
  {
   "cell_type": "code",
   "execution_count": 39,
   "metadata": {
    "colab": {
     "base_uri": "https://localhost:8080/"
    },
    "id": "LdQGL1n7q-C5",
    "outputId": "c902c490-6a85-4c9f-b9ac-6fa9fdec328b"
   },
   "outputs": [
    {
     "data": {
      "text/plain": [
       "0        Bromwell High is a cartoon comedy. It ran at t...\n",
       "1        Homelessness (or Houselessness as George Carli...\n",
       "2        Brilliant over-acting by Lesley Ann Warren. Be...\n",
       "3        This is easily the most underrated film inn th...\n",
       "4        This is not the typical Mel Brooks film. It wa...\n",
       "                               ...                        \n",
       "24995    Towards the end of the movie, I felt it was to...\n",
       "24996    This is the kind of movie that my enemies cont...\n",
       "24997    I saw 'Descent' last night at the Stockholm Fi...\n",
       "24998    Some films that you pick up for a pound turn o...\n",
       "24999    This is one of the dumbest films, I've ever se...\n",
       "Name: text, Length: 25000, dtype: object"
      ]
     },
     "execution_count": 39,
     "metadata": {},
     "output_type": "execute_result"
    }
   ],
   "source": [
    "# x_train.to_csv('data/x_train.csv')\n",
    "# x_test.to_csv('data/x_test.csv')\n",
    "# x_train = pd.read_csv('x_train.csv', index_col=False, header=0)['text']\n",
    "# x_test = pd.read_csv('x_test.csv', index_col=False, header=0)['text']\n",
    "x_train"
   ]
  },
  {
   "cell_type": "code",
   "execution_count": 40,
   "metadata": {
    "colab": {
     "base_uri": "https://localhost:8080/"
    },
    "id": "r9XnhQM7rRo8",
    "outputId": "432575d2-0094-4f8f-8d1a-9157d640f641"
   },
   "outputs": [
    {
     "data": {
      "text/plain": [
       "array(['+', '-'], dtype=object)"
      ]
     },
     "execution_count": 40,
     "metadata": {},
     "output_type": "execute_result"
    }
   ],
   "source": [
    "# y_train.to_csv('data/y_train.csv')\n",
    "# y_test.to_csv('data/y_test.csv')\n",
    "y_train = pd.read_csv('y_train.csv', index_col=False, header=0)['label']\n",
    "y_test = pd.read_csv('y_test.csv', index_col=False, header=0)['label']\n",
    "y_train.unique()"
   ]
  },
  {
   "cell_type": "code",
   "execution_count": 41,
   "metadata": {
    "colab": {
     "base_uri": "https://localhost:8080/"
    },
    "id": "wlVWmMmsKDKG",
    "outputId": "ad9d81d0-eb97-4385-e523-dec4da60ce5a"
   },
   "outputs": [
    {
     "data": {
      "text/plain": [
       "0        1\n",
       "1        1\n",
       "2        1\n",
       "3        1\n",
       "4        1\n",
       "        ..\n",
       "24995   -1\n",
       "24996   -1\n",
       "24997   -1\n",
       "24998   -1\n",
       "24999   -1\n",
       "Name: label, Length: 25000, dtype: int64"
      ]
     },
     "execution_count": 41,
     "metadata": {},
     "output_type": "execute_result"
    }
   ],
   "source": [
    "mapping = {'+': 1, '-': -1}\n",
    "train_sentiment = y_train.replace(mapping)\n",
    "test_sentiment = y_test.replace(mapping)\n",
    "train_sentiment"
   ]
  },
  {
   "cell_type": "markdown",
   "metadata": {
    "id": "GMlRBnJj4mfP"
   },
   "source": [
    "# **Get Vocabulary**"
   ]
  },
  {
   "cell_type": "code",
   "execution_count": 42,
   "metadata": {
    "colab": {
     "base_uri": "https://localhost:8080/"
    },
    "id": "N96g_Tyoe6Xu",
    "outputId": "7370e740-baf6-4c62-8150-ea8496c4ec4d"
   },
   "outputs": [
    {
     "name": "stderr",
     "output_type": "stream",
     "text": [
      "[nltk_data] Downloading package punkt to\n",
      "[nltk_data]     C:\\Users\\simyu\\AppData\\Roaming\\nltk_data...\n",
      "[nltk_data]   Package punkt is already up-to-date!\n"
     ]
    }
   ],
   "source": [
    "nltk.download('punkt')   \n",
    "tokenizer = nltk.data.load('tokenizers/punkt/english.pickle')"
   ]
  },
  {
   "cell_type": "code",
   "execution_count": 43,
   "metadata": {
    "id": "xWxJiSX9fBNo"
   },
   "outputs": [],
   "source": [
    "def get_sentences( review, tokenizer):\n",
    "    raw_sentences = tokenizer.tokenize(review.strip())\n",
    "    sentences = []\n",
    "    for raw_sentence in raw_sentences:\n",
    "        if len(raw_sentence) > 0:\n",
    "            #words = preprocess(raw_sentence, string=False)\n",
    "            words = raw_sentence\n",
    "            sentences.append(words)\n",
    "    return sentences"
   ]
  },
  {
   "cell_type": "code",
   "execution_count": 44,
   "metadata": {
    "id": "fbv8GHQIhgBE"
   },
   "outputs": [],
   "source": [
    "data = pd.read_json('train.json')\n",
    "raw_x_train = data['text']\n",
    "raw_y_train = data['label']\n",
    "data = pd.read_json('test.json')\n",
    "raw_x_test = data['text']\n",
    "raw_y_test = data['label']"
   ]
  },
  {
   "cell_type": "code",
   "execution_count": 45,
   "metadata": {
    "id": "zuJjY_qbfLtI"
   },
   "outputs": [
    {
     "data": {
      "text/plain": [
       "'Bromwell High is a cartoon comedy.'"
      ]
     },
     "execution_count": 45,
     "metadata": {},
     "output_type": "execute_result"
    }
   ],
   "source": [
    "sentences = []\n",
    "for review in raw_x_train:\n",
    "    sentences += get_sentences(review, tokenizer)\n",
    "sentences[0]"
   ]
  },
  {
   "cell_type": "code",
   "execution_count": 46,
   "metadata": {
    "colab": {
     "base_uri": "https://localhost:8080/"
    },
    "id": "uCnZLu6ZGMKA",
    "outputId": "a1f173fd-d094-4ca2-e899-eaa21abe952b"
   },
   "outputs": [
    {
     "data": {
      "text/plain": [
       "['Bromwell High is a cartoon comedy.',\n",
       " 'It ran at the same time as some other programs about school life, such as \"Teachers\".',\n",
       " 'My 35 years in the teaching profession lead me to believe that Bromwell High\\'s satire is much closer to reality than is \"Teachers\".',\n",
       " \"The scramble to survive financially, the insightful students who can see right through their pathetic teachers' pomp, the pettiness of the whole situation, all remind me of the schools I knew and their students.\",\n",
       " 'When I saw the episode in which a student repeatedly tried to burn down the school, I immediately recalled ......... at .......... High.',\n",
       " \"A classic line: INSPECTOR: I'm here to sack one of your teachers.\",\n",
       " 'STUDENT: Welcome to Bromwell High.',\n",
       " 'I expect that many adults of my age think that Bromwell High is far fetched.',\n",
       " \"What a pity that it isn't!\",\n",
       " 'Homelessness (or Houselessness as George Carlin stated) has been an issue for years but never a plan to help those on the street that were once considered human who did everything from going to school, work, or vote for the matter.',\n",
       " \"Most people think of the homeless as just a lost cause while worrying about things such as racism, the war on Iraq, pressuring kids to succeed, technology, the elections, inflation, or worrying if they'll be next to end up on the streets.<br /><br />But what if you were given a bet to live on the streets for a month without the luxuries you once had from a home, the entertainment sets, a bathroom, pictures on the wall, a computer, and everything you once treasure to see what it's like to be homeless?\",\n",
       " \"That is Goddard Bolt's lesson.<br /><br />Mel Brooks (who directs) who stars as Bolt plays a rich man who has everything in the world until deciding to make a bet with a sissy rival (Jeffery Tambor) to see if he can live in the streets for thirty days without the luxuries; if Bolt succeeds, he can do what he wants with a future project of making more buildings.\",\n",
       " \"The bet's on where Bolt is thrown on the street with a bracelet on his leg to monitor his every move where he can't step off the sidewalk.\",\n",
       " \"He's given the nickname Pepto by a vagrant after it's written on his forehead where Bolt meets other characters including a woman by the name of Molly (Lesley Ann Warren) an ex-dancer who got divorce before losing her home, and her pals Sailor (Howard Morris) and Fumes (Teddy Wilson) who are already used to the streets.\",\n",
       " \"They're survivors.\",\n",
       " \"Bolt isn't.\",\n",
       " 'He\\'s not used to reaching mutual agreements like he once did when being rich where it\\'s fight or flight, kill or be killed.<br /><br />While the love connection between Molly and Bolt wasn\\'t necessary to plot, I found \"Life Stinks\" to be one of Mel Brooks\\' observant films where prior to being a comedy, it shows a tender side compared to his slapstick work such as Blazing Saddles, Young Frankenstein, or Spaceballs for the matter, to show what it\\'s like having something valuable before losing it the next day or on the other hand making a stupid bet like all rich people do when they don\\'t know what to do with their money.',\n",
       " 'Maybe they should give it to the homeless instead of using it like Monopoly money.<br /><br />Or maybe this film will inspire you to help others.',\n",
       " 'Brilliant over-acting by Lesley Ann Warren.',\n",
       " 'Best dramatic hobo lady I have ever seen, and love scenes in clothes warehouse are second to none.',\n",
       " 'The corn on face is a classic, as good as anything in Blazing Saddles.',\n",
       " 'The take on lawyers is also superb.',\n",
       " 'After being accused of being a turncoat, selling out his boss, and being dishonest the lawyer of Pepto Bolt shrugs indifferently \"I\\'m a lawyer\" he says.',\n",
       " 'Three funny words.',\n",
       " 'Jeffrey Tambor, a favorite from the later Larry Sanders show, is fantastic here too as a mad millionaire who wants to crush the ghetto.',\n",
       " 'His character is more malevolent than usual.',\n",
       " 'The hospital scene, and the scene where the homeless invade a demolition site, are all-time classics.',\n",
       " 'Look for the legs scene and the two big diggers fighting (one bleeds).',\n",
       " 'This movie gets better each time I see it (which is quite often).',\n",
       " 'This is easily the most underrated film inn the Brooks cannon.',\n",
       " 'Sure, its flawed.',\n",
       " 'It does not give a realistic view of homelessness (unlike, say, how Citizen Kane gave a realistic view of lounge singers, or Titanic gave a realistic view of Italians YOU IDIOTS).',\n",
       " 'Many of the jokes fall flat.',\n",
       " 'But still, this film is very lovable in a way many comedies are not, and to pull that off in a story about some of the most traditionally reviled members of society is truly impressive.',\n",
       " 'Its not The Fisher King, but its not crap, either.',\n",
       " 'My only complaint is that Brooks should have cast someone else in the lead (I love Mel as a Director and Writer, not so much as a lead).',\n",
       " 'This is not the typical Mel Brooks film.',\n",
       " 'It was much less slapstick than most of his movies and actually had a plot that was followable.',\n",
       " 'Leslie Ann Warren made the movie, she is such a fantastic, under-rated actress.',\n",
       " 'There were some moments that could have been fleshed out a bit more, and some scenes that could probably have been cut to make the room to do so, but all in all, this is worth the price to rent and see it.',\n",
       " 'The acting was good overall, Brooks himself did a good job without his characteristic speaking to directly to the audience.',\n",
       " 'Again, Warren was the best actor in the movie, but \"Fume\" and \"Sailor\" both played their parts well.',\n",
       " \"This isn't the comedic Robin Williams, nor is it the quirky/insane Robin Williams of recent thriller fame.\",\n",
       " \"This is a hybrid of the classic drama without over-dramatization, mixed with Robin's new love of the thriller.\",\n",
       " \"But this isn't a thriller, per se.\",\n",
       " \"This is more a mystery/suspense vehicle through which Williams attempts to locate a sick boy and his keeper.<br /><br />Also starring Sandra Oh and Rory Culkin, this Suspense Drama plays pretty much like a news report, until William's character gets close to achieving his goal.<br /><br />I must say that I was highly entertained, though this movie fails to teach, guide, inspect, or amuse.\",\n",
       " 'It felt more like I was watching a guy (Williams), as he was actually performing the actions, from a third person perspective.',\n",
       " \"In other words, it felt real, and I was able to subscribe to the premise of the story.<br /><br />All in all, it's worth a watch, though it's definitely not Friday/Saturday night fare.<br /><br />It rates a 7.7/10 from...<br /><br />the Fiend :.\",\n",
       " \"Yes its an art... to successfully make a slow paced thriller.<br /><br />The story unfolds in nice volumes while you don't even notice it happening.<br /><br />Fine performance by Robin Williams.\",\n",
       " 'The sexuality angles in the film can seem unnecessary and can probably affect how much you enjoy the film.',\n",
       " 'However, the core plot is very engaging.',\n",
       " \"The movie doesn't rush onto you and still grips you enough to keep you wondering.\",\n",
       " 'The direction is good.',\n",
       " 'Use of lights to achieve desired affects of suspense and unexpectedness is good.<br /><br />Very nice 1 time watch if you are looking to lay back and hear a thrilling short story!',\n",
       " 'In this \"critically acclaimed psychological thriller based on true events, Gabriel (Robin Williams), a celebrated writer and late-night talk show host, becomes captivated by the harrowing story of a young listener and his adoptive mother (Toni Collette).',\n",
       " 'When troubling questions arise about this boy\\'s (story), however, Gabriel finds himself drawn into a widening mystery that hides a deadly secret\\x85\" according to film\\'s official synopsis.<br /><br />You really should STOP reading these comments, and watch the film NOW...<br /><br />The \"How did he lose his leg?\"',\n",
       " 'ending, with Ms. Collette planning her new life, should be chopped off, and sent to \"deleted scenes\" land.',\n",
       " \"It's overkill.\",\n",
       " 'The true nature of her physical and mental ailments should be obvious, by the time Mr. Williams returns to New York.',\n",
       " 'Possibly, her blindness could be in question - but a revelation could have be made certain in either the \"highway\" or \"video tape\" scenes.',\n",
       " 'The film would benefit from a re-editing - how about a \"director\\'s cut\"?',\n",
       " \"<br /><br />Williams and Bobby Cannavale (as Jess) don't seem, initially, believable as a couple.\",\n",
       " 'A scene or two establishing their relationship might have helped set the stage.',\n",
       " 'Otherwise, the cast is exemplary.',\n",
       " 'Williams offers an exceptionally strong characterization, and not a \"gay impersonation\".',\n",
       " 'Sandra Oh (as Anna), Joe Morton (as Ashe), and Rory Culkin (Pete Logand) are all perfect.<br /><br />Best of all, Collette\\'s \"Donna\" belongs in the creepy hall of fame.',\n",
       " 'Ms. Oh is correct in saying Collette might be, \"you know, like that guy from \\'Psycho\\'.\"',\n",
       " 'There have been several years when organizations giving acting awards seemed to reach for women, due to a slighter dispersion of roles; certainly, they could have noticed Collette with some award consideration.',\n",
       " 'She is that good.',\n",
       " 'And, director Patrick Stettner definitely evokes Hitchcock - he even makes getting a sandwich from a vending machine suspenseful.<br /><br />Finally, writers Stettner, Armistead Maupin, and Terry Anderson deserve gratitude from flight attendants everywhere.<br /><br />******* The Night Listener (1/21/06) Patrick Stettner ~ Robin Williams, Toni Collette, Sandra Oh, Rory Culkin',\n",
       " 'THE NIGHT LISTENER (2006) **1/2 Robin Williams, Toni Collette, Bobby Cannavale, Rory Culkin, Joe Morton, Sandra Oh, John Cullum, Lisa Emery, Becky Ann Baker.',\n",
       " '(Dir: Patrick Stettner) <br /><br />Hitchcockian suspenser gives Williams a stand-out low-key performance.<br /><br />What is it about celebrities and fans?',\n",
       " 'What is the near paranoia one associates with the other and why is it almost the norm?',\n",
       " \"<br /><br />In the latest derange fan scenario, based on true events no less, Williams stars as a talk-radio personality named Gabriel No one, who reads stories he's penned over the airwaves and has accumulated an interesting fan in the form of a young boy named Pete Logand (Culkin) who has submitted a manuscript about the travails of his troubled youth to No one's editor Ashe (Morton) who gives it to No one to read for himself.\",\n",
       " '<br /><br />No one is naturally disturbed but ultimately intrigued about the nightmarish existence of Pete being abducted and sexually abused for years until he was finally rescued by a nurse named Donna (Collette giving an excellent performance) who has adopted the boy but her correspondence with No one reveals that Pete is dying from AIDS.',\n",
       " \"Naturally No one wants to meet the fans but is suddenly in doubt to their possibly devious ulterior motives when the seed is planted by his estranged lover Jess (Cannavale) whose sudden departure from their New York City apartment has No one in an emotional tailspin that has only now grown into a tempest in a teacup when he decides to do some investigating into Donna and Pete's backgrounds discovering some truths that he didn't anticipate.<br /><br />Written by Armistead Maupin (who co-wrote the screenplay with his former lover Terry Anderson and the film's novice director Stettner) and based on a true story about a fan's hoax found out has some Hitchcockian moments that run on full tilt like any good old fashioned pot-boiler does.\",\n",
       " 'It helps that Williams gives a stand-out, low-key performance as the conflicted good-hearted personality who genuinely wants to believe that his number one fan is in fact real and does love him (the one thing that has escaped his own reality) and has some unsettling dreadful moments with the creepy Collette whose one physical trait I will leave unmentioned but underlines the desperation of her character that can rattle you to the core.<br /><br />However the film runs out of gas and eventually becomes a bit repetitive and predictable despite a finely directed piece of hoodwink and mystery by Stettner, it pays to listen to your own inner voice: be careful of what you hope for.',\n",
       " 'You know, Robin Williams, God bless him, is constantly shooting himself in the foot lately with all these dumb comedies he has done this decade (with perhaps the exception of \"Death To Smoochy\", which bombed when it came out but is now a cult classic).',\n",
       " 'The dramas he has made lately have been fantastic, especially \"Insomnia\" and \"One Hour Photo\".',\n",
       " '\"The Night Listener\", despite mediocre reviews and a quick DVD release, is among his best work, period.<br /><br />This is a very chilling story, even though it doesn\\'t include a serial killer or anyone that physically dangerous for that matter.',\n",
       " 'The concept of the film is based on an actual case of fraud that still has yet to be officially confirmed.',\n",
       " 'In high school, I read an autobiography by a child named Anthony Godby Johnson, who suffered horrific abuse and eventually contracted AIDS as a result.',\n",
       " 'I was moved by the story until I read reports online that Johnson may not actually exist.',\n",
       " 'When I saw this movie, the confused feelings that Robin Williams so brilliantly portrayed resurfaced in my mind.<br /><br />Toni Collette probably gives her best dramatic performance too as the ultimately sociopathic \"caretaker\".',\n",
       " 'Her role was a far cry from those she had in movies like \"Little Miss Sunshine\".',\n",
       " 'There were even times she looked into the camera where I thought she was staring right at me.',\n",
       " \"It takes a good actress to play that sort of role, and it's this understated (yet well reviewed) role that makes Toni Collette probably one of the best actresses of this generation not to have even been nominated for an Academy Award (as of 2008).\",\n",
       " \"It's incredible that there is at least one woman in this world who is like this, and it's scary too.<br /><br />This is a good, dark film that I highly recommend.\",\n",
       " 'Be prepared to be unsettled, though, because this movie leaves you with a strange feeling at the end.',\n",
       " 'When I first read Armistead Maupins story I was taken in by the human drama displayed by Gabriel No one and those he cares about and loves.',\n",
       " 'That being said, we have now been given the film version of an excellent story and are expected to see past the gloss of Hollywood...<br /><br />Writer Armistead Maupin and director Patrick Stettner have truly succeeded!',\n",
       " '<br /><br />With just the right amount of restraint Robin Williams captures the fragile essence of Gabriel and lets us see his struggle with issues of trust both in his personnel life(Jess) and the world around him(Donna).<br /><br />As we are introduced to the players in this drama we are reminded that nothing is ever as it seems and that the smallest event can change our lives irrevocably.',\n",
       " \"The request to review a book written by a young man turns into a life changing event that helps Gabriel find the strength within himself to carry on and move forward.<br /><br />It's to bad that most people will avoid this film.\",\n",
       " 'I only say that because the average American will probably think \"Robin Williams in a serious role?',\n",
       " 'That didn\\'t work before!\"',\n",
       " 'PLEASE GIVE THIS MOVIE A CHANCE!',\n",
       " 'Robin Williams touches the darkness we all must find and go through in ourselves to be better people.',\n",
       " 'Like his movie One Hour Photo he has stepped up as an actor and made another quality piece of art.<br /><br />Oh and before I forget, I believe Bobby Cannavale as Jess steals every scene he is in.',\n",
       " \"He has the 1940's leading man looks and screen presence.\",\n",
       " \"It's this hacks opinion he could carry his own movie right now!\",\n",
       " '!<br /><br />S~',\n",
       " 'I liked the film.',\n",
       " 'Some of the action scenes were very interesting, tense and well done.',\n",
       " 'I especially liked the opening scene which had a semi truck in it.',\n",
       " 'A very tense action scene that seemed well done.<br /><br />Some of the transitional scenes were filmed in interesting ways such as time lapse photography, unusual colors, or interesting angles.',\n",
       " 'Also the film is funny is several parts.',\n",
       " 'I also liked how the evil guy was portrayed too.',\n",
       " \"I'd give the film an 8 out of 10.\",\n",
       " 'There are many illnesses born in the mind of man which have been given life in modern times.',\n",
       " 'Constant vigilance or accrued information in the realm of Pyschosis, have kept psychologists, counselors and psychiatrists busy with enough work to last them decades.',\n",
       " 'Occasionally, some of these mental phenomenon are discover by those with no knowledge of their remedy or even of their existence.',\n",
       " 'That is the premise of the film entitled \" The Night Listner.\"',\n",
       " 'It tells the story of a popular radio host called Gabriel Noon (Robin Williams) who spends his evenings enthralling his audiences with vivid stories about Gay lifestyles.',\n",
       " \"Perhaps its because his show is losing it's authentic veneer which causes Noon to admit he is no longer himself.\",\n",
       " 'Feeling abandoned by both his lover Jess (Bobby Cannavale) and his and best friend (Joe Morton), he seeks shelter in his deepening despair and isolation.',\n",
       " 'It is here, a mysterious voice in the night asks him for help.',\n",
       " 'Noon needs to feel useful and reaches out to the desperate voice which belongs to a 14 year old boy called Peter (Rory Culkin).',\n",
       " \"In reading the boy's harrowing manuscript which depicts the early life and sexual abuse at the hands of his brutal parents, Noon is captivated and wants to help.\",\n",
       " 'However, things are not what they seem and Noon soon finds himself en-wrapped in an elusive and bizarre tale torn right out of a medical nightmare.',\n",
       " 'This movie is pure Robin Williams and were it not for Toni Collette who plays Donna D. Logand, Sandra Oh as Anna and John Cullum as pop, this might be comical.',\n",
       " \"Instead, this may prove to be one of William's more serious performances.\",\n",
       " '***',\n",
       " 'I enjoyed The Night Listener very much.',\n",
       " \"It's one of the better movies of the summer.<br /><br />Robin Williams gives one of his best performances.\",\n",
       " 'In fact, the entire cast was very good.',\n",
       " 'All played just the right notes for their characters - not too much and not too little.',\n",
       " 'Sandra Oh adds a wonderful comic touch.',\n",
       " 'Toni Collette is great as the Mom, and never goes over the top.',\n",
       " \"Everyone is very believable.<br /><br />It's a short movie, just under an hour and a half.\",\n",
       " 'I noticed the general release version is nine minutes shorter than the Sundance version.',\n",
       " 'I wonder if some of the more disturbing images were cut from the movie.<br /><br />The director told a story and did it in straightforward fashion, which is a refreshing change from many directors these days who seem to think their job is to impress the audience rather than tell a story and tell it well.<br /><br />Do not be sucker punched by the previews and ads.',\n",
       " 'It is not a Hitchcockian thriller.',\n",
       " 'See The Night Listener because you want to see a good story told well.',\n",
       " 'If you go expecting Hitchcock you will be disappointed.<br /><br />My only complaint with the movie was the ending.',\n",
       " \"The director could have left a little more to the audience's imagination, but this is a minor quibble.\",\n",
       " \"The Night Listener is probably not one of William's best roles, but he makes a very interesting character in a somewhat odd but very different movie.\",\n",
       " 'I can guarantee you that you have never seen this kind of movie before.',\n",
       " \"Some people maybe won't like the slow pacing of this movie, but I think it's the great plus of the movie.\",\n",
       " 'It is definitely one of the top movies that have come out the year 2006.',\n",
       " 'It has a intriguing performance in a movie with a great content, dramatic feeling.',\n",
       " 'This is no americanized movie.',\n",
       " 'Neither is it a predictable movie.',\n",
       " 'You just feel that it is a movie that has secrets which you have a hard time to determine what the outcome of it may be.',\n",
       " \"This is no excellent movie that has everything, but hell, it's a damn good and very original movie.\",\n",
       " 'Like one of the previous commenters said, this had the foundations of a great movie but something happened on the way to delivery.',\n",
       " \"Such a waste because Collette's performance was eerie and Williams was believable.\",\n",
       " 'I just kept waiting for it to get better.',\n",
       " \"I don't think it was bad editing or needed another director, it could have just been the film.\",\n",
       " 'It came across as a Canadian movie, something like the first few seasons of X-Files.',\n",
       " 'Not cheap, just hokey.',\n",
       " 'Also, it needed a little more suspense.',\n",
       " 'Something that makes you jump off your seat.',\n",
       " 'The movie reached that moment then faded away; kind of like a false climax.',\n",
       " 'I can see how being too suspenseful would have taken away from the \"reality\" of the story but I thought that part was reached when Gabriel was in the hospital looking for the boy.',\n",
       " \"This movie needs to have a Director's cut that tries to fix these problems.\",\n",
       " 'The Night Listener held my attention, with Robin Williams shining as a New York City radio host who becomes enamored with his friendship with a 14 year old boy (Rory Culkin) who is very ill. Williams has never met the boy in person, as they have only been in contact by talking on the telephone.',\n",
       " \"However, Williams' ex-boyfriend (nice job from Bobby Cannavale) raises doubt about the boy, which prompts Williams to arrange a meeting with him in person.\",\n",
       " 'What follows makes a permanent impact on Williams in a way he does not expect.',\n",
       " 'I will leave it at that.',\n",
       " \"Toni Collette also stars.<br /><br />I enjoyed this film, with Toni Collette giving a memorable portrayal of Culkin's adoptive mother.\",\n",
       " \"Sandra Oh also starred as Williams' friend.\",\n",
       " 'The Night Listener is inspired by actual events, and it has a somber, almost creepy silence throughout.',\n",
       " 'At times it is predictable, no thanks to some of the reviews I read before seeing the movie and just due to logic, but I liked it anyway.',\n",
       " 'I enjoy Williams in roles like this, more so than his comedic characters so that was an added bonus for me.',\n",
       " 'Recommended.',\n",
       " '8/10',\n",
       " 'Popular radio storyteller Gabriel No one(Robin Williams,scraggy and speaking in hushed,hypnotic tones) becomes acquainted and friends with a fourteen-year-old boy from Wisconsin named Pete Logand(Rory Culkin),who has written a book detailing sexual abuse from his parents.',\n",
       " 'To boot,Pete has AIDS and this compels Gabriel further still,since his partner Jess(Bobby Cannavale,good)happens to be a survivor of HIV himself.',\n",
       " \"<br /><br />He also acquaints himself with Pete's guardian,a woman named Donna(Toni Collette,brilliant!\",\n",
       " ')and when Gabriel decides he wants to meet and talk to the two of them in person and goes to Wisconsin,he discovers some secrets he was(naturally)not prepared to find.<br /><br />Based on real events that happened to Armistead Maupin(who co-wrote the screenplay with Terry Anderson)and directed by Patrick Stetner,this film moves a lot faster(90 min.,maybe a few minutes longer)than one might think a movie of this genre would run.',\n",
       " \"That's good in that it keeps the action and storyline lean and clear.\",\n",
       " \"It's bad in that it leaves various holes in the plot and doesn't sew-up any of the plot openings or back-story.\",\n",
       " \"I'd rather not go into any great detail except to say that,if you are not familiar with Mr.Maupin's works or his personal story,you feel a little bit out of the loop here.\",\n",
       " \"Still,the performances by Williams( I would've loved to heard more of his narration,personally),Collette,Cannavale,Culkin and much of the supporting cast(the Waitress at the restaurant Collete's Donna frequents does a great job with what small part she has!\",\n",
       " ')are top-notch and the mood established here--namely,the chilly,lonely dark exteriors of Wisconsin and New York--give a terrific framing for this story.',\n",
       " \"It may have ends that don't tie together particularly well,but it's still a compelling enough story to stick with.\",\n",
       " 'If there is one thing to recommend about this film is that it is intriguing.',\n",
       " 'The premise certainly draws the audience in because it is a mystery, and throughout the film there are hints that there is something dark lurking about.',\n",
       " \"However, there is not much tension, and Williams' mild mannered portrayal doesn't do much to makes us relate to his obsession with the boy.<br /><br />Collete fares much better as the woman whose true nature and intentions are not very clear.\",\n",
       " 'The production felt rushed and holes are apparent.',\n",
       " 'It certainly feels like a preview for a much more complete and better effort.',\n",
       " 'The book is probably better.<br /><br />One thing is certain: Taupin must have written something truly good to have inspired at least one commendable effort.',\n",
       " 'I absolutely LOVED this film!',\n",
       " 'I do not at all relate to all the other comments I have read about it.',\n",
       " 'I was COMPLETELY enthralled through every second!',\n",
       " '<br /><br />I found the story gripping, the acting intense, and the direction spot-on.',\n",
       " 'I would literally jump every time the phone would ring close to the end of the movie.',\n",
       " 'Even though there was nothing \"scary\" about the story itself, I was soundly on edge through the whole movie - and for the rest of my evening.',\n",
       " '<br /><br />I found that there were so many perfect choices made...the casting, the script, the little bits of humor sprinkled in it.',\n",
       " \"There were so many points where the film could've gone for the cheap thrill, but it never did, and that for me put this movie above so many of the mediocre thrillers that have come out lately...and for the last number of years.\",\n",
       " 'This Night Listener is better than people are generally saying.',\n",
       " 'It has weaknesses, and it seems to be having a genre identity crisis, no doubt, but I think its creepy atmosphere and intriguing performances make up for this.',\n",
       " 'The whole thing feels like one of those fireside \"this happened to a friend of a friend of mine\" ghost stories.',\n",
       " 'One big complaint about the movie is the pacing: but the slow and sometimes awkward pacing is deliberate.',\n",
       " 'Everything that unfolds in this movie is kept well within the realm of possibility, and real life just sort of plods along\\x97no?',\n",
       " 'So there are no flashy endings or earth-shattering revelations, no \"showdown\" scenes.',\n",
       " 'Thank Heaven.',\n",
       " 'You have to get into the zone when watching this movie, forget your reservations and your expectations of what makes a (conventionally)good movie.',\n",
       " 'Williams isn\\'t terrific, but he easily meets the needs of the story, plus his character is supposed to be somewhat generic (\"No One\") as he is the Everyman, the avatar by which we ourselves enter the story.',\n",
       " \"Toni Collette's performance should be nominated for an Oscar (even if she maybe shouldn't win it).\",\n",
       " 'Give it a shot.',\n",
       " 'For quality and content alone, The Night Listener is surely in the top twenty percent of movies coming out these days.',\n",
       " \"When it comes to movies I can be pretty picky, and I'll complain about anything and everything that is done wrong.\",\n",
       " 'While every movie has its flaws, The Night Listener had an exceptionally low count.<br /><br />If you read the last review (it was hard, since half of it was written in caps and it contained no actual information about the movie), you may have been led to believe that this movie was not too well done.',\n",
       " \"Unfortunately, if you read more than 3 lines into that same review, you discovered the poster's reason for disdain: he/she does not like the fact that the director is gay (or that the production team smokes crack...apparently).<br /><br />So, despite the fact that I have never written a review before, I thought this movie deserved one based on its merits, not the sexual orientation of its director.\",\n",
       " \"Let's go over a quick checklist first: 1.\",\n",
       " 'Great plot?',\n",
       " 'Absolutely.',\n",
       " \"I won't give a shred of it away, but the plot is highly compelling and definitely not what one would expect based on the commercials.\",\n",
       " 'This is a thriller, not a horror, and it should be approached as such.',\n",
       " \"The story really will amaze you, even more so because it's true (and the plot did stay quite faithful to the actual events).<br /><br />2.\",\n",
       " 'Wonderful Acting?',\n",
       " 'Oh Yes.',\n",
       " 'Robin Williams long ago broke free from the chains of the comedy type-cast, and he has since flourished in serious roles for which many people would have wrote him off just a decade ago.',\n",
       " \"He once again achieves high form in his role in The Night Listener, playing a radio host who becomes increasingly troubled by and entangled in a case of...well, I'll let you see for yourself.<br /><br />3.\",\n",
       " 'Excellent direction?',\n",
       " 'Certainly.',\n",
       " 'Now, unlike the other poster to which I referred, I actually know something about direction.',\n",
       " \"I've been sutdying the art of direction at school now for 3 years.\",\n",
       " 'Of course I really don\\'t think that makes a lick of difference (the only thing that matters is if YOU like the direction), but I thought I should simply establish once again that I\\'m basing my opinions here on something both substantial and relevant...for example: not the sexual orientation of the director (or the alleged drug habits of the production team, LOL).<br /><br />Patrick Stettner\\'s direction was moody and dark, and he allowed the angles and lighting to help create those so-sought-after feelings of \"tension and release\" rather than the messy, fast-paced camera-work and quick cuts we\\'re so often subjected to today.',\n",
       " \"Some people can truly show you a story through their camera, while other's feel as if they have to make the story with the camera.\",\n",
       " 'I really appreciate when someone these days has the courage to just use the camera as its supposed to be utilized, which is as an eyeball through which we all see.<br /><br />4.',\n",
       " 'Lighting, cinematography, and editing?',\n",
       " 'Great all around.',\n",
       " \"I've already wrote so much, and I could go on about these last three things for another ten paragraphs, so I'll just wrap it up.<br /><br />In short, go see this movie.\",\n",
       " \"Don't listen to people who have alterior motives for trashing it, especially if they're so stupid that they unknowingly reveal that motive 1/4 of the way through their post.\",\n",
       " 'Enjoy the show!',\n",
       " '-Ben',\n",
       " 'Somewhat funny and well-paced action thriller that has Jamie Foxx as a hapless, fast-talking hoodlum who is chosen by an overly demanding U.S. Treasury Agent (David Morse) to be released on the streets of New York to find a picky computer thief/hacker (Doug Hutchinson), who stole forty-two million dollars from the treasury and left two guards shot dead.<br /><br />\"Bait\" marks the sophomore feature for Antoine Fuqua (\"The Replacement Killers\") and he handles the task fairly well even though it doesn\\'t top his first movie.',\n",
       " 'What the two films have in common is the action sequences, which are flat-out excellent.<br /><br />Foxx is pretty good here although his character is annoying in the beginning, but throughout the film, I began to catch on.',\n",
       " 'Hutchinson is marvelous as the mastermind who can be ruthless as John Malkovich and patient as the late Laurence Olivier was in \"Marathon Man\".',\n",
       " 'Morse is okay as the agent who comes up with the ingenious plan to get whoever did it at all cost.',\n",
       " 'The legendary Boris Karloff ended his illustrious career by making four cheapie fright flick clunkers in Mexico.',\n",
       " 'This is the token moody period Gothic horror entry from the bunch.',\n",
       " 'Karloff gives a typically spry and dignified performance as Matthias Morteval, an elderly eccentric patriarch who invites several of his petty, greedy and backbiting no-count relatives to his creepy rundown castle for the reading of a will.',\n",
       " 'Pretty soon the hateful guests are getting bumped off by lethal life-sized toy people who populate the place.',\n",
       " 'Onetime Mexican sex symbol Andres Garcia of \"Tintorera\" infamy portrays the dashing police officer hero and Julissa looks absolutely ravishing as the sole likable female character.',\n",
       " 'The clunky, plodding (non)direction, trite by-the-numbers script, ugly, washed-out cinematography, ridiculous murder set pieces (a gross fat slob gets blasted right in the face by a miniature cannon!',\n",
       " '), overwrought string score, morbid gloom-doom atmosphere, largely lousy acting (Karloff notably excepted), cheesy mild gore, poor dubbing and rousing fiery conclusion all lend this enjoyably awful lemon a certain endearingly cruddy and hence oddly amusing ratty charm.',\n",
       " 'A real campy hoot.',\n",
       " 'This tale based on two Edgar Allen Poe pieces (\"The Fall of the House of Usher\", \"Dance of Death\" (poem) ) is actually quite creepy from beginning to end.',\n",
       " 'It is similar to some of the old black-and-white movies about people that meet in an old decrepit house (for example, \"The Cat and the Canary\", \"The Old Dark House\", \"Night of Terror\" and so on).',\n",
       " 'Boris Karloff plays a demented inventor of life-size dolls that terrorize the guests.',\n",
       " 'He dies early in the film (or does he ? )',\n",
       " 'and the residents of the house are subjected to a number of terrifying experiences.',\n",
       " \"I won't go into too much detail here, but it is definitely a must-see for fans of old dark house mysteries.<br /><br />Watch it with plenty of popcorn and soda in a darkened room.<br /><br />Dan Basinger 8/10\",\n",
       " \"Aro Tolbukhin burnt alive seven people in a Mission in Guatemala in the 70's.\",\n",
       " 'Also he declared that he had murdered another 16 people (he used to kill pregnant women, and then he set them on fire).<br /><br />This movie is a documentary that portraits the personality of Aro through several interviews with people that got to know him and through some scenes played by actors based on real facts.<br /><br />\"Aro Tolbukhin\" is a serious work, so analytical, it\\'s not morbid at all.',\n",
       " 'Such a horrifying testimony about how some childhood trauma can turn a man into a monster.<br /><br />*My rate: 7/10',\n",
       " 'After seeing several movies of Villaronga, I had a pretty clear opinion about him -- he concentrates too much on the personal aspect of the characters, forgetting about a rhythm of the movie.',\n",
       " 'That is why, though having good critics, his movies never caught the broad audience attention.',\n",
       " 'In ARo he follows the same line, but really improved on the rhythm, especially in the end of the movie.',\n",
       " 'Frankly speaking, I slept through the first part, cause though the first part gives necessary information, it is really slow.',\n",
       " 'Nevertheless the second part is absolutely marvelous and makes the whole movie the best movie ever made by Villaronga.<br /><br />Recommended.',\n",
       " \"There's so many things to fall for in Aro Tolbukhin.\",\n",
       " \"En la mente del asesino (Inside the killer's mind), that it's very hard to talk about it without giving any kind of warning.\",\n",
       " \"Let's just say that this movie is like an exercise in cinema but really, really great done.\",\n",
       " 'It´s made with super 8, black and white shots, 35 milimeters, color, interviews, flashbacks.',\n",
       " 'Aro Tolbukhin it´s like a movie made a documental or viceversa, which most peculiar aspect relays on the doubt that leaves you wondering, did he really ever existed?',\n",
       " 'The movie follows the later life of an hungarian sailor that arrived in Guatemala, worked in a religious mission and then killed some people.',\n",
       " 'An act for which he got caught and death penalty sentenced.',\n",
       " 'The movie starts because some french documentalists got interested in this character so they interview him prior to his death.',\n",
       " 'Nowadays, some more people got involved and make a deeper research of the character.',\n",
       " 'The one we are witness of -the movie.<br /><br />For the main part in the history we are guided by a semi slow phase to go look inside Aro´s mind, mainly in order to decode why he did what he has done.',\n",
       " 'Nevertheless, the important thing is that the filmmakers never gives us a sided point of view; they left the judging for all of us and even as we may understand his actions, we clearly never justify them.',\n",
       " \"So, the first half is based upon recollecting information; later things turn into Aro's childhood, giving the movie such an incredible new force (even tough never got weak or boring).<br /><br />I don't mean -and don't want- to spoil anything; so the only thing left to say is that if by any chance you get this movie near you, believe me, the trip to see it is more than worthy.\",\n",
       " 'This has got to be a unique twists of two genres of ever seen.',\n",
       " 'The giant monster movie genre with the living mummy movie genre.',\n",
       " 'This unique blend makes for a unique and compelling story.',\n",
       " 'The casts is outstanding, including TOM BOSLEY who as far as I know never has been in a horror movie before, ever.',\n",
       " 'The effects are impressive and the idea of a giant mummy filled with smaller mummies is a cool one.',\n",
       " 'My one complaint, I just wish we saw more of the giant mummy, but other then that I think they did a great job.',\n",
       " 'The dialog, the characters and the story was perfect.',\n",
       " 'The acting was wonderful.',\n",
       " 'This has got to be the best movie to come out of the sci-fi channel.',\n",
       " 'You heard me, the best movie to come out of the sci-fi channel.',\n",
       " 'I give THE FALLEN ONES 9 OUT OF 10.',\n",
       " \"Without Kirsten Miller this project needn't have been completed.\",\n",
       " 'However with the awe inspiring beauty and talent that is Miss Miller I would definitely recommend it.',\n",
       " 'It looked as if the other actors were only playing to her strong performance.',\n",
       " \"Wagner's dismal attempt to honor this film was a bit disappointing, but his few scenes didn't detract from being entertained.\",\n",
       " 'Mostly my criticisms are with the writing and plot line, the group of talent assembled did a heroic job of salvaging what should have been a disaster.',\n",
       " 'The charismatic Miller delivery and timing were impeccable and believable.',\n",
       " 'She plays that fine line between assertive and bossy but never offensive she is in fact the structural engineer she claims to be.',\n",
       " 'I wish I had seen this on the big screen but alas I was fortunate to rent it before it was lost.',\n",
       " 'Sure, Titanic was a good movie, the first time you see it, but you really should see it a second time and your opinion of the film will definetly change.',\n",
       " 'The first time you see the movie you see the underlying love-story and think: ooh, how romantic.',\n",
       " 'The second time (and I am not the only one to think this) it is just annoying and you just sit there watching the movie thinking, When is this d**n ship going to sink???',\n",
       " 'And even this is not as impressive when you see it several times.',\n",
       " 'The acting in this film is not bad, but definetly not great either.',\n",
       " 'Was I glad DiCaprio did not win an oscar for that film, I mean who does he think he is, Anthony Hopkins or Denzel Washington?',\n",
       " \"He does 1 half-good movie and won't do a film for less than $20 million.\",\n",
       " 'And then everyone is suprised that there are hardly any films with him in it.',\n",
       " 'But enough about, in my eyes, the worst character of the film.',\n",
       " \"Kate Winslet's performance on the other hand was wonderful.\",\n",
       " 'I also tink that the director is very talented to put a film of such a magnitude together.',\n",
       " \"There is one lesson to be learned about this movie: there are too many love-stories as it is, filmmakers shouldn't try to add a crummy romance in to every single movie!!!\",\n",
       " 'Out of a possible 100% I give this film a mere 71%.',\n",
       " 'When I saw this movie I was stunned by what a great movie it was.',\n",
       " 'This is the only movie I think I would ever give a 10 star rating.',\n",
       " 'I am sure this movie will always be in my top 5.<br /><br />The acting is superb.',\n",
       " 'Leonardo DiCaprio and Kate Winslett are at their best.',\n",
       " \"I don't think anyone could have a better job than Kate.\",\n",
       " \"<br /><br />If it is a rainy day and you can't decide what to rent, well, this is the one.\",\n",
       " 'You will love all the acting, special effects, and much much more.<br /><br />If you have not seen this movie go rent or buy it now!!!',\n",
       " \"You won't regret it.<br /><br />\",\n",
       " 'Why do people bitch about this movie and not about awful movies like The Godfather.',\n",
       " 'Titanic is the greatest movie of the 21st Century.With great acting,directing,effects,music and generally everything.',\n",
       " \"This movie is always dumped by all because one day some one said they didn't like it any more so most of the world decided to agree.\",\n",
       " 'There is nothing wrong with this movie.',\n",
       " \"All I can say is that this movie, not only being the most heavily Oscar Awarded movie of all time, the most money ever made ever and sadly one of the most underrated movies I've ever seen.\",\n",
       " 'Apart from that it is truly the best movie of all time.',\n",
       " 'The only movies that come close to being like all the Star Wars and the Lord of the Rings trilogy or anything by the masters Hitchcock or Spielberg or Tim Burton.',\n",
       " \"These are all good movies and directors but none match up to James Cameron's Masterpiece TITANIC.\",\n",
       " 'Just two comments....SEVEN years apart?',\n",
       " \"Hardly evidence of the film's relentless pulling-power!\",\n",
       " 'As has been mentioned, the low-budget telemovie status of 13 GANTRY ROW is a mitigating factor in its limited appeal.',\n",
       " 'Having said that however the thing is not without merit - either as entertainment or as a fright outing per se.<br /><br />True, the plot at its most basic is a re-working of THE AMITYVILLE HORROR - only without much horror.',\n",
       " 'More a case of intrigue!',\n",
       " 'Gibney might have made a more worthwhile impression if she had played Halifax -investigating a couple of seemingly unconnected murders with the \"house\" as the main suspect.',\n",
       " 'The script is better than average and the production overall of a high standard.',\n",
       " 'It just fails to engage the viewer particularly at key moments.<br /><br />Having picked the DVD up for a mere $3.95 last week at my regular video store, I cannot begrudge the expenditure.',\n",
       " '$10.95 would be an acceptable price for the film.',\n",
       " \"Just don't expect fireworks!\",\n",
       " \"What's inexplicable?\",\n",
       " 'Firstly, the hatred towards this movie.',\n",
       " 'It may not be the greatest movie of all time, but gimme a break, it got 11 oscars for a reason, it made EIGHTEEN HUNDRED MILLION DOLLARS for a reason.',\n",
       " \"It's a damn good movie.\",\n",
       " 'Which brings to the other inexplicable aspect of it.',\n",
       " 'I have no idea whatsoever why this movie left such an impression on me when I saw it in theaters.',\n",
       " \"I've rewatched it on TV and video, and it had none of the impact it had when I saw it on the big screen (twice, or maybe three times, actually).\",\n",
       " 'But that might be it, the appeal of it.',\n",
       " \"It's a Movie, yes, capital M there, it's an Epic, it's a spectacle in the order of Gone With the Wind or Ben Hur.\",\n",
       " 'Now, Ben Hur and Gone With the Wind seem kinda hokey to me, with the hammy acting and excessive melodrama.',\n",
       " 'Not that Titanic has none of that.',\n",
       " 'Well, the acting was actually very good.',\n",
       " \"The melodrama was quite heavy-handed at times.<br /><br />But the reason Titanic works is that it's such an emotional ride.\",\n",
       " 'I usually enjoy movies that stimulate the mind, or give me a visual thrill.',\n",
       " \"This movie isn't exactly dumb, but it's not cerebral at all.\",\n",
       " 'The visual thrills are simply means to an end, to fuel the emotions of the audience.',\n",
       " \"I didn't cry when Bambi's mom died, I don't react to tearjerkers.\",\n",
       " 'But this is a tearjerker to the power of ten million, an emotional rollercoaster that, if it were a regular one, would make Buzz Aldrin scream like a little girl.',\n",
       " \"And I'm sure that if you see it on video and have decided that you hate it, and have a ready supply of cynicism, then you can thoroughly dislike this movie.\",\n",
       " \"But if you let that disbelief suspend just a bit, if you give this epic melodrama the benefit of the doubt, you'll enjoy it completely.\",\n",
       " 'And look at the top ten grossing films of all time.',\n",
       " 'Is a single one of them bad?',\n",
       " 'Is a single one of them worth a score of 1 out of 10?',\n",
       " 'No, not even The Phantom Menace.',\n",
       " 'And this movie made 1.8 BILLION DOLLARS worldwide.',\n",
       " \"It can't be bad.\",\n",
       " 'Not possible.',\n",
       " '10/10.<br /><br />p.s.',\n",
       " 'how can anyone even consider comparing this to spiderman?',\n",
       " 'spiderman was a fun movie, but it was a total 9/11 kneejerk that caused it to gross as much as it did.',\n",
       " \"it simply wasn't anything all that special.\",\n",
       " 'no one will remember it in 50 years.',\n",
       " \"but i'm pretty sure Titanic will be remembered.\",\n",
       " 'Previously, I wrote that I loved \"Titanic\", cried at its ending (many times over), and I\\'m a guy in his 60\\'s.',\n",
       " 'I also wondered about why this great movie, which won so many awards and was applauded by so many critics, was given only a 7.0 rating by imdb.com users.<br /><br />Well, I looked at the breakdown of the user ratings.',\n",
       " 'While 29.0% of all votes gave it a 10 rating, 10.7% gave it a 1 rating.',\n",
       " 'These 10.7% of these irrational imdb users, in effect, pulled the overall rating down to 7.0.',\n",
       " '<br /><br />In my previous comments, I blamed this very unusual voting pattern (a sudden surge in 1 ratings, with a high 10 rating, dropping only gradually and then suddenly reversing course and jumping at the 1 rating level) on only one thing: hatred for Leonardo DiCaprio.',\n",
       " \"Believe me, I've tuned into enough chat rooms to see the banter by young people (young men, mostly), who defame him left and right.\",\n",
       " 'They absolutely hate the man, and they will have no part in giving him any credit in \"Titanic\".',\n",
       " \"(To answer one other user: I am NOT talking about someone who just really doesn't like the movie that much, and gave it a 5 or a 6, etc.\",\n",
       " 'Everyone has, and is entitled to, his/her own taste.',\n",
       " 'But no one can convince me that the imdb rating of only 7.0 overall for \"Titanic\", pulled to that level by an inordinate number of ridiculous 1 ratings, is a fair reflection of the overall motion picture.',\n",
       " ')<br /><br />Let me demonstrate my point by comparing the imdb user voting pattern of \"Titanic\" to 5 randomly chosen box office and critical \"bombs\" (there are many more, but these 5 will prove my point).',\n",
       " '\"Heaven\\'s Gate\" (1980) was pulled from the theaters quickly after a very poor box office showing, and imdb voters\\' ratings were: 23.2% 10 ratings and 9.2% 1 ratings (overall rating of 6.1).',\n",
       " '\"Big Top Pee-wee\" (1988) got 4.3% 10 ratings and 9.9% 1 ratings (overall rating of 4.5).',\n",
       " '\"Cat People\" (1982) got 6.1% 10 ratings and 2.6% 1 ratings (overall rating of 5.8).',\n",
       " '\"Blind Date\" (1987) got 3.0% 10 ratings and 2.8% 1 ratings (overall rating of 5.3).',\n",
       " '\"Jumpin\\' Jack Flash\" (1986) got 4.4% 10 ratings and 3.7% 1 ratings (overall rating of 5.2).',\n",
       " 'WHAT DO ALL OF THESE FILMS HAVE IN COMMON WITH \"TITANIC\"?',\n",
       " 'ALL OF THE PERCENTAGES OF THEIR 1 RATINGS ARE LOWER !!!!',\n",
       " 'THAN \"TITANIC\", AND NONE OF THESE STINKERS EVER WAS NOMINATED FOR A SINGLE AWARD.',\n",
       " 'Again, \"Titanic\" got 10.7% 1 ratings!',\n",
       " 'Compare that to the other 5 movies I just mentioned.<br /><br />Can there be any explanation other than the hatred of Leo factor?<br /><br />',\n",
       " 'I loved this movie since I was 7 and I saw it on the opening day.',\n",
       " 'It was so touching and beautiful.',\n",
       " 'I strongly recommend seeing for all.',\n",
       " \"It's a movie to watch with your family by far.<br /><br />My MPAA rating: PG-13 for thematic elements, prolonged scenes of disastor, nudity/sexuality and some language.\",\n",
       " 'The movie Titanic makes it much more then just a \"night to remember.\"',\n",
       " 'It re writes a tragic history event that will always be talked about and will never been forgotten.',\n",
       " 'Why so criticised?',\n",
       " 'I have no idea.',\n",
       " 'Could/will they ever make a movie like Titanic that is so moving and touching every time you watch it.',\n",
       " 'Could they ever replace such an epic masterpiece.',\n",
       " 'It will be almost impossible.<br /><br />The director no doubt had the major impact on the film.',\n",
       " 'A simple disaster film (boring to watch) converted to an unbelievable romance.',\n",
       " \"Yes I'm not the Romance type either, but that should not bother you, because you will never see a romance like this.\",\n",
       " 'Guaranteed!',\n",
       " 'Everything to the amazing effects, to the music, to the sublime acting.',\n",
       " '<br /><br />The movie creates an amazing visual and a wonderful feeling.',\n",
       " 'Everything looks very real and live.',\n",
       " 'The legend herself \"TITANIC\" is shown brilliantly in all classes, too looks, too accommodation.',\n",
       " 'The acting was the real effect.',\n",
       " 'Dicaprio and Winslet are simply the best at playing there roles.',\n",
       " 'No one could have done better.',\n",
       " 'They are partly the reason why the film is so great.',\n",
       " \"<br /><br />I guess it's not too much to talk about.\",\n",
       " 'The plot is simple, The acting is brilliant, based on a true story, Probably more then half of the consumers that watch the film will share tears, thanks to un imaginable ending which can never be forgotten.',\n",
       " \"Well if you haven't seen this film your missing out on something Hesterical, and a film to idolise for Hollywood.\",\n",
       " 'Could it get better?',\n",
       " 'No.',\n",
       " 'Not at all.',\n",
       " \"The most moving film of all time, don't listen to people, see for yourself then you will understand.\",\n",
       " 'A landmark.',\n",
       " \"(don't be surprised if you cry too)\",\n",
       " 'I had few problems with this film, and I have heard a lot of criticisms saying it is overlong and overrated.',\n",
       " 'True, it is over three hours long, but I was amazed that it goes by so quickly.',\n",
       " \"I don't think it is overrated at all, I think the IMDb rating is perfectly decent.\",\n",
       " 'The film looks sumptuous, with gorgeous costumes and excellent effects, and the direction from James Cameron rarely slips from focus.',\n",
       " 'Leonardo DiCaprio gives one of his best performances as Jack, and Kate Winslet is lovely as Rose.',\n",
       " \"David Warner, a great actor, steals every scene he's in.\",\n",
       " 'The story is very rich in detail, and is hot on character development, obvious with the love story which is very moving when it needs to be, though in the first bit of the movie it is a little slow.',\n",
       " 'The last hour is extremely riveting, and I will confess that I was on the edge of my seat, when the Titanic sank.',\n",
       " 'I will also say that the last five minutes were very moving.',\n",
       " 'The music score by James Horner was lovely, though I never was a huge fan of the song My Heart will Go On.',\n",
       " 'The 1996 miniseries was good, but suffered from undeveloped scenarios and some historical inaccuracies.',\n",
       " 'Overall, I give Titanic an 8.5/10.',\n",
       " 'Bethany Cox.',\n",
       " 'I think James Cameron might be becoming my favorite director because this is my second review of his movies.',\n",
       " 'Anyway, everyone remembers the RMS Titanic.',\n",
       " 'It was big, fast, and \"unsinkable\"... until April 1912.',\n",
       " 'It was all over the news and one of the biggest tragedies ever.',\n",
       " 'Well James Cameron decided to make a movie out of it but star two fictional characters to be in the spotlight instead of the ship.',\n",
       " 'Well, onto the main review but let me remind you that this is all opinion and zero fact and the only fact that will be present is an event from the film.<br /><br />So our two main characters are Jack (Leonardo DiCaprio) and Rose (Kate Winslet).',\n",
       " \"They're not annoying too much but watch this and you'll find out why they could become annoying ( http://tinyurl.com/ojhoyn ).\",\n",
       " 'The main villain I guess is bad luck, fate, hand of God (no blasphemy intended), or just plain Caledon Hockley (Billy Zane).',\n",
       " 'Combine all of the above and what do you get?!',\n",
       " 'Oh yes!',\n",
       " 'We get a love story on a sinking boat.',\n",
       " 'The supporting characters are the following: My personal favorite, Mr. Andrews (Victor Garber)(idk he was so nice), Lovejoy(David Warner), Murdoch(Ewan Stewart), Lightoller (Jonathan Phillips), Captain Smith(Bernard Hill), Molly Brown(Kathy Bates), and many more.',\n",
       " 'We also got the present day treasure hunter, Brock Lovett (Bill Paxton).',\n",
       " 'They add something to the story, something good.',\n",
       " 'The action in here is awesome, especially in the second half, the drama as also good.',\n",
       " 'In the end you can have your eyes dropping rainstorms or silent tears.',\n",
       " 'The story is simple and it works.',\n",
       " 'A treasure hunter seeks the Heart of the Ocean and instead finds a drawing of a woman wearing the said diamond.',\n",
       " 'She calls and tells her tale on the RMS Titanic.',\n",
       " 'Two lovers separated by social class and ultimately, the fate of the ship.',\n",
       " 'Everything about the story works and there are very few flaws.',\n",
       " 'I give Titanic, an 86% awesome',\n",
       " 'Titanic is a long but well made tragic adventure love story that takes place during the ill-fated voyage on the unsinkable ship.',\n",
       " 'Writer/Director James Cameron has done a great job of making this movie about a fictional love story between two very different people and combining that with the real event of the Titanic that sunk after hitting an iceberg on April 15, 1912 claiming thousands of lives who perished in the icy freeing waters of the North Atlantic.',\n",
       " 'The two leads in the film are great in their roles including Leonardo DiCaprio and Kate Winslet.',\n",
       " 'They make for a good on-screen couple.',\n",
       " 'DiCpario and Winslet also had genuine chemistry together which made the romance that eventually blossoms between them that much more believable.',\n",
       " 'They both showed real talent when this one came out and both of them have continued to show just that in their most recently films as well.',\n",
       " 'The rest of the supporting cast including Billy Zane, Kathy Bates, Frances Fisher, Jonathan Hyde, and Bill Paxton in a small role are equally impressive as their characters who help bring them to life in this film.',\n",
       " 'The love story, the action, suspense, and the special effects are magnificent done especially for that time.',\n",
       " 'The horror of the situation the characters were in felt so real because it really happened making you want most of them to survive this life and death situation.',\n",
       " \"The pacing was a little slow at times and it was a little long but the rest of the movie made up for it's few flaws.\",\n",
       " 'Titanic makes for a great date movie which is sure to make some girls cry almost every time they watch it.',\n",
       " 'The fact that this really happened definitely added to the movie making you feel sorry for all the lives lost when the Titanic sunk into the Atlantic after hitting an iceberg.',\n",
       " 'Overall Titanic is a tragic heartbreaking story about two people who fall in love while on the ill-fated ship thats brought to life by the exceptional performances from the cast especially DiCaprio and Winslet who definitely make this movie worth the time to watch.',\n",
       " \"The ship may have sunk but the movie didn't!!!\",\n",
       " \"Director, James Cameron, from 'The Terminator' did it again with this amazing picture.\",\n",
       " \"One of my favorite scenes is 'The Dinner table' scene, in which Rose's family and friends meet Jack after he saves her.\",\n",
       " \"Rose has a look on her face that every woman should have when you meet 'THE ONE'...I hope I have that look when I am in the room with my future husband.<br /><br />Jack and Rose have a connection that is 'MOVIE STUFF' but it's good movie stuff.\",\n",
       " 'We have the greedy mom and all her elite stuck up associates who live off of their husbands wealth.',\n",
       " 'Rose almost commits suicide but the Gilbert Grape star rescues her.',\n",
       " 'I really liked the hanging over the boat scene.',\n",
       " \"It was a good risk.<br /><br />The movie is long but it's fantastic!!!\",\n",
       " 'Good story, good flow, good actors!!!',\n",
       " 'Go see it twice if you want, Its worth it!!',\n",
       " '!',\n",
       " 'Titanic has to be one of my all-time favorite movies.',\n",
       " 'It has its problems (what movies don\\'t) but still, it\\'s enjoyable.<br /><br />When I stumble across someone who asks me why I like Titanic, I suppose my first reaction is \"wait a minute, you don\\'t?\"',\n",
       " \"I know so many people who don't like this movie, and I'm not saying I don't see why.\",\n",
       " '\"The love story is too cheesy\" well, yes but isn\\'t it enjoyable and moving?',\n",
       " \"All right, the love story between Jack and Rose is very unrealistic, everyone knows that love like this doesn't actually exist.\",\n",
       " \"But this is a movie, doesn't everyone enjoy watching a beautiful story that lets us slip slightly into fantasy for a while?\",\n",
       " 'The next complaint, DiCaprio and Winslet are terrible actors.',\n",
       " 'Well, OK, in this movie, I agree that they do not perform to their full potentials.',\n",
       " \"However I think it's unfair to say that they are terrible actors.\",\n",
       " 'I personally think they are both very talented actors who unfortunately are very famous for a movie that they are not amazing in.',\n",
       " \"But the roles they are given are simple, and the characters seem real enough that you can care about them quite a bit, but I agree with many people that they did not do as well as could have been expected.<br /><br />And finally, if one is going to complain that they don't like this movie because they hate romance, or because they hate history, or tragic movies, then I'm sorry but why on earth did they go and see a movie that is so clearly all of these things.\",\n",
       " \"It's like people who complain The Dark Knight is a bad movie because they hate action movies.\",\n",
       " \"Simply for being a movie, not because you dislike the genre, this IS a good movie.<br /><br />Well deserving of its Oscars, in particular, Best Cinematography, which I find to be the best I've ever seen in a movie save maybe the Lord of the Rings trilogy.<br /><br />I know some of the writing fails, such as the constant screaming of each other's names throughout the movie.\",\n",
       " \"The flashback portion of the story can be quite weak at times, but overall it's an amazing achievement in making the Titanic look so real, and the sinking feel so epic.<br /><br />I understand why a lot of people dislike this movie, but for the most part it boils down to them disliking the fundamental idea, such as it being a love story, rather than them thinking the movie in and of itself is poorly constructed.<br /><br />I can tell you that I have read more than five books about the Titanic, including memoirs form the day it happened, and this movie is extremely historically accurate save just a few faults.\",\n",
       " \"The only main ones I can find is that the piping should be threaded copper, not steel, and the iceberg looks fairly unrealistic as is the scene where they hit it.<br /><br />I give this movie 10/10, not because I like romance movies, but simply because it's an outstanding cinematic achievement, that leaves one feeling horrified by the realistic adaptation of events.\",\n",
       " 'Titanic is a classic.',\n",
       " \"I was really surprised that this movie didn't have a solid ten, overall in the IMDb user rankings.\",\n",
       " \"Maybe, it's just cool to not give Titanic credit nowadays, but when it was first made it was really something.\",\n",
       " 'When the movie came out people flocked to the theaters.',\n",
       " 'When it came out on video my sister and i would watch it twice a day for a month.',\n",
       " 'It was safe to say we were obsessed and for good reason.',\n",
       " 'Some of the disaster scenes were hard to forgot, like the frozen baby, or the guy who committed suicide after killing someone in the unruly crowd.',\n",
       " 'Many people died on that ship, and to convey that on film with the immediacy and emotion it needed is a hard challenge that James Cameron stepped up to.',\n",
       " \"And let's not forget the amazing romance between Jack and Rose.\",\n",
       " \"Whether or not their relationship was a figment of someone's imagination it was lovely.\",\n",
       " 'They barely knew each other, but they would die for each other.',\n",
       " 'They trusted each other.',\n",
       " 'They sure as hell are giving Romeo and Juliet a run for their money.',\n",
       " '\"I\\'ll never let go, Jack.\"',\n",
       " \"Titanic is a great film down to it's very core.\",\n",
       " 'It is a powerful story told through brilliant acting, excellent cinematography, beautiful music, and a crew full of hard and dedicated workers.',\n",
       " 'It really blows my mind when someone says they hate this movie.',\n",
       " 'Another Aussie masterpiece, this delves into the world of the unknown and the supernatural, and it does very well.',\n",
       " \"It doesn't resort to the big special effects overkill like American flicks, it focuses more on emotional impact.\",\n",
       " 'A relatively simple plot that Rebecca Gibney & Co. bring to life.',\n",
       " 'It follows the story of a couple who buy an old house that was supposedly home to a very old woman who never went outside, and whose husband disappeared in mysterious circumstances a century ago.',\n",
       " 'Strange things begin to happen in the house, and John Adam begins to turn into the man who disappeared, who was actually a mass murderer.',\n",
       " 'Highly recommended.',\n",
       " '8/10',\n",
       " 'For me personally this film goes down in my top four of all time.',\n",
       " 'No exceptions.',\n",
       " 'James Cameron has proved himself time and time again that he is a master storyteller.',\n",
       " 'Through films such as Aliens, The Abyss and both Terminators it is clear that he was a brilliant and confidant director as far as action and science-fiction goes.',\n",
       " 'He sees a story and adds a strange quality to the film.',\n",
       " 'But Titanic is so much different to his other strokes of brilliance.',\n",
       " 'The film is exceptionally moving and allows room for surprises, plot development and interesting character developments in a story that everyone knows.',\n",
       " 'The story of the famed voyager sinking on her maiden voyage is legend so the challenge was for Cameron to make a truthful, interesting and entertaining film about it.',\n",
       " \"The acting is wonderful as Leonardo DiCaprio who plays Jack and Kate Winslet who plays Rose became superstars overnight with the release of this film and in most films I get annoyed when the supporting characters aren't given a lot to do but in this film it is more purposeful because as an elderly Rose (Gloria Stuart) tells her story it is quickly apparent that it is Rose's and Jack's story alone, no one else.\",\n",
       " 'Emotionally it is entirely satisfying and can leave no dry eye in a theater or home.',\n",
       " 'The music has become iconic and legendary.',\n",
       " \"It is composer James Horner's finest soundtrack ever and evokes so much from the film and the audience.\",\n",
       " 'The song after so long has become annoying but I still appreciate it for the phenomenon it is and this film is.',\n",
       " 'Only one problem, the usual James Cameron problem, is the dialogue which is memorable but in a bad way as in how cheesy it is at points but all that aside.',\n",
       " 'James Cameron has delivered a masterpiece and a romantic epic that sweeps you away on a journey of a lifetime.',\n",
       " \"My heart won't go on from this one.\",\n",
       " 'Back in 1997, do I remember that year: Clinton bans cloning research, the unfortunate death of Princess Diana, the Marlins won the world series and a woman gave birth to septuplets.',\n",
       " 'This was also the big year in the release of Titanic, one of the biggest films of all time: a tale about the ship of dreams, about a boy and a girl who fall in love but are torn apart by their social class and at the height of their emotional commitment the ship meets with disaster.',\n",
       " \"I don't think anybody could have expected Titanic to be as HUGE as it was, the movie was bigger than life and had millions of fans, 85% of them being teenage girls, I was 12 years old at the time, and of course saw the movie multiple times.\",\n",
       " 'It was the film that made me believe that the love that Jack and Rose shared was so real and beautiful.',\n",
       " \"At the time I felt that Titanic could do no wrong, of course I grew up and didn't watch the film since I was 14, a couple years ago I saw the film on DVD for 5.99 and figured that it was a good price and to see what I thought about the movie now.\",\n",
       " 'Was it worth the hype?',\n",
       " 'Was it really the best movie of all time?',\n",
       " \"Was that Leonardo's real nose?\",\n",
       " \"OK, I know that's silly to say, but I did re-watch the film.\",\n",
       " 'Being completely honest here, Titanic is a great movie, best movie of all time, no, just depends on your idea of a good movie, but Titanic delivered in romance, humor, disaster, emotions and never let us go on this maiden voyage.<br /><br />The film starts with Brock Lovett and his team exploring the wreck of the RMS Titanic, searching for a necklace set with a valuable blue diamond called the Heart of the Ocean.',\n",
       " 'Unsuccessful, they instead discover a drawing of a young woman reclining nude, wearing the Heart of the Ocean, dated the day the Titanic sank.',\n",
       " '101-year-old Rose Dawson Calvert learns of the drawing, and contacts Lovett to inform him she is the woman in the drawing.',\n",
       " 'She and her granddaughter Elizabeth \"Lizzy\" Calvert visit Lovett and his skeptical team on his salvage ship.',\n",
       " 'When asked if she knew the whereabouts of the necklace, Rose Calvert recalls her memories aboard the Titanic, revealing for the first time that she was Rose DeWitt Bukater.',\n",
       " \"In 1912, the upper-class 17-year-old Rose boards the ship with her fiancé, Cal Hockley and her mother, Ruth DeWitt Bukater, both of whom stress the importance of Rose's engagement to Cal since the marriage will mean the eradication of the Dewitt-Bukater debts: while they have the outward appearance of the upper-class, Rose and her mother are financially broke.\",\n",
       " 'Distraught and frustrated by her engagement to the controlling Cal and the pressure her mother is putting on her to go through with the marriage, Rose attempts suicide by jumping from the stern.',\n",
       " 'Before she leaps, a drifter and artist named Jack Dawson intervenes.',\n",
       " 'Jack and Rose strike up a tentative friendship as she thanks him for saving her life, and he shares stories of his adventures traveling and sketching; their bond deepens when they leave a stuffy first-class formal dinner of the rapport-building wealthy for a much livelier gathering of Irish dance, music and beer in third-class.',\n",
       " \"But after Cal's servant informs him of Rose's whereabouts', Rose is forbidden from seeing Jack again.\",\n",
       " 'However, after witnessing a woman encouraging her seven-year-old daughter to behave like a \"proper lady\" at tea, Rose defies him and her mother, asking Jack to sketch her nude and wearing only the Heart of the Ocean, an engagement present from Cal.',\n",
       " \"After a beautiful moment together in the very first backseat fun time, they go to the deck of the ship.<br /><br />They then witness the ship's fatal collision with an iceberg.\",\n",
       " \"After overhearing the ship's lookouts discussing how serious the collision is, Rose tells Jack they should warn her mother and Cal.\",\n",
       " \"Meanwhile, Cal discovers Rose's nude drawing and her taunting note in his safe, so he frames Jack for stealing the Heart of the Ocean by having Lovejoy plant it in Jack's pocket.\",\n",
       " 'Upon learning Cal intends to leave Jack to die below deck, Rose runs away from him and her mother to rescue him.',\n",
       " 'Jack and Rose return to the top deck.',\n",
       " 'Cal and Jack, though enemies, both want Rose safe, so they persuade her to board a lifeboat.',\n",
       " \"But after realizing that she cannot leave Jack, Rose jumps back on the ship and reunites with Jack in the ship's first class staircase.\",\n",
       " \"Jack and Rose return to the top deck, the lifeboats have gone, and the ship finally goes down into the freezing Atlantic taking Jack and Rose down.<br /><br />So does Titanic live up to it's hype?\",\n",
       " 'I still say that this is a great movie to watch, I think that there were and still are quite a few haters that for some reason just want to trash the movie because it had won a ton of awards and everyone was in love with the movie.',\n",
       " 'But it has great acting, amazing effects, a well-written story and still looks flawless.',\n",
       " \"Love it or hate it, you have to admit this movie didn't get a lot of hype just because of Leo's baby face or Kate's amazing ability to cry on sight, this film is something special.\",\n",
       " 'It will always hold a special place in my heart, it has too seeing that I saw this film 8 times in the theater when it was released.',\n",
       " \"But all that aside, I do recommend this movie, it's a great one and sure to go down in the classics one day.<br /><br />10/10\",\n",
       " \"James Cameron's 'Titanic' is essentially a romantic adventure with visual grandeur and magnificence, a timeless tragic love story set against the background of this major historical event...\",\n",
       " \"It's an astonishing movie that exemplifies hope, love and humanity... <br /><br />Leonardo DiCaprio is terrific on screen with big charisma... Conveying passion, trust, insouciance and ingenuity, he's a free-spirited wanderer with artistic pretensions, and a zest for life... <br /><br />Kate Winslet is absolutely lovely as the confused upper-class teen engaged to a nasty rich guy who finds herself, one night, plunged to the depths of despair...<br /><br />Billy Zane is an arrogant racist, abusive and ultra rich who would lie, cheat, steal, bribe with money or even use an innocent young child to escape defeat...\",\n",
       " 'He keeps a 56 carat blue diamond worn by Louis XVI...<br /><br />Kathy Bates is the legendary unsinkable Molly Brown, the richest woman in Denver, who is a lot less uptight than the other rich folk on the ship...<br /><br />Frances Fisheris is the impecunious cold snobbish mother who, deathly afraid of losing her social stature, forces her daughter to become engaged to marry a rich, supercilious snob...<br /><br />Victor Garber is the master shipbuilder, the real-life character who attempts to fix time, to measure it, in a sense, to make it into history... <br /><br />Jonathan Hyde is the White Star Chairman who wants the Titanic to break the Trans-Atlantic speed record, in spite of warnings that icebergs may have floated into the hazardous northern crossing...<br /><br />Bill Paxton is the opportunistic undersea explorer in search for a very rare diamond called the \"Heart of the Ocean.\"',\n",
       " '<br /><br />Gloria Stuart is the 101-year old woman who reveals a never-before told love story...',\n",
       " 'The nightmare, the horror and the shock are imprinted upon her deeply lined face... <br /><br />\\'Titanic\\' is loaded with luminous photography and sweeping visuals as the footage of the shipwrecked Ocean liner lying motionless on the ocean floor; the incredible transformation of the bow of the sunken \\'Titanic\\' that takes the viewer back to 1912, revealing the meticulously re-created interiors; the first sight of the Titanic steamed steadily toward her date with destiny; the Titanic, leaving the Southampton dock, and some dolphins appear jumping, racing along in front of the luxurious ship; DeCaprio and Winslet flying at the ship\\'s front rail in a gorgeous magic moment; the intertwining of past and present as Jack was drawing Rose on his paper, the camera zooms closely on young Rose\\'s eye, only to transform its shape into Gloria Stuart\\'s aged eye...<br /><br />Chilling scenes: Titanic\\'s inevitable collision with destiny; James Cameron\\x97in one of the most terrifying sequences ever put on film\\x97 takes us down with the Titanic, finally leaving us floundering in the icy water, screaming for help that never comes...<br /><br />Winner of 11 Academy Awards, including Best Picture, James Cameron\\'s \"Titanic\" is a gigantic epic where you don\\'t just watch the film, you experience it!',\n",
       " \"The visual effects are amazing, like no other film's...\",\n",
       " \"The decor is overwhelming... James Horner's music intensifies the emotions...\",\n",
       " \"The whole movie is hunting and involving, filled with a wide range of deep feelings... <br /><br />It's truly a moving tribute to those who lost their lives on that unfortunate ship...\",\n",
       " 'This movie re-wrote film history in every way.',\n",
       " 'No one cares what anyone thinks about this movie, because it transcends criticism.',\n",
       " 'Every flaw in the movie is easily overcome by the many amazing things the movie has going for it.',\n",
       " 'It is an extremely beautiful movie, and I doubt many of us will see anything like it again.',\n",
       " \"I've seen it more times than I care to count, and I still become transfixed every time, with a feeling which is hard to describe.\",\n",
       " 'One for the ages.',\n",
       " 'Titanic directed by James Cameron presents a fictional love story on the historical setting of the Titanic.',\n",
       " 'The plot is simple, noncomplicated, or not for those who love plots that twist and turn and keep you in suspense.',\n",
       " 'The end of the movie can be figured out within minutes of the start of the film, but the love story is an interesting one, however.',\n",
       " 'Kate Winslett is wonderful as Rose, an aristocratic young lady betrothed by Cal (Billy Zane).',\n",
       " 'Early on the voyage Rose meets Jack (Leonardo DiCaprio), a lower class artist on his way to America after winning his ticket aboard Titanic in a poker game.',\n",
       " 'If he wants something, he goes and gets it unlike the upper class who are so concerned with their social worries.',\n",
       " 'The two fall in love and the audience sees the sinking of the Titanic primarily through their eyes.<br /><br />The movie begins in modern times with the exploration of the wreck by a group searching for treasures, that sunk with the Titanic, which has recently occurred.',\n",
       " 'One of the survivors of the Titanic, Rose DeWitt Bukater, who had heard of the exploration of the wreck on television and is flown to the boat where the search is being led from to tell of what she remembers to help the search.',\n",
       " 'She gets to telling her memory of the one and only voyage of the Titanic.',\n",
       " 'With this, the scene shifts to Southhampton, Ireland where the Titanic set sail from on April 10, 1912 as all the passengers are boarding.',\n",
       " 'After another stop on the Irish coast Titanic went out to see on its maiden voyage across the Atlantic bound for New York.',\n",
       " 'Historically the first few days of the voyage went by uneventful, but the fictional plot of the story is developed during this time as Rose sees the hopeless entrapement of an engagement that she is in to the wealthy Cal Hockley and falls in love with third class passenger, Jack Dawson.',\n",
       " 'Captain Smith alledgedly as shown in the movie was urged by the White Star Line Director to increase the speed of the ship so they would make the newspaper headlines and receive extra publicity by arriving in New York on Thursday night and not on Friday morning as planned.',\n",
       " \"Smith then ordered the fateful decision going against his thirty-two years of experience to stretch the Titanic's legs out to full speed.\",\n",
       " 'The Titanic had reports that the waters in the Atlantic they were sailing in were full of icebergs, but they ignored these warnings and proceeded at full speed as shown in the movie.',\n",
       " 'On April 15, 1912 at 11:39, an iceberg was sighted.',\n",
       " 'They attempted to shut off the engines and turn the ship out of the path of the iceberg but there was not enough time and the ship hit the iceberg on the starboard side as depicted in the film.',\n",
       " 'The portrayal of the many small holes in the side of the ship and not one large gash along the side is accurate.',\n",
       " 'The crew of Titanic sent out distress calls and set off distress rockets as shown until 2:18 when the lights finally failed.',\n",
       " \"The lights of the California were spotted six miles away but they failed to realize what was going on and did not respond to Titanic's many pleas for help.\",\n",
       " 'The California had tried earlier in the day to warn Titanic of the severe ice that had caused them to stop their trip but Titanic had brushed them off causing the California to turn off its radio and leave the Titanic on its own.',\n",
       " 'The first class women and children were the first as depicted to be put into the twenty lifeboats that were on the ship.',\n",
       " 'Overwhelmingly the third class passengers suffered the most amount of deaths of any class and the crew was hit hard in this tragedy too.',\n",
       " 'The word of White Star Line employees and first class passengers was believed over that of second and third class passengers when authorities were trying to gain information of the sinking.',\n",
       " 'Also, the metal that was used to build the Titanic has been found in recent years under conditions of severe cold, which were experienced the night Titanic sank to be extremely brittle.',\n",
       " 'Overall, the basic plot is very accurate in its portayal of the events and the times at which these events took place on the Titanic.<br /><br />Many of the characters in the story were not real and created simply for the purpose of the movie or as composite characters to represent possible characteristics and ideas of people on the ship.',\n",
       " \"The core group of Rose, Jack, Cal, and Rose's mother all were fictional characters added into the story as they represent different groups of people from the time.\",\n",
       " \"Yet many characters such as the Unsinkable Molly Brown; Captain Edward Smith; the ship designer, Thomas Andrew; the White Star Line Representative, Bruce Ismay; and all of the Titanic's officers were real.\",\n",
       " \"The maiden voyage was going to be Captain Edward Smith's last voyage anyway as he planned to retire afterwards.\",\n",
       " \"He had been a part of the White Star Line since 1880 where he worked his way up to his status as the Millionaire's Captain when the Titanic sunk.\",\n",
       " 'The portrayals of the officers is accurate as only four survived the tragedy except for the officer who threatened to kill all of the passengers of the ship with his pistol.',\n",
       " \"He is on record as acting heroicly and was misportrayed to the point that James Cameron apologized and evoked a monument in his honor in the officer's former Canadian hometown.\",\n",
       " 'As shown in the movie there was a language problem between the crew and many of the lower-class passengers from non-English speaking nations.',\n",
       " 'In addition, Officer Lowe was the only officer who came back in the lifeboat as depicted.',\n",
       " \"The old people shown in their bed as the water came in their room were based on the Strauss'.\",\n",
       " \"Not wanting to leave her husband's side Mrs. Strauss refused to get in her lifeboat and died with her husband on the Titanic.\",\n",
       " 'Furthermore, Mr. Goggenheim who was shown sipping his brandy and smoking a cigar reportedly did go out like this dressed in his best.',\n",
       " 'The richest man on the ship, John Jacob Astor, who owned most of Manhattan died nonetheless as well, but his much younger wife was saved in a lifeboat.',\n",
       " 'In addition, Molly Brown was saved and later had medals made up for the crew of the Carpethia that picked the survivors of Titanic up from the water.',\n",
       " 'Her ticket on the Titanic had cost over four-thousand dollars and by the end of her life she ended up broke.',\n",
       " 'All of the interiors of the ship were masterfully replacated down to the last pieces of china and silverware.',\n",
       " 'The gymnasium, which is hardly seen is recreated perfectly with all of the machines reproduced to match those seen in old photographs.',\n",
       " 'The wonderful outfits and costuming were an excellent re-creation of the Post-Victorian era of 1912.',\n",
       " \"The rich at this time practically ruled everything, as the women's suffrage movement had not quite gotten moving yet.\",\n",
       " 'Women during this time often married for financial security as Rose was considering doing and normally took a back seast status to their husbands as Cal wished for Rose to do.',\n",
       " \"The rich did not take well to `new money' such as Molly Brown as depicted.\",\n",
       " 'Everything of the time was very formal.',\n",
       " 'Women had to be escorted to dinner by a male figure as seen with in the dining scenes.',\n",
       " 'Smoking was not very common among women of the time but holders of cigarettes, which were just coming in at the time were used as seen with Rose in the movie.',\n",
       " 'Men of the time generally smoked cigars not cigarettes.',\n",
       " 'Women were constained physically by their corsets and socially by society.',\n",
       " 'Although James Cameron had no background in historical films he brought in experts of Titanic coupled with two years spent cross-referencing the history of the Titanic and few liberties were taken.',\n",
       " 'The beautiful cinematography and special effects also helped to make the film even more breathtaking.<br /><br />A recognizable message can be seen in the movie Titanic as the people on the ship had about three hours to contemplate their demise.',\n",
       " \"The director, James Cameron, shows the various reactions to this time of crisis in people's lives.\",\n",
       " 'Everyone reacts differently and he gets you to think of how you might have reacted had you been in that situation on the Titanic on that fateful night.',\n",
       " \"In addition, this film is a reflection of the 1990's when it was produced as it gives a look into the wreck of the Titanic.\",\n",
       " 'Only in the past fifteen years has the site of the actual Titanic been found and explored.',\n",
       " 'This movie was able to give us a deeper look into a disaster that many would not have viewed.',\n",
       " 'However, the moral question of whether people today should be taking treasures from the wreck of an underwater graveyard is posed.',\n",
       " 'There have been attempts to stop treasure seeking missions such as the one portrayed in Titanic but all have failed.',\n",
       " 'As it stands today anyone can make a voyage to the Titanic and take whatever valuables they as portrayed in the film showing the general values of our time on this matter.<br /><br />Technically the film is very well done.',\n",
       " 'To get footage of the wreck at the bottom of the ocean it took twelve dives to get all of the footage needed for the movie.',\n",
       " 'In addition, a special camera had to be created to withstand the intense pressure at the bottom of the ocean.',\n",
       " 'Cameron did not plan on using the probe to go as far inside Titanic as anyone has in the 88 years since the ship sunk but it worked out that this provided an unique perspective into the ship.',\n",
       " 'Furthermore, throughout the film fade ins and outs from the wreck of Titanic to the scene of Titanic during its actual voyage.',\n",
       " 'This shift between the modern scene to the past scene during the voyage works as an excellent transition that makes the story easy to follow in aclear manner.',\n",
       " 'At the very beginning of the movie a septune recreation is used to recreate the scene when the actual people left the European coast on Titanic giving it distinction from the rest of the events of the film.<br /><br />Titanic plays almost like a historical biography and is like a work of art, a true epic.',\n",
       " \"Like most history novels, we know the ending, but it doesn't take away from the wonderful treats that can be found in this picture.\",\n",
       " 'Certain aspects of this film are Academy Award material including costuming, sound, cintematography, and editing.',\n",
       " \"If you like interesting characters that will give you an insight into the life of characters in the early 1900's and how they face disaster, then this movie definitely is for you.<br /><br />\",\n",
       " 'I find it so amazing that even after all these years, we are STILL talking about this movie!',\n",
       " \"Obviously this movie wasn't THAT bad or else people wouldn't even BOTHER to talk about it.\",\n",
       " 'I personally enjoyed this film immensly, and still do!',\n",
       " \"I guess this film isn't for everyone, but it certainly did touch the hearts of many.\",\n",
       " '<br /><br />As for those that think that this film is \"overrated\" or \"over-hyped\"...well, we only have the movie-going public to thank for that!',\n",
       " 'lol* You see, it\\'s not CRITICS/article writers that make a film \"HUGE\" or a \"HIT\" with the general movie-going public.',\n",
       " 'PEOPLE make the film a huge success.',\n",
       " 'With Titanic, everyone was in awe.',\n",
       " \"Let's face it, a film like this had never been made before.\",\n",
       " 'At least not with the type of special effects needed to really capture the essence of the ship actually sinking.',\n",
       " 'This film is so accurate that even James Cameron timed the actual sinking of the ship in the film with the REAL sinking that fateful day in April 1912.',\n",
       " 'Even the silverware for goodness sakes matched!',\n",
       " '<br /><br />Give this movie a break you guys!',\n",
       " 'The critics thought this movie would sink BIG time!',\n",
       " 'When this movie actually came out and people started hearing by WORD OF MOUTH (which is the BEST form of advertisement mind you) that this was a good/decent/movie worth seeing, then everyone started flocking to the theaters in droves to see this movie...not once, not twice, but maybe 3 times and more!',\n",
       " 'So, I really wouldn\\'t say that this movie was \"overhyped\"...at least not like the buildup for the MATRIX reloaded or the HULK is being \"overhyped\".',\n",
       " 'ha!',\n",
       " \"Critics didn't even think that Titanic would make enough money to cover Cameron's gigantic film budget that it took to make this mammoth of a film.\",\n",
       " 'However, the films money took care of that 200 million budget and MUCH more!',\n",
       " '<br /><br />Personally, I LOVE this film.',\n",
       " 'However, this film might not be for everyone.',\n",
       " \"DOn't say that this film sucks just because of romance though!\",\n",
       " \"THat is the most sexist thing I've ever heard!\",\n",
       " 'Disliking a movie just because it has romance in it!',\n",
       " 'The story was sweet.',\n",
       " \"The dialogue could have been better, but let's face it...the REAL star of the movie wasn't Leo or Kate...it was that GIGANTIC Ship!\",\n",
       " 'I think all of the actors including DiCaprio and Winslet did a fine job.',\n",
       " \"It's not thier best work (I've seen much BETTER work from both of them) but it wasn't the WORST I've seen on screen before.\",\n",
       " 'Give them a break!<br /><br />',\n",
       " 'I avoided watching this film for the longest time.',\n",
       " 'Long before it was even released I had dismissed it as an over-hyped, over-blown, overly romanticized piece of Hollywood schmaltz, and I wanted nothing to do with it.',\n",
       " 'I never watched it in the theatre.',\n",
       " 'I shook my head in disbelief at the 11 Academy Awards - even though I had never seen it.',\n",
       " 'Then I was asked to be a judge at a high school public speaking contest.',\n",
       " 'One of the girls spoke about this movie.',\n",
       " '\"It was so great,\" she said.',\n",
       " '\"You really felt like you were on the ship.\"',\n",
       " '\"Nonsense,\" I thought.',\n",
       " 'I shared my feelings with my fellow judges.',\n",
       " 'One looked at me and said, \"you might be right, but if she liked the movie that much maybe she\\'ll want to learn more about the real Titanic.',\n",
       " 'The movie must have done something right to get her so interested.\"',\n",
       " '\"Well, maybe,\" thought I.',\n",
       " 'Then it finally appeared on Pay TV.',\n",
       " '\"OK,\" I thought, \"I\\'ll give it a look see.\"',\n",
       " \"I didn't want to like it - and I didn't.\",\n",
       " 'I loved it!',\n",
       " 'What a great movie.<br /><br />Where to start?',\n",
       " 'First - the directing.',\n",
       " 'My high school public speaking contestant was right.',\n",
       " 'James Cameron does a superb job of creating an almost \"you are there\" type of atmosphere.',\n",
       " 'The gaiety of life aboard the most elegant ship in the world.',\n",
       " 'The nonchalance as news of the iceberg first spreads; then the rising sense of panic.',\n",
       " \"You don't just watch it; you really do feel it.\",\n",
       " 'Then - the performances.',\n",
       " \"The lead performances from Kate Winslet (as Rose) and Leonardo DiCaprio (as Jack) are excellent - Winslet's being the superior, I thought, but both were good.\",\n",
       " 'They had their rich girl/poor boy characters down to a perfect \"t\" I thought.',\n",
       " \"In my opinion, though, stealing the show was Frances Fisher as Rose's mother.\",\n",
       " 'She was perfect as the snobby aristocrat, and you could feel the fear and loathing she felt every time she looked at Jack.',\n",
       " 'Then - the details.',\n",
       " \"I'm no expert on the sinking of the Titanic, but I have a reasonable general knowledge, and this film does a super job of recreating the historical details accurately and then weaving them seamlessly around the fictional romance.\",\n",
       " 'Very impressive, indeed.',\n",
       " 'Then - the song.',\n",
       " 'Who can watch this movie and not be taken with Celine Dion\\'s performance of \"My Heart Goes On.',\n",
       " '\"<br /><br />Problems.',\n",
       " \"Well, the romance was perhaps too contrived, in the sense that I just don't accept that Jack could have moved so effortlessly from steerage to first class.\",\n",
       " \"(I know he was invited the first time; but he seems to keep getting into first class without being stopped until he's been there for a while.)\",\n",
       " 'The realities of the separation of the social classes were much more realistically portrayed, I thought, when the steerage passengers were going to be left locked down there after the ship hit the iceberg while the first class folks got to enjoy half empty lifeboats.',\n",
       " '<br /><br />A minor quibble, though.',\n",
       " 'This is truly an excellent movie.',\n",
       " 'My only regret is not seeing it in the theatre, where I think it would have been so much more impressive.<br /><br />9/10',\n",
       " 'To all the miserable people who have done everything from complain about the dialogue, the budget, the this and the that....who wants to hear it?',\n",
       " \"IF you missed the point of this beyond-beautiful movie, that's your loss.\",\n",
       " 'The rest of us who deeply love this movie do not care what you think.',\n",
       " 'I am a thirthysomething guy who has seen thousands of movies in my life, and this one stands in its own entity, in my book.',\n",
       " 'It was not supposed to be a documentary, or a completely factual account of what happened that night.',\n",
       " 'It is the most amazing love story ever attempted.',\n",
       " \"I know that it is the cynical 90's and the millennium has everyone in a tizzy, but come on.\",\n",
       " 'Someone on this comments board complained that it made too much money!',\n",
       " 'How lame is that?',\n",
       " 'It made bundles of money in every civilized country on the planet, and is the top grossing film in the planet.',\n",
       " 'I will gladly side with the majority this time around.',\n",
       " 'Okay, cynics, time to crawl back under your rock, I am done.',\n",
       " 'Every once in a while the conversation will turn to \"favorite movies.\"',\n",
       " \"I'll mention Titanic, and at least a couple people will snicker.\",\n",
       " 'I pay them no mind because I know that five years ago, these same people were moved to tears by that very movie.',\n",
       " \"And they're too embarrassed now to admit it.<br /><br />I just rewatched Titanic for the first time in a long time.\",\n",
       " 'Expecting to simply enjoy the story again, I was surprised to find that the movie has lost none of its power over these five years.',\n",
       " 'I cried again.... in all the same places.',\n",
       " 'It brought me back to 1997 when I can remember how a movie that no one thought would break even became the most popular movie of all time.',\n",
       " 'A movie that burst into the public consciousness like no other movie I can recall (yes, even more than Star Wars).',\n",
       " \"And today, many people won't even admit they enjoyed it.\",\n",
       " \"Folks, let's get something straight -- you don't look cool when you badmouth this film.\",\n",
       " 'You look like an out of touch cynic.<br /><br />No movie is perfect and this one has a few faults.',\n",
       " 'Some of the dialogue falls flat, and some of the plot surrounding the two lovers comes together a little too neatly.',\n",
       " 'However, none of this is so distracting that it ruins the film.<br /><br />Leonardo DiCaprio and Kate Winslet are wonderful.',\n",
       " 'Leo is one of the fine actors of his generation.',\n",
       " \"Wait 'til you see him in Gangs of New York before you call him nothing more than a pretty boy.\",\n",
       " 'Kate Winslet was so strong in this film.',\n",
       " 'The movie really was hers, and she held it together beautifully.<br /><br />James Cameron managed what many believed was impossible by recreating a completely believable Titanic.',\n",
       " 'The sinking scenes were horrific, just as they were that night.',\n",
       " 'How anyone can say the effects were bad is beyond me.',\n",
       " 'I was utterly transfixed.<br /><br />This film is one memorable scene after another.',\n",
       " 'Titanic leaving port in Southampton.',\n",
       " 'Rose and Jack at the bow, \"flying\".',\n",
       " '\"Iceberg, right ahead!\"',\n",
       " 'The screws hanging unbelievably out of the ocean.',\n",
       " 'The screams of the doomed after she went down.',\n",
       " \"And that ending that brought even the burliest man in the theater to tears.<br /><br />The music, which has also been a victim of the film's success, was a key ingredient.\",\n",
       " \"James Horner's score was simply perfect.\",\n",
       " 'And the love theme was beautiful and tragic.',\n",
       " \"Too bad Celine Dion's pop song version had to destroy this great bit of music for so many.<br /><br />I confess, I am a Titanic buff.\",\n",
       " 'As such, I relished the opportunity to see the ship as we never got to see it -- in all its beauty.',\n",
       " \"Perhaps watching it sink affected me more than some because I've had such an interest in the ship all my life.\",\n",
       " 'However, I doubt many of those I saw crying were Titanic buffs.',\n",
       " 'I applaud Cameron for bringing this story to the masses in a way that never demeaned the tragedy.',\n",
       " 'The film was made with such humanity.<br /><br />Another reviewer said it better than I ever could: Open up your hearts to Titanic, and you will not be disappointed.',\n",
       " 'I am not a parent, neither am I a male.',\n",
       " \"But I was able to identify with every character's heartaches and pains.<br /><br />This is a movie teenagers should watch.\",\n",
       " 'Maybe that way they will start appreciating the value of family again.',\n",
       " \"I'm sorry for those that don't understand the value of love, family and friendship.<br /><br />It was very interesting to watch Patrick Duffy in a different role than that of Bobby Ewing.\",\n",
       " 'And it is great to see a 19 year old Ben Affleck giving his best in a moving and sincere performance.',\n",
       " 'He showed at an early age, that he is capable of heartfelt drama.',\n",
       " 'He should be offered more serious roles.',\n",
       " 'Note Hollywoodland... his first serious role in years and he went out and won Best Actor at the Venice Festival in 2006.<br /><br />This movie can be appreciated by people of all ages.',\n",
       " \"Maybe shouldn't be watched by children under 10 because they might get scared that the same may happen to their families, but I recommend it to the entire family.<br /><br />I bought this movie on DVD and have watched it with friends many times.\",\n",
       " 'Because it portrays the values that are important in life.',\n",
       " 'After a brief prologue showing a masked man stalking and then slashing the throat of an older gentleman on a deserted, urban, turn of the century Australian street, we meet Julie (Rebecca Gibney) and Peter (John Adam) as they go out house hunting.',\n",
       " 'They manage to get a loan for a fixer-upper on a posh Sydney street, but it turns out that physical disrepair is not the only problem with their new home.',\n",
       " 'It just may be haunted.<br /><br />13 Gantry Row combines a memorable if somewhat clichéd story with good to average direction by Catherine Millar into a slightly above average shocker.<br /><br />The biggest flaws seem partially due to budget, but not wholly excusable to that hurdle.',\n",
       " 'A crucial problem occurs at the beginning of the film.',\n",
       " 'The opening \"thriller scene\" features some wonky editing.',\n",
       " \"Freeze frames and series of stills are used to cover up the fact that there's not much action.\",\n",
       " 'Suspense should be created from staging, not fancy \"fix it in the mix\" techniques.',\n",
       " 'There is great atmosphere in the scene from the location, the lighting, the fog and such, but the camera should be slowly following the killer and the victim, cutting back and forth from one to the other as we track down the street, showing their increasing proximity.',\n",
       " 'The tracking and the cuts need to be slow.',\n",
       " 'The attack needed to be longer, clearer and better blocked.',\n",
       " 'As it stands, the scene has a strong \"made for television\" feel, and a low budget one at that.<br /><br />After this scene we move to the present and the flow of the film greatly improves.',\n",
       " 'The story has a lot of similarities to The Amityville Horror (1979), though the budget forces a much subtler approach.',\n",
       " 'Millar and scriptwriter Tony Morphett effectively create a lot of slyly creepy scenarios, often dramatic in nature instead of special effects-oriented, such as the mysterious man who arrives to take away the old slabs of iron, which had been bizarrely affixed to an interior wall.<br /><br />For some horror fans, the first section of the film might be a little heavy on realist drama.',\n",
       " 'At least the first half hour of the film is primarily about Julie and Peter trying to arrange financing for the house and then trying to settle in.',\n",
       " 'But Morphett writes fine, intelligent dialogue.',\n",
       " \"The material is done well enough that it's often as suspenseful as the more traditional thriller aspects that arise later--especially if you've gone through similar travails while trying to buy your own house.<br /><br />Once they get settled and things begin to get weirder, even though the special effects often leave much to be desired, the ideas are good.\",\n",
       " 'The performances help create tension.',\n",
       " \"There isn't an abundance of death and destruction in the film--there's more of an abundance of home repair nightmares.\",\n",
       " 'But neither menace is really the point.<br /><br />The point is human relationships.',\n",
       " 'There are a number of character arcs that are very interesting.',\n",
       " 'The house exists more as a metaphor and a catalyst for stress in a romantic relationship that can make it go sour and possibly destroy it.',\n",
       " \"That it's in a posh neighborhood, and that the relationship is between two successful yuppies, shows that these problems do not only afflict those who can place blame with some external woe, such as money or health problems.\",\n",
       " 'Peter\\'s character evolves from a striving corporate employee with \"normal\" work-based friendships to someone with more desperation as he becomes subversive, scheming to attain something more liberating and meaningful.',\n",
       " 'At the same time, we learn just how shallow those professional friendships can be.',\n",
       " 'Julie goes through an almost literal nervous breakdown, but finally finds liberation when she liberates herself from her failing romantic relationship.<br /><br />Although 13 Gantry Row never quite transcends its made-for-television clunkiness, as a TV movie, this is a pretty good one, with admirable ambitions.',\n",
       " 'Anyone fond of haunted house films, psycho films or horror/thrillers with a bit more metaphorical depth should find plenty to enjoy.',\n",
       " \"It certainly isn't worth spending $30 for a DVD (that was the price my local PBS station was asking for a copy of the film after they showed it (factoring in shipping and handling)), but it's worth a rental, and it's definitely worth watching for free.\",\n",
       " \"Daniell Steel's Daddy, what a refreshing story.\",\n",
       " 'This movie glorified the importance of the family and the importance of parents in the lives of their children.',\n",
       " 'How rare is that?',\n",
       " 'In these times of \"Heather has two Mommies\" (or what ever, you fill in the blanks) it is easy to see why this theme is not for everyone.',\n",
       " \"With the father's roles being prominent I was hoping this would be another Daniell Steel Saga.\",\n",
       " 'How disappointing to have it end.',\n",
       " 'Every character was important and did a fabulous job carrying their role.',\n",
       " 'I would have loved to see each character develop over the years.',\n",
       " \"I loved this movie, it is one I will defiantly watch every time it's on.\",\n",
       " \"Good story, good acting, and I hope this isn't a spoiler, but no obtrusive sex or bad language.\",\n",
       " 'Yes it touched my heart.',\n",
       " 'Warning, get the Kleenex ready.',\n",
       " 'What I find sad is that this side of family life is rarely depicted today in our entertainment, be it Television or.',\n",
       " \"Movie's.\",\n",
       " 'Daniell if your listening, You Go Girl, give us more.',\n",
       " 'Family problems abound in real life and that is what this movie is about.',\n",
       " 'Love can hold the members together through out the ordeals and trials and that is what this movie is about.',\n",
       " 'One man, Daddy, has the maturity and fortitude to sustain the family in the face of adversity.',\n",
       " 'The kids grow up,one all be it, in the hard way, to realize that no matter how old they or a parent is, the parent still loves their children and are willing to provide them a cushion when they fall.',\n",
       " 'ALL the actors portraying their characters did outstanding performances.',\n",
       " 'Yes, I shed a tear along the way knowing I had had similar experiences both as a young adult and later as a parent.',\n",
       " 'This true to life is one which every young adult, and parent, would do well to see, although some will not realize it until they too are parents.',\n",
       " 'A must see for those who care about their families.',\n",
       " \"It's heart-warming to see a movie that doesn't bash males.\",\n",
       " 'In this one the wife/mother leaves her family to \"get in touch\" with herself - or pursue her libido.',\n",
       " 'The father stays with and nurtures the kids, letting neither his work nor his love life interfere with his love of and responsibility to them.',\n",
       " 'I must admit, when I read the description of the genre on Netflix as \"Steamy Romance\" I was a little bit skeptical.',\n",
       " '\"Steamy\"?',\n",
       " 'In a movie from 1968??',\n",
       " 'I was prepared for disappointment.',\n",
       " 'And when I realized it was shot entirely in black & white, I knew my erotic hopes were dashed.<br /><br />Boy, was I wrong!',\n",
       " 'Not only does this film have all of the elements of a steamy romance -- the discovery of first love, fear of the secret being found out, a sudden unexpected end -- but at times this movie was downright erotic.',\n",
       " 'You will soon forget that it is shot in black & white.',\n",
       " 'The cinematography deserves every accolade it has received over the years.',\n",
       " 'And the performances from the two stars (Essy Persson and Anna Gael) are intense and memorable.',\n",
       " \"OK, so they're both in their mid twenties trying to play school girls.\",\n",
       " \"It's 1968.\",\n",
       " \"Do you really expect teenagers from the '60s to be able to effectively explore a lesbian love story like this?\",\n",
       " 'Many adult women were still trying to come to grips with their sexuality back then.',\n",
       " 'Anyone looking for real teens here is expecting too much.<br /><br />I think this movie was way ahead of its time.',\n",
       " 'The level of eroticism was an unexpected pleasure; yet it still managed to leave a lot to the imagination, opting instead to give us poetic descriptions to add to what we were shown.<br /><br />I have no doubt lesbians will identify with the characters here.',\n",
       " \"As for you straight guys who love watching lesbians in action: Although it won't be all you expect, I don't think you'll be too, too disappointed.\",\n",
       " 'This is a film.., not porn.<br /><br />This is a wonderful film!!!',\n",
       " 'Full of tender moments and memories!!',\n",
       " 'A beautiful piece of work!!!',\n",
       " 'Excellent!!!',\n",
       " 'For intelligent, viewers only!!',\n",
       " '!<br /><br />If you are a film lover.',\n",
       " 'A romantic.',\n",
       " 'A person who has loved deeply, this is your film!!!',\n",
       " '!<br /><br />It has a beautiful surreal quality.',\n",
       " 'Fine acting and directing.',\n",
       " 'Watching this film made me remember my first love.<br /><br />Thi is a film for those who want to reflect on life, love and the meaning of loss.<br /><br />Highly recommended for all film lovers.',\n",
       " \"It was a serious attempt to show the developing sexuality of two schoolgirls and did not try to exploit its fact\\x85 Even by today's standards, the film is interesting and provocative\\x85 <br /><br />Therese and Isabelle are both attending the same girl's school\\x85 Therese is energetic, intelligent, and becomes a mentor for the innocent, naive, sweet Isabelle\\x85 She guides her through a number of exotic experiences, including a trip through an exclusive brothel, into her first lesbian liaison, and indirectly into her first heterosexual experience\\x85 <br /><br />The film does not exploit any sex, nor is there an abundance of nudity...\",\n",
       " 'The imagery is effective, but sometimes the camera lingers too long, and the story goes slowly\\x85 <br /><br />The director, Radley Metzger, went on to make a number of explicit erotic films under the name of Henry Paris\\x85 He always has extremely detailed stories, good acting, and very high standards of cinematography...<br /><br />Artistically, however, this is perhaps his most complete\\x85 His later attempts supplied for entertainment, whereas \"Therese and Isabelle\" was a study into the nature of youthful eroticism...',\n",
       " \"We watched this in my Women's Health Issues class to point out how women are treated inferior to men in many societies, and I absolutely loved this movie.\",\n",
       " 'I plan on trying to get a copy of it myself to watch.',\n",
       " 'The story is very touching and I would recommend it to anyone.',\n",
       " 'I am a fan of different cultures and this movie was just what I needed.',\n",
       " 'This is a movie for the whole family despite its rating.',\n",
       " 'This is a movie I will show to my children.',\n",
       " 'The professor of our class meant for the movie to primarily be a too to educate about women, but this movie was more than that.',\n",
       " 'It is one of those movies that will forever stick out in my mind and will be a favorite.',\n",
       " 'I was going to bed with my gf last night, and while she was brushing her teeth, I flipped channels until I came across this Chinese movie called the King of Masks.',\n",
       " 'At first I thought it was going to be a Kung Fu movie, so I started watching it, and then it immediately captured me in, and I had to finish it.<br /><br />The little girl in the movie was absolutely adorble.',\n",
       " 'She was such a great actor for being so little.',\n",
       " 'Maybe the fact it was in Chinese, so the English was dubbed made it harder for me to tell...but she really seemed to be in character perfectly.',\n",
       " 'I felt so bad for the girl as she kept trying to please her \"boss\" but everything just turned out rotten.',\n",
       " 'lol.',\n",
       " 'Even when she brings him another grandson, just so he can pass on his art...it turns out that kid was kidnapped, so he gets arrested and has 5 days to live.',\n",
       " 'lol...whatever she touches in an effort to be nice to her grandpa, just backfires.<br /><br />In the end, he sees how much love is in her and teaches her the art of masks...which is just so heartwarming after all the mishaps in the movie.<br /><br />Definitely a gem, and totally original.<br /><br />Scott',\n",
       " 'I admit to being somewhat jaded about the movie genre of a young child softening the heart of his/her reluctant guardian.',\n",
       " \"I've seen enough of them \\x97 Baby Boom, Kolya, About a Boy, Mostly Martha, and to some extent, Whale Rider \\x97 to expect to be bored by the formula.\",\n",
       " \"What held my attention in The King of Masks was the grimness of the setting: small-town China in the 1930's.\",\n",
       " 'Extreme poverty was the norm, and girl children were considered so worthless to poor parents that they killed them at birth or gave them to whomever would take them on the black market.',\n",
       " 'When Wang discovers his purchased grandson, whom he\\'s nicknamed \"Doggie,\" is a granddaughter, he initially casts her out, even though she\\'s showed great promise as street-performing heir.',\n",
       " \"Even after he reluctantly takes her back, he's not too upset when she's kidnapped.\",\n",
       " 'The film is gritty then, showing the lengths to which a young, street-smart girl had to go to survive in that society.<br /><br />The two lead performances are believable and beguiling in their societal context.',\n",
       " 'In a Western society, one would expect at least a hint of resentment from Wang at not having achieved more material success.',\n",
       " 'Wang so thoroughly accepts his station as a celebrated artist with low societal status, though, that I did, too.',\n",
       " \"While Doggie exhibits a level of precociousness and cunning that would be suspect in a modern, suburban child, it's completely believable in the context of a kid constantly in survival mode in a society that treats poor girls like garbage.\",\n",
       " 'And after learning that her previous seven owners have physically and mentally abused her, her fierce attachment to Wang makes perfect sense.<br /><br />The peek at small-town life in a foreign country, the naturalness of the two lead actors, the surprising plot twists, and of course, the heartwarming resolution all contribute to a very watchable film.',\n",
       " 'This movie is the best film ever.',\n",
       " \"I can't remember the last time a movie has drawn tears out of me.\",\n",
       " 'with a tear in my eye, I admire this movie.',\n",
       " 'It has all the elements that a good movie must have: Excellent Dialogues, Music, Acting, Story/Plot.',\n",
       " 'A story of friendship, courage, kindliness and loyalty between a Street performing who famous to The King of Masks and a little girl that sold as a boy in serf bazaar.',\n",
       " 'Little girl liked to be his granddaughter and King of Masks liked a grandson.',\n",
       " 'They were not conventional in real.',\n",
       " 'Every scene they were together was priceless.',\n",
       " 'The camera work is flawless and grips you.',\n",
       " 'The acting is inspired.',\n",
       " 'Xu Zhu was Excellent as The King of Masks.',\n",
       " 'Renying Zhou \"Doggie\" looks pretty and played her character very well.',\n",
       " 'Zhigang Zhao as Liang Sao Lang was great.',\n",
       " 'He played his helpful and kindhearted character extremely well.',\n",
       " \"If you have't this movie, try it once, Do watch it.\",\n",
       " \"Verhoeven's movie was utter and complete garbage.\",\n",
       " \"He's a disgusting hack of a director and should be ashamed.\",\n",
       " \"By his own admission, he read 2 chapters of the book, got bored, and decided to make the whole thing up from scratch.<br /><br />Heinlein would have NEVER supported that trash if he'd been alive to see it.\",\n",
       " \"It basically steals the name, mocks politics of the book (which is a good portion of it), and throws in some T&A so the average idiot American moviegoer doesn't get bored.<br /><br />This anime isn't perfect, but it's at least mostly accurate, as best I can tell.\",\n",
       " \"Wang Bianlian is an old street performer who is known as a 'King of masks' for his mastery of Sichuan change art.\",\n",
       " 'Liang is a famous opera performer of Sichuan art and respects Wang as an artist and as a person.',\n",
       " \"Liang is worried that a precious art shouldn't die with Wang and so he sows the seed of an heir in to Wang's mind.\",\n",
       " \"The film is about prejudices, male domination, state of art, values and most importantly warmth.<br /><br />I can't recommend this film enough.\",\n",
       " 'The whole film is in loops.',\n",
       " 'Everything has a significance.',\n",
       " 'Its a long story which has been edited so well that the length of the film is just 91 minutes.',\n",
       " 'A total satisfaction.',\n",
       " 'For five minutes it is an artistic film, next five minutes its a sad film, next five minutes its a thriller.',\n",
       " 'It just keeps changing its mood like its protagonist changes his face.',\n",
       " 'Last scene on the rope is phenomenal.',\n",
       " 'Story and script is flawless.',\n",
       " 'Actors are brilliant.',\n",
       " 'Both the protagonists are artists you can tell the way they have performed.',\n",
       " 'Very impressive.',\n",
       " 'It was not even nominated for Oscars.',\n",
       " \"That year 'English patient' got the best film Oscar and in the foreign film category 'Kolya' won.\",\n",
       " \"'Kolya' was just OK and about 'English patient' the lesser said the better.\",\n",
       " 'Watch it 9/10.',\n",
       " \"One of the most heart-warming foreign films I've ever seen.<br /><br />The young girl is an amazing talent.\",\n",
       " 'Stellar performances by her (Doggie), the old man (the king of masks), and Liang (the Living Boddhisatva).<br /><br />(SPOILER) The deplorable treatment of children, especially females is disturbing.<br /><br />Loved the music.',\n",
       " 'The original Chinese dialog heightens the emotional intensity of the performances and the story.<br /><br />This is a MUST SEE -- enjoyable family film, although not for very young children.',\n",
       " 'Would have rated the DVD release even higher if the soundtrack had been transferred better onto the DVD and the transfer had included the widescreen version.',\n",
       " 'Wow.',\n",
       " 'What a wonderful film.',\n",
       " 'The script is nearly perfect it appears this is the only film written by Minglun Wei,I hope he has more stories in him.<br /><br />The acting is sublime.',\n",
       " 'Renying Zhou as Doggie was amazing -- very natural talent, and Xu Zhu was a delight - very believable as the jaded old traditionalist.',\n",
       " '<br /><br />The soundtrack was very effective, guiding without being overwhelming.',\n",
       " '<br /><br />If only more movies like this were made whether in Hollywood or Hong Kong- a family friendly, well acted, well written, well directed, near perfect gem.',\n",
       " 'The filming is pleasant and the environment is keenly realistic.',\n",
       " \"I liked that it boldly redresses conceptions of the many difficult moral and social morays of the 1930's Chinese-mainland countryside as well as more basic human questions - I felt I could get a real sense of the times, recreated even in splendid shots of traditional Chinese theatre and in purist depictions of street living.\",\n",
       " 'It seemed worthwhile to experience.',\n",
       " \"The interwoven role which Buddhism plays is probably the most true-to-form - both in its menial and in its philosophic aspect, perhaps the most effective that I've seen in Chinese film.\",\n",
       " 'Casting is great.',\n",
       " 'Images are memorable.',\n",
       " 'Acting is solid enough.',\n",
       " 'Thematically puerile but still rich enough to compliment the vehicle of its expression.',\n",
       " 'The King of Masks is a beautifully told story that pits the familial gender preference towards males against human preference for love and companionship.',\n",
       " 'Set in 1930s China during a time of floods, we meet Wang, an elderly street performer whose talents are magical and capture the awe of all who witness him.',\n",
       " 'When a famous operatic performer sees and then befriends Wang, he invites Wang to join their troupe.',\n",
       " \"However, we learn that Wang's family tradition allows him only to pass his secrets to a son.\",\n",
       " 'Learning that Wang is childless, Wang is encouraged to find an heir before the magic is lost forever.',\n",
       " 'Taking the advice to heart, Wang purchases an 8 year old to fulfill his legacy; he would teach his new son, Doggie, the ancient art of silk masks.',\n",
       " 'Soon, Wang discovers a fact about Doggie that threatens the rare and dying art.<br /><br />Together, Wang and Doggie create a bond and experience the range of emotions that invariably accompany it.',\n",
       " 'The story is absorbing.',\n",
       " 'The setting is serene and the costuming simple.',\n",
       " \"Summarily, it is an International Award winning art film which can't help but to move and inspire.\",\n",
       " 'This is a superb movie, suitable for all but the very youngest, though accessibility for younger people was marred (at least in the print which I saw) by the use of some unfortunate choice of English sub-titling!',\n",
       " 'For much of the film it is almost impossible to guess in which time-period it is set - there is no modern technology shown, not even the ubiquitous Chinese bicycle, just a drab, almost monochrome, everyday life, against which is contrasted the dazzling display of the Sezuan Opera and of celebratory fireworks.',\n",
       " \"Even when a group of soldiers refer to their imminent departure for a theatre of war, this could still be any time in the past 150 years.<br /><br />But then we briefly see a motor car - late 30s, early 40s style - and we realise that we are watching a China on the verge of huge upheavals, and that much of the world we are seeing is about to be swept away in the cataclysm of World War 2 and the Communist revolution.<br /><br />Which makes the central character's desire to adhere to old customs and traditions all the more poignant.<br /><br />But the film also raises issues which are of vital importance even today, both within China and in other parts of the world: the inequality between boys and girls, men and women; the trade, for various purposes, in young children; corruption in society; injustice; the importance of friendship.<br /><br />Maybe I'm reading too much into this film; but I don't think so!\",\n",
       " \"I also think that it is a scandal that films of this calibre are often not shown in the United Kingdom, whilst dross is passed off as quality material.<br /><br />But don't get me started on that...\",\n",
       " 'King of Masks (Bian Lian in China) is a shockingly beautiful and profoundly touching film.',\n",
       " 'Winner of 16 awards from around the world, this film based on a true story centers on Wang Bianlian, a street performer in 1930s China who is growing older but has no heir to pass on his art of face-change opera.',\n",
       " 'He has a unique talent of quickly changing masks in performance, and no one knows how he does it.',\n",
       " 'He has a longing desire to have a grandson, as his art is a family heirloom that can only be passed on to a male heir.',\n",
       " \"We then go to the streets, and see that people are selling their children because they can't afford to take care of them: some are even begging to take their daughters for free, because daughters are not worth much in this society.\",\n",
       " \"Wang Bianlian's story goes on from there.<br /><br />The film was so astonishingly good, the acting was amazing, and the issues were so weighty and well-addressed.\",\n",
       " 'There is the gender inequality and the depressing fact that in this time and place, no one wants a little girl.',\n",
       " 'Also interesting to note is that the famed opera actor who always plays a woman and is known as the Living Bodhisattva is a man who dresses as a woman, and while he is famous and well-respected, he regards himself as something low, a half woman.',\n",
       " 'As we go further into the film, the face the issues of human slave trade and its demand and thus the lack of a possible solution for it, the brutality and corruption of the military and police, and the helplessness and lack of power any individual can face due to unfortunate events or even good intentions.<br /><br />This is definitely one of the best movies I have ever seen in my life, and Xu Zhu, the actor who plays Wang Bianlian, presents yet another beautiful performance.',\n",
       " 'This is how movies are supposed to be made: a fascinating setting; characters about whom you come to care deeply; writing and editing that move the plot efficiently and build suspense.',\n",
       " 'This is a wonderful film -- deeply moving without being sentimental.',\n",
       " 'Highly recommended.',\n",
       " 'This movie was excellent.',\n",
       " 'A sad truth to how culture tends to clash with the sexes.',\n",
       " 'This is just one big warm fuzzy type of movie.',\n",
       " 'You have the master who is steeped in tradition and kind hearted in his own way, Doggie despite being a girl thing to win his affections and you top it off with one cute monkey with a thousand facial expressions.',\n",
       " 'This equals on big happy movie in the end.',\n",
       " 'This movie does a good job at showing how steeped in tradition one can be, so steeped that they are willing to die without sharing their secrets.',\n",
       " 'You see sides to a culture never seen before which helps enhance the drama that unfolds near the end of the picture.',\n",
       " 'The cinema-photography is excellent, in particular the opening parade sequence with all the sparkers.',\n",
       " 'Bound to be in Oscar contention for best foreign film.',\n",
       " 'This movie is worth seeing for the visual beauty and moving acting alone, but there also is an interesting cultural subtext of alienation.',\n",
       " 'Women and performers (both brought together in a supporting role of a transvestite opera star) are both doomed to be relegated to subserviant roles in China.',\n",
       " \"This makes the unlikely bonding between an aged street performer and a young girl even stronger as a triumph over the native culture.<br /><br />The only problem I had with this movie was the tendency of the soundtrack to swell up with emotion rendered unnecessary by the actors' performance.<br /><br />A welcome alternative to unsatisfying summer action movies.\",\n",
       " \"Robert A. Heinlein's classic novel Starship Troopers has been messed around with in recent years, in everything to Paul Verhoeven's 1997 film to a TV series, to a number of games.\",\n",
       " 'But none of these, so to speak, has really captured the spirit of his novel.',\n",
       " \"The games are usually unrelated, the TV series was more of a spin off, and the less said about Verhoeven's film, the better.\",\n",
       " \"Little do most know, however, that in Japan, an animated adaptation had already been done, released the year of Heinlein's death.\",\n",
       " \"And, believe it or not, despite its differences, this 6-part animated series is, plot-wise, the most faithful adaptation of Heinlein's classic.<br /><br />The most obvious plus to this series is the presence of the powered armor exoskeletons, something we were deprived of in Verhoeven's film.\",\n",
       " 'Like the book, the series focuses more on the characters and their relationships than on action and space travel, though we see a fair amount of each.',\n",
       " \"While events happen differently than in the book, the feel of the book's plot is present.\",\n",
       " \"Rico and Carmen have a romantic entanglement, but it's only slightly more touched upon than in the book.\",\n",
       " 'While some may believe the dialogue and character interaction to be a bit inferior to the book (it gets a bit of the anime treatment, but what did you expect?',\n",
       " \"), but it's far superior to the film.\",\n",
       " \"Heinlein's political views are merely excised, as opposed to the film, where they are reversed.\",\n",
       " 'The big payoff of the series, however, is the climatic battle on Klendathu between the troopers and the bugs/aliens, which features the kind of action from the powered armor suits we would have like to have seen in a film version.<br /><br />Overall, I enjoyed this series because I wanted to see a vision closer to that of Heinlein.',\n",
       " 'And I think they did pretty well with this.',\n",
       " 'If you can find this series, give it a look.',\n",
       " 'As I was watching this film on video last night, I kept getting these tingles that told me this one will endure.',\n",
       " \"I've a feeling I'll be watching this again and again for years to come.<br /><br />It's got all the timeless qualities you could ask for in a story/film.\",\n",
       " 'And even though some cultural references are obscure for me, a Western viewer, at the core this is a universal tale.',\n",
       " 'When tradition dictates that an artist must pass his great skills and magic on to an heir, the aging and very proud street performer, known to all as \"The King of Masks,\" becomes desperate for a young man apprentice to adopt and cultivate.<br /><br />His warmth and humanity, tho, find him paying a few dollars for a little person displaced by China\\'s devastating natural disasters, in this case, massive flooding in the 1930\\'s.<br /><br />He takes his new, 7 year old companion, onto his straw houseboat, to live with his prized and beautiful monkey, \"General,\" only to discover that the he-child is a she-child.<br /><br />His life is instantly transformed, as the love he feels for this little slave girl becomes entwined in the stupifying tradition that requires him to pass his art on only to a young man.<br /><br />There are many stories inside this one...many people are touched, and the culture of China opens itself for our Western eye to observe.',\n",
       " 'Thousands of years of heritage boil down into a teacup of drama, and few will leave this DVD behind with a dry eye.<br /><br />The technical transfer itself is not that great, as I found the sound levels all over the meter, and could actually see the video transfer lines in several parts of the movie.',\n",
       " 'Highly recommended :-) 9/10 stars.',\n",
       " 'An unexpected pleasure as I had heard nothing about this film.<br /><br />Shameful since it warrants having a wider audience.<br /><br />A wonderfully humane story with a social message gently told, although admittedly predictable in its resolution.',\n",
       " 'Solidly acted by the principals.',\n",
       " 'Beautifully photographed with muted colors floating against grey that captures the nostalgic tone of the film.<br /><br />My recent foray into Chinese film (Shower, The Road Home, Not One Less) has been an exciting one that I hope to continue exploring.',\n",
       " 'China and its people is an amazing canvas for film-makers.',\n",
       " '\"The King of Masks\" can be highly recommended as a starting point for anyone similarly interested in recent Chinese film.<br /><br />',\n",
       " 'One of the great things about many of the superb Chinese movies you can find, if you are lucky, in the video stores, is they are very accurate retellings of actual, true stories.',\n",
       " 'Farewell, my Concubine, The Emperor and the Assassin and this movie are perfect examples.',\n",
       " 'The film makers take a true story and work hard to accurately create a movie without compromising the facts for dramatic or commercial convenience -- the hallmark of much Hollywood, and especially Disney films.<br /><br />In this story we follow the later years of an famous local street performer dubbed the King of Masks for his mastery of Sichuan Change Art.',\n",
       " 'Along an having lost his only son many years earlier, he searches to find a male heir to carry on his rare and dying art in a society that forbids females to have such work.',\n",
       " 'Master Wang is sold a son by a slave trader.',\n",
       " 'All is well as he joyfully prepares to pass down his art.',\n",
       " ...]"
      ]
     },
     "execution_count": 46,
     "metadata": {},
     "output_type": "execute_result"
    }
   ],
   "source": [
    "# df = pd.DataFrame(np.array(sentences))\n",
    "# df.reset_index().to_json('/content/drive/MyDrive/sentences.json')\n",
    "# data_sentences = pd.read_json('sentences.json')\n",
    "# sentences = data_sentences['0']\n",
    "sentences"
   ]
  },
  {
   "cell_type": "code",
   "execution_count": 47,
   "metadata": {
    "id": "Sg9YrWNkGBGE"
   },
   "outputs": [],
   "source": [
    "idx = [ii for ii, sentence in enumerate(sentences) if (len(sentence) > 0)]\n",
    "sentences = [sentences[ii] for ii in idx]"
   ]
  },
  {
   "cell_type": "code",
   "execution_count": 48,
   "metadata": {
    "colab": {
     "base_uri": "https://localhost:8080/"
    },
    "id": "JgTIK1N6S4Bz",
    "outputId": "6d29d7f1-ed0c-4d43-f472-19d9bbedf537"
   },
   "outputs": [
    {
     "data": {
      "text/plain": [
       "178"
      ]
     },
     "execution_count": 48,
     "metadata": {},
     "output_type": "execute_result"
    }
   ],
   "source": [
    "all_words = []\n",
    "for sentence in sentences:\n",
    "    all_words.extend(sentence)\n",
    "len(all_words)\n",
    "\n",
    "vocab = set()\n",
    "for sentence in sentences:\n",
    "    vocab.update(sentence)\n",
    "len(vocab)"
   ]
  },
  {
   "cell_type": "markdown",
   "metadata": {
    "id": "LtTIZxeN5HeU"
   },
   "source": [
    "# **Remove Outliers**"
   ]
  },
  {
   "cell_type": "code",
   "execution_count": 49,
   "metadata": {
    "id": "Y85XqaFU4JvY"
   },
   "outputs": [],
   "source": [
    "from collections import Counter\n",
    "import matplotlib.pyplot as plt\n",
    "\n",
    "counts = Counter(all_words)\n",
    "train_review_lens = Counter([len(x.split()) for x in x_train])\n",
    "test_review_lens = Counter([len(x.split()) for x in x_test])"
   ]
  },
  {
   "cell_type": "code",
   "execution_count": 50,
   "metadata": {
    "colab": {
     "base_uri": "https://localhost:8080/",
     "height": 0
    },
    "id": "VsGXtZ5N4Lv_",
    "outputId": "282a71f3-fd6c-4238-b102-22a51eafecb3"
   },
   "outputs": [
    {
     "data": {
      "text/plain": [
       "Text(0, 0.5, 'Number of reviews')"
      ]
     },
     "execution_count": 50,
     "metadata": {},
     "output_type": "execute_result"
    },
    {
     "data": {
      "image/png": "[encoded data removed]",
      "text/plain": [
       "<Figure size 432x288 with 1 Axes>"
      ]
     },
     "metadata": {
      "needs_background": "light"
     },
     "output_type": "display_data"
    }
   ],
   "source": [
    "plt.bar(train_review_lens.keys(), train_review_lens.values())\n",
    "plt.xlabel('Review length')\n",
    "plt.ylabel('Number of reviews')"
   ]
  },
  {
   "cell_type": "code",
   "execution_count": 51,
   "metadata": {
    "colab": {
     "base_uri": "https://localhost:8080/",
     "height": 0
    },
    "id": "2zAuQ4R54Nmd",
    "outputId": "7b6f401b-e985-4bc3-8c18-f07d8ec01fb3"
   },
   "outputs": [
    {
     "data": {
      "text/plain": [
       "Text(0, 0.5, 'Number of reviews')"
      ]
     },
     "execution_count": 51,
     "metadata": {},
     "output_type": "execute_result"
    },
    {
     "data": {
      "image/png": "[encoded data removed]",
      "text/plain": [
       "<Figure size 432x288 with 1 Axes>"
      ]
     },
     "metadata": {
      "needs_background": "light"
     },
     "output_type": "display_data"
    }
   ],
   "source": [
    "plt.bar(test_review_lens.keys(), test_review_lens.values())\n",
    "plt.xlabel('Review length')\n",
    "plt.ylabel('Number of reviews')"
   ]
  },
  {
   "cell_type": "code",
   "execution_count": 52,
   "metadata": {
    "colab": {
     "base_uri": "https://localhost:8080/"
    },
    "id": "gGMUsUlN4Put",
    "outputId": "c8ce302a-e4f0-47fc-cf49-e65773fff572"
   },
   "outputs": [
    {
     "name": "stdout",
     "output_type": "stream",
     "text": [
      "Number of training reviews before removing outliers:  25000\n",
      "Number of training reviews after removing outliers:  14580\n"
     ]
    }
   ],
   "source": [
    "print('Number of training reviews before removing outliers: ', len(x_train))\n",
    "idx = [ii for ii, review in enumerate(x_train) if (len(review.split()) > 0 and len(review.split()) < 200)]\n",
    "x_train = [x_train[ii] for ii in idx]\n",
    "train_sentiment = np.array([train_sentiment[ii] for ii in idx])\n",
    "print('Number of training reviews after removing outliers: ', len(x_train))"
   ]
  },
  {
   "cell_type": "code",
   "execution_count": 53,
   "metadata": {
    "colab": {
     "base_uri": "https://localhost:8080/"
    },
    "id": "2VunEqrs4RhS",
    "outputId": "b9ff8100-9085-4081-d52c-af888b78bb2c"
   },
   "outputs": [
    {
     "name": "stdout",
     "output_type": "stream",
     "text": [
      "Number of testing reviews before removing outliers:  25000\n",
      "Number of testing reviews after removing outliers:  14835\n"
     ]
    }
   ],
   "source": [
    "print('Number of testing reviews before removing outliers: ', len(x_test))\n",
    "idx = [ii for ii, review in enumerate(x_test) if (len(review.split()) > 0 and len(review.split()) < 200)]\n",
    "x_test = [x_test[ii] for ii in idx]\n",
    "test_sentiment = np.array([test_sentiment[ii] for ii in idx])\n",
    "print('Number of testing reviews after removing outliers: ', len(x_test))"
   ]
  },
  {
   "cell_type": "markdown",
   "metadata": {
    "id": "877tk50UsYBa"
   },
   "source": [
    "# **Feature Engineering with BoW and Tf-idf**"
   ]
  },
  {
   "cell_type": "code",
   "execution_count": 54,
   "metadata": {
    "id": "QFofCCMmEwhl"
   },
   "outputs": [],
   "source": [
    "import sklearn\n",
    "from sklearn.feature_extraction.text import CountVectorizer, TfidfVectorizer"
   ]
  },
  {
   "cell_type": "code",
   "execution_count": 55,
   "metadata": {
    "id": "ZStmAE1Qm1fi"
   },
   "outputs": [],
   "source": [
    "def get_bow(clean_train_text, clean_test_text):\n",
    "    vectorizer = CountVectorizer(analyzer = \"word\", max_features = 10000) \n",
    "    train_bow = vectorizer.fit_transform(clean_train_text).toarray()\n",
    "    test_bow = vectorizer.transform(clean_test_text).toarray()\n",
    "    return train_bow, test_bow"
   ]
  },
  {
   "cell_type": "code",
   "execution_count": 56,
   "metadata": {
    "id": "pIkeqmVnm3DX"
   },
   "outputs": [],
   "source": [
    "def get_tfidf(clean_train_text, clean_test_text):\n",
    "    vectorizer = TfidfVectorizer(analyzer = \"word\", max_features = 10000) \n",
    "    train_tfidf = vectorizer.fit_transform(clean_train_text).toarray()\n",
    "    test_tfidf = vectorizer.transform(clean_test_text).toarray()\n",
    "    return train_tfidf, test_tfidf"
   ]
  },
  {
   "cell_type": "code",
   "execution_count": 57,
   "metadata": {
    "colab": {
     "base_uri": "https://localhost:8080/"
    },
    "id": "DACcZAZvE0NS",
    "outputId": "54d3c5dc-e286-40bc-cf42-81cca1b33c5e"
   },
   "outputs": [
    {
     "data": {
      "text/plain": [
       "array([[0., 0., 0., ..., 0., 0., 0.],\n",
       "       [0., 0., 0., ..., 0., 0., 0.],\n",
       "       [0., 0., 0., ..., 0., 0., 0.],\n",
       "       ...,\n",
       "       [0., 0., 0., ..., 0., 0., 0.],\n",
       "       [0., 0., 0., ..., 0., 0., 0.],\n",
       "       [0., 0., 0., ..., 0., 0., 0.]])"
      ]
     },
     "execution_count": 57,
     "metadata": {},
     "output_type": "execute_result"
    }
   ],
   "source": [
    "train_bow, test_bow = get_bow(x_train, x_test)\n",
    "train_tfidf, test_tfidf = get_tfidf(x_train, x_test)\n",
    "train_tfidf"
   ]
  },
  {
   "cell_type": "markdown",
   "metadata": {
    "id": "6P4MiIXqbJzy"
   },
   "source": [
    "# **Feature Engineering with Word2Vec (Average Vectors)**"
   ]
  },
  {
   "cell_type": "markdown",
   "metadata": {
    "id": "wBkFgqsnlNme"
   },
   "source": [
    "Referenced from https://github.com/wendykan/DeepLearningMovies"
   ]
  },
  {
   "cell_type": "code",
   "execution_count": null,
   "metadata": {
    "id": "PKGn_cSJhs4y"
   },
   "outputs": [],
   "source": [
    "from gensim.models import Word2Vec"
   ]
  },
  {
   "cell_type": "code",
   "execution_count": null,
   "metadata": {
    "id": "ZDKxnPbsfRWz"
   },
   "outputs": [],
   "source": [
    "num_features = 300    \n",
    "min_word_count = 40   \n",
    "num_workers = 4       \n",
    "context = 10          \n",
    "downsampling = 1e-3   \n",
    "\n",
    "word2vec_model = Word2Vec(sentences, workers=num_workers, \\\n",
    "            size=num_features, min_count = min_word_count, \\\n",
    "            window = context, sample = downsampling, seed=1)\n",
    "\n",
    "word2vec_model.init_sims(replace=True)"
   ]
  },
  {
   "cell_type": "code",
   "execution_count": null,
   "metadata": {
    "id": "epmA8J0NfueS"
   },
   "outputs": [],
   "source": [
    "def makeFeatureVec(words, model, num_features):\n",
    "    featureVec = np.zeros((num_features,),dtype=\"float32\")\n",
    "    nwords = 0\n",
    "    index2word_set = set(model.wv.index2word)\n",
    "    for word in words:\n",
    "        if word in index2word_set: \n",
    "            nwords = nwords + 1\n",
    "            featureVec = np.add(featureVec,model[word])\n",
    "    featureVec = np.divide(featureVec,nwords)\n",
    "    return featureVec"
   ]
  },
  {
   "cell_type": "code",
   "execution_count": null,
   "metadata": {
    "id": "ou94Cq0RfwM9"
   },
   "outputs": [],
   "source": [
    "def getAvgFeatureVecs(reviews, model, num_features):\n",
    "    counter = 0\n",
    "    reviewFeatureVecs = np.zeros((len(reviews),num_features),dtype=\"float32\")\n",
    "    for review in reviews:\n",
    "        reviewFeatureVecs[counter] = makeFeatureVec(review, model, num_features)\n",
    "        counter = counter + 1\n",
    "    return reviewFeatureVecs"
   ]
  },
  {
   "cell_type": "code",
   "execution_count": null,
   "metadata": {
    "id": "kQVlMRSfJa34"
   },
   "outputs": [],
   "source": [
    "clean_train_reviews = [review.split() for review in x_train]\n",
    "clean_test_reviews = [review.split() for review in x_test]"
   ]
  },
  {
   "cell_type": "code",
   "execution_count": null,
   "metadata": {
    "colab": {
     "base_uri": "https://localhost:8080/"
    },
    "id": "uSjm60EDjd3s",
    "outputId": "a5dcb0c2-0a2f-43d3-b98a-d2f1344c57dd"
   },
   "outputs": [],
   "source": [
    "train_vectors = getAvgFeatureVecs(clean_train_reviews, word2vec_model, num_features)\n",
    "test_vectors = getAvgFeatureVecs(clean_test_reviews, word2vec_model, num_features)"
   ]
  },
  {
   "cell_type": "code",
   "execution_count": null,
   "metadata": {
    "id": "GMcOr5h1-dbW"
   },
   "outputs": [],
   "source": [
    "model_name = \"/content/drive/MyDrive/300features_40minwords_10context\"\n",
    "word2vec_model.save(model_name)"
   ]
  },
  {
   "cell_type": "code",
   "execution_count": null,
   "metadata": {
    "colab": {
     "base_uri": "https://localhost:8080/"
    },
    "id": "NV4DAppzDRlJ",
    "outputId": "422a15e7-7fc4-4a3d-a172-47171f91c06f"
   },
   "outputs": [],
   "source": [
    "word2vec_model = Word2Vec.load(\"/content/drive/MyDrive/300features_40minwords_10context\")\n",
    "word_vectors = word2vec_model.wv.syn0"
   ]
  },
  {
   "cell_type": "markdown",
   "metadata": {
    "id": "3kuigFlm48ns"
   },
   "source": [
    "# **Feature Engineering with Word2Vec (Bag of Centroids)**"
   ]
  },
  {
   "cell_type": "markdown",
   "metadata": {
    "id": "_RH1btHclUai"
   },
   "source": [
    "Referenced from https://github.com/wendykan/DeepLearningMovies"
   ]
  },
  {
   "cell_type": "code",
   "execution_count": null,
   "metadata": {
    "id": "XMvRYgaLDd_5"
   },
   "outputs": [],
   "source": [
    "from sklearn.cluster import KMeans\n",
    "\n",
    "num_clusters = int(word_vectors.shape[0] / 5)\n",
    "kmeans_clustering = KMeans(n_clusters = num_clusters)\n",
    "idx = kmeans_clustering.fit_predict(word_vectors)\n",
    "word_centroid_map = dict(zip(word2vec_model.wv.index2word, idx))"
   ]
  },
  {
   "cell_type": "code",
   "execution_count": null,
   "metadata": {
    "id": "nsSBnICLGdee"
   },
   "outputs": [],
   "source": [
    "def create_bag_of_centroids( wordlist, word_centroid_map ):\n",
    "    num_centroids = max( word_centroid_map.values() ) + 1\n",
    "    bag_of_centroids = np.zeros( num_centroids, dtype=\"float32\" )\n",
    "    for word in wordlist:\n",
    "        if word in word_centroid_map:\n",
    "            index = word_centroid_map[word]\n",
    "            bag_of_centroids[index] += 1\n",
    "    return bag_of_centroids"
   ]
  },
  {
   "cell_type": "code",
   "execution_count": null,
   "metadata": {
    "id": "IeGGXfHbHdYD"
   },
   "outputs": [],
   "source": [
    "train_centroids = np.zeros((len(x_train), num_clusters), \\\n",
    "    dtype=\"float32\" )\n",
    "test_centroids = np.zeros((len(x_test), num_clusters), \\\n",
    "    dtype=\"float32\" )"
   ]
  },
  {
   "cell_type": "code",
   "execution_count": null,
   "metadata": {
    "id": "mY-6DKMHJ_Im"
   },
   "outputs": [],
   "source": [
    "counter = 0\n",
    "for review in clean_train_reviews:\n",
    "    train_centroids[counter] = create_bag_of_centroids( review, \\\n",
    "        word_centroid_map )\n",
    "    counter += 1\n",
    "counter = 0\n",
    "for review in clean_test_reviews:\n",
    "    test_centroids[counter] = create_bag_of_centroids( review, \\\n",
    "        word_centroid_map )\n",
    "    counter += 1"
   ]
  },
  {
   "cell_type": "markdown",
   "metadata": {
    "id": "40Mde-KJhcVE"
   },
   "source": [
    "# **Pre-Trained Word2Vec**"
   ]
  },
  {
   "cell_type": "markdown",
   "metadata": {
    "id": "yGHRL09Jmrsq"
   },
   "source": [
    "Referenced from https://github.com/cezannec/CNN_Text_Classification"
   ]
  },
  {
   "cell_type": "code",
   "execution_count": null,
   "metadata": {
    "colab": {
     "background_save": true
    },
    "id": "UqnRJiRshkuM"
   },
   "outputs": [],
   "source": [
    "from gensim.models import KeyedVectors\n",
    "\n",
    "embed_lookup = KeyedVectors.load_word2vec_format('/content/drive/MyDrive/GoogleNews-vectors-negative300-SLIM.bin', \n",
    "                                                 binary=True)\n",
    "pretrained_words = []\n",
    "for word in embed_lookup.vocab:\n",
    "    pretrained_words.append(word)"
   ]
  },
  {
   "cell_type": "code",
   "execution_count": null,
   "metadata": {
    "colab": {
     "background_save": true
    },
    "id": "FYljQM7qb1Z1"
   },
   "outputs": [],
   "source": [
    "def tokenize_all_reviews(embed_lookup, reviews):\n",
    "    reviews_words = [review.split() for review in reviews]\n",
    "    tokenized_reviews = []\n",
    "    for review in reviews_words:\n",
    "        ints = []\n",
    "        for word in review:\n",
    "            try:\n",
    "                idx = embed_lookup.vocab[word].index\n",
    "            except: \n",
    "                idx = 0\n",
    "            ints.append(idx)\n",
    "        tokenized_reviews.append(ints)\n",
    "    \n",
    "    return tokenized_reviews"
   ]
  },
  {
   "cell_type": "code",
   "execution_count": null,
   "metadata": {
    "colab": {
     "background_save": true
    },
    "id": "KYXgTLEbb3vJ"
   },
   "outputs": [],
   "source": [
    "tokenized_reviews_train = tokenize_all_reviews(embed_lookup, x_train)\n",
    "tokenized_reviews_test = tokenize_all_reviews(embed_lookup, x_test)"
   ]
  },
  {
   "cell_type": "code",
   "execution_count": null,
   "metadata": {
    "colab": {
     "background_save": true
    },
    "id": "k4jpAW4ldd7L"
   },
   "outputs": [],
   "source": [
    "def pad_features(tokenized_reviews, seq_length):\n",
    "    features = np.zeros((len(tokenized_reviews), seq_length), dtype=int)\n",
    "    for i, row in enumerate(tokenized_reviews):\n",
    "        features[i, -len(row):] = np.array(row)[:seq_length]\n",
    "    \n",
    "    return features"
   ]
  },
  {
   "cell_type": "code",
   "execution_count": null,
   "metadata": {
    "colab": {
     "background_save": true
    },
    "id": "D5JopoWidrVq"
   },
   "outputs": [],
   "source": [
    "seq_length = 200\n",
    "train_google_features = pad_features(tokenized_reviews_train, seq_length=seq_length)\n",
    "test_google_features = pad_features(tokenized_reviews_test, seq_length=seq_length)"
   ]
  },
  {
   "cell_type": "markdown",
   "metadata": {
    "id": "g2q75Prbspw6"
   },
   "source": [
    "# **Get Metrics and Plots**"
   ]
  },
  {
   "cell_type": "code",
   "execution_count": 58,
   "metadata": {
    "id": "Pk1OR8cylnOI"
   },
   "outputs": [],
   "source": [
    "import matplotlib.pyplot as plt\n",
    "from sklearn.metrics import roc_curve, precision_recall_curve, accuracy_score, f1_score\n",
    "import time"
   ]
  },
  {
   "cell_type": "code",
   "execution_count": 59,
   "metadata": {
    "id": "m7tDV-iAE8Bk"
   },
   "outputs": [],
   "source": [
    "def get_metrics(y_test, preds):\n",
    "    accuracy = accuracy_score(y_test, preds)\n",
    "    print('Accuracy:', accuracy)\n",
    "    f1 = f1_score(y_test, preds)\n",
    "    print('F1 Score:', f1)"
   ]
  },
  {
   "cell_type": "code",
   "execution_count": 60,
   "metadata": {
    "id": "Qa_PSHyAn_Pr"
   },
   "outputs": [],
   "source": [
    "def get_plot(y_test, preds, title, file):\n",
    "    fpr, tpr, _ = roc_curve(y_test, preds)\n",
    "    plt.plot(fpr, tpr)\n",
    "    plt.title(title)\n",
    "    plt.plot([0, 1], [0, 1], color='navy', linestyle='--')\n",
    "    plt.xlabel('False Positive Rate')\n",
    "    plt.ylabel('True Positive Rate')\n",
    "    plt.savefig('plots/' + file + '.png')\n",
    "    plt.show()"
   ]
  },
  {
   "cell_type": "markdown",
   "metadata": {
    "id": "gLQ4sY8eKTi0"
   },
   "source": [
    "# **Benchmarking Feature Engineering Methods**"
   ]
  },
  {
   "cell_type": "code",
   "execution_count": null,
   "metadata": {
    "colab": {
     "base_uri": "https://localhost:8080/"
    },
    "id": "mu2-GC16KjBQ",
    "outputId": "3f93eaf4-6b32-4a97-d47d-4d66b52455f6"
   },
   "outputs": [],
   "source": [
    "model = BernoulliNB()\n",
    "model.fit(train_bow, train_sentiment)\n",
    "preds = model.predict(test_bow)\n",
    "get_metrics(test_sentiment, preds)"
   ]
  },
  {
   "cell_type": "code",
   "execution_count": null,
   "metadata": {
    "colab": {
     "base_uri": "https://localhost:8080/"
    },
    "id": "jbRIMZi_Kjtv",
    "outputId": "f67170d2-d0d5-43cc-b108-2425d3e26466"
   },
   "outputs": [],
   "source": [
    "model = BernoulliNB()\n",
    "model.fit(train_tfidf, train_sentiment)\n",
    "preds = model.predict(test_tfidf)\n",
    "get_metrics(test_sentiment, preds)"
   ]
  },
  {
   "cell_type": "code",
   "execution_count": null,
   "metadata": {
    "colab": {
     "base_uri": "https://localhost:8080/"
    },
    "id": "dVz6asNLKkLo",
    "outputId": "dfb5015e-7767-4611-a660-ec87fa5cbea4"
   },
   "outputs": [],
   "source": [
    "model = BernoulliNB()\n",
    "model.fit(train_vectors, train_sentiment)\n",
    "preds = model.predict(test_vectors)\n",
    "get_metrics(test_sentiment, preds)"
   ]
  },
  {
   "cell_type": "code",
   "execution_count": null,
   "metadata": {
    "colab": {
     "base_uri": "https://localhost:8080/"
    },
    "id": "4oQMeJiKKkbR",
    "outputId": "1954e98b-f4a9-4c39-bf90-35c40ed017eb"
   },
   "outputs": [],
   "source": [
    "model = BernoulliNB()\n",
    "model.fit(train_centroids, train_sentiment)\n",
    "preds = model.predict(test_centroids)\n",
    "get_metrics(test_sentiment, preds)"
   ]
  },
  {
   "cell_type": "code",
   "execution_count": null,
   "metadata": {
    "colab": {
     "base_uri": "https://localhost:8080/"
    },
    "id": "wZoYeoKDKzbJ",
    "outputId": "bfbd600e-2ff5-4d05-f3be-637939f76983"
   },
   "outputs": [],
   "source": [
    "model = BernoulliNB()\n",
    "model.fit(train_google_features, train_sentiment)\n",
    "preds = model.predict(test_google_features)\n",
    "get_metrics(test_sentiment, preds)"
   ]
  },
  {
   "cell_type": "markdown",
   "metadata": {
    "id": "ZSzyYmtjs4g3"
   },
   "source": [
    "# **Get Results from models (Naive Bayes)**"
   ]
  },
  {
   "cell_type": "code",
   "execution_count": null,
   "metadata": {
    "id": "QJJAWB_Ls_GQ"
   },
   "outputs": [],
   "source": [
    "from sklearn.naive_bayes import GaussianNB, MultinomialNB, ComplementNB, BernoulliNB, CategoricalNB"
   ]
  },
  {
   "cell_type": "code",
   "execution_count": null,
   "metadata": {
    "colab": {
     "base_uri": "https://localhost:8080/",
     "height": 0
    },
    "id": "HA3CJV-GlnOM",
    "outputId": "b2f8a5fd-04c6-46dc-b7c2-e238005fddb1"
   },
   "outputs": [],
   "source": [
    "model = GaussianNB()\n",
    "model.fit(train_tfidf, train_sentiment)\n",
    "preds = model.predict(test_tfidf)\n",
    "get_metrics(test_sentiment, preds)\n",
    "get_plot(test_sentiment, preds, 'Gaussian Naive Bayes (with Tf-idf)', 'gaussian_nb_tfidf')        "
   ]
  },
  {
   "cell_type": "code",
   "execution_count": null,
   "metadata": {
    "id": "ixu3GLQwlnOM"
   },
   "outputs": [],
   "source": [
    "model = MultinomialNB()\n",
    "model.fit(train_tfidf, train_sentiment)\n",
    "preds = model.predict(test_tfidf)\n",
    "get_metrics(test_sentiment, preds)\n",
    "get_plot(test_sentiment, preds, 'Multinomial Naive Bayes (with Tf-idf)', 'multinomial_nb_tfidf')"
   ]
  },
  {
   "cell_type": "code",
   "execution_count": null,
   "metadata": {
    "id": "cKQwbNZClnOO"
   },
   "outputs": [],
   "source": [
    "model = BernoulliNB()\n",
    "model.fit(train_tfidf, train_sentiment)\n",
    "preds = model.predict(test_tfidf)\n",
    "get_metrics(test_sentiment, preds)\n",
    "get_plot(test_sentiment, preds, 'Bernoulli Naive Bayes (with Tf-idf)', 'bernoulli_nb_tfidf')"
   ]
  },
  {
   "cell_type": "markdown",
   "metadata": {
    "id": "bwctJOIHswXo"
   },
   "source": [
    "# **Get Results from models (Decision Trees and Random Forest)**"
   ]
  },
  {
   "cell_type": "code",
   "execution_count": null,
   "metadata": {
    "id": "GbhcAJYaHyXK"
   },
   "outputs": [],
   "source": [
    "from sklearn.tree import DecisionTreeClassifier, ExtraTreeClassifier\n",
    "from sklearn.ensemble import AdaBoostClassifier, BaggingClassifier, ExtraTreesClassifier, GradientBoostingClassifier, RandomForestClassifier, HistGradientBoostingClassifier"
   ]
  },
  {
   "cell_type": "code",
   "execution_count": null,
   "metadata": {
    "colab": {
     "base_uri": "https://localhost:8080/",
     "height": 332
    },
    "id": "qtO6ULAjlnOK",
    "outputId": "4cf76ba8-a1ae-4671-af0f-5b9917d4c606"
   },
   "outputs": [],
   "source": [
    "model = DecisionTreeClassifier(random_state=4248)\n",
    "model.fit(train_tfidf, train_sentiment)\n",
    "preds = model.predict(test_tfidf)\n",
    "get_metrics(test_sentiment, preds)\n",
    "get_plot(test_sentiment, preds, 'Decision Tree (with Tf-idf)', 'decision_tree_tfidf')"
   ]
  },
  {
   "cell_type": "code",
   "execution_count": null,
   "metadata": {
    "colab": {
     "base_uri": "https://localhost:8080/",
     "height": 332
    },
    "id": "EdkHrmMMwEiX",
    "outputId": "aecf7d9e-e5ba-4174-bef1-a5354a5402f9"
   },
   "outputs": [],
   "source": [
    "model = ExtraTreeClassifier(random_state=4248)\n",
    "model.fit(train_tfidf, train_sentiment)\n",
    "preds = model.predict(test_tfidf)\n",
    "get_metrics(test_sentiment, preds)\n",
    "get_plot(test_sentiment, preds, 'Extra Tree (with Tf-idf)', 'extra_tree_tfidf')"
   ]
  },
  {
   "cell_type": "code",
   "execution_count": null,
   "metadata": {
    "colab": {
     "base_uri": "https://localhost:8080/",
     "height": 332
    },
    "id": "Cl63xA1AlnOL",
    "outputId": "09f0b373-ecda-4596-d24a-e5ba84167950"
   },
   "outputs": [],
   "source": [
    "model = RandomForestClassifier(random_state=4248)\n",
    "model.fit(train_tfidf, train_sentiment)\n",
    "preds = model.predict(test_tfidf)\n",
    "get_metrics(test_sentiment, preds)\n",
    "get_plot(test_sentiment, preds, 'Random Forest (with Tf-idf)', 'random_forest_tfidf')        "
   ]
  },
  {
   "cell_type": "code",
   "execution_count": null,
   "metadata": {
    "colab": {
     "base_uri": "https://localhost:8080/",
     "height": 332
    },
    "id": "lcxv2EVNRGi0",
    "outputId": "90504e26-090f-4b85-8f6d-c562b1e63592"
   },
   "outputs": [],
   "source": [
    "model = AdaBoostClassifier(random_state=4248)\n",
    "model.fit(train_tfidf, train_sentiment)\n",
    "preds = model.predict(test_tfidf)\n",
    "get_metrics(test_sentiment, preds)\n",
    "get_plot(test_sentiment, preds, 'Ada Boost (with Tf-idf)', 'ada_boost_tfidf')    "
   ]
  },
  {
   "cell_type": "code",
   "execution_count": null,
   "metadata": {
    "colab": {
     "base_uri": "https://localhost:8080/",
     "height": 332
    },
    "id": "QlTzaGDwRKey",
    "outputId": "38e900e9-c9ef-424d-a4ba-076ede9ac563"
   },
   "outputs": [],
   "source": [
    "model = BaggingClassifier(random_state=4248)\n",
    "model.fit(train_tfidf, train_sentiment)\n",
    "preds = model.predict(test_tfidf)\n",
    "get_metrics(test_sentiment, preds)\n",
    "get_plot(test_sentiment, preds, 'Bagging (with Tf-idf)', 'bagging_tfidf')    "
   ]
  },
  {
   "cell_type": "code",
   "execution_count": null,
   "metadata": {
    "colab": {
     "base_uri": "https://localhost:8080/",
     "height": 332
    },
    "id": "at2j71S7RKzj",
    "outputId": "ab68d8ef-b680-4d18-cacb-09a5a98c9acf"
   },
   "outputs": [],
   "source": [
    "model = ExtraTreesClassifier(random_state=4248)\n",
    "model.fit(train_tfidf, train_sentiment)\n",
    "preds = model.predict(test_tfidf)\n",
    "get_metrics(test_sentiment, preds)\n",
    "get_plot(test_sentiment, preds, 'Extra Trees (with Tf-idf)', 'extra_trees_tfidf')    "
   ]
  },
  {
   "cell_type": "code",
   "execution_count": null,
   "metadata": {
    "colab": {
     "base_uri": "https://localhost:8080/",
     "height": 332
    },
    "id": "Gl1LKvcSRLBr",
    "outputId": "57a4f81c-122c-46de-cc4b-8c1e4faf3be2"
   },
   "outputs": [],
   "source": [
    "model = GradientBoostingClassifier(random_state=4248)\n",
    "model.fit(train_tfidf, train_sentiment)\n",
    "preds = model.predict(test_tfidf)\n",
    "get_metrics(test_sentiment, preds)\n",
    "get_plot(test_sentiment, preds, 'Gradient Boosting (with Tf-idf)', 'gradient_boosting_tfidf')    "
   ]
  },
  {
   "cell_type": "code",
   "execution_count": null,
   "metadata": {
    "colab": {
     "base_uri": "https://localhost:8080/",
     "height": 332
    },
    "id": "zr8dP-8pRMEr",
    "outputId": "bb89c40a-09a4-4ea0-b573-0aa470e05471"
   },
   "outputs": [],
   "source": [
    "model = HistGradientBoostingClassifier(random_state=4248)\n",
    "model.fit(train_tfidf, train_sentiment)\n",
    "preds = model.predict(test_tfidf)\n",
    "get_metrics(test_sentiment, preds)\n",
    "get_plot(test_sentiment, preds, 'Hist Gradient Boosting (with Tf-idf)', 'hist_gradient_boosting_tfidf')    "
   ]
  },
  {
   "cell_type": "markdown",
   "metadata": {
    "id": "gtQUJ36EiRC7"
   },
   "source": [
    "# **Get Results from models (Linear)**"
   ]
  },
  {
   "cell_type": "code",
   "execution_count": 24,
   "metadata": {
    "id": "vW1hRXuAicNi"
   },
   "outputs": [],
   "source": [
    "from sklearn.linear_model import LogisticRegression, PassiveAggressiveClassifier, Perceptron, RidgeClassifier, SGDClassifier"
   ]
  },
  {
   "cell_type": "code",
   "execution_count": 26,
   "metadata": {
    "colab": {
     "base_uri": "https://localhost:8080/",
     "height": 332
    },
    "id": "CPOuqlyiYY4s",
    "outputId": "3ebc2a29-fc34-4c9f-b42f-bd1d35e908c4"
   },
   "outputs": [
    {
     "name": "stdout",
     "output_type": "stream",
     "text": [
      "Time Taken (in seconds):8.731746435165405\n",
      "Accuracy: 0.88316\n",
      "F1 Score: 0.8830524082155583\n"
     ]
    },
    {
     "data": {
      "image/png": "[encoded data removed]",
      "text/plain": [
       "<Figure size 432x288 with 1 Axes>"
      ]
     },
     "metadata": {
      "needs_background": "light"
     },
     "output_type": "display_data"
    }
   ],
   "source": [
    "start = time.time()\n",
    "model = LogisticRegression(random_state=4248, max_iter=4248)\n",
    "model.fit(train_tfidf, train_sentiment)\n",
    "preds = model.predict(test_tfidf)\n",
    "end = time.time()\n",
    "print(\"Time Taken (in seconds):\" + str(end - start))\n",
    "get_metrics(test_sentiment, preds)\n",
    "get_plot(test_sentiment, preds, 'Logistic Regression (with Tf-idf)', 'logistic_regression_tfidf')          "
   ]
  },
  {
   "cell_type": "code",
   "execution_count": null,
   "metadata": {
    "colab": {
     "base_uri": "https://localhost:8080/",
     "height": 332
    },
    "id": "YkVDEFI6ZTl9",
    "outputId": "a67a994f-00a3-4351-c6ac-9fb75df06193"
   },
   "outputs": [],
   "source": [
    "model = PassiveAggressiveClassifier(random_state=4248, max_iter=4248)\n",
    "model.fit(train_tfidf, train_sentiment)\n",
    "preds = model.predict(test_tfidf)\n",
    "get_metrics(test_sentiment, preds)\n",
    "get_plot(test_sentiment, preds, 'Passive Agressive (with Tf-idf)', 'passive_aggressive_tfidf') "
   ]
  },
  {
   "cell_type": "code",
   "execution_count": null,
   "metadata": {
    "colab": {
     "base_uri": "https://localhost:8080/",
     "height": 332
    },
    "id": "Giu4_-eCZUaq",
    "outputId": "85c6da45-dcab-444c-f5df-2bbc5dd74dc2"
   },
   "outputs": [],
   "source": [
    "model = Perceptron(random_state=4248, max_iter=4248)\n",
    "model.fit(train_tfidf, train_sentiment)\n",
    "preds = model.predict(test_tfidf)\n",
    "get_metrics(test_sentiment, preds)\n",
    "get_plot(test_sentiment, preds, 'Perceptron (with Tf-idf)', 'perceptron_tfidf') "
   ]
  },
  {
   "cell_type": "code",
   "execution_count": null,
   "metadata": {
    "id": "D6vepmhMZU-M"
   },
   "outputs": [],
   "source": [
    "model = RidgeClassifier(random_state=4248, max_iter=4248)\n",
    "model.fit(train_tfidf, train_sentiment)\n",
    "preds = model.predict(test_tfidf)\n",
    "get_metrics(test_sentiment, preds)\n",
    "get_plot(test_sentiment, preds, 'Ridge Classifier (with Tf-idf)', 'ridge_classifier_tfidf') "
   ]
  },
  {
   "cell_type": "code",
   "execution_count": 27,
   "metadata": {
    "colab": {
     "base_uri": "https://localhost:8080/",
     "height": 332
    },
    "id": "e0-NlonbZVe5",
    "outputId": "9d37b2bc-4bc0-452d-cc3d-2f7e4c645c3b",
    "scrolled": true
   },
   "outputs": [
    {
     "name": "stdout",
     "output_type": "stream",
     "text": [
      "Accuracy: 0.87496\n",
      "F1 Score: 0.8819397235440743\n",
      "Time Taken (in seconds):5.032516956329346\n"
     ]
    },
    {
     "data": {
      "image/png": "[encoded data removed]",
      "text/plain": [
       "<Figure size 432x288 with 1 Axes>"
      ]
     },
     "metadata": {
      "needs_background": "light"
     },
     "output_type": "display_data"
    }
   ],
   "source": [
    "start = time.time()\n",
    "model = SGDClassifier(random_state=4248, max_iter=4248)\n",
    "model.fit(train_tfidf, train_sentiment)\n",
    "preds = model.predict(test_tfidf)\n",
    "get_metrics(test_sentiment, preds)\n",
    "end = time.time()\n",
    "print(\"Time Taken (in seconds):\" + str(end - start))\n",
    "get_plot(test_sentiment, preds, 'SGD Classifier (with Tf-idf)', 'sgd_classifier_tfidf') "
   ]
  },
  {
   "cell_type": "markdown",
   "metadata": {},
   "source": [
    "# **Get Results from models (SVM)**"
   ]
  },
  {
   "cell_type": "code",
   "execution_count": 61,
   "metadata": {},
   "outputs": [],
   "source": [
    "from sklearn.svm import LinearSVC, SVC, NuSVC"
   ]
  },
  {
   "cell_type": "code",
   "execution_count": 62,
   "metadata": {},
   "outputs": [
    {
     "name": "stdout",
     "output_type": "stream",
     "text": [
      "Accuracy: 0.8726659925851028\n",
      "F1 Score: 0.8735185805155674\n",
      "Time Taken (in seconds):0.774174690246582\n"
     ]
    }
   ],
   "source": [
    "start = time.time()\n",
    "model = LinearSVC(random_state=4248)\n",
    "model.fit(train_tfidf, train_sentiment)\n",
    "preds = model.predict(test_tfidf)\n",
    "get_metrics(test_sentiment, preds)\n",
    "end = time.time()\n",
    "print(\"Time Taken (in seconds):\" + str(end - start))"
   ]
  },
  {
   "cell_type": "code",
   "execution_count": 63,
   "metadata": {},
   "outputs": [
    {
     "name": "stdout",
     "output_type": "stream",
     "text": [
      "Time Taken (in seconds):620.0167369842529\n",
      "Accuracy: 0.8775193798449612\n",
      "F1 Score: 0.8784696675807638\n"
     ]
    }
   ],
   "source": [
    "start = time.time()\n",
    "model = SVC(random_state=4248, kernel='linear')\n",
    "model.fit(train_tfidf, train_sentiment)\n",
    "preds = model.predict(test_tfidf)\n",
    "end = time.time()\n",
    "print(\"Time Taken (in seconds):\" + str(end - start))\n",
    "get_metrics(test_sentiment, preds)"
   ]
  },
  {
   "cell_type": "code",
   "execution_count": null,
   "metadata": {},
   "outputs": [],
   "source": [
    "model = SVC(random_state=4248, kernel='poly')\n",
    "model.fit(train_tfidf, train_sentiment)\n",
    "preds = model.predict(test_tfidf)\n",
    "get_metrics(test_sentiment, preds)"
   ]
  },
  {
   "cell_type": "code",
   "execution_count": null,
   "metadata": {},
   "outputs": [],
   "source": [
    "model = SVC(random_state=4248, kernel='rbf')\n",
    "model.fit(train_tfidf, train_sentiment)\n",
    "preds = model.predict(test_tfidf)\n",
    "get_metrics(test_sentiment, preds)"
   ]
  },
  {
   "cell_type": "code",
   "execution_count": null,
   "metadata": {},
   "outputs": [],
   "source": [
    "model = SVC(random_state=4248, kernel='sigmoid')\n",
    "model.fit(train_tfidf, train_sentiment)\n",
    "preds = model.predict(test_tfidf)\n",
    "get_metrics(test_sentiment, preds)"
   ]
  },
  {
   "cell_type": "code",
   "execution_count": null,
   "metadata": {},
   "outputs": [],
   "source": [
    "model = SVC(random_state=4248, kernel='precomputed')\n",
    "model.fit(train_tfidf, train_sentiment)\n",
    "preds = model.predict(test_tfidf)\n",
    "get_metrics(test_sentiment, preds)"
   ]
  },
  {
   "cell_type": "code",
   "execution_count": null,
   "metadata": {},
   "outputs": [],
   "source": [
    "model = NuSVC(random_state=4248, kernel='linear')\n",
    "model.fit(train_tfidf, train_sentiment)\n",
    "preds = model.predict(test_tfidf)\n",
    "get_metrics(test_sentiment, preds)"
   ]
  },
  {
   "cell_type": "code",
   "execution_count": null,
   "metadata": {},
   "outputs": [],
   "source": [
    "model = NuSVC(random_state=4248, kernel='poly')\n",
    "model.fit(train_tfidf, train_sentiment)\n",
    "preds = model.predict(test_tfidf)\n",
    "get_metrics(test_sentiment, preds)"
   ]
  },
  {
   "cell_type": "code",
   "execution_count": null,
   "metadata": {},
   "outputs": [],
   "source": [
    "model = NuSVC(random_state=4248, kernel='rbf')\n",
    "model.fit(train_tfidf, train_sentiment)\n",
    "preds = model.predict(test_tfidf)\n",
    "get_metrics(test_sentiment, preds)"
   ]
  },
  {
   "cell_type": "code",
   "execution_count": null,
   "metadata": {},
   "outputs": [],
   "source": [
    "model = NuSVC(random_state=4248, kernel='sigmoid')\n",
    "model.fit(train_tfidf, train_sentiment)\n",
    "preds = model.predict(test_tfidf)\n",
    "get_metrics(test_sentiment, preds)"
   ]
  },
  {
   "cell_type": "code",
   "execution_count": null,
   "metadata": {},
   "outputs": [],
   "source": [
    "model = NuSVC(random_state=4248, kernel='precomputed')\n",
    "model.fit(train_tfidf, train_sentiment)\n",
    "preds = model.predict(test_tfidf)\n",
    "get_metrics(test_sentiment, preds)"
   ]
  },
  {
   "cell_type": "markdown",
   "metadata": {
    "id": "R2waCO9MaD3q"
   },
   "source": [
    "# **Get Results from models (NN)**"
   ]
  },
  {
   "cell_type": "code",
   "execution_count": null,
   "metadata": {
    "id": "HMI6upY6aHy0"
   },
   "outputs": [],
   "source": [
    "from sklearn.neural_network import MLPClassifier"
   ]
  },
  {
   "cell_type": "code",
   "execution_count": null,
   "metadata": {
    "colab": {
     "base_uri": "https://localhost:8080/"
    },
    "id": "0Ax6us4zambh",
    "outputId": "f63cc647-a134-44dd-e12d-cc8047daa1bc"
   },
   "outputs": [],
   "source": [
    "model = MLPClassifier(random_state=4248, max_iter=4248)\n",
    "model.fit(train_tfidf, train_sentiment)\n",
    "preds = model.predict(test_tfidf)\n",
    "get_metrics(test_sentiment, preds)\n",
    "get_plot(test_sentiment, preds, 'Multi-layer Perceptron (with Tf-idf)', 'multi_layer_perceptron_tfidf')"
   ]
  },
  {
   "cell_type": "code",
   "execution_count": null,
   "metadata": {
    "id": "H068Bx8XDp7X"
   },
   "outputs": [],
   "source": [
    "from sklearn.model_selection import train_test_split\n",
    "train_google_features, val_google_features, train_sentiment, val_sentiment = train_test_split(\n",
    "                                          train_google_features, train_sentiment, test_size=0.2, random_state=4248)"
   ]
  },
  {
   "cell_type": "markdown",
   "metadata": {
    "id": "jqDJLPVclf_M"
   },
   "source": [
    "Referenced from https://github.com/cezannec/CNN_Text_Classification"
   ]
  },
  {
   "cell_type": "code",
   "execution_count": null,
   "metadata": {
    "id": "-uofOihuf043"
   },
   "outputs": [],
   "source": [
    "import torch\n",
    "from torch.utils.data import TensorDataset, DataLoader\n",
    "\n",
    "train_data = TensorDataset(torch.from_numpy(train_google_features), torch.from_numpy(train_sentiment))\n",
    "val_data = TensorDataset(torch.from_numpy(val_google_features), torch.from_numpy(val_sentiment))\n",
    "test_data = TensorDataset(torch.from_numpy(test_google_features), torch.from_numpy(test_sentiment))\n",
    "\n",
    "batch_size = 50\n",
    "train_loader = DataLoader(train_data, shuffle=True, batch_size=batch_size)\n",
    "val_loader = DataLoader(val_data, shuffle=True, batch_size=batch_size)\n",
    "test_loader = DataLoader(test_data, shuffle=True, batch_size=batch_size)"
   ]
  },
  {
   "cell_type": "code",
   "execution_count": null,
   "metadata": {
    "id": "lz7KSz7EFPAw"
   },
   "outputs": [],
   "source": [
    "import torch.nn as nn\n",
    "import torch.nn.functional as F\n",
    "\n",
    "class SentimentCNN(nn.Module):\n",
    "    def __init__(self, embed_model, vocab_size, output_size, embedding_dim,\n",
    "                 num_filters=100, kernel_sizes=[3, 4, 5], freeze_embeddings=True, drop_prob=0.5):\n",
    "        super(SentimentCNN, self).__init__()\n",
    "        self.num_filters = num_filters\n",
    "        self.embedding_dim = embedding_dim\n",
    "        self.embedding = nn.Embedding(vocab_size, embedding_dim)\n",
    "        self.embedding.weight = nn.Parameter(torch.from_numpy(embed_model.vectors)) # all vectors\n",
    "        \n",
    "        if freeze_embeddings:\n",
    "            self.embedding.requires_grad = False\n",
    "        \n",
    "        self.convs_1d = nn.ModuleList([\n",
    "            nn.Conv2d(1, num_filters, (k, embedding_dim), padding=(k-2,0)) \n",
    "            for k in kernel_sizes])\n",
    "        \n",
    "        self.fc = nn.Linear(len(kernel_sizes) * num_filters, output_size) \n",
    "        self.dropout = nn.Dropout(drop_prob)\n",
    "        self.sig = nn.Sigmoid()\n",
    "        \n",
    "    \n",
    "    def conv_and_pool(self, x, conv):\n",
    "        x = F.relu(conv(x)).squeeze(3)\n",
    "        x_max = F.max_pool1d(x, x.size(2)).squeeze(2)\n",
    "        return x_max\n",
    "\n",
    "    def forward(self, x):\n",
    "        embeds = self.embedding(x) \n",
    "        embeds = embeds.unsqueeze(1)\n",
    "        conv_results = [self.conv_and_pool(embeds, conv) for conv in self.convs_1d]\n",
    "        x = torch.cat(conv_results, 1)\n",
    "        x = self.dropout(x)\n",
    "        logit = self.fc(x) \n",
    "        return self.sig(logit)"
   ]
  },
  {
   "cell_type": "code",
   "execution_count": null,
   "metadata": {
    "colab": {
     "base_uri": "https://localhost:8080/"
    },
    "id": "DyaKu6HfF3gz",
    "outputId": "2282d077-3423-466f-c78a-c678d8face2b"
   },
   "outputs": [],
   "source": [
    "vocab_size = len(pretrained_words)\n",
    "output_size = 1 \n",
    "embedding_dim = len(embed_lookup[pretrained_words[0]]) \n",
    "num_filters = 100\n",
    "kernel_sizes = [3, 4, 5]\n",
    "\n",
    "net = SentimentCNN(embed_lookup, vocab_size, output_size, embedding_dim,\n",
    "                   num_filters, kernel_sizes)\n",
    "net"
   ]
  },
  {
   "cell_type": "code",
   "execution_count": null,
   "metadata": {
    "id": "R1CLRwmtGFSl"
   },
   "outputs": [],
   "source": [
    "lr=0.001\n",
    "criterion = nn.BCELoss()\n",
    "optimizer = torch.optim.Adam(net.parameters(), lr=lr)"
   ]
  },
  {
   "cell_type": "code",
   "execution_count": null,
   "metadata": {
    "id": "YzVI4-ZvGKZ9"
   },
   "outputs": [],
   "source": [
    "def train(net, train_loader, epochs, print_every=100):\n",
    "    counter = 0 \n",
    "    net.train()\n",
    "\n",
    "    for e in range(epochs):\n",
    "        for inputs, labels in train_loader:\n",
    "            counter += 1\n",
    "            net.zero_grad()\n",
    "            output = net(inputs)\n",
    "            loss = criterion(output.squeeze(), labels.float())\n",
    "            loss.backward()\n",
    "            optimizer.step()\n",
    "\n",
    "            if counter % print_every == 0:\n",
    "                val_losses = []\n",
    "                net.eval()\n",
    "\n",
    "                for inputs, labels in val_loader:\n",
    "                    output = net(inputs)\n",
    "                    val_loss = criterion(output.squeeze(), labels.float())\n",
    "                    val_losses.append(val_loss.item())\n",
    "\n",
    "                net.train()\n",
    "                print(\"Epoch: {}/{}...\".format(e+1, epochs),\n",
    "                      \"Step: {}...\".format(counter),\n",
    "                      \"Loss: {:.6f}...\".format(loss.item()),\n",
    "                      \"Val Loss: {:.6f}\".format(np.mean(val_losses)))"
   ]
  },
  {
   "cell_type": "code",
   "execution_count": null,
   "metadata": {
    "id": "s0SxryW1Gios"
   },
   "outputs": [],
   "source": [
    "epochs = 10\n",
    "print_every = 100\n",
    "train(net, train_loader, epochs, print_every=print_every)"
   ]
  },
  {
   "cell_type": "code",
   "execution_count": null,
   "metadata": {
    "id": "QS9z4C3vG5zO"
   },
   "outputs": [],
   "source": [
    "test_losses = [] \n",
    "num_correct = 0\n",
    "net.eval()\n",
    "for inputs, labels in test_loader:\n",
    "    output = net(inputs)\n",
    "    test_loss = criterion(output.squeeze(), labels.float())\n",
    "    test_losses.append(test_loss.item())\n",
    "    pred = torch.round(output.squeeze()) \n",
    "    correct_tensor = pred.eq(labels.float().view_as(pred))\n",
    "    correct = np.squeeze(correct_tensor.numpy()) if not train_on_gpu else np.squeeze(correct_tensor.cpu().numpy())\n",
    "    num_correct += np.sum(correct)\n",
    "\n",
    "print(\"Test loss: {:.3f}\".format(np.mean(test_losses)))\n",
    "test_acc = num_correct/len(test_loader.dataset)\n",
    "print(\"Test accuracy: {:.3f}\".format(test_acc))"
   ]
  },
  {
   "cell_type": "markdown",
   "metadata": {
    "id": "kwyz288scKZP"
   },
   "source": [
    "# **Testing with self-generated reviews**"
   ]
  },
  {
   "cell_type": "code",
   "execution_count": null,
   "metadata": {
    "colab": {
     "base_uri": "https://localhost:8080/"
    },
    "id": "LGtRZoujU_tc",
    "outputId": "c91c45b7-434d-4632-e80c-07c9a51736b8"
   },
   "outputs": [],
   "source": [
    "model = LogisticRegression(random_state=4248, max_iter=4248)\n",
    "model.fit(train_tfidf, train_sentiment)\n",
    "preds = model.predict(test_tfidf)\n",
    "get_metrics(test_sentiment, preds)"
   ]
  },
  {
   "cell_type": "code",
   "execution_count": null,
   "metadata": {
    "id": "QXRVyylrDt69"
   },
   "outputs": [],
   "source": [
    "test_review_neg = \"In the Name of the King: A Dungeon Siege Tale is yet another video game turned film by Uwe Boll. The cast is actually pretty good, and features Jason Statham, Ron Perlman, Leelee Sobieski, Claire Forlani, and Ray Liotta; but their performances are bland and lifeless. The only thing worst are the special effects, which are atrocious. And the score is mundane, capturing none of the adventure or wonder of a fantasy film. Cheaply made and uninspired, In the Name of the King: A Dungeon Siege Tale is a dreadful piece of garbage.\"\n",
    "test_review_pos = \"This movie lived up to its hype. It's possibly one of the best films of its kind, and I especially liked the development of all the characters. The villain isn't just a villain. I understood him. Like all Marvel films, the visual and aural elements are excellent. Acting and writing are top notch here as well. This film is a bit more serious than most Marvel films, which works in its favor.\"\n",
    "test_review_neg = preprocess(test_review_neg)\n",
    "test_review_pos = preprocess(test_review_pos)"
   ]
  },
  {
   "cell_type": "code",
   "execution_count": null,
   "metadata": {
    "colab": {
     "base_uri": "https://localhost:8080/"
    },
    "id": "gqrvx1JfVs7m",
    "outputId": "8a36eb9f-4b41-4973-e5b1-efeb9362312e"
   },
   "outputs": [],
   "source": [
    "vectorizer = TfidfVectorizer(analyzer = \"word\", max_features = 10000) \n",
    "vectorizer.fit_transform(x_train).toarray()"
   ]
  },
  {
   "cell_type": "code",
   "execution_count": null,
   "metadata": {
    "id": "XiJvz9UqZAUE"
   },
   "outputs": [],
   "source": [
    "neg_tfidf = vectorizer.transform([test_review_neg])\n",
    "pos_tfidf = vectorizer.transform([test_review_pos])"
   ]
  },
  {
   "cell_type": "code",
   "execution_count": null,
   "metadata": {
    "colab": {
     "base_uri": "https://localhost:8080/"
    },
    "id": "lTQS3MzjZZgJ",
    "outputId": "eb16f06f-99c4-480d-a9de-44a736277197"
   },
   "outputs": [],
   "source": [
    "model.predict(neg_tfidf)"
   ]
  },
  {
   "cell_type": "code",
   "execution_count": null,
   "metadata": {
    "colab": {
     "base_uri": "https://localhost:8080/"
    },
    "id": "zDzjeNG7Zee5",
    "outputId": "db76ab99-ad2f-45cd-8c46-3e66a7e3c442"
   },
   "outputs": [],
   "source": [
    "model.predict(pos_tfidf)"
   ]
  },
  {
   "cell_type": "markdown",
   "metadata": {
    "id": "TlW0RuptfIy6"
   },
   "source": [
    "# **Ensembling Models Together**"
   ]
  },
  {
   "cell_type": "code",
   "execution_count": null,
   "metadata": {},
   "outputs": [],
   "source": [
    "from sklearn.ensemble import StackingClassifier, VotingClassifier"
   ]
  },
  {
   "cell_type": "code",
   "execution_count": null,
   "metadata": {},
   "outputs": [],
   "source": [
    "model1 = SVC(random_state=4248, kernel='linear')\n",
    "model2 = LogisticRegression(random_state=4248, max_iter=4248)\n",
    "model3 = SGDClassifier(random_state=4248, max_iter=4248)"
   ]
  },
  {
   "cell_type": "code",
   "execution_count": null,
   "metadata": {
    "colab": {
     "base_uri": "https://localhost:8080/",
     "height": 245
    },
    "id": "vsU_yNBNRLki",
    "outputId": "34194598-e65e-41e2-dc8d-63c822f3a92c"
   },
   "outputs": [],
   "source": [
    "model = StackingClassifier(estimators=[('svc', model1), ('lr', model2), ('sgd', model3)],\n",
    "                          final_estimator=LogisticRegression(random_state=4248, max_iter=4248))\n",
    "model.fit(train_tfidf, train_sentiment)\n",
    "preds = model.predict(test_tfidf)\n",
    "get_metrics(test_sentiment, preds)\n",
    "get_plot(test_sentiment, preds, 'Stacking (with Tf-idf)', 'stacking_tfidf')    "
   ]
  },
  {
   "cell_type": "code",
   "execution_count": null,
   "metadata": {
    "colab": {
     "base_uri": "https://localhost:8080/",
     "height": 245
    },
    "id": "a3kvbXGIRLz9",
    "outputId": "bfeed5e8-4f66-4160-dd9b-369659181578"
   },
   "outputs": [],
   "source": [
    "model = VotingClassifier(estimators=[('svc', model1), ('lr', model2), ('sgd', model3)])\n",
    "model.fit(train_tfidf, train_sentiment)\n",
    "preds = model.predict(test_tfidf)\n",
    "get_metrics(test_sentiment, preds)\n",
    "get_plot(test_sentiment, preds, 'Voting (with Tf-idf)', 'voting_tfidf')    "
   ]
  },
  {
   "cell_type": "code",
   "execution_count": null,
   "metadata": {},
   "outputs": [],
   "source": []
  }
 ],
 "metadata": {
  "colab": {
   "collapsed_sections": [
    "40Mde-KJhcVE",
    "g2q75Prbspw6",
    "ZSzyYmtjs4g3",
    "bwctJOIHswXo",
    "gtQUJ36EiRC7",
    "R2waCO9MaD3q"
   ],
   "name": "Fatin.ipynb",
   "provenance": []
  },
  "kernelspec": {
   "display_name": "Python 3 (ipykernel)",
   "language": "python",
   "name": "python3"
  },
  "language_info": {
   "codemirror_mode": {
    "name": "ipython",
    "version": 3
   },
   "file_extension": ".py",
   "mimetype": "text/x-python",
   "name": "python",
   "nbconvert_exporter": "python",
   "pygments_lexer": "ipython3",
   "version": "3.9.0"
  }
 },
 "nbformat": 4,
 "nbformat_minor": 1
}
