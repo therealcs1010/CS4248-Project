{
 "cells": [
  {
   "cell_type": "code",
   "execution_count": 1,
   "id": "9407c1b4",
   "metadata": {},
   "outputs": [],
   "source": [
    "import pandas as pd\n",
    "import os\n",
    "from tqdm import tqdm"
   ]
  },
  {
   "cell_type": "code",
   "execution_count": 2,
   "id": "3621c443",
   "metadata": {},
   "outputs": [],
   "source": [
    "data_directory = '../raw_data/'\n",
    "processed_directory = '../processed_data/'"
   ]
  },
  {
   "cell_type": "code",
   "execution_count": 31,
   "id": "c9c4e858",
   "metadata": {},
   "outputs": [
    {
     "name": "stderr",
     "output_type": "stream",
     "text": [
      "Reading data: 100%|█████████████████████████████████████████████████████████████| 12500/12500 [00:12<00:00, 991.24it/s]\n",
      "Reading data: 100%|█████████████████████████████████████████████████████████████| 12500/12500 [00:42<00:00, 297.27it/s]\n",
      "Reading data: 100%|█████████████████████████████████████████████████████████████| 12500/12500 [00:39<00:00, 317.06it/s]\n",
      "Reading data: 100%|█████████████████████████████████████████████████████████████| 12500/12500 [00:43<00:00, 287.78it/s]\n"
     ]
    }
   ],
   "source": [
    "\n",
    "for path in ['train', 'test']:\n",
    "    df = pd.DataFrame(columns=['id', 'text', 'rating', 'label'])\n",
    "    dir=os.path.join(data_directory, path)\n",
    "    for label in ['pos', 'neg']:\n",
    "        child_dir=os.path.join(dir, label)\n",
    "        files= os.listdir(child_dir)\n",
    "        for file in tqdm(files, desc='Reading data'):\n",
    "            id, rating = file.split('_')\n",
    "            rating = rating.split('.')[0]\n",
    "            text = open(os.path.join(child_dir, file), 'r', encoding='utf8').read()\n",
    "            if label == 'pos':\n",
    "                tag='+'\n",
    "            else:\n",
    "                tag='-'\n",
    "            row = {\n",
    "                'id' : id,\n",
    "                'text' : text,\n",
    "                'rating' :rating,\n",
    "                'label' : tag\n",
    "            }\n",
    "            df = df.append(row, ignore_index=True)\n",
    "            \n",
    "    df.to_json(os.path.join(processed_directory, f'{path}.json' ), orient='records')\n",
    "\n",
    "    "
   ]
  },
  {
   "cell_type": "code",
   "execution_count": 23,
   "id": "cde48cef",
   "metadata": {},
   "outputs": [],
   "source": [
    "df.to_json('../data/train/train.json', orient='records')"
   ]
  },
  {
   "cell_type": "code",
   "execution_count": 33,
   "id": "e468ba69",
   "metadata": {},
   "outputs": [],
   "source": [
    "train_df = pd.read_json('../data/train/train.json')\n",
    "test_df = pd.read_json('../data/test/test.json')"
   ]
  },
  {
   "cell_type": "code",
   "execution_count": 25,
   "id": "e7c6aa83",
   "metadata": {},
   "outputs": [
    {
     "data": {
      "text/html": [
       "<div>\n",
       "<style scoped>\n",
       "    .dataframe tbody tr th:only-of-type {\n",
       "        vertical-align: middle;\n",
       "    }\n",
       "\n",
       "    .dataframe tbody tr th {\n",
       "        vertical-align: top;\n",
       "    }\n",
       "\n",
       "    .dataframe thead th {\n",
       "        text-align: right;\n",
       "    }\n",
       "</style>\n",
       "<table border=\"1\" class=\"dataframe\">\n",
       "  <thead>\n",
       "    <tr style=\"text-align: right;\">\n",
       "      <th></th>\n",
       "      <th>id</th>\n",
       "      <th>text</th>\n",
       "      <th>rating</th>\n",
       "      <th>label</th>\n",
       "    </tr>\n",
       "  </thead>\n",
       "  <tbody>\n",
       "    <tr>\n",
       "      <th>0</th>\n",
       "      <td>0</td>\n",
       "      <td>Bromwell High is a cartoon comedy. It ran at t...</td>\n",
       "      <td>9</td>\n",
       "      <td>+</td>\n",
       "    </tr>\n",
       "    <tr>\n",
       "      <th>1</th>\n",
       "      <td>10000</td>\n",
       "      <td>Homelessness (or Houselessness as George Carli...</td>\n",
       "      <td>8</td>\n",
       "      <td>+</td>\n",
       "    </tr>\n",
       "    <tr>\n",
       "      <th>2</th>\n",
       "      <td>10001</td>\n",
       "      <td>Brilliant over-acting by Lesley Ann Warren. Be...</td>\n",
       "      <td>10</td>\n",
       "      <td>+</td>\n",
       "    </tr>\n",
       "    <tr>\n",
       "      <th>3</th>\n",
       "      <td>10002</td>\n",
       "      <td>This is easily the most underrated film inn th...</td>\n",
       "      <td>7</td>\n",
       "      <td>+</td>\n",
       "    </tr>\n",
       "    <tr>\n",
       "      <th>4</th>\n",
       "      <td>10003</td>\n",
       "      <td>This is not the typical Mel Brooks film. It wa...</td>\n",
       "      <td>8</td>\n",
       "      <td>+</td>\n",
       "    </tr>\n",
       "    <tr>\n",
       "      <th>...</th>\n",
       "      <td>...</td>\n",
       "      <td>...</td>\n",
       "      <td>...</td>\n",
       "      <td>...</td>\n",
       "    </tr>\n",
       "    <tr>\n",
       "      <th>95</th>\n",
       "      <td>10086</td>\n",
       "      <td>This is a lot of silliness about a woman from ...</td>\n",
       "      <td>7</td>\n",
       "      <td>+</td>\n",
       "    </tr>\n",
       "    <tr>\n",
       "      <th>96</th>\n",
       "      <td>10087</td>\n",
       "      <td>Fabulous costumes by Edith Head who painted th...</td>\n",
       "      <td>10</td>\n",
       "      <td>+</td>\n",
       "    </tr>\n",
       "    <tr>\n",
       "      <th>97</th>\n",
       "      <td>10088</td>\n",
       "      <td>Elephant Walk (1954) Starring an early Peter F...</td>\n",
       "      <td>10</td>\n",
       "      <td>+</td>\n",
       "    </tr>\n",
       "    <tr>\n",
       "      <th>98</th>\n",
       "      <td>10089</td>\n",
       "      <td>. . . or type on a computer keyboard, they'd p...</td>\n",
       "      <td>7</td>\n",
       "      <td>+</td>\n",
       "    </tr>\n",
       "    <tr>\n",
       "      <th>99</th>\n",
       "      <td>1008</td>\n",
       "      <td>I got in to this excellent program in about se...</td>\n",
       "      <td>10</td>\n",
       "      <td>+</td>\n",
       "    </tr>\n",
       "  </tbody>\n",
       "</table>\n",
       "<p>100 rows × 4 columns</p>\n",
       "</div>"
      ],
      "text/plain": [
       "       id                                               text  rating label\n",
       "0       0  Bromwell High is a cartoon comedy. It ran at t...       9     +\n",
       "1   10000  Homelessness (or Houselessness as George Carli...       8     +\n",
       "2   10001  Brilliant over-acting by Lesley Ann Warren. Be...      10     +\n",
       "3   10002  This is easily the most underrated film inn th...       7     +\n",
       "4   10003  This is not the typical Mel Brooks film. It wa...       8     +\n",
       "..    ...                                                ...     ...   ...\n",
       "95  10086  This is a lot of silliness about a woman from ...       7     +\n",
       "96  10087  Fabulous costumes by Edith Head who painted th...      10     +\n",
       "97  10088  Elephant Walk (1954) Starring an early Peter F...      10     +\n",
       "98  10089  . . . or type on a computer keyboard, they'd p...       7     +\n",
       "99   1008  I got in to this excellent program in about se...      10     +\n",
       "\n",
       "[100 rows x 4 columns]"
      ]
     },
     "execution_count": 25,
     "metadata": {},
     "output_type": "execute_result"
    }
   ],
   "source": [
    "train_df"
   ]
  },
  {
   "cell_type": "code",
   "execution_count": null,
   "id": "ac692761",
   "metadata": {},
   "outputs": [],
   "source": []
  }
 ],
 "metadata": {
  "kernelspec": {
   "display_name": "Python 3 (ipykernel)",
   "language": "python",
   "name": "python3"
  },
  "language_info": {
   "codemirror_mode": {
    "name": "ipython",
    "version": 3
   },
   "file_extension": ".py",
   "mimetype": "text/x-python",
   "name": "python",
   "nbconvert_exporter": "python",
   "pygments_lexer": "ipython3",
   "version": "3.9.0"
  }
 },
 "nbformat": 4,
 "nbformat_minor": 5
}
