{
 "cells": [
  {
   "cell_type": "code",
   "execution_count": 1,
   "id": "8d0cdfe1",
   "metadata": {},
   "outputs": [],
   "source": [
    "import pandas as pd\n",
    "from keras.models import Sequential, load_model\n",
    "from keras.layers import Dense, Dropout, LSTM, Embedding, GRU, SpatialDropout1D, Bidirectional\n",
    "from keras.callbacks import EarlyStopping, ModelCheckpoint\n",
    "from keras.losses import CategoricalCrossentropy\n",
    "from keras.preprocessing.text import Tokenizer\n",
    "from keras.preprocessing.sequence import pad_sequences\n",
    "from tensorflow.keras.optimizers import SGD\n",
    "from tensorflow.keras.utils import to_categorical\n",
    "import spacy\n",
    "from tqdm.notebook import tqdm_notebook\n",
    "from sklearn.model_selection import train_test_split\n",
    "from sklearn.metrics import ConfusionMatrixDisplay, accuracy_score, f1_score\n",
    "from sklearn.metrics import confusion_matrix\n",
    "spacy.require_gpu()\n",
    "import scikitplot as skplt\n",
    "import numpy as np\n",
    "from sklearn.preprocessing import LabelEncoder\n",
    "from sklearn.preprocessing import OneHotEncoder\n",
    "from tqdm import tqdm\n",
    "tqdm.pandas()\n",
    "from nltk.corpus import stopwords\n"
   ]
  },
  {
   "cell_type": "markdown",
   "id": "090ea0ac",
   "metadata": {},
   "source": [
    "# Load the training and testing data"
   ]
  },
  {
   "cell_type": "code",
   "execution_count": 2,
   "id": "aed6711b",
   "metadata": {},
   "outputs": [],
   "source": [
    "processed_directory = '../processed_data/'\n",
    "train_df = pd.read_json('../processed_data/train.json')\n",
    "test_df = pd.read_json('../processed_data/test.json')"
   ]
  },
  {
   "cell_type": "code",
   "execution_count": 3,
   "id": "9effc603",
   "metadata": {},
   "outputs": [
    {
     "data": {
      "text/html": [
       "<div>\n",
       "<style scoped>\n",
       "    .dataframe tbody tr th:only-of-type {\n",
       "        vertical-align: middle;\n",
       "    }\n",
       "\n",
       "    .dataframe tbody tr th {\n",
       "        vertical-align: top;\n",
       "    }\n",
       "\n",
       "    .dataframe thead th {\n",
       "        text-align: right;\n",
       "    }\n",
       "</style>\n",
       "<table border=\"1\" class=\"dataframe\">\n",
       "  <thead>\n",
       "    <tr style=\"text-align: right;\">\n",
       "      <th></th>\n",
       "      <th>id</th>\n",
       "      <th>text</th>\n",
       "      <th>rating</th>\n",
       "      <th>label</th>\n",
       "    </tr>\n",
       "  </thead>\n",
       "  <tbody>\n",
       "    <tr>\n",
       "      <th>6868</th>\n",
       "      <td>4932</td>\n",
       "      <td>In Panic In The Streets Richard Widmark plays ...</td>\n",
       "      <td>8</td>\n",
       "      <td>+</td>\n",
       "    </tr>\n",
       "    <tr>\n",
       "      <th>24016</th>\n",
       "      <td>9115</td>\n",
       "      <td>If you ask me the first one was really better ...</td>\n",
       "      <td>1</td>\n",
       "      <td>-</td>\n",
       "    </tr>\n",
       "    <tr>\n",
       "      <th>9668</th>\n",
       "      <td>7452</td>\n",
       "      <td>I am a big fan a Faerie Tale Theatre and I've ...</td>\n",
       "      <td>10</td>\n",
       "      <td>+</td>\n",
       "    </tr>\n",
       "    <tr>\n",
       "      <th>13640</th>\n",
       "      <td>11026</td>\n",
       "      <td>I just finished reading a book about Dillinger...</td>\n",
       "      <td>1</td>\n",
       "      <td>-</td>\n",
       "    </tr>\n",
       "    <tr>\n",
       "      <th>14018</th>\n",
       "      <td>11367</td>\n",
       "      <td>Greg Davis and Bryan Daly take some crazed sta...</td>\n",
       "      <td>2</td>\n",
       "      <td>-</td>\n",
       "    </tr>\n",
       "    <tr>\n",
       "      <th>...</th>\n",
       "      <td>...</td>\n",
       "      <td>...</td>\n",
       "      <td>...</td>\n",
       "      <td>...</td>\n",
       "    </tr>\n",
       "    <tr>\n",
       "      <th>21575</th>\n",
       "      <td>6919</td>\n",
       "      <td>My roommates &amp; I nearly shorted out our TV fro...</td>\n",
       "      <td>2</td>\n",
       "      <td>-</td>\n",
       "    </tr>\n",
       "    <tr>\n",
       "      <th>5390</th>\n",
       "      <td>3601</td>\n",
       "      <td>Michelle Rodriguez is the defining actress who...</td>\n",
       "      <td>7</td>\n",
       "      <td>+</td>\n",
       "    </tr>\n",
       "    <tr>\n",
       "      <th>860</th>\n",
       "      <td>10775</td>\n",
       "      <td>Nice movie with a great soundtrack which spans...</td>\n",
       "      <td>8</td>\n",
       "      <td>+</td>\n",
       "    </tr>\n",
       "    <tr>\n",
       "      <th>15795</th>\n",
       "      <td>1716</td>\n",
       "      <td>Even though this was a made-for-TV production,...</td>\n",
       "      <td>1</td>\n",
       "      <td>-</td>\n",
       "    </tr>\n",
       "    <tr>\n",
       "      <th>23654</th>\n",
       "      <td>8790</td>\n",
       "      <td>I saw this on cable recently and kinda enjoyed...</td>\n",
       "      <td>1</td>\n",
       "      <td>-</td>\n",
       "    </tr>\n",
       "  </tbody>\n",
       "</table>\n",
       "<p>25000 rows × 4 columns</p>\n",
       "</div>"
      ],
      "text/plain": [
       "          id                                               text  rating label\n",
       "6868    4932  In Panic In The Streets Richard Widmark plays ...       8     +\n",
       "24016   9115  If you ask me the first one was really better ...       1     -\n",
       "9668    7452  I am a big fan a Faerie Tale Theatre and I've ...      10     +\n",
       "13640  11026  I just finished reading a book about Dillinger...       1     -\n",
       "14018  11367  Greg Davis and Bryan Daly take some crazed sta...       2     -\n",
       "...      ...                                                ...     ...   ...\n",
       "21575   6919  My roommates & I nearly shorted out our TV fro...       2     -\n",
       "5390    3601  Michelle Rodriguez is the defining actress who...       7     +\n",
       "860    10775  Nice movie with a great soundtrack which spans...       8     +\n",
       "15795   1716  Even though this was a made-for-TV production,...       1     -\n",
       "23654   8790  I saw this on cable recently and kinda enjoyed...       1     -\n",
       "\n",
       "[25000 rows x 4 columns]"
      ]
     },
     "execution_count": 3,
     "metadata": {},
     "output_type": "execute_result"
    }
   ],
   "source": [
    "train_df = train_df.sample(len(train_df), random_state=42)\n",
    "train_df"
   ]
  },
  {
   "cell_type": "code",
   "execution_count": null,
   "id": "7d525f5a",
   "metadata": {},
   "outputs": [],
   "source": [
    "nlp = spacy.load('en_core_web_lg', disable=['parser', 'ner'])"
   ]
  },
  {
   "cell_type": "markdown",
   "id": "d23d82e8",
   "metadata": {},
   "source": [
    "# Doing a bit of checking"
   ]
  },
  {
   "cell_type": "code",
   "execution_count": 72,
   "id": "fda968ca",
   "metadata": {},
   "outputs": [
    {
     "name": "stderr",
     "output_type": "stream",
     "text": [
      "100%|█████████████████████████████████████████████████| 25000/25000 [00:00<00:00, 116293.56it/s]\n",
      "100%|█████████████████████████████████████████████████| 25000/25000 [00:00<00:00, 114217.62it/s]\n"
     ]
    }
   ],
   "source": [
    "def get_len(s):\n",
    "    return len(s.split())\n",
    "len_df_train = train_df['text'].progress_apply(get_len)\n",
    "len_df_test = test_df['text'].progress_apply(get_len)\n"
   ]
  },
  {
   "cell_type": "code",
   "execution_count": 74,
   "id": "27dc43fc",
   "metadata": {},
   "outputs": [
    {
     "data": {
      "text/plain": [
       "<AxesSubplot:>"
      ]
     },
     "execution_count": 74,
     "metadata": {},
     "output_type": "execute_result"
    },
    {
     "data": {
      "image/png": "[encoded data removed]",
      "text/plain": [
       "<Figure size 432x288 with 1 Axes>"
      ]
     },
     "metadata": {
      "needs_background": "light"
     },
     "output_type": "display_data"
    }
   ],
   "source": [
    "len_df_train.hist()"
   ]
  },
  {
   "cell_type": "code",
   "execution_count": 73,
   "id": "40264698",
   "metadata": {},
   "outputs": [
    {
     "data": {
      "text/plain": [
       "<AxesSubplot:>"
      ]
     },
     "execution_count": 73,
     "metadata": {},
     "output_type": "execute_result"
    },
    {
     "data": {
      "image/png": "[encoded data removed]",
      "text/plain": [
       "<Figure size 432x288 with 1 Axes>"
      ]
     },
     "metadata": {
      "needs_background": "light"
     },
     "output_type": "display_data"
    }
   ],
   "source": [
    "len_df_test.hist()"
   ]
  },
  {
   "cell_type": "markdown",
   "id": "53bf927e",
   "metadata": {},
   "source": [
    "# Storing some variables"
   ]
  },
  {
   "cell_type": "code",
   "execution_count": 80,
   "id": "a5de3efc",
   "metadata": {},
   "outputs": [],
   "source": [
    "train_len = int(0.8*len(train_df))\n",
    "max_words=500\n",
    "embedding_size=300\n"
   ]
  },
  {
   "cell_type": "code",
   "execution_count": 76,
   "id": "60f85910",
   "metadata": {},
   "outputs": [],
   "source": [
    "tokenizer = Tokenizer()\n",
    "tokenizer.fit_on_texts(train_df['text'].values)"
   ]
  },
  {
   "cell_type": "code",
   "execution_count": 77,
   "id": "da5d66e0",
   "metadata": {},
   "outputs": [],
   "source": [
    "def one_hot(row):\n",
    "    if row == '-':\n",
    "        return [1, 0]\n",
    "    else:\n",
    "        return [0, 1]\n",
    "    \n",
    "    \n",
    "def get_features(df):\n",
    "    sequences = tokenizer.texts_to_sequences(df['text'].values)\n",
    "    x = pad_sequences(sequences, maxlen=max_words)\n",
    "    y = df['label'].apply(one_hot).tolist()\n",
    "    y = np.array(y)\n",
    "    return x, y"
   ]
  },
  {
   "cell_type": "code",
   "execution_count": 78,
   "id": "ea84a82c",
   "metadata": {},
   "outputs": [],
   "source": [
    "train_val_x, train_val_y = get_features(train_df)\n",
    "test_x, test_y = get_features(test_df)"
   ]
  },
  {
   "cell_type": "code",
   "execution_count": 81,
   "id": "18f20821",
   "metadata": {},
   "outputs": [],
   "source": [
    "train_x, val_x = train_val_x[:train_len], train_val_x[train_len:]\n",
    "train_y, val_y = train_val_y[:train_len], train_val_y[train_len:]"
   ]
  },
  {
   "cell_type": "code",
   "execution_count": null,
   "id": "40b3f5cd",
   "metadata": {},
   "outputs": [],
   "source": [
    "def predict_result(model, x, y_true):\n",
    "    y_pred = model.predict(x)\n",
    "    y_pred = np.argmax(y_pred, axis=1)\n",
    "    y_true = np.argmax(y_true, axis=1)\n",
    "    skplt.metrics.plot_confusion_matrix(y_true, y_pred)\n",
    "    print(f'f1 : {f1_score(y_true, y_pred)}')\n",
    "    print(f'acc: {accuracy_score(y_true, y_pred)}')    "
   ]
  },
  {
   "cell_type": "markdown",
   "id": "d89b821f",
   "metadata": {},
   "source": [
    "## RNN with LSTM"
   ]
  },
  {
   "cell_type": "code",
   "execution_count": 86,
   "id": "36e199bc",
   "metadata": {
    "scrolled": true
   },
   "outputs": [
    {
     "name": "stdout",
     "output_type": "stream",
     "text": [
      "WARNING:tensorflow:Layer lstm_8 will not use cuDNN kernels since it doesn't meet the criteria. It will use a generic GPU kernel as fallback when running on GPU.\n"
     ]
    },
    {
     "name": "stderr",
     "output_type": "stream",
     "text": [
      "WARNING:tensorflow:Layer lstm_8 will not use cuDNN kernels since it doesn't meet the criteria. It will use a generic GPU kernel as fallback when running on GPU.\n"
     ]
    },
    {
     "name": "stdout",
     "output_type": "stream",
     "text": [
      "Model: \"sequential_8\"\n",
      "_________________________________________________________________\n",
      " Layer (type)                Output Shape              Param #   \n",
      "=================================================================\n",
      " embedding_8 (Embedding)     (None, 500, 300)          180000    \n",
      "                                                                 \n",
      " spatial_dropout1d_3 (Spatia  (None, 500, 300)         0         \n",
      " lDropout1D)                                                     \n",
      "                                                                 \n",
      " lstm_8 (LSTM)               (None, 256)               570368    \n",
      "                                                                 \n",
      " dense_16 (Dense)            (None, 256)               65792     \n",
      "                                                                 \n",
      " dropout_8 (Dropout)         (None, 256)               0         \n",
      "                                                                 \n",
      " dense_17 (Dense)            (None, 2)                 514       \n",
      "                                                                 \n",
      "=================================================================\n",
      "Total params: 816,674\n",
      "Trainable params: 816,674\n",
      "Non-trainable params: 0\n",
      "_________________________________________________________________\n"
     ]
    }
   ],
   "source": [
    "model = Sequential([\n",
    "    Embedding(600, embedding_size, input_length=max_words),\n",
    "    SpatialDropout1D(0.4),\n",
    "    LSTM(256, dropout=0.2, recurrent_dropout=0.2),\n",
    "    Dense(256, activation='relu'),\n",
    "    Dropout(0.2),\n",
    "    Dense(2, activation='sigmoid')\n",
    "])\n",
    "\n",
    "callbacks=[\n",
    "    ModelCheckpoint(filepath='./models_lstm/checkpoint',\n",
    "                   save_best_only=True, verbose=1, monitor='val_accuracy')\n",
    "]\n",
    "model.summary()"
   ]
  },
  {
   "cell_type": "code",
   "execution_count": 87,
   "id": "70871790",
   "metadata": {},
   "outputs": [],
   "source": [
    "model.compile(loss='categorical_crossentropy', \n",
    "             optimizer='adam', \n",
    "             metrics=['accuracy'])"
   ]
  },
  {
   "cell_type": "code",
   "execution_count": 89,
   "id": "5845075c",
   "metadata": {},
   "outputs": [
    {
     "name": "stdout",
     "output_type": "stream",
     "text": [
      "Epoch 1/50\n",
      "79/79 [==============================] - ETA: 0s - loss: 0.1205 - accuracy: 0.9548\n",
      "Epoch 1: val_accuracy did not improve from 0.85260\n",
      "79/79 [==============================] - 174s 2s/step - loss: 0.1205 - accuracy: 0.9548 - val_loss: 0.6640 - val_accuracy: 0.8174\n",
      "Epoch 2/50\n",
      "79/79 [==============================] - ETA: 0s - loss: 0.0915 - accuracy: 0.9635\n",
      "Epoch 2: val_accuracy did not improve from 0.85260\n",
      "79/79 [==============================] - 175s 2s/step - loss: 0.0915 - accuracy: 0.9635 - val_loss: 0.7578 - val_accuracy: 0.8214\n",
      "Epoch 3/50\n",
      "79/79 [==============================] - ETA: 0s - loss: 0.0931 - accuracy: 0.9647\n",
      "Epoch 3: val_accuracy did not improve from 0.85260\n",
      "79/79 [==============================] - 178s 2s/step - loss: 0.0931 - accuracy: 0.9647 - val_loss: 0.7134 - val_accuracy: 0.8178\n",
      "Epoch 4/50\n",
      "79/79 [==============================] - ETA: 0s - loss: 0.1629 - accuracy: 0.9374\n",
      "Epoch 4: val_accuracy did not improve from 0.85260\n",
      "79/79 [==============================] - 180s 2s/step - loss: 0.1629 - accuracy: 0.9374 - val_loss: 0.6293 - val_accuracy: 0.8224\n",
      "Epoch 5/50\n",
      "79/79 [==============================] - ETA: 0s - loss: 0.1024 - accuracy: 0.9594\n",
      "Epoch 5: val_accuracy did not improve from 0.85260\n",
      "79/79 [==============================] - 181s 2s/step - loss: 0.1024 - accuracy: 0.9594 - val_loss: 0.7235 - val_accuracy: 0.8244\n",
      "Epoch 6/50\n",
      "79/79 [==============================] - ETA: 0s - loss: 0.0970 - accuracy: 0.9627\n",
      "Epoch 6: val_accuracy did not improve from 0.85260\n",
      "79/79 [==============================] - 181s 2s/step - loss: 0.0970 - accuracy: 0.9627 - val_loss: 0.7306 - val_accuracy: 0.8426\n",
      "Epoch 7/50\n",
      "79/79 [==============================] - ETA: 0s - loss: 0.0789 - accuracy: 0.9699\n",
      "Epoch 7: val_accuracy did not improve from 0.85260\n",
      "79/79 [==============================] - 181s 2s/step - loss: 0.0789 - accuracy: 0.9699 - val_loss: 0.7482 - val_accuracy: 0.8208\n",
      "Epoch 8/50\n",
      "79/79 [==============================] - ETA: 0s - loss: 0.0720 - accuracy: 0.9728\n",
      "Epoch 8: val_accuracy did not improve from 0.85260\n",
      "79/79 [==============================] - 181s 2s/step - loss: 0.0720 - accuracy: 0.9728 - val_loss: 0.7919 - val_accuracy: 0.8130\n",
      "Epoch 9/50\n",
      "79/79 [==============================] - ETA: 0s - loss: 0.0647 - accuracy: 0.9775\n",
      "Epoch 9: val_accuracy did not improve from 0.85260\n",
      "79/79 [==============================] - 181s 2s/step - loss: 0.0647 - accuracy: 0.9775 - val_loss: 0.9266 - val_accuracy: 0.8292\n",
      "Epoch 10/50\n",
      "79/79 [==============================] - ETA: 0s - loss: 0.0910 - accuracy: 0.9672\n",
      "Epoch 10: val_accuracy did not improve from 0.85260\n",
      "79/79 [==============================] - 179s 2s/step - loss: 0.0910 - accuracy: 0.9672 - val_loss: 0.7882 - val_accuracy: 0.8266\n",
      "Epoch 11/50\n",
      "79/79 [==============================] - ETA: 0s - loss: 0.0657 - accuracy: 0.9761\n",
      "Epoch 11: val_accuracy did not improve from 0.85260\n",
      "79/79 [==============================] - 181s 2s/step - loss: 0.0657 - accuracy: 0.9761 - val_loss: 0.8183 - val_accuracy: 0.8296\n",
      "Epoch 12/50\n",
      "79/79 [==============================] - ETA: 0s - loss: 0.0623 - accuracy: 0.9772\n",
      "Epoch 12: val_accuracy did not improve from 0.85260\n",
      "79/79 [==============================] - 180s 2s/step - loss: 0.0623 - accuracy: 0.9772 - val_loss: 0.8469 - val_accuracy: 0.8322\n",
      "Epoch 13/50\n",
      "79/79 [==============================] - ETA: 0s - loss: 0.0596 - accuracy: 0.9783\n",
      "Epoch 13: val_accuracy did not improve from 0.85260\n",
      "79/79 [==============================] - 180s 2s/step - loss: 0.0596 - accuracy: 0.9783 - val_loss: 0.8640 - val_accuracy: 0.8242\n",
      "Epoch 14/50\n",
      "79/79 [==============================] - ETA: 0s - loss: 0.0557 - accuracy: 0.9807\n",
      "Epoch 14: val_accuracy did not improve from 0.85260\n",
      "79/79 [==============================] - 177s 2s/step - loss: 0.0557 - accuracy: 0.9807 - val_loss: 1.0009 - val_accuracy: 0.8200\n",
      "Epoch 15/50\n",
      "79/79 [==============================] - ETA: 0s - loss: 0.0739 - accuracy: 0.9744\n",
      "Epoch 15: val_accuracy did not improve from 0.85260\n",
      "79/79 [==============================] - 180s 2s/step - loss: 0.0739 - accuracy: 0.9744 - val_loss: 0.8755 - val_accuracy: 0.8242\n",
      "Epoch 16/50\n",
      "79/79 [==============================] - ETA: 0s - loss: 0.0694 - accuracy: 0.9740\n",
      "Epoch 16: val_accuracy did not improve from 0.85260\n",
      "79/79 [==============================] - 180s 2s/step - loss: 0.0694 - accuracy: 0.9740 - val_loss: 0.8458 - val_accuracy: 0.8280\n",
      "Epoch 17/50\n",
      "79/79 [==============================] - ETA: 0s - loss: 0.0634 - accuracy: 0.9776\n",
      "Epoch 17: val_accuracy did not improve from 0.85260\n",
      "79/79 [==============================] - 181s 2s/step - loss: 0.0634 - accuracy: 0.9776 - val_loss: 0.8664 - val_accuracy: 0.8282\n",
      "Epoch 18/50\n",
      "79/79 [==============================] - ETA: 0s - loss: 0.0544 - accuracy: 0.9814\n",
      "Epoch 18: val_accuracy did not improve from 0.85260\n",
      "79/79 [==============================] - 182s 2s/step - loss: 0.0544 - accuracy: 0.9814 - val_loss: 0.8752 - val_accuracy: 0.8194\n",
      "Epoch 19/50\n",
      "79/79 [==============================] - ETA: 0s - loss: 0.0471 - accuracy: 0.9830\n",
      "Epoch 19: val_accuracy did not improve from 0.85260\n",
      "79/79 [==============================] - 186s 2s/step - loss: 0.0471 - accuracy: 0.9830 - val_loss: 0.8983 - val_accuracy: 0.8318\n",
      "Epoch 20/50\n",
      "79/79 [==============================] - ETA: 0s - loss: 0.0433 - accuracy: 0.9847\n",
      "Epoch 20: val_accuracy did not improve from 0.85260\n",
      "79/79 [==============================] - 189s 2s/step - loss: 0.0433 - accuracy: 0.9847 - val_loss: 0.9294 - val_accuracy: 0.8282\n",
      "Epoch 21/50\n",
      "79/79 [==============================] - ETA: 0s - loss: 0.0482 - accuracy: 0.9836\n",
      "Epoch 21: val_accuracy did not improve from 0.85260\n",
      "79/79 [==============================] - 188s 2s/step - loss: 0.0482 - accuracy: 0.9836 - val_loss: 0.9067 - val_accuracy: 0.8300\n",
      "Epoch 22/50\n",
      "79/79 [==============================] - ETA: 0s - loss: 0.0395 - accuracy: 0.9858\n",
      "Epoch 22: val_accuracy did not improve from 0.85260\n",
      "79/79 [==============================] - 187s 2s/step - loss: 0.0395 - accuracy: 0.9858 - val_loss: 0.9711 - val_accuracy: 0.8296\n",
      "Epoch 23/50\n",
      "79/79 [==============================] - ETA: 0s - loss: 0.0451 - accuracy: 0.9836\n",
      "Epoch 23: val_accuracy did not improve from 0.85260\n",
      "79/79 [==============================] - 185s 2s/step - loss: 0.0451 - accuracy: 0.9836 - val_loss: 1.0036 - val_accuracy: 0.8436\n",
      "Epoch 24/50\n",
      "79/79 [==============================] - ETA: 0s - loss: 0.0474 - accuracy: 0.9843\n",
      "Epoch 24: val_accuracy did not improve from 0.85260\n",
      "79/79 [==============================] - 185s 2s/step - loss: 0.0474 - accuracy: 0.9843 - val_loss: 0.9228 - val_accuracy: 0.8282\n",
      "Epoch 25/50\n",
      "79/79 [==============================] - ETA: 0s - loss: 0.0627 - accuracy: 0.9786\n",
      "Epoch 25: val_accuracy did not improve from 0.85260\n",
      "79/79 [==============================] - 181s 2s/step - loss: 0.0627 - accuracy: 0.9786 - val_loss: 0.8341 - val_accuracy: 0.8138\n",
      "Epoch 26/50\n",
      "79/79 [==============================] - ETA: 0s - loss: 0.0563 - accuracy: 0.9810\n",
      "Epoch 26: val_accuracy did not improve from 0.85260\n",
      "79/79 [==============================] - 187s 2s/step - loss: 0.0563 - accuracy: 0.9810 - val_loss: 0.8782 - val_accuracy: 0.8330\n",
      "Epoch 27/50\n",
      "79/79 [==============================] - ETA: 0s - loss: 0.0367 - accuracy: 0.9870\n",
      "Epoch 27: val_accuracy did not improve from 0.85260\n",
      "79/79 [==============================] - 188s 2s/step - loss: 0.0367 - accuracy: 0.9870 - val_loss: 0.9805 - val_accuracy: 0.8378\n",
      "Epoch 28/50\n",
      "79/79 [==============================] - ETA: 0s - loss: 0.0401 - accuracy: 0.9859\n",
      "Epoch 28: val_accuracy did not improve from 0.85260\n",
      "79/79 [==============================] - 186s 2s/step - loss: 0.0401 - accuracy: 0.9859 - val_loss: 0.9768 - val_accuracy: 0.8334\n",
      "Epoch 29/50\n",
      "79/79 [==============================] - ETA: 0s - loss: 0.0353 - accuracy: 0.9877\n",
      "Epoch 29: val_accuracy did not improve from 0.85260\n",
      "79/79 [==============================] - 182s 2s/step - loss: 0.0353 - accuracy: 0.9877 - val_loss: 0.9835 - val_accuracy: 0.8392\n",
      "Epoch 30/50\n",
      "79/79 [==============================] - ETA: 0s - loss: 0.0574 - accuracy: 0.9798\n",
      "Epoch 30: val_accuracy did not improve from 0.85260\n",
      "79/79 [==============================] - 183s 2s/step - loss: 0.0574 - accuracy: 0.9798 - val_loss: 0.8976 - val_accuracy: 0.8402\n"
     ]
    },
    {
     "name": "stdout",
     "output_type": "stream",
     "text": [
      "Epoch 31/50\n",
      "79/79 [==============================] - ETA: 0s - loss: 0.0367 - accuracy: 0.9866\n",
      "Epoch 31: val_accuracy did not improve from 0.85260\n",
      "79/79 [==============================] - 186s 2s/step - loss: 0.0367 - accuracy: 0.9866 - val_loss: 0.9513 - val_accuracy: 0.8300\n",
      "Epoch 32/50\n",
      "79/79 [==============================] - ETA: 0s - loss: 0.0303 - accuracy: 0.9891\n",
      "Epoch 32: val_accuracy did not improve from 0.85260\n",
      "79/79 [==============================] - 186s 2s/step - loss: 0.0303 - accuracy: 0.9891 - val_loss: 1.0392 - val_accuracy: 0.8376\n",
      "Epoch 33/50\n",
      "79/79 [==============================] - ETA: 0s - loss: 0.0325 - accuracy: 0.9892\n",
      "Epoch 33: val_accuracy did not improve from 0.85260\n",
      "79/79 [==============================] - 189s 2s/step - loss: 0.0325 - accuracy: 0.9892 - val_loss: 1.0391 - val_accuracy: 0.8306\n",
      "Epoch 34/50\n",
      "79/79 [==============================] - ETA: 0s - loss: 0.0422 - accuracy: 0.9851\n",
      "Epoch 34: val_accuracy did not improve from 0.85260\n",
      "79/79 [==============================] - 187s 2s/step - loss: 0.0422 - accuracy: 0.9851 - val_loss: 0.9901 - val_accuracy: 0.8196\n",
      "Epoch 35/50\n",
      "79/79 [==============================] - ETA: 0s - loss: 0.0343 - accuracy: 0.9883\n",
      "Epoch 35: val_accuracy did not improve from 0.85260\n",
      "79/79 [==============================] - 185s 2s/step - loss: 0.0343 - accuracy: 0.9883 - val_loss: 0.9783 - val_accuracy: 0.8306\n",
      "Epoch 36/50\n",
      "79/79 [==============================] - ETA: 0s - loss: 0.0361 - accuracy: 0.9876\n",
      "Epoch 36: val_accuracy did not improve from 0.85260\n",
      "79/79 [==============================] - 186s 2s/step - loss: 0.0361 - accuracy: 0.9876 - val_loss: 0.9586 - val_accuracy: 0.8332\n",
      "Epoch 37/50\n",
      "79/79 [==============================] - ETA: 0s - loss: 0.0273 - accuracy: 0.9901\n",
      "Epoch 37: val_accuracy did not improve from 0.85260\n",
      "79/79 [==============================] - 183s 2s/step - loss: 0.0273 - accuracy: 0.9901 - val_loss: 1.0361 - val_accuracy: 0.8266\n",
      "Epoch 38/50\n",
      "79/79 [==============================] - ETA: 0s - loss: 0.0274 - accuracy: 0.9906\n",
      "Epoch 38: val_accuracy did not improve from 0.85260\n",
      "79/79 [==============================] - 184s 2s/step - loss: 0.0274 - accuracy: 0.9906 - val_loss: 1.0245 - val_accuracy: 0.8298\n",
      "Epoch 39/50\n",
      "79/79 [==============================] - ETA: 0s - loss: 0.0279 - accuracy: 0.9906\n",
      "Epoch 39: val_accuracy did not improve from 0.85260\n",
      "79/79 [==============================] - 179s 2s/step - loss: 0.0279 - accuracy: 0.9906 - val_loss: 1.0542 - val_accuracy: 0.8272\n",
      "Epoch 40/50\n",
      "79/79 [==============================] - ETA: 0s - loss: 0.0373 - accuracy: 0.9865\n",
      "Epoch 40: val_accuracy did not improve from 0.85260\n",
      "79/79 [==============================] - 181s 2s/step - loss: 0.0373 - accuracy: 0.9865 - val_loss: 1.0000 - val_accuracy: 0.8330\n",
      "Epoch 41/50\n",
      "79/79 [==============================] - ETA: 0s - loss: 0.0307 - accuracy: 0.9893\n",
      "Epoch 41: val_accuracy did not improve from 0.85260\n",
      "79/79 [==============================] - 183s 2s/step - loss: 0.0307 - accuracy: 0.9893 - val_loss: 1.0254 - val_accuracy: 0.8242\n",
      "Epoch 42/50\n",
      "79/79 [==============================] - ETA: 0s - loss: 0.0287 - accuracy: 0.9895\n",
      "Epoch 42: val_accuracy did not improve from 0.85260\n",
      "79/79 [==============================] - 180s 2s/step - loss: 0.0287 - accuracy: 0.9895 - val_loss: 1.1461 - val_accuracy: 0.8332\n",
      "Epoch 43/50\n",
      "79/79 [==============================] - ETA: 0s - loss: 0.0363 - accuracy: 0.9877\n",
      "Epoch 43: val_accuracy did not improve from 0.85260\n",
      "79/79 [==============================] - 181s 2s/step - loss: 0.0363 - accuracy: 0.9877 - val_loss: 1.0440 - val_accuracy: 0.8304\n",
      "Epoch 44/50\n",
      "79/79 [==============================] - ETA: 0s - loss: 0.0312 - accuracy: 0.9894\n",
      "Epoch 44: val_accuracy did not improve from 0.85260\n",
      "79/79 [==============================] - 186s 2s/step - loss: 0.0312 - accuracy: 0.9894 - val_loss: 1.0184 - val_accuracy: 0.8276\n",
      "Epoch 45/50\n",
      "79/79 [==============================] - ETA: 0s - loss: 0.0270 - accuracy: 0.9912\n",
      "Epoch 45: val_accuracy did not improve from 0.85260\n",
      "79/79 [==============================] - 184s 2s/step - loss: 0.0270 - accuracy: 0.9912 - val_loss: 1.0483 - val_accuracy: 0.8220\n",
      "Epoch 46/50\n",
      "79/79 [==============================] - ETA: 0s - loss: 0.0372 - accuracy: 0.9881\n",
      "Epoch 46: val_accuracy did not improve from 0.85260\n",
      "79/79 [==============================] - 180s 2s/step - loss: 0.0372 - accuracy: 0.9881 - val_loss: 1.0217 - val_accuracy: 0.8274\n",
      "Epoch 47/50\n",
      "79/79 [==============================] - ETA: 0s - loss: 0.0275 - accuracy: 0.9909\n",
      "Epoch 47: val_accuracy did not improve from 0.85260\n",
      "79/79 [==============================] - 185s 2s/step - loss: 0.0275 - accuracy: 0.9909 - val_loss: 1.0092 - val_accuracy: 0.8408\n",
      "Epoch 48/50\n",
      "79/79 [==============================] - ETA: 0s - loss: 0.0361 - accuracy: 0.9871\n",
      "Epoch 48: val_accuracy did not improve from 0.85260\n",
      "79/79 [==============================] - 185s 2s/step - loss: 0.0361 - accuracy: 0.9871 - val_loss: 0.9741 - val_accuracy: 0.8296\n",
      "Epoch 49/50\n",
      "79/79 [==============================] - ETA: 0s - loss: 0.0335 - accuracy: 0.9881\n",
      "Epoch 49: val_accuracy did not improve from 0.85260\n",
      "79/79 [==============================] - 185s 2s/step - loss: 0.0335 - accuracy: 0.9881 - val_loss: 0.9917 - val_accuracy: 0.8270\n",
      "Epoch 50/50\n",
      "79/79 [==============================] - ETA: 0s - loss: 0.0293 - accuracy: 0.9904\n",
      "Epoch 50: val_accuracy did not improve from 0.85260\n",
      "79/79 [==============================] - 190s 2s/step - loss: 0.0293 - accuracy: 0.9904 - val_loss: 1.0076 - val_accuracy: 0.8260\n"
     ]
    },
    {
     "data": {
      "text/plain": [
       "<keras.callbacks.History at 0x201c9b3bd00>"
      ]
     },
     "execution_count": 89,
     "metadata": {},
     "output_type": "execute_result"
    }
   ],
   "source": [
    "model.fit(train_x, train_y, \n",
    "          epochs=50,\n",
    "         callbacks=callbacks,\n",
    "         validation_data=(val_x, val_y),\n",
    "         batch_size=256)"
   ]
  },
  {
   "cell_type": "code",
   "execution_count": 90,
   "id": "b24c3ed5",
   "metadata": {},
   "outputs": [
    {
     "name": "stdout",
     "output_type": "stream",
     "text": [
      "WARNING:tensorflow:Layer lstm_8 will not use cuDNN kernels since it doesn't meet the criteria. It will use a generic GPU kernel as fallback when running on GPU.\n"
     ]
    },
    {
     "name": "stderr",
     "output_type": "stream",
     "text": [
      "WARNING:tensorflow:Layer lstm_8 will not use cuDNN kernels since it doesn't meet the criteria. It will use a generic GPU kernel as fallback when running on GPU.\n"
     ]
    }
   ],
   "source": [
    "model = load_model('./models_lstm/checkpoint')"
   ]
  },
  {
   "cell_type": "code",
   "execution_count": 92,
   "id": "c8d34812",
   "metadata": {},
   "outputs": [
    {
     "name": "stdout",
     "output_type": "stream",
     "text": [
      "f1 : 0.8941176470588235\n",
      "acc: 0.892\n"
     ]
    },
    {
     "data": {
      "image/png": "[encoded data removed]",
      "text/plain": [
       "<Figure size 432x288 with 2 Axes>"
      ]
     },
     "metadata": {
      "needs_background": "light"
     },
     "output_type": "display_data"
    }
   ],
   "source": [
    "predict_result(model, train_x[:1000], train_y[:1000])"
   ]
  },
  {
   "cell_type": "code",
   "execution_count": 93,
   "id": "fcdc2ce8",
   "metadata": {},
   "outputs": [
    {
     "name": "stdout",
     "output_type": "stream",
     "text": [
      "f1 : 0.8551010739102969\n",
      "acc: 0.8532\n"
     ]
    },
    {
     "data": {
      "image/png": "[encoded data removed]",
      "text/plain": [
       "<Figure size 432x288 with 2 Axes>"
      ]
     },
     "metadata": {
      "needs_background": "light"
     },
     "output_type": "display_data"
    }
   ],
   "source": [
    "predict_result(model, test_x, test_y)"
   ]
  },
  {
   "cell_type": "markdown",
   "id": "84fa3d85",
   "metadata": {},
   "source": [
    "# RNN with GRU"
   ]
  },
  {
   "cell_type": "code",
   "execution_count": 94,
   "id": "be72b583",
   "metadata": {},
   "outputs": [
    {
     "name": "stdout",
     "output_type": "stream",
     "text": [
      "WARNING:tensorflow:Layer gru will not use cuDNN kernels since it doesn't meet the criteria. It will use a generic GPU kernel as fallback when running on GPU.\n"
     ]
    },
    {
     "name": "stderr",
     "output_type": "stream",
     "text": [
      "WARNING:tensorflow:Layer gru will not use cuDNN kernels since it doesn't meet the criteria. It will use a generic GPU kernel as fallback when running on GPU.\n"
     ]
    },
    {
     "name": "stdout",
     "output_type": "stream",
     "text": [
      "Model: \"sequential_9\"\n",
      "_________________________________________________________________\n",
      " Layer (type)                Output Shape              Param #   \n",
      "=================================================================\n",
      " embedding_9 (Embedding)     (None, 500, 300)          180000    \n",
      "                                                                 \n",
      " spatial_dropout1d_4 (Spatia  (None, 500, 300)         0         \n",
      " lDropout1D)                                                     \n",
      "                                                                 \n",
      " gru (GRU)                   (None, 256)               428544    \n",
      "                                                                 \n",
      " dense_18 (Dense)            (None, 256)               65792     \n",
      "                                                                 \n",
      " dropout_9 (Dropout)         (None, 256)               0         \n",
      "                                                                 \n",
      " dense_19 (Dense)            (None, 2)                 514       \n",
      "                                                                 \n",
      "=================================================================\n",
      "Total params: 674,850\n",
      "Trainable params: 674,850\n",
      "Non-trainable params: 0\n",
      "_________________________________________________________________\n"
     ]
    }
   ],
   "source": [
    "model = Sequential([\n",
    "    Embedding(600, embedding_size, input_length=max_words),\n",
    "    SpatialDropout1D(0.4),\n",
    "    GRU(256, dropout=0.2, recurrent_dropout=0.2),\n",
    "    Dense(256, activation='relu'),\n",
    "    Dropout(0.2),\n",
    "    Dense(2, activation='sigmoid')\n",
    "])\n",
    "\n",
    "callbacks=[\n",
    "    ModelCheckpoint(filepath='./models_gru/checkpoint',\n",
    "                   save_best_only=True, verbose=1, monitor='val_accuracy')\n",
    "]\n",
    "model.summary()"
   ]
  },
  {
   "cell_type": "code",
   "execution_count": 95,
   "id": "3629207d",
   "metadata": {},
   "outputs": [],
   "source": [
    "model.compile(loss='categorical_crossentropy', \n",
    "             optimizer='adam', \n",
    "             metrics=['accuracy'])"
   ]
  },
  {
   "cell_type": "code",
   "execution_count": 96,
   "id": "efae2424",
   "metadata": {},
   "outputs": [
    {
     "name": "stdout",
     "output_type": "stream",
     "text": [
      "Epoch 1/50\n",
      "79/79 [==============================] - ETA: 0s - loss: 0.6116 - accuracy: 0.6481\n",
      "Epoch 1: val_accuracy improved from -inf to 0.81700, saving model to ./models_gru\\checkpoint\n",
      "INFO:tensorflow:Assets written to: ./models_gru\\checkpoint\\assets\n"
     ]
    },
    {
     "name": "stderr",
     "output_type": "stream",
     "text": [
      "INFO:tensorflow:Assets written to: ./models_gru\\checkpoint\\assets\n",
      "WARNING:absl:<keras.layers.recurrent.GRUCell object at 0x00000201C43D2C70> has the same name 'GRUCell' as a built-in Keras object. Consider renaming <class 'keras.layers.recurrent.GRUCell'> to avoid naming conflicts when loading with `tf.keras.models.load_model`. If renaming is not possible, pass the object in the `custom_objects` parameter of the load function.\n"
     ]
    },
    {
     "name": "stdout",
     "output_type": "stream",
     "text": [
      "79/79 [==============================] - 170s 2s/step - loss: 0.6116 - accuracy: 0.6481 - val_loss: 0.4178 - val_accuracy: 0.8170\n",
      "Epoch 2/50\n",
      "79/79 [==============================] - ETA: 0s - loss: 0.5599 - accuracy: 0.7099\n",
      "Epoch 2: val_accuracy did not improve from 0.81700\n",
      "79/79 [==============================] - 162s 2s/step - loss: 0.5599 - accuracy: 0.7099 - val_loss: 0.6189 - val_accuracy: 0.6246\n",
      "Epoch 3/50\n",
      "79/79 [==============================] - ETA: 0s - loss: 0.5551 - accuracy: 0.7062\n",
      "Epoch 3: val_accuracy did not improve from 0.81700\n",
      "79/79 [==============================] - 163s 2s/step - loss: 0.5551 - accuracy: 0.7062 - val_loss: 0.4987 - val_accuracy: 0.7656\n",
      "Epoch 4/50\n",
      "79/79 [==============================] - ETA: 0s - loss: 0.4065 - accuracy: 0.8183\n",
      "Epoch 4: val_accuracy improved from 0.81700 to 0.83840, saving model to ./models_gru\\checkpoint\n",
      "INFO:tensorflow:Assets written to: ./models_gru\\checkpoint\\assets\n"
     ]
    },
    {
     "name": "stderr",
     "output_type": "stream",
     "text": [
      "INFO:tensorflow:Assets written to: ./models_gru\\checkpoint\\assets\n",
      "WARNING:absl:<keras.layers.recurrent.GRUCell object at 0x00000201C43D2C70> has the same name 'GRUCell' as a built-in Keras object. Consider renaming <class 'keras.layers.recurrent.GRUCell'> to avoid naming conflicts when loading with `tf.keras.models.load_model`. If renaming is not possible, pass the object in the `custom_objects` parameter of the load function.\n"
     ]
    },
    {
     "name": "stdout",
     "output_type": "stream",
     "text": [
      "79/79 [==============================] - 167s 2s/step - loss: 0.4065 - accuracy: 0.8183 - val_loss: 0.3722 - val_accuracy: 0.8384\n",
      "Epoch 5/50\n",
      "79/79 [==============================] - ETA: 0s - loss: 0.3604 - accuracy: 0.8428\n",
      "Epoch 5: val_accuracy improved from 0.83840 to 0.84400, saving model to ./models_gru\\checkpoint\n",
      "INFO:tensorflow:Assets written to: ./models_gru\\checkpoint\\assets\n"
     ]
    },
    {
     "name": "stderr",
     "output_type": "stream",
     "text": [
      "INFO:tensorflow:Assets written to: ./models_gru\\checkpoint\\assets\n",
      "WARNING:absl:<keras.layers.recurrent.GRUCell object at 0x00000201C43D2C70> has the same name 'GRUCell' as a built-in Keras object. Consider renaming <class 'keras.layers.recurrent.GRUCell'> to avoid naming conflicts when loading with `tf.keras.models.load_model`. If renaming is not possible, pass the object in the `custom_objects` parameter of the load function.\n"
     ]
    },
    {
     "name": "stdout",
     "output_type": "stream",
     "text": [
      "79/79 [==============================] - 159s 2s/step - loss: 0.3604 - accuracy: 0.8428 - val_loss: 0.3768 - val_accuracy: 0.8440\n",
      "Epoch 6/50\n",
      "79/79 [==============================] - ETA: 0s - loss: 0.3318 - accuracy: 0.8572\n",
      "Epoch 6: val_accuracy improved from 0.84400 to 0.85600, saving model to ./models_gru\\checkpoint\n",
      "INFO:tensorflow:Assets written to: ./models_gru\\checkpoint\\assets\n"
     ]
    },
    {
     "name": "stderr",
     "output_type": "stream",
     "text": [
      "INFO:tensorflow:Assets written to: ./models_gru\\checkpoint\\assets\n",
      "WARNING:absl:<keras.layers.recurrent.GRUCell object at 0x00000201C43D2C70> has the same name 'GRUCell' as a built-in Keras object. Consider renaming <class 'keras.layers.recurrent.GRUCell'> to avoid naming conflicts when loading with `tf.keras.models.load_model`. If renaming is not possible, pass the object in the `custom_objects` parameter of the load function.\n"
     ]
    },
    {
     "name": "stdout",
     "output_type": "stream",
     "text": [
      "79/79 [==============================] - 154s 2s/step - loss: 0.3318 - accuracy: 0.8572 - val_loss: 0.3423 - val_accuracy: 0.8560\n",
      "Epoch 7/50\n",
      "79/79 [==============================] - ETA: 0s - loss: 0.3254 - accuracy: 0.8606\n",
      "Epoch 7: val_accuracy improved from 0.85600 to 0.85960, saving model to ./models_gru\\checkpoint\n",
      "INFO:tensorflow:Assets written to: ./models_gru\\checkpoint\\assets\n"
     ]
    },
    {
     "name": "stderr",
     "output_type": "stream",
     "text": [
      "INFO:tensorflow:Assets written to: ./models_gru\\checkpoint\\assets\n",
      "WARNING:absl:<keras.layers.recurrent.GRUCell object at 0x00000201C43D2C70> has the same name 'GRUCell' as a built-in Keras object. Consider renaming <class 'keras.layers.recurrent.GRUCell'> to avoid naming conflicts when loading with `tf.keras.models.load_model`. If renaming is not possible, pass the object in the `custom_objects` parameter of the load function.\n"
     ]
    },
    {
     "name": "stdout",
     "output_type": "stream",
     "text": [
      "79/79 [==============================] - 153s 2s/step - loss: 0.3254 - accuracy: 0.8606 - val_loss: 0.3354 - val_accuracy: 0.8596\n",
      "Epoch 8/50\n",
      "79/79 [==============================] - ETA: 0s - loss: 0.3050 - accuracy: 0.8727\n",
      "Epoch 8: val_accuracy did not improve from 0.85960\n",
      "79/79 [==============================] - 151s 2s/step - loss: 0.3050 - accuracy: 0.8727 - val_loss: 0.3745 - val_accuracy: 0.8544\n",
      "Epoch 9/50\n",
      "79/79 [==============================] - ETA: 0s - loss: 0.2957 - accuracy: 0.8764\n",
      "Epoch 9: val_accuracy improved from 0.85960 to 0.86300, saving model to ./models_gru\\checkpoint\n",
      "INFO:tensorflow:Assets written to: ./models_gru\\checkpoint\\assets\n"
     ]
    },
    {
     "name": "stderr",
     "output_type": "stream",
     "text": [
      "INFO:tensorflow:Assets written to: ./models_gru\\checkpoint\\assets\n",
      "WARNING:absl:<keras.layers.recurrent.GRUCell object at 0x00000201C43D2C70> has the same name 'GRUCell' as a built-in Keras object. Consider renaming <class 'keras.layers.recurrent.GRUCell'> to avoid naming conflicts when loading with `tf.keras.models.load_model`. If renaming is not possible, pass the object in the `custom_objects` parameter of the load function.\n"
     ]
    },
    {
     "name": "stdout",
     "output_type": "stream",
     "text": [
      "79/79 [==============================] - 159s 2s/step - loss: 0.2957 - accuracy: 0.8764 - val_loss: 0.3312 - val_accuracy: 0.8630\n",
      "Epoch 10/50\n",
      "79/79 [==============================] - ETA: 0s - loss: 0.2850 - accuracy: 0.8796\n",
      "Epoch 10: val_accuracy did not improve from 0.86300\n",
      "79/79 [==============================] - 149s 2s/step - loss: 0.2850 - accuracy: 0.8796 - val_loss: 0.3656 - val_accuracy: 0.8398\n",
      "Epoch 11/50\n",
      "79/79 [==============================] - ETA: 0s - loss: 0.2803 - accuracy: 0.8824\n",
      "Epoch 11: val_accuracy did not improve from 0.86300\n",
      "79/79 [==============================] - 152s 2s/step - loss: 0.2803 - accuracy: 0.8824 - val_loss: 0.3647 - val_accuracy: 0.8452\n",
      "Epoch 12/50\n",
      "79/79 [==============================] - ETA: 0s - loss: 0.2696 - accuracy: 0.8878\n",
      "Epoch 12: val_accuracy did not improve from 0.86300\n",
      "79/79 [==============================] - 151s 2s/step - loss: 0.2696 - accuracy: 0.8878 - val_loss: 0.3331 - val_accuracy: 0.8584\n",
      "Epoch 13/50\n",
      "79/79 [==============================] - ETA: 0s - loss: 0.2640 - accuracy: 0.8892\n",
      "Epoch 13: val_accuracy did not improve from 0.86300\n",
      "79/79 [==============================] - 150s 2s/step - loss: 0.2640 - accuracy: 0.8892 - val_loss: 0.3366 - val_accuracy: 0.8620\n",
      "Epoch 14/50\n",
      "79/79 [==============================] - ETA: 0s - loss: 0.2544 - accuracy: 0.8941\n",
      "Epoch 14: val_accuracy did not improve from 0.86300\n",
      "79/79 [==============================] - 151s 2s/step - loss: 0.2544 - accuracy: 0.8941 - val_loss: 0.3413 - val_accuracy: 0.8626\n",
      "Epoch 15/50\n",
      "79/79 [==============================] - ETA: 0s - loss: 0.2503 - accuracy: 0.8979\n",
      "Epoch 15: val_accuracy did not improve from 0.86300\n",
      "79/79 [==============================] - 150s 2s/step - loss: 0.2503 - accuracy: 0.8979 - val_loss: 0.3552 - val_accuracy: 0.8458\n",
      "Epoch 16/50\n",
      "79/79 [==============================] - ETA: 0s - loss: 0.2445 - accuracy: 0.8978\n",
      "Epoch 16: val_accuracy improved from 0.86300 to 0.86520, saving model to ./models_gru\\checkpoint\n",
      "INFO:tensorflow:Assets written to: ./models_gru\\checkpoint\\assets\n"
     ]
    },
    {
     "name": "stderr",
     "output_type": "stream",
     "text": [
      "INFO:tensorflow:Assets written to: ./models_gru\\checkpoint\\assets\n",
      "WARNING:absl:<keras.layers.recurrent.GRUCell object at 0x00000201C43D2C70> has the same name 'GRUCell' as a built-in Keras object. Consider renaming <class 'keras.layers.recurrent.GRUCell'> to avoid naming conflicts when loading with `tf.keras.models.load_model`. If renaming is not possible, pass the object in the `custom_objects` parameter of the load function.\n"
     ]
    },
    {
     "name": "stdout",
     "output_type": "stream",
     "text": [
      "79/79 [==============================] - 155s 2s/step - loss: 0.2445 - accuracy: 0.8978 - val_loss: 0.3402 - val_accuracy: 0.8652\n",
      "Epoch 17/50\n",
      "79/79 [==============================] - ETA: 0s - loss: 0.2344 - accuracy: 0.9039\n",
      "Epoch 17: val_accuracy did not improve from 0.86520\n",
      "79/79 [==============================] - 163s 2s/step - loss: 0.2344 - accuracy: 0.9039 - val_loss: 0.3448 - val_accuracy: 0.8610\n",
      "Epoch 18/50\n",
      "79/79 [==============================] - ETA: 0s - loss: 0.2310 - accuracy: 0.9053\n",
      "Epoch 18: val_accuracy did not improve from 0.86520\n",
      "79/79 [==============================] - 163s 2s/step - loss: 0.2310 - accuracy: 0.9053 - val_loss: 0.3971 - val_accuracy: 0.8614\n",
      "Epoch 19/50\n",
      "79/79 [==============================] - ETA: 0s - loss: 0.2272 - accuracy: 0.9067\n",
      "Epoch 19: val_accuracy did not improve from 0.86520\n",
      "79/79 [==============================] - 167s 2s/step - loss: 0.2272 - accuracy: 0.9067 - val_loss: 0.4213 - val_accuracy: 0.8392\n",
      "Epoch 20/50\n",
      "79/79 [==============================] - ETA: 0s - loss: 0.2243 - accuracy: 0.9067\n",
      "Epoch 20: val_accuracy did not improve from 0.86520\n",
      "79/79 [==============================] - 167s 2s/step - loss: 0.2243 - accuracy: 0.9067 - val_loss: 0.3443 - val_accuracy: 0.8636\n",
      "Epoch 21/50\n",
      "79/79 [==============================] - ETA: 0s - loss: 0.2174 - accuracy: 0.9101\n",
      "Epoch 21: val_accuracy did not improve from 0.86520\n",
      "79/79 [==============================] - 166s 2s/step - loss: 0.2174 - accuracy: 0.9101 - val_loss: 0.3490 - val_accuracy: 0.8648\n",
      "Epoch 22/50\n",
      "79/79 [==============================] - ETA: 0s - loss: 0.2059 - accuracy: 0.9161\n",
      "Epoch 22: val_accuracy did not improve from 0.86520\n",
      "79/79 [==============================] - 165s 2s/step - loss: 0.2059 - accuracy: 0.9161 - val_loss: 0.3803 - val_accuracy: 0.8424\n",
      "Epoch 23/50\n",
      "79/79 [==============================] - ETA: 0s - loss: 0.2029 - accuracy: 0.9154\n",
      "Epoch 23: val_accuracy did not improve from 0.86520\n",
      "79/79 [==============================] - 165s 2s/step - loss: 0.2029 - accuracy: 0.9154 - val_loss: 0.3885 - val_accuracy: 0.8618\n",
      "Epoch 24/50\n",
      "79/79 [==============================] - ETA: 0s - loss: 0.1898 - accuracy: 0.9243\n",
      "Epoch 24: val_accuracy did not improve from 0.86520\n",
      "79/79 [==============================] - 165s 2s/step - loss: 0.1898 - accuracy: 0.9243 - val_loss: 0.3828 - val_accuracy: 0.8566\n",
      "Epoch 25/50\n",
      "79/79 [==============================] - ETA: 0s - loss: 0.1916 - accuracy: 0.9237\n",
      "Epoch 25: val_accuracy did not improve from 0.86520\n",
      "79/79 [==============================] - 164s 2s/step - loss: 0.1916 - accuracy: 0.9237 - val_loss: 0.3943 - val_accuracy: 0.8586\n",
      "Epoch 26/50\n",
      "79/79 [==============================] - ETA: 0s - loss: 0.1847 - accuracy: 0.9226\n",
      "Epoch 26: val_accuracy did not improve from 0.86520\n",
      "79/79 [==============================] - 166s 2s/step - loss: 0.1847 - accuracy: 0.9226 - val_loss: 0.3967 - val_accuracy: 0.8530\n",
      "Epoch 27/50\n",
      "79/79 [==============================] - ETA: 0s - loss: 0.1834 - accuracy: 0.9261\n",
      "Epoch 27: val_accuracy did not improve from 0.86520\n",
      "79/79 [==============================] - 164s 2s/step - loss: 0.1834 - accuracy: 0.9261 - val_loss: 0.4191 - val_accuracy: 0.8546\n",
      "Epoch 28/50\n",
      "79/79 [==============================] - ETA: 0s - loss: 0.1728 - accuracy: 0.9298\n",
      "Epoch 28: val_accuracy did not improve from 0.86520\n",
      "79/79 [==============================] - 166s 2s/step - loss: 0.1728 - accuracy: 0.9298 - val_loss: 0.4096 - val_accuracy: 0.8616\n",
      "Epoch 29/50\n",
      "79/79 [==============================] - ETA: 0s - loss: 0.1704 - accuracy: 0.9306\n",
      "Epoch 29: val_accuracy did not improve from 0.86520\n",
      "79/79 [==============================] - 166s 2s/step - loss: 0.1704 - accuracy: 0.9306 - val_loss: 0.4024 - val_accuracy: 0.8604\n",
      "Epoch 30/50\n",
      "79/79 [==============================] - ETA: 0s - loss: 0.1582 - accuracy: 0.9370\n",
      "Epoch 30: val_accuracy did not improve from 0.86520\n",
      "79/79 [==============================] - 165s 2s/step - loss: 0.1582 - accuracy: 0.9370 - val_loss: 0.4387 - val_accuracy: 0.8576\n",
      "Epoch 31/50\n",
      "79/79 [==============================] - ETA: 0s - loss: 0.1519 - accuracy: 0.9409\n",
      "Epoch 31: val_accuracy did not improve from 0.86520\n",
      "79/79 [==============================] - 165s 2s/step - loss: 0.1519 - accuracy: 0.9409 - val_loss: 0.4380 - val_accuracy: 0.8464\n",
      "Epoch 32/50\n",
      "79/79 [==============================] - ETA: 0s - loss: 0.1538 - accuracy: 0.9378\n",
      "Epoch 32: val_accuracy did not improve from 0.86520\n",
      "79/79 [==============================] - 162s 2s/step - loss: 0.1538 - accuracy: 0.9378 - val_loss: 0.4680 - val_accuracy: 0.8542\n",
      "Epoch 33/50\n",
      "79/79 [==============================] - ETA: 0s - loss: 0.1532 - accuracy: 0.9391\n",
      "Epoch 33: val_accuracy did not improve from 0.86520\n",
      "79/79 [==============================] - 166s 2s/step - loss: 0.1532 - accuracy: 0.9391 - val_loss: 0.4741 - val_accuracy: 0.8548\n",
      "Epoch 34/50\n",
      "79/79 [==============================] - ETA: 0s - loss: 0.1354 - accuracy: 0.9449\n",
      "Epoch 34: val_accuracy did not improve from 0.86520\n",
      "79/79 [==============================] - 167s 2s/step - loss: 0.1354 - accuracy: 0.9449 - val_loss: 0.5092 - val_accuracy: 0.8524\n",
      "Epoch 35/50\n",
      "79/79 [==============================] - ETA: 0s - loss: 0.1327 - accuracy: 0.9459\n",
      "Epoch 35: val_accuracy did not improve from 0.86520\n",
      "79/79 [==============================] - 165s 2s/step - loss: 0.1327 - accuracy: 0.9459 - val_loss: 0.5387 - val_accuracy: 0.8542\n",
      "Epoch 36/50\n",
      "79/79 [==============================] - ETA: 0s - loss: 0.1327 - accuracy: 0.9458\n",
      "Epoch 36: val_accuracy did not improve from 0.86520\n",
      "79/79 [==============================] - 165s 2s/step - loss: 0.1327 - accuracy: 0.9458 - val_loss: 0.5029 - val_accuracy: 0.8502\n",
      "Epoch 37/50\n",
      "79/79 [==============================] - ETA: 0s - loss: 0.1263 - accuracy: 0.9493\n",
      "Epoch 37: val_accuracy did not improve from 0.86520\n",
      "79/79 [==============================] - 165s 2s/step - loss: 0.1263 - accuracy: 0.9493 - val_loss: 0.5609 - val_accuracy: 0.8536\n",
      "Epoch 38/50\n",
      "79/79 [==============================] - ETA: 0s - loss: 0.1243 - accuracy: 0.9514\n",
      "Epoch 38: val_accuracy did not improve from 0.86520\n",
      "79/79 [==============================] - 165s 2s/step - loss: 0.1243 - accuracy: 0.9514 - val_loss: 0.5361 - val_accuracy: 0.8578\n",
      "Epoch 39/50\n",
      "79/79 [==============================] - ETA: 0s - loss: 0.1203 - accuracy: 0.9517\n",
      "Epoch 39: val_accuracy did not improve from 0.86520\n",
      "79/79 [==============================] - 164s 2s/step - loss: 0.1203 - accuracy: 0.9517 - val_loss: 0.5841 - val_accuracy: 0.8582\n",
      "Epoch 40/50\n",
      "79/79 [==============================] - ETA: 0s - loss: 0.1055 - accuracy: 0.9584\n",
      "Epoch 40: val_accuracy did not improve from 0.86520\n",
      "79/79 [==============================] - 164s 2s/step - loss: 0.1055 - accuracy: 0.9584 - val_loss: 0.5943 - val_accuracy: 0.8532\n",
      "Epoch 41/50\n",
      "79/79 [==============================] - ETA: 0s - loss: 0.1004 - accuracy: 0.9611\n",
      "Epoch 41: val_accuracy did not improve from 0.86520\n",
      "79/79 [==============================] - 164s 2s/step - loss: 0.1004 - accuracy: 0.9611 - val_loss: 0.5810 - val_accuracy: 0.8586\n",
      "Epoch 42/50\n",
      "79/79 [==============================] - ETA: 0s - loss: 0.1083 - accuracy: 0.9576\n",
      "Epoch 42: val_accuracy did not improve from 0.86520\n",
      "79/79 [==============================] - 164s 2s/step - loss: 0.1083 - accuracy: 0.9576 - val_loss: 0.6167 - val_accuracy: 0.8558\n",
      "Epoch 43/50\n",
      "79/79 [==============================] - ETA: 0s - loss: 0.0939 - accuracy: 0.9639\n",
      "Epoch 43: val_accuracy did not improve from 0.86520\n",
      "79/79 [==============================] - 166s 2s/step - loss: 0.0939 - accuracy: 0.9639 - val_loss: 0.6415 - val_accuracy: 0.8470\n",
      "Epoch 44/50\n",
      "79/79 [==============================] - ETA: 0s - loss: 0.0926 - accuracy: 0.9640\n",
      "Epoch 44: val_accuracy did not improve from 0.86520\n",
      "79/79 [==============================] - 164s 2s/step - loss: 0.0926 - accuracy: 0.9640 - val_loss: 0.6098 - val_accuracy: 0.8492\n",
      "Epoch 45/50\n",
      "79/79 [==============================] - ETA: 0s - loss: 0.0894 - accuracy: 0.9651\n",
      "Epoch 45: val_accuracy did not improve from 0.86520\n",
      "79/79 [==============================] - 163s 2s/step - loss: 0.0894 - accuracy: 0.9651 - val_loss: 0.6131 - val_accuracy: 0.8390\n",
      "Epoch 46/50\n",
      "79/79 [==============================] - ETA: 0s - loss: 0.0900 - accuracy: 0.9653\n",
      "Epoch 46: val_accuracy did not improve from 0.86520\n",
      "79/79 [==============================] - 161s 2s/step - loss: 0.0900 - accuracy: 0.9653 - val_loss: 0.6160 - val_accuracy: 0.8464\n",
      "Epoch 47/50\n",
      "79/79 [==============================] - ETA: 0s - loss: 0.0826 - accuracy: 0.9701\n",
      "Epoch 47: val_accuracy did not improve from 0.86520\n",
      "79/79 [==============================] - 167s 2s/step - loss: 0.0826 - accuracy: 0.9701 - val_loss: 0.6194 - val_accuracy: 0.8470\n",
      "Epoch 48/50\n",
      "79/79 [==============================] - ETA: 0s - loss: 0.0789 - accuracy: 0.9694\n",
      "Epoch 48: val_accuracy did not improve from 0.86520\n",
      "79/79 [==============================] - 166s 2s/step - loss: 0.0789 - accuracy: 0.9694 - val_loss: 0.6824 - val_accuracy: 0.8458\n",
      "Epoch 49/50\n",
      "79/79 [==============================] - ETA: 0s - loss: 0.0731 - accuracy: 0.9726\n",
      "Epoch 49: val_accuracy did not improve from 0.86520\n",
      "79/79 [==============================] - 164s 2s/step - loss: 0.0731 - accuracy: 0.9726 - val_loss: 0.7202 - val_accuracy: 0.8522\n",
      "Epoch 50/50\n",
      "79/79 [==============================] - ETA: 0s - loss: 0.0774 - accuracy: 0.9692\n",
      "Epoch 50: val_accuracy did not improve from 0.86520\n",
      "79/79 [==============================] - 168s 2s/step - loss: 0.0774 - accuracy: 0.9692 - val_loss: 0.6883 - val_accuracy: 0.8508\n"
     ]
    },
    {
     "data": {
      "text/plain": [
       "<keras.callbacks.History at 0x201c42bf3a0>"
      ]
     },
     "execution_count": 96,
     "metadata": {},
     "output_type": "execute_result"
    }
   ],
   "source": [
    "model.fit(train_x, train_y, \n",
    "          epochs=50,\n",
    "         callbacks=callbacks,\n",
    "         validation_data=(val_x, val_y),\n",
    "         batch_size=256)"
   ]
  },
  {
   "cell_type": "code",
   "execution_count": 97,
   "id": "72d8ccc1",
   "metadata": {},
   "outputs": [
    {
     "name": "stdout",
     "output_type": "stream",
     "text": [
      "WARNING:tensorflow:Layer gru will not use cuDNN kernels since it doesn't meet the criteria. It will use a generic GPU kernel as fallback when running on GPU.\n"
     ]
    },
    {
     "name": "stderr",
     "output_type": "stream",
     "text": [
      "WARNING:tensorflow:Layer gru will not use cuDNN kernels since it doesn't meet the criteria. It will use a generic GPU kernel as fallback when running on GPU.\n"
     ]
    }
   ],
   "source": [
    "model = load_model('./models_gru/checkpoint')"
   ]
  },
  {
   "cell_type": "code",
   "execution_count": 98,
   "id": "2a4576dc",
   "metadata": {},
   "outputs": [
    {
     "name": "stdout",
     "output_type": "stream",
     "text": [
      "f1 : 0.9186507936507936\n",
      "acc: 0.918\n"
     ]
    },
    {
     "data": {
      "image/png": "[encoded data removed]",
      "text/plain": [
       "<Figure size 432x288 with 2 Axes>"
      ]
     },
     "metadata": {
      "needs_background": "light"
     },
     "output_type": "display_data"
    }
   ],
   "source": [
    "predict_result(model, train_x[:1000], train_y[:1000])"
   ]
  },
  {
   "cell_type": "code",
   "execution_count": 99,
   "id": "8b83add9",
   "metadata": {},
   "outputs": [
    {
     "name": "stdout",
     "output_type": "stream",
     "text": [
      "f1 : 0.8605183845690174\n",
      "acc: 0.86116\n"
     ]
    },
    {
     "data": {
      "image/png": "[encoded data removed]",
      "text/plain": [
       "<Figure size 432x288 with 2 Axes>"
      ]
     },
     "metadata": {
      "needs_background": "light"
     },
     "output_type": "display_data"
    }
   ],
   "source": [
    "predict_result(model, test_x, test_y)"
   ]
  },
  {
   "cell_type": "markdown",
   "id": "1de57d2a",
   "metadata": {},
   "source": [
    "# RNN with Bidirectional LSTM"
   ]
  },
  {
   "cell_type": "code",
   "execution_count": 112,
   "id": "9755d2ae",
   "metadata": {},
   "outputs": [
    {
     "name": "stdout",
     "output_type": "stream",
     "text": [
      "WARNING:tensorflow:Layer lstm_13 will not use cuDNN kernels since it doesn't meet the criteria. It will use a generic GPU kernel as fallback when running on GPU.\n"
     ]
    },
    {
     "name": "stderr",
     "output_type": "stream",
     "text": [
      "WARNING:tensorflow:Layer lstm_13 will not use cuDNN kernels since it doesn't meet the criteria. It will use a generic GPU kernel as fallback when running on GPU.\n"
     ]
    },
    {
     "name": "stdout",
     "output_type": "stream",
     "text": [
      "WARNING:tensorflow:Layer lstm_13 will not use cuDNN kernels since it doesn't meet the criteria. It will use a generic GPU kernel as fallback when running on GPU.\n"
     ]
    },
    {
     "name": "stderr",
     "output_type": "stream",
     "text": [
      "WARNING:tensorflow:Layer lstm_13 will not use cuDNN kernels since it doesn't meet the criteria. It will use a generic GPU kernel as fallback when running on GPU.\n"
     ]
    },
    {
     "name": "stdout",
     "output_type": "stream",
     "text": [
      "WARNING:tensorflow:Layer lstm_13 will not use cuDNN kernels since it doesn't meet the criteria. It will use a generic GPU kernel as fallback when running on GPU.\n"
     ]
    },
    {
     "name": "stderr",
     "output_type": "stream",
     "text": [
      "WARNING:tensorflow:Layer lstm_13 will not use cuDNN kernels since it doesn't meet the criteria. It will use a generic GPU kernel as fallback when running on GPU.\n"
     ]
    },
    {
     "name": "stdout",
     "output_type": "stream",
     "text": [
      "Model: \"sequential_14\"\n",
      "_________________________________________________________________\n",
      " Layer (type)                Output Shape              Param #   \n",
      "=================================================================\n",
      " embedding_15 (Embedding)    (None, 500, 300)          60000     \n",
      "                                                                 \n",
      " spatial_dropout1d_10 (Spati  (None, 500, 300)         0         \n",
      " alDropout1D)                                                    \n",
      "                                                                 \n",
      " bidirectional_4 (Bidirectio  (None, 252)              430416    \n",
      " nal)                                                            \n",
      "                                                                 \n",
      " dense_28 (Dense)            (None, 256)               64768     \n",
      "                                                                 \n",
      " dropout_14 (Dropout)        (None, 256)               0         \n",
      "                                                                 \n",
      " dense_29 (Dense)            (None, 2)                 514       \n",
      "                                                                 \n",
      "=================================================================\n",
      "Total params: 555,698\n",
      "Trainable params: 555,698\n",
      "Non-trainable params: 0\n",
      "_________________________________________________________________\n"
     ]
    }
   ],
   "source": [
    "model = Sequential([\n",
    "    Embedding(200, embedding_size, input_length=max_words),\n",
    "    SpatialDropout1D(0.4),\n",
    "    Bidirectional(LSTM(126, dropout=0.2, recurrent_dropout=0.2)),\n",
    "    Dense(256, activation='relu'),\n",
    "    Dropout(0.2),\n",
    "    Dense(2, activation='sigmoid')\n",
    "])\n",
    "\n",
    "callbacks=[\n",
    "    ModelCheckpoint(filepath='./models_lstm2/checkpoint',\n",
    "                   save_best_only=True, verbose=1, monitor='val_accuracy')\n",
    "]\n",
    "model.summary()"
   ]
  },
  {
   "cell_type": "code",
   "execution_count": 113,
   "id": "bdfa501b",
   "metadata": {},
   "outputs": [],
   "source": [
    "model.compile(loss='categorical_crossentropy', \n",
    "             optimizer='adam', \n",
    "             metrics=['accuracy'])"
   ]
  },
  {
   "cell_type": "code",
   "execution_count": null,
   "id": "582fd400",
   "metadata": {},
   "outputs": [
    {
     "name": "stdout",
     "output_type": "stream",
     "text": [
      "Epoch 1/50\n",
      "157/157 [==============================] - ETA: 0s - loss: 0.6046 - accuracy: 0.6664\n",
      "Epoch 1: val_accuracy improved from -inf to 0.67700, saving model to ./models_lstm2\\checkpoint\n",
      "INFO:tensorflow:Assets written to: ./models_lstm2\\checkpoint\\assets\n"
     ]
    },
    {
     "name": "stderr",
     "output_type": "stream",
     "text": [
      "INFO:tensorflow:Assets written to: ./models_lstm2\\checkpoint\\assets\n",
      "WARNING:absl:<keras.layers.recurrent.LSTMCell object at 0x00000201C426C880> has the same name 'LSTMCell' as a built-in Keras object. Consider renaming <class 'keras.layers.recurrent.LSTMCell'> to avoid naming conflicts when loading with `tf.keras.models.load_model`. If renaming is not possible, pass the object in the `custom_objects` parameter of the load function.\n",
      "WARNING:absl:<keras.layers.recurrent.LSTMCell object at 0x00000201C426CFA0> has the same name 'LSTMCell' as a built-in Keras object. Consider renaming <class 'keras.layers.recurrent.LSTMCell'> to avoid naming conflicts when loading with `tf.keras.models.load_model`. If renaming is not possible, pass the object in the `custom_objects` parameter of the load function.\n"
     ]
    },
    {
     "name": "stdout",
     "output_type": "stream",
     "text": [
      "157/157 [==============================] - 666s 4s/step - loss: 0.6046 - accuracy: 0.6664 - val_loss: 0.5932 - val_accuracy: 0.6770\n",
      "Epoch 2/50\n",
      "157/157 [==============================] - ETA: 0s - loss: 0.5378 - accuracy: 0.7419\n",
      "Epoch 2: val_accuracy improved from 0.67700 to 0.71000, saving model to ./models_lstm2\\checkpoint\n",
      "INFO:tensorflow:Assets written to: ./models_lstm2\\checkpoint\\assets\n"
     ]
    },
    {
     "name": "stderr",
     "output_type": "stream",
     "text": [
      "INFO:tensorflow:Assets written to: ./models_lstm2\\checkpoint\\assets\n",
      "WARNING:absl:<keras.layers.recurrent.LSTMCell object at 0x00000201C426C880> has the same name 'LSTMCell' as a built-in Keras object. Consider renaming <class 'keras.layers.recurrent.LSTMCell'> to avoid naming conflicts when loading with `tf.keras.models.load_model`. If renaming is not possible, pass the object in the `custom_objects` parameter of the load function.\n",
      "WARNING:absl:<keras.layers.recurrent.LSTMCell object at 0x00000201C426CFA0> has the same name 'LSTMCell' as a built-in Keras object. Consider renaming <class 'keras.layers.recurrent.LSTMCell'> to avoid naming conflicts when loading with `tf.keras.models.load_model`. If renaming is not possible, pass the object in the `custom_objects` parameter of the load function.\n"
     ]
    },
    {
     "name": "stdout",
     "output_type": "stream",
     "text": [
      "157/157 [==============================] - 667s 4s/step - loss: 0.5378 - accuracy: 0.7419 - val_loss: 0.5610 - val_accuracy: 0.7100\n",
      "Epoch 3/50\n",
      "157/157 [==============================] - ETA: 0s - loss: 0.5205 - accuracy: 0.7538\n",
      "Epoch 3: val_accuracy improved from 0.71000 to 0.74380, saving model to ./models_lstm2\\checkpoint\n",
      "INFO:tensorflow:Assets written to: ./models_lstm2\\checkpoint\\assets\n"
     ]
    },
    {
     "name": "stderr",
     "output_type": "stream",
     "text": [
      "INFO:tensorflow:Assets written to: ./models_lstm2\\checkpoint\\assets\n",
      "WARNING:absl:<keras.layers.recurrent.LSTMCell object at 0x00000201C426C880> has the same name 'LSTMCell' as a built-in Keras object. Consider renaming <class 'keras.layers.recurrent.LSTMCell'> to avoid naming conflicts when loading with `tf.keras.models.load_model`. If renaming is not possible, pass the object in the `custom_objects` parameter of the load function.\n",
      "WARNING:absl:<keras.layers.recurrent.LSTMCell object at 0x00000201C426CFA0> has the same name 'LSTMCell' as a built-in Keras object. Consider renaming <class 'keras.layers.recurrent.LSTMCell'> to avoid naming conflicts when loading with `tf.keras.models.load_model`. If renaming is not possible, pass the object in the `custom_objects` parameter of the load function.\n"
     ]
    },
    {
     "name": "stdout",
     "output_type": "stream",
     "text": [
      "157/157 [==============================] - 670s 4s/step - loss: 0.5205 - accuracy: 0.7538 - val_loss: 0.5206 - val_accuracy: 0.7438\n",
      "Epoch 4/50\n",
      "157/157 [==============================] - ETA: 0s - loss: 0.5246 - accuracy: 0.7448\n",
      "Epoch 4: val_accuracy did not improve from 0.74380\n",
      "157/157 [==============================] - 671s 4s/step - loss: 0.5246 - accuracy: 0.7448 - val_loss: 0.5384 - val_accuracy: 0.7366\n",
      "Epoch 5/50\n",
      "157/157 [==============================] - ETA: 0s - loss: 0.5045 - accuracy: 0.7624\n",
      "Epoch 5: val_accuracy did not improve from 0.74380\n",
      "157/157 [==============================] - 664s 4s/step - loss: 0.5045 - accuracy: 0.7624 - val_loss: 0.8041 - val_accuracy: 0.6486\n",
      "Epoch 6/50\n",
      "157/157 [==============================] - ETA: 0s - loss: 0.5668 - accuracy: 0.7078\n",
      "Epoch 6: val_accuracy improved from 0.74380 to 0.75120, saving model to ./models_lstm2\\checkpoint\n",
      "INFO:tensorflow:Assets written to: ./models_lstm2\\checkpoint\\assets\n"
     ]
    },
    {
     "name": "stderr",
     "output_type": "stream",
     "text": [
      "INFO:tensorflow:Assets written to: ./models_lstm2\\checkpoint\\assets\n",
      "WARNING:absl:<keras.layers.recurrent.LSTMCell object at 0x00000201C426C880> has the same name 'LSTMCell' as a built-in Keras object. Consider renaming <class 'keras.layers.recurrent.LSTMCell'> to avoid naming conflicts when loading with `tf.keras.models.load_model`. If renaming is not possible, pass the object in the `custom_objects` parameter of the load function.\n",
      "WARNING:absl:<keras.layers.recurrent.LSTMCell object at 0x00000201C426CFA0> has the same name 'LSTMCell' as a built-in Keras object. Consider renaming <class 'keras.layers.recurrent.LSTMCell'> to avoid naming conflicts when loading with `tf.keras.models.load_model`. If renaming is not possible, pass the object in the `custom_objects` parameter of the load function.\n"
     ]
    },
    {
     "name": "stdout",
     "output_type": "stream",
     "text": [
      "157/157 [==============================] - 623s 4s/step - loss: 0.5668 - accuracy: 0.7078 - val_loss: 0.5130 - val_accuracy: 0.7512\n",
      "Epoch 7/50\n",
      "157/157 [==============================] - ETA: 0s - loss: 0.5059 - accuracy: 0.7567\n",
      "Epoch 7: val_accuracy did not improve from 0.75120\n",
      "157/157 [==============================] - 632s 4s/step - loss: 0.5059 - accuracy: 0.7567 - val_loss: 0.5286 - val_accuracy: 0.7440\n",
      "Epoch 8/50\n",
      "157/157 [==============================] - ETA: 0s - loss: 0.4984 - accuracy: 0.7633\n",
      "Epoch 8: val_accuracy improved from 0.75120 to 0.75440, saving model to ./models_lstm2\\checkpoint\n",
      "INFO:tensorflow:Assets written to: ./models_lstm2\\checkpoint\\assets\n"
     ]
    },
    {
     "name": "stderr",
     "output_type": "stream",
     "text": [
      "INFO:tensorflow:Assets written to: ./models_lstm2\\checkpoint\\assets\n",
      "WARNING:absl:<keras.layers.recurrent.LSTMCell object at 0x00000201C426C880> has the same name 'LSTMCell' as a built-in Keras object. Consider renaming <class 'keras.layers.recurrent.LSTMCell'> to avoid naming conflicts when loading with `tf.keras.models.load_model`. If renaming is not possible, pass the object in the `custom_objects` parameter of the load function.\n",
      "WARNING:absl:<keras.layers.recurrent.LSTMCell object at 0x00000201C426CFA0> has the same name 'LSTMCell' as a built-in Keras object. Consider renaming <class 'keras.layers.recurrent.LSTMCell'> to avoid naming conflicts when loading with `tf.keras.models.load_model`. If renaming is not possible, pass the object in the `custom_objects` parameter of the load function.\n"
     ]
    },
    {
     "name": "stdout",
     "output_type": "stream",
     "text": [
      "157/157 [==============================] - 635s 4s/step - loss: 0.4984 - accuracy: 0.7633 - val_loss: 0.5167 - val_accuracy: 0.7544\n",
      "Epoch 9/50\n",
      "157/157 [==============================] - ETA: 0s - loss: 0.4856 - accuracy: 0.7696\n",
      "Epoch 9: val_accuracy improved from 0.75440 to 0.76220, saving model to ./models_lstm2\\checkpoint\n",
      "INFO:tensorflow:Assets written to: ./models_lstm2\\checkpoint\\assets\n"
     ]
    },
    {
     "name": "stderr",
     "output_type": "stream",
     "text": [
      "INFO:tensorflow:Assets written to: ./models_lstm2\\checkpoint\\assets\n",
      "WARNING:absl:<keras.layers.recurrent.LSTMCell object at 0x00000201C426C880> has the same name 'LSTMCell' as a built-in Keras object. Consider renaming <class 'keras.layers.recurrent.LSTMCell'> to avoid naming conflicts when loading with `tf.keras.models.load_model`. If renaming is not possible, pass the object in the `custom_objects` parameter of the load function.\n",
      "WARNING:absl:<keras.layers.recurrent.LSTMCell object at 0x00000201C426CFA0> has the same name 'LSTMCell' as a built-in Keras object. Consider renaming <class 'keras.layers.recurrent.LSTMCell'> to avoid naming conflicts when loading with `tf.keras.models.load_model`. If renaming is not possible, pass the object in the `custom_objects` parameter of the load function.\n"
     ]
    },
    {
     "name": "stdout",
     "output_type": "stream",
     "text": [
      "157/157 [==============================] - 646s 4s/step - loss: 0.4856 - accuracy: 0.7696 - val_loss: 0.5268 - val_accuracy: 0.7622\n",
      "Epoch 10/50\n",
      "157/157 [==============================] - ETA: 0s - loss: 0.4834 - accuracy: 0.7740\n",
      "Epoch 10: val_accuracy improved from 0.76220 to 0.76720, saving model to ./models_lstm2\\checkpoint\n",
      "INFO:tensorflow:Assets written to: ./models_lstm2\\checkpoint\\assets\n"
     ]
    },
    {
     "name": "stderr",
     "output_type": "stream",
     "text": [
      "INFO:tensorflow:Assets written to: ./models_lstm2\\checkpoint\\assets\n",
      "WARNING:absl:<keras.layers.recurrent.LSTMCell object at 0x00000201C426C880> has the same name 'LSTMCell' as a built-in Keras object. Consider renaming <class 'keras.layers.recurrent.LSTMCell'> to avoid naming conflicts when loading with `tf.keras.models.load_model`. If renaming is not possible, pass the object in the `custom_objects` parameter of the load function.\n",
      "WARNING:absl:<keras.layers.recurrent.LSTMCell object at 0x00000201C426CFA0> has the same name 'LSTMCell' as a built-in Keras object. Consider renaming <class 'keras.layers.recurrent.LSTMCell'> to avoid naming conflicts when loading with `tf.keras.models.load_model`. If renaming is not possible, pass the object in the `custom_objects` parameter of the load function.\n"
     ]
    },
    {
     "name": "stdout",
     "output_type": "stream",
     "text": [
      "157/157 [==============================] - 665s 4s/step - loss: 0.4834 - accuracy: 0.7740 - val_loss: 0.4906 - val_accuracy: 0.7672\n",
      "Epoch 11/50\n",
      "157/157 [==============================] - ETA: 0s - loss: 0.4766 - accuracy: 0.7711\n",
      "Epoch 11: val_accuracy did not improve from 0.76720\n",
      "157/157 [==============================] - 652s 4s/step - loss: 0.4766 - accuracy: 0.7711 - val_loss: 0.4861 - val_accuracy: 0.7634\n",
      "Epoch 12/50\n",
      "157/157 [==============================] - ETA: 0s - loss: 0.4713 - accuracy: 0.7776\n",
      "Epoch 12: val_accuracy did not improve from 0.76720\n",
      "157/157 [==============================] - 649s 4s/step - loss: 0.4713 - accuracy: 0.7776 - val_loss: 0.4945 - val_accuracy: 0.7626\n",
      "Epoch 13/50\n",
      " 90/157 [================>.............] - ETA: 4:24 - loss: 0.4517 - accuracy: 0.7889"
     ]
    }
   ],
   "source": [
    "model.fit(train_x, train_y, \n",
    "          epochs=50,\n",
    "         callbacks=callbacks,\n",
    "         validation_data=(val_x, val_y),\n",
    "         batch_size=128)"
   ]
  },
  {
   "cell_type": "code",
   "execution_count": null,
   "id": "36a27319",
   "metadata": {},
   "outputs": [],
   "source": []
  }
 ],
 "metadata": {
  "kernelspec": {
   "display_name": "Python 3 (ipykernel)",
   "language": "python",
   "name": "python3"
  },
  "language_info": {
   "codemirror_mode": {
    "name": "ipython",
    "version": 3
   },
   "file_extension": ".py",
   "mimetype": "text/x-python",
   "name": "python",
   "nbconvert_exporter": "python",
   "pygments_lexer": "ipython3",
   "version": "3.9.0"
  }
 },
 "nbformat": 4,
 "nbformat_minor": 5
}
