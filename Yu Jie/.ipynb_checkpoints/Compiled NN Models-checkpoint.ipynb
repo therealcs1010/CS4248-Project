{
 "cells": [
  {
   "cell_type": "code",
   "execution_count": 172,
   "id": "f1e270fc",
   "metadata": {},
   "outputs": [],
   "source": [
    "import spacy\n",
    "import pandas as pd\n",
    "import tensorflow as tf\n",
    "from tensorflow.keras.models import Sequential, load_model\n",
    "from tensorflow.keras.layers import Dense, LSTM, GRU, Bidirectional, Dropout, Flatten, Embedding, TextVectorization, GlobalMaxPooling1D\n",
    "from tensorflow.keras.callbacks import ModelCheckpoint\n",
    "from tensorflow.keras.optimizers import SGD, Adam, RMSprop\n",
    "from tensorflow.keras.losses import BinaryCrossentropy\n",
    "from tensorflow.keras.preprocessing.text import Tokenizer\n",
    "from tensorflow.keras.preprocessing.sequence import pad_sequences\n",
    "from sklearn.model_selection import train_test_split\n",
    "from sklearn.feature_extraction.text import TfidfVectorizer\n",
    "from sklearn.metrics import f1_score, accuracy_score\n",
    "import scikitplot as skplt\n",
    "import numpy as np\n",
    "from tqdm.notebook import tqdm_notebook\n"
   ]
  },
  {
   "cell_type": "markdown",
   "id": "5df37571",
   "metadata": {},
   "source": [
    "# Read in preprocessed data"
   ]
  },
  {
   "cell_type": "code",
   "execution_count": 3,
   "id": "6c4039a3",
   "metadata": {},
   "outputs": [],
   "source": [
    "train_x = pd.read_csv('./x_train.csv')\n",
    "train_y = pd.read_csv('./y_train.csv')\n",
    "test_x = pd.read_csv('./x_test.csv')\n",
    "test_y = pd.read_csv('./y_test.csv')\n",
    "\n",
    "train_df = pd.concat([train_x, train_y], axis=1)\n",
    "test_df = pd.concat([test_x, test_y], axis=1)\n",
    "\n",
    "train_df = train_df[['text', 'label']]\n",
    "test_df = test_df[['text', 'label']]"
   ]
  },
  {
   "cell_type": "code",
   "execution_count": 4,
   "id": "013cd404",
   "metadata": {},
   "outputs": [
    {
     "data": {
      "text/html": [
       "<div>\n",
       "<style scoped>\n",
       "    .dataframe tbody tr th:only-of-type {\n",
       "        vertical-align: middle;\n",
       "    }\n",
       "\n",
       "    .dataframe tbody tr th {\n",
       "        vertical-align: top;\n",
       "    }\n",
       "\n",
       "    .dataframe thead th {\n",
       "        text-align: right;\n",
       "    }\n",
       "</style>\n",
       "<table border=\"1\" class=\"dataframe\">\n",
       "  <thead>\n",
       "    <tr style=\"text-align: right;\">\n",
       "      <th></th>\n",
       "      <th>text</th>\n",
       "      <th>label</th>\n",
       "    </tr>\n",
       "  </thead>\n",
       "  <tbody>\n",
       "    <tr>\n",
       "      <th>0</th>\n",
       "      <td>bromwell high cartoon comedy ran time program ...</td>\n",
       "      <td>+</td>\n",
       "    </tr>\n",
       "    <tr>\n",
       "      <th>1</th>\n",
       "      <td>homelessness houselessness george carlin state...</td>\n",
       "      <td>+</td>\n",
       "    </tr>\n",
       "    <tr>\n",
       "      <th>2</th>\n",
       "      <td>brilliant overacting lesley ann warren best dr...</td>\n",
       "      <td>+</td>\n",
       "    </tr>\n",
       "    <tr>\n",
       "      <th>3</th>\n",
       "      <td>easily underrated film inn brook cannon sure f...</td>\n",
       "      <td>+</td>\n",
       "    </tr>\n",
       "    <tr>\n",
       "      <th>4</th>\n",
       "      <td>typical mel brook film much le slapstick movie...</td>\n",
       "      <td>+</td>\n",
       "    </tr>\n",
       "    <tr>\n",
       "      <th>...</th>\n",
       "      <td>...</td>\n",
       "      <td>...</td>\n",
       "    </tr>\n",
       "    <tr>\n",
       "      <th>24995</th>\n",
       "      <td>towards end movie felt technical felt like cla...</td>\n",
       "      <td>-</td>\n",
       "    </tr>\n",
       "    <tr>\n",
       "      <th>24996</th>\n",
       "      <td>kind movie enemy content watch time bloody tru...</td>\n",
       "      <td>-</td>\n",
       "    </tr>\n",
       "    <tr>\n",
       "      <th>24997</th>\n",
       "      <td>saw descent last night stockholm film festival...</td>\n",
       "      <td>-</td>\n",
       "    </tr>\n",
       "    <tr>\n",
       "      <th>24998</th>\n",
       "      <td>film pick pound turn rather good 23rd century ...</td>\n",
       "      <td>-</td>\n",
       "    </tr>\n",
       "    <tr>\n",
       "      <th>24999</th>\n",
       "      <td>one dumbest film ive ever seen rip nearly ever...</td>\n",
       "      <td>-</td>\n",
       "    </tr>\n",
       "  </tbody>\n",
       "</table>\n",
       "<p>25000 rows × 2 columns</p>\n",
       "</div>"
      ],
      "text/plain": [
       "                                                    text label\n",
       "0      bromwell high cartoon comedy ran time program ...     +\n",
       "1      homelessness houselessness george carlin state...     +\n",
       "2      brilliant overacting lesley ann warren best dr...     +\n",
       "3      easily underrated film inn brook cannon sure f...     +\n",
       "4      typical mel brook film much le slapstick movie...     +\n",
       "...                                                  ...   ...\n",
       "24995  towards end movie felt technical felt like cla...     -\n",
       "24996  kind movie enemy content watch time bloody tru...     -\n",
       "24997  saw descent last night stockholm film festival...     -\n",
       "24998  film pick pound turn rather good 23rd century ...     -\n",
       "24999  one dumbest film ive ever seen rip nearly ever...     -\n",
       "\n",
       "[25000 rows x 2 columns]"
      ]
     },
     "execution_count": 4,
     "metadata": {},
     "output_type": "execute_result"
    }
   ],
   "source": [
    "train_df"
   ]
  },
  {
   "cell_type": "code",
   "execution_count": 6,
   "id": "e922fa52",
   "metadata": {},
   "outputs": [
    {
     "data": {
      "text/html": [
       "<div>\n",
       "<style scoped>\n",
       "    .dataframe tbody tr th:only-of-type {\n",
       "        vertical-align: middle;\n",
       "    }\n",
       "\n",
       "    .dataframe tbody tr th {\n",
       "        vertical-align: top;\n",
       "    }\n",
       "\n",
       "    .dataframe thead th {\n",
       "        text-align: right;\n",
       "    }\n",
       "</style>\n",
       "<table border=\"1\" class=\"dataframe\">\n",
       "  <thead>\n",
       "    <tr style=\"text-align: right;\">\n",
       "      <th></th>\n",
       "      <th>text</th>\n",
       "      <th>label</th>\n",
       "    </tr>\n",
       "  </thead>\n",
       "  <tbody>\n",
       "    <tr>\n",
       "      <th>0</th>\n",
       "      <td>panic street richard widmark play u navy docto...</td>\n",
       "      <td>+</td>\n",
       "    </tr>\n",
       "    <tr>\n",
       "      <th>1</th>\n",
       "      <td>ask first one really better one look sarah g r...</td>\n",
       "      <td>-</td>\n",
       "    </tr>\n",
       "    <tr>\n",
       "      <th>2</th>\n",
       "      <td>big fan faerie tale theatre ive seen one best ...</td>\n",
       "      <td>+</td>\n",
       "    </tr>\n",
       "    <tr>\n",
       "      <th>3</th>\n",
       "      <td>finished reading book dillinger movie horribly...</td>\n",
       "      <td>-</td>\n",
       "    </tr>\n",
       "    <tr>\n",
       "      <th>4</th>\n",
       "      <td>greg davis bryan daly take crazed statement te...</td>\n",
       "      <td>-</td>\n",
       "    </tr>\n",
       "    <tr>\n",
       "      <th>...</th>\n",
       "      <td>...</td>\n",
       "      <td>...</td>\n",
       "    </tr>\n",
       "    <tr>\n",
       "      <th>24995</th>\n",
       "      <td>roommate nearly shorted tv numerous spittakes ...</td>\n",
       "      <td>-</td>\n",
       "    </tr>\n",
       "    <tr>\n",
       "      <th>24996</th>\n",
       "      <td>michelle rodriguez defining actress could char...</td>\n",
       "      <td>+</td>\n",
       "    </tr>\n",
       "    <tr>\n",
       "      <th>24997</th>\n",
       "      <td>nice movie great soundtrack span rock landscap...</td>\n",
       "      <td>+</td>\n",
       "    </tr>\n",
       "    <tr>\n",
       "      <th>24998</th>\n",
       "      <td>even though madefortv production there absolut...</td>\n",
       "      <td>-</td>\n",
       "    </tr>\n",
       "    <tr>\n",
       "      <th>24999</th>\n",
       "      <td>saw cable recently kinda enjoyed ive reading c...</td>\n",
       "      <td>-</td>\n",
       "    </tr>\n",
       "  </tbody>\n",
       "</table>\n",
       "<p>25000 rows × 2 columns</p>\n",
       "</div>"
      ],
      "text/plain": [
       "                                                    text label\n",
       "0      panic street richard widmark play u navy docto...     +\n",
       "1      ask first one really better one look sarah g r...     -\n",
       "2      big fan faerie tale theatre ive seen one best ...     +\n",
       "3      finished reading book dillinger movie horribly...     -\n",
       "4      greg davis bryan daly take crazed statement te...     -\n",
       "...                                                  ...   ...\n",
       "24995  roommate nearly shorted tv numerous spittakes ...     -\n",
       "24996  michelle rodriguez defining actress could char...     +\n",
       "24997  nice movie great soundtrack span rock landscap...     +\n",
       "24998  even though madefortv production there absolut...     -\n",
       "24999  saw cable recently kinda enjoyed ive reading c...     -\n",
       "\n",
       "[25000 rows x 2 columns]"
      ]
     },
     "execution_count": 6,
     "metadata": {},
     "output_type": "execute_result"
    }
   ],
   "source": [
    "train_df = train_df.sample(len(train_df), random_state=42, ignore_index=True)\n",
    "train_df"
   ]
  },
  {
   "cell_type": "markdown",
   "id": "653b5e92",
   "metadata": {},
   "source": [
    "# Storing some important variables"
   ]
  },
  {
   "cell_type": "code",
   "execution_count": 205,
   "id": "bdd01e50",
   "metadata": {},
   "outputs": [
    {
     "ename": "MemoryError",
     "evalue": "Unable to allocate 884. MiB for an array with shape (25000,) and data type <U9267",
     "output_type": "error",
     "traceback": [
      "\u001b[1;31m---------------------------------------------------------------------------\u001b[0m",
      "\u001b[1;31mMemoryError\u001b[0m                               Traceback (most recent call last)",
      "Input \u001b[1;32mIn [205]\u001b[0m, in \u001b[0;36m<module>\u001b[1;34m\u001b[0m\n\u001b[0;32m     17\u001b[0m \u001b[38;5;66;03m#For feature 4\u001b[39;00m\n\u001b[0;32m     18\u001b[0m vectorizer \u001b[38;5;241m=\u001b[39m TextVectorization(max_tokens\u001b[38;5;241m=\u001b[39m\u001b[38;5;241m20000\u001b[39m, output_sequence_length\u001b[38;5;241m=\u001b[39mmax_words)\n\u001b[1;32m---> 19\u001b[0m \u001b[43mvectorizer\u001b[49m\u001b[38;5;241;43m.\u001b[39;49m\u001b[43madapt\u001b[49m\u001b[43m(\u001b[49m\u001b[43mtrain_df\u001b[49m\u001b[43m[\u001b[49m\u001b[38;5;124;43m'\u001b[39;49m\u001b[38;5;124;43mtext\u001b[39;49m\u001b[38;5;124;43m'\u001b[39;49m\u001b[43m]\u001b[49m\u001b[38;5;241;43m.\u001b[39;49m\u001b[43mto_list\u001b[49m\u001b[43m(\u001b[49m\u001b[43m)\u001b[49m\u001b[43m)\u001b[49m\n\u001b[0;32m     20\u001b[0m vocab \u001b[38;5;241m=\u001b[39m vectorizer\u001b[38;5;241m.\u001b[39mget_vocabulary()\n\u001b[0;32m     21\u001b[0m word_index \u001b[38;5;241m=\u001b[39m \u001b[38;5;28mdict\u001b[39m(\u001b[38;5;28mzip\u001b[39m(vocab, \u001b[38;5;28mrange\u001b[39m(\u001b[38;5;28mlen\u001b[39m(vocab))))\n",
      "File \u001b[1;32md:\\coding\\venv\\lib\\site-packages\\keras\\layers\\preprocessing\\text_vectorization.py:428\u001b[0m, in \u001b[0;36mTextVectorization.adapt\u001b[1;34m(self, data, batch_size, steps)\u001b[0m\n\u001b[0;32m    381\u001b[0m \u001b[38;5;28;01mdef\u001b[39;00m \u001b[38;5;21madapt\u001b[39m(\u001b[38;5;28mself\u001b[39m, data, batch_size\u001b[38;5;241m=\u001b[39m\u001b[38;5;28;01mNone\u001b[39;00m, steps\u001b[38;5;241m=\u001b[39m\u001b[38;5;28;01mNone\u001b[39;00m):\n\u001b[0;32m    382\u001b[0m   \u001b[38;5;124;03m\"\"\"Computes a vocabulary of string terms from tokens in a dataset.\u001b[39;00m\n\u001b[0;32m    383\u001b[0m \n\u001b[0;32m    384\u001b[0m \u001b[38;5;124;03m  Calling `adapt()` on a `TextVectorization` layer is an alternative to\u001b[39;00m\n\u001b[1;32m   (...)\u001b[0m\n\u001b[0;32m    426\u001b[0m \u001b[38;5;124;03m        argument is not supported with array inputs.\u001b[39;00m\n\u001b[0;32m    427\u001b[0m \u001b[38;5;124;03m  \"\"\"\u001b[39;00m\n\u001b[1;32m--> 428\u001b[0m   \u001b[38;5;28;43msuper\u001b[39;49m\u001b[43m(\u001b[49m\u001b[43m)\u001b[49m\u001b[38;5;241;43m.\u001b[39;49m\u001b[43madapt\u001b[49m\u001b[43m(\u001b[49m\u001b[43mdata\u001b[49m\u001b[43m,\u001b[49m\u001b[43m \u001b[49m\u001b[43mbatch_size\u001b[49m\u001b[38;5;241;43m=\u001b[39;49m\u001b[43mbatch_size\u001b[49m\u001b[43m,\u001b[49m\u001b[43m \u001b[49m\u001b[43msteps\u001b[49m\u001b[38;5;241;43m=\u001b[39;49m\u001b[43msteps\u001b[49m\u001b[43m)\u001b[49m\n",
      "File \u001b[1;32md:\\coding\\venv\\lib\\site-packages\\keras\\engine\\base_preprocessing_layer.py:238\u001b[0m, in \u001b[0;36mPreprocessingLayer.adapt\u001b[1;34m(self, data, batch_size, steps)\u001b[0m\n\u001b[0;32m    236\u001b[0m \u001b[38;5;28;01mif\u001b[39;00m \u001b[38;5;28mself\u001b[39m\u001b[38;5;241m.\u001b[39mbuilt:\n\u001b[0;32m    237\u001b[0m   \u001b[38;5;28mself\u001b[39m\u001b[38;5;241m.\u001b[39mreset_state()\n\u001b[1;32m--> 238\u001b[0m data_handler \u001b[38;5;241m=\u001b[39m \u001b[43mdata_adapter\u001b[49m\u001b[38;5;241;43m.\u001b[39;49m\u001b[43mDataHandler\u001b[49m\u001b[43m(\u001b[49m\n\u001b[0;32m    239\u001b[0m \u001b[43m    \u001b[49m\u001b[43mdata\u001b[49m\u001b[43m,\u001b[49m\n\u001b[0;32m    240\u001b[0m \u001b[43m    \u001b[49m\u001b[43mbatch_size\u001b[49m\u001b[38;5;241;43m=\u001b[39;49m\u001b[43mbatch_size\u001b[49m\u001b[43m,\u001b[49m\n\u001b[0;32m    241\u001b[0m \u001b[43m    \u001b[49m\u001b[43msteps_per_epoch\u001b[49m\u001b[38;5;241;43m=\u001b[39;49m\u001b[43msteps\u001b[49m\u001b[43m,\u001b[49m\n\u001b[0;32m    242\u001b[0m \u001b[43m    \u001b[49m\u001b[43mepochs\u001b[49m\u001b[38;5;241;43m=\u001b[39;49m\u001b[38;5;241;43m1\u001b[39;49m\u001b[43m,\u001b[49m\n\u001b[0;32m    243\u001b[0m \u001b[43m    \u001b[49m\u001b[43msteps_per_execution\u001b[49m\u001b[38;5;241;43m=\u001b[39;49m\u001b[38;5;28;43mself\u001b[39;49m\u001b[38;5;241;43m.\u001b[39;49m\u001b[43m_steps_per_execution\u001b[49m\u001b[43m,\u001b[49m\n\u001b[0;32m    244\u001b[0m \u001b[43m    \u001b[49m\u001b[43mdistribute\u001b[49m\u001b[38;5;241;43m=\u001b[39;49m\u001b[38;5;28;43;01mFalse\u001b[39;49;00m\u001b[43m)\u001b[49m\n\u001b[0;32m    245\u001b[0m \u001b[38;5;28mself\u001b[39m\u001b[38;5;241m.\u001b[39m_adapt_function \u001b[38;5;241m=\u001b[39m \u001b[38;5;28mself\u001b[39m\u001b[38;5;241m.\u001b[39mmake_adapt_function()\n\u001b[0;32m    246\u001b[0m \u001b[38;5;28;01mfor\u001b[39;00m _, iterator \u001b[38;5;129;01min\u001b[39;00m data_handler\u001b[38;5;241m.\u001b[39menumerate_epochs():\n",
      "File \u001b[1;32md:\\coding\\venv\\lib\\site-packages\\keras\\engine\\data_adapter.py:1149\u001b[0m, in \u001b[0;36mDataHandler.__init__\u001b[1;34m(self, x, y, sample_weight, batch_size, steps_per_epoch, initial_epoch, epochs, shuffle, class_weight, max_queue_size, workers, use_multiprocessing, model, steps_per_execution, distribute)\u001b[0m\n\u001b[0;32m   1146\u001b[0m   \u001b[38;5;28mself\u001b[39m\u001b[38;5;241m.\u001b[39m_steps_per_execution \u001b[38;5;241m=\u001b[39m steps_per_execution\n\u001b[0;32m   1148\u001b[0m adapter_cls \u001b[38;5;241m=\u001b[39m select_data_adapter(x, y)\n\u001b[1;32m-> 1149\u001b[0m \u001b[38;5;28mself\u001b[39m\u001b[38;5;241m.\u001b[39m_adapter \u001b[38;5;241m=\u001b[39m \u001b[43madapter_cls\u001b[49m\u001b[43m(\u001b[49m\n\u001b[0;32m   1150\u001b[0m \u001b[43m    \u001b[49m\u001b[43mx\u001b[49m\u001b[43m,\u001b[49m\n\u001b[0;32m   1151\u001b[0m \u001b[43m    \u001b[49m\u001b[43my\u001b[49m\u001b[43m,\u001b[49m\n\u001b[0;32m   1152\u001b[0m \u001b[43m    \u001b[49m\u001b[43mbatch_size\u001b[49m\u001b[38;5;241;43m=\u001b[39;49m\u001b[43mbatch_size\u001b[49m\u001b[43m,\u001b[49m\n\u001b[0;32m   1153\u001b[0m \u001b[43m    \u001b[49m\u001b[43msteps\u001b[49m\u001b[38;5;241;43m=\u001b[39;49m\u001b[43msteps_per_epoch\u001b[49m\u001b[43m,\u001b[49m\n\u001b[0;32m   1154\u001b[0m \u001b[43m    \u001b[49m\u001b[43mepochs\u001b[49m\u001b[38;5;241;43m=\u001b[39;49m\u001b[43mepochs\u001b[49m\u001b[43m \u001b[49m\u001b[38;5;241;43m-\u001b[39;49m\u001b[43m \u001b[49m\u001b[43minitial_epoch\u001b[49m\u001b[43m,\u001b[49m\n\u001b[0;32m   1155\u001b[0m \u001b[43m    \u001b[49m\u001b[43msample_weights\u001b[49m\u001b[38;5;241;43m=\u001b[39;49m\u001b[43msample_weight\u001b[49m\u001b[43m,\u001b[49m\n\u001b[0;32m   1156\u001b[0m \u001b[43m    \u001b[49m\u001b[43mshuffle\u001b[49m\u001b[38;5;241;43m=\u001b[39;49m\u001b[43mshuffle\u001b[49m\u001b[43m,\u001b[49m\n\u001b[0;32m   1157\u001b[0m \u001b[43m    \u001b[49m\u001b[43mmax_queue_size\u001b[49m\u001b[38;5;241;43m=\u001b[39;49m\u001b[43mmax_queue_size\u001b[49m\u001b[43m,\u001b[49m\n\u001b[0;32m   1158\u001b[0m \u001b[43m    \u001b[49m\u001b[43mworkers\u001b[49m\u001b[38;5;241;43m=\u001b[39;49m\u001b[43mworkers\u001b[49m\u001b[43m,\u001b[49m\n\u001b[0;32m   1159\u001b[0m \u001b[43m    \u001b[49m\u001b[43muse_multiprocessing\u001b[49m\u001b[38;5;241;43m=\u001b[39;49m\u001b[43muse_multiprocessing\u001b[49m\u001b[43m,\u001b[49m\n\u001b[0;32m   1160\u001b[0m \u001b[43m    \u001b[49m\u001b[43mdistribution_strategy\u001b[49m\u001b[38;5;241;43m=\u001b[39;49m\u001b[43mtf\u001b[49m\u001b[38;5;241;43m.\u001b[39;49m\u001b[43mdistribute\u001b[49m\u001b[38;5;241;43m.\u001b[39;49m\u001b[43mget_strategy\u001b[49m\u001b[43m(\u001b[49m\u001b[43m)\u001b[49m\u001b[43m,\u001b[49m\n\u001b[0;32m   1161\u001b[0m \u001b[43m    \u001b[49m\u001b[43mmodel\u001b[49m\u001b[38;5;241;43m=\u001b[39;49m\u001b[43mmodel\u001b[49m\u001b[43m)\u001b[49m\n\u001b[0;32m   1163\u001b[0m strategy \u001b[38;5;241m=\u001b[39m tf\u001b[38;5;241m.\u001b[39mdistribute\u001b[38;5;241m.\u001b[39mget_strategy()\n\u001b[0;32m   1165\u001b[0m \u001b[38;5;28mself\u001b[39m\u001b[38;5;241m.\u001b[39m_current_step \u001b[38;5;241m=\u001b[39m \u001b[38;5;241m0\u001b[39m\n",
      "File \u001b[1;32md:\\coding\\venv\\lib\\site-packages\\keras\\engine\\data_adapter.py:656\u001b[0m, in \u001b[0;36mListsOfScalarsDataAdapter.__init__\u001b[1;34m(self, x, y, sample_weights, sample_weight_modes, batch_size, shuffle, **kwargs)\u001b[0m\n\u001b[0;32m    647\u001b[0m \u001b[38;5;28;01mdef\u001b[39;00m \u001b[38;5;21m__init__\u001b[39m(\u001b[38;5;28mself\u001b[39m,\n\u001b[0;32m    648\u001b[0m              x,\n\u001b[0;32m    649\u001b[0m              y\u001b[38;5;241m=\u001b[39m\u001b[38;5;28;01mNone\u001b[39;00m,\n\u001b[1;32m   (...)\u001b[0m\n\u001b[0;32m    653\u001b[0m              shuffle\u001b[38;5;241m=\u001b[39m\u001b[38;5;28;01mFalse\u001b[39;00m,\n\u001b[0;32m    654\u001b[0m              \u001b[38;5;241m*\u001b[39m\u001b[38;5;241m*\u001b[39mkwargs):\n\u001b[0;32m    655\u001b[0m   \u001b[38;5;28msuper\u001b[39m(ListsOfScalarsDataAdapter, \u001b[38;5;28mself\u001b[39m)\u001b[38;5;241m.\u001b[39m\u001b[38;5;21m__init__\u001b[39m(x, y, \u001b[38;5;241m*\u001b[39m\u001b[38;5;241m*\u001b[39mkwargs)\n\u001b[1;32m--> 656\u001b[0m   x \u001b[38;5;241m=\u001b[39m \u001b[43mnp\u001b[49m\u001b[38;5;241;43m.\u001b[39;49m\u001b[43masarray\u001b[49m\u001b[43m(\u001b[49m\u001b[43mx\u001b[49m\u001b[43m)\u001b[49m\n\u001b[0;32m    657\u001b[0m   \u001b[38;5;28;01mif\u001b[39;00m y \u001b[38;5;129;01mis\u001b[39;00m \u001b[38;5;129;01mnot\u001b[39;00m \u001b[38;5;28;01mNone\u001b[39;00m:\n\u001b[0;32m    658\u001b[0m     y \u001b[38;5;241m=\u001b[39m np\u001b[38;5;241m.\u001b[39masarray(y)\n",
      "\u001b[1;31mMemoryError\u001b[0m: Unable to allocate 884. MiB for an array with shape (25000,) and data type <U9267"
     ]
    }
   ],
   "source": [
    "train_len = int(0.8*len(train_df))\n",
    "\n",
    "max_words=300\n",
    "embedding_size=300\n",
    "\n",
    "# For feature 1\n",
    "tfidf_vectorizer = TfidfVectorizer()\n",
    "tfidf_vectorizer.fit(train_df['text'].values)\n",
    "\n",
    "# For feature 2\n",
    "nlp = spacy.load('en_core_web_lg')\n",
    "\n",
    "# For feature 3\n",
    "tokenizer = Tokenizer()\n",
    "tokenizer.fit_on_texts(train_df['text'].values)\n",
    "\n",
    "#For feature 4\n",
    "vectorizer = TextVectorization(max_tokens=20000, output_sequence_length=max_words)\n",
    "vectorizer.adapt(train_df['text'].to_list())\n",
    "vocab = vectorizer.get_vocabulary()\n",
    "word_index = dict(zip(vocab, range(len(vocab))))\n",
    "\n",
    "def predict_result(model, x, y_true):\n",
    "    y_pred = model.predict(x)\n",
    "    y_pred = np.argmax(y_pred, axis=1)\n",
    "    y_true = np.argmax(y_true, axis=1)\n",
    "    skplt.metrics.plot_confusion_matrix(y_true, y_pred)\n",
    "    print(f'f1 : {f1_score(y_true, y_pred)}')\n",
    "    print(f'acc: {accuracy_score(y_true, y_pred)}')    "
   ]
  },
  {
   "cell_type": "code",
   "execution_count": null,
   "id": "799c5559",
   "metadata": {},
   "outputs": [],
   "source": []
  },
  {
   "cell_type": "code",
   "execution_count": 203,
   "id": "bfd72403",
   "metadata": {},
   "outputs": [],
   "source": [
    "def one_hot(row):\n",
    "    if row == '-':\n",
    "        return [1, 0]\n",
    "    else:\n",
    "        return [0, 1]\n",
    "    \n",
    "def get_tfidf_vector_and_one_hot(df):\n",
    "    x = tfidf_vectorizer.transform(df['text'].values).todense()\n",
    "    x = pd.DataFrame(x)\n",
    "    y = df['label'].apply(one_hot).tolist()\n",
    "    y = np.array(y)\n",
    "    return x, y"
   ]
  },
  {
   "cell_type": "code",
   "execution_count": 204,
   "id": "8038418b",
   "metadata": {},
   "outputs": [
    {
     "ename": "MemoryError",
     "evalue": "Unable to allocate 3.73 GiB for an array with shape (25000, 20000) and data type float64",
     "output_type": "error",
     "traceback": [
      "\u001b[1;31m---------------------------------------------------------------------------\u001b[0m",
      "\u001b[1;31mMemoryError\u001b[0m                               Traceback (most recent call last)",
      "Input \u001b[1;32mIn [204]\u001b[0m, in \u001b[0;36m<module>\u001b[1;34m\u001b[0m\n\u001b[1;32m----> 1\u001b[0m train_val_x, train_val_y \u001b[38;5;241m=\u001b[39m \u001b[43mget_tfidf_vector_and_one_hot\u001b[49m\u001b[43m(\u001b[49m\u001b[43mtrain_df\u001b[49m\u001b[43m)\u001b[49m\n\u001b[0;32m      2\u001b[0m test_x, test_y \u001b[38;5;241m=\u001b[39m get_tfidf_vector_and_one_hot(test_df)\n",
      "Input \u001b[1;32mIn [203]\u001b[0m, in \u001b[0;36mget_tfidf_vector_and_one_hot\u001b[1;34m(df)\u001b[0m\n\u001b[0;32m      7\u001b[0m \u001b[38;5;28;01mdef\u001b[39;00m \u001b[38;5;21mget_tfidf_vector_and_one_hot\u001b[39m(df):\n\u001b[1;32m----> 8\u001b[0m     x \u001b[38;5;241m=\u001b[39m \u001b[43mtfidf_vectorizer\u001b[49m\u001b[38;5;241;43m.\u001b[39;49m\u001b[43mtransform\u001b[49m\u001b[43m(\u001b[49m\u001b[43mdf\u001b[49m\u001b[43m[\u001b[49m\u001b[38;5;124;43m'\u001b[39;49m\u001b[38;5;124;43mtext\u001b[39;49m\u001b[38;5;124;43m'\u001b[39;49m\u001b[43m]\u001b[49m\u001b[38;5;241;43m.\u001b[39;49m\u001b[43mvalues\u001b[49m\u001b[43m)\u001b[49m\u001b[38;5;241;43m.\u001b[39;49m\u001b[43mtodense\u001b[49m\u001b[43m(\u001b[49m\u001b[43m)\u001b[49m\n\u001b[0;32m      9\u001b[0m     x \u001b[38;5;241m=\u001b[39m pd\u001b[38;5;241m.\u001b[39mDataFrame(x)\n\u001b[0;32m     10\u001b[0m     y \u001b[38;5;241m=\u001b[39m df[\u001b[38;5;124m'\u001b[39m\u001b[38;5;124mlabel\u001b[39m\u001b[38;5;124m'\u001b[39m]\u001b[38;5;241m.\u001b[39mapply(one_hot)\u001b[38;5;241m.\u001b[39mtolist()\n",
      "File \u001b[1;32md:\\coding\\venv\\lib\\site-packages\\scipy\\sparse\\_base.py:936\u001b[0m, in \u001b[0;36mspmatrix.todense\u001b[1;34m(self, order, out)\u001b[0m\n\u001b[0;32m    906\u001b[0m \u001b[38;5;28;01mdef\u001b[39;00m \u001b[38;5;21mtodense\u001b[39m(\u001b[38;5;28mself\u001b[39m, order\u001b[38;5;241m=\u001b[39m\u001b[38;5;28;01mNone\u001b[39;00m, out\u001b[38;5;241m=\u001b[39m\u001b[38;5;28;01mNone\u001b[39;00m):\n\u001b[0;32m    907\u001b[0m     \u001b[38;5;124;03m\"\"\"\u001b[39;00m\n\u001b[0;32m    908\u001b[0m \u001b[38;5;124;03m    Return a dense matrix representation of this matrix.\u001b[39;00m\n\u001b[0;32m    909\u001b[0m \n\u001b[1;32m   (...)\u001b[0m\n\u001b[0;32m    934\u001b[0m \u001b[38;5;124;03m        `numpy.matrix` object that shares the same memory.\u001b[39;00m\n\u001b[0;32m    935\u001b[0m \u001b[38;5;124;03m    \"\"\"\u001b[39;00m\n\u001b[1;32m--> 936\u001b[0m     \u001b[38;5;28;01mreturn\u001b[39;00m \u001b[38;5;28mself\u001b[39m\u001b[38;5;241m.\u001b[39m_ascontainer(\u001b[38;5;28;43mself\u001b[39;49m\u001b[38;5;241;43m.\u001b[39;49m\u001b[43mtoarray\u001b[49m\u001b[43m(\u001b[49m\u001b[43morder\u001b[49m\u001b[38;5;241;43m=\u001b[39;49m\u001b[43morder\u001b[49m\u001b[43m,\u001b[49m\u001b[43m \u001b[49m\u001b[43mout\u001b[49m\u001b[38;5;241;43m=\u001b[39;49m\u001b[43mout\u001b[49m\u001b[43m)\u001b[49m)\n",
      "File \u001b[1;32md:\\coding\\venv\\lib\\site-packages\\scipy\\sparse\\_compressed.py:1051\u001b[0m, in \u001b[0;36m_cs_matrix.toarray\u001b[1;34m(self, order, out)\u001b[0m\n\u001b[0;32m   1049\u001b[0m \u001b[38;5;28;01mif\u001b[39;00m out \u001b[38;5;129;01mis\u001b[39;00m \u001b[38;5;28;01mNone\u001b[39;00m \u001b[38;5;129;01mand\u001b[39;00m order \u001b[38;5;129;01mis\u001b[39;00m \u001b[38;5;28;01mNone\u001b[39;00m:\n\u001b[0;32m   1050\u001b[0m     order \u001b[38;5;241m=\u001b[39m \u001b[38;5;28mself\u001b[39m\u001b[38;5;241m.\u001b[39m_swap(\u001b[38;5;124m'\u001b[39m\u001b[38;5;124mcf\u001b[39m\u001b[38;5;124m'\u001b[39m)[\u001b[38;5;241m0\u001b[39m]\n\u001b[1;32m-> 1051\u001b[0m out \u001b[38;5;241m=\u001b[39m \u001b[38;5;28;43mself\u001b[39;49m\u001b[38;5;241;43m.\u001b[39;49m\u001b[43m_process_toarray_args\u001b[49m\u001b[43m(\u001b[49m\u001b[43morder\u001b[49m\u001b[43m,\u001b[49m\u001b[43m \u001b[49m\u001b[43mout\u001b[49m\u001b[43m)\u001b[49m\n\u001b[0;32m   1052\u001b[0m \u001b[38;5;28;01mif\u001b[39;00m \u001b[38;5;129;01mnot\u001b[39;00m (out\u001b[38;5;241m.\u001b[39mflags\u001b[38;5;241m.\u001b[39mc_contiguous \u001b[38;5;129;01mor\u001b[39;00m out\u001b[38;5;241m.\u001b[39mflags\u001b[38;5;241m.\u001b[39mf_contiguous):\n\u001b[0;32m   1053\u001b[0m     \u001b[38;5;28;01mraise\u001b[39;00m \u001b[38;5;167;01mValueError\u001b[39;00m(\u001b[38;5;124m'\u001b[39m\u001b[38;5;124mOutput array must be C or F contiguous\u001b[39m\u001b[38;5;124m'\u001b[39m)\n",
      "File \u001b[1;32md:\\coding\\venv\\lib\\site-packages\\scipy\\sparse\\_base.py:1288\u001b[0m, in \u001b[0;36mspmatrix._process_toarray_args\u001b[1;34m(self, order, out)\u001b[0m\n\u001b[0;32m   1286\u001b[0m     \u001b[38;5;28;01mreturn\u001b[39;00m out\n\u001b[0;32m   1287\u001b[0m \u001b[38;5;28;01melse\u001b[39;00m:\n\u001b[1;32m-> 1288\u001b[0m     \u001b[38;5;28;01mreturn\u001b[39;00m \u001b[43mnp\u001b[49m\u001b[38;5;241;43m.\u001b[39;49m\u001b[43mzeros\u001b[49m\u001b[43m(\u001b[49m\u001b[38;5;28;43mself\u001b[39;49m\u001b[38;5;241;43m.\u001b[39;49m\u001b[43mshape\u001b[49m\u001b[43m,\u001b[49m\u001b[43m \u001b[49m\u001b[43mdtype\u001b[49m\u001b[38;5;241;43m=\u001b[39;49m\u001b[38;5;28;43mself\u001b[39;49m\u001b[38;5;241;43m.\u001b[39;49m\u001b[43mdtype\u001b[49m\u001b[43m,\u001b[49m\u001b[43m \u001b[49m\u001b[43morder\u001b[49m\u001b[38;5;241;43m=\u001b[39;49m\u001b[43morder\u001b[49m\u001b[43m)\u001b[49m\n",
      "\u001b[1;31mMemoryError\u001b[0m: Unable to allocate 3.73 GiB for an array with shape (25000, 20000) and data type float64"
     ]
    }
   ],
   "source": [
    "train_val_x, train_val_y = get_tfidf_vector_and_one_hot(train_df)\n",
    "test_x, test_y = get_tfidf_vector_and_one_hot(test_df)"
   ]
  },
  {
   "cell_type": "code",
   "execution_count": null,
   "id": "ab328908",
   "metadata": {},
   "outputs": [],
   "source": [
    "train_x, val_x = train_val_x[:train_len], train_val_x[train_len:]\n",
    "train_y, val_y = train_val_y[:train_len], train_val_y[train_len:]"
   ]
  },
  {
   "cell_type": "code",
   "execution_count": null,
   "id": "f7c3793f",
   "metadata": {},
   "outputs": [],
   "source": [
    "model = Sequential([\n",
    "    Dense(512, input_shape=(train_x.shape[1],), activation='relu'),\n",
    "    Dense(1024, activation='relu'),\n",
    "    Dropout(0.3),\n",
    "    Dense(1024, activation='relu'),\n",
    "    Dropout(0.3),\n",
    "    Dense(1024, activation='relu'),\n",
    "    Dropout(0.3),\n",
    "    Dense(512, activation='relu'),\n",
    "    Dense(2, activation='sigmoid')\n",
    "])\n",
    "\n",
    "callbacks=[\n",
    "    ModelCheckpoint(filepath='./models_tfidf_ffnn/checkpoint',\n",
    "                   save_best_only=True, verbose=1,monitor='val_accuracy')\n",
    "]\n",
    "\n",
    "model.summary()"
   ]
  },
  {
   "cell_type": "code",
   "execution_count": null,
   "id": "85da1409",
   "metadata": {},
   "outputs": [],
   "source": [
    "model.compile('adam', loss=BinaryCrossentropy(), metrics='accuracy')\n",
    "\n",
    "model.fit(x=train_x,\n",
    "         y=train_y,\n",
    "         batch_size=32,\n",
    "         epochs=50,\n",
    "         validation_data=(val_x, val_y),\n",
    "         callbacks=callbacks)"
   ]
  },
  {
   "cell_type": "code",
   "execution_count": null,
   "id": "89080395",
   "metadata": {},
   "outputs": [],
   "source": [
    "model = load_model('./models_ffnn/checkpoint')"
   ]
  },
  {
   "cell_type": "markdown",
   "id": "8537ab76",
   "metadata": {},
   "source": [
    "# Feature 1 (Spacy document vector)"
   ]
  },
  {
   "cell_type": "code",
   "execution_count": 26,
   "id": "2bc1c49d",
   "metadata": {},
   "outputs": [],
   "source": [
    "def get_spacy_vector_and_one_hot(df):\n",
    "    text_list = df['text'].to_list()\n",
    "    x = []\n",
    "    for doc in tqdm_notebook(nlp.pipe(text_list, disable=[\"tagger\", \"parser\", \"lemmatizer\", 'attribute_ruler', 'ner']),total=len(text_list) ):\n",
    "        x.append(doc.vector)\n",
    "    x = pd.DataFrame(x)\n",
    "    y = df['label'].apply(one_hot).tolist()\n",
    "    y = np.array(y)\n",
    "    return x, y"
   ]
  },
  {
   "cell_type": "code",
   "execution_count": 34,
   "id": "417ebdc0",
   "metadata": {},
   "outputs": [
    {
     "data": {
      "application/vnd.jupyter.widget-view+json": {
       "model_id": "4569cc98b3e4423782bc4daf6d184e53",
       "version_major": 2,
       "version_minor": 0
      },
      "text/plain": [
       "  0%|          | 0/25000 [00:00<?, ?it/s]"
      ]
     },
     "metadata": {},
     "output_type": "display_data"
    },
    {
     "data": {
      "application/vnd.jupyter.widget-view+json": {
       "model_id": "eb476b6fea1c45ecbee99a4630343cac",
       "version_major": 2,
       "version_minor": 0
      },
      "text/plain": [
       "  0%|          | 0/25000 [00:00<?, ?it/s]"
      ]
     },
     "metadata": {},
     "output_type": "display_data"
    }
   ],
   "source": [
    "train_val_x, train_val_y = get_spacy_vector_and_one_hot(train_df)\n",
    "test_x, test_y = get_spacy_vector_and_one_hot(test_df)"
   ]
  },
  {
   "cell_type": "markdown",
   "id": "ae9c6db6",
   "metadata": {},
   "source": [
    "# Splitting training data into train and validation set"
   ]
  },
  {
   "cell_type": "code",
   "execution_count": 35,
   "id": "f4046f07",
   "metadata": {},
   "outputs": [],
   "source": [
    "train_x, val_x = train_val_x[:train_len], train_val_x[train_len:]\n",
    "train_y, val_y = train_val_y[:train_len], train_val_y[train_len:]"
   ]
  },
  {
   "cell_type": "markdown",
   "id": "4d7254df",
   "metadata": {},
   "source": [
    "# Model 1 (FFNN)"
   ]
  },
  {
   "cell_type": "code",
   "execution_count": 36,
   "id": "43e85f02",
   "metadata": {},
   "outputs": [],
   "source": [
    "model = Sequential([\n",
    "    Dense(512, input_shape=(300,), activation='relu'),\n",
    "    Dense(1024, activation='relu'),\n",
    "    Dropout(0.3),\n",
    "    Dense(1024, activation='relu'),\n",
    "    Dropout(0.3),\n",
    "    Dense(1024, activation='relu'),\n",
    "    Dropout(0.3),\n",
    "    Dense(512, activation='relu'),\n",
    "    Dense(2, activation='sigmoid')\n",
    "])\n",
    "\n",
    "callbacks=[\n",
    "    ModelCheckpoint(filepath='./models_spacy_ffnn/checkpoint',\n",
    "                   save_best_only=True, verbose=1,monitor='val_accuracy')\n",
    "]\n",
    "\n",
    "model.summary()"
   ]
  },
  {
   "cell_type": "code",
   "execution_count": 40,
   "id": "f73a5cec",
   "metadata": {},
   "outputs": [
    {
     "name": "stdout",
     "output_type": "stream",
     "text": [
      "Epoch 1/50\n",
      "608/625 [============================>.] - ETA: 0s - loss: 0.4059 - accuracy: 0.8175\n",
      "Epoch 1: val_accuracy improved from -inf to 0.85060, saving model to ./models_ffnn\\checkpoint\n",
      "INFO:tensorflow:Assets written to: ./models_ffnn\\checkpoint\\assets\n",
      "625/625 [==============================] - 4s 5ms/step - loss: 0.4056 - accuracy: 0.8180 - val_loss: 0.3587 - val_accuracy: 0.8506\n",
      "Epoch 2/50\n",
      "613/625 [============================>.] - ETA: 0s - loss: 0.3609 - accuracy: 0.8423\n",
      "Epoch 2: val_accuracy improved from 0.85060 to 0.85600, saving model to ./models_ffnn\\checkpoint\n",
      "INFO:tensorflow:Assets written to: ./models_ffnn\\checkpoint\\assets\n",
      "625/625 [==============================] - 3s 4ms/step - loss: 0.3613 - accuracy: 0.8423 - val_loss: 0.3596 - val_accuracy: 0.8560\n",
      "Epoch 3/50\n",
      "625/625 [==============================] - ETA: 0s - loss: 0.3469 - accuracy: 0.8513\n",
      "Epoch 3: val_accuracy did not improve from 0.85600\n",
      "625/625 [==============================] - 2s 3ms/step - loss: 0.3469 - accuracy: 0.8513 - val_loss: 0.3449 - val_accuracy: 0.8542\n",
      "Epoch 4/50\n",
      "610/625 [============================>.] - ETA: 0s - loss: 0.3384 - accuracy: 0.8588\n",
      "Epoch 4: val_accuracy improved from 0.85600 to 0.85740, saving model to ./models_ffnn\\checkpoint\n",
      "INFO:tensorflow:Assets written to: ./models_ffnn\\checkpoint\\assets\n",
      "625/625 [==============================] - 3s 5ms/step - loss: 0.3389 - accuracy: 0.8584 - val_loss: 0.3378 - val_accuracy: 0.8574\n",
      "Epoch 5/50\n",
      "625/625 [==============================] - ETA: 0s - loss: 0.3246 - accuracy: 0.8644\n",
      "Epoch 5: val_accuracy improved from 0.85740 to 0.86160, saving model to ./models_ffnn\\checkpoint\n",
      "INFO:tensorflow:Assets written to: ./models_ffnn\\checkpoint\\assets\n",
      "625/625 [==============================] - 3s 5ms/step - loss: 0.3246 - accuracy: 0.8644 - val_loss: 0.3392 - val_accuracy: 0.8616\n",
      "Epoch 6/50\n",
      "622/625 [============================>.] - ETA: 0s - loss: 0.3116 - accuracy: 0.8687\n",
      "Epoch 6: val_accuracy did not improve from 0.86160\n",
      "625/625 [==============================] - 2s 3ms/step - loss: 0.3121 - accuracy: 0.8686 - val_loss: 0.3314 - val_accuracy: 0.8602\n",
      "Epoch 7/50\n",
      "621/625 [============================>.] - ETA: 0s - loss: 0.3002 - accuracy: 0.8754\n",
      "Epoch 7: val_accuracy did not improve from 0.86160\n",
      "625/625 [==============================] - 2s 3ms/step - loss: 0.3005 - accuracy: 0.8749 - val_loss: 0.3455 - val_accuracy: 0.8540\n",
      "Epoch 8/50\n",
      "607/625 [============================>.] - ETA: 0s - loss: 0.2922 - accuracy: 0.8777\n",
      "Epoch 8: val_accuracy did not improve from 0.86160\n",
      "625/625 [==============================] - 2s 3ms/step - loss: 0.2933 - accuracy: 0.8774 - val_loss: 0.3406 - val_accuracy: 0.8534\n",
      "Epoch 9/50\n",
      "615/625 [============================>.] - ETA: 0s - loss: 0.2743 - accuracy: 0.8848\n",
      "Epoch 9: val_accuracy did not improve from 0.86160\n",
      "625/625 [==============================] - 2s 3ms/step - loss: 0.2745 - accuracy: 0.8847 - val_loss: 0.3587 - val_accuracy: 0.8494\n",
      "Epoch 10/50\n",
      "611/625 [============================>.] - ETA: 0s - loss: 0.2619 - accuracy: 0.8898\n",
      "Epoch 10: val_accuracy did not improve from 0.86160\n",
      "625/625 [==============================] - 2s 3ms/step - loss: 0.2617 - accuracy: 0.8901 - val_loss: 0.3572 - val_accuracy: 0.8502\n",
      "Epoch 11/50\n",
      "607/625 [============================>.] - ETA: 0s - loss: 0.2471 - accuracy: 0.9005\n",
      "Epoch 11: val_accuracy did not improve from 0.86160\n",
      "625/625 [==============================] - 2s 3ms/step - loss: 0.2468 - accuracy: 0.9004 - val_loss: 0.3831 - val_accuracy: 0.8466\n",
      "Epoch 12/50\n",
      "622/625 [============================>.] - ETA: 0s - loss: 0.2360 - accuracy: 0.9034\n",
      "Epoch 12: val_accuracy did not improve from 0.86160\n",
      "625/625 [==============================] - 2s 3ms/step - loss: 0.2359 - accuracy: 0.9034 - val_loss: 0.3840 - val_accuracy: 0.8470\n",
      "Epoch 13/50\n",
      "617/625 [============================>.] - ETA: 0s - loss: 0.2206 - accuracy: 0.9100\n",
      "Epoch 13: val_accuracy did not improve from 0.86160\n",
      "625/625 [==============================] - 2s 3ms/step - loss: 0.2205 - accuracy: 0.9100 - val_loss: 0.4670 - val_accuracy: 0.8324\n",
      "Epoch 14/50\n",
      "621/625 [============================>.] - ETA: 0s - loss: 0.2061 - accuracy: 0.9157\n",
      "Epoch 14: val_accuracy did not improve from 0.86160\n",
      "625/625 [==============================] - 2s 3ms/step - loss: 0.2060 - accuracy: 0.9157 - val_loss: 0.4454 - val_accuracy: 0.8450\n",
      "Epoch 15/50\n",
      "617/625 [============================>.] - ETA: 0s - loss: 0.1931 - accuracy: 0.9229\n",
      "Epoch 15: val_accuracy did not improve from 0.86160\n",
      "625/625 [==============================] - 2s 3ms/step - loss: 0.1930 - accuracy: 0.9230 - val_loss: 0.4792 - val_accuracy: 0.8492\n",
      "Epoch 16/50\n",
      "612/625 [============================>.] - ETA: 0s - loss: 0.1851 - accuracy: 0.9254\n",
      "Epoch 16: val_accuracy did not improve from 0.86160\n",
      "625/625 [==============================] - 2s 3ms/step - loss: 0.1853 - accuracy: 0.9252 - val_loss: 0.4431 - val_accuracy: 0.8384\n",
      "Epoch 17/50\n",
      "606/625 [============================>.] - ETA: 0s - loss: 0.1740 - accuracy: 0.9306\n",
      "Epoch 17: val_accuracy did not improve from 0.86160\n",
      "625/625 [==============================] - 2s 3ms/step - loss: 0.1731 - accuracy: 0.9307 - val_loss: 0.5232 - val_accuracy: 0.8536\n",
      "Epoch 18/50\n",
      "607/625 [============================>.] - ETA: 0s - loss: 0.1620 - accuracy: 0.9364\n",
      "Epoch 18: val_accuracy did not improve from 0.86160\n",
      "625/625 [==============================] - 2s 3ms/step - loss: 0.1615 - accuracy: 0.9365 - val_loss: 0.6164 - val_accuracy: 0.8334\n",
      "Epoch 19/50\n",
      "623/625 [============================>.] - ETA: 0s - loss: 0.1521 - accuracy: 0.9377\n",
      "Epoch 19: val_accuracy did not improve from 0.86160\n",
      "625/625 [==============================] - 2s 3ms/step - loss: 0.1524 - accuracy: 0.9375 - val_loss: 0.7016 - val_accuracy: 0.8320\n",
      "Epoch 20/50\n",
      "620/625 [============================>.] - ETA: 0s - loss: 0.1435 - accuracy: 0.9441\n",
      "Epoch 20: val_accuracy did not improve from 0.86160\n",
      "625/625 [==============================] - 2s 3ms/step - loss: 0.1438 - accuracy: 0.9439 - val_loss: 0.5133 - val_accuracy: 0.8376\n",
      "Epoch 21/50\n",
      "614/625 [============================>.] - ETA: 0s - loss: 0.1376 - accuracy: 0.9452\n",
      "Epoch 21: val_accuracy did not improve from 0.86160\n",
      "625/625 [==============================] - 2s 3ms/step - loss: 0.1377 - accuracy: 0.9454 - val_loss: 0.5488 - val_accuracy: 0.8406\n",
      "Epoch 22/50\n",
      "621/625 [============================>.] - ETA: 0s - loss: 0.1249 - accuracy: 0.9498\n",
      "Epoch 22: val_accuracy did not improve from 0.86160\n",
      "625/625 [==============================] - 2s 3ms/step - loss: 0.1249 - accuracy: 0.9498 - val_loss: 0.6968 - val_accuracy: 0.8412\n",
      "Epoch 23/50\n",
      "607/625 [============================>.] - ETA: 0s - loss: 0.1224 - accuracy: 0.9522\n",
      "Epoch 23: val_accuracy did not improve from 0.86160\n",
      "625/625 [==============================] - 2s 3ms/step - loss: 0.1226 - accuracy: 0.9520 - val_loss: 0.6747 - val_accuracy: 0.8372\n",
      "Epoch 24/50\n",
      "618/625 [============================>.] - ETA: 0s - loss: 0.1088 - accuracy: 0.9559\n",
      "Epoch 24: val_accuracy did not improve from 0.86160\n",
      "625/625 [==============================] - 2s 3ms/step - loss: 0.1085 - accuracy: 0.9560 - val_loss: 0.8089 - val_accuracy: 0.8490\n",
      "Epoch 25/50\n",
      "617/625 [============================>.] - ETA: 0s - loss: 0.1092 - accuracy: 0.9590\n",
      "Epoch 25: val_accuracy did not improve from 0.86160\n",
      "625/625 [==============================] - 2s 3ms/step - loss: 0.1086 - accuracy: 0.9592 - val_loss: 0.7049 - val_accuracy: 0.8378\n",
      "Epoch 26/50\n",
      "610/625 [============================>.] - ETA: 0s - loss: 0.0998 - accuracy: 0.9614\n",
      "Epoch 26: val_accuracy did not improve from 0.86160\n",
      "625/625 [==============================] - 2s 3ms/step - loss: 0.1003 - accuracy: 0.9614 - val_loss: 0.7023 - val_accuracy: 0.8414\n",
      "Epoch 27/50\n",
      "607/625 [============================>.] - ETA: 0s - loss: 0.0951 - accuracy: 0.9644\n",
      "Epoch 27: val_accuracy did not improve from 0.86160\n",
      "625/625 [==============================] - 2s 3ms/step - loss: 0.0958 - accuracy: 0.9640 - val_loss: 0.7480 - val_accuracy: 0.8430\n",
      "Epoch 28/50\n",
      "618/625 [============================>.] - ETA: 0s - loss: 0.0915 - accuracy: 0.9645\n",
      "Epoch 28: val_accuracy did not improve from 0.86160\n",
      "625/625 [==============================] - 2s 3ms/step - loss: 0.0913 - accuracy: 0.9646 - val_loss: 0.9359 - val_accuracy: 0.8304\n"
     ]
    },
    {
     "name": "stdout",
     "output_type": "stream",
     "text": [
      "Epoch 29/50\n",
      "609/625 [============================>.] - ETA: 0s - loss: 0.0923 - accuracy: 0.9634\n",
      "Epoch 29: val_accuracy did not improve from 0.86160\n",
      "625/625 [==============================] - 2s 3ms/step - loss: 0.0927 - accuracy: 0.9632 - val_loss: 0.8915 - val_accuracy: 0.8436\n",
      "Epoch 30/50\n",
      "617/625 [============================>.] - ETA: 0s - loss: 0.0822 - accuracy: 0.9688\n",
      "Epoch 30: val_accuracy did not improve from 0.86160\n",
      "625/625 [==============================] - 2s 3ms/step - loss: 0.0817 - accuracy: 0.9689 - val_loss: 1.0697 - val_accuracy: 0.8424\n",
      "Epoch 31/50\n",
      "610/625 [============================>.] - ETA: 0s - loss: 0.0795 - accuracy: 0.9701\n",
      "Epoch 31: val_accuracy did not improve from 0.86160\n",
      "625/625 [==============================] - 2s 3ms/step - loss: 0.0790 - accuracy: 0.9703 - val_loss: 0.9053 - val_accuracy: 0.8440\n",
      "Epoch 32/50\n",
      "604/625 [===========================>..] - ETA: 0s - loss: 0.0807 - accuracy: 0.9696\n",
      "Epoch 32: val_accuracy did not improve from 0.86160\n",
      "625/625 [==============================] - 2s 3ms/step - loss: 0.0812 - accuracy: 0.9693 - val_loss: 0.7290 - val_accuracy: 0.8302\n",
      "Epoch 33/50\n",
      "624/625 [============================>.] - ETA: 0s - loss: 0.0697 - accuracy: 0.9738\n",
      "Epoch 33: val_accuracy did not improve from 0.86160\n",
      "625/625 [==============================] - 2s 3ms/step - loss: 0.0697 - accuracy: 0.9737 - val_loss: 1.0448 - val_accuracy: 0.8368\n",
      "Epoch 34/50\n",
      "623/625 [============================>.] - ETA: 0s - loss: 0.0786 - accuracy: 0.9714\n",
      "Epoch 34: val_accuracy did not improve from 0.86160\n",
      "625/625 [==============================] - 2s 3ms/step - loss: 0.0785 - accuracy: 0.9714 - val_loss: 0.8278 - val_accuracy: 0.8376\n",
      "Epoch 35/50\n",
      "610/625 [============================>.] - ETA: 0s - loss: 0.0674 - accuracy: 0.9751\n",
      "Epoch 35: val_accuracy did not improve from 0.86160\n",
      "625/625 [==============================] - 2s 3ms/step - loss: 0.0675 - accuracy: 0.9750 - val_loss: 1.0753 - val_accuracy: 0.8410\n",
      "Epoch 36/50\n",
      "614/625 [============================>.] - ETA: 0s - loss: 0.0632 - accuracy: 0.9755\n",
      "Epoch 36: val_accuracy did not improve from 0.86160\n",
      "625/625 [==============================] - 2s 3ms/step - loss: 0.0631 - accuracy: 0.9755 - val_loss: 1.0755 - val_accuracy: 0.8410\n",
      "Epoch 37/50\n",
      "612/625 [============================>.] - ETA: 0s - loss: 0.0650 - accuracy: 0.9769\n",
      "Epoch 37: val_accuracy did not improve from 0.86160\n",
      "625/625 [==============================] - 2s 3ms/step - loss: 0.0648 - accuracy: 0.9770 - val_loss: 1.0767 - val_accuracy: 0.8348\n",
      "Epoch 38/50\n",
      "615/625 [============================>.] - ETA: 0s - loss: 0.0577 - accuracy: 0.9786\n",
      "Epoch 38: val_accuracy did not improve from 0.86160\n",
      "625/625 [==============================] - 2s 3ms/step - loss: 0.0578 - accuracy: 0.9786 - val_loss: 1.2004 - val_accuracy: 0.8342\n",
      "Epoch 39/50\n",
      "621/625 [============================>.] - ETA: 0s - loss: 0.0587 - accuracy: 0.9789\n",
      "Epoch 39: val_accuracy did not improve from 0.86160\n",
      "625/625 [==============================] - 2s 3ms/step - loss: 0.0585 - accuracy: 0.9790 - val_loss: 1.1755 - val_accuracy: 0.8386\n",
      "Epoch 40/50\n",
      "621/625 [============================>.] - ETA: 0s - loss: 0.0576 - accuracy: 0.9787\n",
      "Epoch 40: val_accuracy did not improve from 0.86160\n",
      "625/625 [==============================] - 2s 3ms/step - loss: 0.0578 - accuracy: 0.9786 - val_loss: 1.2699 - val_accuracy: 0.8452\n",
      "Epoch 41/50\n",
      "616/625 [============================>.] - ETA: 0s - loss: 0.0636 - accuracy: 0.9785\n",
      "Epoch 41: val_accuracy did not improve from 0.86160\n",
      "625/625 [==============================] - 2s 3ms/step - loss: 0.0638 - accuracy: 0.9784 - val_loss: 0.8814 - val_accuracy: 0.8462\n",
      "Epoch 42/50\n",
      "614/625 [============================>.] - ETA: 0s - loss: 0.0564 - accuracy: 0.9795\n",
      "Epoch 42: val_accuracy did not improve from 0.86160\n",
      "625/625 [==============================] - 2s 3ms/step - loss: 0.0564 - accuracy: 0.9794 - val_loss: 0.8336 - val_accuracy: 0.8428\n",
      "Epoch 43/50\n",
      "613/625 [============================>.] - ETA: 0s - loss: 0.0492 - accuracy: 0.9808\n",
      "Epoch 43: val_accuracy did not improve from 0.86160\n",
      "625/625 [==============================] - 2s 3ms/step - loss: 0.0491 - accuracy: 0.9809 - val_loss: 1.4039 - val_accuracy: 0.8432\n",
      "Epoch 44/50\n",
      "616/625 [============================>.] - ETA: 0s - loss: 0.0493 - accuracy: 0.9822\n",
      "Epoch 44: val_accuracy did not improve from 0.86160\n",
      "625/625 [==============================] - 2s 3ms/step - loss: 0.0490 - accuracy: 0.9823 - val_loss: 1.2888 - val_accuracy: 0.8402\n",
      "Epoch 45/50\n",
      "604/625 [===========================>..] - ETA: 0s - loss: 0.0453 - accuracy: 0.9840\n",
      "Epoch 45: val_accuracy did not improve from 0.86160\n",
      "625/625 [==============================] - 2s 3ms/step - loss: 0.0478 - accuracy: 0.9837 - val_loss: 0.9023 - val_accuracy: 0.8394\n",
      "Epoch 46/50\n",
      "616/625 [============================>.] - ETA: 0s - loss: 0.0523 - accuracy: 0.9831\n",
      "Epoch 46: val_accuracy did not improve from 0.86160\n",
      "625/625 [==============================] - 2s 3ms/step - loss: 0.0532 - accuracy: 0.9827 - val_loss: 1.3876 - val_accuracy: 0.8380\n",
      "Epoch 47/50\n",
      "614/625 [============================>.] - ETA: 0s - loss: 0.0508 - accuracy: 0.9818\n",
      "Epoch 47: val_accuracy did not improve from 0.86160\n",
      "625/625 [==============================] - 2s 3ms/step - loss: 0.0511 - accuracy: 0.9816 - val_loss: 1.0083 - val_accuracy: 0.8250\n",
      "Epoch 48/50\n",
      "621/625 [============================>.] - ETA: 0s - loss: 0.0519 - accuracy: 0.9817\n",
      "Epoch 48: val_accuracy did not improve from 0.86160\n",
      "625/625 [==============================] - 2s 3ms/step - loss: 0.0517 - accuracy: 0.9818 - val_loss: 1.5081 - val_accuracy: 0.8418\n",
      "Epoch 49/50\n",
      "607/625 [============================>.] - ETA: 0s - loss: 0.0480 - accuracy: 0.9831\n",
      "Epoch 49: val_accuracy did not improve from 0.86160\n",
      "625/625 [==============================] - 2s 3ms/step - loss: 0.0476 - accuracy: 0.9832 - val_loss: 1.1955 - val_accuracy: 0.8460\n",
      "Epoch 50/50\n",
      "625/625 [==============================] - ETA: 0s - loss: 0.0492 - accuracy: 0.9829\n",
      "Epoch 50: val_accuracy did not improve from 0.86160\n",
      "625/625 [==============================] - 2s 3ms/step - loss: 0.0492 - accuracy: 0.9829 - val_loss: 1.3477 - val_accuracy: 0.8388\n"
     ]
    },
    {
     "data": {
      "text/plain": [
       "<keras.callbacks.History at 0x1acd67e7f40>"
      ]
     },
     "execution_count": 40,
     "metadata": {},
     "output_type": "execute_result"
    }
   ],
   "source": [
    "model.compile('adam', loss=BinaryCrossentropy(), metrics='accuracy')\n",
    "\n",
    "model.fit(x=train_x,\n",
    "         y=train_y,\n",
    "         batch_size=32,\n",
    "         epochs=50,\n",
    "         validation_data=(val_x, val_y),\n",
    "         callbacks=callbacks)"
   ]
  },
  {
   "cell_type": "code",
   "execution_count": 42,
   "id": "f8634d3c",
   "metadata": {},
   "outputs": [],
   "source": [
    "model = load_model('./models_ffnn/checkpoint')"
   ]
  },
  {
   "cell_type": "code",
   "execution_count": 45,
   "id": "7d64ff2f",
   "metadata": {},
   "outputs": [
    {
     "name": "stdout",
     "output_type": "stream",
     "text": [
      "f1 : 0.8838582677165354\n",
      "acc: 0.882\n"
     ]
    },
    {
     "data": {
      "image/png": "[encoded data removed]",
      "text/plain": [
       "<Figure size 432x288 with 2 Axes>"
      ]
     },
     "metadata": {
      "needs_background": "light"
     },
     "output_type": "display_data"
    }
   ],
   "source": [
    "predict_result(model, train_x[:1000], train_y[:1000])"
   ]
  },
  {
   "cell_type": "code",
   "execution_count": 46,
   "id": "39a4d075",
   "metadata": {},
   "outputs": [
    {
     "name": "stdout",
     "output_type": "stream",
     "text": [
      "f1 : 0.8518893523956098\n",
      "acc: 0.85372\n"
     ]
    },
    {
     "data": {
      "image/png": "[encoded data removed]",
      "text/plain": [
       "<Figure size 432x288 with 2 Axes>"
      ]
     },
     "metadata": {
      "needs_background": "light"
     },
     "output_type": "display_data"
    }
   ],
   "source": [
    "predict_result(model, test_x, test_y)"
   ]
  },
  {
   "cell_type": "markdown",
   "id": "edfc07a5",
   "metadata": {},
   "source": [
    "# Feature 2 (Text to Sequences)"
   ]
  },
  {
   "cell_type": "code",
   "execution_count": 55,
   "id": "48b97d89",
   "metadata": {},
   "outputs": [],
   "source": [
    "def get_sequences_and_one_hot(df):\n",
    "    sequences = tokenizer.texts_to_sequences(df['text'].values)\n",
    "    x = pad_sequences(sequences, maxlen=max_words)\n",
    "    y = df['label'].apply(one_hot).tolist()\n",
    "    y = np.array(y)\n",
    "    return x, y"
   ]
  },
  {
   "cell_type": "code",
   "execution_count": 56,
   "id": "a0f03db1",
   "metadata": {},
   "outputs": [],
   "source": [
    "train_val_x, train_val_y = get_sequences_and_one_hot(train_df)\n",
    "test_x, test_y = get_sequences_and_one_hot(test_df)"
   ]
  },
  {
   "cell_type": "code",
   "execution_count": 57,
   "id": "60100106",
   "metadata": {},
   "outputs": [],
   "source": [
    "train_x, val_x = train_val_x[:train_len], train_val_x[train_len:]\n",
    "train_y, val_y = train_val_y[:train_len], train_val_y[train_len:]"
   ]
  },
  {
   "cell_type": "markdown",
   "id": "043170bf",
   "metadata": {},
   "source": [
    "# Model 3 (LSTM)"
   ]
  },
  {
   "cell_type": "code",
   "execution_count": 66,
   "id": "458106b9",
   "metadata": {},
   "outputs": [
    {
     "name": "stdout",
     "output_type": "stream",
     "text": [
      "Model: \"sequential_5\"\n",
      "_________________________________________________________________\n",
      " Layer (type)                Output Shape              Param #   \n",
      "=================================================================\n",
      " embedding_4 (Embedding)     (None, 300, 300)          76800     \n",
      "                                                                 \n",
      " lstm_4 (LSTM)               (None, 128)               219648    \n",
      "                                                                 \n",
      " dropout_10 (Dropout)        (None, 128)               0         \n",
      "                                                                 \n",
      " dense_14 (Dense)            (None, 64)                8256      \n",
      "                                                                 \n",
      " dropout_11 (Dropout)        (None, 64)                0         \n",
      "                                                                 \n",
      " dense_15 (Dense)            (None, 2)                 130       \n",
      "                                                                 \n",
      "=================================================================\n",
      "Total params: 304,834\n",
      "Trainable params: 304,834\n",
      "Non-trainable params: 0\n",
      "_________________________________________________________________\n"
     ]
    }
   ],
   "source": [
    "model = Sequential([\n",
    "    Embedding(256, embedding_size, input_length=max_words),\n",
    "    LSTM(128),\n",
    "    Dropout(0.2),\n",
    "    Dense(64, activation='relu'),\n",
    "    Dropout(0.2),\n",
    "    Dense(2, activation='sigmoid')\n",
    "])\n",
    "\n",
    "callbacks=[\n",
    "    ModelCheckpoint(filepath='./models_t2s_lstm/checkpoint',\n",
    "                   save_best_only=True, verbose=1,monitor='val_accuracy')\n",
    "]\n",
    "\n",
    "model.summary()"
   ]
  },
  {
   "cell_type": "code",
   "execution_count": 67,
   "id": "70966035",
   "metadata": {},
   "outputs": [
    {
     "name": "stdout",
     "output_type": "stream",
     "text": [
      "Epoch 1/50\n",
      "156/157 [============================>.] - ETA: 0s - loss: 0.5765 - accuracy: 0.6991\n",
      "Epoch 1: val_accuracy improved from -inf to 0.77480, saving model to ./models_lstm\\checkpoint\n"
     ]
    },
    {
     "name": "stderr",
     "output_type": "stream",
     "text": [
      "WARNING:absl:Found untraced functions such as lstm_cell_4_layer_call_fn, lstm_cell_4_layer_call_and_return_conditional_losses while saving (showing 2 of 2). These functions will not be directly callable after loading.\n"
     ]
    },
    {
     "name": "stdout",
     "output_type": "stream",
     "text": [
      "INFO:tensorflow:Assets written to: ./models_lstm\\checkpoint\\assets\n"
     ]
    },
    {
     "name": "stderr",
     "output_type": "stream",
     "text": [
      "INFO:tensorflow:Assets written to: ./models_lstm\\checkpoint\\assets\n",
      "WARNING:absl:<keras.layers.recurrent.LSTMCell object at 0x000001AF7104D8E0> has the same name 'LSTMCell' as a built-in Keras object. Consider renaming <class 'keras.layers.recurrent.LSTMCell'> to avoid naming conflicts when loading with `tf.keras.models.load_model`. If renaming is not possible, pass the object in the `custom_objects` parameter of the load function.\n"
     ]
    },
    {
     "name": "stdout",
     "output_type": "stream",
     "text": [
      "157/157 [==============================] - 8s 46ms/step - loss: 0.5763 - accuracy: 0.6993 - val_loss: 0.4840 - val_accuracy: 0.7748\n",
      "Epoch 2/50\n",
      "156/157 [============================>.] - ETA: 0s - loss: 0.4711 - accuracy: 0.7810\n",
      "Epoch 2: val_accuracy did not improve from 0.77480\n",
      "157/157 [==============================] - 5s 31ms/step - loss: 0.4710 - accuracy: 0.7812 - val_loss: 0.4773 - val_accuracy: 0.7730\n",
      "Epoch 3/50\n",
      "157/157 [==============================] - ETA: 0s - loss: 0.4654 - accuracy: 0.7854\n",
      "Epoch 3: val_accuracy improved from 0.77480 to 0.77800, saving model to ./models_lstm\\checkpoint\n"
     ]
    },
    {
     "name": "stderr",
     "output_type": "stream",
     "text": [
      "WARNING:absl:Found untraced functions such as lstm_cell_4_layer_call_fn, lstm_cell_4_layer_call_and_return_conditional_losses while saving (showing 2 of 2). These functions will not be directly callable after loading.\n"
     ]
    },
    {
     "name": "stdout",
     "output_type": "stream",
     "text": [
      "INFO:tensorflow:Assets written to: ./models_lstm\\checkpoint\\assets\n"
     ]
    },
    {
     "name": "stderr",
     "output_type": "stream",
     "text": [
      "INFO:tensorflow:Assets written to: ./models_lstm\\checkpoint\\assets\n",
      "WARNING:absl:<keras.layers.recurrent.LSTMCell object at 0x000001AF7104D8E0> has the same name 'LSTMCell' as a built-in Keras object. Consider renaming <class 'keras.layers.recurrent.LSTMCell'> to avoid naming conflicts when loading with `tf.keras.models.load_model`. If renaming is not possible, pass the object in the `custom_objects` parameter of the load function.\n"
     ]
    },
    {
     "name": "stdout",
     "output_type": "stream",
     "text": [
      "157/157 [==============================] - 7s 47ms/step - loss: 0.4654 - accuracy: 0.7854 - val_loss: 0.4641 - val_accuracy: 0.7780\n",
      "Epoch 4/50\n",
      "157/157 [==============================] - ETA: 0s - loss: 0.4500 - accuracy: 0.7905\n",
      "Epoch 4: val_accuracy improved from 0.77800 to 0.77820, saving model to ./models_lstm\\checkpoint\n"
     ]
    },
    {
     "name": "stderr",
     "output_type": "stream",
     "text": [
      "WARNING:absl:Found untraced functions such as lstm_cell_4_layer_call_fn, lstm_cell_4_layer_call_and_return_conditional_losses while saving (showing 2 of 2). These functions will not be directly callable after loading.\n"
     ]
    },
    {
     "name": "stdout",
     "output_type": "stream",
     "text": [
      "INFO:tensorflow:Assets written to: ./models_lstm\\checkpoint\\assets\n"
     ]
    },
    {
     "name": "stderr",
     "output_type": "stream",
     "text": [
      "INFO:tensorflow:Assets written to: ./models_lstm\\checkpoint\\assets\n",
      "WARNING:absl:<keras.layers.recurrent.LSTMCell object at 0x000001AF7104D8E0> has the same name 'LSTMCell' as a built-in Keras object. Consider renaming <class 'keras.layers.recurrent.LSTMCell'> to avoid naming conflicts when loading with `tf.keras.models.load_model`. If renaming is not possible, pass the object in the `custom_objects` parameter of the load function.\n"
     ]
    },
    {
     "name": "stdout",
     "output_type": "stream",
     "text": [
      "157/157 [==============================] - 7s 44ms/step - loss: 0.4500 - accuracy: 0.7905 - val_loss: 0.4670 - val_accuracy: 0.7782\n",
      "Epoch 5/50\n",
      "157/157 [==============================] - ETA: 0s - loss: 0.4475 - accuracy: 0.7945\n",
      "Epoch 5: val_accuracy did not improve from 0.77820\n",
      "157/157 [==============================] - 5s 31ms/step - loss: 0.4475 - accuracy: 0.7945 - val_loss: 0.4680 - val_accuracy: 0.7746\n",
      "Epoch 6/50\n",
      "155/157 [============================>.] - ETA: 0s - loss: 0.4426 - accuracy: 0.7980\n",
      "Epoch 6: val_accuracy did not improve from 0.77820\n",
      "157/157 [==============================] - 5s 32ms/step - loss: 0.4425 - accuracy: 0.7979 - val_loss: 0.4606 - val_accuracy: 0.7770\n",
      "Epoch 7/50\n",
      "157/157 [==============================] - ETA: 0s - loss: 0.4354 - accuracy: 0.7994\n",
      "Epoch 7: val_accuracy did not improve from 0.77820\n",
      "157/157 [==============================] - 5s 32ms/step - loss: 0.4354 - accuracy: 0.7994 - val_loss: 0.4651 - val_accuracy: 0.7714\n",
      "Epoch 8/50\n",
      "157/157 [==============================] - ETA: 0s - loss: 0.4291 - accuracy: 0.8026\n",
      "Epoch 8: val_accuracy did not improve from 0.77820\n",
      "157/157 [==============================] - 5s 32ms/step - loss: 0.4291 - accuracy: 0.8026 - val_loss: 0.4585 - val_accuracy: 0.7774\n",
      "Epoch 9/50\n",
      "157/157 [==============================] - ETA: 0s - loss: 0.4205 - accuracy: 0.8059\n",
      "Epoch 9: val_accuracy did not improve from 0.77820\n",
      "157/157 [==============================] - 5s 32ms/step - loss: 0.4205 - accuracy: 0.8059 - val_loss: 0.4705 - val_accuracy: 0.7736\n",
      "Epoch 10/50\n",
      "157/157 [==============================] - ETA: 0s - loss: 0.4182 - accuracy: 0.8074\n",
      "Epoch 10: val_accuracy improved from 0.77820 to 0.77840, saving model to ./models_lstm\\checkpoint\n"
     ]
    },
    {
     "name": "stderr",
     "output_type": "stream",
     "text": [
      "WARNING:absl:Found untraced functions such as lstm_cell_4_layer_call_fn, lstm_cell_4_layer_call_and_return_conditional_losses while saving (showing 2 of 2). These functions will not be directly callable after loading.\n"
     ]
    },
    {
     "name": "stdout",
     "output_type": "stream",
     "text": [
      "INFO:tensorflow:Assets written to: ./models_lstm\\checkpoint\\assets\n"
     ]
    },
    {
     "name": "stderr",
     "output_type": "stream",
     "text": [
      "INFO:tensorflow:Assets written to: ./models_lstm\\checkpoint\\assets\n",
      "WARNING:absl:<keras.layers.recurrent.LSTMCell object at 0x000001AF7104D8E0> has the same name 'LSTMCell' as a built-in Keras object. Consider renaming <class 'keras.layers.recurrent.LSTMCell'> to avoid naming conflicts when loading with `tf.keras.models.load_model`. If renaming is not possible, pass the object in the `custom_objects` parameter of the load function.\n"
     ]
    },
    {
     "name": "stdout",
     "output_type": "stream",
     "text": [
      "157/157 [==============================] - 7s 44ms/step - loss: 0.4182 - accuracy: 0.8074 - val_loss: 0.4742 - val_accuracy: 0.7784\n",
      "Epoch 11/50\n",
      "157/157 [==============================] - ETA: 0s - loss: 0.4139 - accuracy: 0.8102\n",
      "Epoch 11: val_accuracy improved from 0.77840 to 0.78220, saving model to ./models_lstm\\checkpoint\n"
     ]
    },
    {
     "name": "stderr",
     "output_type": "stream",
     "text": [
      "WARNING:absl:Found untraced functions such as lstm_cell_4_layer_call_fn, lstm_cell_4_layer_call_and_return_conditional_losses while saving (showing 2 of 2). These functions will not be directly callable after loading.\n"
     ]
    },
    {
     "name": "stdout",
     "output_type": "stream",
     "text": [
      "INFO:tensorflow:Assets written to: ./models_lstm\\checkpoint\\assets\n"
     ]
    },
    {
     "name": "stderr",
     "output_type": "stream",
     "text": [
      "INFO:tensorflow:Assets written to: ./models_lstm\\checkpoint\\assets\n",
      "WARNING:absl:<keras.layers.recurrent.LSTMCell object at 0x000001AF7104D8E0> has the same name 'LSTMCell' as a built-in Keras object. Consider renaming <class 'keras.layers.recurrent.LSTMCell'> to avoid naming conflicts when loading with `tf.keras.models.load_model`. If renaming is not possible, pass the object in the `custom_objects` parameter of the load function.\n"
     ]
    },
    {
     "name": "stdout",
     "output_type": "stream",
     "text": [
      "157/157 [==============================] - 7s 48ms/step - loss: 0.4139 - accuracy: 0.8102 - val_loss: 0.4704 - val_accuracy: 0.7822\n",
      "Epoch 12/50\n",
      "157/157 [==============================] - ETA: 0s - loss: 0.4067 - accuracy: 0.8144\n",
      "Epoch 12: val_accuracy did not improve from 0.78220\n",
      "157/157 [==============================] - 5s 31ms/step - loss: 0.4067 - accuracy: 0.8144 - val_loss: 0.4756 - val_accuracy: 0.7790\n",
      "Epoch 13/50\n",
      "155/157 [============================>.] - ETA: 0s - loss: 0.4002 - accuracy: 0.8172\n",
      "Epoch 13: val_accuracy did not improve from 0.78220\n",
      "157/157 [==============================] - 5s 31ms/step - loss: 0.4001 - accuracy: 0.8173 - val_loss: 0.4950 - val_accuracy: 0.7756\n",
      "Epoch 14/50\n",
      "156/157 [============================>.] - ETA: 0s - loss: 0.3949 - accuracy: 0.8187\n",
      "Epoch 14: val_accuracy did not improve from 0.78220\n",
      "157/157 [==============================] - 5s 31ms/step - loss: 0.3950 - accuracy: 0.8184 - val_loss: 0.4762 - val_accuracy: 0.7744\n",
      "Epoch 15/50\n",
      "155/157 [============================>.] - ETA: 0s - loss: 0.3893 - accuracy: 0.8236\n",
      "Epoch 15: val_accuracy did not improve from 0.78220\n",
      "157/157 [==============================] - 5s 31ms/step - loss: 0.3895 - accuracy: 0.8235 - val_loss: 0.4848 - val_accuracy: 0.7732\n",
      "Epoch 16/50\n",
      "155/157 [============================>.] - ETA: 0s - loss: 0.3830 - accuracy: 0.8266\n",
      "Epoch 16: val_accuracy did not improve from 0.78220\n",
      "157/157 [==============================] - 5s 30ms/step - loss: 0.3827 - accuracy: 0.8266 - val_loss: 0.5324 - val_accuracy: 0.7748\n",
      "Epoch 17/50\n",
      "157/157 [==============================] - ETA: 0s - loss: 0.3802 - accuracy: 0.8271\n",
      "Epoch 17: val_accuracy did not improve from 0.78220\n",
      "157/157 [==============================] - 5s 30ms/step - loss: 0.3802 - accuracy: 0.8271 - val_loss: 0.5008 - val_accuracy: 0.7744\n",
      "Epoch 18/50\n",
      "155/157 [============================>.] - ETA: 0s - loss: 0.3723 - accuracy: 0.8306\n",
      "Epoch 18: val_accuracy did not improve from 0.78220\n",
      "157/157 [==============================] - 5s 29ms/step - loss: 0.3728 - accuracy: 0.8304 - val_loss: 0.5110 - val_accuracy: 0.7802\n",
      "Epoch 19/50\n",
      "155/157 [============================>.] - ETA: 0s - loss: 0.3638 - accuracy: 0.8333\n",
      "Epoch 19: val_accuracy did not improve from 0.78220\n",
      "157/157 [==============================] - 5s 29ms/step - loss: 0.3640 - accuracy: 0.8335 - val_loss: 0.5152 - val_accuracy: 0.7756\n",
      "Epoch 20/50\n",
      "157/157 [==============================] - ETA: 0s - loss: 0.3608 - accuracy: 0.8350\n",
      "Epoch 20: val_accuracy did not improve from 0.78220\n",
      "157/157 [==============================] - 5s 30ms/step - loss: 0.3608 - accuracy: 0.8350 - val_loss: 0.5226 - val_accuracy: 0.7734\n",
      "Epoch 21/50\n",
      "157/157 [==============================] - ETA: 0s - loss: 0.3463 - accuracy: 0.8433\n",
      "Epoch 21: val_accuracy did not improve from 0.78220\n",
      "157/157 [==============================] - 5s 31ms/step - loss: 0.3463 - accuracy: 0.8433 - val_loss: 0.5117 - val_accuracy: 0.7738\n",
      "Epoch 22/50\n",
      "157/157 [==============================] - ETA: 0s - loss: 0.3316 - accuracy: 0.8479\n",
      "Epoch 22: val_accuracy did not improve from 0.78220\n",
      "157/157 [==============================] - 5s 32ms/step - loss: 0.3316 - accuracy: 0.8479 - val_loss: 0.5534 - val_accuracy: 0.7688\n",
      "Epoch 23/50\n",
      "157/157 [==============================] - ETA: 0s - loss: 0.3284 - accuracy: 0.8473\n",
      "Epoch 23: val_accuracy did not improve from 0.78220\n",
      "157/157 [==============================] - 5s 31ms/step - loss: 0.3284 - accuracy: 0.8473 - val_loss: 0.6146 - val_accuracy: 0.7718\n",
      "Epoch 24/50\n",
      "156/157 [============================>.] - ETA: 0s - loss: 0.3137 - accuracy: 0.8569\n",
      "Epoch 24: val_accuracy did not improve from 0.78220\n",
      "157/157 [==============================] - 5s 31ms/step - loss: 0.3139 - accuracy: 0.8568 - val_loss: 0.5703 - val_accuracy: 0.7540\n",
      "Epoch 25/50\n",
      "157/157 [==============================] - ETA: 0s - loss: 0.3131 - accuracy: 0.8547\n",
      "Epoch 25: val_accuracy did not improve from 0.78220\n",
      "157/157 [==============================] - 5s 31ms/step - loss: 0.3131 - accuracy: 0.8547 - val_loss: 0.5847 - val_accuracy: 0.7628\n",
      "Epoch 26/50\n",
      "157/157 [==============================] - ETA: 0s - loss: 0.3175 - accuracy: 0.8552\n",
      "Epoch 26: val_accuracy did not improve from 0.78220\n",
      "157/157 [==============================] - 5s 31ms/step - loss: 0.3175 - accuracy: 0.8552 - val_loss: 0.5793 - val_accuracy: 0.7598\n",
      "Epoch 27/50\n",
      "155/157 [============================>.] - ETA: 0s - loss: 0.2838 - accuracy: 0.8711\n",
      "Epoch 27: val_accuracy did not improve from 0.78220\n",
      "157/157 [==============================] - 5s 31ms/step - loss: 0.2843 - accuracy: 0.8709 - val_loss: 0.6214 - val_accuracy: 0.7588\n",
      "Epoch 28/50\n",
      "157/157 [==============================] - ETA: 0s - loss: 0.3230 - accuracy: 0.8536\n",
      "Epoch 28: val_accuracy did not improve from 0.78220\n",
      "157/157 [==============================] - 5s 31ms/step - loss: 0.3230 - accuracy: 0.8536 - val_loss: 0.5832 - val_accuracy: 0.7558\n",
      "Epoch 29/50\n",
      "157/157 [==============================] - ETA: 0s - loss: 0.2766 - accuracy: 0.8708\n",
      "Epoch 29: val_accuracy did not improve from 0.78220\n",
      "157/157 [==============================] - 5s 31ms/step - loss: 0.2766 - accuracy: 0.8708 - val_loss: 0.5943 - val_accuracy: 0.7568\n",
      "Epoch 30/50\n",
      "157/157 [==============================] - ETA: 0s - loss: 0.2584 - accuracy: 0.8827\n",
      "Epoch 30: val_accuracy did not improve from 0.78220\n",
      "157/157 [==============================] - 5s 31ms/step - loss: 0.2584 - accuracy: 0.8827 - val_loss: 0.7065 - val_accuracy: 0.7476\n",
      "Epoch 31/50\n",
      "157/157 [==============================] - ETA: 0s - loss: 0.2488 - accuracy: 0.8875\n",
      "Epoch 31: val_accuracy did not improve from 0.78220\n",
      "157/157 [==============================] - 5s 31ms/step - loss: 0.2488 - accuracy: 0.8875 - val_loss: 0.7313 - val_accuracy: 0.7498\n",
      "Epoch 32/50\n",
      "157/157 [==============================] - ETA: 0s - loss: 0.2308 - accuracy: 0.8942\n",
      "Epoch 32: val_accuracy did not improve from 0.78220\n",
      "157/157 [==============================] - 5s 32ms/step - loss: 0.2308 - accuracy: 0.8942 - val_loss: 0.7787 - val_accuracy: 0.7548\n",
      "Epoch 33/50\n",
      "157/157 [==============================] - ETA: 0s - loss: 0.2332 - accuracy: 0.8927\n",
      "Epoch 33: val_accuracy did not improve from 0.78220\n",
      "157/157 [==============================] - 5s 32ms/step - loss: 0.2332 - accuracy: 0.8927 - val_loss: 0.7773 - val_accuracy: 0.7470\n",
      "Epoch 34/50\n",
      "157/157 [==============================] - ETA: 0s - loss: 0.2042 - accuracy: 0.9064\n",
      "Epoch 34: val_accuracy did not improve from 0.78220\n",
      "157/157 [==============================] - 5s 30ms/step - loss: 0.2042 - accuracy: 0.9064 - val_loss: 0.8359 - val_accuracy: 0.7488\n",
      "Epoch 35/50\n",
      "155/157 [============================>.] - ETA: 0s - loss: 0.1993 - accuracy: 0.9099\n",
      "Epoch 35: val_accuracy did not improve from 0.78220\n",
      "157/157 [==============================] - 5s 31ms/step - loss: 0.1995 - accuracy: 0.9100 - val_loss: 0.8461 - val_accuracy: 0.7356\n",
      "Epoch 36/50\n",
      "157/157 [==============================] - ETA: 0s - loss: 0.2288 - accuracy: 0.8996\n",
      "Epoch 36: val_accuracy did not improve from 0.78220\n",
      "157/157 [==============================] - 5s 31ms/step - loss: 0.2288 - accuracy: 0.8996 - val_loss: 0.7668 - val_accuracy: 0.7432\n",
      "Epoch 37/50\n",
      "157/157 [==============================] - ETA: 0s - loss: 0.1928 - accuracy: 0.9155\n",
      "Epoch 37: val_accuracy did not improve from 0.78220\n",
      "157/157 [==============================] - 5s 30ms/step - loss: 0.1928 - accuracy: 0.9155 - val_loss: 0.9334 - val_accuracy: 0.7492\n",
      "Epoch 38/50\n",
      "155/157 [============================>.] - ETA: 0s - loss: 0.1880 - accuracy: 0.9183\n",
      "Epoch 38: val_accuracy did not improve from 0.78220\n",
      "157/157 [==============================] - 5s 29ms/step - loss: 0.1881 - accuracy: 0.9185 - val_loss: 0.9710 - val_accuracy: 0.7224\n",
      "Epoch 39/50\n",
      "156/157 [============================>.] - ETA: 0s - loss: 0.1717 - accuracy: 0.9258\n",
      "Epoch 39: val_accuracy did not improve from 0.78220\n",
      "157/157 [==============================] - 5s 29ms/step - loss: 0.1717 - accuracy: 0.9258 - val_loss: 1.0366 - val_accuracy: 0.7444\n",
      "Epoch 40/50\n",
      "156/157 [============================>.] - ETA: 0s - loss: 0.1352 - accuracy: 0.9417\n",
      "Epoch 40: val_accuracy did not improve from 0.78220\n",
      "157/157 [==============================] - 5s 29ms/step - loss: 0.1353 - accuracy: 0.9417 - val_loss: 1.1148 - val_accuracy: 0.7318\n"
     ]
    },
    {
     "name": "stdout",
     "output_type": "stream",
     "text": [
      "Epoch 41/50\n",
      "155/157 [============================>.] - ETA: 0s - loss: 0.1766 - accuracy: 0.9256\n",
      "Epoch 41: val_accuracy did not improve from 0.78220\n",
      "157/157 [==============================] - 5s 29ms/step - loss: 0.1767 - accuracy: 0.9255 - val_loss: 0.9966 - val_accuracy: 0.7222\n",
      "Epoch 42/50\n",
      "157/157 [==============================] - ETA: 0s - loss: 0.1373 - accuracy: 0.9415\n",
      "Epoch 42: val_accuracy did not improve from 0.78220\n",
      "157/157 [==============================] - 5s 30ms/step - loss: 0.1373 - accuracy: 0.9415 - val_loss: 1.0371 - val_accuracy: 0.7362\n",
      "Epoch 43/50\n",
      "157/157 [==============================] - ETA: 0s - loss: 0.1251 - accuracy: 0.9474\n",
      "Epoch 43: val_accuracy did not improve from 0.78220\n",
      "157/157 [==============================] - 5s 32ms/step - loss: 0.1251 - accuracy: 0.9474 - val_loss: 1.1977 - val_accuracy: 0.7374\n",
      "Epoch 44/50\n",
      "157/157 [==============================] - ETA: 0s - loss: 0.0958 - accuracy: 0.9589\n",
      "Epoch 44: val_accuracy did not improve from 0.78220\n",
      "157/157 [==============================] - 5s 32ms/step - loss: 0.0958 - accuracy: 0.9589 - val_loss: 1.3413 - val_accuracy: 0.7354\n",
      "Epoch 45/50\n",
      "157/157 [==============================] - ETA: 0s - loss: 0.1080 - accuracy: 0.9565\n",
      "Epoch 45: val_accuracy did not improve from 0.78220\n",
      "157/157 [==============================] - 5s 31ms/step - loss: 0.1080 - accuracy: 0.9565 - val_loss: 1.3234 - val_accuracy: 0.7326\n",
      "Epoch 46/50\n",
      "157/157 [==============================] - ETA: 0s - loss: 0.1250 - accuracy: 0.9499\n",
      "Epoch 46: val_accuracy did not improve from 0.78220\n",
      "157/157 [==============================] - 5s 31ms/step - loss: 0.1250 - accuracy: 0.9499 - val_loss: 1.2057 - val_accuracy: 0.7450\n",
      "Epoch 47/50\n",
      "157/157 [==============================] - ETA: 0s - loss: 0.1066 - accuracy: 0.9592\n",
      "Epoch 47: val_accuracy did not improve from 0.78220\n",
      "157/157 [==============================] - 5s 31ms/step - loss: 0.1066 - accuracy: 0.9592 - val_loss: 1.2193 - val_accuracy: 0.7282\n",
      "Epoch 48/50\n",
      "156/157 [============================>.] - ETA: 0s - loss: 0.0873 - accuracy: 0.9647\n",
      "Epoch 48: val_accuracy did not improve from 0.78220\n",
      "157/157 [==============================] - 5s 31ms/step - loss: 0.0872 - accuracy: 0.9647 - val_loss: 1.4149 - val_accuracy: 0.7456\n",
      "Epoch 49/50\n",
      "157/157 [==============================] - ETA: 0s - loss: 0.0976 - accuracy: 0.9620\n",
      "Epoch 49: val_accuracy did not improve from 0.78220\n",
      "157/157 [==============================] - 5s 32ms/step - loss: 0.0976 - accuracy: 0.9620 - val_loss: 1.3653 - val_accuracy: 0.7364\n",
      "Epoch 50/50\n",
      "156/157 [============================>.] - ETA: 0s - loss: 0.0765 - accuracy: 0.9707\n",
      "Epoch 50: val_accuracy did not improve from 0.78220\n",
      "157/157 [==============================] - 5s 32ms/step - loss: 0.0765 - accuracy: 0.9707 - val_loss: 1.5159 - val_accuracy: 0.7330\n"
     ]
    },
    {
     "data": {
      "text/plain": [
       "<keras.callbacks.History at 0x1ad35ffeb80>"
      ]
     },
     "execution_count": 67,
     "metadata": {},
     "output_type": "execute_result"
    }
   ],
   "source": [
    "model.compile('adam', loss=BinaryCrossentropy(), metrics='accuracy')\n",
    "\n",
    "model.fit(x=train_x,\n",
    "         y=train_y,\n",
    "         batch_size=128,\n",
    "         epochs=50,\n",
    "         validation_data=(val_x, val_y),\n",
    "         callbacks=callbacks)"
   ]
  },
  {
   "cell_type": "code",
   "execution_count": 68,
   "id": "ddadf5f1",
   "metadata": {},
   "outputs": [],
   "source": [
    "model = load_model('./models_lstm/checkpoint')"
   ]
  },
  {
   "cell_type": "code",
   "execution_count": 69,
   "id": "0a4daaa4",
   "metadata": {},
   "outputs": [
    {
     "name": "stdout",
     "output_type": "stream",
     "text": [
      "f1 : 0.8512720156555773\n",
      "acc: 0.848\n"
     ]
    },
    {
     "data": {
      "image/png": "[encoded data removed]",
      "text/plain": [
       "<Figure size 432x288 with 2 Axes>"
      ]
     },
     "metadata": {
      "needs_background": "light"
     },
     "output_type": "display_data"
    }
   ],
   "source": [
    "predict_result(model, train_x[:1000], train_y[:1000])"
   ]
  },
  {
   "cell_type": "code",
   "execution_count": 70,
   "id": "1becb778",
   "metadata": {},
   "outputs": [
    {
     "name": "stdout",
     "output_type": "stream",
     "text": [
      "f1 : 0.7886904761904762\n",
      "acc: 0.78984\n"
     ]
    },
    {
     "data": {
      "image/png": "[encoded data removed]",
      "text/plain": [
       "<Figure size 432x288 with 2 Axes>"
      ]
     },
     "metadata": {
      "needs_background": "light"
     },
     "output_type": "display_data"
    }
   ],
   "source": [
    "predict_result(model, test_x, test_y)"
   ]
  },
  {
   "cell_type": "markdown",
   "id": "c369556c",
   "metadata": {},
   "source": [
    "# Model 3 (GRU)"
   ]
  },
  {
   "cell_type": "code",
   "execution_count": 74,
   "id": "0ac99d51",
   "metadata": {},
   "outputs": [
    {
     "name": "stdout",
     "output_type": "stream",
     "text": [
      "Model: \"sequential_6\"\n",
      "_________________________________________________________________\n",
      " Layer (type)                Output Shape              Param #   \n",
      "=================================================================\n",
      " embedding_6 (Embedding)     (None, 300, 300)          76800     \n",
      "                                                                 \n",
      " gru (GRU)                   (None, 128)               165120    \n",
      "                                                                 \n",
      " dropout_12 (Dropout)        (None, 128)               0         \n",
      "                                                                 \n",
      " dense_16 (Dense)            (None, 64)                8256      \n",
      "                                                                 \n",
      " dropout_13 (Dropout)        (None, 64)                0         \n",
      "                                                                 \n",
      " dense_17 (Dense)            (None, 2)                 130       \n",
      "                                                                 \n",
      "=================================================================\n",
      "Total params: 250,306\n",
      "Trainable params: 250,306\n",
      "Non-trainable params: 0\n",
      "_________________________________________________________________\n"
     ]
    }
   ],
   "source": [
    "model = Sequential([\n",
    "    Embedding(256, embedding_size, input_length=max_words),\n",
    "    GRU(128),\n",
    "    Dropout(0.4),\n",
    "    Dense(64, activation='relu'),\n",
    "    Dropout(0.4),\n",
    "    Dense(2, activation='sigmoid')\n",
    "])\n",
    "\n",
    "callbacks=[\n",
    "    ModelCheckpoint(filepath='./models_t2s_gru/checkpoint',\n",
    "                   save_best_only=True, verbose=1, monitor='val_accuracy')\n",
    "]\n",
    "model.summary()"
   ]
  },
  {
   "cell_type": "code",
   "execution_count": 75,
   "id": "8fbec0fd",
   "metadata": {},
   "outputs": [
    {
     "name": "stdout",
     "output_type": "stream",
     "text": [
      "Epoch 1/50\n",
      "156/157 [============================>.] - ETA: 0s - loss: 0.6034 - accuracy: 0.6613\n",
      "Epoch 1: val_accuracy improved from -inf to 0.74420, saving model to ./models_gru\\checkpoint\n"
     ]
    },
    {
     "name": "stderr",
     "output_type": "stream",
     "text": [
      "WARNING:absl:Found untraced functions such as gru_cell_layer_call_fn, gru_cell_layer_call_and_return_conditional_losses while saving (showing 2 of 2). These functions will not be directly callable after loading.\n"
     ]
    },
    {
     "name": "stdout",
     "output_type": "stream",
     "text": [
      "INFO:tensorflow:Assets written to: ./models_gru\\checkpoint\\assets\n"
     ]
    },
    {
     "name": "stderr",
     "output_type": "stream",
     "text": [
      "INFO:tensorflow:Assets written to: ./models_gru\\checkpoint\\assets\n",
      "WARNING:absl:<keras.layers.recurrent.GRUCell object at 0x000001AF326FAB50> has the same name 'GRUCell' as a built-in Keras object. Consider renaming <class 'keras.layers.recurrent.GRUCell'> to avoid naming conflicts when loading with `tf.keras.models.load_model`. If renaming is not possible, pass the object in the `custom_objects` parameter of the load function.\n"
     ]
    },
    {
     "name": "stdout",
     "output_type": "stream",
     "text": [
      "157/157 [==============================] - 8s 43ms/step - loss: 0.6032 - accuracy: 0.6615 - val_loss: 0.5159 - val_accuracy: 0.7442\n",
      "Epoch 2/50\n",
      "156/157 [============================>.] - ETA: 0s - loss: 0.4881 - accuracy: 0.7724\n",
      "Epoch 2: val_accuracy improved from 0.74420 to 0.77720, saving model to ./models_gru\\checkpoint\n"
     ]
    },
    {
     "name": "stderr",
     "output_type": "stream",
     "text": [
      "WARNING:absl:Found untraced functions such as gru_cell_layer_call_fn, gru_cell_layer_call_and_return_conditional_losses while saving (showing 2 of 2). These functions will not be directly callable after loading.\n"
     ]
    },
    {
     "name": "stdout",
     "output_type": "stream",
     "text": [
      "INFO:tensorflow:Assets written to: ./models_gru\\checkpoint\\assets\n"
     ]
    },
    {
     "name": "stderr",
     "output_type": "stream",
     "text": [
      "INFO:tensorflow:Assets written to: ./models_gru\\checkpoint\\assets\n",
      "WARNING:absl:<keras.layers.recurrent.GRUCell object at 0x000001AF326FAB50> has the same name 'GRUCell' as a built-in Keras object. Consider renaming <class 'keras.layers.recurrent.GRUCell'> to avoid naming conflicts when loading with `tf.keras.models.load_model`. If renaming is not possible, pass the object in the `custom_objects` parameter of the load function.\n"
     ]
    },
    {
     "name": "stdout",
     "output_type": "stream",
     "text": [
      "157/157 [==============================] - 6s 41ms/step - loss: 0.4880 - accuracy: 0.7726 - val_loss: 0.4626 - val_accuracy: 0.7772\n",
      "Epoch 3/50\n",
      "156/157 [============================>.] - ETA: 0s - loss: 0.4731 - accuracy: 0.7792\n",
      "Epoch 3: val_accuracy did not improve from 0.77720\n",
      "157/157 [==============================] - 5s 30ms/step - loss: 0.4728 - accuracy: 0.7794 - val_loss: 0.4693 - val_accuracy: 0.7744\n",
      "Epoch 4/50\n",
      "156/157 [============================>.] - ETA: 0s - loss: 0.4555 - accuracy: 0.7915\n",
      "Epoch 4: val_accuracy did not improve from 0.77720\n",
      "157/157 [==============================] - 5s 29ms/step - loss: 0.4556 - accuracy: 0.7915 - val_loss: 0.4645 - val_accuracy: 0.7764\n",
      "Epoch 5/50\n",
      "155/157 [============================>.] - ETA: 0s - loss: 0.4444 - accuracy: 0.7979\n",
      "Epoch 5: val_accuracy did not improve from 0.77720\n",
      "157/157 [==============================] - 4s 28ms/step - loss: 0.4441 - accuracy: 0.7981 - val_loss: 0.4614 - val_accuracy: 0.7746\n",
      "Epoch 6/50\n",
      "156/157 [============================>.] - ETA: 0s - loss: 0.4362 - accuracy: 0.8012\n",
      "Epoch 6: val_accuracy improved from 0.77720 to 0.78000, saving model to ./models_gru\\checkpoint\n"
     ]
    },
    {
     "name": "stderr",
     "output_type": "stream",
     "text": [
      "WARNING:absl:Found untraced functions such as gru_cell_layer_call_fn, gru_cell_layer_call_and_return_conditional_losses while saving (showing 2 of 2). These functions will not be directly callable after loading.\n"
     ]
    },
    {
     "name": "stdout",
     "output_type": "stream",
     "text": [
      "INFO:tensorflow:Assets written to: ./models_gru\\checkpoint\\assets\n"
     ]
    },
    {
     "name": "stderr",
     "output_type": "stream",
     "text": [
      "INFO:tensorflow:Assets written to: ./models_gru\\checkpoint\\assets\n",
      "WARNING:absl:<keras.layers.recurrent.GRUCell object at 0x000001AF326FAB50> has the same name 'GRUCell' as a built-in Keras object. Consider renaming <class 'keras.layers.recurrent.GRUCell'> to avoid naming conflicts when loading with `tf.keras.models.load_model`. If renaming is not possible, pass the object in the `custom_objects` parameter of the load function.\n"
     ]
    },
    {
     "name": "stdout",
     "output_type": "stream",
     "text": [
      "157/157 [==============================] - 7s 43ms/step - loss: 0.4366 - accuracy: 0.8011 - val_loss: 0.4530 - val_accuracy: 0.7800\n",
      "Epoch 7/50\n",
      "155/157 [============================>.] - ETA: 0s - loss: 0.4327 - accuracy: 0.8040\n",
      "Epoch 7: val_accuracy improved from 0.78000 to 0.78400, saving model to ./models_gru\\checkpoint\n"
     ]
    },
    {
     "name": "stderr",
     "output_type": "stream",
     "text": [
      "WARNING:absl:Found untraced functions such as gru_cell_layer_call_fn, gru_cell_layer_call_and_return_conditional_losses while saving (showing 2 of 2). These functions will not be directly callable after loading.\n"
     ]
    },
    {
     "name": "stdout",
     "output_type": "stream",
     "text": [
      "INFO:tensorflow:Assets written to: ./models_gru\\checkpoint\\assets\n"
     ]
    },
    {
     "name": "stderr",
     "output_type": "stream",
     "text": [
      "INFO:tensorflow:Assets written to: ./models_gru\\checkpoint\\assets\n",
      "WARNING:absl:<keras.layers.recurrent.GRUCell object at 0x000001AF326FAB50> has the same name 'GRUCell' as a built-in Keras object. Consider renaming <class 'keras.layers.recurrent.GRUCell'> to avoid naming conflicts when loading with `tf.keras.models.load_model`. If renaming is not possible, pass the object in the `custom_objects` parameter of the load function.\n"
     ]
    },
    {
     "name": "stdout",
     "output_type": "stream",
     "text": [
      "157/157 [==============================] - 6s 39ms/step - loss: 0.4327 - accuracy: 0.8041 - val_loss: 0.4547 - val_accuracy: 0.7840\n",
      "Epoch 8/50\n",
      "155/157 [============================>.] - ETA: 0s - loss: 0.4271 - accuracy: 0.8030\n",
      "Epoch 8: val_accuracy did not improve from 0.78400\n",
      "157/157 [==============================] - 4s 28ms/step - loss: 0.4261 - accuracy: 0.8037 - val_loss: 0.4846 - val_accuracy: 0.7770\n",
      "Epoch 9/50\n",
      "157/157 [==============================] - ETA: 0s - loss: 0.4201 - accuracy: 0.8092\n",
      "Epoch 9: val_accuracy did not improve from 0.78400\n",
      "157/157 [==============================] - 4s 28ms/step - loss: 0.4201 - accuracy: 0.8092 - val_loss: 0.4557 - val_accuracy: 0.7808\n",
      "Epoch 10/50\n",
      "155/157 [============================>.] - ETA: 0s - loss: 0.4138 - accuracy: 0.8106\n",
      "Epoch 10: val_accuracy did not improve from 0.78400\n",
      "157/157 [==============================] - 4s 28ms/step - loss: 0.4138 - accuracy: 0.8102 - val_loss: 0.4635 - val_accuracy: 0.7768\n",
      "Epoch 11/50\n",
      "157/157 [==============================] - ETA: 0s - loss: 0.4031 - accuracy: 0.8134\n",
      "Epoch 11: val_accuracy did not improve from 0.78400\n",
      "157/157 [==============================] - 4s 28ms/step - loss: 0.4031 - accuracy: 0.8134 - val_loss: 0.4645 - val_accuracy: 0.7790\n",
      "Epoch 12/50\n",
      "157/157 [==============================] - ETA: 0s - loss: 0.4034 - accuracy: 0.8136\n",
      "Epoch 12: val_accuracy did not improve from 0.78400\n",
      "157/157 [==============================] - 4s 28ms/step - loss: 0.4034 - accuracy: 0.8136 - val_loss: 0.4803 - val_accuracy: 0.7784\n",
      "Epoch 13/50\n",
      "157/157 [==============================] - ETA: 0s - loss: 0.3931 - accuracy: 0.8192\n",
      "Epoch 13: val_accuracy did not improve from 0.78400\n",
      "157/157 [==============================] - 5s 29ms/step - loss: 0.3931 - accuracy: 0.8192 - val_loss: 0.5042 - val_accuracy: 0.7770\n",
      "Epoch 14/50\n",
      "155/157 [============================>.] - ETA: 0s - loss: 0.3889 - accuracy: 0.8240\n",
      "Epoch 14: val_accuracy did not improve from 0.78400\n",
      "157/157 [==============================] - 5s 29ms/step - loss: 0.3889 - accuracy: 0.8241 - val_loss: 0.4711 - val_accuracy: 0.7700\n",
      "Epoch 15/50\n",
      "155/157 [============================>.] - ETA: 0s - loss: 0.3797 - accuracy: 0.8255\n",
      "Epoch 15: val_accuracy did not improve from 0.78400\n",
      "157/157 [==============================] - 4s 28ms/step - loss: 0.3795 - accuracy: 0.8255 - val_loss: 0.4898 - val_accuracy: 0.7840\n",
      "Epoch 16/50\n",
      "156/157 [============================>.] - ETA: 0s - loss: 0.3725 - accuracy: 0.8289\n",
      "Epoch 16: val_accuracy did not improve from 0.78400\n",
      "157/157 [==============================] - 5s 29ms/step - loss: 0.3723 - accuracy: 0.8291 - val_loss: 0.5013 - val_accuracy: 0.7748\n",
      "Epoch 17/50\n",
      "157/157 [==============================] - ETA: 0s - loss: 0.3659 - accuracy: 0.8347\n",
      "Epoch 17: val_accuracy did not improve from 0.78400\n",
      "157/157 [==============================] - 4s 29ms/step - loss: 0.3659 - accuracy: 0.8347 - val_loss: 0.4801 - val_accuracy: 0.7786\n",
      "Epoch 18/50\n",
      "155/157 [============================>.] - ETA: 0s - loss: 0.3525 - accuracy: 0.8364\n",
      "Epoch 18: val_accuracy did not improve from 0.78400\n",
      "157/157 [==============================] - 5s 29ms/step - loss: 0.3530 - accuracy: 0.8361 - val_loss: 0.5029 - val_accuracy: 0.7812\n",
      "Epoch 19/50\n",
      "157/157 [==============================] - ETA: 0s - loss: 0.3448 - accuracy: 0.8429\n",
      "Epoch 19: val_accuracy did not improve from 0.78400\n",
      "157/157 [==============================] - 5s 29ms/step - loss: 0.3448 - accuracy: 0.8429 - val_loss: 0.5008 - val_accuracy: 0.7710\n",
      "Epoch 20/50\n",
      "155/157 [============================>.] - ETA: 0s - loss: 0.3342 - accuracy: 0.8494\n",
      "Epoch 20: val_accuracy did not improve from 0.78400\n",
      "157/157 [==============================] - 5s 29ms/step - loss: 0.3346 - accuracy: 0.8494 - val_loss: 0.5198 - val_accuracy: 0.7764\n",
      "Epoch 21/50\n",
      "156/157 [============================>.] - ETA: 0s - loss: 0.3266 - accuracy: 0.8512\n",
      "Epoch 21: val_accuracy did not improve from 0.78400\n",
      "157/157 [==============================] - 5s 29ms/step - loss: 0.3265 - accuracy: 0.8512 - val_loss: 0.5413 - val_accuracy: 0.7616\n",
      "Epoch 22/50\n",
      "157/157 [==============================] - ETA: 0s - loss: 0.3129 - accuracy: 0.8593\n",
      "Epoch 22: val_accuracy did not improve from 0.78400\n",
      "157/157 [==============================] - 5s 29ms/step - loss: 0.3129 - accuracy: 0.8593 - val_loss: 0.5510 - val_accuracy: 0.7696\n",
      "Epoch 23/50\n",
      "156/157 [============================>.] - ETA: 0s - loss: 0.3008 - accuracy: 0.8641\n",
      "Epoch 23: val_accuracy did not improve from 0.78400\n",
      "157/157 [==============================] - 4s 29ms/step - loss: 0.3007 - accuracy: 0.8642 - val_loss: 0.5654 - val_accuracy: 0.7722\n",
      "Epoch 24/50\n",
      "157/157 [==============================] - ETA: 0s - loss: 0.2844 - accuracy: 0.8719\n",
      "Epoch 24: val_accuracy did not improve from 0.78400\n",
      "157/157 [==============================] - 4s 28ms/step - loss: 0.2844 - accuracy: 0.8719 - val_loss: 0.6037 - val_accuracy: 0.7634\n",
      "Epoch 25/50\n",
      "155/157 [============================>.] - ETA: 0s - loss: 0.2789 - accuracy: 0.8753\n",
      "Epoch 25: val_accuracy did not improve from 0.78400\n",
      "157/157 [==============================] - 4s 28ms/step - loss: 0.2786 - accuracy: 0.8753 - val_loss: 0.6270 - val_accuracy: 0.7686\n",
      "Epoch 26/50\n",
      "156/157 [============================>.] - ETA: 0s - loss: 0.2663 - accuracy: 0.8796\n",
      "Epoch 26: val_accuracy did not improve from 0.78400\n",
      "157/157 [==============================] - 4s 28ms/step - loss: 0.2663 - accuracy: 0.8795 - val_loss: 0.6279 - val_accuracy: 0.7664\n",
      "Epoch 27/50\n",
      "156/157 [============================>.] - ETA: 0s - loss: 0.2493 - accuracy: 0.8880\n",
      "Epoch 27: val_accuracy did not improve from 0.78400\n",
      "157/157 [==============================] - 4s 28ms/step - loss: 0.2493 - accuracy: 0.8881 - val_loss: 0.6279 - val_accuracy: 0.7568\n",
      "Epoch 28/50\n",
      "155/157 [============================>.] - ETA: 0s - loss: 0.2381 - accuracy: 0.8943\n",
      "Epoch 28: val_accuracy did not improve from 0.78400\n",
      "157/157 [==============================] - 4s 28ms/step - loss: 0.2377 - accuracy: 0.8944 - val_loss: 0.7604 - val_accuracy: 0.7604\n",
      "Epoch 29/50\n",
      "156/157 [============================>.] - ETA: 0s - loss: 0.2259 - accuracy: 0.8980\n",
      "Epoch 29: val_accuracy did not improve from 0.78400\n",
      "157/157 [==============================] - 4s 28ms/step - loss: 0.2260 - accuracy: 0.8980 - val_loss: 0.7306 - val_accuracy: 0.7520\n",
      "Epoch 30/50\n",
      "156/157 [============================>.] - ETA: 0s - loss: 0.2155 - accuracy: 0.9037\n",
      "Epoch 30: val_accuracy did not improve from 0.78400\n",
      "157/157 [==============================] - 4s 28ms/step - loss: 0.2156 - accuracy: 0.9036 - val_loss: 0.7418 - val_accuracy: 0.7476\n",
      "Epoch 31/50\n",
      "157/157 [==============================] - ETA: 0s - loss: 0.2002 - accuracy: 0.9086\n",
      "Epoch 31: val_accuracy did not improve from 0.78400\n",
      "157/157 [==============================] - 4s 28ms/step - loss: 0.2002 - accuracy: 0.9086 - val_loss: 0.8107 - val_accuracy: 0.7490\n",
      "Epoch 32/50\n",
      "156/157 [============================>.] - ETA: 0s - loss: 0.1876 - accuracy: 0.9144\n",
      "Epoch 32: val_accuracy did not improve from 0.78400\n",
      "157/157 [==============================] - 5s 29ms/step - loss: 0.1874 - accuracy: 0.9145 - val_loss: 0.8761 - val_accuracy: 0.7500\n",
      "Epoch 33/50\n",
      "157/157 [==============================] - ETA: 0s - loss: 0.1805 - accuracy: 0.9179\n",
      "Epoch 33: val_accuracy did not improve from 0.78400\n",
      "157/157 [==============================] - 5s 30ms/step - loss: 0.1805 - accuracy: 0.9179 - val_loss: 0.8483 - val_accuracy: 0.7470\n",
      "Epoch 34/50\n",
      "157/157 [==============================] - ETA: 0s - loss: 0.1759 - accuracy: 0.9225\n",
      "Epoch 34: val_accuracy did not improve from 0.78400\n",
      "157/157 [==============================] - 5s 30ms/step - loss: 0.1759 - accuracy: 0.9225 - val_loss: 0.9054 - val_accuracy: 0.7406\n",
      "Epoch 35/50\n",
      "155/157 [============================>.] - ETA: 0s - loss: 0.1747 - accuracy: 0.9241\n",
      "Epoch 35: val_accuracy did not improve from 0.78400\n",
      "157/157 [==============================] - 5s 30ms/step - loss: 0.1746 - accuracy: 0.9242 - val_loss: 0.7666 - val_accuracy: 0.7470\n",
      "Epoch 36/50\n",
      "155/157 [============================>.] - ETA: 0s - loss: 0.1570 - accuracy: 0.9314\n",
      "Epoch 36: val_accuracy did not improve from 0.78400\n",
      "157/157 [==============================] - 5s 30ms/step - loss: 0.1566 - accuracy: 0.9316 - val_loss: 1.0853 - val_accuracy: 0.7452\n"
     ]
    },
    {
     "name": "stdout",
     "output_type": "stream",
     "text": [
      "Epoch 37/50\n",
      "156/157 [============================>.] - ETA: 0s - loss: 0.1505 - accuracy: 0.9343\n",
      "Epoch 37: val_accuracy did not improve from 0.78400\n",
      "157/157 [==============================] - 5s 29ms/step - loss: 0.1505 - accuracy: 0.9344 - val_loss: 1.1707 - val_accuracy: 0.7576\n",
      "Epoch 38/50\n",
      "156/157 [============================>.] - ETA: 0s - loss: 0.1271 - accuracy: 0.9423\n",
      "Epoch 38: val_accuracy did not improve from 0.78400\n",
      "157/157 [==============================] - 5s 29ms/step - loss: 0.1270 - accuracy: 0.9423 - val_loss: 1.2506 - val_accuracy: 0.7528\n",
      "Epoch 39/50\n",
      "155/157 [============================>.] - ETA: 0s - loss: 0.1249 - accuracy: 0.9459\n",
      "Epoch 39: val_accuracy did not improve from 0.78400\n",
      "157/157 [==============================] - 5s 29ms/step - loss: 0.1249 - accuracy: 0.9459 - val_loss: 1.2505 - val_accuracy: 0.7490\n",
      "Epoch 40/50\n",
      "155/157 [============================>.] - ETA: 0s - loss: 0.1123 - accuracy: 0.9499\n",
      "Epoch 40: val_accuracy did not improve from 0.78400\n",
      "157/157 [==============================] - 5s 29ms/step - loss: 0.1132 - accuracy: 0.9497 - val_loss: 1.2233 - val_accuracy: 0.7350\n",
      "Epoch 41/50\n",
      "157/157 [==============================] - ETA: 0s - loss: 0.1335 - accuracy: 0.9449\n",
      "Epoch 41: val_accuracy did not improve from 0.78400\n",
      "157/157 [==============================] - 4s 28ms/step - loss: 0.1335 - accuracy: 0.9449 - val_loss: 1.2258 - val_accuracy: 0.7510\n",
      "Epoch 42/50\n",
      "156/157 [============================>.] - ETA: 0s - loss: 0.1251 - accuracy: 0.9474\n",
      "Epoch 42: val_accuracy did not improve from 0.78400\n",
      "157/157 [==============================] - 4s 28ms/step - loss: 0.1251 - accuracy: 0.9473 - val_loss: 1.2487 - val_accuracy: 0.7456\n",
      "Epoch 43/50\n",
      "155/157 [============================>.] - ETA: 0s - loss: 0.0969 - accuracy: 0.9592\n",
      "Epoch 43: val_accuracy did not improve from 0.78400\n",
      "157/157 [==============================] - 4s 28ms/step - loss: 0.0970 - accuracy: 0.9591 - val_loss: 1.2950 - val_accuracy: 0.7538\n",
      "Epoch 44/50\n",
      "155/157 [============================>.] - ETA: 0s - loss: 0.0866 - accuracy: 0.9653\n",
      "Epoch 44: val_accuracy did not improve from 0.78400\n",
      "157/157 [==============================] - 4s 28ms/step - loss: 0.0870 - accuracy: 0.9653 - val_loss: 1.4492 - val_accuracy: 0.7456\n",
      "Epoch 45/50\n",
      "157/157 [==============================] - ETA: 0s - loss: 0.1154 - accuracy: 0.9544\n",
      "Epoch 45: val_accuracy did not improve from 0.78400\n",
      "157/157 [==============================] - 4s 27ms/step - loss: 0.1154 - accuracy: 0.9544 - val_loss: 1.2057 - val_accuracy: 0.7416\n",
      "Epoch 46/50\n",
      "155/157 [============================>.] - ETA: 0s - loss: 0.0785 - accuracy: 0.9690\n",
      "Epoch 46: val_accuracy did not improve from 0.78400\n",
      "157/157 [==============================] - 4s 27ms/step - loss: 0.0786 - accuracy: 0.9690 - val_loss: 1.5459 - val_accuracy: 0.7480\n",
      "Epoch 47/50\n",
      "155/157 [============================>.] - ETA: 0s - loss: 0.1045 - accuracy: 0.9590\n",
      "Epoch 47: val_accuracy did not improve from 0.78400\n",
      "157/157 [==============================] - 4s 27ms/step - loss: 0.1043 - accuracy: 0.9590 - val_loss: 1.2942 - val_accuracy: 0.7478\n",
      "Epoch 48/50\n",
      "157/157 [==============================] - ETA: 0s - loss: 0.0754 - accuracy: 0.9703\n",
      "Epoch 48: val_accuracy did not improve from 0.78400\n",
      "157/157 [==============================] - 4s 28ms/step - loss: 0.0754 - accuracy: 0.9703 - val_loss: 1.4817 - val_accuracy: 0.7424\n",
      "Epoch 49/50\n",
      "155/157 [============================>.] - ETA: 0s - loss: 0.0655 - accuracy: 0.9747\n",
      "Epoch 49: val_accuracy did not improve from 0.78400\n",
      "157/157 [==============================] - 4s 28ms/step - loss: 0.0654 - accuracy: 0.9748 - val_loss: 1.6121 - val_accuracy: 0.7478\n",
      "Epoch 50/50\n",
      "156/157 [============================>.] - ETA: 0s - loss: 0.0640 - accuracy: 0.9771\n",
      "Epoch 50: val_accuracy did not improve from 0.78400\n",
      "157/157 [==============================] - 5s 29ms/step - loss: 0.0640 - accuracy: 0.9771 - val_loss: 1.6026 - val_accuracy: 0.7404\n"
     ]
    },
    {
     "data": {
      "text/plain": [
       "<keras.callbacks.History at 0x1acc5fb3340>"
      ]
     },
     "execution_count": 75,
     "metadata": {},
     "output_type": "execute_result"
    }
   ],
   "source": [
    "model.compile('adam', loss=BinaryCrossentropy(), metrics='accuracy')\n",
    "\n",
    "model.fit(x=train_x,\n",
    "         y=train_y,\n",
    "         batch_size=128,\n",
    "         epochs=50,\n",
    "         validation_data=(val_x, val_y),\n",
    "         callbacks=callbacks)"
   ]
  },
  {
   "cell_type": "code",
   "execution_count": 77,
   "id": "9692c8d2",
   "metadata": {},
   "outputs": [],
   "source": [
    "model = load_model('./models_gru/checkpoint')"
   ]
  },
  {
   "cell_type": "code",
   "execution_count": 78,
   "id": "ff15827e",
   "metadata": {
    "scrolled": true
   },
   "outputs": [
    {
     "name": "stdout",
     "output_type": "stream",
     "text": [
      "f1 : 0.8432327166504382\n",
      "acc: 0.839\n"
     ]
    },
    {
     "data": {
      "image/png": "[encoded data removed]",
      "text/plain": [
       "<Figure size 432x288 with 2 Axes>"
      ]
     },
     "metadata": {
      "needs_background": "light"
     },
     "output_type": "display_data"
    }
   ],
   "source": [
    "predict_result(model, train_x[:1000], train_y[:1000])"
   ]
  },
  {
   "cell_type": "code",
   "execution_count": 79,
   "id": "aa1c0d45",
   "metadata": {},
   "outputs": [
    {
     "name": "stdout",
     "output_type": "stream",
     "text": [
      "f1 : 0.795838958151354\n",
      "acc: 0.79432\n"
     ]
    },
    {
     "data": {
      "image/png": "[encoded data removed]",
      "text/plain": [
       "<Figure size 432x288 with 2 Axes>"
      ]
     },
     "metadata": {
      "needs_background": "light"
     },
     "output_type": "display_data"
    }
   ],
   "source": [
    "predict_result(model, test_x, test_y)"
   ]
  },
  {
   "cell_type": "markdown",
   "id": "a972fac1",
   "metadata": {},
   "source": [
    "# Model 4 (Bi-LSTM)"
   ]
  },
  {
   "cell_type": "code",
   "execution_count": 80,
   "id": "e8eb82f7",
   "metadata": {},
   "outputs": [
    {
     "name": "stdout",
     "output_type": "stream",
     "text": [
      "Model: \"sequential_7\"\n",
      "_________________________________________________________________\n",
      " Layer (type)                Output Shape              Param #   \n",
      "=================================================================\n",
      " embedding_7 (Embedding)     (None, 300, 300)          76800     \n",
      "                                                                 \n",
      " bidirectional (Bidirectiona  (None, 252)              430416    \n",
      " l)                                                              \n",
      "                                                                 \n",
      " dropout_14 (Dropout)        (None, 252)               0         \n",
      "                                                                 \n",
      " dense_18 (Dense)            (None, 64)                16192     \n",
      "                                                                 \n",
      " dropout_15 (Dropout)        (None, 64)                0         \n",
      "                                                                 \n",
      " dense_19 (Dense)            (None, 2)                 130       \n",
      "                                                                 \n",
      "=================================================================\n",
      "Total params: 523,538\n",
      "Trainable params: 523,538\n",
      "Non-trainable params: 0\n",
      "_________________________________________________________________\n"
     ]
    }
   ],
   "source": [
    "model = Sequential([\n",
    "    Embedding(256, embedding_size, input_length=max_words),\n",
    "    Bidirectional(LSTM(126)),\n",
    "    Dropoutpout(0.4),\n",
    "    Dense(64, activation='relu'),\n",
    "    Dropout(0.4),\n",
    "    Dense(2, activation='sigmoid')\n",
    "])\n",
    "\n",
    "callbacks=[\n",
    "    ModelCheckpoint(filepath='./models_bilstm/checkpoint',\n",
    "                   save_best_only=True, verbose=1, monitor='val_accuracy')\n",
    "]\n",
    "model.summary()"
   ]
  },
  {
   "cell_type": "code",
   "execution_count": 81,
   "id": "be9eb1e8",
   "metadata": {},
   "outputs": [
    {
     "name": "stdout",
     "output_type": "stream",
     "text": [
      "Epoch 1/50\n",
      "157/157 [==============================] - ETA: 0s - loss: 0.5555 - accuracy: 0.7109\n",
      "Epoch 1: val_accuracy improved from -inf to 0.77120, saving model to ./models_bilstm\\checkpoint\n"
     ]
    },
    {
     "name": "stderr",
     "output_type": "stream",
     "text": [
      "WARNING:absl:Found untraced functions such as lstm_cell_8_layer_call_fn, lstm_cell_8_layer_call_and_return_conditional_losses, lstm_cell_9_layer_call_fn, lstm_cell_9_layer_call_and_return_conditional_losses while saving (showing 4 of 4). These functions will not be directly callable after loading.\n"
     ]
    },
    {
     "name": "stdout",
     "output_type": "stream",
     "text": [
      "INFO:tensorflow:Assets written to: ./models_bilstm\\checkpoint\\assets\n"
     ]
    },
    {
     "name": "stderr",
     "output_type": "stream",
     "text": [
      "INFO:tensorflow:Assets written to: ./models_bilstm\\checkpoint\\assets\n",
      "WARNING:absl:<keras.layers.recurrent.LSTMCell object at 0x000001ACBAF38CA0> has the same name 'LSTMCell' as a built-in Keras object. Consider renaming <class 'keras.layers.recurrent.LSTMCell'> to avoid naming conflicts when loading with `tf.keras.models.load_model`. If renaming is not possible, pass the object in the `custom_objects` parameter of the load function.\n",
      "WARNING:absl:<keras.layers.recurrent.LSTMCell object at 0x000001ACBAF32640> has the same name 'LSTMCell' as a built-in Keras object. Consider renaming <class 'keras.layers.recurrent.LSTMCell'> to avoid naming conflicts when loading with `tf.keras.models.load_model`. If renaming is not possible, pass the object in the `custom_objects` parameter of the load function.\n"
     ]
    },
    {
     "name": "stdout",
     "output_type": "stream",
     "text": [
      "157/157 [==============================] - 16s 93ms/step - loss: 0.5555 - accuracy: 0.7109 - val_loss: 0.4837 - val_accuracy: 0.7712\n",
      "Epoch 2/50\n",
      "157/157 [==============================] - ETA: 0s - loss: 0.4838 - accuracy: 0.7785\n",
      "Epoch 2: val_accuracy improved from 0.77120 to 0.77680, saving model to ./models_bilstm\\checkpoint\n"
     ]
    },
    {
     "name": "stderr",
     "output_type": "stream",
     "text": [
      "WARNING:absl:Found untraced functions such as lstm_cell_8_layer_call_fn, lstm_cell_8_layer_call_and_return_conditional_losses, lstm_cell_9_layer_call_fn, lstm_cell_9_layer_call_and_return_conditional_losses while saving (showing 4 of 4). These functions will not be directly callable after loading.\n"
     ]
    },
    {
     "name": "stdout",
     "output_type": "stream",
     "text": [
      "INFO:tensorflow:Assets written to: ./models_bilstm\\checkpoint\\assets\n"
     ]
    },
    {
     "name": "stderr",
     "output_type": "stream",
     "text": [
      "INFO:tensorflow:Assets written to: ./models_bilstm\\checkpoint\\assets\n",
      "WARNING:absl:<keras.layers.recurrent.LSTMCell object at 0x000001ACBAF38CA0> has the same name 'LSTMCell' as a built-in Keras object. Consider renaming <class 'keras.layers.recurrent.LSTMCell'> to avoid naming conflicts when loading with `tf.keras.models.load_model`. If renaming is not possible, pass the object in the `custom_objects` parameter of the load function.\n",
      "WARNING:absl:<keras.layers.recurrent.LSTMCell object at 0x000001ACBAF32640> has the same name 'LSTMCell' as a built-in Keras object. Consider renaming <class 'keras.layers.recurrent.LSTMCell'> to avoid naming conflicts when loading with `tf.keras.models.load_model`. If renaming is not possible, pass the object in the `custom_objects` parameter of the load function.\n"
     ]
    },
    {
     "name": "stdout",
     "output_type": "stream",
     "text": [
      "157/157 [==============================] - 14s 90ms/step - loss: 0.4838 - accuracy: 0.7785 - val_loss: 0.4684 - val_accuracy: 0.7768\n",
      "Epoch 3/50\n",
      "157/157 [==============================] - ETA: 0s - loss: 0.4636 - accuracy: 0.7878\n",
      "Epoch 3: val_accuracy did not improve from 0.77680\n",
      "157/157 [==============================] - 9s 55ms/step - loss: 0.4636 - accuracy: 0.7878 - val_loss: 0.4760 - val_accuracy: 0.7712\n",
      "Epoch 4/50\n",
      "156/157 [============================>.] - ETA: 0s - loss: 0.4581 - accuracy: 0.7890\n",
      "Epoch 4: val_accuracy did not improve from 0.77680\n",
      "157/157 [==============================] - 9s 55ms/step - loss: 0.4582 - accuracy: 0.7889 - val_loss: 0.4678 - val_accuracy: 0.7750\n",
      "Epoch 5/50\n",
      "156/157 [============================>.] - ETA: 0s - loss: 0.4578 - accuracy: 0.7896\n",
      "Epoch 5: val_accuracy did not improve from 0.77680\n",
      "157/157 [==============================] - 9s 54ms/step - loss: 0.4580 - accuracy: 0.7896 - val_loss: 0.4639 - val_accuracy: 0.7700\n",
      "Epoch 6/50\n",
      "157/157 [==============================] - ETA: 0s - loss: 0.4483 - accuracy: 0.7964\n",
      "Epoch 6: val_accuracy did not improve from 0.77680\n",
      "157/157 [==============================] - 9s 55ms/step - loss: 0.4483 - accuracy: 0.7964 - val_loss: 0.4752 - val_accuracy: 0.7674\n",
      "Epoch 7/50\n",
      "156/157 [============================>.] - ETA: 0s - loss: 0.4455 - accuracy: 0.7961\n",
      "Epoch 7: val_accuracy did not improve from 0.77680\n",
      "157/157 [==============================] - 9s 55ms/step - loss: 0.4456 - accuracy: 0.7961 - val_loss: 0.4752 - val_accuracy: 0.7722\n",
      "Epoch 8/50\n",
      "156/157 [============================>.] - ETA: 0s - loss: 0.4391 - accuracy: 0.7994\n",
      "Epoch 8: val_accuracy improved from 0.77680 to 0.77900, saving model to ./models_bilstm\\checkpoint\n"
     ]
    },
    {
     "name": "stderr",
     "output_type": "stream",
     "text": [
      "WARNING:absl:Found untraced functions such as lstm_cell_8_layer_call_fn, lstm_cell_8_layer_call_and_return_conditional_losses, lstm_cell_9_layer_call_fn, lstm_cell_9_layer_call_and_return_conditional_losses while saving (showing 4 of 4). These functions will not be directly callable after loading.\n"
     ]
    },
    {
     "name": "stdout",
     "output_type": "stream",
     "text": [
      "INFO:tensorflow:Assets written to: ./models_bilstm\\checkpoint\\assets\n"
     ]
    },
    {
     "name": "stderr",
     "output_type": "stream",
     "text": [
      "INFO:tensorflow:Assets written to: ./models_bilstm\\checkpoint\\assets\n",
      "WARNING:absl:<keras.layers.recurrent.LSTMCell object at 0x000001ACBAF38CA0> has the same name 'LSTMCell' as a built-in Keras object. Consider renaming <class 'keras.layers.recurrent.LSTMCell'> to avoid naming conflicts when loading with `tf.keras.models.load_model`. If renaming is not possible, pass the object in the `custom_objects` parameter of the load function.\n",
      "WARNING:absl:<keras.layers.recurrent.LSTMCell object at 0x000001ACBAF32640> has the same name 'LSTMCell' as a built-in Keras object. Consider renaming <class 'keras.layers.recurrent.LSTMCell'> to avoid naming conflicts when loading with `tf.keras.models.load_model`. If renaming is not possible, pass the object in the `custom_objects` parameter of the load function.\n"
     ]
    },
    {
     "name": "stdout",
     "output_type": "stream",
     "text": [
      "157/157 [==============================] - 14s 88ms/step - loss: 0.4389 - accuracy: 0.7995 - val_loss: 0.4574 - val_accuracy: 0.7790\n",
      "Epoch 9/50\n",
      "156/157 [============================>.] - ETA: 0s - loss: 0.4302 - accuracy: 0.8051\n",
      "Epoch 9: val_accuracy did not improve from 0.77900\n",
      "157/157 [==============================] - 9s 55ms/step - loss: 0.4302 - accuracy: 0.8050 - val_loss: 0.4689 - val_accuracy: 0.7748\n",
      "Epoch 10/50\n",
      "157/157 [==============================] - ETA: 0s - loss: 0.4257 - accuracy: 0.8054\n",
      "Epoch 10: val_accuracy did not improve from 0.77900\n",
      "157/157 [==============================] - 9s 55ms/step - loss: 0.4257 - accuracy: 0.8054 - val_loss: 0.4706 - val_accuracy: 0.7744\n",
      "Epoch 11/50\n",
      "156/157 [============================>.] - ETA: 0s - loss: 0.4197 - accuracy: 0.8081\n",
      "Epoch 11: val_accuracy improved from 0.77900 to 0.78160, saving model to ./models_bilstm\\checkpoint\n"
     ]
    },
    {
     "name": "stderr",
     "output_type": "stream",
     "text": [
      "WARNING:absl:Found untraced functions such as lstm_cell_8_layer_call_fn, lstm_cell_8_layer_call_and_return_conditional_losses, lstm_cell_9_layer_call_fn, lstm_cell_9_layer_call_and_return_conditional_losses while saving (showing 4 of 4). These functions will not be directly callable after loading.\n"
     ]
    },
    {
     "name": "stdout",
     "output_type": "stream",
     "text": [
      "INFO:tensorflow:Assets written to: ./models_bilstm\\checkpoint\\assets\n"
     ]
    },
    {
     "name": "stderr",
     "output_type": "stream",
     "text": [
      "INFO:tensorflow:Assets written to: ./models_bilstm\\checkpoint\\assets\n",
      "WARNING:absl:<keras.layers.recurrent.LSTMCell object at 0x000001ACBAF38CA0> has the same name 'LSTMCell' as a built-in Keras object. Consider renaming <class 'keras.layers.recurrent.LSTMCell'> to avoid naming conflicts when loading with `tf.keras.models.load_model`. If renaming is not possible, pass the object in the `custom_objects` parameter of the load function.\n",
      "WARNING:absl:<keras.layers.recurrent.LSTMCell object at 0x000001ACBAF32640> has the same name 'LSTMCell' as a built-in Keras object. Consider renaming <class 'keras.layers.recurrent.LSTMCell'> to avoid naming conflicts when loading with `tf.keras.models.load_model`. If renaming is not possible, pass the object in the `custom_objects` parameter of the load function.\n"
     ]
    },
    {
     "name": "stdout",
     "output_type": "stream",
     "text": [
      "157/157 [==============================] - 14s 91ms/step - loss: 0.4194 - accuracy: 0.8083 - val_loss: 0.4789 - val_accuracy: 0.7816\n",
      "Epoch 12/50\n",
      "156/157 [============================>.] - ETA: 0s - loss: 0.4143 - accuracy: 0.8085\n",
      "Epoch 12: val_accuracy did not improve from 0.78160\n",
      "157/157 [==============================] - 9s 55ms/step - loss: 0.4142 - accuracy: 0.8087 - val_loss: 0.4923 - val_accuracy: 0.7636\n",
      "Epoch 13/50\n",
      "156/157 [============================>.] - ETA: 0s - loss: 0.4169 - accuracy: 0.8112\n",
      "Epoch 13: val_accuracy did not improve from 0.78160\n",
      "157/157 [==============================] - 9s 54ms/step - loss: 0.4169 - accuracy: 0.8112 - val_loss: 0.4862 - val_accuracy: 0.7698\n",
      "Epoch 14/50\n",
      "156/157 [============================>.] - ETA: 0s - loss: 0.4111 - accuracy: 0.8132\n",
      "Epoch 14: val_accuracy did not improve from 0.78160\n",
      "157/157 [==============================] - 9s 54ms/step - loss: 0.4110 - accuracy: 0.8131 - val_loss: 0.4745 - val_accuracy: 0.7704\n",
      "Epoch 15/50\n",
      "156/157 [============================>.] - ETA: 0s - loss: 0.4035 - accuracy: 0.8188\n",
      "Epoch 15: val_accuracy did not improve from 0.78160\n",
      "157/157 [==============================] - 8s 54ms/step - loss: 0.4036 - accuracy: 0.8187 - val_loss: 0.4850 - val_accuracy: 0.7792\n",
      "Epoch 16/50\n",
      "156/157 [============================>.] - ETA: 0s - loss: 0.3950 - accuracy: 0.8209\n",
      "Epoch 16: val_accuracy did not improve from 0.78160\n",
      "157/157 [==============================] - 8s 54ms/step - loss: 0.3951 - accuracy: 0.8209 - val_loss: 0.4780 - val_accuracy: 0.7678\n",
      "Epoch 17/50\n",
      "156/157 [============================>.] - ETA: 0s - loss: 0.4043 - accuracy: 0.8138\n",
      "Epoch 17: val_accuracy did not improve from 0.78160\n",
      "157/157 [==============================] - 9s 55ms/step - loss: 0.4040 - accuracy: 0.8140 - val_loss: 0.4948 - val_accuracy: 0.7752\n",
      "Epoch 18/50\n",
      "156/157 [============================>.] - ETA: 0s - loss: 0.3861 - accuracy: 0.8254\n",
      "Epoch 18: val_accuracy did not improve from 0.78160\n",
      "157/157 [==============================] - 9s 54ms/step - loss: 0.3861 - accuracy: 0.8255 - val_loss: 0.4896 - val_accuracy: 0.7810\n",
      "Epoch 19/50\n",
      "156/157 [============================>.] - ETA: 0s - loss: 0.3800 - accuracy: 0.8274\n",
      "Epoch 19: val_accuracy did not improve from 0.78160\n",
      "157/157 [==============================] - 9s 54ms/step - loss: 0.3800 - accuracy: 0.8274 - val_loss: 0.4934 - val_accuracy: 0.7668\n",
      "Epoch 20/50\n",
      "157/157 [==============================] - ETA: 0s - loss: 0.3767 - accuracy: 0.8300\n",
      "Epoch 20: val_accuracy did not improve from 0.78160\n",
      "157/157 [==============================] - 9s 55ms/step - loss: 0.3767 - accuracy: 0.8300 - val_loss: 0.5055 - val_accuracy: 0.7738\n",
      "Epoch 21/50\n",
      "156/157 [============================>.] - ETA: 0s - loss: 0.3668 - accuracy: 0.8343\n",
      "Epoch 21: val_accuracy did not improve from 0.78160\n",
      "157/157 [==============================] - 9s 55ms/step - loss: 0.3668 - accuracy: 0.8343 - val_loss: 0.5048 - val_accuracy: 0.7720\n",
      "Epoch 22/50\n",
      "156/157 [============================>.] - ETA: 0s - loss: 0.3566 - accuracy: 0.8367\n",
      "Epoch 22: val_accuracy did not improve from 0.78160\n",
      "157/157 [==============================] - 9s 55ms/step - loss: 0.3565 - accuracy: 0.8368 - val_loss: 0.5026 - val_accuracy: 0.7814\n",
      "Epoch 23/50\n",
      "156/157 [============================>.] - ETA: 0s - loss: 0.3543 - accuracy: 0.8375\n",
      "Epoch 23: val_accuracy improved from 0.78160 to 0.78200, saving model to ./models_bilstm\\checkpoint\n"
     ]
    },
    {
     "name": "stderr",
     "output_type": "stream",
     "text": [
      "WARNING:absl:Found untraced functions such as lstm_cell_8_layer_call_fn, lstm_cell_8_layer_call_and_return_conditional_losses, lstm_cell_9_layer_call_fn, lstm_cell_9_layer_call_and_return_conditional_losses while saving (showing 4 of 4). These functions will not be directly callable after loading.\n"
     ]
    },
    {
     "name": "stdout",
     "output_type": "stream",
     "text": [
      "INFO:tensorflow:Assets written to: ./models_bilstm\\checkpoint\\assets\n"
     ]
    },
    {
     "name": "stderr",
     "output_type": "stream",
     "text": [
      "INFO:tensorflow:Assets written to: ./models_bilstm\\checkpoint\\assets\n",
      "WARNING:absl:<keras.layers.recurrent.LSTMCell object at 0x000001ACBAF38CA0> has the same name 'LSTMCell' as a built-in Keras object. Consider renaming <class 'keras.layers.recurrent.LSTMCell'> to avoid naming conflicts when loading with `tf.keras.models.load_model`. If renaming is not possible, pass the object in the `custom_objects` parameter of the load function.\n",
      "WARNING:absl:<keras.layers.recurrent.LSTMCell object at 0x000001ACBAF32640> has the same name 'LSTMCell' as a built-in Keras object. Consider renaming <class 'keras.layers.recurrent.LSTMCell'> to avoid naming conflicts when loading with `tf.keras.models.load_model`. If renaming is not possible, pass the object in the `custom_objects` parameter of the load function.\n"
     ]
    },
    {
     "name": "stdout",
     "output_type": "stream",
     "text": [
      "157/157 [==============================] - 14s 91ms/step - loss: 0.3542 - accuracy: 0.8375 - val_loss: 0.5121 - val_accuracy: 0.7820\n",
      "Epoch 24/50\n",
      "156/157 [============================>.] - ETA: 0s - loss: 0.3384 - accuracy: 0.8473\n",
      "Epoch 24: val_accuracy did not improve from 0.78200\n",
      "157/157 [==============================] - 9s 55ms/step - loss: 0.3384 - accuracy: 0.8474 - val_loss: 0.5445 - val_accuracy: 0.7738\n",
      "Epoch 25/50\n",
      "156/157 [============================>.] - ETA: 0s - loss: 0.3786 - accuracy: 0.8237\n",
      "Epoch 25: val_accuracy did not improve from 0.78200\n",
      "157/157 [==============================] - 9s 54ms/step - loss: 0.3783 - accuracy: 0.8239 - val_loss: 0.5212 - val_accuracy: 0.7680\n",
      "Epoch 26/50\n",
      "157/157 [==============================] - ETA: 0s - loss: 0.3323 - accuracy: 0.8472\n",
      "Epoch 26: val_accuracy did not improve from 0.78200\n",
      "157/157 [==============================] - 9s 55ms/step - loss: 0.3323 - accuracy: 0.8472 - val_loss: 0.5634 - val_accuracy: 0.7762\n",
      "Epoch 27/50\n",
      "156/157 [============================>.] - ETA: 0s - loss: 0.3193 - accuracy: 0.8546\n",
      "Epoch 27: val_accuracy did not improve from 0.78200\n",
      "157/157 [==============================] - 9s 54ms/step - loss: 0.3193 - accuracy: 0.8546 - val_loss: 0.5677 - val_accuracy: 0.7756\n",
      "Epoch 28/50\n",
      "157/157 [==============================] - ETA: 0s - loss: 0.3124 - accuracy: 0.8556\n",
      "Epoch 28: val_accuracy did not improve from 0.78200\n",
      "157/157 [==============================] - 9s 54ms/step - loss: 0.3124 - accuracy: 0.8556 - val_loss: 0.6008 - val_accuracy: 0.7742\n",
      "Epoch 29/50\n",
      "156/157 [============================>.] - ETA: 0s - loss: 0.3037 - accuracy: 0.8626\n",
      "Epoch 29: val_accuracy did not improve from 0.78200\n",
      "157/157 [==============================] - 9s 55ms/step - loss: 0.3036 - accuracy: 0.8627 - val_loss: 0.5669 - val_accuracy: 0.7660\n",
      "Epoch 30/50\n",
      "156/157 [============================>.] - ETA: 0s - loss: 0.2919 - accuracy: 0.8678\n",
      "Epoch 30: val_accuracy did not improve from 0.78200\n",
      "157/157 [==============================] - 9s 55ms/step - loss: 0.2919 - accuracy: 0.8678 - val_loss: 0.6315 - val_accuracy: 0.7522\n",
      "Epoch 31/50\n",
      "156/157 [============================>.] - ETA: 0s - loss: 0.2760 - accuracy: 0.8734\n",
      "Epoch 31: val_accuracy did not improve from 0.78200\n",
      "157/157 [==============================] - 9s 54ms/step - loss: 0.2759 - accuracy: 0.8735 - val_loss: 0.6760 - val_accuracy: 0.7582\n",
      "Epoch 32/50\n",
      "156/157 [============================>.] - ETA: 0s - loss: 0.2678 - accuracy: 0.8779\n",
      "Epoch 32: val_accuracy did not improve from 0.78200\n",
      "157/157 [==============================] - 9s 55ms/step - loss: 0.2677 - accuracy: 0.8780 - val_loss: 0.6563 - val_accuracy: 0.7652\n",
      "Epoch 33/50\n",
      "157/157 [==============================] - ETA: 0s - loss: 0.2448 - accuracy: 0.8895\n",
      "Epoch 33: val_accuracy did not improve from 0.78200\n",
      "157/157 [==============================] - 9s 54ms/step - loss: 0.2448 - accuracy: 0.8895 - val_loss: 0.7314 - val_accuracy: 0.7592\n",
      "Epoch 34/50\n",
      "156/157 [============================>.] - ETA: 0s - loss: 0.2358 - accuracy: 0.8929\n",
      "Epoch 34: val_accuracy did not improve from 0.78200\n",
      "157/157 [==============================] - 9s 55ms/step - loss: 0.2358 - accuracy: 0.8929 - val_loss: 0.7853 - val_accuracy: 0.7558\n",
      "Epoch 35/50\n",
      "157/157 [==============================] - ETA: 0s - loss: 0.2357 - accuracy: 0.8955\n",
      "Epoch 35: val_accuracy did not improve from 0.78200\n",
      "157/157 [==============================] - 9s 55ms/step - loss: 0.2357 - accuracy: 0.8955 - val_loss: 0.7512 - val_accuracy: 0.7578\n",
      "Epoch 36/50\n",
      "156/157 [============================>.] - ETA: 0s - loss: 0.2118 - accuracy: 0.9044\n",
      "Epoch 36: val_accuracy did not improve from 0.78200\n",
      "157/157 [==============================] - 9s 55ms/step - loss: 0.2120 - accuracy: 0.9043 - val_loss: 0.8338 - val_accuracy: 0.7490\n",
      "Epoch 37/50\n",
      "156/157 [============================>.] - ETA: 0s - loss: 0.2139 - accuracy: 0.9068\n",
      "Epoch 37: val_accuracy did not improve from 0.78200\n",
      "157/157 [==============================] - 9s 55ms/step - loss: 0.2138 - accuracy: 0.9068 - val_loss: 0.9145 - val_accuracy: 0.7576\n",
      "Epoch 38/50\n",
      "157/157 [==============================] - ETA: 0s - loss: 0.1944 - accuracy: 0.9136\n",
      "Epoch 38: val_accuracy did not improve from 0.78200\n",
      "157/157 [==============================] - 9s 54ms/step - loss: 0.1944 - accuracy: 0.9136 - val_loss: 0.9183 - val_accuracy: 0.7506\n",
      "Epoch 39/50\n",
      "156/157 [============================>.] - ETA: 0s - loss: 0.1787 - accuracy: 0.9218\n",
      "Epoch 39: val_accuracy did not improve from 0.78200\n",
      "157/157 [==============================] - 9s 54ms/step - loss: 0.1786 - accuracy: 0.9218 - val_loss: 1.0056 - val_accuracy: 0.7580\n",
      "Epoch 40/50\n",
      "156/157 [============================>.] - ETA: 0s - loss: 0.1694 - accuracy: 0.9261\n",
      "Epoch 40: val_accuracy did not improve from 0.78200\n",
      "157/157 [==============================] - 9s 55ms/step - loss: 0.1692 - accuracy: 0.9262 - val_loss: 0.9802 - val_accuracy: 0.7498\n",
      "Epoch 41/50\n",
      "156/157 [============================>.] - ETA: 0s - loss: 0.1704 - accuracy: 0.9264\n",
      "Epoch 41: val_accuracy did not improve from 0.78200\n",
      "157/157 [==============================] - 9s 54ms/step - loss: 0.1706 - accuracy: 0.9264 - val_loss: 0.9625 - val_accuracy: 0.7522\n",
      "Epoch 42/50\n",
      "156/157 [============================>.] - ETA: 0s - loss: 0.1422 - accuracy: 0.9408\n",
      "Epoch 42: val_accuracy did not improve from 0.78200\n",
      "157/157 [==============================] - 9s 54ms/step - loss: 0.1422 - accuracy: 0.9408 - val_loss: 1.0918 - val_accuracy: 0.7480\n",
      "Epoch 43/50\n",
      "156/157 [============================>.] - ETA: 0s - loss: 0.1401 - accuracy: 0.9404\n",
      "Epoch 43: val_accuracy did not improve from 0.78200\n",
      "157/157 [==============================] - 9s 56ms/step - loss: 0.1399 - accuracy: 0.9405 - val_loss: 1.1066 - val_accuracy: 0.7520\n",
      "Epoch 44/50\n",
      "156/157 [============================>.] - ETA: 0s - loss: 0.1299 - accuracy: 0.9467\n",
      "Epoch 44: val_accuracy did not improve from 0.78200\n",
      "157/157 [==============================] - 9s 54ms/step - loss: 0.1299 - accuracy: 0.9467 - val_loss: 1.2876 - val_accuracy: 0.7490\n",
      "Epoch 45/50\n",
      "156/157 [============================>.] - ETA: 0s - loss: 0.1366 - accuracy: 0.9434\n",
      "Epoch 45: val_accuracy did not improve from 0.78200\n",
      "157/157 [==============================] - 9s 55ms/step - loss: 0.1365 - accuracy: 0.9434 - val_loss: 1.1560 - val_accuracy: 0.7502\n",
      "Epoch 46/50\n",
      "156/157 [============================>.] - ETA: 0s - loss: 0.1095 - accuracy: 0.9545\n",
      "Epoch 46: val_accuracy did not improve from 0.78200\n",
      "157/157 [==============================] - 9s 54ms/step - loss: 0.1095 - accuracy: 0.9546 - val_loss: 1.3127 - val_accuracy: 0.7434\n",
      "Epoch 47/50\n",
      "156/157 [============================>.] - ETA: 0s - loss: 0.1057 - accuracy: 0.9573\n",
      "Epoch 47: val_accuracy did not improve from 0.78200\n",
      "157/157 [==============================] - 9s 55ms/step - loss: 0.1057 - accuracy: 0.9574 - val_loss: 1.2985 - val_accuracy: 0.7436\n",
      "Epoch 48/50\n",
      "156/157 [============================>.] - ETA: 0s - loss: 0.1218 - accuracy: 0.9514\n",
      "Epoch 48: val_accuracy did not improve from 0.78200\n",
      "157/157 [==============================] - 9s 55ms/step - loss: 0.1217 - accuracy: 0.9513 - val_loss: 1.3364 - val_accuracy: 0.7390\n",
      "Epoch 49/50\n",
      "156/157 [============================>.] - ETA: 0s - loss: 0.1102 - accuracy: 0.9578\n",
      "Epoch 49: val_accuracy did not improve from 0.78200\n",
      "157/157 [==============================] - 9s 54ms/step - loss: 0.1103 - accuracy: 0.9578 - val_loss: 1.3061 - val_accuracy: 0.7406\n",
      "Epoch 50/50\n",
      "156/157 [============================>.] - ETA: 0s - loss: 0.0865 - accuracy: 0.9655\n",
      "Epoch 50: val_accuracy did not improve from 0.78200\n",
      "157/157 [==============================] - 9s 55ms/step - loss: 0.0866 - accuracy: 0.9654 - val_loss: 1.4263 - val_accuracy: 0.7406\n"
     ]
    },
    {
     "data": {
      "text/plain": [
       "<keras.callbacks.History at 0x1acb9e3b610>"
      ]
     },
     "execution_count": 81,
     "metadata": {},
     "output_type": "execute_result"
    }
   ],
   "source": [
    "model.compile('adam', loss=BinaryCrossentropy(), metrics='accuracy')\n",
    "\n",
    "model.fit(x=train_x,\n",
    "         y=train_y,\n",
    "         batch_size=128,\n",
    "         epochs=50,\n",
    "         validation_data=(val_x, val_y),\n",
    "         callbacks=callbacks)"
   ]
  },
  {
   "cell_type": "code",
   "execution_count": 82,
   "id": "4c7d85e9",
   "metadata": {},
   "outputs": [],
   "source": [
    "model = load_model('./models_bilstm/checkpoint')"
   ]
  },
  {
   "cell_type": "code",
   "execution_count": 83,
   "id": "613abd49",
   "metadata": {},
   "outputs": [
    {
     "name": "stdout",
     "output_type": "stream",
     "text": [
      "f1 : 0.8826382153249274\n",
      "acc: 0.879\n"
     ]
    },
    {
     "data": {
      "image/png": "[encoded data removed]",
      "text/plain": [
       "<Figure size 432x288 with 2 Axes>"
      ]
     },
     "metadata": {
      "needs_background": "light"
     },
     "output_type": "display_data"
    }
   ],
   "source": [
    "predict_result(model, train_x[:1000], train_y[:1000])"
   ]
  },
  {
   "cell_type": "code",
   "execution_count": 84,
   "id": "08ebffe5",
   "metadata": {},
   "outputs": [
    {
     "name": "stdout",
     "output_type": "stream",
     "text": [
      "f1 : 0.7855303396104941\n",
      "acc: 0.7868\n"
     ]
    },
    {
     "data": {
      "image/png": "[encoded data removed]",
      "text/plain": [
       "<Figure size 432x288 with 2 Axes>"
      ]
     },
     "metadata": {
      "needs_background": "light"
     },
     "output_type": "display_data"
    }
   ],
   "source": [
    "predict_result(model, test_x, test_y)"
   ]
  },
  {
   "cell_type": "markdown",
   "id": "315550f2",
   "metadata": {},
   "source": [
    "# Feature 3 (Glove Embeddings)"
   ]
  },
  {
   "cell_type": "code",
   "execution_count": 120,
   "id": "6027bd15",
   "metadata": {},
   "outputs": [
    {
     "data": {
      "application/vnd.jupyter.widget-view+json": {
       "model_id": "7f10fb8f8f9f4a999a0e49337245877e",
       "version_major": 2,
       "version_minor": 0
      },
      "text/plain": [
       "0it [00:00, ?it/s]"
      ]
     },
     "metadata": {},
     "output_type": "display_data"
    },
    {
     "data": {
      "text/plain": [
       "400000"
      ]
     },
     "execution_count": 120,
     "metadata": {},
     "output_type": "execute_result"
    }
   ],
   "source": [
    "path = './glove.6B/glove.6B.300d.txt'\n",
    "\n",
    "embeddings_index = {}\n",
    "\n",
    "with open(path, encoding='utf8') as f:\n",
    "    for line in tqdm_notebook(f):\n",
    "        word, coef = line.split(maxsplit=1)\n",
    "        coef = np.fromstring(coef, 'f', sep=' ')\n",
    "        embeddings_index[word] = coef\n",
    "        \n",
    "len(embeddings_index)"
   ]
  },
  {
   "cell_type": "code",
   "execution_count": 122,
   "id": "55fc6de8",
   "metadata": {},
   "outputs": [
    {
     "name": "stdout",
     "output_type": "stream",
     "text": [
      "Converted 18459 words (1541 misses)\n"
     ]
    }
   ],
   "source": [
    "embedding_dim = 300\n",
    "\n",
    "num_tokens = len(vocab) + 2\n",
    "\n",
    "hits = 0\n",
    "misses = 0\n",
    "\n",
    "# Prepare embedding matrix\n",
    "embedding_matrix = np.zeros((num_tokens, embedding_dim))\n",
    "\n",
    "for word, i in word_index.items():\n",
    "    embedding_vector = embeddings_index.get(word)\n",
    "    if embedding_vector is not None :\n",
    "        # Words not found in embedding index will be all-zeros.\n",
    "        # This includes the representation for \"padding\" and \"OOV\"\n",
    "        embedding_matrix[i] = embedding_vector\n",
    "        hits += 1\n",
    "    else:\n",
    "        misses += 1\n",
    "print(\"Converted %d words (%d misses)\" % (hits, misses))"
   ]
  },
  {
   "cell_type": "code",
   "execution_count": 126,
   "id": "a123a9ba",
   "metadata": {},
   "outputs": [],
   "source": [
    "def get_vector_and_one_hot(df):\n",
    "    x = vectorizer(np.array([[s] for s in tqdm_notebook(df['text'])])).numpy() \n",
    "    y = df['label'].apply(one_hot).tolist()\n",
    "    y = np.array(y)\n",
    "    return x, y"
   ]
  },
  {
   "cell_type": "code",
   "execution_count": 127,
   "id": "36bad41f",
   "metadata": {},
   "outputs": [
    {
     "data": {
      "application/vnd.jupyter.widget-view+json": {
       "model_id": "b7d33dc004b847799feccea2b566821f",
       "version_major": 2,
       "version_minor": 0
      },
      "text/plain": [
       "  0%|          | 0/25000 [00:00<?, ?it/s]"
      ]
     },
     "metadata": {},
     "output_type": "display_data"
    },
    {
     "data": {
      "application/vnd.jupyter.widget-view+json": {
       "model_id": "987cb602a5714185b7c90a193d6eb02f",
       "version_major": 2,
       "version_minor": 0
      },
      "text/plain": [
       "  0%|          | 0/25000 [00:00<?, ?it/s]"
      ]
     },
     "metadata": {},
     "output_type": "display_data"
    }
   ],
   "source": [
    "train_val_x, train_val_y = get_vector_and_one_hot(train_df)\n",
    "test_x, test_y = get_vector_and_one_hot(test_df)"
   ]
  },
  {
   "cell_type": "code",
   "execution_count": 128,
   "id": "711083fe",
   "metadata": {},
   "outputs": [],
   "source": [
    "train_x, val_x = train_val_x[:train_len], train_val_x[train_len:]\n",
    "train_y, val_y = train_val_y[:train_len], train_val_y[train_len:]"
   ]
  },
  {
   "cell_type": "markdown",
   "id": "f12abb91",
   "metadata": {},
   "source": [
    "# Model 4 "
   ]
  },
  {
   "cell_type": "code",
   "execution_count": 150,
   "id": "5123dcf4",
   "metadata": {
    "scrolled": true
   },
   "outputs": [
    {
     "name": "stdout",
     "output_type": "stream",
     "text": [
      "Model: \"model_5\"\n",
      "_________________________________________________________________\n",
      " Layer (type)                Output Shape              Param #   \n",
      "=================================================================\n",
      " input_10 (InputLayer)       [(None, None)]            0         \n",
      "                                                                 \n",
      " embedding_18 (Embedding)    (None, None, 300)         6000600   \n",
      "                                                                 \n",
      " dense_42 (Dense)            (None, None, 256)         77056     \n",
      "                                                                 \n",
      " dropout_28 (Dropout)        (None, None, 256)         0         \n",
      "                                                                 \n",
      " dense_43 (Dense)            (None, None, 256)         65792     \n",
      "                                                                 \n",
      " dropout_29 (Dropout)        (None, None, 256)         0         \n",
      "                                                                 \n",
      " dense_44 (Dense)            (None, None, 256)         65792     \n",
      "                                                                 \n",
      " global_max_pooling1d_6 (Glo  (None, 256)              0         \n",
      " balMaxPooling1D)                                                \n",
      "                                                                 \n",
      " dense_45 (Dense)            (None, 2)                 514       \n",
      "                                                                 \n",
      "=================================================================\n",
      "Total params: 6,209,754\n",
      "Trainable params: 209,154\n",
      "Non-trainable params: 6,000,600\n",
      "_________________________________________________________________\n"
     ]
    }
   ],
   "source": [
    "embedding_layer = Embedding(\n",
    "    num_tokens,\n",
    "    embedding_dim,\n",
    "    embeddings_initializer=tf.keras.initializers.Constant(embedding_matrix),\n",
    "    trainable=False,\n",
    ")\n",
    "int_sequences_input = tf.keras.Input(shape=(None,), dtype=\"int64\")\n",
    "embedded_sequences = embedding_layer(int_sequences_input)\n",
    "x = Dense(256, activation=\"relu\")(embedded_sequences)\n",
    "x = Dropout(0.5)(x)\n",
    "x = Dense(256, activation=\"relu\")(x)\n",
    "x = Dropout(0.5)(x)\n",
    "x = Dense(256, activation=\"relu\")(x)\n",
    "x = GlobalMaxPooling1D()(x)\n",
    "\n",
    "preds = Dense(2, activation=\"sigmoid\")(x)\n",
    "\n",
    "model = tf.keras.Model(int_sequences_input, preds)\n",
    "\n",
    "callbacks=[\n",
    "    ModelCheckpoint(filepath='./models_glove_ffnn/checkpoint',\n",
    "                   save_best_only=True, monitor='val_accuracy', verbose=1)\n",
    "]\n",
    "\n",
    "model.summary()"
   ]
  },
  {
   "cell_type": "code",
   "execution_count": 151,
   "id": "3a0420cc",
   "metadata": {},
   "outputs": [
    {
     "name": "stdout",
     "output_type": "stream",
     "text": [
      "Epoch 1/100\n",
      "155/157 [============================>.] - ETA: 0s - loss: 0.5261 - accuracy: 0.7231\n",
      "Epoch 1: val_accuracy improved from -inf to 0.78900, saving model to ./models_glove_ffnn\\checkpoint\n",
      "INFO:tensorflow:Assets written to: ./models_glove_ffnn\\checkpoint\\assets\n"
     ]
    },
    {
     "name": "stderr",
     "output_type": "stream",
     "text": [
      "INFO:tensorflow:Assets written to: ./models_glove_ffnn\\checkpoint\\assets\n"
     ]
    },
    {
     "name": "stdout",
     "output_type": "stream",
     "text": [
      "157/157 [==============================] - 21s 130ms/step - loss: 0.5248 - accuracy: 0.7240 - val_loss: 0.4457 - val_accuracy: 0.7890\n",
      "Epoch 2/100\n",
      "156/157 [============================>.] - ETA: 0s - loss: 0.3914 - accuracy: 0.8296\n",
      "Epoch 2: val_accuracy improved from 0.78900 to 0.83300, saving model to ./models_glove_ffnn\\checkpoint\n",
      "INFO:tensorflow:Assets written to: ./models_glove_ffnn\\checkpoint\\assets\n"
     ]
    },
    {
     "name": "stderr",
     "output_type": "stream",
     "text": [
      "INFO:tensorflow:Assets written to: ./models_glove_ffnn\\checkpoint\\assets\n"
     ]
    },
    {
     "name": "stdout",
     "output_type": "stream",
     "text": [
      "157/157 [==============================] - 21s 132ms/step - loss: 0.3913 - accuracy: 0.8298 - val_loss: 0.4245 - val_accuracy: 0.8330\n",
      "Epoch 3/100\n",
      "155/157 [============================>.] - ETA: 0s - loss: 0.3670 - accuracy: 0.8394\n",
      "Epoch 3: val_accuracy improved from 0.83300 to 0.84280, saving model to ./models_glove_ffnn\\checkpoint\n",
      "INFO:tensorflow:Assets written to: ./models_glove_ffnn\\checkpoint\\assets\n"
     ]
    },
    {
     "name": "stderr",
     "output_type": "stream",
     "text": [
      "INFO:tensorflow:Assets written to: ./models_glove_ffnn\\checkpoint\\assets\n"
     ]
    },
    {
     "name": "stdout",
     "output_type": "stream",
     "text": [
      "157/157 [==============================] - 21s 135ms/step - loss: 0.3667 - accuracy: 0.8395 - val_loss: 0.4200 - val_accuracy: 0.8428\n",
      "Epoch 4/100\n",
      "155/157 [============================>.] - ETA: 0s - loss: 0.3491 - accuracy: 0.8497\n",
      "Epoch 4: val_accuracy did not improve from 0.84280\n",
      "157/157 [==============================] - 2s 15ms/step - loss: 0.3487 - accuracy: 0.8498 - val_loss: 0.4513 - val_accuracy: 0.7950\n",
      "Epoch 5/100\n",
      "153/157 [============================>.] - ETA: 0s - loss: 0.3341 - accuracy: 0.8569\n",
      "Epoch 5: val_accuracy did not improve from 0.84280\n",
      "157/157 [==============================] - 2s 15ms/step - loss: 0.3353 - accuracy: 0.8566 - val_loss: 0.4726 - val_accuracy: 0.7674\n",
      "Epoch 6/100\n",
      "153/157 [============================>.] - ETA: 0s - loss: 0.3375 - accuracy: 0.8542\n",
      "Epoch 6: val_accuracy did not improve from 0.84280\n",
      "157/157 [==============================] - 2s 15ms/step - loss: 0.3371 - accuracy: 0.8548 - val_loss: 0.4324 - val_accuracy: 0.8154\n",
      "Epoch 7/100\n",
      "153/157 [============================>.] - ETA: 0s - loss: 0.3210 - accuracy: 0.8634\n",
      "Epoch 7: val_accuracy did not improve from 0.84280\n",
      "157/157 [==============================] - 2s 15ms/step - loss: 0.3207 - accuracy: 0.8632 - val_loss: 0.4296 - val_accuracy: 0.8218\n",
      "Epoch 8/100\n",
      "153/157 [============================>.] - ETA: 0s - loss: 0.3205 - accuracy: 0.8622\n",
      "Epoch 8: val_accuracy did not improve from 0.84280\n",
      "157/157 [==============================] - 2s 15ms/step - loss: 0.3197 - accuracy: 0.8626 - val_loss: 0.4599 - val_accuracy: 0.7824\n",
      "Epoch 9/100\n",
      "153/157 [============================>.] - ETA: 0s - loss: 0.3100 - accuracy: 0.8692\n",
      "Epoch 9: val_accuracy did not improve from 0.84280\n",
      "157/157 [==============================] - 2s 15ms/step - loss: 0.3102 - accuracy: 0.8691 - val_loss: 0.4230 - val_accuracy: 0.8234\n",
      "Epoch 10/100\n",
      "153/157 [============================>.] - ETA: 0s - loss: 0.2986 - accuracy: 0.8734\n",
      "Epoch 10: val_accuracy did not improve from 0.84280\n",
      "157/157 [==============================] - 2s 15ms/step - loss: 0.2990 - accuracy: 0.8733 - val_loss: 0.4518 - val_accuracy: 0.7716\n",
      "Epoch 11/100\n",
      "153/157 [============================>.] - ETA: 0s - loss: 0.2947 - accuracy: 0.8754\n",
      "Epoch 11: val_accuracy improved from 0.84280 to 0.84320, saving model to ./models_glove_ffnn\\checkpoint\n",
      "INFO:tensorflow:Assets written to: ./models_glove_ffnn\\checkpoint\\assets\n"
     ]
    },
    {
     "name": "stderr",
     "output_type": "stream",
     "text": [
      "INFO:tensorflow:Assets written to: ./models_glove_ffnn\\checkpoint\\assets\n"
     ]
    },
    {
     "name": "stdout",
     "output_type": "stream",
     "text": [
      "157/157 [==============================] - 21s 132ms/step - loss: 0.2944 - accuracy: 0.8758 - val_loss: 0.4044 - val_accuracy: 0.8432\n",
      "Epoch 12/100\n",
      "156/157 [============================>.] - ETA: 0s - loss: 0.3007 - accuracy: 0.8733\n",
      "Epoch 12: val_accuracy did not improve from 0.84320\n",
      "157/157 [==============================] - 2s 15ms/step - loss: 0.3007 - accuracy: 0.8734 - val_loss: 0.4332 - val_accuracy: 0.8080\n",
      "Epoch 13/100\n",
      "153/157 [============================>.] - ETA: 0s - loss: 0.2866 - accuracy: 0.8793\n",
      "Epoch 13: val_accuracy did not improve from 0.84320\n",
      "157/157 [==============================] - 2s 15ms/step - loss: 0.2865 - accuracy: 0.8793 - val_loss: 0.4153 - val_accuracy: 0.8182\n",
      "Epoch 14/100\n",
      "153/157 [============================>.] - ETA: 0s - loss: 0.2789 - accuracy: 0.8829\n",
      "Epoch 14: val_accuracy improved from 0.84320 to 0.85440, saving model to ./models_glove_ffnn\\checkpoint\n",
      "INFO:tensorflow:Assets written to: ./models_glove_ffnn\\checkpoint\\assets\n"
     ]
    },
    {
     "name": "stderr",
     "output_type": "stream",
     "text": [
      "INFO:tensorflow:Assets written to: ./models_glove_ffnn\\checkpoint\\assets\n"
     ]
    },
    {
     "name": "stdout",
     "output_type": "stream",
     "text": [
      "157/157 [==============================] - 20s 131ms/step - loss: 0.2791 - accuracy: 0.8825 - val_loss: 0.3918 - val_accuracy: 0.8544\n",
      "Epoch 15/100\n",
      "155/157 [============================>.] - ETA: 0s - loss: 0.2758 - accuracy: 0.8829\n",
      "Epoch 15: val_accuracy did not improve from 0.85440\n",
      "157/157 [==============================] - 2s 15ms/step - loss: 0.2764 - accuracy: 0.8827 - val_loss: 0.3977 - val_accuracy: 0.8416\n",
      "Epoch 16/100\n",
      "153/157 [============================>.] - ETA: 0s - loss: 0.2693 - accuracy: 0.8868\n",
      "Epoch 16: val_accuracy did not improve from 0.85440\n",
      "157/157 [==============================] - 2s 15ms/step - loss: 0.2692 - accuracy: 0.8868 - val_loss: 0.4100 - val_accuracy: 0.8216\n",
      "Epoch 17/100\n",
      "153/157 [============================>.] - ETA: 0s - loss: 0.2638 - accuracy: 0.8890\n",
      "Epoch 17: val_accuracy did not improve from 0.85440\n",
      "157/157 [==============================] - 2s 15ms/step - loss: 0.2644 - accuracy: 0.8884 - val_loss: 0.3870 - val_accuracy: 0.8502\n",
      "Epoch 18/100\n",
      "153/157 [============================>.] - ETA: 0s - loss: 0.2656 - accuracy: 0.8906\n",
      "Epoch 18: val_accuracy did not improve from 0.85440\n",
      "157/157 [==============================] - 2s 15ms/step - loss: 0.2665 - accuracy: 0.8905 - val_loss: 0.4014 - val_accuracy: 0.8250\n",
      "Epoch 19/100\n",
      "153/157 [============================>.] - ETA: 0s - loss: 0.2573 - accuracy: 0.8935\n",
      "Epoch 19: val_accuracy did not improve from 0.85440\n",
      "157/157 [==============================] - 2s 15ms/step - loss: 0.2574 - accuracy: 0.8936 - val_loss: 0.3777 - val_accuracy: 0.8538\n",
      "Epoch 20/100\n",
      "153/157 [============================>.] - ETA: 0s - loss: 0.2611 - accuracy: 0.8905\n",
      "Epoch 20: val_accuracy did not improve from 0.85440\n",
      "157/157 [==============================] - 2s 15ms/step - loss: 0.2618 - accuracy: 0.8900 - val_loss: 0.3942 - val_accuracy: 0.8544\n",
      "Epoch 21/100\n",
      "153/157 [============================>.] - ETA: 0s - loss: 0.2506 - accuracy: 0.8964\n",
      "Epoch 21: val_accuracy improved from 0.85440 to 0.86140, saving model to ./models_glove_ffnn\\checkpoint\n",
      "INFO:tensorflow:Assets written to: ./models_glove_ffnn\\checkpoint\\assets\n"
     ]
    },
    {
     "name": "stderr",
     "output_type": "stream",
     "text": [
      "INFO:tensorflow:Assets written to: ./models_glove_ffnn\\checkpoint\\assets\n"
     ]
    },
    {
     "name": "stdout",
     "output_type": "stream",
     "text": [
      "157/157 [==============================] - 20s 131ms/step - loss: 0.2500 - accuracy: 0.8967 - val_loss: 0.3829 - val_accuracy: 0.8614\n",
      "Epoch 22/100\n",
      "154/157 [============================>.] - ETA: 0s - loss: 0.2480 - accuracy: 0.8964\n",
      "Epoch 22: val_accuracy did not improve from 0.86140\n",
      "157/157 [==============================] - 2s 15ms/step - loss: 0.2478 - accuracy: 0.8969 - val_loss: 0.3852 - val_accuracy: 0.8428\n",
      "Epoch 23/100\n",
      "153/157 [============================>.] - ETA: 0s - loss: 0.2472 - accuracy: 0.8954\n",
      "Epoch 23: val_accuracy did not improve from 0.86140\n",
      "157/157 [==============================] - 2s 15ms/step - loss: 0.2476 - accuracy: 0.8955 - val_loss: 0.3894 - val_accuracy: 0.8446\n",
      "Epoch 24/100\n",
      "153/157 [============================>.] - ETA: 0s - loss: 0.2423 - accuracy: 0.9013\n",
      "Epoch 24: val_accuracy did not improve from 0.86140\n",
      "157/157 [==============================] - 2s 15ms/step - loss: 0.2423 - accuracy: 0.9011 - val_loss: 0.4013 - val_accuracy: 0.8288\n",
      "Epoch 25/100\n",
      "153/157 [============================>.] - ETA: 0s - loss: 0.2367 - accuracy: 0.9009\n",
      "Epoch 25: val_accuracy did not improve from 0.86140\n",
      "157/157 [==============================] - 2s 15ms/step - loss: 0.2384 - accuracy: 0.9002 - val_loss: 0.3885 - val_accuracy: 0.8416\n",
      "Epoch 26/100\n",
      "153/157 [============================>.] - ETA: 0s - loss: 0.2329 - accuracy: 0.9029\n",
      "Epoch 26: val_accuracy did not improve from 0.86140\n",
      "157/157 [==============================] - 2s 15ms/step - loss: 0.2336 - accuracy: 0.9028 - val_loss: 0.3880 - val_accuracy: 0.8350\n",
      "Epoch 27/100\n",
      "153/157 [============================>.] - ETA: 0s - loss: 0.2341 - accuracy: 0.9054\n",
      "Epoch 27: val_accuracy did not improve from 0.86140\n",
      "157/157 [==============================] - 2s 15ms/step - loss: 0.2334 - accuracy: 0.9056 - val_loss: 0.4145 - val_accuracy: 0.8062\n",
      "Epoch 28/100\n",
      "153/157 [============================>.] - ETA: 0s - loss: 0.2308 - accuracy: 0.9037\n",
      "Epoch 28: val_accuracy did not improve from 0.86140\n",
      "157/157 [==============================] - 2s 15ms/step - loss: 0.2310 - accuracy: 0.9037 - val_loss: 0.3706 - val_accuracy: 0.8548\n",
      "Epoch 29/100\n",
      "153/157 [============================>.] - ETA: 0s - loss: 0.2260 - accuracy: 0.9052\n",
      "Epoch 29: val_accuracy did not improve from 0.86140\n",
      "157/157 [==============================] - 2s 15ms/step - loss: 0.2269 - accuracy: 0.9051 - val_loss: 0.3701 - val_accuracy: 0.8562\n",
      "Epoch 30/100\n",
      "153/157 [============================>.] - ETA: 0s - loss: 0.2285 - accuracy: 0.9060\n",
      "Epoch 30: val_accuracy did not improve from 0.86140\n",
      "157/157 [==============================] - 2s 15ms/step - loss: 0.2280 - accuracy: 0.9067 - val_loss: 0.3775 - val_accuracy: 0.8524\n",
      "Epoch 31/100\n",
      "153/157 [============================>.] - ETA: 0s - loss: 0.2247 - accuracy: 0.9072\n",
      "Epoch 31: val_accuracy did not improve from 0.86140\n",
      "157/157 [==============================] - 2s 15ms/step - loss: 0.2246 - accuracy: 0.9071 - val_loss: 0.3737 - val_accuracy: 0.8510\n",
      "Epoch 32/100\n",
      "153/157 [============================>.] - ETA: 0s - loss: 0.2186 - accuracy: 0.9101\n",
      "Epoch 32: val_accuracy did not improve from 0.86140\n",
      "157/157 [==============================] - 2s 15ms/step - loss: 0.2188 - accuracy: 0.9104 - val_loss: 0.3846 - val_accuracy: 0.8344\n",
      "Epoch 33/100\n",
      "153/157 [============================>.] - ETA: 0s - loss: 0.2160 - accuracy: 0.9126\n",
      "Epoch 33: val_accuracy did not improve from 0.86140\n",
      "157/157 [==============================] - 2s 15ms/step - loss: 0.2162 - accuracy: 0.9125 - val_loss: 0.3790 - val_accuracy: 0.8436\n",
      "Epoch 34/100\n",
      "153/157 [============================>.] - ETA: 0s - loss: 0.2151 - accuracy: 0.9128\n",
      "Epoch 34: val_accuracy did not improve from 0.86140\n",
      "157/157 [==============================] - 2s 15ms/step - loss: 0.2152 - accuracy: 0.9125 - val_loss: 0.3795 - val_accuracy: 0.8508\n",
      "Epoch 35/100\n",
      "153/157 [============================>.] - ETA: 0s - loss: 0.2163 - accuracy: 0.9121\n",
      "Epoch 35: val_accuracy did not improve from 0.86140\n",
      "157/157 [==============================] - 2s 15ms/step - loss: 0.2158 - accuracy: 0.9121 - val_loss: 0.3738 - val_accuracy: 0.8466\n",
      "Epoch 36/100\n",
      "153/157 [============================>.] - ETA: 0s - loss: 0.2135 - accuracy: 0.9132\n",
      "Epoch 36: val_accuracy did not improve from 0.86140\n",
      "157/157 [==============================] - 2s 15ms/step - loss: 0.2134 - accuracy: 0.9136 - val_loss: 0.3715 - val_accuracy: 0.8588\n",
      "Epoch 37/100\n",
      "153/157 [============================>.] - ETA: 0s - loss: 0.2143 - accuracy: 0.9142\n",
      "Epoch 37: val_accuracy did not improve from 0.86140\n",
      "157/157 [==============================] - 2s 15ms/step - loss: 0.2137 - accuracy: 0.9144 - val_loss: 0.3805 - val_accuracy: 0.8514\n",
      "Epoch 38/100\n",
      "157/157 [==============================] - ETA: 0s - loss: 0.2047 - accuracy: 0.9183\n",
      "Epoch 38: val_accuracy did not improve from 0.86140\n",
      "157/157 [==============================] - 2s 15ms/step - loss: 0.2047 - accuracy: 0.9183 - val_loss: 0.3702 - val_accuracy: 0.8478\n",
      "Epoch 39/100\n",
      "153/157 [============================>.] - ETA: 0s - loss: 0.2061 - accuracy: 0.9150\n",
      "Epoch 39: val_accuracy did not improve from 0.86140\n",
      "157/157 [==============================] - 2s 15ms/step - loss: 0.2060 - accuracy: 0.9153 - val_loss: 0.3809 - val_accuracy: 0.8420\n",
      "Epoch 40/100\n",
      "153/157 [============================>.] - ETA: 0s - loss: 0.2025 - accuracy: 0.9192\n",
      "Epoch 40: val_accuracy did not improve from 0.86140\n",
      "157/157 [==============================] - 2s 15ms/step - loss: 0.2031 - accuracy: 0.9187 - val_loss: 0.3672 - val_accuracy: 0.8560\n",
      "Epoch 41/100\n",
      "153/157 [============================>.] - ETA: 0s - loss: 0.2030 - accuracy: 0.9184\n",
      "Epoch 41: val_accuracy did not improve from 0.86140\n",
      "157/157 [==============================] - 2s 15ms/step - loss: 0.2035 - accuracy: 0.9180 - val_loss: 0.4003 - val_accuracy: 0.8190\n",
      "Epoch 42/100\n",
      "153/157 [============================>.] - ETA: 0s - loss: 0.2048 - accuracy: 0.9153\n",
      "Epoch 42: val_accuracy did not improve from 0.86140\n",
      "157/157 [==============================] - 2s 15ms/step - loss: 0.2049 - accuracy: 0.9155 - val_loss: 0.3677 - val_accuracy: 0.8572\n",
      "Epoch 43/100\n",
      "153/157 [============================>.] - ETA: 0s - loss: 0.1999 - accuracy: 0.9180\n",
      "Epoch 43: val_accuracy did not improve from 0.86140\n",
      "157/157 [==============================] - 2s 15ms/step - loss: 0.2005 - accuracy: 0.9180 - val_loss: 0.3620 - val_accuracy: 0.8584\n",
      "Epoch 44/100\n",
      "153/157 [============================>.] - ETA: 0s - loss: 0.2007 - accuracy: 0.9192\n",
      "Epoch 44: val_accuracy did not improve from 0.86140\n",
      "157/157 [==============================] - 2s 15ms/step - loss: 0.2008 - accuracy: 0.9193 - val_loss: 0.3624 - val_accuracy: 0.8598\n",
      "Epoch 45/100\n",
      "153/157 [============================>.] - ETA: 0s - loss: 0.1937 - accuracy: 0.9204\n",
      "Epoch 45: val_accuracy did not improve from 0.86140\n",
      "157/157 [==============================] - 2s 15ms/step - loss: 0.1927 - accuracy: 0.9208 - val_loss: 0.3538 - val_accuracy: 0.8604\n",
      "Epoch 46/100\n",
      "153/157 [============================>.] - ETA: 0s - loss: 0.1955 - accuracy: 0.9214\n",
      "Epoch 46: val_accuracy did not improve from 0.86140\n",
      "157/157 [==============================] - 2s 15ms/step - loss: 0.1966 - accuracy: 0.9209 - val_loss: 0.3663 - val_accuracy: 0.8536\n",
      "Epoch 47/100\n",
      "153/157 [============================>.] - ETA: 0s - loss: 0.1889 - accuracy: 0.9222\n",
      "Epoch 47: val_accuracy did not improve from 0.86140\n",
      "157/157 [==============================] - 2s 15ms/step - loss: 0.1904 - accuracy: 0.9217 - val_loss: 0.4143 - val_accuracy: 0.8028\n",
      "Epoch 48/100\n",
      "153/157 [============================>.] - ETA: 0s - loss: 0.1887 - accuracy: 0.9229\n",
      "Epoch 48: val_accuracy did not improve from 0.86140\n",
      "157/157 [==============================] - 2s 15ms/step - loss: 0.1887 - accuracy: 0.9228 - val_loss: 0.3566 - val_accuracy: 0.8578\n",
      "Epoch 49/100\n",
      "153/157 [============================>.] - ETA: 0s - loss: 0.1892 - accuracy: 0.9223\n",
      "Epoch 49: val_accuracy did not improve from 0.86140\n",
      "157/157 [==============================] - 2s 15ms/step - loss: 0.1891 - accuracy: 0.9226 - val_loss: 0.3608 - val_accuracy: 0.8602\n",
      "Epoch 50/100\n",
      "153/157 [============================>.] - ETA: 0s - loss: 0.1846 - accuracy: 0.9262\n",
      "Epoch 50: val_accuracy did not improve from 0.86140\n",
      "157/157 [==============================] - 2s 15ms/step - loss: 0.1854 - accuracy: 0.9261 - val_loss: 0.3624 - val_accuracy: 0.8522\n"
     ]
    },
    {
     "name": "stdout",
     "output_type": "stream",
     "text": [
      "Epoch 51/100\n",
      "153/157 [============================>.] - ETA: 0s - loss: 0.1809 - accuracy: 0.9272\n",
      "Epoch 51: val_accuracy did not improve from 0.86140\n",
      "157/157 [==============================] - 2s 14ms/step - loss: 0.1814 - accuracy: 0.9269 - val_loss: 0.3505 - val_accuracy: 0.8600\n",
      "Epoch 52/100\n",
      "153/157 [============================>.] - ETA: 0s - loss: 0.1873 - accuracy: 0.9244\n",
      "Epoch 52: val_accuracy did not improve from 0.86140\n",
      "157/157 [==============================] - 2s 15ms/step - loss: 0.1879 - accuracy: 0.9238 - val_loss: 0.3647 - val_accuracy: 0.8526\n",
      "Epoch 53/100\n",
      "153/157 [============================>.] - ETA: 0s - loss: 0.1902 - accuracy: 0.9240\n",
      "Epoch 53: val_accuracy did not improve from 0.86140\n",
      "157/157 [==============================] - 2s 15ms/step - loss: 0.1902 - accuracy: 0.9238 - val_loss: 0.3921 - val_accuracy: 0.8242\n",
      "Epoch 54/100\n",
      "153/157 [============================>.] - ETA: 0s - loss: 0.1866 - accuracy: 0.9238\n",
      "Epoch 54: val_accuracy did not improve from 0.86140\n",
      "157/157 [==============================] - 2s 14ms/step - loss: 0.1871 - accuracy: 0.9238 - val_loss: 0.3524 - val_accuracy: 0.8586\n",
      "Epoch 55/100\n",
      "153/157 [============================>.] - ETA: 0s - loss: 0.1810 - accuracy: 0.9263\n",
      "Epoch 55: val_accuracy did not improve from 0.86140\n",
      "157/157 [==============================] - 2s 14ms/step - loss: 0.1821 - accuracy: 0.9259 - val_loss: 0.3545 - val_accuracy: 0.8570\n",
      "Epoch 56/100\n",
      "153/157 [============================>.] - ETA: 0s - loss: 0.1767 - accuracy: 0.9281\n",
      "Epoch 56: val_accuracy did not improve from 0.86140\n",
      "157/157 [==============================] - 2s 15ms/step - loss: 0.1770 - accuracy: 0.9278 - val_loss: 0.3536 - val_accuracy: 0.8578\n",
      "Epoch 57/100\n",
      "153/157 [============================>.] - ETA: 0s - loss: 0.1818 - accuracy: 0.9272\n",
      "Epoch 57: val_accuracy did not improve from 0.86140\n",
      "157/157 [==============================] - 2s 15ms/step - loss: 0.1829 - accuracy: 0.9268 - val_loss: 0.3745 - val_accuracy: 0.8434\n",
      "Epoch 58/100\n",
      "153/157 [============================>.] - ETA: 0s - loss: 0.1743 - accuracy: 0.9293\n",
      "Epoch 58: val_accuracy did not improve from 0.86140\n",
      "157/157 [==============================] - 2s 15ms/step - loss: 0.1736 - accuracy: 0.9296 - val_loss: 0.3585 - val_accuracy: 0.8528\n",
      "Epoch 59/100\n",
      "153/157 [============================>.] - ETA: 0s - loss: 0.1710 - accuracy: 0.9324\n",
      "Epoch 59: val_accuracy did not improve from 0.86140\n",
      "157/157 [==============================] - 2s 15ms/step - loss: 0.1714 - accuracy: 0.9322 - val_loss: 0.3702 - val_accuracy: 0.8394\n",
      "Epoch 60/100\n",
      "153/157 [============================>.] - ETA: 0s - loss: 0.1752 - accuracy: 0.9274\n",
      "Epoch 60: val_accuracy did not improve from 0.86140\n",
      "157/157 [==============================] - 2s 15ms/step - loss: 0.1767 - accuracy: 0.9269 - val_loss: 0.3667 - val_accuracy: 0.8440\n",
      "Epoch 61/100\n",
      "153/157 [============================>.] - ETA: 0s - loss: 0.1733 - accuracy: 0.9277\n",
      "Epoch 61: val_accuracy did not improve from 0.86140\n",
      "157/157 [==============================] - 2s 15ms/step - loss: 0.1723 - accuracy: 0.9283 - val_loss: 0.3555 - val_accuracy: 0.8498\n",
      "Epoch 62/100\n",
      "153/157 [============================>.] - ETA: 0s - loss: 0.1718 - accuracy: 0.9283\n",
      "Epoch 62: val_accuracy did not improve from 0.86140\n",
      "157/157 [==============================] - 2s 15ms/step - loss: 0.1715 - accuracy: 0.9287 - val_loss: 0.3643 - val_accuracy: 0.8502\n",
      "Epoch 63/100\n",
      "153/157 [============================>.] - ETA: 0s - loss: 0.1705 - accuracy: 0.9314\n",
      "Epoch 63: val_accuracy did not improve from 0.86140\n",
      "157/157 [==============================] - 2s 15ms/step - loss: 0.1708 - accuracy: 0.9313 - val_loss: 0.3543 - val_accuracy: 0.8554\n",
      "Epoch 64/100\n",
      "153/157 [============================>.] - ETA: 0s - loss: 0.1727 - accuracy: 0.9314\n",
      "Epoch 64: val_accuracy did not improve from 0.86140\n",
      "157/157 [==============================] - 2s 15ms/step - loss: 0.1720 - accuracy: 0.9317 - val_loss: 0.3558 - val_accuracy: 0.8554\n",
      "Epoch 65/100\n",
      "153/157 [============================>.] - ETA: 0s - loss: 0.1644 - accuracy: 0.9333\n",
      "Epoch 65: val_accuracy did not improve from 0.86140\n",
      "157/157 [==============================] - 2s 15ms/step - loss: 0.1650 - accuracy: 0.9330 - val_loss: 0.3627 - val_accuracy: 0.8500\n",
      "Epoch 66/100\n",
      "153/157 [============================>.] - ETA: 0s - loss: 0.1681 - accuracy: 0.9323\n",
      "Epoch 66: val_accuracy did not improve from 0.86140\n",
      "157/157 [==============================] - 2s 15ms/step - loss: 0.1682 - accuracy: 0.9321 - val_loss: 0.3545 - val_accuracy: 0.8514\n",
      "Epoch 67/100\n",
      "153/157 [============================>.] - ETA: 0s - loss: 0.1730 - accuracy: 0.9304\n",
      "Epoch 67: val_accuracy did not improve from 0.86140\n",
      "157/157 [==============================] - 2s 15ms/step - loss: 0.1729 - accuracy: 0.9304 - val_loss: 0.3538 - val_accuracy: 0.8550\n",
      "Epoch 68/100\n",
      "153/157 [============================>.] - ETA: 0s - loss: 0.1734 - accuracy: 0.9282\n",
      "Epoch 68: val_accuracy did not improve from 0.86140\n",
      "157/157 [==============================] - 2s 15ms/step - loss: 0.1725 - accuracy: 0.9287 - val_loss: 0.3502 - val_accuracy: 0.8568\n",
      "Epoch 69/100\n",
      "153/157 [============================>.] - ETA: 0s - loss: 0.1677 - accuracy: 0.9322\n",
      "Epoch 69: val_accuracy did not improve from 0.86140\n",
      "157/157 [==============================] - 2s 15ms/step - loss: 0.1674 - accuracy: 0.9323 - val_loss: 0.3636 - val_accuracy: 0.8484\n",
      "Epoch 70/100\n",
      "153/157 [============================>.] - ETA: 0s - loss: 0.1659 - accuracy: 0.9340\n",
      "Epoch 70: val_accuracy did not improve from 0.86140\n",
      "157/157 [==============================] - 2s 15ms/step - loss: 0.1660 - accuracy: 0.9341 - val_loss: 0.3640 - val_accuracy: 0.8466\n",
      "Epoch 71/100\n",
      "153/157 [============================>.] - ETA: 0s - loss: 0.1618 - accuracy: 0.9355\n",
      "Epoch 71: val_accuracy did not improve from 0.86140\n",
      "157/157 [==============================] - 2s 15ms/step - loss: 0.1621 - accuracy: 0.9354 - val_loss: 0.3597 - val_accuracy: 0.8450\n",
      "Epoch 72/100\n",
      "153/157 [============================>.] - ETA: 0s - loss: 0.1605 - accuracy: 0.9344\n",
      "Epoch 72: val_accuracy did not improve from 0.86140\n",
      "157/157 [==============================] - 2s 15ms/step - loss: 0.1609 - accuracy: 0.9341 - val_loss: 0.3526 - val_accuracy: 0.8562\n",
      "Epoch 73/100\n",
      "153/157 [============================>.] - ETA: 0s - loss: 0.1654 - accuracy: 0.9346\n",
      "Epoch 73: val_accuracy did not improve from 0.86140\n",
      "157/157 [==============================] - 2s 15ms/step - loss: 0.1654 - accuracy: 0.9345 - val_loss: 0.3506 - val_accuracy: 0.8558\n",
      "Epoch 74/100\n",
      "153/157 [============================>.] - ETA: 0s - loss: 0.1591 - accuracy: 0.9355\n",
      "Epoch 74: val_accuracy did not improve from 0.86140\n",
      "157/157 [==============================] - 2s 15ms/step - loss: 0.1587 - accuracy: 0.9356 - val_loss: 0.3587 - val_accuracy: 0.8472\n",
      "Epoch 75/100\n",
      "153/157 [============================>.] - ETA: 0s - loss: 0.1572 - accuracy: 0.9361\n",
      "Epoch 75: val_accuracy did not improve from 0.86140\n",
      "157/157 [==============================] - 2s 15ms/step - loss: 0.1574 - accuracy: 0.9363 - val_loss: 0.3536 - val_accuracy: 0.8502\n",
      "Epoch 76/100\n",
      "153/157 [============================>.] - ETA: 0s - loss: 0.1641 - accuracy: 0.9343\n",
      "Epoch 76: val_accuracy did not improve from 0.86140\n",
      "157/157 [==============================] - 2s 15ms/step - loss: 0.1644 - accuracy: 0.9344 - val_loss: 0.3503 - val_accuracy: 0.8536\n",
      "Epoch 77/100\n",
      "153/157 [============================>.] - ETA: 0s - loss: 0.1533 - accuracy: 0.9370\n",
      "Epoch 77: val_accuracy did not improve from 0.86140\n",
      "157/157 [==============================] - 2s 15ms/step - loss: 0.1529 - accuracy: 0.9373 - val_loss: 0.3484 - val_accuracy: 0.8534\n",
      "Epoch 78/100\n",
      "153/157 [============================>.] - ETA: 0s - loss: 0.1567 - accuracy: 0.9353\n",
      "Epoch 78: val_accuracy did not improve from 0.86140\n",
      "157/157 [==============================] - 2s 15ms/step - loss: 0.1572 - accuracy: 0.9350 - val_loss: 0.3614 - val_accuracy: 0.8444\n",
      "Epoch 79/100\n",
      "153/157 [============================>.] - ETA: 0s - loss: 0.1557 - accuracy: 0.9367\n",
      "Epoch 79: val_accuracy did not improve from 0.86140\n",
      "157/157 [==============================] - 2s 15ms/step - loss: 0.1557 - accuracy: 0.9368 - val_loss: 0.3615 - val_accuracy: 0.8418\n",
      "Epoch 80/100\n"
     ]
    },
    {
     "name": "stdout",
     "output_type": "stream",
     "text": [
      "153/157 [============================>.] - ETA: 0s - loss: 0.1494 - accuracy: 0.9398\n",
      "Epoch 80: val_accuracy did not improve from 0.86140\n",
      "157/157 [==============================] - 2s 14ms/step - loss: 0.1506 - accuracy: 0.9397 - val_loss: 0.3730 - val_accuracy: 0.8320\n",
      "Epoch 81/100\n",
      "153/157 [============================>.] - ETA: 0s - loss: 0.1530 - accuracy: 0.9358\n",
      "Epoch 81: val_accuracy did not improve from 0.86140\n",
      "157/157 [==============================] - 2s 14ms/step - loss: 0.1529 - accuracy: 0.9361 - val_loss: 0.3474 - val_accuracy: 0.8588\n",
      "Epoch 82/100\n",
      "153/157 [============================>.] - ETA: 0s - loss: 0.1532 - accuracy: 0.9382\n",
      "Epoch 82: val_accuracy did not improve from 0.86140\n",
      "157/157 [==============================] - 2s 15ms/step - loss: 0.1533 - accuracy: 0.9383 - val_loss: 0.3548 - val_accuracy: 0.8510\n",
      "Epoch 83/100\n",
      "153/157 [============================>.] - ETA: 0s - loss: 0.1551 - accuracy: 0.9380\n",
      "Epoch 83: val_accuracy did not improve from 0.86140\n",
      "157/157 [==============================] - 2s 15ms/step - loss: 0.1556 - accuracy: 0.9378 - val_loss: 0.3511 - val_accuracy: 0.8548\n",
      "Epoch 84/100\n",
      "153/157 [============================>.] - ETA: 0s - loss: 0.1482 - accuracy: 0.9393\n",
      "Epoch 84: val_accuracy did not improve from 0.86140\n",
      "157/157 [==============================] - 2s 15ms/step - loss: 0.1482 - accuracy: 0.9394 - val_loss: 0.3695 - val_accuracy: 0.8386\n",
      "Epoch 85/100\n",
      "153/157 [============================>.] - ETA: 0s - loss: 0.1510 - accuracy: 0.9392\n",
      "Epoch 85: val_accuracy did not improve from 0.86140\n",
      "157/157 [==============================] - 2s 15ms/step - loss: 0.1515 - accuracy: 0.9390 - val_loss: 0.3490 - val_accuracy: 0.8498\n",
      "Epoch 86/100\n",
      "153/157 [============================>.] - ETA: 0s - loss: 0.1509 - accuracy: 0.9391\n",
      "Epoch 86: val_accuracy did not improve from 0.86140\n",
      "157/157 [==============================] - 2s 15ms/step - loss: 0.1514 - accuracy: 0.9388 - val_loss: 0.3505 - val_accuracy: 0.8518\n",
      "Epoch 87/100\n",
      "153/157 [============================>.] - ETA: 0s - loss: 0.1461 - accuracy: 0.9415\n",
      "Epoch 87: val_accuracy did not improve from 0.86140\n",
      "157/157 [==============================] - 2s 15ms/step - loss: 0.1454 - accuracy: 0.9416 - val_loss: 0.3370 - val_accuracy: 0.8594\n",
      "Epoch 88/100\n",
      "153/157 [============================>.] - ETA: 0s - loss: 0.1523 - accuracy: 0.9391\n",
      "Epoch 88: val_accuracy did not improve from 0.86140\n",
      "157/157 [==============================] - 2s 15ms/step - loss: 0.1526 - accuracy: 0.9388 - val_loss: 0.3559 - val_accuracy: 0.8486\n",
      "Epoch 89/100\n",
      "153/157 [============================>.] - ETA: 0s - loss: 0.1479 - accuracy: 0.9396\n",
      "Epoch 89: val_accuracy did not improve from 0.86140\n",
      "157/157 [==============================] - 2s 15ms/step - loss: 0.1487 - accuracy: 0.9391 - val_loss: 0.3601 - val_accuracy: 0.8520\n",
      "Epoch 90/100\n",
      "153/157 [============================>.] - ETA: 0s - loss: 0.1448 - accuracy: 0.9434\n",
      "Epoch 90: val_accuracy did not improve from 0.86140\n",
      "157/157 [==============================] - 2s 15ms/step - loss: 0.1451 - accuracy: 0.9434 - val_loss: 0.3564 - val_accuracy: 0.8484\n",
      "Epoch 91/100\n",
      "153/157 [============================>.] - ETA: 0s - loss: 0.1496 - accuracy: 0.9381\n",
      "Epoch 91: val_accuracy did not improve from 0.86140\n",
      "157/157 [==============================] - 2s 15ms/step - loss: 0.1491 - accuracy: 0.9384 - val_loss: 0.3528 - val_accuracy: 0.8526\n",
      "Epoch 92/100\n",
      "153/157 [============================>.] - ETA: 0s - loss: 0.1464 - accuracy: 0.9406\n",
      "Epoch 92: val_accuracy did not improve from 0.86140\n",
      "157/157 [==============================] - 2s 15ms/step - loss: 0.1458 - accuracy: 0.9407 - val_loss: 0.3516 - val_accuracy: 0.8536\n",
      "Epoch 93/100\n",
      "153/157 [============================>.] - ETA: 0s - loss: 0.1450 - accuracy: 0.9406\n",
      "Epoch 93: val_accuracy did not improve from 0.86140\n",
      "157/157 [==============================] - 2s 15ms/step - loss: 0.1457 - accuracy: 0.9405 - val_loss: 0.3486 - val_accuracy: 0.8532\n",
      "Epoch 94/100\n",
      "153/157 [============================>.] - ETA: 0s - loss: 0.1417 - accuracy: 0.9440\n",
      "Epoch 94: val_accuracy did not improve from 0.86140\n",
      "157/157 [==============================] - 2s 15ms/step - loss: 0.1416 - accuracy: 0.9439 - val_loss: 0.3612 - val_accuracy: 0.8434\n",
      "Epoch 95/100\n",
      "153/157 [============================>.] - ETA: 0s - loss: 0.1362 - accuracy: 0.9461\n",
      "Epoch 95: val_accuracy did not improve from 0.86140\n",
      "157/157 [==============================] - 2s 15ms/step - loss: 0.1362 - accuracy: 0.9460 - val_loss: 0.3400 - val_accuracy: 0.8554\n",
      "Epoch 96/100\n",
      "153/157 [============================>.] - ETA: 0s - loss: 0.1440 - accuracy: 0.9423\n",
      "Epoch 96: val_accuracy did not improve from 0.86140\n",
      "157/157 [==============================] - 2s 15ms/step - loss: 0.1444 - accuracy: 0.9423 - val_loss: 0.3909 - val_accuracy: 0.8252\n",
      "Epoch 97/100\n",
      "153/157 [============================>.] - ETA: 0s - loss: 0.1417 - accuracy: 0.9427\n",
      "Epoch 97: val_accuracy did not improve from 0.86140\n",
      "157/157 [==============================] - 2s 15ms/step - loss: 0.1425 - accuracy: 0.9423 - val_loss: 0.3849 - val_accuracy: 0.8306\n",
      "Epoch 98/100\n",
      "153/157 [============================>.] - ETA: 0s - loss: 0.1424 - accuracy: 0.9437\n",
      "Epoch 98: val_accuracy did not improve from 0.86140\n",
      "157/157 [==============================] - 2s 15ms/step - loss: 0.1421 - accuracy: 0.9438 - val_loss: 0.3914 - val_accuracy: 0.8234\n",
      "Epoch 99/100\n",
      "153/157 [============================>.] - ETA: 0s - loss: 0.1408 - accuracy: 0.9438\n",
      "Epoch 99: val_accuracy did not improve from 0.86140\n",
      "157/157 [==============================] - 2s 15ms/step - loss: 0.1403 - accuracy: 0.9441 - val_loss: 0.3738 - val_accuracy: 0.8382\n",
      "Epoch 100/100\n",
      "153/157 [============================>.] - ETA: 0s - loss: 0.1412 - accuracy: 0.9420\n",
      "Epoch 100: val_accuracy did not improve from 0.86140\n",
      "157/157 [==============================] - 2s 15ms/step - loss: 0.1418 - accuracy: 0.9418 - val_loss: 0.3715 - val_accuracy: 0.8402\n"
     ]
    },
    {
     "data": {
      "text/plain": [
       "<keras.callbacks.History at 0x1b017519700>"
      ]
     },
     "execution_count": 151,
     "metadata": {},
     "output_type": "execute_result"
    }
   ],
   "source": [
    "model.compile('adam', loss=BinaryCrossentropy(), metrics='accuracy')\n",
    "\n",
    "model.fit(x=train_x,\n",
    "         y=train_y,\n",
    "         batch_size=128,\n",
    "         epochs=100,\n",
    "         validation_data=(val_x, val_y),\n",
    "         callbacks=callbacks)"
   ]
  },
  {
   "cell_type": "code",
   "execution_count": 152,
   "id": "6f5faf96",
   "metadata": {},
   "outputs": [],
   "source": [
    "model = load_model('./models_glove_ffnn/checkpoint')"
   ]
  },
  {
   "cell_type": "code",
   "execution_count": 153,
   "id": "2ee0d98b",
   "metadata": {},
   "outputs": [
    {
     "name": "stdout",
     "output_type": "stream",
     "text": [
      "f1 : 0.9059656218402427\n",
      "acc: 0.907\n"
     ]
    },
    {
     "data": {
      "image/png": "[encoded data removed]",
      "text/plain": [
       "<Figure size 432x288 with 2 Axes>"
      ]
     },
     "metadata": {
      "needs_background": "light"
     },
     "output_type": "display_data"
    }
   ],
   "source": [
    "predict_result(model, train_x[:1000], train_y[:1000])"
   ]
  },
  {
   "cell_type": "code",
   "execution_count": 154,
   "id": "46cbf625",
   "metadata": {},
   "outputs": [
    {
     "name": "stdout",
     "output_type": "stream",
     "text": [
      "f1 : 0.8349254231607173\n",
      "acc: 0.8424\n"
     ]
    },
    {
     "data": {
      "image/png": "[encoded data removed]",
      "text/plain": [
       "<Figure size 432x288 with 2 Axes>"
      ]
     },
     "metadata": {
      "needs_background": "light"
     },
     "output_type": "display_data"
    }
   ],
   "source": [
    "predict_result(model, test_x, test_y)"
   ]
  },
  {
   "cell_type": "code",
   "execution_count": 167,
   "id": "18e9ab3f",
   "metadata": {},
   "outputs": [
    {
     "name": "stdout",
     "output_type": "stream",
     "text": [
      "Model: \"model_7\"\n",
      "_________________________________________________________________\n",
      " Layer (type)                Output Shape              Param #   \n",
      "=================================================================\n",
      " input_12 (InputLayer)       [(None, None)]            0         \n",
      "                                                                 \n",
      " embedding_20 (Embedding)    (None, None, 300)         6000600   \n",
      "                                                                 \n",
      " bidirectional_3 (Bidirectio  (None, 256)              439296    \n",
      " nal)                                                            \n",
      "                                                                 \n",
      " dropout_31 (Dropout)        (None, 256)               0         \n",
      "                                                                 \n",
      " dense_48 (Dense)            (None, 256)               65792     \n",
      "                                                                 \n",
      " flatten_4 (Flatten)         (None, 256)               0         \n",
      "                                                                 \n",
      " dense_49 (Dense)            (None, 2)                 514       \n",
      "                                                                 \n",
      "=================================================================\n",
      "Total params: 6,506,202\n",
      "Trainable params: 505,602\n",
      "Non-trainable params: 6,000,600\n",
      "_________________________________________________________________\n"
     ]
    }
   ],
   "source": [
    "embedding_layer = Embedding(\n",
    "    num_tokens,\n",
    "    embedding_dim,\n",
    "    embeddings_initializer=tf.keras.initializers.Constant(embedding_matrix),\n",
    "    trainable=False,\n",
    ")\n",
    "int_sequences_input = tf.keras.Input(shape=(None,), dtype=\"int64\")\n",
    "embedded_sequences = embedding_layer(int_sequences_input)\n",
    "x = Bidirectional(LSTM(128))(embedded_sequences)\n",
    "x = Dropout(0.5)(x)\n",
    "x = Dense(256, activation=\"relu\")(x)\n",
    "x = Flatten()(x)\n",
    "\n",
    "preds = Dense(2, activation=\"sigmoid\")(x)\n",
    "\n",
    "model = tf.keras.Model(int_sequences_input, preds)\n",
    "\n",
    "callbacks=[\n",
    "    ModelCheckpoint(filepath='./models_glove_bilstm/checkpoint',\n",
    "                   save_best_only=True, monitor='val_accuracy', verbose=1)\n",
    "]\n",
    "\n",
    "model.summary()"
   ]
  },
  {
   "cell_type": "code",
   "execution_count": 168,
   "id": "9186fe14",
   "metadata": {},
   "outputs": [
    {
     "name": "stdout",
     "output_type": "stream",
     "text": [
      "Epoch 1/100\n",
      "157/157 [==============================] - ETA: 0s - loss: 0.5311 - accuracy: 0.7488\n",
      "Epoch 1: val_accuracy improved from -inf to 0.79920, saving model to ./models_glove_bilstm\\checkpoint\n"
     ]
    },
    {
     "name": "stderr",
     "output_type": "stream",
     "text": [
      "WARNING:absl:Found untraced functions such as lstm_cell_32_layer_call_fn, lstm_cell_32_layer_call_and_return_conditional_losses, lstm_cell_33_layer_call_fn, lstm_cell_33_layer_call_and_return_conditional_losses while saving (showing 4 of 4). These functions will not be directly callable after loading.\n"
     ]
    },
    {
     "name": "stdout",
     "output_type": "stream",
     "text": [
      "INFO:tensorflow:Assets written to: ./models_glove_bilstm\\checkpoint\\assets\n"
     ]
    },
    {
     "name": "stderr",
     "output_type": "stream",
     "text": [
      "INFO:tensorflow:Assets written to: ./models_glove_bilstm\\checkpoint\\assets\n",
      "WARNING:absl:<keras.layers.recurrent.LSTMCell object at 0x000001AD405C08E0> has the same name 'LSTMCell' as a built-in Keras object. Consider renaming <class 'keras.layers.recurrent.LSTMCell'> to avoid naming conflicts when loading with `tf.keras.models.load_model`. If renaming is not possible, pass the object in the `custom_objects` parameter of the load function.\n",
      "WARNING:absl:<keras.layers.recurrent.LSTMCell object at 0x000001AD405A2B80> has the same name 'LSTMCell' as a built-in Keras object. Consider renaming <class 'keras.layers.recurrent.LSTMCell'> to avoid naming conflicts when loading with `tf.keras.models.load_model`. If renaming is not possible, pass the object in the `custom_objects` parameter of the load function.\n"
     ]
    },
    {
     "name": "stdout",
     "output_type": "stream",
     "text": [
      "157/157 [==============================] - 33s 202ms/step - loss: 0.5311 - accuracy: 0.7488 - val_loss: 0.4485 - val_accuracy: 0.7992\n",
      "Epoch 2/100\n",
      "157/157 [==============================] - ETA: 0s - loss: 0.4510 - accuracy: 0.8025\n",
      "Epoch 2: val_accuracy improved from 0.79920 to 0.83460, saving model to ./models_glove_bilstm\\checkpoint\n"
     ]
    },
    {
     "name": "stderr",
     "output_type": "stream",
     "text": [
      "WARNING:absl:Found untraced functions such as lstm_cell_32_layer_call_fn, lstm_cell_32_layer_call_and_return_conditional_losses, lstm_cell_33_layer_call_fn, lstm_cell_33_layer_call_and_return_conditional_losses while saving (showing 4 of 4). These functions will not be directly callable after loading.\n"
     ]
    },
    {
     "name": "stdout",
     "output_type": "stream",
     "text": [
      "INFO:tensorflow:Assets written to: ./models_glove_bilstm\\checkpoint\\assets\n"
     ]
    },
    {
     "name": "stderr",
     "output_type": "stream",
     "text": [
      "INFO:tensorflow:Assets written to: ./models_glove_bilstm\\checkpoint\\assets\n",
      "WARNING:absl:<keras.layers.recurrent.LSTMCell object at 0x000001AD405C08E0> has the same name 'LSTMCell' as a built-in Keras object. Consider renaming <class 'keras.layers.recurrent.LSTMCell'> to avoid naming conflicts when loading with `tf.keras.models.load_model`. If renaming is not possible, pass the object in the `custom_objects` parameter of the load function.\n",
      "WARNING:absl:<keras.layers.recurrent.LSTMCell object at 0x000001AD405A2B80> has the same name 'LSTMCell' as a built-in Keras object. Consider renaming <class 'keras.layers.recurrent.LSTMCell'> to avoid naming conflicts when loading with `tf.keras.models.load_model`. If renaming is not possible, pass the object in the `custom_objects` parameter of the load function.\n"
     ]
    },
    {
     "name": "stdout",
     "output_type": "stream",
     "text": [
      "157/157 [==============================] - 34s 215ms/step - loss: 0.4510 - accuracy: 0.8025 - val_loss: 0.3981 - val_accuracy: 0.8346\n",
      "Epoch 3/100\n",
      "157/157 [==============================] - ETA: 0s - loss: 0.4574 - accuracy: 0.7922\n",
      "Epoch 3: val_accuracy improved from 0.83460 to 0.83580, saving model to ./models_glove_bilstm\\checkpoint\n"
     ]
    },
    {
     "name": "stderr",
     "output_type": "stream",
     "text": [
      "WARNING:absl:Found untraced functions such as lstm_cell_32_layer_call_fn, lstm_cell_32_layer_call_and_return_conditional_losses, lstm_cell_33_layer_call_fn, lstm_cell_33_layer_call_and_return_conditional_losses while saving (showing 4 of 4). These functions will not be directly callable after loading.\n"
     ]
    },
    {
     "name": "stdout",
     "output_type": "stream",
     "text": [
      "INFO:tensorflow:Assets written to: ./models_glove_bilstm\\checkpoint\\assets\n"
     ]
    },
    {
     "name": "stderr",
     "output_type": "stream",
     "text": [
      "INFO:tensorflow:Assets written to: ./models_glove_bilstm\\checkpoint\\assets\n",
      "WARNING:absl:<keras.layers.recurrent.LSTMCell object at 0x000001AD405C08E0> has the same name 'LSTMCell' as a built-in Keras object. Consider renaming <class 'keras.layers.recurrent.LSTMCell'> to avoid naming conflicts when loading with `tf.keras.models.load_model`. If renaming is not possible, pass the object in the `custom_objects` parameter of the load function.\n",
      "WARNING:absl:<keras.layers.recurrent.LSTMCell object at 0x000001AD405A2B80> has the same name 'LSTMCell' as a built-in Keras object. Consider renaming <class 'keras.layers.recurrent.LSTMCell'> to avoid naming conflicts when loading with `tf.keras.models.load_model`. If renaming is not possible, pass the object in the `custom_objects` parameter of the load function.\n"
     ]
    },
    {
     "name": "stdout",
     "output_type": "stream",
     "text": [
      "157/157 [==============================] - 32s 203ms/step - loss: 0.4574 - accuracy: 0.7922 - val_loss: 0.3957 - val_accuracy: 0.8358\n",
      "Epoch 4/100\n",
      "157/157 [==============================] - ETA: 0s - loss: 0.3599 - accuracy: 0.8493\n",
      "Epoch 4: val_accuracy improved from 0.83580 to 0.85760, saving model to ./models_glove_bilstm\\checkpoint\n"
     ]
    },
    {
     "name": "stderr",
     "output_type": "stream",
     "text": [
      "WARNING:absl:Found untraced functions such as lstm_cell_32_layer_call_fn, lstm_cell_32_layer_call_and_return_conditional_losses, lstm_cell_33_layer_call_fn, lstm_cell_33_layer_call_and_return_conditional_losses while saving (showing 4 of 4). These functions will not be directly callable after loading.\n"
     ]
    },
    {
     "name": "stdout",
     "output_type": "stream",
     "text": [
      "INFO:tensorflow:Assets written to: ./models_glove_bilstm\\checkpoint\\assets\n"
     ]
    },
    {
     "name": "stderr",
     "output_type": "stream",
     "text": [
      "INFO:tensorflow:Assets written to: ./models_glove_bilstm\\checkpoint\\assets\n",
      "WARNING:absl:<keras.layers.recurrent.LSTMCell object at 0x000001AD405C08E0> has the same name 'LSTMCell' as a built-in Keras object. Consider renaming <class 'keras.layers.recurrent.LSTMCell'> to avoid naming conflicts when loading with `tf.keras.models.load_model`. If renaming is not possible, pass the object in the `custom_objects` parameter of the load function.\n",
      "WARNING:absl:<keras.layers.recurrent.LSTMCell object at 0x000001AD405A2B80> has the same name 'LSTMCell' as a built-in Keras object. Consider renaming <class 'keras.layers.recurrent.LSTMCell'> to avoid naming conflicts when loading with `tf.keras.models.load_model`. If renaming is not possible, pass the object in the `custom_objects` parameter of the load function.\n"
     ]
    },
    {
     "name": "stdout",
     "output_type": "stream",
     "text": [
      "157/157 [==============================] - 32s 207ms/step - loss: 0.3599 - accuracy: 0.8493 - val_loss: 0.3463 - val_accuracy: 0.8576\n",
      "Epoch 5/100\n",
      "156/157 [============================>.] - ETA: 0s - loss: 0.3183 - accuracy: 0.8671\n",
      "Epoch 5: val_accuracy improved from 0.85760 to 0.86000, saving model to ./models_glove_bilstm\\checkpoint\n"
     ]
    },
    {
     "name": "stderr",
     "output_type": "stream",
     "text": [
      "WARNING:absl:Found untraced functions such as lstm_cell_32_layer_call_fn, lstm_cell_32_layer_call_and_return_conditional_losses, lstm_cell_33_layer_call_fn, lstm_cell_33_layer_call_and_return_conditional_losses while saving (showing 4 of 4). These functions will not be directly callable after loading.\n"
     ]
    },
    {
     "name": "stdout",
     "output_type": "stream",
     "text": [
      "INFO:tensorflow:Assets written to: ./models_glove_bilstm\\checkpoint\\assets\n"
     ]
    },
    {
     "name": "stderr",
     "output_type": "stream",
     "text": [
      "INFO:tensorflow:Assets written to: ./models_glove_bilstm\\checkpoint\\assets\n",
      "WARNING:absl:<keras.layers.recurrent.LSTMCell object at 0x000001AD405C08E0> has the same name 'LSTMCell' as a built-in Keras object. Consider renaming <class 'keras.layers.recurrent.LSTMCell'> to avoid naming conflicts when loading with `tf.keras.models.load_model`. If renaming is not possible, pass the object in the `custom_objects` parameter of the load function.\n",
      "WARNING:absl:<keras.layers.recurrent.LSTMCell object at 0x000001AD405A2B80> has the same name 'LSTMCell' as a built-in Keras object. Consider renaming <class 'keras.layers.recurrent.LSTMCell'> to avoid naming conflicts when loading with `tf.keras.models.load_model`. If renaming is not possible, pass the object in the `custom_objects` parameter of the load function.\n"
     ]
    },
    {
     "name": "stdout",
     "output_type": "stream",
     "text": [
      "157/157 [==============================] - 33s 208ms/step - loss: 0.3184 - accuracy: 0.8669 - val_loss: 0.3307 - val_accuracy: 0.8600\n",
      "Epoch 6/100\n",
      "157/157 [==============================] - ETA: 0s - loss: 0.2924 - accuracy: 0.8803\n",
      "Epoch 6: val_accuracy improved from 0.86000 to 0.86360, saving model to ./models_glove_bilstm\\checkpoint\n"
     ]
    },
    {
     "name": "stderr",
     "output_type": "stream",
     "text": [
      "WARNING:absl:Found untraced functions such as lstm_cell_32_layer_call_fn, lstm_cell_32_layer_call_and_return_conditional_losses, lstm_cell_33_layer_call_fn, lstm_cell_33_layer_call_and_return_conditional_losses while saving (showing 4 of 4). These functions will not be directly callable after loading.\n"
     ]
    },
    {
     "name": "stdout",
     "output_type": "stream",
     "text": [
      "INFO:tensorflow:Assets written to: ./models_glove_bilstm\\checkpoint\\assets\n"
     ]
    },
    {
     "name": "stderr",
     "output_type": "stream",
     "text": [
      "INFO:tensorflow:Assets written to: ./models_glove_bilstm\\checkpoint\\assets\n",
      "WARNING:absl:<keras.layers.recurrent.LSTMCell object at 0x000001AD405C08E0> has the same name 'LSTMCell' as a built-in Keras object. Consider renaming <class 'keras.layers.recurrent.LSTMCell'> to avoid naming conflicts when loading with `tf.keras.models.load_model`. If renaming is not possible, pass the object in the `custom_objects` parameter of the load function.\n",
      "WARNING:absl:<keras.layers.recurrent.LSTMCell object at 0x000001AD405A2B80> has the same name 'LSTMCell' as a built-in Keras object. Consider renaming <class 'keras.layers.recurrent.LSTMCell'> to avoid naming conflicts when loading with `tf.keras.models.load_model`. If renaming is not possible, pass the object in the `custom_objects` parameter of the load function.\n"
     ]
    },
    {
     "name": "stdout",
     "output_type": "stream",
     "text": [
      "157/157 [==============================] - 32s 203ms/step - loss: 0.2924 - accuracy: 0.8803 - val_loss: 0.3293 - val_accuracy: 0.8636\n",
      "Epoch 7/100\n",
      "156/157 [============================>.] - ETA: 0s - loss: 0.2711 - accuracy: 0.8919\n",
      "Epoch 7: val_accuracy did not improve from 0.86360\n",
      "157/157 [==============================] - 8s 54ms/step - loss: 0.2709 - accuracy: 0.8920 - val_loss: 0.3366 - val_accuracy: 0.8630\n",
      "Epoch 8/100\n",
      "157/157 [==============================] - ETA: 0s - loss: 0.2549 - accuracy: 0.8982\n",
      "Epoch 8: val_accuracy did not improve from 0.86360\n",
      "157/157 [==============================] - 9s 55ms/step - loss: 0.2549 - accuracy: 0.8982 - val_loss: 0.3890 - val_accuracy: 0.8476\n",
      "Epoch 9/100\n",
      "156/157 [============================>.] - ETA: 0s - loss: 0.2358 - accuracy: 0.9066\n",
      "Epoch 9: val_accuracy improved from 0.86360 to 0.86900, saving model to ./models_glove_bilstm\\checkpoint\n"
     ]
    },
    {
     "name": "stderr",
     "output_type": "stream",
     "text": [
      "WARNING:absl:Found untraced functions such as lstm_cell_32_layer_call_fn, lstm_cell_32_layer_call_and_return_conditional_losses, lstm_cell_33_layer_call_fn, lstm_cell_33_layer_call_and_return_conditional_losses while saving (showing 4 of 4). These functions will not be directly callable after loading.\n"
     ]
    },
    {
     "name": "stdout",
     "output_type": "stream",
     "text": [
      "INFO:tensorflow:Assets written to: ./models_glove_bilstm\\checkpoint\\assets\n"
     ]
    },
    {
     "name": "stderr",
     "output_type": "stream",
     "text": [
      "INFO:tensorflow:Assets written to: ./models_glove_bilstm\\checkpoint\\assets\n",
      "WARNING:absl:<keras.layers.recurrent.LSTMCell object at 0x000001AD405C08E0> has the same name 'LSTMCell' as a built-in Keras object. Consider renaming <class 'keras.layers.recurrent.LSTMCell'> to avoid naming conflicts when loading with `tf.keras.models.load_model`. If renaming is not possible, pass the object in the `custom_objects` parameter of the load function.\n",
      "WARNING:absl:<keras.layers.recurrent.LSTMCell object at 0x000001AD405A2B80> has the same name 'LSTMCell' as a built-in Keras object. Consider renaming <class 'keras.layers.recurrent.LSTMCell'> to avoid naming conflicts when loading with `tf.keras.models.load_model`. If renaming is not possible, pass the object in the `custom_objects` parameter of the load function.\n"
     ]
    },
    {
     "name": "stdout",
     "output_type": "stream",
     "text": [
      "157/157 [==============================] - 34s 215ms/step - loss: 0.2360 - accuracy: 0.9065 - val_loss: 0.3266 - val_accuracy: 0.8690\n",
      "Epoch 10/100\n",
      "157/157 [==============================] - ETA: 0s - loss: 0.2090 - accuracy: 0.9190\n",
      "Epoch 10: val_accuracy improved from 0.86900 to 0.87300, saving model to ./models_glove_bilstm\\checkpoint\n"
     ]
    },
    {
     "name": "stderr",
     "output_type": "stream",
     "text": [
      "WARNING:absl:Found untraced functions such as lstm_cell_32_layer_call_fn, lstm_cell_32_layer_call_and_return_conditional_losses, lstm_cell_33_layer_call_fn, lstm_cell_33_layer_call_and_return_conditional_losses while saving (showing 4 of 4). These functions will not be directly callable after loading.\n"
     ]
    },
    {
     "name": "stdout",
     "output_type": "stream",
     "text": [
      "INFO:tensorflow:Assets written to: ./models_glove_bilstm\\checkpoint\\assets\n"
     ]
    },
    {
     "name": "stderr",
     "output_type": "stream",
     "text": [
      "INFO:tensorflow:Assets written to: ./models_glove_bilstm\\checkpoint\\assets\n",
      "WARNING:absl:<keras.layers.recurrent.LSTMCell object at 0x000001AD405C08E0> has the same name 'LSTMCell' as a built-in Keras object. Consider renaming <class 'keras.layers.recurrent.LSTMCell'> to avoid naming conflicts when loading with `tf.keras.models.load_model`. If renaming is not possible, pass the object in the `custom_objects` parameter of the load function.\n",
      "WARNING:absl:<keras.layers.recurrent.LSTMCell object at 0x000001AD405A2B80> has the same name 'LSTMCell' as a built-in Keras object. Consider renaming <class 'keras.layers.recurrent.LSTMCell'> to avoid naming conflicts when loading with `tf.keras.models.load_model`. If renaming is not possible, pass the object in the `custom_objects` parameter of the load function.\n"
     ]
    },
    {
     "name": "stdout",
     "output_type": "stream",
     "text": [
      "157/157 [==============================] - 32s 202ms/step - loss: 0.2090 - accuracy: 0.9190 - val_loss: 0.3463 - val_accuracy: 0.8730\n",
      "Epoch 11/100\n",
      "156/157 [============================>.] - ETA: 0s - loss: 0.1916 - accuracy: 0.9262\n",
      "Epoch 11: val_accuracy did not improve from 0.87300\n",
      "157/157 [==============================] - 9s 58ms/step - loss: 0.1915 - accuracy: 0.9262 - val_loss: 0.3171 - val_accuracy: 0.8712\n",
      "Epoch 12/100\n",
      "157/157 [==============================] - ETA: 0s - loss: 0.1679 - accuracy: 0.9368\n",
      "Epoch 12: val_accuracy improved from 0.87300 to 0.87360, saving model to ./models_glove_bilstm\\checkpoint\n"
     ]
    },
    {
     "name": "stderr",
     "output_type": "stream",
     "text": [
      "WARNING:absl:Found untraced functions such as lstm_cell_32_layer_call_fn, lstm_cell_32_layer_call_and_return_conditional_losses, lstm_cell_33_layer_call_fn, lstm_cell_33_layer_call_and_return_conditional_losses while saving (showing 4 of 4). These functions will not be directly callable after loading.\n"
     ]
    },
    {
     "name": "stdout",
     "output_type": "stream",
     "text": [
      "INFO:tensorflow:Assets written to: ./models_glove_bilstm\\checkpoint\\assets\n"
     ]
    },
    {
     "name": "stderr",
     "output_type": "stream",
     "text": [
      "INFO:tensorflow:Assets written to: ./models_glove_bilstm\\checkpoint\\assets\n",
      "WARNING:absl:<keras.layers.recurrent.LSTMCell object at 0x000001AD405C08E0> has the same name 'LSTMCell' as a built-in Keras object. Consider renaming <class 'keras.layers.recurrent.LSTMCell'> to avoid naming conflicts when loading with `tf.keras.models.load_model`. If renaming is not possible, pass the object in the `custom_objects` parameter of the load function.\n",
      "WARNING:absl:<keras.layers.recurrent.LSTMCell object at 0x000001AD405A2B80> has the same name 'LSTMCell' as a built-in Keras object. Consider renaming <class 'keras.layers.recurrent.LSTMCell'> to avoid naming conflicts when loading with `tf.keras.models.load_model`. If renaming is not possible, pass the object in the `custom_objects` parameter of the load function.\n"
     ]
    },
    {
     "name": "stdout",
     "output_type": "stream",
     "text": [
      "157/157 [==============================] - 33s 209ms/step - loss: 0.1679 - accuracy: 0.9368 - val_loss: 0.3505 - val_accuracy: 0.8736\n",
      "Epoch 13/100\n",
      "157/157 [==============================] - ETA: 0s - loss: 0.1484 - accuracy: 0.9437\n",
      "Epoch 13: val_accuracy did not improve from 0.87360\n",
      "157/157 [==============================] - 9s 58ms/step - loss: 0.1484 - accuracy: 0.9437 - val_loss: 0.4126 - val_accuracy: 0.8662\n",
      "Epoch 14/100\n",
      "156/157 [============================>.] - ETA: 0s - loss: 0.1379 - accuracy: 0.9491\n",
      "Epoch 14: val_accuracy did not improve from 0.87360\n",
      "157/157 [==============================] - 8s 53ms/step - loss: 0.1379 - accuracy: 0.9492 - val_loss: 0.4348 - val_accuracy: 0.8736\n",
      "Epoch 15/100\n",
      "157/157 [==============================] - ETA: 0s - loss: 0.1036 - accuracy: 0.9635\n",
      "Epoch 15: val_accuracy did not improve from 0.87360\n",
      "157/157 [==============================] - 8s 52ms/step - loss: 0.1036 - accuracy: 0.9635 - val_loss: 0.4384 - val_accuracy: 0.8694\n",
      "Epoch 16/100\n",
      "156/157 [============================>.] - ETA: 0s - loss: 0.0960 - accuracy: 0.9656\n",
      "Epoch 16: val_accuracy did not improve from 0.87360\n",
      "157/157 [==============================] - 8s 52ms/step - loss: 0.0959 - accuracy: 0.9656 - val_loss: 0.4311 - val_accuracy: 0.8532\n",
      "Epoch 17/100\n",
      "157/157 [==============================] - ETA: 0s - loss: 0.0882 - accuracy: 0.9682\n",
      "Epoch 17: val_accuracy did not improve from 0.87360\n",
      "157/157 [==============================] - 8s 52ms/step - loss: 0.0882 - accuracy: 0.9682 - val_loss: 0.4351 - val_accuracy: 0.8578\n",
      "Epoch 18/100\n",
      "157/157 [==============================] - ETA: 0s - loss: 0.0663 - accuracy: 0.9779\n",
      "Epoch 18: val_accuracy did not improve from 0.87360\n",
      "157/157 [==============================] - 8s 51ms/step - loss: 0.0663 - accuracy: 0.9779 - val_loss: 0.4755 - val_accuracy: 0.8666\n",
      "Epoch 19/100\n",
      "157/157 [==============================] - ETA: 0s - loss: 0.0636 - accuracy: 0.9780\n",
      "Epoch 19: val_accuracy did not improve from 0.87360\n",
      "157/157 [==============================] - 8s 53ms/step - loss: 0.0636 - accuracy: 0.9780 - val_loss: 0.6091 - val_accuracy: 0.8466\n",
      "Epoch 20/100\n",
      "156/157 [============================>.] - ETA: 0s - loss: 0.0470 - accuracy: 0.9845\n",
      "Epoch 20: val_accuracy did not improve from 0.87360\n",
      "157/157 [==============================] - 9s 56ms/step - loss: 0.0470 - accuracy: 0.9845 - val_loss: 0.6432 - val_accuracy: 0.8656\n",
      "Epoch 21/100\n",
      "156/157 [============================>.] - ETA: 0s - loss: 0.0433 - accuracy: 0.9847\n",
      "Epoch 21: val_accuracy improved from 0.87360 to 0.87440, saving model to ./models_glove_bilstm\\checkpoint\n"
     ]
    },
    {
     "name": "stderr",
     "output_type": "stream",
     "text": [
      "WARNING:absl:Found untraced functions such as lstm_cell_32_layer_call_fn, lstm_cell_32_layer_call_and_return_conditional_losses, lstm_cell_33_layer_call_fn, lstm_cell_33_layer_call_and_return_conditional_losses while saving (showing 4 of 4). These functions will not be directly callable after loading.\n"
     ]
    },
    {
     "name": "stdout",
     "output_type": "stream",
     "text": [
      "INFO:tensorflow:Assets written to: ./models_glove_bilstm\\checkpoint\\assets\n"
     ]
    },
    {
     "name": "stderr",
     "output_type": "stream",
     "text": [
      "INFO:tensorflow:Assets written to: ./models_glove_bilstm\\checkpoint\\assets\n",
      "WARNING:absl:<keras.layers.recurrent.LSTMCell object at 0x000001AD405C08E0> has the same name 'LSTMCell' as a built-in Keras object. Consider renaming <class 'keras.layers.recurrent.LSTMCell'> to avoid naming conflicts when loading with `tf.keras.models.load_model`. If renaming is not possible, pass the object in the `custom_objects` parameter of the load function.\n",
      "WARNING:absl:<keras.layers.recurrent.LSTMCell object at 0x000001AD405A2B80> has the same name 'LSTMCell' as a built-in Keras object. Consider renaming <class 'keras.layers.recurrent.LSTMCell'> to avoid naming conflicts when loading with `tf.keras.models.load_model`. If renaming is not possible, pass the object in the `custom_objects` parameter of the load function.\n"
     ]
    },
    {
     "name": "stdout",
     "output_type": "stream",
     "text": [
      "157/157 [==============================] - 31s 201ms/step - loss: 0.0432 - accuracy: 0.9847 - val_loss: 0.6615 - val_accuracy: 0.8744\n",
      "Epoch 22/100\n",
      "156/157 [============================>.] - ETA: 0s - loss: 0.0375 - accuracy: 0.9873\n",
      "Epoch 22: val_accuracy did not improve from 0.87440\n",
      "157/157 [==============================] - 9s 55ms/step - loss: 0.0375 - accuracy: 0.9873 - val_loss: 0.6578 - val_accuracy: 0.8662\n",
      "Epoch 23/100\n",
      "156/157 [============================>.] - ETA: 0s - loss: 0.0336 - accuracy: 0.9890\n",
      "Epoch 23: val_accuracy did not improve from 0.87440\n",
      "157/157 [==============================] - 9s 55ms/step - loss: 0.0335 - accuracy: 0.9890 - val_loss: 0.7667 - val_accuracy: 0.8660\n",
      "Epoch 24/100\n",
      "157/157 [==============================] - ETA: 0s - loss: 0.1197 - accuracy: 0.9588\n",
      "Epoch 24: val_accuracy did not improve from 0.87440\n",
      "157/157 [==============================] - 9s 56ms/step - loss: 0.1197 - accuracy: 0.9588 - val_loss: 0.4412 - val_accuracy: 0.8658\n",
      "Epoch 25/100\n",
      "156/157 [============================>.] - ETA: 0s - loss: 0.0737 - accuracy: 0.9737\n",
      "Epoch 25: val_accuracy did not improve from 0.87440\n",
      "157/157 [==============================] - 9s 55ms/step - loss: 0.0737 - accuracy: 0.9737 - val_loss: 0.5564 - val_accuracy: 0.8660\n",
      "Epoch 26/100\n",
      "156/157 [============================>.] - ETA: 0s - loss: 0.0312 - accuracy: 0.9895\n",
      "Epoch 26: val_accuracy did not improve from 0.87440\n",
      "157/157 [==============================] - 8s 53ms/step - loss: 0.0312 - accuracy: 0.9895 - val_loss: 0.6677 - val_accuracy: 0.8592\n",
      "Epoch 27/100\n",
      "156/157 [============================>.] - ETA: 0s - loss: 0.0209 - accuracy: 0.9932\n",
      "Epoch 27: val_accuracy did not improve from 0.87440\n",
      "157/157 [==============================] - 8s 52ms/step - loss: 0.0208 - accuracy: 0.9932 - val_loss: 0.7282 - val_accuracy: 0.8658\n",
      "Epoch 28/100\n",
      "157/157 [==============================] - ETA: 0s - loss: 0.0200 - accuracy: 0.9937\n",
      "Epoch 28: val_accuracy did not improve from 0.87440\n",
      "157/157 [==============================] - 8s 51ms/step - loss: 0.0200 - accuracy: 0.9937 - val_loss: 0.8888 - val_accuracy: 0.8616\n",
      "Epoch 29/100\n",
      "157/157 [==============================] - ETA: 0s - loss: 0.0145 - accuracy: 0.9955\n",
      "Epoch 29: val_accuracy did not improve from 0.87440\n",
      "157/157 [==============================] - 8s 51ms/step - loss: 0.0145 - accuracy: 0.9955 - val_loss: 0.9229 - val_accuracy: 0.8672\n",
      "Epoch 30/100\n",
      "156/157 [============================>.] - ETA: 0s - loss: 0.0111 - accuracy: 0.9963\n",
      "Epoch 30: val_accuracy did not improve from 0.87440\n",
      "157/157 [==============================] - 8s 51ms/step - loss: 0.0111 - accuracy: 0.9963 - val_loss: 0.8747 - val_accuracy: 0.8690\n",
      "Epoch 31/100\n",
      "157/157 [==============================] - ETA: 0s - loss: 0.0229 - accuracy: 0.9920\n",
      "Epoch 31: val_accuracy did not improve from 0.87440\n",
      "157/157 [==============================] - 8s 52ms/step - loss: 0.0229 - accuracy: 0.9920 - val_loss: 0.8860 - val_accuracy: 0.8690\n",
      "Epoch 32/100\n",
      "156/157 [============================>.] - ETA: 0s - loss: 0.0154 - accuracy: 0.9948\n",
      "Epoch 32: val_accuracy did not improve from 0.87440\n",
      "157/157 [==============================] - 8s 53ms/step - loss: 0.0154 - accuracy: 0.9948 - val_loss: 0.8871 - val_accuracy: 0.8702\n",
      "Epoch 33/100\n",
      "157/157 [==============================] - ETA: 0s - loss: 0.0156 - accuracy: 0.9949\n",
      "Epoch 33: val_accuracy did not improve from 0.87440\n",
      "157/157 [==============================] - 9s 54ms/step - loss: 0.0156 - accuracy: 0.9949 - val_loss: 0.8237 - val_accuracy: 0.8614\n",
      "Epoch 34/100\n",
      "156/157 [============================>.] - ETA: 0s - loss: 0.0188 - accuracy: 0.9932\n",
      "Epoch 34: val_accuracy did not improve from 0.87440\n",
      "157/157 [==============================] - 9s 54ms/step - loss: 0.0188 - accuracy: 0.9933 - val_loss: 0.8854 - val_accuracy: 0.8614\n",
      "Epoch 35/100\n",
      "157/157 [==============================] - ETA: 0s - loss: 0.0119 - accuracy: 0.9960\n",
      "Epoch 35: val_accuracy did not improve from 0.87440\n",
      "157/157 [==============================] - 9s 55ms/step - loss: 0.0119 - accuracy: 0.9960 - val_loss: 0.9786 - val_accuracy: 0.8680\n",
      "Epoch 36/100\n",
      "156/157 [============================>.] - ETA: 0s - loss: 0.0122 - accuracy: 0.9957\n",
      "Epoch 36: val_accuracy did not improve from 0.87440\n",
      "157/157 [==============================] - 9s 55ms/step - loss: 0.0122 - accuracy: 0.9958 - val_loss: 0.9696 - val_accuracy: 0.8716\n",
      "Epoch 37/100\n",
      "157/157 [==============================] - ETA: 0s - loss: 0.0120 - accuracy: 0.9962\n",
      "Epoch 37: val_accuracy did not improve from 0.87440\n",
      "157/157 [==============================] - 8s 54ms/step - loss: 0.0120 - accuracy: 0.9962 - val_loss: 0.9462 - val_accuracy: 0.8680\n",
      "Epoch 38/100\n",
      "157/157 [==============================] - ETA: 0s - loss: 0.0267 - accuracy: 0.9916\n",
      "Epoch 38: val_accuracy did not improve from 0.87440\n",
      "157/157 [==============================] - 8s 53ms/step - loss: 0.0267 - accuracy: 0.9916 - val_loss: 0.7465 - val_accuracy: 0.8708\n",
      "Epoch 39/100\n",
      "157/157 [==============================] - ETA: 0s - loss: 0.0196 - accuracy: 0.9941\n",
      "Epoch 39: val_accuracy did not improve from 0.87440\n",
      "157/157 [==============================] - 8s 52ms/step - loss: 0.0196 - accuracy: 0.9941 - val_loss: 0.7692 - val_accuracy: 0.8564\n",
      "Epoch 40/100\n",
      "157/157 [==============================] - ETA: 0s - loss: 0.0107 - accuracy: 0.9962\n",
      "Epoch 40: val_accuracy did not improve from 0.87440\n",
      "157/157 [==============================] - 8s 51ms/step - loss: 0.0107 - accuracy: 0.9962 - val_loss: 0.9331 - val_accuracy: 0.8650\n",
      "Epoch 41/100\n",
      "156/157 [============================>.] - ETA: 0s - loss: 0.0050 - accuracy: 0.9984\n",
      "Epoch 41: val_accuracy did not improve from 0.87440\n",
      "157/157 [==============================] - 8s 51ms/step - loss: 0.0050 - accuracy: 0.9984 - val_loss: 1.0116 - val_accuracy: 0.8660\n",
      "Epoch 42/100\n",
      "156/157 [============================>.] - ETA: 0s - loss: 0.0084 - accuracy: 0.9972\n",
      "Epoch 42: val_accuracy did not improve from 0.87440\n",
      "157/157 [==============================] - 8s 51ms/step - loss: 0.0084 - accuracy: 0.9972 - val_loss: 1.0757 - val_accuracy: 0.8744\n",
      "Epoch 43/100\n",
      "157/157 [==============================] - ETA: 0s - loss: 0.0175 - accuracy: 0.9941\n",
      "Epoch 43: val_accuracy did not improve from 0.87440\n",
      "157/157 [==============================] - 8s 53ms/step - loss: 0.0175 - accuracy: 0.9941 - val_loss: 0.8237 - val_accuracy: 0.8646\n",
      "Epoch 44/100\n",
      "156/157 [============================>.] - ETA: 0s - loss: 0.0063 - accuracy: 0.9979\n",
      "Epoch 44: val_accuracy did not improve from 0.87440\n",
      "157/157 [==============================] - 8s 52ms/step - loss: 0.0062 - accuracy: 0.9980 - val_loss: 1.0347 - val_accuracy: 0.8700\n",
      "Epoch 45/100\n",
      "156/157 [============================>.] - ETA: 0s - loss: 0.0126 - accuracy: 0.9957\n",
      "Epoch 45: val_accuracy did not improve from 0.87440\n",
      "157/157 [==============================] - 8s 54ms/step - loss: 0.0126 - accuracy: 0.9957 - val_loss: 0.9519 - val_accuracy: 0.8624\n",
      "Epoch 46/100\n",
      "157/157 [==============================] - ETA: 0s - loss: 0.0084 - accuracy: 0.9973\n",
      "Epoch 46: val_accuracy did not improve from 0.87440\n",
      "157/157 [==============================] - 9s 54ms/step - loss: 0.0084 - accuracy: 0.9973 - val_loss: 1.0189 - val_accuracy: 0.8632\n",
      "Epoch 47/100\n",
      "156/157 [============================>.] - ETA: 0s - loss: 0.0084 - accuracy: 0.9972\n",
      "Epoch 47: val_accuracy did not improve from 0.87440\n",
      "157/157 [==============================] - 9s 55ms/step - loss: 0.0084 - accuracy: 0.9972 - val_loss: 1.0096 - val_accuracy: 0.8670\n",
      "Epoch 48/100\n",
      "157/157 [==============================] - ETA: 0s - loss: 0.0070 - accuracy: 0.9977\n",
      "Epoch 48: val_accuracy did not improve from 0.87440\n",
      "157/157 [==============================] - 9s 54ms/step - loss: 0.0070 - accuracy: 0.9977 - val_loss: 1.0314 - val_accuracy: 0.8644\n",
      "Epoch 49/100\n",
      "157/157 [==============================] - ETA: 0s - loss: 0.0048 - accuracy: 0.9985\n",
      "Epoch 49: val_accuracy did not improve from 0.87440\n",
      "157/157 [==============================] - 8s 54ms/step - loss: 0.0048 - accuracy: 0.9985 - val_loss: 1.0667 - val_accuracy: 0.8716\n",
      "Epoch 50/100\n",
      "157/157 [==============================] - ETA: 0s - loss: 0.0057 - accuracy: 0.9985\n",
      "Epoch 50: val_accuracy did not improve from 0.87440\n",
      "157/157 [==============================] - 8s 53ms/step - loss: 0.0057 - accuracy: 0.9985 - val_loss: 1.1266 - val_accuracy: 0.8604\n"
     ]
    },
    {
     "name": "stdout",
     "output_type": "stream",
     "text": [
      "Epoch 51/100\n",
      "156/157 [============================>.] - ETA: 0s - loss: 0.0195 - accuracy: 0.9940\n",
      "Epoch 51: val_accuracy did not improve from 0.87440\n",
      "157/157 [==============================] - 8s 52ms/step - loss: 0.0195 - accuracy: 0.9941 - val_loss: 0.7431 - val_accuracy: 0.8524\n",
      "Epoch 52/100\n",
      "157/157 [==============================] - ETA: 0s - loss: 0.0150 - accuracy: 0.9948\n",
      "Epoch 52: val_accuracy did not improve from 0.87440\n",
      "157/157 [==============================] - 8s 52ms/step - loss: 0.0150 - accuracy: 0.9948 - val_loss: 0.8482 - val_accuracy: 0.8692\n",
      "Epoch 53/100\n",
      "156/157 [============================>.] - ETA: 0s - loss: 0.0060 - accuracy: 0.9981\n",
      "Epoch 53: val_accuracy did not improve from 0.87440\n",
      "157/157 [==============================] - 8s 52ms/step - loss: 0.0060 - accuracy: 0.9981 - val_loss: 1.0457 - val_accuracy: 0.8660\n",
      "Epoch 54/100\n",
      "156/157 [============================>.] - ETA: 0s - loss: 0.0078 - accuracy: 0.9972\n",
      "Epoch 54: val_accuracy did not improve from 0.87440\n",
      "157/157 [==============================] - 8s 53ms/step - loss: 0.0078 - accuracy: 0.9973 - val_loss: 1.0215 - val_accuracy: 0.8574\n",
      "Epoch 55/100\n",
      "157/157 [==============================] - ETA: 0s - loss: 0.0178 - accuracy: 0.9940\n",
      "Epoch 55: val_accuracy did not improve from 0.87440\n",
      "157/157 [==============================] - 8s 52ms/step - loss: 0.0178 - accuracy: 0.9940 - val_loss: 0.7743 - val_accuracy: 0.8642\n",
      "Epoch 56/100\n",
      "156/157 [============================>.] - ETA: 0s - loss: 0.0075 - accuracy: 0.9978\n",
      "Epoch 56: val_accuracy did not improve from 0.87440\n",
      "157/157 [==============================] - 8s 53ms/step - loss: 0.0074 - accuracy: 0.9979 - val_loss: 0.8768 - val_accuracy: 0.8658\n",
      "Epoch 57/100\n",
      "157/157 [==============================] - ETA: 0s - loss: 0.0097 - accuracy: 0.9969\n",
      "Epoch 57: val_accuracy did not improve from 0.87440\n",
      "157/157 [==============================] - 8s 53ms/step - loss: 0.0097 - accuracy: 0.9969 - val_loss: 0.8594 - val_accuracy: 0.8688\n",
      "Epoch 58/100\n",
      "156/157 [============================>.] - ETA: 0s - loss: 0.0034 - accuracy: 0.9988\n",
      "Epoch 58: val_accuracy did not improve from 0.87440\n",
      "157/157 [==============================] - 9s 55ms/step - loss: 0.0034 - accuracy: 0.9988 - val_loss: 1.0467 - val_accuracy: 0.8690\n",
      "Epoch 59/100\n",
      "157/157 [==============================] - ETA: 0s - loss: 0.0242 - accuracy: 0.9933\n",
      "Epoch 59: val_accuracy did not improve from 0.87440\n",
      "157/157 [==============================] - 9s 55ms/step - loss: 0.0242 - accuracy: 0.9933 - val_loss: 0.7217 - val_accuracy: 0.8570\n",
      "Epoch 60/100\n",
      "157/157 [==============================] - ETA: 0s - loss: 0.0069 - accuracy: 0.9978\n",
      "Epoch 60: val_accuracy did not improve from 0.87440\n",
      "157/157 [==============================] - 9s 56ms/step - loss: 0.0069 - accuracy: 0.9978 - val_loss: 0.9248 - val_accuracy: 0.8686\n",
      "Epoch 61/100\n",
      "156/157 [============================>.] - ETA: 0s - loss: 0.0028 - accuracy: 0.9989\n",
      "Epoch 61: val_accuracy did not improve from 0.87440\n",
      "157/157 [==============================] - 9s 55ms/step - loss: 0.0028 - accuracy: 0.9990 - val_loss: 1.0974 - val_accuracy: 0.8732\n",
      "Epoch 62/100\n",
      "156/157 [============================>.] - ETA: 0s - loss: 9.8594e-04 - accuracy: 0.9996\n",
      "Epoch 62: val_accuracy did not improve from 0.87440\n",
      "157/157 [==============================] - 9s 55ms/step - loss: 9.9562e-04 - accuracy: 0.9997 - val_loss: 1.1577 - val_accuracy: 0.8716\n",
      "Epoch 63/100\n",
      "156/157 [============================>.] - ETA: 0s - loss: 0.0250 - accuracy: 0.9922\n",
      "Epoch 63: val_accuracy did not improve from 0.87440\n",
      "157/157 [==============================] - 8s 54ms/step - loss: 0.0250 - accuracy: 0.9922 - val_loss: 0.7382 - val_accuracy: 0.8714\n",
      "Epoch 64/100\n",
      "157/157 [==============================] - ETA: 0s - loss: 0.0100 - accuracy: 0.9968\n",
      "Epoch 64: val_accuracy did not improve from 0.87440\n",
      "157/157 [==============================] - 8s 54ms/step - loss: 0.0100 - accuracy: 0.9968 - val_loss: 0.8715 - val_accuracy: 0.8660\n",
      "Epoch 65/100\n",
      "156/157 [============================>.] - ETA: 0s - loss: 0.0032 - accuracy: 0.9991\n",
      "Epoch 65: val_accuracy did not improve from 0.87440\n",
      "157/157 [==============================] - 8s 54ms/step - loss: 0.0032 - accuracy: 0.9991 - val_loss: 1.0772 - val_accuracy: 0.8718\n",
      "Epoch 66/100\n",
      "156/157 [============================>.] - ETA: 0s - loss: 0.0015 - accuracy: 0.9995\n",
      "Epoch 66: val_accuracy did not improve from 0.87440\n",
      "157/157 [==============================] - 9s 54ms/step - loss: 0.0015 - accuracy: 0.9995 - val_loss: 1.1317 - val_accuracy: 0.8702\n",
      "Epoch 67/100\n",
      "157/157 [==============================] - ETA: 0s - loss: 9.7901e-04 - accuracy: 0.9996\n",
      "Epoch 67: val_accuracy improved from 0.87440 to 0.87460, saving model to ./models_glove_bilstm\\checkpoint\n"
     ]
    },
    {
     "name": "stderr",
     "output_type": "stream",
     "text": [
      "WARNING:absl:Found untraced functions such as lstm_cell_32_layer_call_fn, lstm_cell_32_layer_call_and_return_conditional_losses, lstm_cell_33_layer_call_fn, lstm_cell_33_layer_call_and_return_conditional_losses while saving (showing 4 of 4). These functions will not be directly callable after loading.\n"
     ]
    },
    {
     "name": "stdout",
     "output_type": "stream",
     "text": [
      "INFO:tensorflow:Assets written to: ./models_glove_bilstm\\checkpoint\\assets\n"
     ]
    },
    {
     "name": "stderr",
     "output_type": "stream",
     "text": [
      "INFO:tensorflow:Assets written to: ./models_glove_bilstm\\checkpoint\\assets\n",
      "WARNING:absl:<keras.layers.recurrent.LSTMCell object at 0x000001AD405C08E0> has the same name 'LSTMCell' as a built-in Keras object. Consider renaming <class 'keras.layers.recurrent.LSTMCell'> to avoid naming conflicts when loading with `tf.keras.models.load_model`. If renaming is not possible, pass the object in the `custom_objects` parameter of the load function.\n",
      "WARNING:absl:<keras.layers.recurrent.LSTMCell object at 0x000001AD405A2B80> has the same name 'LSTMCell' as a built-in Keras object. Consider renaming <class 'keras.layers.recurrent.LSTMCell'> to avoid naming conflicts when loading with `tf.keras.models.load_model`. If renaming is not possible, pass the object in the `custom_objects` parameter of the load function.\n"
     ]
    },
    {
     "name": "stdout",
     "output_type": "stream",
     "text": [
      "157/157 [==============================] - 32s 206ms/step - loss: 9.7901e-04 - accuracy: 0.9996 - val_loss: 1.2688 - val_accuracy: 0.8746\n",
      "Epoch 68/100\n",
      "156/157 [============================>.] - ETA: 0s - loss: 3.8030e-04 - accuracy: 0.9999\n",
      "Epoch 68: val_accuracy did not improve from 0.87460\n",
      "157/157 [==============================] - 9s 54ms/step - loss: 3.8137e-04 - accuracy: 0.9999 - val_loss: 1.3186 - val_accuracy: 0.8712\n",
      "Epoch 69/100\n",
      "157/157 [==============================] - ETA: 0s - loss: 0.0048 - accuracy: 0.9986\n",
      "Epoch 69: val_accuracy did not improve from 0.87460\n",
      "157/157 [==============================] - 8s 54ms/step - loss: 0.0048 - accuracy: 0.9986 - val_loss: 1.1776 - val_accuracy: 0.8652\n",
      "Epoch 70/100\n",
      "156/157 [============================>.] - ETA: 0s - loss: 0.0266 - accuracy: 0.9911\n",
      "Epoch 70: val_accuracy did not improve from 0.87460\n",
      "157/157 [==============================] - 8s 54ms/step - loss: 0.0266 - accuracy: 0.9912 - val_loss: 0.7655 - val_accuracy: 0.8630\n",
      "Epoch 71/100\n",
      "157/157 [==============================] - ETA: 0s - loss: 0.0092 - accuracy: 0.9971\n",
      "Epoch 71: val_accuracy did not improve from 0.87460\n",
      "157/157 [==============================] - 9s 55ms/step - loss: 0.0092 - accuracy: 0.9971 - val_loss: 0.9796 - val_accuracy: 0.8638\n",
      "Epoch 72/100\n",
      "156/157 [============================>.] - ETA: 0s - loss: 0.0070 - accuracy: 0.9982\n",
      "Epoch 72: val_accuracy did not improve from 0.87460\n",
      "157/157 [==============================] - 9s 58ms/step - loss: 0.0070 - accuracy: 0.9983 - val_loss: 1.0052 - val_accuracy: 0.8692\n",
      "Epoch 73/100\n",
      "156/157 [============================>.] - ETA: 0s - loss: 0.0055 - accuracy: 0.9980\n",
      "Epoch 73: val_accuracy did not improve from 0.87460\n",
      "157/157 [==============================] - 9s 55ms/step - loss: 0.0055 - accuracy: 0.9980 - val_loss: 1.0639 - val_accuracy: 0.8676\n",
      "Epoch 74/100\n",
      "156/157 [============================>.] - ETA: 0s - loss: 0.0052 - accuracy: 0.9985\n",
      "Epoch 74: val_accuracy did not improve from 0.87460\n",
      "157/157 [==============================] - 9s 55ms/step - loss: 0.0052 - accuracy: 0.9985 - val_loss: 0.9923 - val_accuracy: 0.8718\n",
      "Epoch 75/100\n",
      "156/157 [============================>.] - ETA: 0s - loss: 0.0158 - accuracy: 0.9952\n",
      "Epoch 75: val_accuracy did not improve from 0.87460\n",
      "157/157 [==============================] - 8s 54ms/step - loss: 0.0160 - accuracy: 0.9952 - val_loss: 0.7268 - val_accuracy: 0.8714\n",
      "Epoch 76/100\n",
      "157/157 [==============================] - ETA: 0s - loss: 0.0038 - accuracy: 0.9991\n",
      "Epoch 76: val_accuracy did not improve from 0.87460\n",
      "157/157 [==============================] - 9s 54ms/step - loss: 0.0038 - accuracy: 0.9991 - val_loss: 1.0552 - val_accuracy: 0.8662\n",
      "Epoch 77/100\n",
      "157/157 [==============================] - ETA: 0s - loss: 0.0022 - accuracy: 0.9993\n",
      "Epoch 77: val_accuracy did not improve from 0.87460\n",
      "157/157 [==============================] - 9s 54ms/step - loss: 0.0022 - accuracy: 0.9993 - val_loss: 1.0493 - val_accuracy: 0.8676\n",
      "Epoch 78/100\n",
      "156/157 [============================>.] - ETA: 0s - loss: 0.0016 - accuracy: 0.9996\n",
      "Epoch 78: val_accuracy did not improve from 0.87460\n",
      "157/157 [==============================] - 8s 53ms/step - loss: 0.0016 - accuracy: 0.9996 - val_loss: 1.2191 - val_accuracy: 0.8706\n",
      "Epoch 79/100\n",
      "157/157 [==============================] - ETA: 0s - loss: 0.0054 - accuracy: 0.9984\n",
      "Epoch 79: val_accuracy did not improve from 0.87460\n",
      "157/157 [==============================] - 8s 53ms/step - loss: 0.0054 - accuracy: 0.9984 - val_loss: 1.1460 - val_accuracy: 0.8484\n",
      "Epoch 80/100\n",
      "156/157 [============================>.] - ETA: 0s - loss: 0.0082 - accuracy: 0.9976\n",
      "Epoch 80: val_accuracy did not improve from 0.87460\n",
      "157/157 [==============================] - 8s 53ms/step - loss: 0.0082 - accuracy: 0.9976 - val_loss: 0.9752 - val_accuracy: 0.8622\n",
      "Epoch 81/100\n",
      "156/157 [============================>.] - ETA: 0s - loss: 0.0050 - accuracy: 0.9984\n",
      "Epoch 81: val_accuracy did not improve from 0.87460\n",
      "157/157 [==============================] - 8s 54ms/step - loss: 0.0050 - accuracy: 0.9984 - val_loss: 1.0811 - val_accuracy: 0.8670\n",
      "Epoch 82/100\n",
      "157/157 [==============================] - ETA: 0s - loss: 0.0052 - accuracy: 0.9984\n",
      "Epoch 82: val_accuracy did not improve from 0.87460\n",
      "157/157 [==============================] - 9s 54ms/step - loss: 0.0052 - accuracy: 0.9984 - val_loss: 1.1185 - val_accuracy: 0.8608\n",
      "Epoch 83/100\n",
      "157/157 [==============================] - ETA: 0s - loss: 0.0065 - accuracy: 0.9981\n",
      "Epoch 83: val_accuracy did not improve from 0.87460\n",
      "157/157 [==============================] - 9s 55ms/step - loss: 0.0065 - accuracy: 0.9981 - val_loss: 0.9405 - val_accuracy: 0.8638\n",
      "Epoch 84/100\n",
      "157/157 [==============================] - ETA: 0s - loss: 0.0119 - accuracy: 0.9963\n",
      "Epoch 84: val_accuracy did not improve from 0.87460\n",
      "157/157 [==============================] - 9s 57ms/step - loss: 0.0119 - accuracy: 0.9963 - val_loss: 0.8185 - val_accuracy: 0.8668\n",
      "Epoch 85/100\n",
      "156/157 [============================>.] - ETA: 0s - loss: 0.0088 - accuracy: 0.9973\n",
      "Epoch 85: val_accuracy did not improve from 0.87460\n",
      "157/157 [==============================] - 9s 56ms/step - loss: 0.0088 - accuracy: 0.9973 - val_loss: 1.1248 - val_accuracy: 0.8542\n",
      "Epoch 86/100\n",
      "156/157 [============================>.] - ETA: 0s - loss: 0.0082 - accuracy: 0.9974\n",
      "Epoch 86: val_accuracy did not improve from 0.87460\n",
      "157/157 [==============================] - 9s 56ms/step - loss: 0.0081 - accuracy: 0.9974 - val_loss: 1.0143 - val_accuracy: 0.8672\n",
      "Epoch 87/100\n",
      "156/157 [============================>.] - ETA: 0s - loss: 0.0071 - accuracy: 0.9976\n",
      "Epoch 87: val_accuracy did not improve from 0.87460\n",
      "157/157 [==============================] - 8s 54ms/step - loss: 0.0071 - accuracy: 0.9976 - val_loss: 0.9436 - val_accuracy: 0.8608\n",
      "Epoch 88/100\n",
      "156/157 [============================>.] - ETA: 0s - loss: 0.0105 - accuracy: 0.9965\n",
      "Epoch 88: val_accuracy did not improve from 0.87460\n",
      "157/157 [==============================] - 8s 53ms/step - loss: 0.0105 - accuracy: 0.9965 - val_loss: 0.9834 - val_accuracy: 0.8660\n",
      "Epoch 89/100\n",
      "157/157 [==============================] - ETA: 0s - loss: 0.0075 - accuracy: 0.9975\n",
      "Epoch 89: val_accuracy did not improve from 0.87460\n",
      "157/157 [==============================] - 9s 55ms/step - loss: 0.0075 - accuracy: 0.9975 - val_loss: 0.9013 - val_accuracy: 0.8578\n",
      "Epoch 90/100\n",
      "157/157 [==============================] - ETA: 0s - loss: 0.0052 - accuracy: 0.9983\n",
      "Epoch 90: val_accuracy did not improve from 0.87460\n",
      "157/157 [==============================] - 9s 56ms/step - loss: 0.0052 - accuracy: 0.9983 - val_loss: 1.1061 - val_accuracy: 0.8612\n",
      "Epoch 91/100\n",
      "156/157 [============================>.] - ETA: 0s - loss: 0.0061 - accuracy: 0.9980\n",
      "Epoch 91: val_accuracy did not improve from 0.87460\n",
      "157/157 [==============================] - 9s 54ms/step - loss: 0.0061 - accuracy: 0.9980 - val_loss: 1.0902 - val_accuracy: 0.8624\n",
      "Epoch 92/100\n",
      "157/157 [==============================] - ETA: 0s - loss: 9.9794e-04 - accuracy: 0.9998\n",
      "Epoch 92: val_accuracy did not improve from 0.87460\n",
      "157/157 [==============================] - 8s 54ms/step - loss: 9.9794e-04 - accuracy: 0.9998 - val_loss: 1.2080 - val_accuracy: 0.8600\n",
      "Epoch 93/100\n",
      "156/157 [============================>.] - ETA: 0s - loss: 0.0024 - accuracy: 0.9993\n",
      "Epoch 93: val_accuracy did not improve from 0.87460\n",
      "157/157 [==============================] - 8s 54ms/step - loss: 0.0024 - accuracy: 0.9993 - val_loss: 1.2402 - val_accuracy: 0.8644\n",
      "Epoch 94/100\n",
      "156/157 [============================>.] - ETA: 0s - loss: 0.0213 - accuracy: 0.9940\n",
      "Epoch 94: val_accuracy did not improve from 0.87460\n",
      "157/157 [==============================] - 8s 53ms/step - loss: 0.0213 - accuracy: 0.9941 - val_loss: 0.8540 - val_accuracy: 0.8686\n",
      "Epoch 95/100\n",
      "157/157 [==============================] - ETA: 0s - loss: 0.0021 - accuracy: 0.9995\n",
      "Epoch 95: val_accuracy did not improve from 0.87460\n",
      "157/157 [==============================] - 8s 53ms/step - loss: 0.0021 - accuracy: 0.9995 - val_loss: 1.1428 - val_accuracy: 0.8696\n",
      "Epoch 96/100\n",
      "156/157 [============================>.] - ETA: 0s - loss: 0.0014 - accuracy: 0.9996\n",
      "Epoch 96: val_accuracy did not improve from 0.87460\n"
     ]
    },
    {
     "name": "stdout",
     "output_type": "stream",
     "text": [
      "157/157 [==============================] - 8s 53ms/step - loss: 0.0014 - accuracy: 0.9997 - val_loss: 1.2326 - val_accuracy: 0.8588\n",
      "Epoch 97/100\n",
      "157/157 [==============================] - ETA: 0s - loss: 0.0051 - accuracy: 0.9985\n",
      "Epoch 97: val_accuracy did not improve from 0.87460\n",
      "157/157 [==============================] - 8s 54ms/step - loss: 0.0051 - accuracy: 0.9985 - val_loss: 1.0670 - val_accuracy: 0.8614\n",
      "Epoch 98/100\n",
      "156/157 [============================>.] - ETA: 0s - loss: 0.0093 - accuracy: 0.9972\n",
      "Epoch 98: val_accuracy did not improve from 0.87460\n",
      "157/157 [==============================] - 8s 53ms/step - loss: 0.0093 - accuracy: 0.9973 - val_loss: 1.0666 - val_accuracy: 0.8660\n",
      "Epoch 99/100\n",
      "157/157 [==============================] - ETA: 0s - loss: 0.0037 - accuracy: 0.9985\n",
      "Epoch 99: val_accuracy did not improve from 0.87460\n",
      "157/157 [==============================] - 8s 53ms/step - loss: 0.0037 - accuracy: 0.9985 - val_loss: 1.1063 - val_accuracy: 0.8646\n",
      "Epoch 100/100\n",
      "157/157 [==============================] - ETA: 0s - loss: 0.0016 - accuracy: 0.9992\n",
      "Epoch 100: val_accuracy did not improve from 0.87460\n",
      "157/157 [==============================] - 8s 54ms/step - loss: 0.0016 - accuracy: 0.9992 - val_loss: 1.2610 - val_accuracy: 0.8676\n"
     ]
    },
    {
     "data": {
      "text/plain": [
       "<keras.callbacks.History at 0x1b1061bac40>"
      ]
     },
     "execution_count": 168,
     "metadata": {},
     "output_type": "execute_result"
    }
   ],
   "source": [
    "model.compile('adam', loss=BinaryCrossentropy(), metrics='accuracy')\n",
    "\n",
    "model.fit(x=train_x,\n",
    "         y=train_y,\n",
    "         batch_size=128,\n",
    "         epochs=100,\n",
    "         validation_data=(val_x, val_y),\n",
    "         callbacks=callbacks)"
   ]
  },
  {
   "cell_type": "code",
   "execution_count": 169,
   "id": "fceba0ff",
   "metadata": {},
   "outputs": [],
   "source": [
    "model = load_model('./models_glove_bilstm/checkpoint')"
   ]
  },
  {
   "cell_type": "code",
   "execution_count": 170,
   "id": "17d06c83",
   "metadata": {},
   "outputs": [
    {
     "name": "stdout",
     "output_type": "stream",
     "text": [
      "f1 : 1.0\n",
      "acc: 1.0\n"
     ]
    },
    {
     "data": {
      "image/png": "[encoded data removed]",
      "text/plain": [
       "<Figure size 432x288 with 2 Axes>"
      ]
     },
     "metadata": {
      "needs_background": "light"
     },
     "output_type": "display_data"
    }
   ],
   "source": [
    "predict_result(model, train_x[:1000], train_y[:1000])"
   ]
  },
  {
   "cell_type": "code",
   "execution_count": 171,
   "id": "1959c5cc",
   "metadata": {},
   "outputs": [
    {
     "name": "stdout",
     "output_type": "stream",
     "text": [
      "f1 : 0.8764480290989601\n",
      "acc: 0.875\n"
     ]
    },
    {
     "data": {
      "image/png": "[encoded data removed]",
      "text/plain": [
       "<Figure size 432x288 with 2 Axes>"
      ]
     },
     "metadata": {
      "needs_background": "light"
     },
     "output_type": "display_data"
    }
   ],
   "source": [
    "predict_result(model, test_x, test_y)"
   ]
  },
  {
   "cell_type": "code",
   "execution_count": null,
   "id": "4b573fce",
   "metadata": {},
   "outputs": [],
   "source": []
  },
  {
   "cell_type": "code",
   "execution_count": null,
   "id": "8512defd",
   "metadata": {},
   "outputs": [],
   "source": []
  }
 ],
 "metadata": {
  "kernelspec": {
   "display_name": "Python 3 (ipykernel)",
   "language": "python",
   "name": "python3"
  },
  "language_info": {
   "codemirror_mode": {
    "name": "ipython",
    "version": 3
   },
   "file_extension": ".py",
   "mimetype": "text/x-python",
   "name": "python",
   "nbconvert_exporter": "python",
   "pygments_lexer": "ipython3",
   "version": "3.9.0"
  }
 },
 "nbformat": 4,
 "nbformat_minor": 5
}
