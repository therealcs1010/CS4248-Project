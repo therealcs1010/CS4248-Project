{
 "cells": [
  {
   "cell_type": "code",
   "execution_count": 2,
   "id": "8d0cdfe1",
   "metadata": {},
   "outputs": [],
   "source": [
    "import pandas as pd\n",
    "import tensorflow as tf\n",
    "from tensorflow.keras.models import Sequential, load_model\n",
    "from tensorflow.keras.layers import Dense, Dropout, LSTM, Embedding, GRU, SpatialDropout1D, Bidirectional, MaxPooling1D, Conv2D, Flatten\n",
    "from tensorflow.keras.callbacks import EarlyStopping, ModelCheckpoint\n",
    "from tensorflow.keras.losses import CategoricalCrossentropy\n",
    "from tensorflow.keras.preprocessing.text import Tokenizer\n",
    "from tensorflow.keras.preprocessing.sequence import pad_sequences\n",
    "from tensorflow.keras.optimizers import SGD\n",
    "from tensorflow.keras.utils import to_categorical\n",
    "import spacy\n",
    "from tqdm.notebook import tqdm_notebook\n",
    "from sklearn.model_selection import train_test_split\n",
    "from sklearn.metrics import ConfusionMatrixDisplay, accuracy_score, f1_score\n",
    "from sklearn.metrics import confusion_matrix\n",
    "spacy.require_gpu()\n",
    "import scikitplot as skplt\n",
    "import numpy as np\n",
    "from sklearn.preprocessing import LabelEncoder\n",
    "from sklearn.preprocessing import OneHotEncoder\n",
    "from tqdm import tqdm\n",
    "tqdm.pandas()\n",
    "from nltk.corpus import stopwords\n",
    "import string"
   ]
  },
  {
   "cell_type": "markdown",
   "id": "090ea0ac",
   "metadata": {},
   "source": [
    "# Load the training and testing data"
   ]
  },
  {
   "cell_type": "code",
   "execution_count": 2,
   "id": "aed6711b",
   "metadata": {},
   "outputs": [],
   "source": [
    "processed_directory = '../processed_data/'\n",
    "train_df = pd.read_csv('../processed_data/train.json')\n",
    "test_df = pd.read_json('../processed_data/test.json')"
   ]
  },
  {
   "cell_type": "code",
   "execution_count": 3,
   "id": "22583e10",
   "metadata": {},
   "outputs": [
    {
     "data": {
      "text/html": [
       "<div>\n",
       "<style scoped>\n",
       "    .dataframe tbody tr th:only-of-type {\n",
       "        vertical-align: middle;\n",
       "    }\n",
       "\n",
       "    .dataframe tbody tr th {\n",
       "        vertical-align: top;\n",
       "    }\n",
       "\n",
       "    .dataframe thead th {\n",
       "        text-align: right;\n",
       "    }\n",
       "</style>\n",
       "<table border=\"1\" class=\"dataframe\">\n",
       "  <thead>\n",
       "    <tr style=\"text-align: right;\">\n",
       "      <th></th>\n",
       "      <th>text</th>\n",
       "      <th>label</th>\n",
       "    </tr>\n",
       "  </thead>\n",
       "  <tbody>\n",
       "    <tr>\n",
       "      <th>0</th>\n",
       "      <td>Bromwell High is a cartoon comedy. It ran at t...</td>\n",
       "      <td>+</td>\n",
       "    </tr>\n",
       "    <tr>\n",
       "      <th>1</th>\n",
       "      <td>Homelessness (or Houselessness as George Carli...</td>\n",
       "      <td>+</td>\n",
       "    </tr>\n",
       "    <tr>\n",
       "      <th>2</th>\n",
       "      <td>Brilliant over-acting by Lesley Ann Warren. Be...</td>\n",
       "      <td>+</td>\n",
       "    </tr>\n",
       "    <tr>\n",
       "      <th>3</th>\n",
       "      <td>This is easily the most underrated film inn th...</td>\n",
       "      <td>+</td>\n",
       "    </tr>\n",
       "    <tr>\n",
       "      <th>4</th>\n",
       "      <td>This is not the typical Mel Brooks film. It wa...</td>\n",
       "      <td>+</td>\n",
       "    </tr>\n",
       "    <tr>\n",
       "      <th>...</th>\n",
       "      <td>...</td>\n",
       "      <td>...</td>\n",
       "    </tr>\n",
       "    <tr>\n",
       "      <th>24995</th>\n",
       "      <td>Towards the end of the movie, I felt it was to...</td>\n",
       "      <td>-</td>\n",
       "    </tr>\n",
       "    <tr>\n",
       "      <th>24996</th>\n",
       "      <td>This is the kind of movie that my enemies cont...</td>\n",
       "      <td>-</td>\n",
       "    </tr>\n",
       "    <tr>\n",
       "      <th>24997</th>\n",
       "      <td>I saw 'Descent' last night at the Stockholm Fi...</td>\n",
       "      <td>-</td>\n",
       "    </tr>\n",
       "    <tr>\n",
       "      <th>24998</th>\n",
       "      <td>Some films that you pick up for a pound turn o...</td>\n",
       "      <td>-</td>\n",
       "    </tr>\n",
       "    <tr>\n",
       "      <th>24999</th>\n",
       "      <td>This is one of the dumbest films, I've ever se...</td>\n",
       "      <td>-</td>\n",
       "    </tr>\n",
       "  </tbody>\n",
       "</table>\n",
       "<p>25000 rows × 2 columns</p>\n",
       "</div>"
      ],
      "text/plain": [
       "                                                    text label\n",
       "0      Bromwell High is a cartoon comedy. It ran at t...     +\n",
       "1      Homelessness (or Houselessness as George Carli...     +\n",
       "2      Brilliant over-acting by Lesley Ann Warren. Be...     +\n",
       "3      This is easily the most underrated film inn th...     +\n",
       "4      This is not the typical Mel Brooks film. It wa...     +\n",
       "...                                                  ...   ...\n",
       "24995  Towards the end of the movie, I felt it was to...     -\n",
       "24996  This is the kind of movie that my enemies cont...     -\n",
       "24997  I saw 'Descent' last night at the Stockholm Fi...     -\n",
       "24998  Some films that you pick up for a pound turn o...     -\n",
       "24999  This is one of the dumbest films, I've ever se...     -\n",
       "\n",
       "[25000 rows x 2 columns]"
      ]
     },
     "execution_count": 3,
     "metadata": {},
     "output_type": "execute_result"
    }
   ],
   "source": [
    "train_df = train_df[['text', 'label']]\n",
    "train_df"
   ]
  },
  {
   "cell_type": "code",
   "execution_count": 4,
   "id": "9effc603",
   "metadata": {},
   "outputs": [
    {
     "data": {
      "text/html": [
       "<div>\n",
       "<style scoped>\n",
       "    .dataframe tbody tr th:only-of-type {\n",
       "        vertical-align: middle;\n",
       "    }\n",
       "\n",
       "    .dataframe tbody tr th {\n",
       "        vertical-align: top;\n",
       "    }\n",
       "\n",
       "    .dataframe thead th {\n",
       "        text-align: right;\n",
       "    }\n",
       "</style>\n",
       "<table border=\"1\" class=\"dataframe\">\n",
       "  <thead>\n",
       "    <tr style=\"text-align: right;\">\n",
       "      <th></th>\n",
       "      <th>text</th>\n",
       "      <th>label</th>\n",
       "    </tr>\n",
       "  </thead>\n",
       "  <tbody>\n",
       "    <tr>\n",
       "      <th>0</th>\n",
       "      <td>In Panic In The Streets Richard Widmark plays ...</td>\n",
       "      <td>+</td>\n",
       "    </tr>\n",
       "    <tr>\n",
       "      <th>1</th>\n",
       "      <td>If you ask me the first one was really better ...</td>\n",
       "      <td>-</td>\n",
       "    </tr>\n",
       "    <tr>\n",
       "      <th>2</th>\n",
       "      <td>I am a big fan a Faerie Tale Theatre and I've ...</td>\n",
       "      <td>+</td>\n",
       "    </tr>\n",
       "    <tr>\n",
       "      <th>3</th>\n",
       "      <td>I just finished reading a book about Dillinger...</td>\n",
       "      <td>-</td>\n",
       "    </tr>\n",
       "    <tr>\n",
       "      <th>4</th>\n",
       "      <td>Greg Davis and Bryan Daly take some crazed sta...</td>\n",
       "      <td>-</td>\n",
       "    </tr>\n",
       "    <tr>\n",
       "      <th>...</th>\n",
       "      <td>...</td>\n",
       "      <td>...</td>\n",
       "    </tr>\n",
       "    <tr>\n",
       "      <th>24995</th>\n",
       "      <td>My roommates &amp; I nearly shorted out our TV fro...</td>\n",
       "      <td>-</td>\n",
       "    </tr>\n",
       "    <tr>\n",
       "      <th>24996</th>\n",
       "      <td>Michelle Rodriguez is the defining actress who...</td>\n",
       "      <td>+</td>\n",
       "    </tr>\n",
       "    <tr>\n",
       "      <th>24997</th>\n",
       "      <td>Nice movie with a great soundtrack which spans...</td>\n",
       "      <td>+</td>\n",
       "    </tr>\n",
       "    <tr>\n",
       "      <th>24998</th>\n",
       "      <td>Even though this was a made-for-TV production,...</td>\n",
       "      <td>-</td>\n",
       "    </tr>\n",
       "    <tr>\n",
       "      <th>24999</th>\n",
       "      <td>I saw this on cable recently and kinda enjoyed...</td>\n",
       "      <td>-</td>\n",
       "    </tr>\n",
       "  </tbody>\n",
       "</table>\n",
       "<p>25000 rows × 2 columns</p>\n",
       "</div>"
      ],
      "text/plain": [
       "                                                    text label\n",
       "0      In Panic In The Streets Richard Widmark plays ...     +\n",
       "1      If you ask me the first one was really better ...     -\n",
       "2      I am a big fan a Faerie Tale Theatre and I've ...     +\n",
       "3      I just finished reading a book about Dillinger...     -\n",
       "4      Greg Davis and Bryan Daly take some crazed sta...     -\n",
       "...                                                  ...   ...\n",
       "24995  My roommates & I nearly shorted out our TV fro...     -\n",
       "24996  Michelle Rodriguez is the defining actress who...     +\n",
       "24997  Nice movie with a great soundtrack which spans...     +\n",
       "24998  Even though this was a made-for-TV production,...     -\n",
       "24999  I saw this on cable recently and kinda enjoyed...     -\n",
       "\n",
       "[25000 rows x 2 columns]"
      ]
     },
     "execution_count": 4,
     "metadata": {},
     "output_type": "execute_result"
    }
   ],
   "source": [
    "train_df = train_df.sample(len(train_df), random_state=42)\n",
    "train_df.reset_index(inplace=True, drop=True)\n",
    "train_df"
   ]
  },
  {
   "cell_type": "code",
   "execution_count": 5,
   "id": "478d9cfc",
   "metadata": {},
   "outputs": [],
   "source": [
    "nlp = spacy.load('en_core_web_lg', disable=['parser', 'ner'])"
   ]
  },
  {
   "cell_type": "markdown",
   "id": "d23d82e8",
   "metadata": {},
   "source": [
    "# Doing a bit of checking"
   ]
  },
  {
   "cell_type": "code",
   "execution_count": 6,
   "id": "fda968ca",
   "metadata": {},
   "outputs": [
    {
     "name": "stderr",
     "output_type": "stream",
     "text": [
      "100%|███████████████████████████████████████████████████████████████████████████████████████████████| 25000/25000 [00:00<00:00, 120745.54it/s]\n",
      "100%|███████████████████████████████████████████████████████████████████████████████████████████████| 25000/25000 [00:00<00:00, 125599.93it/s]\n"
     ]
    }
   ],
   "source": [
    "def get_len(s):\n",
    "    return len(s.split())\n",
    "len_df_train = train_df['text'].progress_apply(get_len)\n",
    "len_df_test = test_df['text'].progress_apply(get_len)\n"
   ]
  },
  {
   "cell_type": "code",
   "execution_count": 7,
   "id": "27dc43fc",
   "metadata": {},
   "outputs": [
    {
     "data": {
      "text/plain": [
       "count    25000.000000\n",
       "mean       233.787200\n",
       "std        173.733032\n",
       "min         10.000000\n",
       "25%        127.000000\n",
       "50%        174.000000\n",
       "75%        284.000000\n",
       "max       2470.000000\n",
       "Name: text, dtype: float64"
      ]
     },
     "execution_count": 7,
     "metadata": {},
     "output_type": "execute_result"
    },
    {
     "data": {
      "image/png": "[encoded data removed]",
      "text/plain": [
       "<Figure size 432x288 with 1 Axes>"
      ]
     },
     "metadata": {
      "needs_background": "light"
     },
     "output_type": "display_data"
    }
   ],
   "source": [
    "len_df_train.hist()\n",
    "len_df_train.describe()"
   ]
  },
  {
   "cell_type": "code",
   "execution_count": 8,
   "id": "40264698",
   "metadata": {},
   "outputs": [
    {
     "data": {
      "text/plain": [
       "count    25000.000000\n",
       "mean       228.526680\n",
       "std        168.883693\n",
       "min          4.000000\n",
       "25%        126.000000\n",
       "50%        172.000000\n",
       "75%        277.000000\n",
       "max       2278.000000\n",
       "Name: text, dtype: float64"
      ]
     },
     "execution_count": 8,
     "metadata": {},
     "output_type": "execute_result"
    },
    {
     "data": {
      "image/png": "[encoded data removed]",
      "text/plain": [
       "<Figure size 432x288 with 1 Axes>"
      ]
     },
     "metadata": {
      "needs_background": "light"
     },
     "output_type": "display_data"
    }
   ],
   "source": [
    "len_df_test.hist()\n",
    "len_df_test.describe()"
   ]
  },
  {
   "cell_type": "markdown",
   "id": "321348ed",
   "metadata": {},
   "source": [
    "# Clean text"
   ]
  },
  {
   "cell_type": "code",
   "execution_count": 10,
   "id": "2691719f",
   "metadata": {},
   "outputs": [],
   "source": [
    "def clean_text(text):\n",
    "    text = text.lower()\n",
    "    text = text.translate(str.maketrans('', '', string.punctuation))\n",
    "    return text\n",
    "\n",
    "def preprocess_text(df):\n",
    "    df['text'] = df['text'].progress_apply(clean_text)\n",
    "    docs = list(nlp.pipe(df['text'].values))\n",
    "    text = [' '.join([token.lemma_ for token in doc if not token.is_stop]) for doc in docs]\n",
    "    df['text'] = pd.Series(text)\n",
    "    "
   ]
  },
  {
   "cell_type": "code",
   "execution_count": 11,
   "id": "c69a3181",
   "metadata": {},
   "outputs": [
    {
     "name": "stderr",
     "output_type": "stream",
     "text": [
      "100%|████████████████████████████████████████████████████████████████████████████████████████████████| 25000/25000 [00:00<00:00, 66006.29it/s]\n",
      "100%|████████████████████████████████████████████████████████████████████████████████████████████████| 25000/25000 [00:00<00:00, 70217.39it/s]\n"
     ]
    }
   ],
   "source": [
    "preprocess_text(train_df)\n",
    "preprocess_text(test_df)"
   ]
  },
  {
   "cell_type": "code",
   "execution_count": 12,
   "id": "256023df",
   "metadata": {},
   "outputs": [
    {
     "data": {
      "text/html": [
       "<div>\n",
       "<style scoped>\n",
       "    .dataframe tbody tr th:only-of-type {\n",
       "        vertical-align: middle;\n",
       "    }\n",
       "\n",
       "    .dataframe tbody tr th {\n",
       "        vertical-align: top;\n",
       "    }\n",
       "\n",
       "    .dataframe thead th {\n",
       "        text-align: right;\n",
       "    }\n",
       "</style>\n",
       "<table border=\"1\" class=\"dataframe\">\n",
       "  <thead>\n",
       "    <tr style=\"text-align: right;\">\n",
       "      <th></th>\n",
       "      <th>text</th>\n",
       "      <th>label</th>\n",
       "    </tr>\n",
       "  </thead>\n",
       "  <tbody>\n",
       "    <tr>\n",
       "      <th>0</th>\n",
       "      <td>panic street richard widmark play navy doctor ...</td>\n",
       "      <td>+</td>\n",
       "    </tr>\n",
       "    <tr>\n",
       "      <th>1</th>\n",
       "      <td>ask well look sarah m g real mean cruel girl l...</td>\n",
       "      <td>-</td>\n",
       "    </tr>\n",
       "    <tr>\n",
       "      <th>2</th>\n",
       "      <td>big fan faerie tale theatre ve see good funny ...</td>\n",
       "      <td>+</td>\n",
       "    </tr>\n",
       "    <tr>\n",
       "      <th>3</th>\n",
       "      <td>finish read book dillinger movie horribly inac...</td>\n",
       "      <td>-</td>\n",
       "    </tr>\n",
       "    <tr>\n",
       "      <th>4</th>\n",
       "      <td>greg davis bryan daly crazed statement terrori...</td>\n",
       "      <td>-</td>\n",
       "    </tr>\n",
       "    <tr>\n",
       "      <th>...</th>\n",
       "      <td>...</td>\n",
       "      <td>...</td>\n",
       "    </tr>\n",
       "    <tr>\n",
       "      <th>24995</th>\n",
       "      <td>roommate   nearly short tv numerous spittake w...</td>\n",
       "      <td>-</td>\n",
       "    </tr>\n",
       "    <tr>\n",
       "      <th>24996</th>\n",
       "      <td>michelle rodriguez define actress charge force...</td>\n",
       "      <td>+</td>\n",
       "    </tr>\n",
       "    <tr>\n",
       "      <th>24997</th>\n",
       "      <td>nice movie great soundtrack span rock landscap...</td>\n",
       "      <td>+</td>\n",
       "    </tr>\n",
       "    <tr>\n",
       "      <th>24998</th>\n",
       "      <td>madefortv production s absolutely excuse rock ...</td>\n",
       "      <td>-</td>\n",
       "    </tr>\n",
       "    <tr>\n",
       "      <th>24999</th>\n",
       "      <td>see cable recently kinda enjoy ve read comment...</td>\n",
       "      <td>-</td>\n",
       "    </tr>\n",
       "  </tbody>\n",
       "</table>\n",
       "<p>25000 rows × 2 columns</p>\n",
       "</div>"
      ],
      "text/plain": [
       "                                                    text label\n",
       "0      panic street richard widmark play navy doctor ...     +\n",
       "1      ask well look sarah m g real mean cruel girl l...     -\n",
       "2      big fan faerie tale theatre ve see good funny ...     +\n",
       "3      finish read book dillinger movie horribly inac...     -\n",
       "4      greg davis bryan daly crazed statement terrori...     -\n",
       "...                                                  ...   ...\n",
       "24995  roommate   nearly short tv numerous spittake w...     -\n",
       "24996  michelle rodriguez define actress charge force...     +\n",
       "24997  nice movie great soundtrack span rock landscap...     +\n",
       "24998  madefortv production s absolutely excuse rock ...     -\n",
       "24999  see cable recently kinda enjoy ve read comment...     -\n",
       "\n",
       "[25000 rows x 2 columns]"
      ]
     },
     "execution_count": 12,
     "metadata": {},
     "output_type": "execute_result"
    }
   ],
   "source": [
    "train_df"
   ]
  },
  {
   "cell_type": "code",
   "execution_count": 13,
   "id": "2d2560b1",
   "metadata": {},
   "outputs": [
    {
     "name": "stderr",
     "output_type": "stream",
     "text": [
      "100%|███████████████████████████████████████████████████████████████████████████████████████████████| 25000/25000 [00:00<00:00, 233592.56it/s]\n",
      "100%|███████████████████████████████████████████████████████████████████████████████████████████████| 25000/25000 [00:00<00:00, 238043.31it/s]\n"
     ]
    }
   ],
   "source": [
    "len_df_train = train_df['text'].progress_apply(get_len)\n",
    "len_df_test = test_df['text'].progress_apply(get_len)\n"
   ]
  },
  {
   "cell_type": "code",
   "execution_count": 14,
   "id": "1398cc13",
   "metadata": {},
   "outputs": [
    {
     "data": {
      "text/plain": [
       "count    25000.000000\n",
       "mean       109.084760\n",
       "std         83.150085\n",
       "min          4.000000\n",
       "25%         57.000000\n",
       "50%         80.000000\n",
       "75%        133.000000\n",
       "max       1327.000000\n",
       "Name: text, dtype: float64"
      ]
     },
     "execution_count": 14,
     "metadata": {},
     "output_type": "execute_result"
    },
    {
     "data": {
      "image/png": "[encoded data removed]",
      "text/plain": [
       "<Figure size 432x288 with 1 Axes>"
      ]
     },
     "metadata": {
      "needs_background": "light"
     },
     "output_type": "display_data"
    }
   ],
   "source": [
    "len_df_train.hist()\n",
    "len_df_train.describe()"
   ]
  },
  {
   "cell_type": "code",
   "execution_count": 15,
   "id": "6b8fc203",
   "metadata": {},
   "outputs": [
    {
     "data": {
      "text/plain": [
       "count    25000.000000\n",
       "mean       106.571480\n",
       "std         81.115804\n",
       "min          3.000000\n",
       "25%         57.000000\n",
       "50%         79.000000\n",
       "75%        130.000000\n",
       "max       1058.000000\n",
       "Name: text, dtype: float64"
      ]
     },
     "execution_count": 15,
     "metadata": {},
     "output_type": "execute_result"
    },
    {
     "data": {
      "image/png": "[encoded data removed]",
      "text/plain": [
       "<Figure size 432x288 with 1 Axes>"
      ]
     },
     "metadata": {
      "needs_background": "light"
     },
     "output_type": "display_data"
    }
   ],
   "source": [
    "len_df_test.hist()\n",
    "len_df_test.describe()"
   ]
  },
  {
   "cell_type": "markdown",
   "id": "53bf927e",
   "metadata": {},
   "source": [
    "# Storing some variables"
   ]
  },
  {
   "cell_type": "code",
   "execution_count": 93,
   "id": "a5de3efc",
   "metadata": {},
   "outputs": [],
   "source": [
    "train_len = int(0.8*len(train_df))\n",
    "max_words=250\n",
    "embedding_size=300\n"
   ]
  },
  {
   "cell_type": "code",
   "execution_count": 94,
   "id": "60f85910",
   "metadata": {},
   "outputs": [],
   "source": [
    "tokenizer = Tokenizer()\n",
    "tokenizer.fit_on_texts(train_df['text'].values)"
   ]
  },
  {
   "cell_type": "code",
   "execution_count": 95,
   "id": "da5d66e0",
   "metadata": {},
   "outputs": [],
   "source": [
    "def one_hot(row):\n",
    "    if row == '-':\n",
    "        return [1, 0]\n",
    "    else:\n",
    "        return [0, 1]\n",
    "    \n",
    "    \n",
    "def get_features(df):\n",
    "    sequences = tokenizer.texts_to_sequences(df['text'].values)\n",
    "    x = pad_sequences(sequences, maxlen=max_words)\n",
    "    y = df['label'].apply(one_hot).tolist()\n",
    "    y = np.array(y)\n",
    "    return x, y"
   ]
  },
  {
   "cell_type": "code",
   "execution_count": 96,
   "id": "ea84a82c",
   "metadata": {},
   "outputs": [],
   "source": [
    "# train_val_x, train_val_y = get_features(train_df)\n",
    "# test_x, test_y = get_features(test_df)"
   ]
  },
  {
   "cell_type": "code",
   "execution_count": null,
   "id": "acf4d00a",
   "metadata": {},
   "outputs": [],
   "source": []
  },
  {
   "cell_type": "code",
   "execution_count": 97,
   "id": "51e024c3",
   "metadata": {},
   "outputs": [
    {
     "data": {
      "text/plain": [
       "array([[   0,    0,    0, ...,   18,  221,   60],\n",
       "       [   0,    0,    0, ...,   61,   61,   61],\n",
       "       [   0,    0,    0, ...,  294,  712,  387],\n",
       "       ...,\n",
       "       [   0,    0,    0, ...,   85,  874,  429],\n",
       "       [   0,    0,    0, ..., 1157,    9, 1924],\n",
       "       [   0,    0,    0, ...,    5, 7650, 3386]])"
      ]
     },
     "execution_count": 97,
     "metadata": {},
     "output_type": "execute_result"
    }
   ],
   "source": [
    "train_val_x"
   ]
  },
  {
   "cell_type": "code",
   "execution_count": 98,
   "id": "18f20821",
   "metadata": {},
   "outputs": [],
   "source": [
    "train_x, val_x = train_val_x[:train_len], train_val_x[train_len:]\n",
    "train_y, val_y = train_val_y[:train_len], train_val_y[train_len:]"
   ]
  },
  {
   "cell_type": "code",
   "execution_count": 99,
   "id": "40b3f5cd",
   "metadata": {},
   "outputs": [],
   "source": [
    "def predict_result(model, x, y_true):\n",
    "    y_pred = model.predict(x)\n",
    "    y_pred = np.argmax(y_pred, axis=1)\n",
    "    y_true = np.argmax(y_true, axis=1)\n",
    "    skplt.metrics.plot_confusion_matrix(y_true, y_pred)\n",
    "    print(f'f1 : {f1_score(y_true, y_pred)}')\n",
    "    print(f'acc: {accuracy_score(y_true, y_pred)}')    "
   ]
  },
  {
   "cell_type": "markdown",
   "id": "d89b821f",
   "metadata": {},
   "source": [
    "## RNN with LSTM"
   ]
  },
  {
   "cell_type": "code",
   "execution_count": 31,
   "id": "36e199bc",
   "metadata": {
    "scrolled": true
   },
   "outputs": [
    {
     "name": "stdout",
     "output_type": "stream",
     "text": [
      "Model: \"sequential_4\"\n",
      "_________________________________________________________________\n",
      " Layer (type)                Output Shape              Param #   \n",
      "=================================================================\n",
      " embedding_5 (Embedding)     (None, 200, 300)          180000    \n",
      "                                                                 \n",
      " spatial_dropout1d_5 (Spatia  (None, 200, 300)         0         \n",
      " lDropout1D)                                                     \n",
      "                                                                 \n",
      " lstm_4 (LSTM)               (None, 256)               570368    \n",
      "                                                                 \n",
      " dense_8 (Dense)             (None, 256)               65792     \n",
      "                                                                 \n",
      " dropout_4 (Dropout)         (None, 256)               0         \n",
      "                                                                 \n",
      " dense_9 (Dense)             (None, 2)                 514       \n",
      "                                                                 \n",
      "=================================================================\n",
      "Total params: 816,674\n",
      "Trainable params: 816,674\n",
      "Non-trainable params: 0\n",
      "_________________________________________________________________\n"
     ]
    }
   ],
   "source": [
    "model = Sequential([\n",
    "    Embedding(600, embedding_size, input_length=max_words),\n",
    "    SpatialDropout1D(0.4),\n",
    "    LSTM(256),\n",
    "    Dense(256, activation='relu'),\n",
    "    Dropout(0.2),\n",
    "    Dense(2, activation='sigmoid')\n",
    "])\n",
    "\n",
    "callbacks=[\n",
    "    ModelCheckpoint(filepath='./models_lstm2/checkpoint',\n",
    "                   save_best_only=True, verbose=1, monitor='val_accuracy')\n",
    "]\n",
    "model.summary()"
   ]
  },
  {
   "cell_type": "code",
   "execution_count": 32,
   "id": "70871790",
   "metadata": {},
   "outputs": [],
   "source": [
    "model.compile(loss='categorical_crossentropy', \n",
    "             optimizer='adam', \n",
    "             metrics=['accuracy'])"
   ]
  },
  {
   "cell_type": "code",
   "execution_count": 33,
   "id": "5845075c",
   "metadata": {},
   "outputs": [
    {
     "name": "stdout",
     "output_type": "stream",
     "text": [
      "Epoch 1/50\n",
      "312/313 [============================>.] - ETA: 0s - loss: 0.4997 - accuracy: 0.7574\n",
      "Epoch 1: val_accuracy improved from -inf to 0.82180, saving model to ./models_lstm2\\checkpoint\n"
     ]
    },
    {
     "name": "stderr",
     "output_type": "stream",
     "text": [
      "WARNING:absl:Found untraced functions such as lstm_cell_4_layer_call_fn, lstm_cell_4_layer_call_and_return_conditional_losses while saving (showing 2 of 2). These functions will not be directly callable after loading.\n"
     ]
    },
    {
     "name": "stdout",
     "output_type": "stream",
     "text": [
      "INFO:tensorflow:Assets written to: ./models_lstm2\\checkpoint\\assets\n"
     ]
    },
    {
     "name": "stderr",
     "output_type": "stream",
     "text": [
      "INFO:tensorflow:Assets written to: ./models_lstm2\\checkpoint\\assets\n",
      "WARNING:absl:<keras.layers.recurrent.LSTMCell object at 0x000001F42C5BE8B0> has the same name 'LSTMCell' as a built-in Keras object. Consider renaming <class 'keras.layers.recurrent.LSTMCell'> to avoid naming conflicts when loading with `tf.keras.models.load_model`. If renaming is not possible, pass the object in the `custom_objects` parameter of the load function.\n"
     ]
    },
    {
     "name": "stdout",
     "output_type": "stream",
     "text": [
      "313/313 [==============================] - 11s 27ms/step - loss: 0.4995 - accuracy: 0.7576 - val_loss: 0.4034 - val_accuracy: 0.8218\n",
      "Epoch 2/50\n",
      "310/313 [============================>.] - ETA: 0s - loss: 0.3896 - accuracy: 0.8310\n",
      "Epoch 2: val_accuracy improved from 0.82180 to 0.82420, saving model to ./models_lstm2\\checkpoint\n"
     ]
    },
    {
     "name": "stderr",
     "output_type": "stream",
     "text": [
      "WARNING:absl:Found untraced functions such as lstm_cell_4_layer_call_fn, lstm_cell_4_layer_call_and_return_conditional_losses while saving (showing 2 of 2). These functions will not be directly callable after loading.\n"
     ]
    },
    {
     "name": "stdout",
     "output_type": "stream",
     "text": [
      "INFO:tensorflow:Assets written to: ./models_lstm2\\checkpoint\\assets\n"
     ]
    },
    {
     "name": "stderr",
     "output_type": "stream",
     "text": [
      "INFO:tensorflow:Assets written to: ./models_lstm2\\checkpoint\\assets\n",
      "WARNING:absl:<keras.layers.recurrent.LSTMCell object at 0x000001F42C5BE8B0> has the same name 'LSTMCell' as a built-in Keras object. Consider renaming <class 'keras.layers.recurrent.LSTMCell'> to avoid naming conflicts when loading with `tf.keras.models.load_model`. If renaming is not possible, pass the object in the `custom_objects` parameter of the load function.\n"
     ]
    },
    {
     "name": "stdout",
     "output_type": "stream",
     "text": [
      "313/313 [==============================] - 8s 26ms/step - loss: 0.3899 - accuracy: 0.8309 - val_loss: 0.4059 - val_accuracy: 0.8242\n",
      "Epoch 3/50\n",
      "310/313 [============================>.] - ETA: 0s - loss: 0.3777 - accuracy: 0.8364\n",
      "Epoch 3: val_accuracy did not improve from 0.82420\n",
      "313/313 [==============================] - 6s 18ms/step - loss: 0.3778 - accuracy: 0.8365 - val_loss: 0.4238 - val_accuracy: 0.8166\n",
      "Epoch 4/50\n",
      "311/313 [============================>.] - ETA: 0s - loss: 0.3561 - accuracy: 0.8471\n",
      "Epoch 4: val_accuracy did not improve from 0.82420\n",
      "313/313 [==============================] - 6s 19ms/step - loss: 0.3565 - accuracy: 0.8469 - val_loss: 0.4468 - val_accuracy: 0.8204\n",
      "Epoch 5/50\n",
      "313/313 [==============================] - ETA: 0s - loss: 0.3559 - accuracy: 0.8486\n",
      "Epoch 5: val_accuracy did not improve from 0.82420\n",
      "313/313 [==============================] - 6s 18ms/step - loss: 0.3559 - accuracy: 0.8486 - val_loss: 0.4174 - val_accuracy: 0.8146\n",
      "Epoch 6/50\n",
      "313/313 [==============================] - ETA: 0s - loss: 0.3430 - accuracy: 0.8529\n",
      "Epoch 6: val_accuracy improved from 0.82420 to 0.82500, saving model to ./models_lstm2\\checkpoint\n"
     ]
    },
    {
     "name": "stderr",
     "output_type": "stream",
     "text": [
      "WARNING:absl:Found untraced functions such as lstm_cell_4_layer_call_fn, lstm_cell_4_layer_call_and_return_conditional_losses while saving (showing 2 of 2). These functions will not be directly callable after loading.\n"
     ]
    },
    {
     "name": "stdout",
     "output_type": "stream",
     "text": [
      "INFO:tensorflow:Assets written to: ./models_lstm2\\checkpoint\\assets\n"
     ]
    },
    {
     "name": "stderr",
     "output_type": "stream",
     "text": [
      "INFO:tensorflow:Assets written to: ./models_lstm2\\checkpoint\\assets\n",
      "WARNING:absl:<keras.layers.recurrent.LSTMCell object at 0x000001F42C5BE8B0> has the same name 'LSTMCell' as a built-in Keras object. Consider renaming <class 'keras.layers.recurrent.LSTMCell'> to avoid naming conflicts when loading with `tf.keras.models.load_model`. If renaming is not possible, pass the object in the `custom_objects` parameter of the load function.\n"
     ]
    },
    {
     "name": "stdout",
     "output_type": "stream",
     "text": [
      "313/313 [==============================] - 8s 24ms/step - loss: 0.3430 - accuracy: 0.8529 - val_loss: 0.4061 - val_accuracy: 0.8250\n",
      "Epoch 7/50\n",
      "310/313 [============================>.] - ETA: 0s - loss: 0.3327 - accuracy: 0.8572\n",
      "Epoch 7: val_accuracy did not improve from 0.82500\n",
      "313/313 [==============================] - 6s 18ms/step - loss: 0.3330 - accuracy: 0.8572 - val_loss: 0.4062 - val_accuracy: 0.8212\n",
      "Epoch 8/50\n",
      "312/313 [============================>.] - ETA: 0s - loss: 0.3224 - accuracy: 0.8620\n",
      "Epoch 8: val_accuracy improved from 0.82500 to 0.82580, saving model to ./models_lstm2\\checkpoint\n"
     ]
    },
    {
     "name": "stderr",
     "output_type": "stream",
     "text": [
      "WARNING:absl:Found untraced functions such as lstm_cell_4_layer_call_fn, lstm_cell_4_layer_call_and_return_conditional_losses while saving (showing 2 of 2). These functions will not be directly callable after loading.\n"
     ]
    },
    {
     "name": "stdout",
     "output_type": "stream",
     "text": [
      "INFO:tensorflow:Assets written to: ./models_lstm2\\checkpoint\\assets\n"
     ]
    },
    {
     "name": "stderr",
     "output_type": "stream",
     "text": [
      "INFO:tensorflow:Assets written to: ./models_lstm2\\checkpoint\\assets\n",
      "WARNING:absl:<keras.layers.recurrent.LSTMCell object at 0x000001F42C5BE8B0> has the same name 'LSTMCell' as a built-in Keras object. Consider renaming <class 'keras.layers.recurrent.LSTMCell'> to avoid naming conflicts when loading with `tf.keras.models.load_model`. If renaming is not possible, pass the object in the `custom_objects` parameter of the load function.\n"
     ]
    },
    {
     "name": "stdout",
     "output_type": "stream",
     "text": [
      "313/313 [==============================] - 8s 24ms/step - loss: 0.3224 - accuracy: 0.8619 - val_loss: 0.4083 - val_accuracy: 0.8258\n",
      "Epoch 9/50\n",
      "311/313 [============================>.] - ETA: 0s - loss: 0.3080 - accuracy: 0.8671\n",
      "Epoch 9: val_accuracy did not improve from 0.82580\n",
      "313/313 [==============================] - 6s 19ms/step - loss: 0.3081 - accuracy: 0.8670 - val_loss: 0.4354 - val_accuracy: 0.8228\n",
      "Epoch 10/50\n",
      "313/313 [==============================] - ETA: 0s - loss: 0.2986 - accuracy: 0.8723\n",
      "Epoch 10: val_accuracy did not improve from 0.82580\n",
      "313/313 [==============================] - 6s 19ms/step - loss: 0.2986 - accuracy: 0.8723 - val_loss: 0.4345 - val_accuracy: 0.8204\n",
      "Epoch 11/50\n",
      "313/313 [==============================] - ETA: 0s - loss: 0.2967 - accuracy: 0.8729\n",
      "Epoch 11: val_accuracy did not improve from 0.82580\n",
      "313/313 [==============================] - 6s 20ms/step - loss: 0.2967 - accuracy: 0.8729 - val_loss: 0.4496 - val_accuracy: 0.8198\n",
      "Epoch 12/50\n",
      "313/313 [==============================] - ETA: 0s - loss: 0.2814 - accuracy: 0.8787\n",
      "Epoch 12: val_accuracy did not improve from 0.82580\n",
      "313/313 [==============================] - 6s 19ms/step - loss: 0.2814 - accuracy: 0.8787 - val_loss: 0.4589 - val_accuracy: 0.8196\n",
      "Epoch 13/50\n",
      "310/313 [============================>.] - ETA: 0s - loss: 0.2670 - accuracy: 0.8845\n",
      "Epoch 13: val_accuracy did not improve from 0.82580\n",
      "313/313 [==============================] - 6s 19ms/step - loss: 0.2669 - accuracy: 0.8847 - val_loss: 0.4943 - val_accuracy: 0.8156\n",
      "Epoch 14/50\n",
      "313/313 [==============================] - ETA: 0s - loss: 0.2574 - accuracy: 0.8877\n",
      "Epoch 14: val_accuracy did not improve from 0.82580\n",
      "313/313 [==============================] - 6s 19ms/step - loss: 0.2574 - accuracy: 0.8877 - val_loss: 0.4870 - val_accuracy: 0.8112\n",
      "Epoch 15/50\n",
      "239/313 [=====================>........] - ETA: 1s - loss: 0.2350 - accuracy: 0.8986"
     ]
    },
    {
     "ename": "KeyboardInterrupt",
     "evalue": "",
     "output_type": "error",
     "traceback": [
      "\u001b[1;31m---------------------------------------------------------------------------\u001b[0m",
      "\u001b[1;31mKeyboardInterrupt\u001b[0m                         Traceback (most recent call last)",
      "Input \u001b[1;32mIn [33]\u001b[0m, in \u001b[0;36m<module>\u001b[1;34m\u001b[0m\n\u001b[1;32m----> 1\u001b[0m \u001b[43mmodel\u001b[49m\u001b[38;5;241;43m.\u001b[39;49m\u001b[43mfit\u001b[49m\u001b[43m(\u001b[49m\u001b[43mtrain_x\u001b[49m\u001b[43m,\u001b[49m\u001b[43m \u001b[49m\u001b[43mtrain_y\u001b[49m\u001b[43m,\u001b[49m\u001b[43m \u001b[49m\n\u001b[0;32m      2\u001b[0m \u001b[43m          \u001b[49m\u001b[43mepochs\u001b[49m\u001b[38;5;241;43m=\u001b[39;49m\u001b[38;5;241;43m50\u001b[39;49m\u001b[43m,\u001b[49m\n\u001b[0;32m      3\u001b[0m \u001b[43m         \u001b[49m\u001b[43mcallbacks\u001b[49m\u001b[38;5;241;43m=\u001b[39;49m\u001b[43mcallbacks\u001b[49m\u001b[43m,\u001b[49m\n\u001b[0;32m      4\u001b[0m \u001b[43m         \u001b[49m\u001b[43mvalidation_data\u001b[49m\u001b[38;5;241;43m=\u001b[39;49m\u001b[43m(\u001b[49m\u001b[43mval_x\u001b[49m\u001b[43m,\u001b[49m\u001b[43m \u001b[49m\u001b[43mval_y\u001b[49m\u001b[43m)\u001b[49m\u001b[43m,\u001b[49m\n\u001b[0;32m      5\u001b[0m \u001b[43m         \u001b[49m\u001b[43mbatch_size\u001b[49m\u001b[38;5;241;43m=\u001b[39;49m\u001b[38;5;241;43m64\u001b[39;49m\u001b[43m)\u001b[49m\n",
      "File \u001b[1;32md:\\coding\\venv\\lib\\site-packages\\keras\\utils\\traceback_utils.py:64\u001b[0m, in \u001b[0;36mfilter_traceback.<locals>.error_handler\u001b[1;34m(*args, **kwargs)\u001b[0m\n\u001b[0;32m     62\u001b[0m filtered_tb \u001b[38;5;241m=\u001b[39m \u001b[38;5;28;01mNone\u001b[39;00m\n\u001b[0;32m     63\u001b[0m \u001b[38;5;28;01mtry\u001b[39;00m:\n\u001b[1;32m---> 64\u001b[0m   \u001b[38;5;28;01mreturn\u001b[39;00m fn(\u001b[38;5;241m*\u001b[39margs, \u001b[38;5;241m*\u001b[39m\u001b[38;5;241m*\u001b[39mkwargs)\n\u001b[0;32m     65\u001b[0m \u001b[38;5;28;01mexcept\u001b[39;00m \u001b[38;5;167;01mException\u001b[39;00m \u001b[38;5;28;01mas\u001b[39;00m e:  \u001b[38;5;66;03m# pylint: disable=broad-except\u001b[39;00m\n\u001b[0;32m     66\u001b[0m   filtered_tb \u001b[38;5;241m=\u001b[39m _process_traceback_frames(e\u001b[38;5;241m.\u001b[39m__traceback__)\n",
      "File \u001b[1;32md:\\coding\\venv\\lib\\site-packages\\keras\\engine\\training.py:1384\u001b[0m, in \u001b[0;36mModel.fit\u001b[1;34m(self, x, y, batch_size, epochs, verbose, callbacks, validation_split, validation_data, shuffle, class_weight, sample_weight, initial_epoch, steps_per_epoch, validation_steps, validation_batch_size, validation_freq, max_queue_size, workers, use_multiprocessing)\u001b[0m\n\u001b[0;32m   1377\u001b[0m \u001b[38;5;28;01mwith\u001b[39;00m tf\u001b[38;5;241m.\u001b[39mprofiler\u001b[38;5;241m.\u001b[39mexperimental\u001b[38;5;241m.\u001b[39mTrace(\n\u001b[0;32m   1378\u001b[0m     \u001b[38;5;124m'\u001b[39m\u001b[38;5;124mtrain\u001b[39m\u001b[38;5;124m'\u001b[39m,\n\u001b[0;32m   1379\u001b[0m     epoch_num\u001b[38;5;241m=\u001b[39mepoch,\n\u001b[0;32m   1380\u001b[0m     step_num\u001b[38;5;241m=\u001b[39mstep,\n\u001b[0;32m   1381\u001b[0m     batch_size\u001b[38;5;241m=\u001b[39mbatch_size,\n\u001b[0;32m   1382\u001b[0m     _r\u001b[38;5;241m=\u001b[39m\u001b[38;5;241m1\u001b[39m):\n\u001b[0;32m   1383\u001b[0m   callbacks\u001b[38;5;241m.\u001b[39mon_train_batch_begin(step)\n\u001b[1;32m-> 1384\u001b[0m   tmp_logs \u001b[38;5;241m=\u001b[39m \u001b[38;5;28;43mself\u001b[39;49m\u001b[38;5;241;43m.\u001b[39;49m\u001b[43mtrain_function\u001b[49m\u001b[43m(\u001b[49m\u001b[43miterator\u001b[49m\u001b[43m)\u001b[49m\n\u001b[0;32m   1385\u001b[0m   \u001b[38;5;28;01mif\u001b[39;00m data_handler\u001b[38;5;241m.\u001b[39mshould_sync:\n\u001b[0;32m   1386\u001b[0m     context\u001b[38;5;241m.\u001b[39masync_wait()\n",
      "File \u001b[1;32md:\\coding\\venv\\lib\\site-packages\\tensorflow\\python\\util\\traceback_utils.py:150\u001b[0m, in \u001b[0;36mfilter_traceback.<locals>.error_handler\u001b[1;34m(*args, **kwargs)\u001b[0m\n\u001b[0;32m    148\u001b[0m filtered_tb \u001b[38;5;241m=\u001b[39m \u001b[38;5;28;01mNone\u001b[39;00m\n\u001b[0;32m    149\u001b[0m \u001b[38;5;28;01mtry\u001b[39;00m:\n\u001b[1;32m--> 150\u001b[0m   \u001b[38;5;28;01mreturn\u001b[39;00m fn(\u001b[38;5;241m*\u001b[39margs, \u001b[38;5;241m*\u001b[39m\u001b[38;5;241m*\u001b[39mkwargs)\n\u001b[0;32m    151\u001b[0m \u001b[38;5;28;01mexcept\u001b[39;00m \u001b[38;5;167;01mException\u001b[39;00m \u001b[38;5;28;01mas\u001b[39;00m e:\n\u001b[0;32m    152\u001b[0m   filtered_tb \u001b[38;5;241m=\u001b[39m _process_traceback_frames(e\u001b[38;5;241m.\u001b[39m__traceback__)\n",
      "File \u001b[1;32md:\\coding\\venv\\lib\\site-packages\\tensorflow\\python\\eager\\def_function.py:915\u001b[0m, in \u001b[0;36mFunction.__call__\u001b[1;34m(self, *args, **kwds)\u001b[0m\n\u001b[0;32m    912\u001b[0m compiler \u001b[38;5;241m=\u001b[39m \u001b[38;5;124m\"\u001b[39m\u001b[38;5;124mxla\u001b[39m\u001b[38;5;124m\"\u001b[39m \u001b[38;5;28;01mif\u001b[39;00m \u001b[38;5;28mself\u001b[39m\u001b[38;5;241m.\u001b[39m_jit_compile \u001b[38;5;28;01melse\u001b[39;00m \u001b[38;5;124m\"\u001b[39m\u001b[38;5;124mnonXla\u001b[39m\u001b[38;5;124m\"\u001b[39m\n\u001b[0;32m    914\u001b[0m \u001b[38;5;28;01mwith\u001b[39;00m OptionalXlaContext(\u001b[38;5;28mself\u001b[39m\u001b[38;5;241m.\u001b[39m_jit_compile):\n\u001b[1;32m--> 915\u001b[0m   result \u001b[38;5;241m=\u001b[39m \u001b[38;5;28mself\u001b[39m\u001b[38;5;241m.\u001b[39m_call(\u001b[38;5;241m*\u001b[39margs, \u001b[38;5;241m*\u001b[39m\u001b[38;5;241m*\u001b[39mkwds)\n\u001b[0;32m    917\u001b[0m new_tracing_count \u001b[38;5;241m=\u001b[39m \u001b[38;5;28mself\u001b[39m\u001b[38;5;241m.\u001b[39mexperimental_get_tracing_count()\n\u001b[0;32m    918\u001b[0m without_tracing \u001b[38;5;241m=\u001b[39m (tracing_count \u001b[38;5;241m==\u001b[39m new_tracing_count)\n",
      "File \u001b[1;32md:\\coding\\venv\\lib\\site-packages\\tensorflow\\python\\eager\\def_function.py:947\u001b[0m, in \u001b[0;36mFunction._call\u001b[1;34m(self, *args, **kwds)\u001b[0m\n\u001b[0;32m    944\u001b[0m   \u001b[38;5;28mself\u001b[39m\u001b[38;5;241m.\u001b[39m_lock\u001b[38;5;241m.\u001b[39mrelease()\n\u001b[0;32m    945\u001b[0m   \u001b[38;5;66;03m# In this case we have created variables on the first call, so we run the\u001b[39;00m\n\u001b[0;32m    946\u001b[0m   \u001b[38;5;66;03m# defunned version which is guaranteed to never create variables.\u001b[39;00m\n\u001b[1;32m--> 947\u001b[0m   \u001b[38;5;28;01mreturn\u001b[39;00m \u001b[38;5;28mself\u001b[39m\u001b[38;5;241m.\u001b[39m_stateless_fn(\u001b[38;5;241m*\u001b[39margs, \u001b[38;5;241m*\u001b[39m\u001b[38;5;241m*\u001b[39mkwds)  \u001b[38;5;66;03m# pylint: disable=not-callable\u001b[39;00m\n\u001b[0;32m    948\u001b[0m \u001b[38;5;28;01melif\u001b[39;00m \u001b[38;5;28mself\u001b[39m\u001b[38;5;241m.\u001b[39m_stateful_fn \u001b[38;5;129;01mis\u001b[39;00m \u001b[38;5;129;01mnot\u001b[39;00m \u001b[38;5;28;01mNone\u001b[39;00m:\n\u001b[0;32m    949\u001b[0m   \u001b[38;5;66;03m# Release the lock early so that multiple threads can perform the call\u001b[39;00m\n\u001b[0;32m    950\u001b[0m   \u001b[38;5;66;03m# in parallel.\u001b[39;00m\n\u001b[0;32m    951\u001b[0m   \u001b[38;5;28mself\u001b[39m\u001b[38;5;241m.\u001b[39m_lock\u001b[38;5;241m.\u001b[39mrelease()\n",
      "File \u001b[1;32md:\\coding\\venv\\lib\\site-packages\\tensorflow\\python\\eager\\function.py:2956\u001b[0m, in \u001b[0;36mFunction.__call__\u001b[1;34m(self, *args, **kwargs)\u001b[0m\n\u001b[0;32m   2953\u001b[0m \u001b[38;5;28;01mwith\u001b[39;00m \u001b[38;5;28mself\u001b[39m\u001b[38;5;241m.\u001b[39m_lock:\n\u001b[0;32m   2954\u001b[0m   (graph_function,\n\u001b[0;32m   2955\u001b[0m    filtered_flat_args) \u001b[38;5;241m=\u001b[39m \u001b[38;5;28mself\u001b[39m\u001b[38;5;241m.\u001b[39m_maybe_define_function(args, kwargs)\n\u001b[1;32m-> 2956\u001b[0m \u001b[38;5;28;01mreturn\u001b[39;00m \u001b[43mgraph_function\u001b[49m\u001b[38;5;241;43m.\u001b[39;49m\u001b[43m_call_flat\u001b[49m\u001b[43m(\u001b[49m\n\u001b[0;32m   2957\u001b[0m \u001b[43m    \u001b[49m\u001b[43mfiltered_flat_args\u001b[49m\u001b[43m,\u001b[49m\u001b[43m \u001b[49m\u001b[43mcaptured_inputs\u001b[49m\u001b[38;5;241;43m=\u001b[39;49m\u001b[43mgraph_function\u001b[49m\u001b[38;5;241;43m.\u001b[39;49m\u001b[43mcaptured_inputs\u001b[49m\u001b[43m)\u001b[49m\n",
      "File \u001b[1;32md:\\coding\\venv\\lib\\site-packages\\tensorflow\\python\\eager\\function.py:1853\u001b[0m, in \u001b[0;36mConcreteFunction._call_flat\u001b[1;34m(self, args, captured_inputs, cancellation_manager)\u001b[0m\n\u001b[0;32m   1849\u001b[0m possible_gradient_type \u001b[38;5;241m=\u001b[39m gradients_util\u001b[38;5;241m.\u001b[39mPossibleTapeGradientTypes(args)\n\u001b[0;32m   1850\u001b[0m \u001b[38;5;28;01mif\u001b[39;00m (possible_gradient_type \u001b[38;5;241m==\u001b[39m gradients_util\u001b[38;5;241m.\u001b[39mPOSSIBLE_GRADIENT_TYPES_NONE\n\u001b[0;32m   1851\u001b[0m     \u001b[38;5;129;01mand\u001b[39;00m executing_eagerly):\n\u001b[0;32m   1852\u001b[0m   \u001b[38;5;66;03m# No tape is watching; skip to running the function.\u001b[39;00m\n\u001b[1;32m-> 1853\u001b[0m   \u001b[38;5;28;01mreturn\u001b[39;00m \u001b[38;5;28mself\u001b[39m\u001b[38;5;241m.\u001b[39m_build_call_outputs(\u001b[38;5;28;43mself\u001b[39;49m\u001b[38;5;241;43m.\u001b[39;49m\u001b[43m_inference_function\u001b[49m\u001b[38;5;241;43m.\u001b[39;49m\u001b[43mcall\u001b[49m\u001b[43m(\u001b[49m\n\u001b[0;32m   1854\u001b[0m \u001b[43m      \u001b[49m\u001b[43mctx\u001b[49m\u001b[43m,\u001b[49m\u001b[43m \u001b[49m\u001b[43margs\u001b[49m\u001b[43m,\u001b[49m\u001b[43m \u001b[49m\u001b[43mcancellation_manager\u001b[49m\u001b[38;5;241;43m=\u001b[39;49m\u001b[43mcancellation_manager\u001b[49m\u001b[43m)\u001b[49m)\n\u001b[0;32m   1855\u001b[0m forward_backward \u001b[38;5;241m=\u001b[39m \u001b[38;5;28mself\u001b[39m\u001b[38;5;241m.\u001b[39m_select_forward_and_backward_functions(\n\u001b[0;32m   1856\u001b[0m     args,\n\u001b[0;32m   1857\u001b[0m     possible_gradient_type,\n\u001b[0;32m   1858\u001b[0m     executing_eagerly)\n\u001b[0;32m   1859\u001b[0m forward_function, args_with_tangents \u001b[38;5;241m=\u001b[39m forward_backward\u001b[38;5;241m.\u001b[39mforward()\n",
      "File \u001b[1;32md:\\coding\\venv\\lib\\site-packages\\tensorflow\\python\\eager\\function.py:499\u001b[0m, in \u001b[0;36m_EagerDefinedFunction.call\u001b[1;34m(self, ctx, args, cancellation_manager)\u001b[0m\n\u001b[0;32m    497\u001b[0m \u001b[38;5;28;01mwith\u001b[39;00m _InterpolateFunctionError(\u001b[38;5;28mself\u001b[39m):\n\u001b[0;32m    498\u001b[0m   \u001b[38;5;28;01mif\u001b[39;00m cancellation_manager \u001b[38;5;129;01mis\u001b[39;00m \u001b[38;5;28;01mNone\u001b[39;00m:\n\u001b[1;32m--> 499\u001b[0m     outputs \u001b[38;5;241m=\u001b[39m \u001b[43mexecute\u001b[49m\u001b[38;5;241;43m.\u001b[39;49m\u001b[43mexecute\u001b[49m\u001b[43m(\u001b[49m\n\u001b[0;32m    500\u001b[0m \u001b[43m        \u001b[49m\u001b[38;5;28;43mstr\u001b[39;49m\u001b[43m(\u001b[49m\u001b[38;5;28;43mself\u001b[39;49m\u001b[38;5;241;43m.\u001b[39;49m\u001b[43msignature\u001b[49m\u001b[38;5;241;43m.\u001b[39;49m\u001b[43mname\u001b[49m\u001b[43m)\u001b[49m\u001b[43m,\u001b[49m\n\u001b[0;32m    501\u001b[0m \u001b[43m        \u001b[49m\u001b[43mnum_outputs\u001b[49m\u001b[38;5;241;43m=\u001b[39;49m\u001b[38;5;28;43mself\u001b[39;49m\u001b[38;5;241;43m.\u001b[39;49m\u001b[43m_num_outputs\u001b[49m\u001b[43m,\u001b[49m\n\u001b[0;32m    502\u001b[0m \u001b[43m        \u001b[49m\u001b[43minputs\u001b[49m\u001b[38;5;241;43m=\u001b[39;49m\u001b[43margs\u001b[49m\u001b[43m,\u001b[49m\n\u001b[0;32m    503\u001b[0m \u001b[43m        \u001b[49m\u001b[43mattrs\u001b[49m\u001b[38;5;241;43m=\u001b[39;49m\u001b[43mattrs\u001b[49m\u001b[43m,\u001b[49m\n\u001b[0;32m    504\u001b[0m \u001b[43m        \u001b[49m\u001b[43mctx\u001b[49m\u001b[38;5;241;43m=\u001b[39;49m\u001b[43mctx\u001b[49m\u001b[43m)\u001b[49m\n\u001b[0;32m    505\u001b[0m   \u001b[38;5;28;01melse\u001b[39;00m:\n\u001b[0;32m    506\u001b[0m     outputs \u001b[38;5;241m=\u001b[39m execute\u001b[38;5;241m.\u001b[39mexecute_with_cancellation(\n\u001b[0;32m    507\u001b[0m         \u001b[38;5;28mstr\u001b[39m(\u001b[38;5;28mself\u001b[39m\u001b[38;5;241m.\u001b[39msignature\u001b[38;5;241m.\u001b[39mname),\n\u001b[0;32m    508\u001b[0m         num_outputs\u001b[38;5;241m=\u001b[39m\u001b[38;5;28mself\u001b[39m\u001b[38;5;241m.\u001b[39m_num_outputs,\n\u001b[1;32m   (...)\u001b[0m\n\u001b[0;32m    511\u001b[0m         ctx\u001b[38;5;241m=\u001b[39mctx,\n\u001b[0;32m    512\u001b[0m         cancellation_manager\u001b[38;5;241m=\u001b[39mcancellation_manager)\n",
      "File \u001b[1;32md:\\coding\\venv\\lib\\site-packages\\tensorflow\\python\\eager\\execute.py:54\u001b[0m, in \u001b[0;36mquick_execute\u001b[1;34m(op_name, num_outputs, inputs, attrs, ctx, name)\u001b[0m\n\u001b[0;32m     52\u001b[0m \u001b[38;5;28;01mtry\u001b[39;00m:\n\u001b[0;32m     53\u001b[0m   ctx\u001b[38;5;241m.\u001b[39mensure_initialized()\n\u001b[1;32m---> 54\u001b[0m   tensors \u001b[38;5;241m=\u001b[39m \u001b[43mpywrap_tfe\u001b[49m\u001b[38;5;241;43m.\u001b[39;49m\u001b[43mTFE_Py_Execute\u001b[49m\u001b[43m(\u001b[49m\u001b[43mctx\u001b[49m\u001b[38;5;241;43m.\u001b[39;49m\u001b[43m_handle\u001b[49m\u001b[43m,\u001b[49m\u001b[43m \u001b[49m\u001b[43mdevice_name\u001b[49m\u001b[43m,\u001b[49m\u001b[43m \u001b[49m\u001b[43mop_name\u001b[49m\u001b[43m,\u001b[49m\n\u001b[0;32m     55\u001b[0m \u001b[43m                                      \u001b[49m\u001b[43minputs\u001b[49m\u001b[43m,\u001b[49m\u001b[43m \u001b[49m\u001b[43mattrs\u001b[49m\u001b[43m,\u001b[49m\u001b[43m \u001b[49m\u001b[43mnum_outputs\u001b[49m\u001b[43m)\u001b[49m\n\u001b[0;32m     56\u001b[0m \u001b[38;5;28;01mexcept\u001b[39;00m core\u001b[38;5;241m.\u001b[39m_NotOkStatusException \u001b[38;5;28;01mas\u001b[39;00m e:\n\u001b[0;32m     57\u001b[0m   \u001b[38;5;28;01mif\u001b[39;00m name \u001b[38;5;129;01mis\u001b[39;00m \u001b[38;5;129;01mnot\u001b[39;00m \u001b[38;5;28;01mNone\u001b[39;00m:\n",
      "\u001b[1;31mKeyboardInterrupt\u001b[0m: "
     ]
    }
   ],
   "source": [
    "model.fit(train_x, train_y, \n",
    "          epochs=50,\n",
    "         callbacks=callbacks,\n",
    "         validation_data=(val_x, val_y),\n",
    "         batch_size=64)"
   ]
  },
  {
   "cell_type": "code",
   "execution_count": 34,
   "id": "b24c3ed5",
   "metadata": {},
   "outputs": [],
   "source": [
    "model = load_model('./models_lstm2/checkpoint')"
   ]
  },
  {
   "cell_type": "code",
   "execution_count": 35,
   "id": "c8d34812",
   "metadata": {},
   "outputs": [
    {
     "name": "stdout",
     "output_type": "stream",
     "text": [
      "f1 : 0.884313725490196\n",
      "acc: 0.882\n"
     ]
    },
    {
     "data": {
      "image/png": "[encoded data removed]",
      "text/plain": [
       "<Figure size 432x288 with 2 Axes>"
      ]
     },
     "metadata": {
      "needs_background": "light"
     },
     "output_type": "display_data"
    }
   ],
   "source": [
    "predict_result(model, train_x[:1000], train_y[:1000])"
   ]
  },
  {
   "cell_type": "code",
   "execution_count": 36,
   "id": "fcdc2ce8",
   "metadata": {},
   "outputs": [
    {
     "name": "stdout",
     "output_type": "stream",
     "text": [
      "f1 : 0.8277618335421804\n",
      "acc: 0.82956\n"
     ]
    },
    {
     "data": {
      "image/png": "[encoded data removed]",
      "text/plain": [
       "<Figure size 432x288 with 2 Axes>"
      ]
     },
     "metadata": {
      "needs_background": "light"
     },
     "output_type": "display_data"
    }
   ],
   "source": [
    "predict_result(model, test_x, test_y)"
   ]
  },
  {
   "cell_type": "markdown",
   "id": "84fa3d85",
   "metadata": {},
   "source": [
    "# RNN with GRU"
   ]
  },
  {
   "cell_type": "code",
   "execution_count": 94,
   "id": "be72b583",
   "metadata": {},
   "outputs": [
    {
     "name": "stdout",
     "output_type": "stream",
     "text": [
      "WARNING:tensorflow:Layer gru will not use cuDNN kernels since it doesn't meet the criteria. It will use a generic GPU kernel as fallback when running on GPU.\n"
     ]
    },
    {
     "name": "stderr",
     "output_type": "stream",
     "text": [
      "WARNING:tensorflow:Layer gru will not use cuDNN kernels since it doesn't meet the criteria. It will use a generic GPU kernel as fallback when running on GPU.\n"
     ]
    },
    {
     "name": "stdout",
     "output_type": "stream",
     "text": [
      "Model: \"sequential_9\"\n",
      "_________________________________________________________________\n",
      " Layer (type)                Output Shape              Param #   \n",
      "=================================================================\n",
      " embedding_9 (Embedding)     (None, 500, 300)          180000    \n",
      "                                                                 \n",
      " spatial_dropout1d_4 (Spatia  (None, 500, 300)         0         \n",
      " lDropout1D)                                                     \n",
      "                                                                 \n",
      " gru (GRU)                   (None, 256)               428544    \n",
      "                                                                 \n",
      " dense_18 (Dense)            (None, 256)               65792     \n",
      "                                                                 \n",
      " dropout_9 (Dropout)         (None, 256)               0         \n",
      "                                                                 \n",
      " dense_19 (Dense)            (None, 2)                 514       \n",
      "                                                                 \n",
      "=================================================================\n",
      "Total params: 674,850\n",
      "Trainable params: 674,850\n",
      "Non-trainable params: 0\n",
      "_________________________________________________________________\n"
     ]
    }
   ],
   "source": [
    "model = Sequential([\n",
    "    Embedding(600, embedding_size, input_length=max_words),\n",
    "    SpatialDropout1D(0.4),\n",
    "    GRU(256),\n",
    "    Dense(256, activation='relu'),\n",
    "    Dropout(0.2),\n",
    "    Dense(2, activation='sigmoid')\n",
    "])\n",
    "\n",
    "callbacks=[\n",
    "    ModelCheckpoint(filepath='./models_gru/checkpoint',\n",
    "                   save_best_only=True, verbose=1, monitor='val_accuracy')\n",
    "]\n",
    "model.summary()"
   ]
  },
  {
   "cell_type": "code",
   "execution_count": 95,
   "id": "3629207d",
   "metadata": {},
   "outputs": [],
   "source": [
    "model.compile(loss='categorical_crossentropy', \n",
    "             optimizer='adam', \n",
    "             metrics=['accuracy'])"
   ]
  },
  {
   "cell_type": "code",
   "execution_count": 96,
   "id": "efae2424",
   "metadata": {},
   "outputs": [
    {
     "name": "stdout",
     "output_type": "stream",
     "text": [
      "Epoch 1/50\n",
      "79/79 [==============================] - ETA: 0s - loss: 0.6116 - accuracy: 0.6481\n",
      "Epoch 1: val_accuracy improved from -inf to 0.81700, saving model to ./models_gru\\checkpoint\n",
      "INFO:tensorflow:Assets written to: ./models_gru\\checkpoint\\assets\n"
     ]
    },
    {
     "name": "stderr",
     "output_type": "stream",
     "text": [
      "INFO:tensorflow:Assets written to: ./models_gru\\checkpoint\\assets\n",
      "WARNING:absl:<keras.layers.recurrent.GRUCell object at 0x00000201C43D2C70> has the same name 'GRUCell' as a built-in Keras object. Consider renaming <class 'keras.layers.recurrent.GRUCell'> to avoid naming conflicts when loading with `tf.keras.models.load_model`. If renaming is not possible, pass the object in the `custom_objects` parameter of the load function.\n"
     ]
    },
    {
     "name": "stdout",
     "output_type": "stream",
     "text": [
      "79/79 [==============================] - 170s 2s/step - loss: 0.6116 - accuracy: 0.6481 - val_loss: 0.4178 - val_accuracy: 0.8170\n",
      "Epoch 2/50\n",
      "79/79 [==============================] - ETA: 0s - loss: 0.5599 - accuracy: 0.7099\n",
      "Epoch 2: val_accuracy did not improve from 0.81700\n",
      "79/79 [==============================] - 162s 2s/step - loss: 0.5599 - accuracy: 0.7099 - val_loss: 0.6189 - val_accuracy: 0.6246\n",
      "Epoch 3/50\n",
      "79/79 [==============================] - ETA: 0s - loss: 0.5551 - accuracy: 0.7062\n",
      "Epoch 3: val_accuracy did not improve from 0.81700\n",
      "79/79 [==============================] - 163s 2s/step - loss: 0.5551 - accuracy: 0.7062 - val_loss: 0.4987 - val_accuracy: 0.7656\n",
      "Epoch 4/50\n",
      "79/79 [==============================] - ETA: 0s - loss: 0.4065 - accuracy: 0.8183\n",
      "Epoch 4: val_accuracy improved from 0.81700 to 0.83840, saving model to ./models_gru\\checkpoint\n",
      "INFO:tensorflow:Assets written to: ./models_gru\\checkpoint\\assets\n"
     ]
    },
    {
     "name": "stderr",
     "output_type": "stream",
     "text": [
      "INFO:tensorflow:Assets written to: ./models_gru\\checkpoint\\assets\n",
      "WARNING:absl:<keras.layers.recurrent.GRUCell object at 0x00000201C43D2C70> has the same name 'GRUCell' as a built-in Keras object. Consider renaming <class 'keras.layers.recurrent.GRUCell'> to avoid naming conflicts when loading with `tf.keras.models.load_model`. If renaming is not possible, pass the object in the `custom_objects` parameter of the load function.\n"
     ]
    },
    {
     "name": "stdout",
     "output_type": "stream",
     "text": [
      "79/79 [==============================] - 167s 2s/step - loss: 0.4065 - accuracy: 0.8183 - val_loss: 0.3722 - val_accuracy: 0.8384\n",
      "Epoch 5/50\n",
      "79/79 [==============================] - ETA: 0s - loss: 0.3604 - accuracy: 0.8428\n",
      "Epoch 5: val_accuracy improved from 0.83840 to 0.84400, saving model to ./models_gru\\checkpoint\n",
      "INFO:tensorflow:Assets written to: ./models_gru\\checkpoint\\assets\n"
     ]
    },
    {
     "name": "stderr",
     "output_type": "stream",
     "text": [
      "INFO:tensorflow:Assets written to: ./models_gru\\checkpoint\\assets\n",
      "WARNING:absl:<keras.layers.recurrent.GRUCell object at 0x00000201C43D2C70> has the same name 'GRUCell' as a built-in Keras object. Consider renaming <class 'keras.layers.recurrent.GRUCell'> to avoid naming conflicts when loading with `tf.keras.models.load_model`. If renaming is not possible, pass the object in the `custom_objects` parameter of the load function.\n"
     ]
    },
    {
     "name": "stdout",
     "output_type": "stream",
     "text": [
      "79/79 [==============================] - 159s 2s/step - loss: 0.3604 - accuracy: 0.8428 - val_loss: 0.3768 - val_accuracy: 0.8440\n",
      "Epoch 6/50\n",
      "79/79 [==============================] - ETA: 0s - loss: 0.3318 - accuracy: 0.8572\n",
      "Epoch 6: val_accuracy improved from 0.84400 to 0.85600, saving model to ./models_gru\\checkpoint\n",
      "INFO:tensorflow:Assets written to: ./models_gru\\checkpoint\\assets\n"
     ]
    },
    {
     "name": "stderr",
     "output_type": "stream",
     "text": [
      "INFO:tensorflow:Assets written to: ./models_gru\\checkpoint\\assets\n",
      "WARNING:absl:<keras.layers.recurrent.GRUCell object at 0x00000201C43D2C70> has the same name 'GRUCell' as a built-in Keras object. Consider renaming <class 'keras.layers.recurrent.GRUCell'> to avoid naming conflicts when loading with `tf.keras.models.load_model`. If renaming is not possible, pass the object in the `custom_objects` parameter of the load function.\n"
     ]
    },
    {
     "name": "stdout",
     "output_type": "stream",
     "text": [
      "79/79 [==============================] - 154s 2s/step - loss: 0.3318 - accuracy: 0.8572 - val_loss: 0.3423 - val_accuracy: 0.8560\n",
      "Epoch 7/50\n",
      "79/79 [==============================] - ETA: 0s - loss: 0.3254 - accuracy: 0.8606\n",
      "Epoch 7: val_accuracy improved from 0.85600 to 0.85960, saving model to ./models_gru\\checkpoint\n",
      "INFO:tensorflow:Assets written to: ./models_gru\\checkpoint\\assets\n"
     ]
    },
    {
     "name": "stderr",
     "output_type": "stream",
     "text": [
      "INFO:tensorflow:Assets written to: ./models_gru\\checkpoint\\assets\n",
      "WARNING:absl:<keras.layers.recurrent.GRUCell object at 0x00000201C43D2C70> has the same name 'GRUCell' as a built-in Keras object. Consider renaming <class 'keras.layers.recurrent.GRUCell'> to avoid naming conflicts when loading with `tf.keras.models.load_model`. If renaming is not possible, pass the object in the `custom_objects` parameter of the load function.\n"
     ]
    },
    {
     "name": "stdout",
     "output_type": "stream",
     "text": [
      "79/79 [==============================] - 153s 2s/step - loss: 0.3254 - accuracy: 0.8606 - val_loss: 0.3354 - val_accuracy: 0.8596\n",
      "Epoch 8/50\n",
      "79/79 [==============================] - ETA: 0s - loss: 0.3050 - accuracy: 0.8727\n",
      "Epoch 8: val_accuracy did not improve from 0.85960\n",
      "79/79 [==============================] - 151s 2s/step - loss: 0.3050 - accuracy: 0.8727 - val_loss: 0.3745 - val_accuracy: 0.8544\n",
      "Epoch 9/50\n",
      "79/79 [==============================] - ETA: 0s - loss: 0.2957 - accuracy: 0.8764\n",
      "Epoch 9: val_accuracy improved from 0.85960 to 0.86300, saving model to ./models_gru\\checkpoint\n",
      "INFO:tensorflow:Assets written to: ./models_gru\\checkpoint\\assets\n"
     ]
    },
    {
     "name": "stderr",
     "output_type": "stream",
     "text": [
      "INFO:tensorflow:Assets written to: ./models_gru\\checkpoint\\assets\n",
      "WARNING:absl:<keras.layers.recurrent.GRUCell object at 0x00000201C43D2C70> has the same name 'GRUCell' as a built-in Keras object. Consider renaming <class 'keras.layers.recurrent.GRUCell'> to avoid naming conflicts when loading with `tf.keras.models.load_model`. If renaming is not possible, pass the object in the `custom_objects` parameter of the load function.\n"
     ]
    },
    {
     "name": "stdout",
     "output_type": "stream",
     "text": [
      "79/79 [==============================] - 159s 2s/step - loss: 0.2957 - accuracy: 0.8764 - val_loss: 0.3312 - val_accuracy: 0.8630\n",
      "Epoch 10/50\n",
      "79/79 [==============================] - ETA: 0s - loss: 0.2850 - accuracy: 0.8796\n",
      "Epoch 10: val_accuracy did not improve from 0.86300\n",
      "79/79 [==============================] - 149s 2s/step - loss: 0.2850 - accuracy: 0.8796 - val_loss: 0.3656 - val_accuracy: 0.8398\n",
      "Epoch 11/50\n",
      "79/79 [==============================] - ETA: 0s - loss: 0.2803 - accuracy: 0.8824\n",
      "Epoch 11: val_accuracy did not improve from 0.86300\n",
      "79/79 [==============================] - 152s 2s/step - loss: 0.2803 - accuracy: 0.8824 - val_loss: 0.3647 - val_accuracy: 0.8452\n",
      "Epoch 12/50\n",
      "79/79 [==============================] - ETA: 0s - loss: 0.2696 - accuracy: 0.8878\n",
      "Epoch 12: val_accuracy did not improve from 0.86300\n",
      "79/79 [==============================] - 151s 2s/step - loss: 0.2696 - accuracy: 0.8878 - val_loss: 0.3331 - val_accuracy: 0.8584\n",
      "Epoch 13/50\n",
      "79/79 [==============================] - ETA: 0s - loss: 0.2640 - accuracy: 0.8892\n",
      "Epoch 13: val_accuracy did not improve from 0.86300\n",
      "79/79 [==============================] - 150s 2s/step - loss: 0.2640 - accuracy: 0.8892 - val_loss: 0.3366 - val_accuracy: 0.8620\n",
      "Epoch 14/50\n",
      "79/79 [==============================] - ETA: 0s - loss: 0.2544 - accuracy: 0.8941\n",
      "Epoch 14: val_accuracy did not improve from 0.86300\n",
      "79/79 [==============================] - 151s 2s/step - loss: 0.2544 - accuracy: 0.8941 - val_loss: 0.3413 - val_accuracy: 0.8626\n",
      "Epoch 15/50\n",
      "79/79 [==============================] - ETA: 0s - loss: 0.2503 - accuracy: 0.8979\n",
      "Epoch 15: val_accuracy did not improve from 0.86300\n",
      "79/79 [==============================] - 150s 2s/step - loss: 0.2503 - accuracy: 0.8979 - val_loss: 0.3552 - val_accuracy: 0.8458\n",
      "Epoch 16/50\n",
      "79/79 [==============================] - ETA: 0s - loss: 0.2445 - accuracy: 0.8978\n",
      "Epoch 16: val_accuracy improved from 0.86300 to 0.86520, saving model to ./models_gru\\checkpoint\n",
      "INFO:tensorflow:Assets written to: ./models_gru\\checkpoint\\assets\n"
     ]
    },
    {
     "name": "stderr",
     "output_type": "stream",
     "text": [
      "INFO:tensorflow:Assets written to: ./models_gru\\checkpoint\\assets\n",
      "WARNING:absl:<keras.layers.recurrent.GRUCell object at 0x00000201C43D2C70> has the same name 'GRUCell' as a built-in Keras object. Consider renaming <class 'keras.layers.recurrent.GRUCell'> to avoid naming conflicts when loading with `tf.keras.models.load_model`. If renaming is not possible, pass the object in the `custom_objects` parameter of the load function.\n"
     ]
    },
    {
     "name": "stdout",
     "output_type": "stream",
     "text": [
      "79/79 [==============================] - 155s 2s/step - loss: 0.2445 - accuracy: 0.8978 - val_loss: 0.3402 - val_accuracy: 0.8652\n",
      "Epoch 17/50\n",
      "79/79 [==============================] - ETA: 0s - loss: 0.2344 - accuracy: 0.9039\n",
      "Epoch 17: val_accuracy did not improve from 0.86520\n",
      "79/79 [==============================] - 163s 2s/step - loss: 0.2344 - accuracy: 0.9039 - val_loss: 0.3448 - val_accuracy: 0.8610\n",
      "Epoch 18/50\n",
      "79/79 [==============================] - ETA: 0s - loss: 0.2310 - accuracy: 0.9053\n",
      "Epoch 18: val_accuracy did not improve from 0.86520\n",
      "79/79 [==============================] - 163s 2s/step - loss: 0.2310 - accuracy: 0.9053 - val_loss: 0.3971 - val_accuracy: 0.8614\n",
      "Epoch 19/50\n",
      "79/79 [==============================] - ETA: 0s - loss: 0.2272 - accuracy: 0.9067\n",
      "Epoch 19: val_accuracy did not improve from 0.86520\n",
      "79/79 [==============================] - 167s 2s/step - loss: 0.2272 - accuracy: 0.9067 - val_loss: 0.4213 - val_accuracy: 0.8392\n",
      "Epoch 20/50\n",
      "79/79 [==============================] - ETA: 0s - loss: 0.2243 - accuracy: 0.9067\n",
      "Epoch 20: val_accuracy did not improve from 0.86520\n",
      "79/79 [==============================] - 167s 2s/step - loss: 0.2243 - accuracy: 0.9067 - val_loss: 0.3443 - val_accuracy: 0.8636\n",
      "Epoch 21/50\n",
      "79/79 [==============================] - ETA: 0s - loss: 0.2174 - accuracy: 0.9101\n",
      "Epoch 21: val_accuracy did not improve from 0.86520\n",
      "79/79 [==============================] - 166s 2s/step - loss: 0.2174 - accuracy: 0.9101 - val_loss: 0.3490 - val_accuracy: 0.8648\n",
      "Epoch 22/50\n",
      "79/79 [==============================] - ETA: 0s - loss: 0.2059 - accuracy: 0.9161\n",
      "Epoch 22: val_accuracy did not improve from 0.86520\n",
      "79/79 [==============================] - 165s 2s/step - loss: 0.2059 - accuracy: 0.9161 - val_loss: 0.3803 - val_accuracy: 0.8424\n",
      "Epoch 23/50\n",
      "79/79 [==============================] - ETA: 0s - loss: 0.2029 - accuracy: 0.9154\n",
      "Epoch 23: val_accuracy did not improve from 0.86520\n",
      "79/79 [==============================] - 165s 2s/step - loss: 0.2029 - accuracy: 0.9154 - val_loss: 0.3885 - val_accuracy: 0.8618\n",
      "Epoch 24/50\n",
      "79/79 [==============================] - ETA: 0s - loss: 0.1898 - accuracy: 0.9243\n",
      "Epoch 24: val_accuracy did not improve from 0.86520\n",
      "79/79 [==============================] - 165s 2s/step - loss: 0.1898 - accuracy: 0.9243 - val_loss: 0.3828 - val_accuracy: 0.8566\n",
      "Epoch 25/50\n",
      "79/79 [==============================] - ETA: 0s - loss: 0.1916 - accuracy: 0.9237\n",
      "Epoch 25: val_accuracy did not improve from 0.86520\n",
      "79/79 [==============================] - 164s 2s/step - loss: 0.1916 - accuracy: 0.9237 - val_loss: 0.3943 - val_accuracy: 0.8586\n",
      "Epoch 26/50\n",
      "79/79 [==============================] - ETA: 0s - loss: 0.1847 - accuracy: 0.9226\n",
      "Epoch 26: val_accuracy did not improve from 0.86520\n",
      "79/79 [==============================] - 166s 2s/step - loss: 0.1847 - accuracy: 0.9226 - val_loss: 0.3967 - val_accuracy: 0.8530\n",
      "Epoch 27/50\n",
      "79/79 [==============================] - ETA: 0s - loss: 0.1834 - accuracy: 0.9261\n",
      "Epoch 27: val_accuracy did not improve from 0.86520\n",
      "79/79 [==============================] - 164s 2s/step - loss: 0.1834 - accuracy: 0.9261 - val_loss: 0.4191 - val_accuracy: 0.8546\n",
      "Epoch 28/50\n",
      "79/79 [==============================] - ETA: 0s - loss: 0.1728 - accuracy: 0.9298\n",
      "Epoch 28: val_accuracy did not improve from 0.86520\n",
      "79/79 [==============================] - 166s 2s/step - loss: 0.1728 - accuracy: 0.9298 - val_loss: 0.4096 - val_accuracy: 0.8616\n",
      "Epoch 29/50\n",
      "79/79 [==============================] - ETA: 0s - loss: 0.1704 - accuracy: 0.9306\n",
      "Epoch 29: val_accuracy did not improve from 0.86520\n",
      "79/79 [==============================] - 166s 2s/step - loss: 0.1704 - accuracy: 0.9306 - val_loss: 0.4024 - val_accuracy: 0.8604\n",
      "Epoch 30/50\n",
      "79/79 [==============================] - ETA: 0s - loss: 0.1582 - accuracy: 0.9370\n",
      "Epoch 30: val_accuracy did not improve from 0.86520\n",
      "79/79 [==============================] - 165s 2s/step - loss: 0.1582 - accuracy: 0.9370 - val_loss: 0.4387 - val_accuracy: 0.8576\n",
      "Epoch 31/50\n",
      "79/79 [==============================] - ETA: 0s - loss: 0.1519 - accuracy: 0.9409\n",
      "Epoch 31: val_accuracy did not improve from 0.86520\n",
      "79/79 [==============================] - 165s 2s/step - loss: 0.1519 - accuracy: 0.9409 - val_loss: 0.4380 - val_accuracy: 0.8464\n",
      "Epoch 32/50\n",
      "79/79 [==============================] - ETA: 0s - loss: 0.1538 - accuracy: 0.9378\n",
      "Epoch 32: val_accuracy did not improve from 0.86520\n",
      "79/79 [==============================] - 162s 2s/step - loss: 0.1538 - accuracy: 0.9378 - val_loss: 0.4680 - val_accuracy: 0.8542\n",
      "Epoch 33/50\n",
      "79/79 [==============================] - ETA: 0s - loss: 0.1532 - accuracy: 0.9391\n",
      "Epoch 33: val_accuracy did not improve from 0.86520\n",
      "79/79 [==============================] - 166s 2s/step - loss: 0.1532 - accuracy: 0.9391 - val_loss: 0.4741 - val_accuracy: 0.8548\n",
      "Epoch 34/50\n",
      "79/79 [==============================] - ETA: 0s - loss: 0.1354 - accuracy: 0.9449\n",
      "Epoch 34: val_accuracy did not improve from 0.86520\n",
      "79/79 [==============================] - 167s 2s/step - loss: 0.1354 - accuracy: 0.9449 - val_loss: 0.5092 - val_accuracy: 0.8524\n",
      "Epoch 35/50\n",
      "79/79 [==============================] - ETA: 0s - loss: 0.1327 - accuracy: 0.9459\n",
      "Epoch 35: val_accuracy did not improve from 0.86520\n",
      "79/79 [==============================] - 165s 2s/step - loss: 0.1327 - accuracy: 0.9459 - val_loss: 0.5387 - val_accuracy: 0.8542\n",
      "Epoch 36/50\n",
      "79/79 [==============================] - ETA: 0s - loss: 0.1327 - accuracy: 0.9458\n",
      "Epoch 36: val_accuracy did not improve from 0.86520\n",
      "79/79 [==============================] - 165s 2s/step - loss: 0.1327 - accuracy: 0.9458 - val_loss: 0.5029 - val_accuracy: 0.8502\n",
      "Epoch 37/50\n",
      "79/79 [==============================] - ETA: 0s - loss: 0.1263 - accuracy: 0.9493\n",
      "Epoch 37: val_accuracy did not improve from 0.86520\n",
      "79/79 [==============================] - 165s 2s/step - loss: 0.1263 - accuracy: 0.9493 - val_loss: 0.5609 - val_accuracy: 0.8536\n",
      "Epoch 38/50\n",
      "79/79 [==============================] - ETA: 0s - loss: 0.1243 - accuracy: 0.9514\n",
      "Epoch 38: val_accuracy did not improve from 0.86520\n",
      "79/79 [==============================] - 165s 2s/step - loss: 0.1243 - accuracy: 0.9514 - val_loss: 0.5361 - val_accuracy: 0.8578\n",
      "Epoch 39/50\n",
      "79/79 [==============================] - ETA: 0s - loss: 0.1203 - accuracy: 0.9517\n",
      "Epoch 39: val_accuracy did not improve from 0.86520\n",
      "79/79 [==============================] - 164s 2s/step - loss: 0.1203 - accuracy: 0.9517 - val_loss: 0.5841 - val_accuracy: 0.8582\n",
      "Epoch 40/50\n",
      "79/79 [==============================] - ETA: 0s - loss: 0.1055 - accuracy: 0.9584\n",
      "Epoch 40: val_accuracy did not improve from 0.86520\n",
      "79/79 [==============================] - 164s 2s/step - loss: 0.1055 - accuracy: 0.9584 - val_loss: 0.5943 - val_accuracy: 0.8532\n",
      "Epoch 41/50\n",
      "79/79 [==============================] - ETA: 0s - loss: 0.1004 - accuracy: 0.9611\n",
      "Epoch 41: val_accuracy did not improve from 0.86520\n",
      "79/79 [==============================] - 164s 2s/step - loss: 0.1004 - accuracy: 0.9611 - val_loss: 0.5810 - val_accuracy: 0.8586\n",
      "Epoch 42/50\n",
      "79/79 [==============================] - ETA: 0s - loss: 0.1083 - accuracy: 0.9576\n",
      "Epoch 42: val_accuracy did not improve from 0.86520\n",
      "79/79 [==============================] - 164s 2s/step - loss: 0.1083 - accuracy: 0.9576 - val_loss: 0.6167 - val_accuracy: 0.8558\n",
      "Epoch 43/50\n",
      "79/79 [==============================] - ETA: 0s - loss: 0.0939 - accuracy: 0.9639\n",
      "Epoch 43: val_accuracy did not improve from 0.86520\n",
      "79/79 [==============================] - 166s 2s/step - loss: 0.0939 - accuracy: 0.9639 - val_loss: 0.6415 - val_accuracy: 0.8470\n",
      "Epoch 44/50\n",
      "79/79 [==============================] - ETA: 0s - loss: 0.0926 - accuracy: 0.9640\n",
      "Epoch 44: val_accuracy did not improve from 0.86520\n",
      "79/79 [==============================] - 164s 2s/step - loss: 0.0926 - accuracy: 0.9640 - val_loss: 0.6098 - val_accuracy: 0.8492\n",
      "Epoch 45/50\n",
      "79/79 [==============================] - ETA: 0s - loss: 0.0894 - accuracy: 0.9651\n",
      "Epoch 45: val_accuracy did not improve from 0.86520\n",
      "79/79 [==============================] - 163s 2s/step - loss: 0.0894 - accuracy: 0.9651 - val_loss: 0.6131 - val_accuracy: 0.8390\n",
      "Epoch 46/50\n",
      "79/79 [==============================] - ETA: 0s - loss: 0.0900 - accuracy: 0.9653\n",
      "Epoch 46: val_accuracy did not improve from 0.86520\n",
      "79/79 [==============================] - 161s 2s/step - loss: 0.0900 - accuracy: 0.9653 - val_loss: 0.6160 - val_accuracy: 0.8464\n",
      "Epoch 47/50\n",
      "79/79 [==============================] - ETA: 0s - loss: 0.0826 - accuracy: 0.9701\n",
      "Epoch 47: val_accuracy did not improve from 0.86520\n",
      "79/79 [==============================] - 167s 2s/step - loss: 0.0826 - accuracy: 0.9701 - val_loss: 0.6194 - val_accuracy: 0.8470\n",
      "Epoch 48/50\n",
      "79/79 [==============================] - ETA: 0s - loss: 0.0789 - accuracy: 0.9694\n",
      "Epoch 48: val_accuracy did not improve from 0.86520\n",
      "79/79 [==============================] - 166s 2s/step - loss: 0.0789 - accuracy: 0.9694 - val_loss: 0.6824 - val_accuracy: 0.8458\n",
      "Epoch 49/50\n",
      "79/79 [==============================] - ETA: 0s - loss: 0.0731 - accuracy: 0.9726\n",
      "Epoch 49: val_accuracy did not improve from 0.86520\n",
      "79/79 [==============================] - 164s 2s/step - loss: 0.0731 - accuracy: 0.9726 - val_loss: 0.7202 - val_accuracy: 0.8522\n",
      "Epoch 50/50\n",
      "79/79 [==============================] - ETA: 0s - loss: 0.0774 - accuracy: 0.9692\n",
      "Epoch 50: val_accuracy did not improve from 0.86520\n",
      "79/79 [==============================] - 168s 2s/step - loss: 0.0774 - accuracy: 0.9692 - val_loss: 0.6883 - val_accuracy: 0.8508\n"
     ]
    },
    {
     "data": {
      "text/plain": [
       "<keras.callbacks.History at 0x201c42bf3a0>"
      ]
     },
     "execution_count": 96,
     "metadata": {},
     "output_type": "execute_result"
    }
   ],
   "source": [
    "model.fit(train_x, train_y, \n",
    "          epochs=50,\n",
    "         callbacks=callbacks,\n",
    "         validation_data=(val_x, val_y),\n",
    "         batch_size=256)"
   ]
  },
  {
   "cell_type": "code",
   "execution_count": 97,
   "id": "72d8ccc1",
   "metadata": {},
   "outputs": [
    {
     "name": "stdout",
     "output_type": "stream",
     "text": [
      "WARNING:tensorflow:Layer gru will not use cuDNN kernels since it doesn't meet the criteria. It will use a generic GPU kernel as fallback when running on GPU.\n"
     ]
    },
    {
     "name": "stderr",
     "output_type": "stream",
     "text": [
      "WARNING:tensorflow:Layer gru will not use cuDNN kernels since it doesn't meet the criteria. It will use a generic GPU kernel as fallback when running on GPU.\n"
     ]
    }
   ],
   "source": [
    "model = load_model('./models_gru/checkpoint')"
   ]
  },
  {
   "cell_type": "code",
   "execution_count": 98,
   "id": "2a4576dc",
   "metadata": {},
   "outputs": [
    {
     "name": "stdout",
     "output_type": "stream",
     "text": [
      "f1 : 0.9186507936507936\n",
      "acc: 0.918\n"
     ]
    },
    {
     "data": {
      "image/png": "[encoded data removed]",
      "text/plain": [
       "<Figure size 432x288 with 2 Axes>"
      ]
     },
     "metadata": {
      "needs_background": "light"
     },
     "output_type": "display_data"
    }
   ],
   "source": [
    "predict_result(model, train_x[:1000], train_y[:1000])"
   ]
  },
  {
   "cell_type": "code",
   "execution_count": 99,
   "id": "8b83add9",
   "metadata": {},
   "outputs": [
    {
     "name": "stdout",
     "output_type": "stream",
     "text": [
      "f1 : 0.8605183845690174\n",
      "acc: 0.86116\n"
     ]
    },
    {
     "data": {
      "image/png": "[encoded data removed]",
      "text/plain": [
       "<Figure size 432x288 with 2 Axes>"
      ]
     },
     "metadata": {
      "needs_background": "light"
     },
     "output_type": "display_data"
    }
   ],
   "source": [
    "predict_result(model, test_x, test_y)"
   ]
  },
  {
   "cell_type": "markdown",
   "id": "1de57d2a",
   "metadata": {},
   "source": [
    "# RNN with Bidirectional LSTM"
   ]
  },
  {
   "cell_type": "code",
   "execution_count": 104,
   "id": "9755d2ae",
   "metadata": {},
   "outputs": [
    {
     "ename": "InternalError",
     "evalue": "Failed copying input tensor from /job:localhost/replica:0/task:0/device:GPU:0 to /job:localhost/replica:0/task:0/device:CPU:0 in order to run Qr: stream did not block host until done; was already in an error state [Op:Qr]",
     "output_type": "error",
     "traceback": [
      "\u001b[1;31m---------------------------------------------------------------------------\u001b[0m",
      "\u001b[1;31mInternalError\u001b[0m                             Traceback (most recent call last)",
      "Input \u001b[1;32mIn [104]\u001b[0m, in \u001b[0;36m<module>\u001b[1;34m\u001b[0m\n\u001b[1;32m----> 1\u001b[0m model \u001b[38;5;241m=\u001b[39m \u001b[43mSequential\u001b[49m\u001b[43m(\u001b[49m\u001b[43m[\u001b[49m\n\u001b[0;32m      2\u001b[0m \u001b[43m    \u001b[49m\u001b[43mEmbedding\u001b[49m\u001b[43m(\u001b[49m\u001b[38;5;241;43m600\u001b[39;49m\u001b[43m,\u001b[49m\u001b[43m \u001b[49m\u001b[43membedding_size\u001b[49m\u001b[43m,\u001b[49m\u001b[43m \u001b[49m\u001b[43minput_length\u001b[49m\u001b[38;5;241;43m=\u001b[39;49m\u001b[43mmax_words\u001b[49m\u001b[43m)\u001b[49m\u001b[43m,\u001b[49m\n\u001b[0;32m      3\u001b[0m \u001b[43m    \u001b[49m\u001b[43mBidirectional\u001b[49m\u001b[43m(\u001b[49m\u001b[43mLSTM\u001b[49m\u001b[43m(\u001b[49m\u001b[38;5;241;43m256\u001b[39;49m\u001b[43m,\u001b[49m\u001b[43m \u001b[49m\u001b[43mreturn_sequences\u001b[49m\u001b[38;5;241;43m=\u001b[39;49m\u001b[38;5;28;43;01mTrue\u001b[39;49;00m\u001b[43m)\u001b[49m\u001b[43m)\u001b[49m\u001b[43m,\u001b[49m\n\u001b[0;32m      4\u001b[0m \u001b[43m    \u001b[49m\u001b[43mDropout\u001b[49m\u001b[43m(\u001b[49m\u001b[38;5;241;43m0.4\u001b[39;49m\u001b[43m)\u001b[49m\u001b[43m,\u001b[49m\n\u001b[0;32m      5\u001b[0m \u001b[43m    \u001b[49m\u001b[43mBidirectional\u001b[49m\u001b[43m(\u001b[49m\u001b[43mLSTM\u001b[49m\u001b[43m(\u001b[49m\u001b[38;5;241;43m64\u001b[39;49m\u001b[43m)\u001b[49m\u001b[43m)\u001b[49m\u001b[43m,\u001b[49m\n\u001b[0;32m      6\u001b[0m \u001b[43m    \u001b[49m\u001b[43mDropout\u001b[49m\u001b[43m(\u001b[49m\u001b[38;5;241;43m0.4\u001b[39;49m\u001b[43m)\u001b[49m\u001b[43m,\u001b[49m\n\u001b[0;32m      7\u001b[0m \u001b[43m    \u001b[49m\u001b[43mDense\u001b[49m\u001b[43m(\u001b[49m\u001b[38;5;241;43m64\u001b[39;49m\u001b[43m,\u001b[49m\u001b[43m \u001b[49m\u001b[43mactivation\u001b[49m\u001b[38;5;241;43m=\u001b[39;49m\u001b[38;5;124;43m'\u001b[39;49m\u001b[38;5;124;43mrelu\u001b[39;49m\u001b[38;5;124;43m'\u001b[39;49m\u001b[43m)\u001b[49m\u001b[43m,\u001b[49m\n\u001b[0;32m      8\u001b[0m \u001b[43m    \u001b[49m\u001b[43mDropout\u001b[49m\u001b[43m(\u001b[49m\u001b[38;5;241;43m0.4\u001b[39;49m\u001b[43m)\u001b[49m\u001b[43m,\u001b[49m\n\u001b[0;32m      9\u001b[0m \u001b[43m    \u001b[49m\u001b[43mDense\u001b[49m\u001b[43m(\u001b[49m\u001b[38;5;241;43m2\u001b[39;49m\u001b[43m,\u001b[49m\u001b[43m \u001b[49m\u001b[43mactivation\u001b[49m\u001b[38;5;241;43m=\u001b[39;49m\u001b[38;5;124;43m'\u001b[39;49m\u001b[38;5;124;43msigmoid\u001b[39;49m\u001b[38;5;124;43m'\u001b[39;49m\u001b[43m)\u001b[49m\n\u001b[0;32m     10\u001b[0m \u001b[43m]\u001b[49m\u001b[43m)\u001b[49m\n\u001b[0;32m     12\u001b[0m callbacks\u001b[38;5;241m=\u001b[39m[\n\u001b[0;32m     13\u001b[0m     ModelCheckpoint(filepath\u001b[38;5;241m=\u001b[39m\u001b[38;5;124m'\u001b[39m\u001b[38;5;124m./models_bilstm2/checkpoint\u001b[39m\u001b[38;5;124m'\u001b[39m,\n\u001b[0;32m     14\u001b[0m                    save_best_only\u001b[38;5;241m=\u001b[39m\u001b[38;5;28;01mTrue\u001b[39;00m, verbose\u001b[38;5;241m=\u001b[39m\u001b[38;5;241m1\u001b[39m, monitor\u001b[38;5;241m=\u001b[39m\u001b[38;5;124m'\u001b[39m\u001b[38;5;124mval_loss\u001b[39m\u001b[38;5;124m'\u001b[39m)\n\u001b[0;32m     15\u001b[0m ]\n\u001b[0;32m     16\u001b[0m model\u001b[38;5;241m.\u001b[39msummary()\n",
      "File \u001b[1;32md:\\coding\\venv\\lib\\site-packages\\tensorflow\\python\\training\\tracking\\base.py:629\u001b[0m, in \u001b[0;36mno_automatic_dependency_tracking.<locals>._method_wrapper\u001b[1;34m(self, *args, **kwargs)\u001b[0m\n\u001b[0;32m    627\u001b[0m \u001b[38;5;28mself\u001b[39m\u001b[38;5;241m.\u001b[39m_self_setattr_tracking \u001b[38;5;241m=\u001b[39m \u001b[38;5;28;01mFalse\u001b[39;00m  \u001b[38;5;66;03m# pylint: disable=protected-access\u001b[39;00m\n\u001b[0;32m    628\u001b[0m \u001b[38;5;28;01mtry\u001b[39;00m:\n\u001b[1;32m--> 629\u001b[0m   result \u001b[38;5;241m=\u001b[39m method(\u001b[38;5;28mself\u001b[39m, \u001b[38;5;241m*\u001b[39margs, \u001b[38;5;241m*\u001b[39m\u001b[38;5;241m*\u001b[39mkwargs)\n\u001b[0;32m    630\u001b[0m \u001b[38;5;28;01mfinally\u001b[39;00m:\n\u001b[0;32m    631\u001b[0m   \u001b[38;5;28mself\u001b[39m\u001b[38;5;241m.\u001b[39m_self_setattr_tracking \u001b[38;5;241m=\u001b[39m previous_value  \u001b[38;5;66;03m# pylint: disable=protected-access\u001b[39;00m\n",
      "File \u001b[1;32md:\\coding\\venv\\lib\\site-packages\\keras\\utils\\traceback_utils.py:67\u001b[0m, in \u001b[0;36mfilter_traceback.<locals>.error_handler\u001b[1;34m(*args, **kwargs)\u001b[0m\n\u001b[0;32m     65\u001b[0m \u001b[38;5;28;01mexcept\u001b[39;00m \u001b[38;5;167;01mException\u001b[39;00m \u001b[38;5;28;01mas\u001b[39;00m e:  \u001b[38;5;66;03m# pylint: disable=broad-except\u001b[39;00m\n\u001b[0;32m     66\u001b[0m   filtered_tb \u001b[38;5;241m=\u001b[39m _process_traceback_frames(e\u001b[38;5;241m.\u001b[39m__traceback__)\n\u001b[1;32m---> 67\u001b[0m   \u001b[38;5;28;01mraise\u001b[39;00m e\u001b[38;5;241m.\u001b[39mwith_traceback(filtered_tb) \u001b[38;5;28;01mfrom\u001b[39;00m \u001b[38;5;28mNone\u001b[39m\n\u001b[0;32m     68\u001b[0m \u001b[38;5;28;01mfinally\u001b[39;00m:\n\u001b[0;32m     69\u001b[0m   \u001b[38;5;28;01mdel\u001b[39;00m filtered_tb\n",
      "File \u001b[1;32md:\\coding\\venv\\lib\\site-packages\\keras\\initializers\\initializers_v2.py:621\u001b[0m, in \u001b[0;36mOrthogonal.__call__\u001b[1;34m(self, shape, dtype, **kwargs)\u001b[0m\n\u001b[0;32m    619\u001b[0m a \u001b[38;5;241m=\u001b[39m \u001b[38;5;28mself\u001b[39m\u001b[38;5;241m.\u001b[39m_random_generator\u001b[38;5;241m.\u001b[39mrandom_normal(flat_shape, dtype\u001b[38;5;241m=\u001b[39mdtype)\n\u001b[0;32m    620\u001b[0m \u001b[38;5;66;03m# Compute the qr factorization\u001b[39;00m\n\u001b[1;32m--> 621\u001b[0m q, r \u001b[38;5;241m=\u001b[39m \u001b[43mtf\u001b[49m\u001b[38;5;241;43m.\u001b[39;49m\u001b[43mlinalg\u001b[49m\u001b[38;5;241;43m.\u001b[39;49m\u001b[43mqr\u001b[49m\u001b[43m(\u001b[49m\u001b[43ma\u001b[49m\u001b[43m,\u001b[49m\u001b[43m \u001b[49m\u001b[43mfull_matrices\u001b[49m\u001b[38;5;241;43m=\u001b[39;49m\u001b[38;5;28;43;01mFalse\u001b[39;49;00m\u001b[43m)\u001b[49m\n\u001b[0;32m    622\u001b[0m \u001b[38;5;66;03m# Make Q uniform\u001b[39;00m\n\u001b[0;32m    623\u001b[0m d \u001b[38;5;241m=\u001b[39m tf\u001b[38;5;241m.\u001b[39mlinalg\u001b[38;5;241m.\u001b[39mtensor_diag_part(r)\n",
      "\u001b[1;31mInternalError\u001b[0m: Failed copying input tensor from /job:localhost/replica:0/task:0/device:GPU:0 to /job:localhost/replica:0/task:0/device:CPU:0 in order to run Qr: stream did not block host until done; was already in an error state [Op:Qr]"
     ]
    }
   ],
   "source": [
    "model = Sequential([\n",
    "    Embedding(600, embedding_size, input_length=max_words),\n",
    "    Bidirectional(LSTM(256, return_sequences=True)),\n",
    "    Dropout(0.4),\n",
    "    Bidirectional(LSTM(64)),\n",
    "    Dropout(0.4),\n",
    "    Dense(64, activation='relu'),\n",
    "    Dropout(0.4),\n",
    "    Dense(2, activation='sigmoid')\n",
    "])\n",
    "\n",
    "callbacks=[\n",
    "    ModelCheckpoint(filepath='./models_bilstm2/checkpoint',\n",
    "                   save_best_only=True, verbose=1, monitor='val_loss')\n",
    "]\n",
    "model.summary()"
   ]
  },
  {
   "cell_type": "code",
   "execution_count": 105,
   "id": "bdfa501b",
   "metadata": {},
   "outputs": [],
   "source": [
    "model.compile(loss='categorical_crossentropy', \n",
    "             optimizer='sgd', \n",
    "             metrics=['accuracy'])"
   ]
  },
  {
   "cell_type": "code",
   "execution_count": 103,
   "id": "582fd400",
   "metadata": {},
   "outputs": [
    {
     "ename": "InternalError",
     "evalue": "stream did not block host until done; was already in an error state",
     "output_type": "error",
     "traceback": [
      "\u001b[1;31m---------------------------------------------------------------------------\u001b[0m",
      "\u001b[1;31mInternalError\u001b[0m                             Traceback (most recent call last)",
      "Input \u001b[1;32mIn [103]\u001b[0m, in \u001b[0;36m<module>\u001b[1;34m\u001b[0m\n\u001b[1;32m----> 1\u001b[0m \u001b[43mmodel\u001b[49m\u001b[38;5;241;43m.\u001b[39;49m\u001b[43mfit\u001b[49m\u001b[43m(\u001b[49m\u001b[43mtrain_x\u001b[49m\u001b[43m,\u001b[49m\u001b[43m \u001b[49m\u001b[43mtrain_y\u001b[49m\u001b[43m,\u001b[49m\u001b[43m \u001b[49m\n\u001b[0;32m      2\u001b[0m \u001b[43m          \u001b[49m\u001b[43mepochs\u001b[49m\u001b[38;5;241;43m=\u001b[39;49m\u001b[38;5;241;43m50\u001b[39;49m\u001b[43m,\u001b[49m\n\u001b[0;32m      3\u001b[0m \u001b[43m         \u001b[49m\u001b[43mcallbacks\u001b[49m\u001b[38;5;241;43m=\u001b[39;49m\u001b[43mcallbacks\u001b[49m\u001b[43m,\u001b[49m\n\u001b[0;32m      4\u001b[0m \u001b[43m         \u001b[49m\u001b[43mvalidation_data\u001b[49m\u001b[38;5;241;43m=\u001b[39;49m\u001b[43m(\u001b[49m\u001b[43mval_x\u001b[49m\u001b[43m,\u001b[49m\u001b[43m \u001b[49m\u001b[43mval_y\u001b[49m\u001b[43m)\u001b[49m\u001b[43m,\u001b[49m\n\u001b[0;32m      5\u001b[0m \u001b[43m         \u001b[49m\u001b[43mbatch_size\u001b[49m\u001b[38;5;241;43m=\u001b[39;49m\u001b[38;5;241;43m128\u001b[39;49m\u001b[43m)\u001b[49m\n",
      "File \u001b[1;32md:\\coding\\venv\\lib\\site-packages\\keras\\utils\\traceback_utils.py:67\u001b[0m, in \u001b[0;36mfilter_traceback.<locals>.error_handler\u001b[1;34m(*args, **kwargs)\u001b[0m\n\u001b[0;32m     65\u001b[0m \u001b[38;5;28;01mexcept\u001b[39;00m \u001b[38;5;167;01mException\u001b[39;00m \u001b[38;5;28;01mas\u001b[39;00m e:  \u001b[38;5;66;03m# pylint: disable=broad-except\u001b[39;00m\n\u001b[0;32m     66\u001b[0m   filtered_tb \u001b[38;5;241m=\u001b[39m _process_traceback_frames(e\u001b[38;5;241m.\u001b[39m__traceback__)\n\u001b[1;32m---> 67\u001b[0m   \u001b[38;5;28;01mraise\u001b[39;00m e\u001b[38;5;241m.\u001b[39mwith_traceback(filtered_tb) \u001b[38;5;28;01mfrom\u001b[39;00m \u001b[38;5;28mNone\u001b[39m\n\u001b[0;32m     68\u001b[0m \u001b[38;5;28;01mfinally\u001b[39;00m:\n\u001b[0;32m     69\u001b[0m   \u001b[38;5;28;01mdel\u001b[39;00m filtered_tb\n",
      "File \u001b[1;32md:\\coding\\venv\\lib\\site-packages\\tensorflow\\python\\framework\\ops.py:1191\u001b[0m, in \u001b[0;36m_EagerTensorBase._numpy\u001b[1;34m(self)\u001b[0m\n\u001b[0;32m   1189\u001b[0m   \u001b[38;5;28;01mreturn\u001b[39;00m \u001b[38;5;28mself\u001b[39m\u001b[38;5;241m.\u001b[39m_numpy_internal()\n\u001b[0;32m   1190\u001b[0m \u001b[38;5;28;01mexcept\u001b[39;00m core\u001b[38;5;241m.\u001b[39m_NotOkStatusException \u001b[38;5;28;01mas\u001b[39;00m e:  \u001b[38;5;66;03m# pylint: disable=protected-access\u001b[39;00m\n\u001b[1;32m-> 1191\u001b[0m   \u001b[38;5;28;01mraise\u001b[39;00m core\u001b[38;5;241m.\u001b[39m_status_to_exception(e) \u001b[38;5;28;01mfrom\u001b[39;00m \u001b[38;5;28mNone\u001b[39m\n",
      "\u001b[1;31mInternalError\u001b[0m: stream did not block host until done; was already in an error state"
     ]
    }
   ],
   "source": [
    "model.fit(train_x, train_y, \n",
    "          epochs=50,\n",
    "         callbacks=callbacks,\n",
    "         validation_data=(val_x, val_y),\n",
    "         batch_size=128)"
   ]
  },
  {
   "cell_type": "code",
   "execution_count": null,
   "id": "36a27319",
   "metadata": {},
   "outputs": [],
   "source": []
  }
 ],
 "metadata": {
  "kernelspec": {
   "display_name": "Python 3 (ipykernel)",
   "language": "python",
   "name": "python3"
  },
  "language_info": {
   "codemirror_mode": {
    "name": "ipython",
    "version": 3
   },
   "file_extension": ".py",
   "mimetype": "text/x-python",
   "name": "python",
   "nbconvert_exporter": "python",
   "pygments_lexer": "ipython3",
   "version": "3.9.0"
  }
 },
 "nbformat": 4,
 "nbformat_minor": 5
}
