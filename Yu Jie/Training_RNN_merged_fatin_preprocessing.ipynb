{
 "cells": [
  {
   "cell_type": "code",
   "execution_count": 1,
   "id": "8d0cdfe1",
   "metadata": {},
   "outputs": [],
   "source": [
    "import pandas as pd\n",
    "import tensorflow as tf\n",
    "from tensorflow.keras.models import Sequential, load_model\n",
    "from tensorflow.keras.layers import Dense, Dropout, LSTM, Embedding, GRU, SpatialDropout1D, Bidirectional, MaxPooling1D, Conv2D, Flatten\n",
    "from tensorflow.keras.callbacks import EarlyStopping, ModelCheckpoint\n",
    "from tensorflow.keras.losses import CategoricalCrossentropy\n",
    "from tensorflow.keras.preprocessing.text import Tokenizer\n",
    "from tensorflow.keras.preprocessing.sequence import pad_sequences\n",
    "from tensorflow.keras.optimizers import SGD\n",
    "from tensorflow.keras.utils import to_categorical\n",
    "import spacy\n",
    "from tqdm.notebook import tqdm_notebook\n",
    "from sklearn.model_selection import train_test_split\n",
    "from sklearn.metrics import ConfusionMatrixDisplay, accuracy_score, f1_score\n",
    "from sklearn.metrics import confusion_matrix\n",
    "spacy.require_gpu()\n",
    "import scikitplot as skplt\n",
    "import numpy as np\n",
    "from sklearn.preprocessing import LabelEncoder\n",
    "from sklearn.preprocessing import OneHotEncoder\n",
    "from tqdm import tqdm\n",
    "tqdm.pandas()\n",
    "from nltk.corpus import stopwords\n",
    "import string"
   ]
  },
  {
   "cell_type": "markdown",
   "id": "090ea0ac",
   "metadata": {},
   "source": [
    "# Load the training and testing data"
   ]
  },
  {
   "cell_type": "code",
   "execution_count": null,
   "id": "aed6711b",
   "metadata": {},
   "outputs": [],
   "source": [
    "processed_directory = '../processed_data/'\n",
    "train_df = pd.read_csv('../processed_data/train.json')\n",
    "test_df = pd.read_json('../processed_data/test.json')"
   ]
  },
  {
   "cell_type": "code",
   "execution_count": 20,
   "id": "eb71a0b5",
   "metadata": {},
   "outputs": [],
   "source": [
    "train_x = pd.read_csv('./x_train.csv')\n",
    "train_y = pd.read_csv('./y_train.csv')\n",
    "test_x = pd.read_csv('./x_test.csv')\n",
    "test_y = pd.read_csv('./y_test.csv')\n",
    "train_df = pd.concat([train_x, train_y], axis=1)\n",
    "test_df = pd.concat([test_x, test_y], axis=1)"
   ]
  },
  {
   "cell_type": "code",
   "execution_count": 21,
   "id": "22583e10",
   "metadata": {},
   "outputs": [
    {
     "data": {
      "text/html": [
       "<div>\n",
       "<style scoped>\n",
       "    .dataframe tbody tr th:only-of-type {\n",
       "        vertical-align: middle;\n",
       "    }\n",
       "\n",
       "    .dataframe tbody tr th {\n",
       "        vertical-align: top;\n",
       "    }\n",
       "\n",
       "    .dataframe thead th {\n",
       "        text-align: right;\n",
       "    }\n",
       "</style>\n",
       "<table border=\"1\" class=\"dataframe\">\n",
       "  <thead>\n",
       "    <tr style=\"text-align: right;\">\n",
       "      <th></th>\n",
       "      <th>text</th>\n",
       "      <th>label</th>\n",
       "    </tr>\n",
       "  </thead>\n",
       "  <tbody>\n",
       "    <tr>\n",
       "      <th>0</th>\n",
       "      <td>bromwell high cartoon comedy ran time program ...</td>\n",
       "      <td>+</td>\n",
       "    </tr>\n",
       "    <tr>\n",
       "      <th>1</th>\n",
       "      <td>homelessness houselessness george carlin state...</td>\n",
       "      <td>+</td>\n",
       "    </tr>\n",
       "    <tr>\n",
       "      <th>2</th>\n",
       "      <td>brilliant overacting lesley ann warren best dr...</td>\n",
       "      <td>+</td>\n",
       "    </tr>\n",
       "    <tr>\n",
       "      <th>3</th>\n",
       "      <td>easily underrated film inn brook cannon sure f...</td>\n",
       "      <td>+</td>\n",
       "    </tr>\n",
       "    <tr>\n",
       "      <th>4</th>\n",
       "      <td>typical mel brook film much le slapstick movie...</td>\n",
       "      <td>+</td>\n",
       "    </tr>\n",
       "    <tr>\n",
       "      <th>...</th>\n",
       "      <td>...</td>\n",
       "      <td>...</td>\n",
       "    </tr>\n",
       "    <tr>\n",
       "      <th>24995</th>\n",
       "      <td>towards end movie felt technical felt like cla...</td>\n",
       "      <td>-</td>\n",
       "    </tr>\n",
       "    <tr>\n",
       "      <th>24996</th>\n",
       "      <td>kind movie enemy content watch time bloody tru...</td>\n",
       "      <td>-</td>\n",
       "    </tr>\n",
       "    <tr>\n",
       "      <th>24997</th>\n",
       "      <td>saw descent last night stockholm film festival...</td>\n",
       "      <td>-</td>\n",
       "    </tr>\n",
       "    <tr>\n",
       "      <th>24998</th>\n",
       "      <td>film pick pound turn rather good 23rd century ...</td>\n",
       "      <td>-</td>\n",
       "    </tr>\n",
       "    <tr>\n",
       "      <th>24999</th>\n",
       "      <td>one dumbest film ive ever seen rip nearly ever...</td>\n",
       "      <td>-</td>\n",
       "    </tr>\n",
       "  </tbody>\n",
       "</table>\n",
       "<p>25000 rows × 2 columns</p>\n",
       "</div>"
      ],
      "text/plain": [
       "                                                    text label\n",
       "0      bromwell high cartoon comedy ran time program ...     +\n",
       "1      homelessness houselessness george carlin state...     +\n",
       "2      brilliant overacting lesley ann warren best dr...     +\n",
       "3      easily underrated film inn brook cannon sure f...     +\n",
       "4      typical mel brook film much le slapstick movie...     +\n",
       "...                                                  ...   ...\n",
       "24995  towards end movie felt technical felt like cla...     -\n",
       "24996  kind movie enemy content watch time bloody tru...     -\n",
       "24997  saw descent last night stockholm film festival...     -\n",
       "24998  film pick pound turn rather good 23rd century ...     -\n",
       "24999  one dumbest film ive ever seen rip nearly ever...     -\n",
       "\n",
       "[25000 rows x 2 columns]"
      ]
     },
     "execution_count": 21,
     "metadata": {},
     "output_type": "execute_result"
    }
   ],
   "source": [
    "train_df = train_df[['text', 'label']]\n",
    "train_df"
   ]
  },
  {
   "cell_type": "code",
   "execution_count": 22,
   "id": "9effc603",
   "metadata": {},
   "outputs": [
    {
     "data": {
      "text/html": [
       "<div>\n",
       "<style scoped>\n",
       "    .dataframe tbody tr th:only-of-type {\n",
       "        vertical-align: middle;\n",
       "    }\n",
       "\n",
       "    .dataframe tbody tr th {\n",
       "        vertical-align: top;\n",
       "    }\n",
       "\n",
       "    .dataframe thead th {\n",
       "        text-align: right;\n",
       "    }\n",
       "</style>\n",
       "<table border=\"1\" class=\"dataframe\">\n",
       "  <thead>\n",
       "    <tr style=\"text-align: right;\">\n",
       "      <th></th>\n",
       "      <th>text</th>\n",
       "      <th>label</th>\n",
       "    </tr>\n",
       "  </thead>\n",
       "  <tbody>\n",
       "    <tr>\n",
       "      <th>0</th>\n",
       "      <td>panic street richard widmark play u navy docto...</td>\n",
       "      <td>+</td>\n",
       "    </tr>\n",
       "    <tr>\n",
       "      <th>1</th>\n",
       "      <td>ask first one really better one look sarah g r...</td>\n",
       "      <td>-</td>\n",
       "    </tr>\n",
       "    <tr>\n",
       "      <th>2</th>\n",
       "      <td>big fan faerie tale theatre ive seen one best ...</td>\n",
       "      <td>+</td>\n",
       "    </tr>\n",
       "    <tr>\n",
       "      <th>3</th>\n",
       "      <td>finished reading book dillinger movie horribly...</td>\n",
       "      <td>-</td>\n",
       "    </tr>\n",
       "    <tr>\n",
       "      <th>4</th>\n",
       "      <td>greg davis bryan daly take crazed statement te...</td>\n",
       "      <td>-</td>\n",
       "    </tr>\n",
       "    <tr>\n",
       "      <th>...</th>\n",
       "      <td>...</td>\n",
       "      <td>...</td>\n",
       "    </tr>\n",
       "    <tr>\n",
       "      <th>24995</th>\n",
       "      <td>roommate nearly shorted tv numerous spittakes ...</td>\n",
       "      <td>-</td>\n",
       "    </tr>\n",
       "    <tr>\n",
       "      <th>24996</th>\n",
       "      <td>michelle rodriguez defining actress could char...</td>\n",
       "      <td>+</td>\n",
       "    </tr>\n",
       "    <tr>\n",
       "      <th>24997</th>\n",
       "      <td>nice movie great soundtrack span rock landscap...</td>\n",
       "      <td>+</td>\n",
       "    </tr>\n",
       "    <tr>\n",
       "      <th>24998</th>\n",
       "      <td>even though madefortv production there absolut...</td>\n",
       "      <td>-</td>\n",
       "    </tr>\n",
       "    <tr>\n",
       "      <th>24999</th>\n",
       "      <td>saw cable recently kinda enjoyed ive reading c...</td>\n",
       "      <td>-</td>\n",
       "    </tr>\n",
       "  </tbody>\n",
       "</table>\n",
       "<p>25000 rows × 2 columns</p>\n",
       "</div>"
      ],
      "text/plain": [
       "                                                    text label\n",
       "0      panic street richard widmark play u navy docto...     +\n",
       "1      ask first one really better one look sarah g r...     -\n",
       "2      big fan faerie tale theatre ive seen one best ...     +\n",
       "3      finished reading book dillinger movie horribly...     -\n",
       "4      greg davis bryan daly take crazed statement te...     -\n",
       "...                                                  ...   ...\n",
       "24995  roommate nearly shorted tv numerous spittakes ...     -\n",
       "24996  michelle rodriguez defining actress could char...     +\n",
       "24997  nice movie great soundtrack span rock landscap...     +\n",
       "24998  even though madefortv production there absolut...     -\n",
       "24999  saw cable recently kinda enjoyed ive reading c...     -\n",
       "\n",
       "[25000 rows x 2 columns]"
      ]
     },
     "execution_count": 22,
     "metadata": {},
     "output_type": "execute_result"
    }
   ],
   "source": [
    "train_df = train_df.sample(len(train_df), random_state=42)\n",
    "train_df.reset_index(inplace=True, drop=True)\n",
    "train_df"
   ]
  },
  {
   "cell_type": "code",
   "execution_count": 5,
   "id": "478d9cfc",
   "metadata": {},
   "outputs": [],
   "source": [
    "nlp = spacy.load('en_core_web_lg', disable=['parser', 'ner'])"
   ]
  },
  {
   "cell_type": "markdown",
   "id": "d23d82e8",
   "metadata": {},
   "source": [
    "# Doing a bit of checking"
   ]
  },
  {
   "cell_type": "code",
   "execution_count": 23,
   "id": "fda968ca",
   "metadata": {},
   "outputs": [
    {
     "name": "stderr",
     "output_type": "stream",
     "text": [
      "100%|██████████████████████████████████████████████████████████████████████| 25000/25000 [00:00<00:00, 221626.75it/s]\n",
      "100%|██████████████████████████████████████████████████████████████████████| 25000/25000 [00:00<00:00, 223007.80it/s]\n"
     ]
    }
   ],
   "source": [
    "def get_len(s):\n",
    "    return len(s.split())\n",
    "len_df_train = train_df['text'].progress_apply(get_len)\n",
    "len_df_test = test_df['text'].progress_apply(get_len)\n"
   ]
  },
  {
   "cell_type": "code",
   "execution_count": 28,
   "id": "27dc43fc",
   "metadata": {},
   "outputs": [
    {
     "data": {
      "text/plain": [
       "count    25000.000000\n",
       "mean       124.186080\n",
       "std         93.508967\n",
       "min          4.000000\n",
       "25%         66.000000\n",
       "50%         92.000000\n",
       "75%        151.000000\n",
       "max       1449.000000\n",
       "Name: text, dtype: float64"
      ]
     },
     "execution_count": 28,
     "metadata": {},
     "output_type": "execute_result"
    },
    {
     "data": {
      "image/png": "[encoded data removed]",
      "text/plain": [
       "<Figure size 432x288 with 1 Axes>"
      ]
     },
     "metadata": {
      "needs_background": "light"
     },
     "output_type": "display_data"
    }
   ],
   "source": [
    "len_df_train.hist()\n",
    "len_df_train.describe()"
   ]
  },
  {
   "cell_type": "code",
   "execution_count": 29,
   "id": "40264698",
   "metadata": {},
   "outputs": [
    {
     "data": {
      "text/plain": [
       "count    25000.000000\n",
       "mean       121.364840\n",
       "std         91.139747\n",
       "min          3.000000\n",
       "25%         65.000000\n",
       "50%         90.000000\n",
       "75%        147.000000\n",
       "max       1191.000000\n",
       "Name: text, dtype: float64"
      ]
     },
     "execution_count": 29,
     "metadata": {},
     "output_type": "execute_result"
    },
    {
     "data": {
      "image/png": "[encoded data removed]",
      "text/plain": [
       "<Figure size 432x288 with 1 Axes>"
      ]
     },
     "metadata": {
      "needs_background": "light"
     },
     "output_type": "display_data"
    }
   ],
   "source": [
    "len_df_test.hist()\n",
    "len_df_test.describe()"
   ]
  },
  {
   "cell_type": "markdown",
   "id": "53bf927e",
   "metadata": {},
   "source": [
    "# Storing some variables"
   ]
  },
  {
   "cell_type": "code",
   "execution_count": 27,
   "id": "a5de3efc",
   "metadata": {},
   "outputs": [],
   "source": [
    "train_len = int(0.8*len(train_df))\n",
    "max_words=250\n",
    "embedding_size=300\n"
   ]
  },
  {
   "cell_type": "code",
   "execution_count": 30,
   "id": "60f85910",
   "metadata": {},
   "outputs": [],
   "source": [
    "tokenizer = Tokenizer()\n",
    "tokenizer.fit_on_texts(train_df['text'].values)"
   ]
  },
  {
   "cell_type": "code",
   "execution_count": 31,
   "id": "da5d66e0",
   "metadata": {},
   "outputs": [],
   "source": [
    "def one_hot(row):\n",
    "    if row == '-':\n",
    "        return [1, 0]\n",
    "    else:\n",
    "        return [0, 1]\n",
    "    \n",
    "    \n",
    "def get_features(df):\n",
    "    sequences = tokenizer.texts_to_sequences(df['text'].values)\n",
    "    x = pad_sequences(sequences, maxlen=max_words)\n",
    "    y = df['label'].apply(one_hot).tolist()\n",
    "    y = np.array(y)\n",
    "    return x, y\n",
    "\n",
    "def get_one_hot(df):\n",
    "    y = df.apply(one_hot).tolist()\n",
    "    return np.array(y)"
   ]
  },
  {
   "cell_type": "code",
   "execution_count": 32,
   "id": "ea84a82c",
   "metadata": {},
   "outputs": [],
   "source": [
    "train_val_x, train_val_y = get_features(train_df)\n",
    "test_x, test_y = get_features(test_df)"
   ]
  },
  {
   "cell_type": "code",
   "execution_count": 33,
   "id": "18f20821",
   "metadata": {},
   "outputs": [],
   "source": [
    "train_x, val_x = train_val_x[:train_len], train_val_x[train_len:]\n",
    "train_y, val_y = train_val_y[:train_len], train_val_y[train_len:]"
   ]
  },
  {
   "cell_type": "code",
   "execution_count": 34,
   "id": "40b3f5cd",
   "metadata": {},
   "outputs": [],
   "source": [
    "def predict_result(model, x, y_true):\n",
    "    y_pred = model.predict(x)\n",
    "    y_pred = np.argmax(y_pred, axis=1)\n",
    "    y_true = np.argmax(y_true, axis=1)\n",
    "    skplt.metrics.plot_confusion_matrix(y_true, y_pred)\n",
    "    print(f'f1 : {f1_score(y_true, y_pred)}')\n",
    "    print(f'acc: {accuracy_score(y_true, y_pred)}')    "
   ]
  },
  {
   "cell_type": "markdown",
   "id": "d89b821f",
   "metadata": {},
   "source": [
    "## RNN with LSTM"
   ]
  },
  {
   "cell_type": "code",
   "execution_count": 50,
   "id": "36e199bc",
   "metadata": {
    "scrolled": true
   },
   "outputs": [
    {
     "name": "stdout",
     "output_type": "stream",
     "text": [
      "Model: \"sequential_5\"\n",
      "_________________________________________________________________\n",
      " Layer (type)                Output Shape              Param #   \n",
      "=================================================================\n",
      " embedding_5 (Embedding)     (None, 250, 300)          90000     \n",
      "                                                                 \n",
      " spatial_dropout1d_5 (Spatia  (None, 250, 300)         0         \n",
      " lDropout1D)                                                     \n",
      "                                                                 \n",
      " lstm_5 (LSTM)               (None, 64)                93440     \n",
      "                                                                 \n",
      " dense_10 (Dense)            (None, 32)                2080      \n",
      "                                                                 \n",
      " dropout_5 (Dropout)         (None, 32)                0         \n",
      "                                                                 \n",
      " dense_11 (Dense)            (None, 2)                 66        \n",
      "                                                                 \n",
      "=================================================================\n",
      "Total params: 185,586\n",
      "Trainable params: 185,586\n",
      "Non-trainable params: 0\n",
      "_________________________________________________________________\n"
     ]
    }
   ],
   "source": [
    "model = Sequential([\n",
    "    Embedding(300, embedding_size, input_length=max_words),\n",
    "    SpatialDropout1D(0.4),\n",
    "    LSTM(64),\n",
    "    Dense(32, activation='relu'),\n",
    "    Dropout(0.2),\n",
    "    Dense(2, activation='sigmoid')\n",
    "])\n",
    "\n",
    "callbacks=[\n",
    "    ModelCheckpoint(filepath='./models_lstm2_fatin/checkpoint',\n",
    "                   save_best_only=True, verbose=1, monitor='val_accuracy')\n",
    "]\n",
    "model.summary()"
   ]
  },
  {
   "cell_type": "code",
   "execution_count": 51,
   "id": "70871790",
   "metadata": {},
   "outputs": [],
   "source": [
    "model.compile(loss='categorical_crossentropy', \n",
    "             optimizer=SGD(momentum=0.02), \n",
    "             metrics=['accuracy'])"
   ]
  },
  {
   "cell_type": "code",
   "execution_count": 53,
   "id": "5845075c",
   "metadata": {},
   "outputs": [
    {
     "name": "stdout",
     "output_type": "stream",
     "text": [
      "Epoch 1/100\n",
      "79/79 [==============================] - ETA: 0s - loss: 0.5653 - accuracy: 0.7105\n",
      "Epoch 1: val_accuracy did not improve from 0.74060\n",
      "79/79 [==============================] - 2s 26ms/step - loss: 0.5653 - accuracy: 0.7105 - val_loss: 0.6647 - val_accuracy: 0.6154\n",
      "Epoch 2/100\n",
      "78/79 [============================>.] - ETA: 0s - loss: 0.5654 - accuracy: 0.7057\n",
      "Epoch 2: val_accuracy improved from 0.74060 to 0.75500, saving model to ./models_lstm2_fatin\\checkpoint\n"
     ]
    },
    {
     "name": "stderr",
     "output_type": "stream",
     "text": [
      "WARNING:absl:Found untraced functions such as lstm_cell_5_layer_call_fn, lstm_cell_5_layer_call_and_return_conditional_losses while saving (showing 2 of 2). These functions will not be directly callable after loading.\n"
     ]
    },
    {
     "name": "stdout",
     "output_type": "stream",
     "text": [
      "INFO:tensorflow:Assets written to: ./models_lstm2_fatin\\checkpoint\\assets\n"
     ]
    },
    {
     "name": "stderr",
     "output_type": "stream",
     "text": [
      "INFO:tensorflow:Assets written to: ./models_lstm2_fatin\\checkpoint\\assets\n",
      "WARNING:absl:<keras.layers.recurrent.LSTMCell object at 0x000001F605298A90> has the same name 'LSTMCell' as a built-in Keras object. Consider renaming <class 'keras.layers.recurrent.LSTMCell'> to avoid naming conflicts when loading with `tf.keras.models.load_model`. If renaming is not possible, pass the object in the `custom_objects` parameter of the load function.\n"
     ]
    },
    {
     "name": "stdout",
     "output_type": "stream",
     "text": [
      "79/79 [==============================] - 4s 50ms/step - loss: 0.5653 - accuracy: 0.7058 - val_loss: 0.5117 - val_accuracy: 0.7550\n",
      "Epoch 3/100\n",
      "78/79 [============================>.] - ETA: 0s - loss: 0.5618 - accuracy: 0.7140\n",
      "Epoch 3: val_accuracy did not improve from 0.75500\n",
      "79/79 [==============================] - 2s 27ms/step - loss: 0.5619 - accuracy: 0.7139 - val_loss: 0.5177 - val_accuracy: 0.7530\n",
      "Epoch 4/100\n",
      "77/79 [============================>.] - ETA: 0s - loss: 0.5572 - accuracy: 0.7177\n",
      "Epoch 4: val_accuracy did not improve from 0.75500\n",
      "79/79 [==============================] - 2s 26ms/step - loss: 0.5568 - accuracy: 0.7178 - val_loss: 0.6401 - val_accuracy: 0.6286\n",
      "Epoch 5/100\n",
      "78/79 [============================>.] - ETA: 0s - loss: 0.5552 - accuracy: 0.7210\n",
      "Epoch 5: val_accuracy did not improve from 0.75500\n",
      "79/79 [==============================] - 2s 26ms/step - loss: 0.5550 - accuracy: 0.7211 - val_loss: 0.5112 - val_accuracy: 0.7516\n",
      "Epoch 6/100\n",
      "78/79 [============================>.] - ETA: 0s - loss: 0.5585 - accuracy: 0.7167\n",
      "Epoch 6: val_accuracy did not improve from 0.75500\n",
      "79/79 [==============================] - 2s 25ms/step - loss: 0.5586 - accuracy: 0.7164 - val_loss: 0.5702 - val_accuracy: 0.6934\n",
      "Epoch 7/100\n",
      "79/79 [==============================] - ETA: 0s - loss: 0.5540 - accuracy: 0.7178\n",
      "Epoch 7: val_accuracy did not improve from 0.75500\n",
      "79/79 [==============================] - 2s 26ms/step - loss: 0.5540 - accuracy: 0.7178 - val_loss: 0.5213 - val_accuracy: 0.7468\n",
      "Epoch 8/100\n",
      "78/79 [============================>.] - ETA: 0s - loss: 0.5411 - accuracy: 0.7313\n",
      "Epoch 8: val_accuracy did not improve from 0.75500\n",
      "79/79 [==============================] - 2s 24ms/step - loss: 0.5416 - accuracy: 0.7310 - val_loss: 0.5820 - val_accuracy: 0.6768\n",
      "Epoch 9/100\n",
      "77/79 [============================>.] - ETA: 0s - loss: 0.5444 - accuracy: 0.7251\n",
      "Epoch 9: val_accuracy did not improve from 0.75500\n",
      "79/79 [==============================] - 2s 25ms/step - loss: 0.5443 - accuracy: 0.7253 - val_loss: 0.5193 - val_accuracy: 0.7396\n",
      "Epoch 10/100\n",
      "79/79 [==============================] - ETA: 0s - loss: 0.5426 - accuracy: 0.7296\n",
      "Epoch 10: val_accuracy did not improve from 0.75500\n",
      "79/79 [==============================] - 2s 25ms/step - loss: 0.5426 - accuracy: 0.7296 - val_loss: 0.6194 - val_accuracy: 0.6486\n",
      "Epoch 11/100\n",
      "79/79 [==============================] - ETA: 0s - loss: 0.5420 - accuracy: 0.7290\n",
      "Epoch 11: val_accuracy improved from 0.75500 to 0.76180, saving model to ./models_lstm2_fatin\\checkpoint\n"
     ]
    },
    {
     "name": "stderr",
     "output_type": "stream",
     "text": [
      "WARNING:absl:Found untraced functions such as lstm_cell_5_layer_call_fn, lstm_cell_5_layer_call_and_return_conditional_losses while saving (showing 2 of 2). These functions will not be directly callable after loading.\n"
     ]
    },
    {
     "name": "stdout",
     "output_type": "stream",
     "text": [
      "INFO:tensorflow:Assets written to: ./models_lstm2_fatin\\checkpoint\\assets\n"
     ]
    },
    {
     "name": "stderr",
     "output_type": "stream",
     "text": [
      "INFO:tensorflow:Assets written to: ./models_lstm2_fatin\\checkpoint\\assets\n",
      "WARNING:absl:<keras.layers.recurrent.LSTMCell object at 0x000001F605298A90> has the same name 'LSTMCell' as a built-in Keras object. Consider renaming <class 'keras.layers.recurrent.LSTMCell'> to avoid naming conflicts when loading with `tf.keras.models.load_model`. If renaming is not possible, pass the object in the `custom_objects` parameter of the load function.\n"
     ]
    },
    {
     "name": "stdout",
     "output_type": "stream",
     "text": [
      "79/79 [==============================] - 4s 49ms/step - loss: 0.5420 - accuracy: 0.7290 - val_loss: 0.5049 - val_accuracy: 0.7618\n",
      "Epoch 12/100\n",
      "79/79 [==============================] - ETA: 0s - loss: 0.5413 - accuracy: 0.7295\n",
      "Epoch 12: val_accuracy did not improve from 0.76180\n",
      "79/79 [==============================] - 2s 25ms/step - loss: 0.5413 - accuracy: 0.7295 - val_loss: 0.5016 - val_accuracy: 0.7616\n",
      "Epoch 13/100\n",
      "77/79 [============================>.] - ETA: 0s - loss: 0.5358 - accuracy: 0.7341\n",
      "Epoch 13: val_accuracy did not improve from 0.76180\n",
      "79/79 [==============================] - 2s 24ms/step - loss: 0.5364 - accuracy: 0.7329 - val_loss: 0.5349 - val_accuracy: 0.7254\n",
      "Epoch 14/100\n",
      "77/79 [============================>.] - ETA: 0s - loss: 0.5287 - accuracy: 0.7410\n",
      "Epoch 14: val_accuracy did not improve from 0.76180\n",
      "79/79 [==============================] - 2s 25ms/step - loss: 0.5285 - accuracy: 0.7412 - val_loss: 0.7687 - val_accuracy: 0.5960\n",
      "Epoch 15/100\n",
      "78/79 [============================>.] - ETA: 0s - loss: 0.5299 - accuracy: 0.7428\n",
      "Epoch 15: val_accuracy improved from 0.76180 to 0.77320, saving model to ./models_lstm2_fatin\\checkpoint\n"
     ]
    },
    {
     "name": "stderr",
     "output_type": "stream",
     "text": [
      "WARNING:absl:Found untraced functions such as lstm_cell_5_layer_call_fn, lstm_cell_5_layer_call_and_return_conditional_losses while saving (showing 2 of 2). These functions will not be directly callable after loading.\n"
     ]
    },
    {
     "name": "stdout",
     "output_type": "stream",
     "text": [
      "INFO:tensorflow:Assets written to: ./models_lstm2_fatin\\checkpoint\\assets\n"
     ]
    },
    {
     "name": "stderr",
     "output_type": "stream",
     "text": [
      "INFO:tensorflow:Assets written to: ./models_lstm2_fatin\\checkpoint\\assets\n",
      "WARNING:absl:<keras.layers.recurrent.LSTMCell object at 0x000001F605298A90> has the same name 'LSTMCell' as a built-in Keras object. Consider renaming <class 'keras.layers.recurrent.LSTMCell'> to avoid naming conflicts when loading with `tf.keras.models.load_model`. If renaming is not possible, pass the object in the `custom_objects` parameter of the load function.\n"
     ]
    },
    {
     "name": "stdout",
     "output_type": "stream",
     "text": [
      "79/79 [==============================] - 4s 54ms/step - loss: 0.5302 - accuracy: 0.7426 - val_loss: 0.4888 - val_accuracy: 0.7732\n",
      "Epoch 16/100\n",
      "77/79 [============================>.] - ETA: 0s - loss: 0.5352 - accuracy: 0.7380\n",
      "Epoch 16: val_accuracy did not improve from 0.77320\n",
      "79/79 [==============================] - 2s 26ms/step - loss: 0.5351 - accuracy: 0.7382 - val_loss: 0.7543 - val_accuracy: 0.5742\n",
      "Epoch 17/100\n",
      "78/79 [============================>.] - ETA: 0s - loss: 0.5314 - accuracy: 0.7403\n",
      "Epoch 17: val_accuracy did not improve from 0.77320\n",
      "79/79 [==============================] - 2s 24ms/step - loss: 0.5313 - accuracy: 0.7404 - val_loss: 0.5044 - val_accuracy: 0.7522\n",
      "Epoch 18/100\n",
      "77/79 [============================>.] - ETA: 0s - loss: 0.5236 - accuracy: 0.7449\n",
      "Epoch 18: val_accuracy did not improve from 0.77320\n",
      "79/79 [==============================] - 2s 23ms/step - loss: 0.5227 - accuracy: 0.7458 - val_loss: 0.5481 - val_accuracy: 0.7388\n",
      "Epoch 19/100\n",
      "79/79 [==============================] - ETA: 0s - loss: 0.5317 - accuracy: 0.7368\n",
      "Epoch 19: val_accuracy did not improve from 0.77320\n",
      "79/79 [==============================] - 2s 23ms/step - loss: 0.5317 - accuracy: 0.7368 - val_loss: 0.5027 - val_accuracy: 0.7686\n",
      "Epoch 20/100\n",
      "78/79 [============================>.] - ETA: 0s - loss: 0.5290 - accuracy: 0.7372\n",
      "Epoch 20: val_accuracy improved from 0.77320 to 0.77360, saving model to ./models_lstm2_fatin\\checkpoint\n"
     ]
    },
    {
     "name": "stderr",
     "output_type": "stream",
     "text": [
      "WARNING:absl:Found untraced functions such as lstm_cell_5_layer_call_fn, lstm_cell_5_layer_call_and_return_conditional_losses while saving (showing 2 of 2). These functions will not be directly callable after loading.\n"
     ]
    },
    {
     "name": "stdout",
     "output_type": "stream",
     "text": [
      "INFO:tensorflow:Assets written to: ./models_lstm2_fatin\\checkpoint\\assets\n"
     ]
    },
    {
     "name": "stderr",
     "output_type": "stream",
     "text": [
      "INFO:tensorflow:Assets written to: ./models_lstm2_fatin\\checkpoint\\assets\n",
      "WARNING:absl:<keras.layers.recurrent.LSTMCell object at 0x000001F605298A90> has the same name 'LSTMCell' as a built-in Keras object. Consider renaming <class 'keras.layers.recurrent.LSTMCell'> to avoid naming conflicts when loading with `tf.keras.models.load_model`. If renaming is not possible, pass the object in the `custom_objects` parameter of the load function.\n"
     ]
    },
    {
     "name": "stdout",
     "output_type": "stream",
     "text": [
      "79/79 [==============================] - 4s 48ms/step - loss: 0.5291 - accuracy: 0.7372 - val_loss: 0.4951 - val_accuracy: 0.7736\n",
      "Epoch 21/100\n",
      "77/79 [============================>.] - ETA: 0s - loss: 0.5182 - accuracy: 0.7488\n",
      "Epoch 21: val_accuracy did not improve from 0.77360\n",
      "79/79 [==============================] - 2s 24ms/step - loss: 0.5175 - accuracy: 0.7493 - val_loss: 0.4964 - val_accuracy: 0.7602\n",
      "Epoch 22/100\n",
      "79/79 [==============================] - ETA: 0s - loss: 0.5184 - accuracy: 0.7495\n",
      "Epoch 22: val_accuracy did not improve from 0.77360\n",
      "79/79 [==============================] - 2s 23ms/step - loss: 0.5184 - accuracy: 0.7495 - val_loss: 0.5878 - val_accuracy: 0.6806\n",
      "Epoch 23/100\n",
      "79/79 [==============================] - ETA: 0s - loss: 0.5194 - accuracy: 0.7474\n",
      "Epoch 23: val_accuracy did not improve from 0.77360\n",
      "79/79 [==============================] - 2s 23ms/step - loss: 0.5194 - accuracy: 0.7474 - val_loss: 0.5004 - val_accuracy: 0.7626\n",
      "Epoch 24/100\n",
      "79/79 [==============================] - ETA: 0s - loss: 0.5180 - accuracy: 0.7512\n",
      "Epoch 24: val_accuracy did not improve from 0.77360\n",
      "79/79 [==============================] - 2s 23ms/step - loss: 0.5180 - accuracy: 0.7512 - val_loss: 0.4984 - val_accuracy: 0.7626\n",
      "Epoch 25/100\n",
      "79/79 [==============================] - ETA: 0s - loss: 0.5026 - accuracy: 0.7617\n",
      "Epoch 25: val_accuracy did not improve from 0.77360\n",
      "79/79 [==============================] - 2s 23ms/step - loss: 0.5026 - accuracy: 0.7617 - val_loss: 0.5545 - val_accuracy: 0.7074\n",
      "Epoch 26/100\n",
      "78/79 [============================>.] - ETA: 0s - loss: 0.5094 - accuracy: 0.7550\n",
      "Epoch 26: val_accuracy did not improve from 0.77360\n",
      "79/79 [==============================] - 2s 24ms/step - loss: 0.5093 - accuracy: 0.7551 - val_loss: 0.5578 - val_accuracy: 0.7288\n",
      "Epoch 27/100\n",
      "78/79 [============================>.] - ETA: 0s - loss: 0.5146 - accuracy: 0.7522\n",
      "Epoch 27: val_accuracy did not improve from 0.77360\n",
      "79/79 [==============================] - 2s 25ms/step - loss: 0.5148 - accuracy: 0.7520 - val_loss: 0.4922 - val_accuracy: 0.7716\n",
      "Epoch 28/100\n",
      "77/79 [============================>.] - ETA: 0s - loss: 0.5087 - accuracy: 0.7591\n",
      "Epoch 28: val_accuracy did not improve from 0.77360\n",
      "79/79 [==============================] - 2s 24ms/step - loss: 0.5088 - accuracy: 0.7590 - val_loss: 0.7225 - val_accuracy: 0.6170\n",
      "Epoch 29/100\n",
      "78/79 [============================>.] - ETA: 0s - loss: 0.5100 - accuracy: 0.7565\n",
      "Epoch 29: val_accuracy improved from 0.77360 to 0.78640, saving model to ./models_lstm2_fatin\\checkpoint\n"
     ]
    },
    {
     "name": "stderr",
     "output_type": "stream",
     "text": [
      "WARNING:absl:Found untraced functions such as lstm_cell_5_layer_call_fn, lstm_cell_5_layer_call_and_return_conditional_losses while saving (showing 2 of 2). These functions will not be directly callable after loading.\n"
     ]
    },
    {
     "name": "stdout",
     "output_type": "stream",
     "text": [
      "INFO:tensorflow:Assets written to: ./models_lstm2_fatin\\checkpoint\\assets\n"
     ]
    },
    {
     "name": "stderr",
     "output_type": "stream",
     "text": [
      "INFO:tensorflow:Assets written to: ./models_lstm2_fatin\\checkpoint\\assets\n",
      "WARNING:absl:<keras.layers.recurrent.LSTMCell object at 0x000001F605298A90> has the same name 'LSTMCell' as a built-in Keras object. Consider renaming <class 'keras.layers.recurrent.LSTMCell'> to avoid naming conflicts when loading with `tf.keras.models.load_model`. If renaming is not possible, pass the object in the `custom_objects` parameter of the load function.\n"
     ]
    },
    {
     "name": "stdout",
     "output_type": "stream",
     "text": [
      "79/79 [==============================] - 4s 50ms/step - loss: 0.5102 - accuracy: 0.7563 - val_loss: 0.4654 - val_accuracy: 0.7864\n",
      "Epoch 30/100\n",
      "78/79 [============================>.] - ETA: 0s - loss: 0.5061 - accuracy: 0.7581\n",
      "Epoch 30: val_accuracy improved from 0.78640 to 0.78700, saving model to ./models_lstm2_fatin\\checkpoint\n"
     ]
    },
    {
     "name": "stderr",
     "output_type": "stream",
     "text": [
      "WARNING:absl:Found untraced functions such as lstm_cell_5_layer_call_fn, lstm_cell_5_layer_call_and_return_conditional_losses while saving (showing 2 of 2). These functions will not be directly callable after loading.\n"
     ]
    },
    {
     "name": "stdout",
     "output_type": "stream",
     "text": [
      "INFO:tensorflow:Assets written to: ./models_lstm2_fatin\\checkpoint\\assets\n"
     ]
    },
    {
     "name": "stderr",
     "output_type": "stream",
     "text": [
      "INFO:tensorflow:Assets written to: ./models_lstm2_fatin\\checkpoint\\assets\n",
      "WARNING:absl:<keras.layers.recurrent.LSTMCell object at 0x000001F605298A90> has the same name 'LSTMCell' as a built-in Keras object. Consider renaming <class 'keras.layers.recurrent.LSTMCell'> to avoid naming conflicts when loading with `tf.keras.models.load_model`. If renaming is not possible, pass the object in the `custom_objects` parameter of the load function.\n"
     ]
    },
    {
     "name": "stdout",
     "output_type": "stream",
     "text": [
      "79/79 [==============================] - 4s 50ms/step - loss: 0.5061 - accuracy: 0.7581 - val_loss: 0.4659 - val_accuracy: 0.7870\n",
      "Epoch 31/100\n",
      "77/79 [============================>.] - ETA: 0s - loss: 0.5078 - accuracy: 0.7600\n",
      "Epoch 31: val_accuracy did not improve from 0.78700\n",
      "79/79 [==============================] - 2s 27ms/step - loss: 0.5077 - accuracy: 0.7602 - val_loss: 0.4654 - val_accuracy: 0.7836\n",
      "Epoch 32/100\n",
      "79/79 [==============================] - ETA: 0s - loss: 0.5010 - accuracy: 0.7633\n",
      "Epoch 32: val_accuracy did not improve from 0.78700\n",
      "79/79 [==============================] - 2s 26ms/step - loss: 0.5010 - accuracy: 0.7633 - val_loss: 0.8737 - val_accuracy: 0.5500\n",
      "Epoch 33/100\n",
      "77/79 [============================>.] - ETA: 0s - loss: 0.5005 - accuracy: 0.7641\n",
      "Epoch 33: val_accuracy did not improve from 0.78700\n",
      "79/79 [==============================] - 2s 26ms/step - loss: 0.4997 - accuracy: 0.7649 - val_loss: 0.9500 - val_accuracy: 0.5658\n",
      "Epoch 34/100\n",
      "78/79 [============================>.] - ETA: 0s - loss: 0.5055 - accuracy: 0.7586\n",
      "Epoch 34: val_accuracy did not improve from 0.78700\n",
      "79/79 [==============================] - 2s 25ms/step - loss: 0.5055 - accuracy: 0.7587 - val_loss: 0.5161 - val_accuracy: 0.7458\n",
      "Epoch 35/100\n",
      "77/79 [============================>.] - ETA: 0s - loss: 0.4954 - accuracy: 0.7673\n",
      "Epoch 35: val_accuracy did not improve from 0.78700\n",
      "79/79 [==============================] - 2s 26ms/step - loss: 0.4961 - accuracy: 0.7670 - val_loss: 0.4846 - val_accuracy: 0.7708\n",
      "Epoch 36/100\n",
      "79/79 [==============================] - ETA: 0s - loss: 0.5004 - accuracy: 0.7620\n",
      "Epoch 36: val_accuracy did not improve from 0.78700\n",
      "79/79 [==============================] - 2s 26ms/step - loss: 0.5004 - accuracy: 0.7620 - val_loss: 0.4635 - val_accuracy: 0.7842\n",
      "Epoch 37/100\n",
      "79/79 [==============================] - ETA: 0s - loss: 0.4976 - accuracy: 0.7675\n",
      "Epoch 37: val_accuracy did not improve from 0.78700\n",
      "79/79 [==============================] - 2s 25ms/step - loss: 0.4976 - accuracy: 0.7675 - val_loss: 0.5647 - val_accuracy: 0.7042\n",
      "Epoch 38/100\n",
      "78/79 [============================>.] - ETA: 0s - loss: 0.4921 - accuracy: 0.7676\n",
      "Epoch 38: val_accuracy did not improve from 0.78700\n",
      "79/79 [==============================] - 2s 25ms/step - loss: 0.4921 - accuracy: 0.7675 - val_loss: 0.6238 - val_accuracy: 0.6784\n",
      "Epoch 39/100\n",
      "77/79 [============================>.] - ETA: 0s - loss: 0.4963 - accuracy: 0.7664\n",
      "Epoch 39: val_accuracy did not improve from 0.78700\n",
      "79/79 [==============================] - 2s 25ms/step - loss: 0.4960 - accuracy: 0.7663 - val_loss: 0.5450 - val_accuracy: 0.7216\n",
      "Epoch 40/100\n",
      "79/79 [==============================] - ETA: 0s - loss: 0.4895 - accuracy: 0.7704\n",
      "Epoch 40: val_accuracy did not improve from 0.78700\n",
      "79/79 [==============================] - 2s 25ms/step - loss: 0.4895 - accuracy: 0.7704 - val_loss: 0.5650 - val_accuracy: 0.7268\n",
      "Epoch 41/100\n",
      "79/79 [==============================] - ETA: 0s - loss: 0.4973 - accuracy: 0.7643\n",
      "Epoch 41: val_accuracy did not improve from 0.78700\n",
      "79/79 [==============================] - 2s 25ms/step - loss: 0.4973 - accuracy: 0.7643 - val_loss: 0.6248 - val_accuracy: 0.6692\n",
      "Epoch 42/100\n",
      "78/79 [============================>.] - ETA: 0s - loss: 0.4901 - accuracy: 0.7688\n",
      "Epoch 42: val_accuracy did not improve from 0.78700\n",
      "79/79 [==============================] - 2s 25ms/step - loss: 0.4900 - accuracy: 0.7691 - val_loss: 0.4942 - val_accuracy: 0.7626\n",
      "Epoch 43/100\n",
      "77/79 [============================>.] - ETA: 0s - loss: 0.4899 - accuracy: 0.7703\n",
      "Epoch 43: val_accuracy did not improve from 0.78700\n",
      "79/79 [==============================] - 2s 26ms/step - loss: 0.4901 - accuracy: 0.7702 - val_loss: 0.4644 - val_accuracy: 0.7820\n",
      "Epoch 44/100\n",
      "78/79 [============================>.] - ETA: 0s - loss: 0.4924 - accuracy: 0.7678\n",
      "Epoch 44: val_accuracy did not improve from 0.78700\n",
      "79/79 [==============================] - 2s 24ms/step - loss: 0.4922 - accuracy: 0.7680 - val_loss: 0.4763 - val_accuracy: 0.7762\n",
      "Epoch 45/100\n",
      "78/79 [============================>.] - ETA: 0s - loss: 0.4823 - accuracy: 0.7748\n",
      "Epoch 45: val_accuracy did not improve from 0.78700\n",
      "79/79 [==============================] - 2s 24ms/step - loss: 0.4822 - accuracy: 0.7749 - val_loss: 0.4922 - val_accuracy: 0.7634\n",
      "Epoch 46/100\n",
      "79/79 [==============================] - ETA: 0s - loss: 0.4897 - accuracy: 0.7696\n",
      "Epoch 46: val_accuracy did not improve from 0.78700\n",
      "79/79 [==============================] - 2s 24ms/step - loss: 0.4897 - accuracy: 0.7696 - val_loss: 0.6131 - val_accuracy: 0.6926\n",
      "Epoch 47/100\n",
      "78/79 [============================>.] - ETA: 0s - loss: 0.4872 - accuracy: 0.7726\n",
      "Epoch 47: val_accuracy did not improve from 0.78700\n",
      "79/79 [==============================] - 2s 24ms/step - loss: 0.4870 - accuracy: 0.7728 - val_loss: 0.5091 - val_accuracy: 0.7552\n",
      "Epoch 48/100\n",
      "78/79 [============================>.] - ETA: 0s - loss: 0.4824 - accuracy: 0.7759\n",
      "Epoch 48: val_accuracy did not improve from 0.78700\n",
      "79/79 [==============================] - 2s 24ms/step - loss: 0.4825 - accuracy: 0.7758 - val_loss: 0.8265 - val_accuracy: 0.5854\n",
      "Epoch 49/100\n",
      "78/79 [============================>.] - ETA: 0s - loss: 0.4856 - accuracy: 0.7747\n",
      "Epoch 49: val_accuracy did not improve from 0.78700\n",
      "79/79 [==============================] - 2s 24ms/step - loss: 0.4853 - accuracy: 0.7750 - val_loss: 0.6897 - val_accuracy: 0.6610\n",
      "Epoch 50/100\n",
      "78/79 [============================>.] - ETA: 0s - loss: 0.4864 - accuracy: 0.7721\n",
      "Epoch 50: val_accuracy did not improve from 0.78700\n",
      "79/79 [==============================] - 2s 23ms/step - loss: 0.4864 - accuracy: 0.7721 - val_loss: 0.4848 - val_accuracy: 0.7672\n",
      "Epoch 51/100\n",
      "79/79 [==============================] - ETA: 0s - loss: 0.4793 - accuracy: 0.7762\n",
      "Epoch 51: val_accuracy did not improve from 0.78700\n",
      "79/79 [==============================] - 2s 24ms/step - loss: 0.4793 - accuracy: 0.7762 - val_loss: 0.4781 - val_accuracy: 0.7748\n",
      "Epoch 52/100\n",
      "78/79 [============================>.] - ETA: 0s - loss: 0.4789 - accuracy: 0.7795\n",
      "Epoch 52: val_accuracy did not improve from 0.78700\n",
      "79/79 [==============================] - 2s 24ms/step - loss: 0.4789 - accuracy: 0.7795 - val_loss: 0.4621 - val_accuracy: 0.7860\n",
      "Epoch 53/100\n",
      "78/79 [============================>.] - ETA: 0s - loss: 0.4821 - accuracy: 0.7745\n",
      "Epoch 53: val_accuracy did not improve from 0.78700\n",
      "79/79 [==============================] - 2s 24ms/step - loss: 0.4819 - accuracy: 0.7746 - val_loss: 0.4619 - val_accuracy: 0.7824\n",
      "Epoch 54/100\n",
      "78/79 [============================>.] - ETA: 0s - loss: 0.4802 - accuracy: 0.7779\n",
      "Epoch 54: val_accuracy did not improve from 0.78700\n",
      "79/79 [==============================] - 2s 25ms/step - loss: 0.4801 - accuracy: 0.7780 - val_loss: 0.4978 - val_accuracy: 0.7602\n",
      "Epoch 55/100\n",
      "79/79 [==============================] - ETA: 0s - loss: 0.4721 - accuracy: 0.7817\n",
      "Epoch 55: val_accuracy did not improve from 0.78700\n",
      "79/79 [==============================] - 2s 24ms/step - loss: 0.4721 - accuracy: 0.7817 - val_loss: 0.5620 - val_accuracy: 0.7334\n",
      "Epoch 56/100\n",
      "78/79 [============================>.] - ETA: 0s - loss: 0.4802 - accuracy: 0.7746\n",
      "Epoch 56: val_accuracy did not improve from 0.78700\n",
      "79/79 [==============================] - 2s 24ms/step - loss: 0.4799 - accuracy: 0.7747 - val_loss: 0.5480 - val_accuracy: 0.7290\n",
      "Epoch 57/100\n",
      "77/79 [============================>.] - ETA: 0s - loss: 0.4726 - accuracy: 0.7797\n",
      "Epoch 57: val_accuracy did not improve from 0.78700\n",
      "79/79 [==============================] - 2s 25ms/step - loss: 0.4729 - accuracy: 0.7792 - val_loss: 0.5234 - val_accuracy: 0.7546\n",
      "Epoch 58/100\n",
      "78/79 [============================>.] - ETA: 0s - loss: 0.4747 - accuracy: 0.7820\n",
      "Epoch 58: val_accuracy did not improve from 0.78700\n",
      "79/79 [==============================] - 2s 24ms/step - loss: 0.4748 - accuracy: 0.7818 - val_loss: 0.6765 - val_accuracy: 0.6590\n",
      "Epoch 59/100\n",
      "78/79 [============================>.] - ETA: 0s - loss: 0.4766 - accuracy: 0.7780\n",
      "Epoch 59: val_accuracy did not improve from 0.78700\n",
      "79/79 [==============================] - 2s 24ms/step - loss: 0.4765 - accuracy: 0.7781 - val_loss: 0.4598 - val_accuracy: 0.7822\n",
      "Epoch 60/100\n"
     ]
    },
    {
     "name": "stdout",
     "output_type": "stream",
     "text": [
      "79/79 [==============================] - ETA: 0s - loss: 0.4711 - accuracy: 0.7826\n",
      "Epoch 60: val_accuracy did not improve from 0.78700\n",
      "79/79 [==============================] - 2s 24ms/step - loss: 0.4711 - accuracy: 0.7826 - val_loss: 0.4638 - val_accuracy: 0.7844\n",
      "Epoch 61/100\n",
      "79/79 [==============================] - ETA: 0s - loss: 0.4718 - accuracy: 0.7810\n",
      "Epoch 61: val_accuracy did not improve from 0.78700\n",
      "79/79 [==============================] - 2s 24ms/step - loss: 0.4718 - accuracy: 0.7810 - val_loss: 0.4836 - val_accuracy: 0.7670\n",
      "Epoch 62/100\n",
      "79/79 [==============================] - ETA: 0s - loss: 0.4670 - accuracy: 0.7844\n",
      "Epoch 62: val_accuracy improved from 0.78700 to 0.79400, saving model to ./models_lstm2_fatin\\checkpoint\n"
     ]
    },
    {
     "name": "stderr",
     "output_type": "stream",
     "text": [
      "WARNING:absl:Found untraced functions such as lstm_cell_5_layer_call_fn, lstm_cell_5_layer_call_and_return_conditional_losses while saving (showing 2 of 2). These functions will not be directly callable after loading.\n"
     ]
    },
    {
     "name": "stdout",
     "output_type": "stream",
     "text": [
      "INFO:tensorflow:Assets written to: ./models_lstm2_fatin\\checkpoint\\assets\n"
     ]
    },
    {
     "name": "stderr",
     "output_type": "stream",
     "text": [
      "INFO:tensorflow:Assets written to: ./models_lstm2_fatin\\checkpoint\\assets\n",
      "WARNING:absl:<keras.layers.recurrent.LSTMCell object at 0x000001F605298A90> has the same name 'LSTMCell' as a built-in Keras object. Consider renaming <class 'keras.layers.recurrent.LSTMCell'> to avoid naming conflicts when loading with `tf.keras.models.load_model`. If renaming is not possible, pass the object in the `custom_objects` parameter of the load function.\n"
     ]
    },
    {
     "name": "stdout",
     "output_type": "stream",
     "text": [
      "79/79 [==============================] - 4s 56ms/step - loss: 0.4670 - accuracy: 0.7844 - val_loss: 0.4455 - val_accuracy: 0.7940\n",
      "Epoch 63/100\n",
      "79/79 [==============================] - ETA: 0s - loss: 0.4681 - accuracy: 0.7829\n",
      "Epoch 63: val_accuracy did not improve from 0.79400\n",
      "79/79 [==============================] - 2s 26ms/step - loss: 0.4681 - accuracy: 0.7829 - val_loss: 0.6685 - val_accuracy: 0.6532\n",
      "Epoch 64/100\n",
      "79/79 [==============================] - ETA: 0s - loss: 0.4654 - accuracy: 0.7832\n",
      "Epoch 64: val_accuracy did not improve from 0.79400\n",
      "79/79 [==============================] - 2s 24ms/step - loss: 0.4654 - accuracy: 0.7832 - val_loss: 0.4722 - val_accuracy: 0.7798\n",
      "Epoch 65/100\n",
      "78/79 [============================>.] - ETA: 0s - loss: 0.4688 - accuracy: 0.7802\n",
      "Epoch 65: val_accuracy did not improve from 0.79400\n",
      "79/79 [==============================] - 2s 24ms/step - loss: 0.4688 - accuracy: 0.7803 - val_loss: 0.5985 - val_accuracy: 0.6904\n",
      "Epoch 66/100\n",
      "77/79 [============================>.] - ETA: 0s - loss: 0.4723 - accuracy: 0.7797\n",
      "Epoch 66: val_accuracy did not improve from 0.79400\n",
      "79/79 [==============================] - 2s 25ms/step - loss: 0.4719 - accuracy: 0.7800 - val_loss: 0.4489 - val_accuracy: 0.7904\n",
      "Epoch 67/100\n",
      "79/79 [==============================] - ETA: 0s - loss: 0.4722 - accuracy: 0.7783\n",
      "Epoch 67: val_accuracy did not improve from 0.79400\n",
      "79/79 [==============================] - 2s 27ms/step - loss: 0.4722 - accuracy: 0.7783 - val_loss: 0.4961 - val_accuracy: 0.7548\n",
      "Epoch 68/100\n",
      "78/79 [============================>.] - ETA: 0s - loss: 0.4619 - accuracy: 0.7862\n",
      "Epoch 68: val_accuracy did not improve from 0.79400\n",
      "79/79 [==============================] - 2s 25ms/step - loss: 0.4619 - accuracy: 0.7863 - val_loss: 0.6487 - val_accuracy: 0.6904\n",
      "Epoch 69/100\n",
      "78/79 [============================>.] - ETA: 0s - loss: 0.4686 - accuracy: 0.7819\n",
      "Epoch 69: val_accuracy did not improve from 0.79400\n",
      "79/79 [==============================] - 2s 25ms/step - loss: 0.4686 - accuracy: 0.7820 - val_loss: 0.4608 - val_accuracy: 0.7790\n",
      "Epoch 70/100\n",
      "77/79 [============================>.] - ETA: 0s - loss: 0.4625 - accuracy: 0.7870\n",
      "Epoch 70: val_accuracy improved from 0.79400 to 0.79620, saving model to ./models_lstm2_fatin\\checkpoint\n"
     ]
    },
    {
     "name": "stderr",
     "output_type": "stream",
     "text": [
      "WARNING:absl:Found untraced functions such as lstm_cell_5_layer_call_fn, lstm_cell_5_layer_call_and_return_conditional_losses while saving (showing 2 of 2). These functions will not be directly callable after loading.\n"
     ]
    },
    {
     "name": "stdout",
     "output_type": "stream",
     "text": [
      "INFO:tensorflow:Assets written to: ./models_lstm2_fatin\\checkpoint\\assets\n"
     ]
    },
    {
     "name": "stderr",
     "output_type": "stream",
     "text": [
      "INFO:tensorflow:Assets written to: ./models_lstm2_fatin\\checkpoint\\assets\n",
      "WARNING:absl:<keras.layers.recurrent.LSTMCell object at 0x000001F605298A90> has the same name 'LSTMCell' as a built-in Keras object. Consider renaming <class 'keras.layers.recurrent.LSTMCell'> to avoid naming conflicts when loading with `tf.keras.models.load_model`. If renaming is not possible, pass the object in the `custom_objects` parameter of the load function.\n"
     ]
    },
    {
     "name": "stdout",
     "output_type": "stream",
     "text": [
      "79/79 [==============================] - 4s 51ms/step - loss: 0.4624 - accuracy: 0.7872 - val_loss: 0.4448 - val_accuracy: 0.7962\n",
      "Epoch 71/100\n",
      "78/79 [============================>.] - ETA: 0s - loss: 0.4611 - accuracy: 0.7875\n",
      "Epoch 71: val_accuracy did not improve from 0.79620\n",
      "79/79 [==============================] - 2s 27ms/step - loss: 0.4610 - accuracy: 0.7875 - val_loss: 0.5800 - val_accuracy: 0.7168\n",
      "Epoch 72/100\n",
      "79/79 [==============================] - ETA: 0s - loss: 0.4651 - accuracy: 0.7867\n",
      "Epoch 72: val_accuracy did not improve from 0.79620\n",
      "79/79 [==============================] - 2s 26ms/step - loss: 0.4651 - accuracy: 0.7867 - val_loss: 0.4458 - val_accuracy: 0.7924\n",
      "Epoch 73/100\n",
      "77/79 [============================>.] - ETA: 0s - loss: 0.4643 - accuracy: 0.7838\n",
      "Epoch 73: val_accuracy improved from 0.79620 to 0.79640, saving model to ./models_lstm2_fatin\\checkpoint\n"
     ]
    },
    {
     "name": "stderr",
     "output_type": "stream",
     "text": [
      "WARNING:absl:Found untraced functions such as lstm_cell_5_layer_call_fn, lstm_cell_5_layer_call_and_return_conditional_losses while saving (showing 2 of 2). These functions will not be directly callable after loading.\n"
     ]
    },
    {
     "name": "stdout",
     "output_type": "stream",
     "text": [
      "INFO:tensorflow:Assets written to: ./models_lstm2_fatin\\checkpoint\\assets\n"
     ]
    },
    {
     "name": "stderr",
     "output_type": "stream",
     "text": [
      "INFO:tensorflow:Assets written to: ./models_lstm2_fatin\\checkpoint\\assets\n",
      "WARNING:absl:<keras.layers.recurrent.LSTMCell object at 0x000001F605298A90> has the same name 'LSTMCell' as a built-in Keras object. Consider renaming <class 'keras.layers.recurrent.LSTMCell'> to avoid naming conflicts when loading with `tf.keras.models.load_model`. If renaming is not possible, pass the object in the `custom_objects` parameter of the load function.\n"
     ]
    },
    {
     "name": "stdout",
     "output_type": "stream",
     "text": [
      "79/79 [==============================] - 4s 51ms/step - loss: 0.4637 - accuracy: 0.7841 - val_loss: 0.4428 - val_accuracy: 0.7964\n",
      "Epoch 74/100\n",
      "77/79 [============================>.] - ETA: 0s - loss: 0.4674 - accuracy: 0.7826\n",
      "Epoch 74: val_accuracy did not improve from 0.79640\n",
      "79/79 [==============================] - 2s 27ms/step - loss: 0.4669 - accuracy: 0.7829 - val_loss: 0.5179 - val_accuracy: 0.7466\n",
      "Epoch 75/100\n",
      "78/79 [============================>.] - ETA: 0s - loss: 0.4659 - accuracy: 0.7834\n",
      "Epoch 75: val_accuracy did not improve from 0.79640\n",
      "79/79 [==============================] - 2s 25ms/step - loss: 0.4660 - accuracy: 0.7833 - val_loss: 0.6464 - val_accuracy: 0.6770\n",
      "Epoch 76/100\n",
      "77/79 [============================>.] - ETA: 0s - loss: 0.4669 - accuracy: 0.7843\n",
      "Epoch 76: val_accuracy did not improve from 0.79640\n",
      "79/79 [==============================] - 2s 26ms/step - loss: 0.4664 - accuracy: 0.7843 - val_loss: 0.5775 - val_accuracy: 0.7114\n",
      "Epoch 77/100\n",
      "78/79 [============================>.] - ETA: 0s - loss: 0.4654 - accuracy: 0.7820\n",
      "Epoch 77: val_accuracy did not improve from 0.79640\n",
      "79/79 [==============================] - 2s 24ms/step - loss: 0.4656 - accuracy: 0.7819 - val_loss: 0.4639 - val_accuracy: 0.7828\n",
      "Epoch 78/100\n",
      "77/79 [============================>.] - ETA: 0s - loss: 0.4558 - accuracy: 0.7943\n",
      "Epoch 78: val_accuracy did not improve from 0.79640\n",
      "79/79 [==============================] - 2s 24ms/step - loss: 0.4553 - accuracy: 0.7945 - val_loss: 0.6131 - val_accuracy: 0.7190\n",
      "Epoch 79/100\n",
      "79/79 [==============================] - ETA: 0s - loss: 0.4647 - accuracy: 0.7858\n",
      "Epoch 79: val_accuracy did not improve from 0.79640\n",
      "79/79 [==============================] - 2s 23ms/step - loss: 0.4647 - accuracy: 0.7858 - val_loss: 0.4452 - val_accuracy: 0.7938\n",
      "Epoch 80/100\n",
      "77/79 [============================>.] - ETA: 0s - loss: 0.4617 - accuracy: 0.7845\n",
      "Epoch 80: val_accuracy did not improve from 0.79640\n",
      "79/79 [==============================] - 2s 23ms/step - loss: 0.4622 - accuracy: 0.7840 - val_loss: 0.5673 - val_accuracy: 0.7142\n",
      "Epoch 81/100\n",
      "78/79 [============================>.] - ETA: 0s - loss: 0.4617 - accuracy: 0.7864\n",
      "Epoch 81: val_accuracy did not improve from 0.79640\n",
      "79/79 [==============================] - 2s 25ms/step - loss: 0.4619 - accuracy: 0.7862 - val_loss: 0.5029 - val_accuracy: 0.7518\n",
      "Epoch 82/100\n",
      "77/79 [============================>.] - ETA: 0s - loss: 0.4576 - accuracy: 0.7888\n",
      "Epoch 82: val_accuracy improved from 0.79640 to 0.79700, saving model to ./models_lstm2_fatin\\checkpoint\n"
     ]
    },
    {
     "name": "stderr",
     "output_type": "stream",
     "text": [
      "WARNING:absl:Found untraced functions such as lstm_cell_5_layer_call_fn, lstm_cell_5_layer_call_and_return_conditional_losses while saving (showing 2 of 2). These functions will not be directly callable after loading.\n"
     ]
    },
    {
     "name": "stdout",
     "output_type": "stream",
     "text": [
      "INFO:tensorflow:Assets written to: ./models_lstm2_fatin\\checkpoint\\assets\n"
     ]
    },
    {
     "name": "stderr",
     "output_type": "stream",
     "text": [
      "INFO:tensorflow:Assets written to: ./models_lstm2_fatin\\checkpoint\\assets\n",
      "WARNING:absl:<keras.layers.recurrent.LSTMCell object at 0x000001F605298A90> has the same name 'LSTMCell' as a built-in Keras object. Consider renaming <class 'keras.layers.recurrent.LSTMCell'> to avoid naming conflicts when loading with `tf.keras.models.load_model`. If renaming is not possible, pass the object in the `custom_objects` parameter of the load function.\n"
     ]
    },
    {
     "name": "stdout",
     "output_type": "stream",
     "text": [
      "79/79 [==============================] - 4s 56ms/step - loss: 0.4576 - accuracy: 0.7885 - val_loss: 0.4410 - val_accuracy: 0.7970\n",
      "Epoch 83/100\n",
      "78/79 [============================>.] - ETA: 0s - loss: 0.4548 - accuracy: 0.7878\n",
      "Epoch 83: val_accuracy did not improve from 0.79700\n",
      "79/79 [==============================] - 2s 25ms/step - loss: 0.4550 - accuracy: 0.7876 - val_loss: 0.5148 - val_accuracy: 0.7466\n",
      "Epoch 84/100\n",
      "78/79 [============================>.] - ETA: 0s - loss: 0.4561 - accuracy: 0.7901\n",
      "Epoch 84: val_accuracy did not improve from 0.79700\n",
      "79/79 [==============================] - 2s 24ms/step - loss: 0.4564 - accuracy: 0.7900 - val_loss: 0.4642 - val_accuracy: 0.7808\n",
      "Epoch 85/100\n",
      "78/79 [============================>.] - ETA: 0s - loss: 0.4532 - accuracy: 0.7922\n",
      "Epoch 85: val_accuracy improved from 0.79700 to 0.79940, saving model to ./models_lstm2_fatin\\checkpoint\n"
     ]
    },
    {
     "name": "stderr",
     "output_type": "stream",
     "text": [
      "WARNING:absl:Found untraced functions such as lstm_cell_5_layer_call_fn, lstm_cell_5_layer_call_and_return_conditional_losses while saving (showing 2 of 2). These functions will not be directly callable after loading.\n"
     ]
    },
    {
     "name": "stdout",
     "output_type": "stream",
     "text": [
      "INFO:tensorflow:Assets written to: ./models_lstm2_fatin\\checkpoint\\assets\n"
     ]
    },
    {
     "name": "stderr",
     "output_type": "stream",
     "text": [
      "INFO:tensorflow:Assets written to: ./models_lstm2_fatin\\checkpoint\\assets\n",
      "WARNING:absl:<keras.layers.recurrent.LSTMCell object at 0x000001F605298A90> has the same name 'LSTMCell' as a built-in Keras object. Consider renaming <class 'keras.layers.recurrent.LSTMCell'> to avoid naming conflicts when loading with `tf.keras.models.load_model`. If renaming is not possible, pass the object in the `custom_objects` parameter of the load function.\n"
     ]
    },
    {
     "name": "stdout",
     "output_type": "stream",
     "text": [
      "79/79 [==============================] - 4s 50ms/step - loss: 0.4533 - accuracy: 0.7919 - val_loss: 0.4378 - val_accuracy: 0.7994\n",
      "Epoch 86/100\n",
      "77/79 [============================>.] - ETA: 0s - loss: 0.4592 - accuracy: 0.7880\n",
      "Epoch 86: val_accuracy did not improve from 0.79940\n",
      "79/79 [==============================] - 2s 24ms/step - loss: 0.4596 - accuracy: 0.7875 - val_loss: 0.4499 - val_accuracy: 0.7882\n",
      "Epoch 87/100\n",
      "79/79 [==============================] - ETA: 0s - loss: 0.4539 - accuracy: 0.7903\n",
      "Epoch 87: val_accuracy did not improve from 0.79940\n",
      "79/79 [==============================] - 2s 23ms/step - loss: 0.4539 - accuracy: 0.7903 - val_loss: 0.5199 - val_accuracy: 0.7654\n",
      "Epoch 88/100\n",
      "79/79 [==============================] - ETA: 0s - loss: 0.4625 - accuracy: 0.7862\n",
      "Epoch 88: val_accuracy did not improve from 0.79940\n",
      "79/79 [==============================] - 2s 23ms/step - loss: 0.4625 - accuracy: 0.7862 - val_loss: 0.4850 - val_accuracy: 0.7682\n",
      "Epoch 89/100\n",
      "79/79 [==============================] - ETA: 0s - loss: 0.4532 - accuracy: 0.7907\n",
      "Epoch 89: val_accuracy did not improve from 0.79940\n",
      "79/79 [==============================] - 2s 23ms/step - loss: 0.4532 - accuracy: 0.7907 - val_loss: 0.5409 - val_accuracy: 0.7374\n",
      "Epoch 90/100\n",
      "79/79 [==============================] - ETA: 0s - loss: 0.4557 - accuracy: 0.7897\n",
      "Epoch 90: val_accuracy did not improve from 0.79940\n",
      "79/79 [==============================] - 2s 23ms/step - loss: 0.4557 - accuracy: 0.7897 - val_loss: 0.4726 - val_accuracy: 0.7790\n",
      "Epoch 91/100\n",
      "79/79 [==============================] - ETA: 0s - loss: 0.4525 - accuracy: 0.7911\n",
      "Epoch 91: val_accuracy did not improve from 0.79940\n",
      "79/79 [==============================] - 2s 23ms/step - loss: 0.4525 - accuracy: 0.7911 - val_loss: 0.4447 - val_accuracy: 0.7944\n",
      "Epoch 92/100\n",
      "79/79 [==============================] - ETA: 0s - loss: 0.4513 - accuracy: 0.7905\n",
      "Epoch 92: val_accuracy did not improve from 0.79940\n",
      "79/79 [==============================] - 2s 23ms/step - loss: 0.4513 - accuracy: 0.7905 - val_loss: 0.4497 - val_accuracy: 0.7908\n",
      "Epoch 93/100\n",
      "79/79 [==============================] - ETA: 0s - loss: 0.4533 - accuracy: 0.7891\n",
      "Epoch 93: val_accuracy did not improve from 0.79940\n",
      "79/79 [==============================] - 2s 23ms/step - loss: 0.4533 - accuracy: 0.7891 - val_loss: 0.4996 - val_accuracy: 0.7626\n",
      "Epoch 94/100\n",
      "79/79 [==============================] - ETA: 0s - loss: 0.4486 - accuracy: 0.7936\n",
      "Epoch 94: val_accuracy did not improve from 0.79940\n",
      "79/79 [==============================] - 2s 23ms/step - loss: 0.4486 - accuracy: 0.7936 - val_loss: 0.4815 - val_accuracy: 0.7684\n",
      "Epoch 95/100\n",
      "79/79 [==============================] - ETA: 0s - loss: 0.4491 - accuracy: 0.7918\n",
      "Epoch 95: val_accuracy did not improve from 0.79940\n",
      "79/79 [==============================] - 2s 23ms/step - loss: 0.4491 - accuracy: 0.7918 - val_loss: 0.7205 - val_accuracy: 0.6850\n",
      "Epoch 96/100\n",
      "78/79 [============================>.] - ETA: 0s - loss: 0.4556 - accuracy: 0.7900\n",
      "Epoch 96: val_accuracy did not improve from 0.79940\n",
      "79/79 [==============================] - 2s 23ms/step - loss: 0.4557 - accuracy: 0.7897 - val_loss: 0.5111 - val_accuracy: 0.7516\n",
      "Epoch 97/100\n",
      "79/79 [==============================] - ETA: 0s - loss: 0.4510 - accuracy: 0.7905\n",
      "Epoch 97: val_accuracy did not improve from 0.79940\n",
      "79/79 [==============================] - 2s 23ms/step - loss: 0.4510 - accuracy: 0.7905 - val_loss: 0.4509 - val_accuracy: 0.7956\n",
      "Epoch 98/100\n",
      "78/79 [============================>.] - ETA: 0s - loss: 0.4518 - accuracy: 0.7922\n",
      "Epoch 98: val_accuracy did not improve from 0.79940\n",
      "79/79 [==============================] - 2s 24ms/step - loss: 0.4517 - accuracy: 0.7922 - val_loss: 0.4591 - val_accuracy: 0.7814\n",
      "Epoch 99/100\n",
      "79/79 [==============================] - ETA: 0s - loss: 0.4480 - accuracy: 0.7933\n",
      "Epoch 99: val_accuracy did not improve from 0.79940\n",
      "79/79 [==============================] - 2s 23ms/step - loss: 0.4480 - accuracy: 0.7933 - val_loss: 0.4385 - val_accuracy: 0.7942\n",
      "Epoch 100/100\n",
      "79/79 [==============================] - ETA: 0s - loss: 0.4495 - accuracy: 0.7938\n",
      "Epoch 100: val_accuracy did not improve from 0.79940\n",
      "79/79 [==============================] - 2s 23ms/step - loss: 0.4495 - accuracy: 0.7938 - val_loss: 0.5465 - val_accuracy: 0.7308\n"
     ]
    },
    {
     "data": {
      "text/plain": [
       "<keras.callbacks.History at 0x1f5fc605d90>"
      ]
     },
     "execution_count": 53,
     "metadata": {},
     "output_type": "execute_result"
    }
   ],
   "source": [
    "model.fit(train_x, train_y, \n",
    "          epochs=100,\n",
    "         callbacks=callbacks,\n",
    "         validation_data=(val_x, val_y),\n",
    "         batch_size=256)"
   ]
  },
  {
   "cell_type": "code",
   "execution_count": 34,
   "id": "b24c3ed5",
   "metadata": {},
   "outputs": [],
   "source": [
    "model = load_model('./models_lstm2/checkpoint')"
   ]
  },
  {
   "cell_type": "code",
   "execution_count": 35,
   "id": "c8d34812",
   "metadata": {},
   "outputs": [
    {
     "name": "stdout",
     "output_type": "stream",
     "text": [
      "f1 : 0.884313725490196\n",
      "acc: 0.882\n"
     ]
    },
    {
     "data": {
      "image/png": "[encoded data removed]",
      "text/plain": [
       "<Figure size 432x288 with 2 Axes>"
      ]
     },
     "metadata": {
      "needs_background": "light"
     },
     "output_type": "display_data"
    }
   ],
   "source": [
    "predict_result(model, train_x[:1000], train_y[:1000])"
   ]
  },
  {
   "cell_type": "code",
   "execution_count": 36,
   "id": "fcdc2ce8",
   "metadata": {},
   "outputs": [
    {
     "name": "stdout",
     "output_type": "stream",
     "text": [
      "f1 : 0.8277618335421804\n",
      "acc: 0.82956\n"
     ]
    },
    {
     "data": {
      "image/png": "[encoded data removed]",
      "text/plain": [
       "<Figure size 432x288 with 2 Axes>"
      ]
     },
     "metadata": {
      "needs_background": "light"
     },
     "output_type": "display_data"
    }
   ],
   "source": [
    "predict_result(model, test_x, test_y)"
   ]
  },
  {
   "cell_type": "markdown",
   "id": "84fa3d85",
   "metadata": {},
   "source": [
    "# RNN with GRU"
   ]
  },
  {
   "cell_type": "code",
   "execution_count": 94,
   "id": "be72b583",
   "metadata": {},
   "outputs": [
    {
     "name": "stdout",
     "output_type": "stream",
     "text": [
      "WARNING:tensorflow:Layer gru will not use cuDNN kernels since it doesn't meet the criteria. It will use a generic GPU kernel as fallback when running on GPU.\n"
     ]
    },
    {
     "name": "stderr",
     "output_type": "stream",
     "text": [
      "WARNING:tensorflow:Layer gru will not use cuDNN kernels since it doesn't meet the criteria. It will use a generic GPU kernel as fallback when running on GPU.\n"
     ]
    },
    {
     "name": "stdout",
     "output_type": "stream",
     "text": [
      "Model: \"sequential_9\"\n",
      "_________________________________________________________________\n",
      " Layer (type)                Output Shape              Param #   \n",
      "=================================================================\n",
      " embedding_9 (Embedding)     (None, 500, 300)          180000    \n",
      "                                                                 \n",
      " spatial_dropout1d_4 (Spatia  (None, 500, 300)         0         \n",
      " lDropout1D)                                                     \n",
      "                                                                 \n",
      " gru (GRU)                   (None, 256)               428544    \n",
      "                                                                 \n",
      " dense_18 (Dense)            (None, 256)               65792     \n",
      "                                                                 \n",
      " dropout_9 (Dropout)         (None, 256)               0         \n",
      "                                                                 \n",
      " dense_19 (Dense)            (None, 2)                 514       \n",
      "                                                                 \n",
      "=================================================================\n",
      "Total params: 674,850\n",
      "Trainable params: 674,850\n",
      "Non-trainable params: 0\n",
      "_________________________________________________________________\n"
     ]
    }
   ],
   "source": [
    "model = Sequential([\n",
    "    Embedding(600, embedding_size, input_length=max_words),\n",
    "    SpatialDropout1D(0.4),\n",
    "    GRU(256),\n",
    "    Dense(256, activation='relu'),\n",
    "    Dropout(0.2),\n",
    "    Dense(2, activation='sigmoid')\n",
    "])\n",
    "\n",
    "callbacks=[\n",
    "    ModelCheckpoint(filepath='./models_gru/checkpoint',\n",
    "                   save_best_only=True, verbose=1, monitor='val_accuracy')\n",
    "]\n",
    "model.summary()"
   ]
  },
  {
   "cell_type": "code",
   "execution_count": 95,
   "id": "3629207d",
   "metadata": {},
   "outputs": [],
   "source": [
    "model.compile(loss='categorical_crossentropy', \n",
    "             optimizer='adam', \n",
    "             metrics=['accuracy'])"
   ]
  },
  {
   "cell_type": "code",
   "execution_count": 96,
   "id": "efae2424",
   "metadata": {},
   "outputs": [
    {
     "name": "stdout",
     "output_type": "stream",
     "text": [
      "Epoch 1/50\n",
      "79/79 [==============================] - ETA: 0s - loss: 0.6116 - accuracy: 0.6481\n",
      "Epoch 1: val_accuracy improved from -inf to 0.81700, saving model to ./models_gru\\checkpoint\n",
      "INFO:tensorflow:Assets written to: ./models_gru\\checkpoint\\assets\n"
     ]
    },
    {
     "name": "stderr",
     "output_type": "stream",
     "text": [
      "INFO:tensorflow:Assets written to: ./models_gru\\checkpoint\\assets\n",
      "WARNING:absl:<keras.layers.recurrent.GRUCell object at 0x00000201C43D2C70> has the same name 'GRUCell' as a built-in Keras object. Consider renaming <class 'keras.layers.recurrent.GRUCell'> to avoid naming conflicts when loading with `tf.keras.models.load_model`. If renaming is not possible, pass the object in the `custom_objects` parameter of the load function.\n"
     ]
    },
    {
     "name": "stdout",
     "output_type": "stream",
     "text": [
      "79/79 [==============================] - 170s 2s/step - loss: 0.6116 - accuracy: 0.6481 - val_loss: 0.4178 - val_accuracy: 0.8170\n",
      "Epoch 2/50\n",
      "79/79 [==============================] - ETA: 0s - loss: 0.5599 - accuracy: 0.7099\n",
      "Epoch 2: val_accuracy did not improve from 0.81700\n",
      "79/79 [==============================] - 162s 2s/step - loss: 0.5599 - accuracy: 0.7099 - val_loss: 0.6189 - val_accuracy: 0.6246\n",
      "Epoch 3/50\n",
      "79/79 [==============================] - ETA: 0s - loss: 0.5551 - accuracy: 0.7062\n",
      "Epoch 3: val_accuracy did not improve from 0.81700\n",
      "79/79 [==============================] - 163s 2s/step - loss: 0.5551 - accuracy: 0.7062 - val_loss: 0.4987 - val_accuracy: 0.7656\n",
      "Epoch 4/50\n",
      "79/79 [==============================] - ETA: 0s - loss: 0.4065 - accuracy: 0.8183\n",
      "Epoch 4: val_accuracy improved from 0.81700 to 0.83840, saving model to ./models_gru\\checkpoint\n",
      "INFO:tensorflow:Assets written to: ./models_gru\\checkpoint\\assets\n"
     ]
    },
    {
     "name": "stderr",
     "output_type": "stream",
     "text": [
      "INFO:tensorflow:Assets written to: ./models_gru\\checkpoint\\assets\n",
      "WARNING:absl:<keras.layers.recurrent.GRUCell object at 0x00000201C43D2C70> has the same name 'GRUCell' as a built-in Keras object. Consider renaming <class 'keras.layers.recurrent.GRUCell'> to avoid naming conflicts when loading with `tf.keras.models.load_model`. If renaming is not possible, pass the object in the `custom_objects` parameter of the load function.\n"
     ]
    },
    {
     "name": "stdout",
     "output_type": "stream",
     "text": [
      "79/79 [==============================] - 167s 2s/step - loss: 0.4065 - accuracy: 0.8183 - val_loss: 0.3722 - val_accuracy: 0.8384\n",
      "Epoch 5/50\n",
      "79/79 [==============================] - ETA: 0s - loss: 0.3604 - accuracy: 0.8428\n",
      "Epoch 5: val_accuracy improved from 0.83840 to 0.84400, saving model to ./models_gru\\checkpoint\n",
      "INFO:tensorflow:Assets written to: ./models_gru\\checkpoint\\assets\n"
     ]
    },
    {
     "name": "stderr",
     "output_type": "stream",
     "text": [
      "INFO:tensorflow:Assets written to: ./models_gru\\checkpoint\\assets\n",
      "WARNING:absl:<keras.layers.recurrent.GRUCell object at 0x00000201C43D2C70> has the same name 'GRUCell' as a built-in Keras object. Consider renaming <class 'keras.layers.recurrent.GRUCell'> to avoid naming conflicts when loading with `tf.keras.models.load_model`. If renaming is not possible, pass the object in the `custom_objects` parameter of the load function.\n"
     ]
    },
    {
     "name": "stdout",
     "output_type": "stream",
     "text": [
      "79/79 [==============================] - 159s 2s/step - loss: 0.3604 - accuracy: 0.8428 - val_loss: 0.3768 - val_accuracy: 0.8440\n",
      "Epoch 6/50\n",
      "79/79 [==============================] - ETA: 0s - loss: 0.3318 - accuracy: 0.8572\n",
      "Epoch 6: val_accuracy improved from 0.84400 to 0.85600, saving model to ./models_gru\\checkpoint\n",
      "INFO:tensorflow:Assets written to: ./models_gru\\checkpoint\\assets\n"
     ]
    },
    {
     "name": "stderr",
     "output_type": "stream",
     "text": [
      "INFO:tensorflow:Assets written to: ./models_gru\\checkpoint\\assets\n",
      "WARNING:absl:<keras.layers.recurrent.GRUCell object at 0x00000201C43D2C70> has the same name 'GRUCell' as a built-in Keras object. Consider renaming <class 'keras.layers.recurrent.GRUCell'> to avoid naming conflicts when loading with `tf.keras.models.load_model`. If renaming is not possible, pass the object in the `custom_objects` parameter of the load function.\n"
     ]
    },
    {
     "name": "stdout",
     "output_type": "stream",
     "text": [
      "79/79 [==============================] - 154s 2s/step - loss: 0.3318 - accuracy: 0.8572 - val_loss: 0.3423 - val_accuracy: 0.8560\n",
      "Epoch 7/50\n",
      "79/79 [==============================] - ETA: 0s - loss: 0.3254 - accuracy: 0.8606\n",
      "Epoch 7: val_accuracy improved from 0.85600 to 0.85960, saving model to ./models_gru\\checkpoint\n",
      "INFO:tensorflow:Assets written to: ./models_gru\\checkpoint\\assets\n"
     ]
    },
    {
     "name": "stderr",
     "output_type": "stream",
     "text": [
      "INFO:tensorflow:Assets written to: ./models_gru\\checkpoint\\assets\n",
      "WARNING:absl:<keras.layers.recurrent.GRUCell object at 0x00000201C43D2C70> has the same name 'GRUCell' as a built-in Keras object. Consider renaming <class 'keras.layers.recurrent.GRUCell'> to avoid naming conflicts when loading with `tf.keras.models.load_model`. If renaming is not possible, pass the object in the `custom_objects` parameter of the load function.\n"
     ]
    },
    {
     "name": "stdout",
     "output_type": "stream",
     "text": [
      "79/79 [==============================] - 153s 2s/step - loss: 0.3254 - accuracy: 0.8606 - val_loss: 0.3354 - val_accuracy: 0.8596\n",
      "Epoch 8/50\n",
      "79/79 [==============================] - ETA: 0s - loss: 0.3050 - accuracy: 0.8727\n",
      "Epoch 8: val_accuracy did not improve from 0.85960\n",
      "79/79 [==============================] - 151s 2s/step - loss: 0.3050 - accuracy: 0.8727 - val_loss: 0.3745 - val_accuracy: 0.8544\n",
      "Epoch 9/50\n",
      "79/79 [==============================] - ETA: 0s - loss: 0.2957 - accuracy: 0.8764\n",
      "Epoch 9: val_accuracy improved from 0.85960 to 0.86300, saving model to ./models_gru\\checkpoint\n",
      "INFO:tensorflow:Assets written to: ./models_gru\\checkpoint\\assets\n"
     ]
    },
    {
     "name": "stderr",
     "output_type": "stream",
     "text": [
      "INFO:tensorflow:Assets written to: ./models_gru\\checkpoint\\assets\n",
      "WARNING:absl:<keras.layers.recurrent.GRUCell object at 0x00000201C43D2C70> has the same name 'GRUCell' as a built-in Keras object. Consider renaming <class 'keras.layers.recurrent.GRUCell'> to avoid naming conflicts when loading with `tf.keras.models.load_model`. If renaming is not possible, pass the object in the `custom_objects` parameter of the load function.\n"
     ]
    },
    {
     "name": "stdout",
     "output_type": "stream",
     "text": [
      "79/79 [==============================] - 159s 2s/step - loss: 0.2957 - accuracy: 0.8764 - val_loss: 0.3312 - val_accuracy: 0.8630\n",
      "Epoch 10/50\n",
      "79/79 [==============================] - ETA: 0s - loss: 0.2850 - accuracy: 0.8796\n",
      "Epoch 10: val_accuracy did not improve from 0.86300\n",
      "79/79 [==============================] - 149s 2s/step - loss: 0.2850 - accuracy: 0.8796 - val_loss: 0.3656 - val_accuracy: 0.8398\n",
      "Epoch 11/50\n",
      "79/79 [==============================] - ETA: 0s - loss: 0.2803 - accuracy: 0.8824\n",
      "Epoch 11: val_accuracy did not improve from 0.86300\n",
      "79/79 [==============================] - 152s 2s/step - loss: 0.2803 - accuracy: 0.8824 - val_loss: 0.3647 - val_accuracy: 0.8452\n",
      "Epoch 12/50\n",
      "79/79 [==============================] - ETA: 0s - loss: 0.2696 - accuracy: 0.8878\n",
      "Epoch 12: val_accuracy did not improve from 0.86300\n",
      "79/79 [==============================] - 151s 2s/step - loss: 0.2696 - accuracy: 0.8878 - val_loss: 0.3331 - val_accuracy: 0.8584\n",
      "Epoch 13/50\n",
      "79/79 [==============================] - ETA: 0s - loss: 0.2640 - accuracy: 0.8892\n",
      "Epoch 13: val_accuracy did not improve from 0.86300\n",
      "79/79 [==============================] - 150s 2s/step - loss: 0.2640 - accuracy: 0.8892 - val_loss: 0.3366 - val_accuracy: 0.8620\n",
      "Epoch 14/50\n",
      "79/79 [==============================] - ETA: 0s - loss: 0.2544 - accuracy: 0.8941\n",
      "Epoch 14: val_accuracy did not improve from 0.86300\n",
      "79/79 [==============================] - 151s 2s/step - loss: 0.2544 - accuracy: 0.8941 - val_loss: 0.3413 - val_accuracy: 0.8626\n",
      "Epoch 15/50\n",
      "79/79 [==============================] - ETA: 0s - loss: 0.2503 - accuracy: 0.8979\n",
      "Epoch 15: val_accuracy did not improve from 0.86300\n",
      "79/79 [==============================] - 150s 2s/step - loss: 0.2503 - accuracy: 0.8979 - val_loss: 0.3552 - val_accuracy: 0.8458\n",
      "Epoch 16/50\n",
      "79/79 [==============================] - ETA: 0s - loss: 0.2445 - accuracy: 0.8978\n",
      "Epoch 16: val_accuracy improved from 0.86300 to 0.86520, saving model to ./models_gru\\checkpoint\n",
      "INFO:tensorflow:Assets written to: ./models_gru\\checkpoint\\assets\n"
     ]
    },
    {
     "name": "stderr",
     "output_type": "stream",
     "text": [
      "INFO:tensorflow:Assets written to: ./models_gru\\checkpoint\\assets\n",
      "WARNING:absl:<keras.layers.recurrent.GRUCell object at 0x00000201C43D2C70> has the same name 'GRUCell' as a built-in Keras object. Consider renaming <class 'keras.layers.recurrent.GRUCell'> to avoid naming conflicts when loading with `tf.keras.models.load_model`. If renaming is not possible, pass the object in the `custom_objects` parameter of the load function.\n"
     ]
    },
    {
     "name": "stdout",
     "output_type": "stream",
     "text": [
      "79/79 [==============================] - 155s 2s/step - loss: 0.2445 - accuracy: 0.8978 - val_loss: 0.3402 - val_accuracy: 0.8652\n",
      "Epoch 17/50\n",
      "79/79 [==============================] - ETA: 0s - loss: 0.2344 - accuracy: 0.9039\n",
      "Epoch 17: val_accuracy did not improve from 0.86520\n",
      "79/79 [==============================] - 163s 2s/step - loss: 0.2344 - accuracy: 0.9039 - val_loss: 0.3448 - val_accuracy: 0.8610\n",
      "Epoch 18/50\n",
      "79/79 [==============================] - ETA: 0s - loss: 0.2310 - accuracy: 0.9053\n",
      "Epoch 18: val_accuracy did not improve from 0.86520\n",
      "79/79 [==============================] - 163s 2s/step - loss: 0.2310 - accuracy: 0.9053 - val_loss: 0.3971 - val_accuracy: 0.8614\n",
      "Epoch 19/50\n",
      "79/79 [==============================] - ETA: 0s - loss: 0.2272 - accuracy: 0.9067\n",
      "Epoch 19: val_accuracy did not improve from 0.86520\n",
      "79/79 [==============================] - 167s 2s/step - loss: 0.2272 - accuracy: 0.9067 - val_loss: 0.4213 - val_accuracy: 0.8392\n",
      "Epoch 20/50\n",
      "79/79 [==============================] - ETA: 0s - loss: 0.2243 - accuracy: 0.9067\n",
      "Epoch 20: val_accuracy did not improve from 0.86520\n",
      "79/79 [==============================] - 167s 2s/step - loss: 0.2243 - accuracy: 0.9067 - val_loss: 0.3443 - val_accuracy: 0.8636\n",
      "Epoch 21/50\n",
      "79/79 [==============================] - ETA: 0s - loss: 0.2174 - accuracy: 0.9101\n",
      "Epoch 21: val_accuracy did not improve from 0.86520\n",
      "79/79 [==============================] - 166s 2s/step - loss: 0.2174 - accuracy: 0.9101 - val_loss: 0.3490 - val_accuracy: 0.8648\n",
      "Epoch 22/50\n",
      "79/79 [==============================] - ETA: 0s - loss: 0.2059 - accuracy: 0.9161\n",
      "Epoch 22: val_accuracy did not improve from 0.86520\n",
      "79/79 [==============================] - 165s 2s/step - loss: 0.2059 - accuracy: 0.9161 - val_loss: 0.3803 - val_accuracy: 0.8424\n",
      "Epoch 23/50\n",
      "79/79 [==============================] - ETA: 0s - loss: 0.2029 - accuracy: 0.9154\n",
      "Epoch 23: val_accuracy did not improve from 0.86520\n",
      "79/79 [==============================] - 165s 2s/step - loss: 0.2029 - accuracy: 0.9154 - val_loss: 0.3885 - val_accuracy: 0.8618\n",
      "Epoch 24/50\n",
      "79/79 [==============================] - ETA: 0s - loss: 0.1898 - accuracy: 0.9243\n",
      "Epoch 24: val_accuracy did not improve from 0.86520\n",
      "79/79 [==============================] - 165s 2s/step - loss: 0.1898 - accuracy: 0.9243 - val_loss: 0.3828 - val_accuracy: 0.8566\n",
      "Epoch 25/50\n",
      "79/79 [==============================] - ETA: 0s - loss: 0.1916 - accuracy: 0.9237\n",
      "Epoch 25: val_accuracy did not improve from 0.86520\n",
      "79/79 [==============================] - 164s 2s/step - loss: 0.1916 - accuracy: 0.9237 - val_loss: 0.3943 - val_accuracy: 0.8586\n",
      "Epoch 26/50\n",
      "79/79 [==============================] - ETA: 0s - loss: 0.1847 - accuracy: 0.9226\n",
      "Epoch 26: val_accuracy did not improve from 0.86520\n",
      "79/79 [==============================] - 166s 2s/step - loss: 0.1847 - accuracy: 0.9226 - val_loss: 0.3967 - val_accuracy: 0.8530\n",
      "Epoch 27/50\n",
      "79/79 [==============================] - ETA: 0s - loss: 0.1834 - accuracy: 0.9261\n",
      "Epoch 27: val_accuracy did not improve from 0.86520\n",
      "79/79 [==============================] - 164s 2s/step - loss: 0.1834 - accuracy: 0.9261 - val_loss: 0.4191 - val_accuracy: 0.8546\n",
      "Epoch 28/50\n",
      "79/79 [==============================] - ETA: 0s - loss: 0.1728 - accuracy: 0.9298\n",
      "Epoch 28: val_accuracy did not improve from 0.86520\n",
      "79/79 [==============================] - 166s 2s/step - loss: 0.1728 - accuracy: 0.9298 - val_loss: 0.4096 - val_accuracy: 0.8616\n",
      "Epoch 29/50\n",
      "79/79 [==============================] - ETA: 0s - loss: 0.1704 - accuracy: 0.9306\n",
      "Epoch 29: val_accuracy did not improve from 0.86520\n",
      "79/79 [==============================] - 166s 2s/step - loss: 0.1704 - accuracy: 0.9306 - val_loss: 0.4024 - val_accuracy: 0.8604\n",
      "Epoch 30/50\n",
      "79/79 [==============================] - ETA: 0s - loss: 0.1582 - accuracy: 0.9370\n",
      "Epoch 30: val_accuracy did not improve from 0.86520\n",
      "79/79 [==============================] - 165s 2s/step - loss: 0.1582 - accuracy: 0.9370 - val_loss: 0.4387 - val_accuracy: 0.8576\n",
      "Epoch 31/50\n",
      "79/79 [==============================] - ETA: 0s - loss: 0.1519 - accuracy: 0.9409\n",
      "Epoch 31: val_accuracy did not improve from 0.86520\n",
      "79/79 [==============================] - 165s 2s/step - loss: 0.1519 - accuracy: 0.9409 - val_loss: 0.4380 - val_accuracy: 0.8464\n",
      "Epoch 32/50\n",
      "79/79 [==============================] - ETA: 0s - loss: 0.1538 - accuracy: 0.9378\n",
      "Epoch 32: val_accuracy did not improve from 0.86520\n",
      "79/79 [==============================] - 162s 2s/step - loss: 0.1538 - accuracy: 0.9378 - val_loss: 0.4680 - val_accuracy: 0.8542\n",
      "Epoch 33/50\n",
      "79/79 [==============================] - ETA: 0s - loss: 0.1532 - accuracy: 0.9391\n",
      "Epoch 33: val_accuracy did not improve from 0.86520\n",
      "79/79 [==============================] - 166s 2s/step - loss: 0.1532 - accuracy: 0.9391 - val_loss: 0.4741 - val_accuracy: 0.8548\n",
      "Epoch 34/50\n",
      "79/79 [==============================] - ETA: 0s - loss: 0.1354 - accuracy: 0.9449\n",
      "Epoch 34: val_accuracy did not improve from 0.86520\n",
      "79/79 [==============================] - 167s 2s/step - loss: 0.1354 - accuracy: 0.9449 - val_loss: 0.5092 - val_accuracy: 0.8524\n",
      "Epoch 35/50\n",
      "79/79 [==============================] - ETA: 0s - loss: 0.1327 - accuracy: 0.9459\n",
      "Epoch 35: val_accuracy did not improve from 0.86520\n",
      "79/79 [==============================] - 165s 2s/step - loss: 0.1327 - accuracy: 0.9459 - val_loss: 0.5387 - val_accuracy: 0.8542\n",
      "Epoch 36/50\n",
      "79/79 [==============================] - ETA: 0s - loss: 0.1327 - accuracy: 0.9458\n",
      "Epoch 36: val_accuracy did not improve from 0.86520\n",
      "79/79 [==============================] - 165s 2s/step - loss: 0.1327 - accuracy: 0.9458 - val_loss: 0.5029 - val_accuracy: 0.8502\n",
      "Epoch 37/50\n",
      "79/79 [==============================] - ETA: 0s - loss: 0.1263 - accuracy: 0.9493\n",
      "Epoch 37: val_accuracy did not improve from 0.86520\n",
      "79/79 [==============================] - 165s 2s/step - loss: 0.1263 - accuracy: 0.9493 - val_loss: 0.5609 - val_accuracy: 0.8536\n",
      "Epoch 38/50\n",
      "79/79 [==============================] - ETA: 0s - loss: 0.1243 - accuracy: 0.9514\n",
      "Epoch 38: val_accuracy did not improve from 0.86520\n",
      "79/79 [==============================] - 165s 2s/step - loss: 0.1243 - accuracy: 0.9514 - val_loss: 0.5361 - val_accuracy: 0.8578\n",
      "Epoch 39/50\n",
      "79/79 [==============================] - ETA: 0s - loss: 0.1203 - accuracy: 0.9517\n",
      "Epoch 39: val_accuracy did not improve from 0.86520\n",
      "79/79 [==============================] - 164s 2s/step - loss: 0.1203 - accuracy: 0.9517 - val_loss: 0.5841 - val_accuracy: 0.8582\n",
      "Epoch 40/50\n",
      "79/79 [==============================] - ETA: 0s - loss: 0.1055 - accuracy: 0.9584\n",
      "Epoch 40: val_accuracy did not improve from 0.86520\n",
      "79/79 [==============================] - 164s 2s/step - loss: 0.1055 - accuracy: 0.9584 - val_loss: 0.5943 - val_accuracy: 0.8532\n",
      "Epoch 41/50\n",
      "79/79 [==============================] - ETA: 0s - loss: 0.1004 - accuracy: 0.9611\n",
      "Epoch 41: val_accuracy did not improve from 0.86520\n",
      "79/79 [==============================] - 164s 2s/step - loss: 0.1004 - accuracy: 0.9611 - val_loss: 0.5810 - val_accuracy: 0.8586\n",
      "Epoch 42/50\n",
      "79/79 [==============================] - ETA: 0s - loss: 0.1083 - accuracy: 0.9576\n",
      "Epoch 42: val_accuracy did not improve from 0.86520\n",
      "79/79 [==============================] - 164s 2s/step - loss: 0.1083 - accuracy: 0.9576 - val_loss: 0.6167 - val_accuracy: 0.8558\n",
      "Epoch 43/50\n",
      "79/79 [==============================] - ETA: 0s - loss: 0.0939 - accuracy: 0.9639\n",
      "Epoch 43: val_accuracy did not improve from 0.86520\n",
      "79/79 [==============================] - 166s 2s/step - loss: 0.0939 - accuracy: 0.9639 - val_loss: 0.6415 - val_accuracy: 0.8470\n",
      "Epoch 44/50\n",
      "79/79 [==============================] - ETA: 0s - loss: 0.0926 - accuracy: 0.9640\n",
      "Epoch 44: val_accuracy did not improve from 0.86520\n",
      "79/79 [==============================] - 164s 2s/step - loss: 0.0926 - accuracy: 0.9640 - val_loss: 0.6098 - val_accuracy: 0.8492\n",
      "Epoch 45/50\n",
      "79/79 [==============================] - ETA: 0s - loss: 0.0894 - accuracy: 0.9651\n",
      "Epoch 45: val_accuracy did not improve from 0.86520\n",
      "79/79 [==============================] - 163s 2s/step - loss: 0.0894 - accuracy: 0.9651 - val_loss: 0.6131 - val_accuracy: 0.8390\n",
      "Epoch 46/50\n",
      "79/79 [==============================] - ETA: 0s - loss: 0.0900 - accuracy: 0.9653\n",
      "Epoch 46: val_accuracy did not improve from 0.86520\n",
      "79/79 [==============================] - 161s 2s/step - loss: 0.0900 - accuracy: 0.9653 - val_loss: 0.6160 - val_accuracy: 0.8464\n",
      "Epoch 47/50\n",
      "79/79 [==============================] - ETA: 0s - loss: 0.0826 - accuracy: 0.9701\n",
      "Epoch 47: val_accuracy did not improve from 0.86520\n",
      "79/79 [==============================] - 167s 2s/step - loss: 0.0826 - accuracy: 0.9701 - val_loss: 0.6194 - val_accuracy: 0.8470\n",
      "Epoch 48/50\n",
      "79/79 [==============================] - ETA: 0s - loss: 0.0789 - accuracy: 0.9694\n",
      "Epoch 48: val_accuracy did not improve from 0.86520\n",
      "79/79 [==============================] - 166s 2s/step - loss: 0.0789 - accuracy: 0.9694 - val_loss: 0.6824 - val_accuracy: 0.8458\n",
      "Epoch 49/50\n",
      "79/79 [==============================] - ETA: 0s - loss: 0.0731 - accuracy: 0.9726\n",
      "Epoch 49: val_accuracy did not improve from 0.86520\n",
      "79/79 [==============================] - 164s 2s/step - loss: 0.0731 - accuracy: 0.9726 - val_loss: 0.7202 - val_accuracy: 0.8522\n",
      "Epoch 50/50\n",
      "79/79 [==============================] - ETA: 0s - loss: 0.0774 - accuracy: 0.9692\n",
      "Epoch 50: val_accuracy did not improve from 0.86520\n",
      "79/79 [==============================] - 168s 2s/step - loss: 0.0774 - accuracy: 0.9692 - val_loss: 0.6883 - val_accuracy: 0.8508\n"
     ]
    },
    {
     "data": {
      "text/plain": [
       "<keras.callbacks.History at 0x201c42bf3a0>"
      ]
     },
     "execution_count": 96,
     "metadata": {},
     "output_type": "execute_result"
    }
   ],
   "source": [
    "model.fit(train_x, train_y, \n",
    "          epochs=50,\n",
    "         callbacks=callbacks,\n",
    "         validation_data=(val_x, val_y),\n",
    "         batch_size=256)"
   ]
  },
  {
   "cell_type": "code",
   "execution_count": 59,
   "id": "72d8ccc1",
   "metadata": {},
   "outputs": [],
   "source": [
    "model = load_model('./models_bilstm2/checkpoint')"
   ]
  },
  {
   "cell_type": "code",
   "execution_count": 60,
   "id": "2a4576dc",
   "metadata": {},
   "outputs": [
    {
     "name": "stdout",
     "output_type": "stream",
     "text": [
      "f1 : 0.9045801526717556\n",
      "acc: 0.9\n"
     ]
    },
    {
     "data": {
      "image/png": "[encoded data removed]",
      "text/plain": [
       "<Figure size 432x288 with 2 Axes>"
      ]
     },
     "metadata": {
      "needs_background": "light"
     },
     "output_type": "display_data"
    }
   ],
   "source": [
    "predict_result(model, train_x[:1000], train_y[:1000])"
   ]
  },
  {
   "cell_type": "code",
   "execution_count": 61,
   "id": "8b83add9",
   "metadata": {},
   "outputs": [
    {
     "name": "stdout",
     "output_type": "stream",
     "text": [
      "f1 : 0.8414049815863461\n",
      "acc: 0.8398\n"
     ]
    },
    {
     "data": {
      "image/png": "[encoded data removed]",
      "text/plain": [
       "<Figure size 432x288 with 2 Axes>"
      ]
     },
     "metadata": {
      "needs_background": "light"
     },
     "output_type": "display_data"
    }
   ],
   "source": [
    "predict_result(model, test_x, test_y)"
   ]
  },
  {
   "cell_type": "markdown",
   "id": "1de57d2a",
   "metadata": {},
   "source": [
    "# RNN with Bidirectional LSTM"
   ]
  },
  {
   "cell_type": "code",
   "execution_count": 54,
   "id": "9755d2ae",
   "metadata": {},
   "outputs": [
    {
     "name": "stdout",
     "output_type": "stream",
     "text": [
      "Model: \"sequential_6\"\n",
      "_________________________________________________________________\n",
      " Layer (type)                Output Shape              Param #   \n",
      "=================================================================\n",
      " embedding_6 (Embedding)     (None, 250, 300)          180000    \n",
      "                                                                 \n",
      " bidirectional (Bidirectiona  (None, 250, 512)         1140736   \n",
      " l)                                                              \n",
      "                                                                 \n",
      " dropout_6 (Dropout)         (None, 250, 512)          0         \n",
      "                                                                 \n",
      " bidirectional_1 (Bidirectio  (None, 128)              295424    \n",
      " nal)                                                            \n",
      "                                                                 \n",
      " dropout_7 (Dropout)         (None, 128)               0         \n",
      "                                                                 \n",
      " dense_12 (Dense)            (None, 64)                8256      \n",
      "                                                                 \n",
      " dropout_8 (Dropout)         (None, 64)                0         \n",
      "                                                                 \n",
      " dense_13 (Dense)            (None, 2)                 130       \n",
      "                                                                 \n",
      "=================================================================\n",
      "Total params: 1,624,546\n",
      "Trainable params: 1,624,546\n",
      "Non-trainable params: 0\n",
      "_________________________________________________________________\n"
     ]
    }
   ],
   "source": [
    "model = Sequential([\n",
    "    Embedding(600, embedding_size, input_length=max_words),\n",
    "    Bidirectional(LSTM(256, return_sequences=True)),\n",
    "    Dropout(0.4),\n",
    "    Bidirectional(LSTM(64)),\n",
    "    Dropout(0.4),\n",
    "    Dense(64, activation='relu'),\n",
    "    Dropout(0.4),\n",
    "    Dense(2, activation='sigmoid')\n",
    "])\n",
    "\n",
    "callbacks=[\n",
    "    ModelCheckpoint(filepath='./models_bilstm2/checkpoint',\n",
    "                   save_best_only=True, verbose=1, monitor='val_loss')\n",
    "]\n",
    "model.summary()"
   ]
  },
  {
   "cell_type": "code",
   "execution_count": 57,
   "id": "bdfa501b",
   "metadata": {},
   "outputs": [],
   "source": [
    "model.compile(loss='categorical_crossentropy', \n",
    "             optimizer='adam', \n",
    "             metrics=['accuracy'])"
   ]
  },
  {
   "cell_type": "code",
   "execution_count": 58,
   "id": "582fd400",
   "metadata": {},
   "outputs": [
    {
     "name": "stdout",
     "output_type": "stream",
     "text": [
      "Epoch 1/50\n",
      "157/157 [==============================] - ETA: 0s - loss: 0.5058 - accuracy: 0.7495\n",
      "Epoch 1: val_loss improved from inf to 0.42455, saving model to ./models_bilstm2\\checkpoint\n"
     ]
    },
    {
     "name": "stderr",
     "output_type": "stream",
     "text": [
      "WARNING:absl:Found untraced functions such as lstm_cell_7_layer_call_fn, lstm_cell_7_layer_call_and_return_conditional_losses, lstm_cell_8_layer_call_fn, lstm_cell_8_layer_call_and_return_conditional_losses, lstm_cell_10_layer_call_fn while saving (showing 5 of 8). These functions will not be directly callable after loading.\n"
     ]
    },
    {
     "name": "stdout",
     "output_type": "stream",
     "text": [
      "INFO:tensorflow:Assets written to: ./models_bilstm2\\checkpoint\\assets\n"
     ]
    },
    {
     "name": "stderr",
     "output_type": "stream",
     "text": [
      "INFO:tensorflow:Assets written to: ./models_bilstm2\\checkpoint\\assets\n",
      "WARNING:absl:<keras.layers.recurrent.LSTMCell object at 0x000001F5F7BAE550> has the same name 'LSTMCell' as a built-in Keras object. Consider renaming <class 'keras.layers.recurrent.LSTMCell'> to avoid naming conflicts when loading with `tf.keras.models.load_model`. If renaming is not possible, pass the object in the `custom_objects` parameter of the load function.\n",
      "WARNING:absl:<keras.layers.recurrent.LSTMCell object at 0x000001F6073479D0> has the same name 'LSTMCell' as a built-in Keras object. Consider renaming <class 'keras.layers.recurrent.LSTMCell'> to avoid naming conflicts when loading with `tf.keras.models.load_model`. If renaming is not possible, pass the object in the `custom_objects` parameter of the load function.\n",
      "WARNING:absl:<keras.layers.recurrent.LSTMCell object at 0x000001F6073384C0> has the same name 'LSTMCell' as a built-in Keras object. Consider renaming <class 'keras.layers.recurrent.LSTMCell'> to avoid naming conflicts when loading with `tf.keras.models.load_model`. If renaming is not possible, pass the object in the `custom_objects` parameter of the load function.\n",
      "WARNING:absl:<keras.layers.recurrent.LSTMCell object at 0x000001F5FD8C8FD0> has the same name 'LSTMCell' as a built-in Keras object. Consider renaming <class 'keras.layers.recurrent.LSTMCell'> to avoid naming conflicts when loading with `tf.keras.models.load_model`. If renaming is not possible, pass the object in the `custom_objects` parameter of the load function.\n"
     ]
    },
    {
     "name": "stdout",
     "output_type": "stream",
     "text": [
      "157/157 [==============================] - 27s 152ms/step - loss: 0.5058 - accuracy: 0.7495 - val_loss: 0.4245 - val_accuracy: 0.8188\n",
      "Epoch 2/50\n",
      "157/157 [==============================] - ETA: 0s - loss: 0.4105 - accuracy: 0.8236\n",
      "Epoch 2: val_loss did not improve from 0.42455\n",
      "157/157 [==============================] - 13s 85ms/step - loss: 0.4105 - accuracy: 0.8236 - val_loss: 0.5146 - val_accuracy: 0.7618\n",
      "Epoch 3/50\n",
      "157/157 [==============================] - ETA: 0s - loss: 0.3895 - accuracy: 0.8349\n",
      "Epoch 3: val_loss improved from 0.42455 to 0.41039, saving model to ./models_bilstm2\\checkpoint\n"
     ]
    },
    {
     "name": "stderr",
     "output_type": "stream",
     "text": [
      "WARNING:absl:Found untraced functions such as lstm_cell_7_layer_call_fn, lstm_cell_7_layer_call_and_return_conditional_losses, lstm_cell_8_layer_call_fn, lstm_cell_8_layer_call_and_return_conditional_losses, lstm_cell_10_layer_call_fn while saving (showing 5 of 8). These functions will not be directly callable after loading.\n"
     ]
    },
    {
     "name": "stdout",
     "output_type": "stream",
     "text": [
      "INFO:tensorflow:Assets written to: ./models_bilstm2\\checkpoint\\assets\n"
     ]
    },
    {
     "name": "stderr",
     "output_type": "stream",
     "text": [
      "INFO:tensorflow:Assets written to: ./models_bilstm2\\checkpoint\\assets\n",
      "WARNING:absl:<keras.layers.recurrent.LSTMCell object at 0x000001F5F7BAE550> has the same name 'LSTMCell' as a built-in Keras object. Consider renaming <class 'keras.layers.recurrent.LSTMCell'> to avoid naming conflicts when loading with `tf.keras.models.load_model`. If renaming is not possible, pass the object in the `custom_objects` parameter of the load function.\n",
      "WARNING:absl:<keras.layers.recurrent.LSTMCell object at 0x000001F6073479D0> has the same name 'LSTMCell' as a built-in Keras object. Consider renaming <class 'keras.layers.recurrent.LSTMCell'> to avoid naming conflicts when loading with `tf.keras.models.load_model`. If renaming is not possible, pass the object in the `custom_objects` parameter of the load function.\n",
      "WARNING:absl:<keras.layers.recurrent.LSTMCell object at 0x000001F6073384C0> has the same name 'LSTMCell' as a built-in Keras object. Consider renaming <class 'keras.layers.recurrent.LSTMCell'> to avoid naming conflicts when loading with `tf.keras.models.load_model`. If renaming is not possible, pass the object in the `custom_objects` parameter of the load function.\n",
      "WARNING:absl:<keras.layers.recurrent.LSTMCell object at 0x000001F5FD8C8FD0> has the same name 'LSTMCell' as a built-in Keras object. Consider renaming <class 'keras.layers.recurrent.LSTMCell'> to avoid naming conflicts when loading with `tf.keras.models.load_model`. If renaming is not possible, pass the object in the `custom_objects` parameter of the load function.\n"
     ]
    },
    {
     "name": "stdout",
     "output_type": "stream",
     "text": [
      "157/157 [==============================] - 24s 151ms/step - loss: 0.3895 - accuracy: 0.8349 - val_loss: 0.4104 - val_accuracy: 0.8186\n",
      "Epoch 4/50\n",
      "157/157 [==============================] - ETA: 0s - loss: 0.3654 - accuracy: 0.8460\n",
      "Epoch 4: val_loss improved from 0.41039 to 0.39826, saving model to ./models_bilstm2\\checkpoint\n"
     ]
    },
    {
     "name": "stderr",
     "output_type": "stream",
     "text": [
      "WARNING:absl:Found untraced functions such as lstm_cell_7_layer_call_fn, lstm_cell_7_layer_call_and_return_conditional_losses, lstm_cell_8_layer_call_fn, lstm_cell_8_layer_call_and_return_conditional_losses, lstm_cell_10_layer_call_fn while saving (showing 5 of 8). These functions will not be directly callable after loading.\n"
     ]
    },
    {
     "name": "stdout",
     "output_type": "stream",
     "text": [
      "INFO:tensorflow:Assets written to: ./models_bilstm2\\checkpoint\\assets\n"
     ]
    },
    {
     "name": "stderr",
     "output_type": "stream",
     "text": [
      "INFO:tensorflow:Assets written to: ./models_bilstm2\\checkpoint\\assets\n",
      "WARNING:absl:<keras.layers.recurrent.LSTMCell object at 0x000001F5F7BAE550> has the same name 'LSTMCell' as a built-in Keras object. Consider renaming <class 'keras.layers.recurrent.LSTMCell'> to avoid naming conflicts when loading with `tf.keras.models.load_model`. If renaming is not possible, pass the object in the `custom_objects` parameter of the load function.\n",
      "WARNING:absl:<keras.layers.recurrent.LSTMCell object at 0x000001F6073479D0> has the same name 'LSTMCell' as a built-in Keras object. Consider renaming <class 'keras.layers.recurrent.LSTMCell'> to avoid naming conflicts when loading with `tf.keras.models.load_model`. If renaming is not possible, pass the object in the `custom_objects` parameter of the load function.\n",
      "WARNING:absl:<keras.layers.recurrent.LSTMCell object at 0x000001F6073384C0> has the same name 'LSTMCell' as a built-in Keras object. Consider renaming <class 'keras.layers.recurrent.LSTMCell'> to avoid naming conflicts when loading with `tf.keras.models.load_model`. If renaming is not possible, pass the object in the `custom_objects` parameter of the load function.\n",
      "WARNING:absl:<keras.layers.recurrent.LSTMCell object at 0x000001F5FD8C8FD0> has the same name 'LSTMCell' as a built-in Keras object. Consider renaming <class 'keras.layers.recurrent.LSTMCell'> to avoid naming conflicts when loading with `tf.keras.models.load_model`. If renaming is not possible, pass the object in the `custom_objects` parameter of the load function.\n"
     ]
    },
    {
     "name": "stdout",
     "output_type": "stream",
     "text": [
      "157/157 [==============================] - 24s 153ms/step - loss: 0.3654 - accuracy: 0.8460 - val_loss: 0.3983 - val_accuracy: 0.8256\n",
      "Epoch 5/50\n",
      "157/157 [==============================] - ETA: 0s - loss: 0.3556 - accuracy: 0.8503\n",
      "Epoch 5: val_loss improved from 0.39826 to 0.39803, saving model to ./models_bilstm2\\checkpoint\n"
     ]
    },
    {
     "name": "stderr",
     "output_type": "stream",
     "text": [
      "WARNING:absl:Found untraced functions such as lstm_cell_7_layer_call_fn, lstm_cell_7_layer_call_and_return_conditional_losses, lstm_cell_8_layer_call_fn, lstm_cell_8_layer_call_and_return_conditional_losses, lstm_cell_10_layer_call_fn while saving (showing 5 of 8). These functions will not be directly callable after loading.\n"
     ]
    },
    {
     "name": "stdout",
     "output_type": "stream",
     "text": [
      "INFO:tensorflow:Assets written to: ./models_bilstm2\\checkpoint\\assets\n"
     ]
    },
    {
     "name": "stderr",
     "output_type": "stream",
     "text": [
      "INFO:tensorflow:Assets written to: ./models_bilstm2\\checkpoint\\assets\n",
      "WARNING:absl:<keras.layers.recurrent.LSTMCell object at 0x000001F5F7BAE550> has the same name 'LSTMCell' as a built-in Keras object. Consider renaming <class 'keras.layers.recurrent.LSTMCell'> to avoid naming conflicts when loading with `tf.keras.models.load_model`. If renaming is not possible, pass the object in the `custom_objects` parameter of the load function.\n",
      "WARNING:absl:<keras.layers.recurrent.LSTMCell object at 0x000001F6073479D0> has the same name 'LSTMCell' as a built-in Keras object. Consider renaming <class 'keras.layers.recurrent.LSTMCell'> to avoid naming conflicts when loading with `tf.keras.models.load_model`. If renaming is not possible, pass the object in the `custom_objects` parameter of the load function.\n",
      "WARNING:absl:<keras.layers.recurrent.LSTMCell object at 0x000001F6073384C0> has the same name 'LSTMCell' as a built-in Keras object. Consider renaming <class 'keras.layers.recurrent.LSTMCell'> to avoid naming conflicts when loading with `tf.keras.models.load_model`. If renaming is not possible, pass the object in the `custom_objects` parameter of the load function.\n",
      "WARNING:absl:<keras.layers.recurrent.LSTMCell object at 0x000001F5FD8C8FD0> has the same name 'LSTMCell' as a built-in Keras object. Consider renaming <class 'keras.layers.recurrent.LSTMCell'> to avoid naming conflicts when loading with `tf.keras.models.load_model`. If renaming is not possible, pass the object in the `custom_objects` parameter of the load function.\n"
     ]
    },
    {
     "name": "stdout",
     "output_type": "stream",
     "text": [
      "157/157 [==============================] - 23s 149ms/step - loss: 0.3556 - accuracy: 0.8503 - val_loss: 0.3980 - val_accuracy: 0.8214\n",
      "Epoch 6/50\n",
      "157/157 [==============================] - ETA: 0s - loss: 0.3379 - accuracy: 0.8601\n",
      "Epoch 6: val_loss did not improve from 0.39803\n",
      "157/157 [==============================] - 13s 80ms/step - loss: 0.3379 - accuracy: 0.8601 - val_loss: 0.3999 - val_accuracy: 0.8198\n",
      "Epoch 7/50\n",
      "157/157 [==============================] - ETA: 0s - loss: 0.3311 - accuracy: 0.8607\n",
      "Epoch 7: val_loss did not improve from 0.39803\n",
      "157/157 [==============================] - 12s 80ms/step - loss: 0.3311 - accuracy: 0.8607 - val_loss: 0.4109 - val_accuracy: 0.8236\n",
      "Epoch 8/50\n",
      "157/157 [==============================] - ETA: 0s - loss: 0.3252 - accuracy: 0.8643\n",
      "Epoch 8: val_loss improved from 0.39803 to 0.38927, saving model to ./models_bilstm2\\checkpoint\n"
     ]
    },
    {
     "name": "stderr",
     "output_type": "stream",
     "text": [
      "WARNING:absl:Found untraced functions such as lstm_cell_7_layer_call_fn, lstm_cell_7_layer_call_and_return_conditional_losses, lstm_cell_8_layer_call_fn, lstm_cell_8_layer_call_and_return_conditional_losses, lstm_cell_10_layer_call_fn while saving (showing 5 of 8). These functions will not be directly callable after loading.\n"
     ]
    },
    {
     "name": "stdout",
     "output_type": "stream",
     "text": [
      "INFO:tensorflow:Assets written to: ./models_bilstm2\\checkpoint\\assets\n"
     ]
    },
    {
     "name": "stderr",
     "output_type": "stream",
     "text": [
      "INFO:tensorflow:Assets written to: ./models_bilstm2\\checkpoint\\assets\n",
      "WARNING:absl:<keras.layers.recurrent.LSTMCell object at 0x000001F5F7BAE550> has the same name 'LSTMCell' as a built-in Keras object. Consider renaming <class 'keras.layers.recurrent.LSTMCell'> to avoid naming conflicts when loading with `tf.keras.models.load_model`. If renaming is not possible, pass the object in the `custom_objects` parameter of the load function.\n",
      "WARNING:absl:<keras.layers.recurrent.LSTMCell object at 0x000001F6073479D0> has the same name 'LSTMCell' as a built-in Keras object. Consider renaming <class 'keras.layers.recurrent.LSTMCell'> to avoid naming conflicts when loading with `tf.keras.models.load_model`. If renaming is not possible, pass the object in the `custom_objects` parameter of the load function.\n",
      "WARNING:absl:<keras.layers.recurrent.LSTMCell object at 0x000001F6073384C0> has the same name 'LSTMCell' as a built-in Keras object. Consider renaming <class 'keras.layers.recurrent.LSTMCell'> to avoid naming conflicts when loading with `tf.keras.models.load_model`. If renaming is not possible, pass the object in the `custom_objects` parameter of the load function.\n",
      "WARNING:absl:<keras.layers.recurrent.LSTMCell object at 0x000001F5FD8C8FD0> has the same name 'LSTMCell' as a built-in Keras object. Consider renaming <class 'keras.layers.recurrent.LSTMCell'> to avoid naming conflicts when loading with `tf.keras.models.load_model`. If renaming is not possible, pass the object in the `custom_objects` parameter of the load function.\n"
     ]
    },
    {
     "name": "stdout",
     "output_type": "stream",
     "text": [
      "157/157 [==============================] - 24s 150ms/step - loss: 0.3252 - accuracy: 0.8643 - val_loss: 0.3893 - val_accuracy: 0.8332\n",
      "Epoch 9/50\n",
      "157/157 [==============================] - ETA: 0s - loss: 0.3069 - accuracy: 0.8732\n",
      "Epoch 9: val_loss did not improve from 0.38927\n",
      "157/157 [==============================] - 13s 84ms/step - loss: 0.3069 - accuracy: 0.8732 - val_loss: 0.4006 - val_accuracy: 0.8200\n",
      "Epoch 10/50\n",
      "157/157 [==============================] - ETA: 0s - loss: 0.3026 - accuracy: 0.8765\n",
      "Epoch 10: val_loss did not improve from 0.38927\n",
      "157/157 [==============================] - 13s 85ms/step - loss: 0.3026 - accuracy: 0.8765 - val_loss: 0.4208 - val_accuracy: 0.8254\n",
      "Epoch 11/50\n",
      "157/157 [==============================] - ETA: 0s - loss: 0.2972 - accuracy: 0.8773\n",
      "Epoch 11: val_loss did not improve from 0.38927\n",
      "157/157 [==============================] - 13s 84ms/step - loss: 0.2972 - accuracy: 0.8773 - val_loss: 0.4272 - val_accuracy: 0.8202\n",
      "Epoch 12/50\n",
      "157/157 [==============================] - ETA: 0s - loss: 0.2786 - accuracy: 0.8869\n",
      "Epoch 12: val_loss did not improve from 0.38927\n",
      "157/157 [==============================] - 13s 82ms/step - loss: 0.2786 - accuracy: 0.8869 - val_loss: 0.4492 - val_accuracy: 0.8228\n",
      "Epoch 13/50\n",
      "157/157 [==============================] - ETA: 0s - loss: 0.2653 - accuracy: 0.8932\n",
      "Epoch 13: val_loss did not improve from 0.38927\n",
      "157/157 [==============================] - 12s 80ms/step - loss: 0.2653 - accuracy: 0.8932 - val_loss: 0.4476 - val_accuracy: 0.8300\n",
      "Epoch 14/50\n",
      "157/157 [==============================] - ETA: 0s - loss: 0.2491 - accuracy: 0.9004\n",
      "Epoch 14: val_loss did not improve from 0.38927\n",
      "157/157 [==============================] - 13s 80ms/step - loss: 0.2491 - accuracy: 0.9004 - val_loss: 0.4496 - val_accuracy: 0.8254\n",
      "Epoch 15/50\n",
      "157/157 [==============================] - ETA: 0s - loss: 0.2448 - accuracy: 0.9013\n",
      "Epoch 15: val_loss did not improve from 0.38927\n",
      "157/157 [==============================] - 13s 81ms/step - loss: 0.2448 - accuracy: 0.9013 - val_loss: 0.4637 - val_accuracy: 0.8184\n",
      "Epoch 16/50\n",
      "157/157 [==============================] - ETA: 0s - loss: 0.2398 - accuracy: 0.9035\n",
      "Epoch 16: val_loss did not improve from 0.38927\n",
      "157/157 [==============================] - 13s 83ms/step - loss: 0.2398 - accuracy: 0.9035 - val_loss: 0.4783 - val_accuracy: 0.8132\n",
      "Epoch 17/50\n",
      "157/157 [==============================] - ETA: 0s - loss: 0.2339 - accuracy: 0.9051\n",
      "Epoch 17: val_loss did not improve from 0.38927\n",
      "157/157 [==============================] - 13s 83ms/step - loss: 0.2339 - accuracy: 0.9051 - val_loss: 0.4580 - val_accuracy: 0.8220\n",
      "Epoch 18/50\n",
      "157/157 [==============================] - ETA: 0s - loss: 0.2220 - accuracy: 0.9117\n",
      "Epoch 18: val_loss did not improve from 0.38927\n",
      "157/157 [==============================] - 13s 84ms/step - loss: 0.2220 - accuracy: 0.9117 - val_loss: 0.4677 - val_accuracy: 0.8130\n",
      "Epoch 19/50\n",
      "157/157 [==============================] - ETA: 0s - loss: 0.1986 - accuracy: 0.9220\n",
      "Epoch 19: val_loss did not improve from 0.38927\n",
      "157/157 [==============================] - 13s 83ms/step - loss: 0.1986 - accuracy: 0.9220 - val_loss: 0.5078 - val_accuracy: 0.8112\n",
      "Epoch 20/50\n",
      "157/157 [==============================] - ETA: 0s - loss: 0.1872 - accuracy: 0.9269\n",
      "Epoch 20: val_loss did not improve from 0.38927\n",
      "157/157 [==============================] - 13s 81ms/step - loss: 0.1872 - accuracy: 0.9269 - val_loss: 0.5309 - val_accuracy: 0.8104\n",
      "Epoch 21/50\n",
      "157/157 [==============================] - ETA: 0s - loss: 0.1926 - accuracy: 0.9251\n",
      "Epoch 21: val_loss did not improve from 0.38927\n",
      "157/157 [==============================] - 13s 81ms/step - loss: 0.1926 - accuracy: 0.9251 - val_loss: 0.5236 - val_accuracy: 0.8062\n",
      "Epoch 22/50\n",
      "157/157 [==============================] - ETA: 0s - loss: 0.1673 - accuracy: 0.9355\n",
      "Epoch 22: val_loss did not improve from 0.38927\n",
      "157/157 [==============================] - 13s 80ms/step - loss: 0.1673 - accuracy: 0.9355 - val_loss: 0.6296 - val_accuracy: 0.8124\n",
      "Epoch 23/50\n",
      "157/157 [==============================] - ETA: 0s - loss: 0.1646 - accuracy: 0.9367\n",
      "Epoch 23: val_loss did not improve from 0.38927\n",
      "157/157 [==============================] - 13s 81ms/step - loss: 0.1646 - accuracy: 0.9367 - val_loss: 0.5878 - val_accuracy: 0.8184\n",
      "Epoch 24/50\n",
      "157/157 [==============================] - ETA: 0s - loss: 0.1634 - accuracy: 0.9377\n",
      "Epoch 24: val_loss did not improve from 0.38927\n",
      "157/157 [==============================] - 13s 82ms/step - loss: 0.1634 - accuracy: 0.9377 - val_loss: 0.6523 - val_accuracy: 0.8034\n",
      "Epoch 25/50\n",
      "157/157 [==============================] - ETA: 0s - loss: 0.1320 - accuracy: 0.9512\n",
      "Epoch 25: val_loss did not improve from 0.38927\n",
      "157/157 [==============================] - 13s 84ms/step - loss: 0.1320 - accuracy: 0.9512 - val_loss: 0.7091 - val_accuracy: 0.8074\n",
      "Epoch 26/50\n",
      "157/157 [==============================] - ETA: 0s - loss: 0.1225 - accuracy: 0.9553\n",
      "Epoch 26: val_loss did not improve from 0.38927\n",
      "157/157 [==============================] - 13s 84ms/step - loss: 0.1225 - accuracy: 0.9553 - val_loss: 0.6702 - val_accuracy: 0.8102\n",
      "Epoch 27/50\n",
      "157/157 [==============================] - ETA: 0s - loss: 0.1551 - accuracy: 0.9421\n",
      "Epoch 27: val_loss did not improve from 0.38927\n",
      "157/157 [==============================] - 13s 83ms/step - loss: 0.1551 - accuracy: 0.9421 - val_loss: 0.5397 - val_accuracy: 0.8146\n",
      "Epoch 28/50\n",
      "157/157 [==============================] - ETA: 0s - loss: 0.1358 - accuracy: 0.9495\n",
      "Epoch 28: val_loss did not improve from 0.38927\n",
      "157/157 [==============================] - 13s 81ms/step - loss: 0.1358 - accuracy: 0.9495 - val_loss: 0.7056 - val_accuracy: 0.8102\n",
      "Epoch 29/50\n",
      "157/157 [==============================] - ETA: 0s - loss: 0.0974 - accuracy: 0.9647\n",
      "Epoch 29: val_loss did not improve from 0.38927\n",
      "157/157 [==============================] - 12s 79ms/step - loss: 0.0974 - accuracy: 0.9647 - val_loss: 0.7728 - val_accuracy: 0.8102\n",
      "Epoch 30/50\n",
      "157/157 [==============================] - ETA: 0s - loss: 0.0820 - accuracy: 0.9724\n",
      "Epoch 30: val_loss did not improve from 0.38927\n",
      "157/157 [==============================] - 13s 80ms/step - loss: 0.0820 - accuracy: 0.9724 - val_loss: 0.8186 - val_accuracy: 0.7994\n",
      "Epoch 31/50\n",
      "157/157 [==============================] - ETA: 0s - loss: 0.0844 - accuracy: 0.9716\n",
      "Epoch 31: val_loss did not improve from 0.38927\n",
      "157/157 [==============================] - 13s 84ms/step - loss: 0.0844 - accuracy: 0.9716 - val_loss: 0.8932 - val_accuracy: 0.8024\n",
      "Epoch 32/50\n",
      "157/157 [==============================] - ETA: 0s - loss: 0.0855 - accuracy: 0.9725\n",
      "Epoch 32: val_loss did not improve from 0.38927\n",
      "157/157 [==============================] - 13s 85ms/step - loss: 0.0855 - accuracy: 0.9725 - val_loss: 0.8550 - val_accuracy: 0.8068\n",
      "Epoch 33/50\n",
      "157/157 [==============================] - ETA: 0s - loss: 0.1050 - accuracy: 0.9614\n",
      "Epoch 33: val_loss did not improve from 0.38927\n",
      "157/157 [==============================] - 13s 84ms/step - loss: 0.1050 - accuracy: 0.9614 - val_loss: 0.8860 - val_accuracy: 0.7950\n",
      "Epoch 34/50\n",
      "157/157 [==============================] - ETA: 0s - loss: 0.0766 - accuracy: 0.9729\n",
      "Epoch 34: val_loss did not improve from 0.38927\n",
      "157/157 [==============================] - 13s 82ms/step - loss: 0.0766 - accuracy: 0.9729 - val_loss: 0.8422 - val_accuracy: 0.7998\n",
      "Epoch 35/50\n",
      "157/157 [==============================] - ETA: 0s - loss: 0.0603 - accuracy: 0.9803\n",
      "Epoch 35: val_loss did not improve from 0.38927\n",
      "157/157 [==============================] - 13s 82ms/step - loss: 0.0603 - accuracy: 0.9803 - val_loss: 0.9970 - val_accuracy: 0.8082\n",
      "Epoch 36/50\n",
      "157/157 [==============================] - ETA: 0s - loss: 0.0471 - accuracy: 0.9851\n",
      "Epoch 36: val_loss did not improve from 0.38927\n",
      "157/157 [==============================] - 13s 81ms/step - loss: 0.0471 - accuracy: 0.9851 - val_loss: 0.9428 - val_accuracy: 0.8048\n",
      "Epoch 37/50\n",
      "157/157 [==============================] - ETA: 0s - loss: 0.0448 - accuracy: 0.9856\n",
      "Epoch 37: val_loss did not improve from 0.38927\n",
      "157/157 [==============================] - 13s 82ms/step - loss: 0.0448 - accuracy: 0.9856 - val_loss: 1.0113 - val_accuracy: 0.8050\n"
     ]
    },
    {
     "name": "stdout",
     "output_type": "stream",
     "text": [
      "Epoch 38/50\n",
      "157/157 [==============================] - ETA: 0s - loss: 0.0442 - accuracy: 0.9855\n",
      "Epoch 38: val_loss did not improve from 0.38927\n",
      "157/157 [==============================] - 13s 83ms/step - loss: 0.0442 - accuracy: 0.9855 - val_loss: 1.0807 - val_accuracy: 0.8062\n",
      "Epoch 39/50\n",
      "157/157 [==============================] - ETA: 0s - loss: 0.0382 - accuracy: 0.9875\n",
      "Epoch 39: val_loss did not improve from 0.38927\n",
      "157/157 [==============================] - 13s 84ms/step - loss: 0.0382 - accuracy: 0.9875 - val_loss: 1.0655 - val_accuracy: 0.8022\n",
      "Epoch 40/50\n",
      "157/157 [==============================] - ETA: 0s - loss: 0.0542 - accuracy: 0.9839\n",
      "Epoch 40: val_loss did not improve from 0.38927\n",
      "157/157 [==============================] - 13s 84ms/step - loss: 0.0542 - accuracy: 0.9839 - val_loss: 0.9991 - val_accuracy: 0.7828\n",
      "Epoch 41/50\n",
      "157/157 [==============================] - ETA: 0s - loss: 0.0656 - accuracy: 0.9773\n",
      "Epoch 41: val_loss did not improve from 0.38927\n",
      "157/157 [==============================] - 13s 83ms/step - loss: 0.0656 - accuracy: 0.9773 - val_loss: 0.9520 - val_accuracy: 0.8044\n",
      "Epoch 42/50\n",
      "157/157 [==============================] - ETA: 0s - loss: 0.0358 - accuracy: 0.9883\n",
      "Epoch 42: val_loss did not improve from 0.38927\n",
      "157/157 [==============================] - 13s 81ms/step - loss: 0.0358 - accuracy: 0.9883 - val_loss: 1.1789 - val_accuracy: 0.8000\n",
      "Epoch 43/50\n",
      "157/157 [==============================] - ETA: 0s - loss: 0.0357 - accuracy: 0.9890\n",
      "Epoch 43: val_loss did not improve from 0.38927\n",
      "157/157 [==============================] - 13s 82ms/step - loss: 0.0357 - accuracy: 0.9890 - val_loss: 1.1216 - val_accuracy: 0.8016\n",
      "Epoch 44/50\n",
      "157/157 [==============================] - ETA: 0s - loss: 0.0316 - accuracy: 0.9893\n",
      "Epoch 44: val_loss did not improve from 0.38927\n",
      "157/157 [==============================] - 13s 81ms/step - loss: 0.0316 - accuracy: 0.9893 - val_loss: 1.1760 - val_accuracy: 0.7992\n",
      "Epoch 45/50\n",
      "157/157 [==============================] - ETA: 0s - loss: 0.0289 - accuracy: 0.9913\n",
      "Epoch 45: val_loss did not improve from 0.38927\n",
      "157/157 [==============================] - 13s 84ms/step - loss: 0.0289 - accuracy: 0.9913 - val_loss: 1.1091 - val_accuracy: 0.7988\n",
      "Epoch 46/50\n",
      "157/157 [==============================] - ETA: 0s - loss: 0.0221 - accuracy: 0.9941\n",
      "Epoch 46: val_loss did not improve from 0.38927\n",
      "157/157 [==============================] - 13s 84ms/step - loss: 0.0221 - accuracy: 0.9941 - val_loss: 1.2533 - val_accuracy: 0.8026\n",
      "Epoch 47/50\n",
      "157/157 [==============================] - ETA: 0s - loss: 0.0180 - accuracy: 0.9949\n",
      "Epoch 47: val_loss did not improve from 0.38927\n",
      "157/157 [==============================] - 13s 85ms/step - loss: 0.0180 - accuracy: 0.9949 - val_loss: 1.3020 - val_accuracy: 0.8058\n",
      "Epoch 48/50\n",
      "157/157 [==============================] - ETA: 0s - loss: 0.0390 - accuracy: 0.9872\n",
      "Epoch 48: val_loss did not improve from 0.38927\n",
      "157/157 [==============================] - 13s 82ms/step - loss: 0.0390 - accuracy: 0.9872 - val_loss: 1.0649 - val_accuracy: 0.8000\n",
      "Epoch 49/50\n",
      "157/157 [==============================] - ETA: 0s - loss: 0.0318 - accuracy: 0.9898\n",
      "Epoch 49: val_loss did not improve from 0.38927\n",
      "157/157 [==============================] - 12s 79ms/step - loss: 0.0318 - accuracy: 0.9898 - val_loss: 1.0323 - val_accuracy: 0.7948\n",
      "Epoch 50/50\n",
      "157/157 [==============================] - ETA: 0s - loss: 0.0211 - accuracy: 0.9937\n",
      "Epoch 50: val_loss did not improve from 0.38927\n",
      "157/157 [==============================] - 13s 80ms/step - loss: 0.0211 - accuracy: 0.9937 - val_loss: 1.4116 - val_accuracy: 0.8036\n"
     ]
    },
    {
     "data": {
      "text/plain": [
       "<keras.callbacks.History at 0x1f601ac5d60>"
      ]
     },
     "execution_count": 58,
     "metadata": {},
     "output_type": "execute_result"
    }
   ],
   "source": [
    "model.fit(train_x, train_y, \n",
    "          epochs=50,\n",
    "         callbacks=callbacks,\n",
    "         validation_data=(val_x, val_y),\n",
    "         batch_size=128)"
   ]
  },
  {
   "cell_type": "code",
   "execution_count": null,
   "id": "36a27319",
   "metadata": {},
   "outputs": [],
   "source": []
  }
 ],
 "metadata": {
  "kernelspec": {
   "display_name": "Python 3 (ipykernel)",
   "language": "python",
   "name": "python3"
  },
  "language_info": {
   "codemirror_mode": {
    "name": "ipython",
    "version": 3
   },
   "file_extension": ".py",
   "mimetype": "text/x-python",
   "name": "python",
   "nbconvert_exporter": "python",
   "pygments_lexer": "ipython3",
   "version": "3.9.0"
  }
 },
 "nbformat": 4,
 "nbformat_minor": 5
}
