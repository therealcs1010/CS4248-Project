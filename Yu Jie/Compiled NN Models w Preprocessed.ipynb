{
 "cells": [
  {
   "cell_type": "code",
   "execution_count": 62,
   "id": "f1e270fc",
   "metadata": {},
   "outputs": [],
   "source": [
    "import spacy\n",
    "import pandas as pd\n",
    "import tensorflow as tf\n",
    "from tensorflow.keras.models import Sequential, load_model\n",
    "from tensorflow.keras.layers import Dense, LSTM, GRU, Bidirectional, Dropout, Flatten, Embedding, TextVectorization, GlobalMaxPooling1D\n",
    "from tensorflow.keras.callbacks import ModelCheckpoint\n",
    "from tensorflow.keras.optimizers import SGD, Adam, RMSprop\n",
    "from tensorflow.keras.losses import BinaryCrossentropy\n",
    "from tensorflow.keras.preprocessing.text import Tokenizer\n",
    "from tensorflow.keras.preprocessing.sequence import pad_sequences\n",
    "from sklearn.model_selection import train_test_split\n",
    "from sklearn.feature_extraction.text import TfidfVectorizer, CountVectorizer\n",
    "from sklearn.metrics import f1_score, accuracy_score\n",
    "import scikitplot as skplt\n",
    "import numpy as np\n",
    "from tqdm.notebook import tqdm_notebook\n"
   ]
  },
  {
   "cell_type": "markdown",
   "id": "5df37571",
   "metadata": {},
   "source": [
    "# Read in preprocessed data"
   ]
  },
  {
   "cell_type": "code",
   "execution_count": 2,
   "id": "6c4039a3",
   "metadata": {},
   "outputs": [],
   "source": [
    "train_x = pd.read_csv('./x_train.csv')\n",
    "train_y = pd.read_csv('./y_train.csv')\n",
    "test_x = pd.read_csv('./x_test.csv')\n",
    "test_y = pd.read_csv('./y_test.csv')\n",
    "\n",
    "train_df = pd.concat([train_x, train_y], axis=1)\n",
    "test_df = pd.concat([test_x, test_y], axis=1)\n",
    "\n",
    "train_df = train_df[['text', 'label']]\n",
    "test_df = test_df[['text', 'label']]"
   ]
  },
  {
   "cell_type": "code",
   "execution_count": 3,
   "id": "013cd404",
   "metadata": {},
   "outputs": [
    {
     "data": {
      "text/html": [
       "<div>\n",
       "<style scoped>\n",
       "    .dataframe tbody tr th:only-of-type {\n",
       "        vertical-align: middle;\n",
       "    }\n",
       "\n",
       "    .dataframe tbody tr th {\n",
       "        vertical-align: top;\n",
       "    }\n",
       "\n",
       "    .dataframe thead th {\n",
       "        text-align: right;\n",
       "    }\n",
       "</style>\n",
       "<table border=\"1\" class=\"dataframe\">\n",
       "  <thead>\n",
       "    <tr style=\"text-align: right;\">\n",
       "      <th></th>\n",
       "      <th>text</th>\n",
       "      <th>label</th>\n",
       "    </tr>\n",
       "  </thead>\n",
       "  <tbody>\n",
       "    <tr>\n",
       "      <th>0</th>\n",
       "      <td>bromwell high cartoon comedy ran time program ...</td>\n",
       "      <td>+</td>\n",
       "    </tr>\n",
       "    <tr>\n",
       "      <th>1</th>\n",
       "      <td>homelessness houselessness george carlin state...</td>\n",
       "      <td>+</td>\n",
       "    </tr>\n",
       "    <tr>\n",
       "      <th>2</th>\n",
       "      <td>brilliant overacting lesley ann warren best dr...</td>\n",
       "      <td>+</td>\n",
       "    </tr>\n",
       "    <tr>\n",
       "      <th>3</th>\n",
       "      <td>easily underrated film inn brook cannon sure f...</td>\n",
       "      <td>+</td>\n",
       "    </tr>\n",
       "    <tr>\n",
       "      <th>4</th>\n",
       "      <td>typical mel brook film much le slapstick movie...</td>\n",
       "      <td>+</td>\n",
       "    </tr>\n",
       "    <tr>\n",
       "      <th>...</th>\n",
       "      <td>...</td>\n",
       "      <td>...</td>\n",
       "    </tr>\n",
       "    <tr>\n",
       "      <th>24995</th>\n",
       "      <td>towards end movie felt technical felt like cla...</td>\n",
       "      <td>-</td>\n",
       "    </tr>\n",
       "    <tr>\n",
       "      <th>24996</th>\n",
       "      <td>kind movie enemy content watch time bloody tru...</td>\n",
       "      <td>-</td>\n",
       "    </tr>\n",
       "    <tr>\n",
       "      <th>24997</th>\n",
       "      <td>saw descent last night stockholm film festival...</td>\n",
       "      <td>-</td>\n",
       "    </tr>\n",
       "    <tr>\n",
       "      <th>24998</th>\n",
       "      <td>film pick pound turn rather good 23rd century ...</td>\n",
       "      <td>-</td>\n",
       "    </tr>\n",
       "    <tr>\n",
       "      <th>24999</th>\n",
       "      <td>one dumbest film ive ever seen rip nearly ever...</td>\n",
       "      <td>-</td>\n",
       "    </tr>\n",
       "  </tbody>\n",
       "</table>\n",
       "<p>25000 rows × 2 columns</p>\n",
       "</div>"
      ],
      "text/plain": [
       "                                                    text label\n",
       "0      bromwell high cartoon comedy ran time program ...     +\n",
       "1      homelessness houselessness george carlin state...     +\n",
       "2      brilliant overacting lesley ann warren best dr...     +\n",
       "3      easily underrated film inn brook cannon sure f...     +\n",
       "4      typical mel brook film much le slapstick movie...     +\n",
       "...                                                  ...   ...\n",
       "24995  towards end movie felt technical felt like cla...     -\n",
       "24996  kind movie enemy content watch time bloody tru...     -\n",
       "24997  saw descent last night stockholm film festival...     -\n",
       "24998  film pick pound turn rather good 23rd century ...     -\n",
       "24999  one dumbest film ive ever seen rip nearly ever...     -\n",
       "\n",
       "[25000 rows x 2 columns]"
      ]
     },
     "execution_count": 3,
     "metadata": {},
     "output_type": "execute_result"
    }
   ],
   "source": [
    "train_df"
   ]
  },
  {
   "cell_type": "code",
   "execution_count": 4,
   "id": "e922fa52",
   "metadata": {},
   "outputs": [
    {
     "data": {
      "text/html": [
       "<div>\n",
       "<style scoped>\n",
       "    .dataframe tbody tr th:only-of-type {\n",
       "        vertical-align: middle;\n",
       "    }\n",
       "\n",
       "    .dataframe tbody tr th {\n",
       "        vertical-align: top;\n",
       "    }\n",
       "\n",
       "    .dataframe thead th {\n",
       "        text-align: right;\n",
       "    }\n",
       "</style>\n",
       "<table border=\"1\" class=\"dataframe\">\n",
       "  <thead>\n",
       "    <tr style=\"text-align: right;\">\n",
       "      <th></th>\n",
       "      <th>text</th>\n",
       "      <th>label</th>\n",
       "    </tr>\n",
       "  </thead>\n",
       "  <tbody>\n",
       "    <tr>\n",
       "      <th>0</th>\n",
       "      <td>panic street richard widmark play u navy docto...</td>\n",
       "      <td>+</td>\n",
       "    </tr>\n",
       "    <tr>\n",
       "      <th>1</th>\n",
       "      <td>ask first one really better one look sarah g r...</td>\n",
       "      <td>-</td>\n",
       "    </tr>\n",
       "    <tr>\n",
       "      <th>2</th>\n",
       "      <td>big fan faerie tale theatre ive seen one best ...</td>\n",
       "      <td>+</td>\n",
       "    </tr>\n",
       "    <tr>\n",
       "      <th>3</th>\n",
       "      <td>finished reading book dillinger movie horribly...</td>\n",
       "      <td>-</td>\n",
       "    </tr>\n",
       "    <tr>\n",
       "      <th>4</th>\n",
       "      <td>greg davis bryan daly take crazed statement te...</td>\n",
       "      <td>-</td>\n",
       "    </tr>\n",
       "    <tr>\n",
       "      <th>...</th>\n",
       "      <td>...</td>\n",
       "      <td>...</td>\n",
       "    </tr>\n",
       "    <tr>\n",
       "      <th>24995</th>\n",
       "      <td>roommate nearly shorted tv numerous spittakes ...</td>\n",
       "      <td>-</td>\n",
       "    </tr>\n",
       "    <tr>\n",
       "      <th>24996</th>\n",
       "      <td>michelle rodriguez defining actress could char...</td>\n",
       "      <td>+</td>\n",
       "    </tr>\n",
       "    <tr>\n",
       "      <th>24997</th>\n",
       "      <td>nice movie great soundtrack span rock landscap...</td>\n",
       "      <td>+</td>\n",
       "    </tr>\n",
       "    <tr>\n",
       "      <th>24998</th>\n",
       "      <td>even though madefortv production there absolut...</td>\n",
       "      <td>-</td>\n",
       "    </tr>\n",
       "    <tr>\n",
       "      <th>24999</th>\n",
       "      <td>saw cable recently kinda enjoyed ive reading c...</td>\n",
       "      <td>-</td>\n",
       "    </tr>\n",
       "  </tbody>\n",
       "</table>\n",
       "<p>25000 rows × 2 columns</p>\n",
       "</div>"
      ],
      "text/plain": [
       "                                                    text label\n",
       "0      panic street richard widmark play u navy docto...     +\n",
       "1      ask first one really better one look sarah g r...     -\n",
       "2      big fan faerie tale theatre ive seen one best ...     +\n",
       "3      finished reading book dillinger movie horribly...     -\n",
       "4      greg davis bryan daly take crazed statement te...     -\n",
       "...                                                  ...   ...\n",
       "24995  roommate nearly shorted tv numerous spittakes ...     -\n",
       "24996  michelle rodriguez defining actress could char...     +\n",
       "24997  nice movie great soundtrack span rock landscap...     +\n",
       "24998  even though madefortv production there absolut...     -\n",
       "24999  saw cable recently kinda enjoyed ive reading c...     -\n",
       "\n",
       "[25000 rows x 2 columns]"
      ]
     },
     "execution_count": 4,
     "metadata": {},
     "output_type": "execute_result"
    }
   ],
   "source": [
    "train_df = train_df.sample(len(train_df), random_state=42, ignore_index=True)\n",
    "train_df"
   ]
  },
  {
   "cell_type": "markdown",
   "id": "653b5e92",
   "metadata": {},
   "source": [
    "# Storing some important variables"
   ]
  },
  {
   "cell_type": "code",
   "execution_count": 63,
   "id": "bdd01e50",
   "metadata": {},
   "outputs": [],
   "source": [
    "train_len = int(0.8*len(train_df))\n",
    "\n",
    "max_words=300\n",
    "embedding_size=300\n",
    "\n",
    "count_vectorizer = CountVectorizer(max_features=10000)\n",
    "count_vectorizer.fit(train_df['text'].values)\n",
    "# For feature 1\n",
    "tfidf_vectorizer = TfidfVectorizer(max_features=10000)\n",
    "tfidf_vectorizer.fit(train_df['text'].values)\n",
    "\n",
    "# For feature 2\n",
    "nlp = spacy.load('en_core_web_lg')\n",
    "\n",
    "# For feature 3\n",
    "tokenizer = Tokenizer()\n",
    "tokenizer.fit_on_texts(train_df['text'].values)\n",
    "\n",
    "#For feature 4\n",
    "vectorizer = TextVectorization(max_tokens=20000, output_sequence_length=max_words)\n",
    "vectorizer.adapt(train_df['text'].values)\n",
    "vocab = vectorizer.get_vocabulary()\n",
    "word_index = dict(zip(vocab, range(len(vocab))))\n",
    "\n",
    "def predict_result(model, x, y_true):\n",
    "    y_pred = model.predict(x)\n",
    "    y_pred = np.argmax(y_pred, axis=1)\n",
    "    y_true = np.argmax(y_true, axis=1)\n",
    "    skplt.metrics.plot_confusion_matrix(y_true, y_pred)\n",
    "    print(f'f1 : {f1_score(y_true, y_pred)}')\n",
    "    print(f'acc: {accuracy_score(y_true, y_pred)}')    "
   ]
  },
  {
   "cell_type": "code",
   "execution_count": 64,
   "id": "217979d7",
   "metadata": {},
   "outputs": [],
   "source": [
    "def one_hot(row):\n",
    "    if row == '-':\n",
    "        return [1, 0]\n",
    "    else:\n",
    "        return [0, 1]\n",
    "    \n",
    "def get_count_vector_and_one_hot(df):\n",
    "    x = count_vectorizer.transform(df['text'].values).todense()\n",
    "    x = pd.DataFrame(x)\n",
    "    y = df['label'].apply(one_hot).tolist()\n",
    "    y = np.array(y)\n",
    "    return x, y"
   ]
  },
  {
   "cell_type": "code",
   "execution_count": 65,
   "id": "0f200298",
   "metadata": {},
   "outputs": [],
   "source": [
    "train_val_x, train_val_y = get_count_vector_and_one_hot(train_df)\n",
    "test_x, test_y = get_count_vector_and_one_hot(test_df)"
   ]
  },
  {
   "cell_type": "code",
   "execution_count": 66,
   "id": "b39e9ea1",
   "metadata": {},
   "outputs": [],
   "source": [
    "train_x, val_x = train_val_x[:train_len], train_val_x[train_len:]\n",
    "train_y, val_y = train_val_y[:train_len], train_val_y[train_len:]"
   ]
  },
  {
   "cell_type": "code",
   "execution_count": 67,
   "id": "3c7d269b",
   "metadata": {},
   "outputs": [
    {
     "name": "stdout",
     "output_type": "stream",
     "text": [
      "Model: \"sequential_5\"\n",
      "_________________________________________________________________\n",
      " Layer (type)                Output Shape              Param #   \n",
      "=================================================================\n",
      " dense_27 (Dense)            (None, 64)                640064    \n",
      "                                                                 \n",
      " dropout_15 (Dropout)        (None, 64)                0         \n",
      "                                                                 \n",
      " dense_28 (Dense)            (None, 64)                4160      \n",
      "                                                                 \n",
      " dropout_16 (Dropout)        (None, 64)                0         \n",
      "                                                                 \n",
      " dense_29 (Dense)            (None, 2)                 130       \n",
      "                                                                 \n",
      "=================================================================\n",
      "Total params: 644,354\n",
      "Trainable params: 644,354\n",
      "Non-trainable params: 0\n",
      "_________________________________________________________________\n"
     ]
    }
   ],
   "source": [
    "model = Sequential([\n",
    "    Dense(64, input_shape=(train_x.shape[1],), activation='relu'),\n",
    "    Dropout(0.3),\n",
    "    Dense(64, activation='relu'),\n",
    "    Dropout(0.3),\n",
    "    Dense(2, activation='sigmoid')\n",
    "])\n",
    "\n",
    "callbacks=[\n",
    "    ModelCheckpoint(filepath='./models_count_ffnn/checkpoint',\n",
    "                   save_best_only=True, save_weights_only=True, verbose=1,monitor='val_accuracy')\n",
    "]\n",
    "\n",
    "model.summary()"
   ]
  },
  {
   "cell_type": "code",
   "execution_count": 68,
   "id": "fafabbd7",
   "metadata": {},
   "outputs": [
    {
     "name": "stdout",
     "output_type": "stream",
     "text": [
      "Epoch 1/50\n",
      "602/625 [===========================>..] - ETA: 0s - loss: 0.3680 - accuracy: 0.8480\n",
      "Epoch 1: val_accuracy improved from -inf to 0.88520, saving model to ./models_count_ffnn\\checkpoint\n",
      "625/625 [==============================] - 2s 3ms/step - loss: 0.3658 - accuracy: 0.8490 - val_loss: 0.2857 - val_accuracy: 0.8852\n",
      "Epoch 2/50\n",
      "608/625 [============================>.] - ETA: 0s - loss: 0.1825 - accuracy: 0.9329\n",
      "Epoch 2: val_accuracy did not improve from 0.88520\n",
      "625/625 [==============================] - 1s 2ms/step - loss: 0.1832 - accuracy: 0.9327 - val_loss: 0.3025 - val_accuracy: 0.8834\n",
      "Epoch 3/50\n",
      "620/625 [============================>.] - ETA: 0s - loss: 0.0972 - accuracy: 0.9665\n",
      "Epoch 3: val_accuracy did not improve from 0.88520\n",
      "625/625 [==============================] - 1s 2ms/step - loss: 0.0971 - accuracy: 0.9666 - val_loss: 0.3853 - val_accuracy: 0.8798\n",
      "Epoch 4/50\n",
      "602/625 [===========================>..] - ETA: 0s - loss: 0.0514 - accuracy: 0.9826\n",
      "Epoch 4: val_accuracy did not improve from 0.88520\n",
      "625/625 [==============================] - 1s 2ms/step - loss: 0.0513 - accuracy: 0.9826 - val_loss: 0.5093 - val_accuracy: 0.8764\n",
      "Epoch 5/50\n",
      "604/625 [===========================>..] - ETA: 0s - loss: 0.0295 - accuracy: 0.9901\n",
      "Epoch 5: val_accuracy did not improve from 0.88520\n",
      "625/625 [==============================] - 1s 2ms/step - loss: 0.0300 - accuracy: 0.9900 - val_loss: 0.5757 - val_accuracy: 0.8764\n",
      "Epoch 6/50\n",
      "606/625 [============================>.] - ETA: 0s - loss: 0.0223 - accuracy: 0.9933\n",
      "Epoch 6: val_accuracy did not improve from 0.88520\n",
      "625/625 [==============================] - 1s 2ms/step - loss: 0.0226 - accuracy: 0.9931 - val_loss: 0.6796 - val_accuracy: 0.8728\n",
      "Epoch 7/50\n",
      "609/625 [============================>.] - ETA: 0s - loss: 0.0175 - accuracy: 0.9947\n",
      "Epoch 7: val_accuracy did not improve from 0.88520\n",
      "625/625 [==============================] - 1s 2ms/step - loss: 0.0175 - accuracy: 0.9947 - val_loss: 0.7288 - val_accuracy: 0.8736\n",
      "Epoch 8/50\n",
      "622/625 [============================>.] - ETA: 0s - loss: 0.0158 - accuracy: 0.9947\n",
      "Epoch 8: val_accuracy did not improve from 0.88520\n",
      "625/625 [==============================] - 1s 2ms/step - loss: 0.0160 - accuracy: 0.9947 - val_loss: 0.7608 - val_accuracy: 0.8728\n",
      "Epoch 9/50\n",
      "612/625 [============================>.] - ETA: 0s - loss: 0.0198 - accuracy: 0.9946\n",
      "Epoch 9: val_accuracy did not improve from 0.88520\n",
      "625/625 [==============================] - 1s 2ms/step - loss: 0.0199 - accuracy: 0.9945 - val_loss: 0.7216 - val_accuracy: 0.8732\n",
      "Epoch 10/50\n",
      "613/625 [============================>.] - ETA: 0s - loss: 0.0151 - accuracy: 0.9952\n",
      "Epoch 10: val_accuracy did not improve from 0.88520\n",
      "625/625 [==============================] - 1s 2ms/step - loss: 0.0151 - accuracy: 0.9952 - val_loss: 0.7262 - val_accuracy: 0.8736\n",
      "Epoch 11/50\n",
      "604/625 [===========================>..] - ETA: 0s - loss: 0.0137 - accuracy: 0.9958\n",
      "Epoch 11: val_accuracy did not improve from 0.88520\n",
      "625/625 [==============================] - 1s 2ms/step - loss: 0.0135 - accuracy: 0.9958 - val_loss: 0.8252 - val_accuracy: 0.8758\n",
      "Epoch 12/50\n",
      "607/625 [============================>.] - ETA: 0s - loss: 0.0111 - accuracy: 0.9963\n",
      "Epoch 12: val_accuracy did not improve from 0.88520\n",
      "625/625 [==============================] - 1s 2ms/step - loss: 0.0122 - accuracy: 0.9959 - val_loss: 0.9029 - val_accuracy: 0.8658\n",
      "Epoch 13/50\n",
      "608/625 [============================>.] - ETA: 0s - loss: 0.0142 - accuracy: 0.9961\n",
      "Epoch 13: val_accuracy did not improve from 0.88520\n",
      "625/625 [==============================] - 1s 2ms/step - loss: 0.0141 - accuracy: 0.9961 - val_loss: 0.8267 - val_accuracy: 0.8724\n",
      "Epoch 14/50\n",
      "625/625 [==============================] - ETA: 0s - loss: 0.0114 - accuracy: 0.9966\n",
      "Epoch 14: val_accuracy did not improve from 0.88520\n",
      "625/625 [==============================] - 1s 2ms/step - loss: 0.0114 - accuracy: 0.9966 - val_loss: 0.8093 - val_accuracy: 0.8692\n",
      "Epoch 15/50\n",
      "625/625 [==============================] - ETA: 0s - loss: 0.0109 - accuracy: 0.9969\n",
      "Epoch 15: val_accuracy did not improve from 0.88520\n",
      "625/625 [==============================] - 1s 2ms/step - loss: 0.0109 - accuracy: 0.9969 - val_loss: 0.8179 - val_accuracy: 0.8734\n",
      "Epoch 16/50\n",
      "622/625 [============================>.] - ETA: 0s - loss: 0.0065 - accuracy: 0.9979\n",
      "Epoch 16: val_accuracy did not improve from 0.88520\n",
      "625/625 [==============================] - 1s 2ms/step - loss: 0.0065 - accuracy: 0.9980 - val_loss: 0.9698 - val_accuracy: 0.8726\n",
      "Epoch 17/50\n",
      "613/625 [============================>.] - ETA: 0s - loss: 0.0098 - accuracy: 0.9966\n",
      "Epoch 17: val_accuracy did not improve from 0.88520\n",
      "625/625 [==============================] - 1s 2ms/step - loss: 0.0099 - accuracy: 0.9966 - val_loss: 0.8820 - val_accuracy: 0.8746\n",
      "Epoch 18/50\n",
      "606/625 [============================>.] - ETA: 0s - loss: 0.0077 - accuracy: 0.9972\n",
      "Epoch 18: val_accuracy did not improve from 0.88520\n",
      "625/625 [==============================] - 1s 2ms/step - loss: 0.0077 - accuracy: 0.9972 - val_loss: 0.8733 - val_accuracy: 0.8710\n",
      "Epoch 19/50\n",
      "622/625 [============================>.] - ETA: 0s - loss: 0.0084 - accuracy: 0.9980\n",
      "Epoch 19: val_accuracy did not improve from 0.88520\n",
      "625/625 [==============================] - 1s 2ms/step - loss: 0.0084 - accuracy: 0.9980 - val_loss: 0.9302 - val_accuracy: 0.8722\n",
      "Epoch 20/50\n",
      "599/625 [===========================>..] - ETA: 0s - loss: 0.0083 - accuracy: 0.9977\n",
      "Epoch 20: val_accuracy did not improve from 0.88520\n",
      "625/625 [==============================] - 1s 2ms/step - loss: 0.0083 - accuracy: 0.9977 - val_loss: 0.8698 - val_accuracy: 0.8726\n",
      "Epoch 21/50\n",
      "600/625 [===========================>..] - ETA: 0s - loss: 0.0105 - accuracy: 0.9967\n",
      "Epoch 21: val_accuracy did not improve from 0.88520\n",
      "625/625 [==============================] - 1s 2ms/step - loss: 0.0102 - accuracy: 0.9969 - val_loss: 0.8637 - val_accuracy: 0.8714\n",
      "Epoch 22/50\n",
      "597/625 [===========================>..] - ETA: 0s - loss: 0.0048 - accuracy: 0.9985\n",
      "Epoch 22: val_accuracy did not improve from 0.88520\n",
      "625/625 [==============================] - 1s 2ms/step - loss: 0.0050 - accuracy: 0.9984 - val_loss: 0.9774 - val_accuracy: 0.8748\n",
      "Epoch 23/50\n",
      "625/625 [==============================] - ETA: 0s - loss: 0.0064 - accuracy: 0.9981\n",
      "Epoch 23: val_accuracy did not improve from 0.88520\n",
      "625/625 [==============================] - 1s 2ms/step - loss: 0.0064 - accuracy: 0.9981 - val_loss: 0.9835 - val_accuracy: 0.8718\n",
      "Epoch 24/50\n",
      "610/625 [============================>.] - ETA: 0s - loss: 0.0072 - accuracy: 0.9974\n",
      "Epoch 24: val_accuracy did not improve from 0.88520\n",
      "625/625 [==============================] - 1s 2ms/step - loss: 0.0072 - accuracy: 0.9974 - val_loss: 0.9395 - val_accuracy: 0.8730\n",
      "Epoch 25/50\n",
      "620/625 [============================>.] - ETA: 0s - loss: 0.0046 - accuracy: 0.9983\n",
      "Epoch 25: val_accuracy did not improve from 0.88520\n",
      "625/625 [==============================] - 1s 2ms/step - loss: 0.0046 - accuracy: 0.9984 - val_loss: 1.0006 - val_accuracy: 0.8754\n",
      "Epoch 26/50\n",
      "621/625 [============================>.] - ETA: 0s - loss: 0.0057 - accuracy: 0.9983\n",
      "Epoch 26: val_accuracy did not improve from 0.88520\n",
      "625/625 [==============================] - 1s 2ms/step - loss: 0.0058 - accuracy: 0.9983 - val_loss: 0.9760 - val_accuracy: 0.8714\n",
      "Epoch 27/50\n",
      "624/625 [============================>.] - ETA: 0s - loss: 0.0038 - accuracy: 0.9986\n",
      "Epoch 27: val_accuracy did not improve from 0.88520\n",
      "625/625 [==============================] - 1s 2ms/step - loss: 0.0038 - accuracy: 0.9987 - val_loss: 1.1042 - val_accuracy: 0.8720\n",
      "Epoch 28/50\n",
      "625/625 [==============================] - ETA: 0s - loss: 0.0063 - accuracy: 0.9983\n",
      "Epoch 28: val_accuracy did not improve from 0.88520\n",
      "625/625 [==============================] - 1s 2ms/step - loss: 0.0063 - accuracy: 0.9983 - val_loss: 0.9797 - val_accuracy: 0.8756\n",
      "Epoch 29/50\n",
      "621/625 [============================>.] - ETA: 0s - loss: 0.0074 - accuracy: 0.9981\n",
      "Epoch 29: val_accuracy did not improve from 0.88520\n",
      "625/625 [==============================] - 1s 2ms/step - loss: 0.0074 - accuracy: 0.9981 - val_loss: 0.9848 - val_accuracy: 0.8762\n",
      "Epoch 30/50\n",
      "614/625 [============================>.] - ETA: 0s - loss: 0.0047 - accuracy: 0.9985\n",
      "Epoch 30: val_accuracy did not improve from 0.88520\n",
      "625/625 [==============================] - 1s 2ms/step - loss: 0.0047 - accuracy: 0.9984 - val_loss: 1.0053 - val_accuracy: 0.8774\n",
      "Epoch 31/50\n",
      "600/625 [===========================>..] - ETA: 0s - loss: 0.0036 - accuracy: 0.9989\n",
      "Epoch 31: val_accuracy did not improve from 0.88520\n",
      "625/625 [==============================] - 1s 2ms/step - loss: 0.0035 - accuracy: 0.9989 - val_loss: 1.0958 - val_accuracy: 0.8776\n",
      "Epoch 32/50\n",
      "602/625 [===========================>..] - ETA: 0s - loss: 0.0030 - accuracy: 0.9990\n",
      "Epoch 32: val_accuracy did not improve from 0.88520\n",
      "625/625 [==============================] - 1s 2ms/step - loss: 0.0029 - accuracy: 0.9991 - val_loss: 1.1893 - val_accuracy: 0.8762\n",
      "Epoch 33/50\n",
      "625/625 [==============================] - ETA: 0s - loss: 0.0052 - accuracy: 0.9983\n",
      "Epoch 33: val_accuracy did not improve from 0.88520\n",
      "625/625 [==============================] - 1s 2ms/step - loss: 0.0052 - accuracy: 0.9983 - val_loss: 1.1399 - val_accuracy: 0.8748\n",
      "Epoch 34/50\n",
      "605/625 [============================>.] - ETA: 0s - loss: 0.0045 - accuracy: 0.9983\n",
      "Epoch 34: val_accuracy did not improve from 0.88520\n",
      "625/625 [==============================] - 1s 2ms/step - loss: 0.0044 - accuracy: 0.9983 - val_loss: 1.1265 - val_accuracy: 0.8756\n",
      "Epoch 35/50\n",
      "618/625 [============================>.] - ETA: 0s - loss: 0.0036 - accuracy: 0.9988\n",
      "Epoch 35: val_accuracy did not improve from 0.88520\n",
      "625/625 [==============================] - 1s 2ms/step - loss: 0.0038 - accuracy: 0.9988 - val_loss: 1.1148 - val_accuracy: 0.8732\n",
      "Epoch 36/50\n",
      "606/625 [============================>.] - ETA: 0s - loss: 0.0041 - accuracy: 0.9988\n",
      "Epoch 36: val_accuracy did not improve from 0.88520\n",
      "625/625 [==============================] - 1s 2ms/step - loss: 0.0042 - accuracy: 0.9988 - val_loss: 1.1581 - val_accuracy: 0.8758\n",
      "Epoch 37/50\n",
      "624/625 [============================>.] - ETA: 0s - loss: 0.0051 - accuracy: 0.9986\n",
      "Epoch 37: val_accuracy did not improve from 0.88520\n",
      "625/625 [==============================] - 1s 2ms/step - loss: 0.0051 - accuracy: 0.9987 - val_loss: 1.1328 - val_accuracy: 0.8730\n",
      "Epoch 38/50\n",
      "601/625 [===========================>..] - ETA: 0s - loss: 0.0056 - accuracy: 0.9986\n",
      "Epoch 38: val_accuracy did not improve from 0.88520\n",
      "625/625 [==============================] - 1s 2ms/step - loss: 0.0054 - accuracy: 0.9987 - val_loss: 1.1102 - val_accuracy: 0.8714\n",
      "Epoch 39/50\n",
      "608/625 [============================>.] - ETA: 0s - loss: 0.0042 - accuracy: 0.9988\n",
      "Epoch 39: val_accuracy did not improve from 0.88520\n",
      "625/625 [==============================] - 1s 2ms/step - loss: 0.0041 - accuracy: 0.9987 - val_loss: 1.1532 - val_accuracy: 0.8710\n",
      "Epoch 40/50\n",
      "614/625 [============================>.] - ETA: 0s - loss: 0.0040 - accuracy: 0.9988\n",
      "Epoch 40: val_accuracy did not improve from 0.88520\n",
      "625/625 [==============================] - 1s 2ms/step - loss: 0.0039 - accuracy: 0.9988 - val_loss: 1.1980 - val_accuracy: 0.8708\n",
      "Epoch 41/50\n",
      "619/625 [============================>.] - ETA: 0s - loss: 0.0053 - accuracy: 0.9987\n",
      "Epoch 41: val_accuracy did not improve from 0.88520\n",
      "625/625 [==============================] - 1s 2ms/step - loss: 0.0052 - accuracy: 0.9987 - val_loss: 1.1481 - val_accuracy: 0.8690\n",
      "Epoch 42/50\n",
      "602/625 [===========================>..] - ETA: 0s - loss: 0.0048 - accuracy: 0.9986\n",
      "Epoch 42: val_accuracy did not improve from 0.88520\n",
      "625/625 [==============================] - 1s 2ms/step - loss: 0.0047 - accuracy: 0.9986 - val_loss: 1.2138 - val_accuracy: 0.8726\n",
      "Epoch 43/50\n",
      "623/625 [============================>.] - ETA: 0s - loss: 0.0049 - accuracy: 0.9986\n",
      "Epoch 43: val_accuracy did not improve from 0.88520\n",
      "625/625 [==============================] - 1s 2ms/step - loss: 0.0048 - accuracy: 0.9986 - val_loss: 1.1702 - val_accuracy: 0.8704\n",
      "Epoch 44/50\n",
      "605/625 [============================>.] - ETA: 0s - loss: 0.0040 - accuracy: 0.9990\n",
      "Epoch 44: val_accuracy did not improve from 0.88520\n",
      "625/625 [==============================] - 2s 2ms/step - loss: 0.0039 - accuracy: 0.9991 - val_loss: 1.1907 - val_accuracy: 0.8732\n",
      "Epoch 45/50\n",
      "616/625 [============================>.] - ETA: 0s - loss: 0.0028 - accuracy: 0.9993\n",
      "Epoch 45: val_accuracy did not improve from 0.88520\n",
      "625/625 [==============================] - 1s 2ms/step - loss: 0.0028 - accuracy: 0.9994 - val_loss: 1.2958 - val_accuracy: 0.8724\n",
      "Epoch 46/50\n",
      "618/625 [============================>.] - ETA: 0s - loss: 0.0042 - accuracy: 0.9989\n",
      "Epoch 46: val_accuracy did not improve from 0.88520\n",
      "625/625 [==============================] - 2s 2ms/step - loss: 0.0041 - accuracy: 0.9990 - val_loss: 1.3215 - val_accuracy: 0.8678\n",
      "Epoch 47/50\n",
      "622/625 [============================>.] - ETA: 0s - loss: 0.0033 - accuracy: 0.9989\n",
      "Epoch 47: val_accuracy did not improve from 0.88520\n",
      "625/625 [==============================] - 1s 2ms/step - loss: 0.0036 - accuracy: 0.9989 - val_loss: 1.2149 - val_accuracy: 0.8690\n",
      "Epoch 48/50\n",
      "621/625 [============================>.] - ETA: 0s - loss: 0.0035 - accuracy: 0.9991\n",
      "Epoch 48: val_accuracy did not improve from 0.88520\n",
      "625/625 [==============================] - 1s 2ms/step - loss: 0.0034 - accuracy: 0.9991 - val_loss: 1.2637 - val_accuracy: 0.8636\n",
      "Epoch 49/50\n",
      "610/625 [============================>.] - ETA: 0s - loss: 0.0022 - accuracy: 0.9993\n",
      "Epoch 49: val_accuracy did not improve from 0.88520\n",
      "625/625 [==============================] - 1s 2ms/step - loss: 0.0022 - accuracy: 0.9994 - val_loss: 1.3816 - val_accuracy: 0.8652\n",
      "Epoch 50/50\n",
      "603/625 [===========================>..] - ETA: 0s - loss: 0.0048 - accuracy: 0.9985\n",
      "Epoch 50: val_accuracy did not improve from 0.88520\n",
      "625/625 [==============================] - 1s 2ms/step - loss: 0.0048 - accuracy: 0.9985 - val_loss: 1.3915 - val_accuracy: 0.8658\n"
     ]
    },
    {
     "data": {
      "text/plain": [
       "<keras.callbacks.History at 0x1ab6dc89250>"
      ]
     },
     "execution_count": 68,
     "metadata": {},
     "output_type": "execute_result"
    }
   ],
   "source": [
    "model.compile('adam', loss=BinaryCrossentropy(), metrics='accuracy')\n",
    "\n",
    "model.fit(x=train_x,\n",
    "         y=train_y,\n",
    "         batch_size=32,\n",
    "         epochs=50,\n",
    "         validation_data=(val_x, val_y),\n",
    "         callbacks=callbacks)"
   ]
  },
  {
   "cell_type": "code",
   "execution_count": 69,
   "id": "e3f2b752",
   "metadata": {},
   "outputs": [
    {
     "data": {
      "text/plain": [
       "<tensorflow.python.training.tracking.util.CheckpointLoadStatus at 0x1ab6d6b1040>"
      ]
     },
     "execution_count": 69,
     "metadata": {},
     "output_type": "execute_result"
    }
   ],
   "source": [
    "model.load_weights('./models_count_ffnn/checkpoint')"
   ]
  },
  {
   "cell_type": "code",
   "execution_count": 70,
   "id": "bf3c585e",
   "metadata": {},
   "outputs": [
    {
     "name": "stdout",
     "output_type": "stream",
     "text": [
      "f1 : 0.9458128078817734\n",
      "acc: 0.945\n"
     ]
    },
    {
     "data": {
      "image/png": "[encoded data removed]",
      "text/plain": [
       "<Figure size 432x288 with 2 Axes>"
      ]
     },
     "metadata": {
      "needs_background": "light"
     },
     "output_type": "display_data"
    }
   ],
   "source": [
    "predict_result(model, train_x[:1000], train_y[:1000])"
   ]
  },
  {
   "cell_type": "code",
   "execution_count": 71,
   "id": "209bf425",
   "metadata": {},
   "outputs": [
    {
     "name": "stdout",
     "output_type": "stream",
     "text": [
      "f1 : 0.86396061908139\n",
      "acc: 0.86956\n"
     ]
    },
    {
     "data": {
      "image/png": "[encoded data removed]",
      "text/plain": [
       "<Figure size 432x288 with 2 Axes>"
      ]
     },
     "metadata": {
      "needs_background": "light"
     },
     "output_type": "display_data"
    }
   ],
   "source": [
    "predict_result(model, test_x, test_y)"
   ]
  },
  {
   "cell_type": "markdown",
   "id": "782b5dc4",
   "metadata": {},
   "source": [
    "# Feature 1 (TF-IDF)"
   ]
  },
  {
   "cell_type": "code",
   "execution_count": 6,
   "id": "bfd72403",
   "metadata": {},
   "outputs": [],
   "source": [
    "def get_tfidf_vector_and_one_hot(df):\n",
    "    x = tfidf_vectorizer.transform(df['text'].values).todense()\n",
    "    x = pd.DataFrame(x)\n",
    "    y = df['label'].apply(one_hot).tolist()\n",
    "    y = np.array(y)\n",
    "    return x, y"
   ]
  },
  {
   "cell_type": "code",
   "execution_count": 51,
   "id": "8038418b",
   "metadata": {},
   "outputs": [],
   "source": [
    "train_val_x, train_val_y = get_tfidf_vector_and_one_hot(train_df)\n",
    "test_x, test_y = get_tfidf_vector_and_one_hot(test_df)"
   ]
  },
  {
   "cell_type": "code",
   "execution_count": 52,
   "id": "ab328908",
   "metadata": {},
   "outputs": [],
   "source": [
    "train_x, val_x = train_val_x[:train_len], train_val_x[train_len:]\n",
    "train_y, val_y = train_val_y[:train_len], train_val_y[train_len:]"
   ]
  },
  {
   "cell_type": "markdown",
   "id": "aedefd3d",
   "metadata": {},
   "source": [
    "# Model 1 (FFNN w TF-IDF)"
   ]
  },
  {
   "cell_type": "code",
   "execution_count": null,
   "id": "f7c3793f",
   "metadata": {},
   "outputs": [],
   "source": [
    "model = Sequential([\n",
    "    Dense(64, input_shape=(train_x.shape[1],), activation='relu'),\n",
    "    Dropout(0.3),\n",
    "    Dense(64, activation='relu'),\n",
    "    Dropout(0.3),\n",
    "    Dense(2, activation='sigmoid')\n",
    "])\n",
    "\n",
    "callbacks=[\n",
    "    ModelCheckpoint(filepath='./models_tfidf_ffnn/checkpoint',\n",
    "                   save_best_only=True, save_weights_only=True, verbose=1,monitor='val_accuracy')\n",
    "]\n",
    "\n",
    "model.summary()"
   ]
  },
  {
   "cell_type": "code",
   "execution_count": 58,
   "id": "85da1409",
   "metadata": {},
   "outputs": [
    {
     "name": "stdout",
     "output_type": "stream",
     "text": [
      "Epoch 1/50\n",
      "607/625 [============================>.] - ETA: 0s - loss: 0.1726 - accuracy: 0.9354\n",
      "Epoch 1: val_accuracy did not improve from 0.89100\n",
      "625/625 [==============================] - 2s 3ms/step - loss: 0.1731 - accuracy: 0.9352 - val_loss: 0.2951 - val_accuracy: 0.8874\n",
      "Epoch 2/50\n",
      "619/625 [============================>.] - ETA: 0s - loss: 0.0937 - accuracy: 0.9666\n",
      "Epoch 2: val_accuracy did not improve from 0.89100\n",
      "625/625 [==============================] - 2s 2ms/step - loss: 0.0942 - accuracy: 0.9664 - val_loss: 0.3586 - val_accuracy: 0.8814\n",
      "Epoch 3/50\n",
      "609/625 [============================>.] - ETA: 0s - loss: 0.0417 - accuracy: 0.9865\n",
      "Epoch 3: val_accuracy did not improve from 0.89100\n",
      "625/625 [==============================] - 2s 2ms/step - loss: 0.0419 - accuracy: 0.9865 - val_loss: 0.5274 - val_accuracy: 0.8812\n",
      "Epoch 4/50\n",
      "623/625 [============================>.] - ETA: 0s - loss: 0.0197 - accuracy: 0.9937\n",
      "Epoch 4: val_accuracy did not improve from 0.89100\n",
      "625/625 [==============================] - 2s 3ms/step - loss: 0.0197 - accuracy: 0.9937 - val_loss: 0.6772 - val_accuracy: 0.8732\n",
      "Epoch 5/50\n",
      "618/625 [============================>.] - ETA: 0s - loss: 0.0120 - accuracy: 0.9967\n",
      "Epoch 5: val_accuracy did not improve from 0.89100\n",
      "625/625 [==============================] - 2s 2ms/step - loss: 0.0121 - accuracy: 0.9966 - val_loss: 0.7781 - val_accuracy: 0.8778\n",
      "Epoch 6/50\n",
      "622/625 [============================>.] - ETA: 0s - loss: 0.0093 - accuracy: 0.9972\n",
      "Epoch 6: val_accuracy did not improve from 0.89100\n",
      "625/625 [==============================] - 2s 2ms/step - loss: 0.0094 - accuracy: 0.9972 - val_loss: 0.8269 - val_accuracy: 0.8752\n",
      "Epoch 7/50\n",
      "603/625 [===========================>..] - ETA: 0s - loss: 0.0103 - accuracy: 0.9963\n",
      "Epoch 7: val_accuracy did not improve from 0.89100\n",
      "625/625 [==============================] - 2s 2ms/step - loss: 0.0106 - accuracy: 0.9962 - val_loss: 0.9300 - val_accuracy: 0.8694\n",
      "Epoch 8/50\n",
      "621/625 [============================>.] - ETA: 0s - loss: 0.0095 - accuracy: 0.9966\n",
      "Epoch 8: val_accuracy did not improve from 0.89100\n",
      "625/625 [==============================] - 2s 2ms/step - loss: 0.0095 - accuracy: 0.9966 - val_loss: 0.8369 - val_accuracy: 0.8736\n",
      "Epoch 9/50\n",
      "616/625 [============================>.] - ETA: 0s - loss: 0.0092 - accuracy: 0.9968\n",
      "Epoch 9: val_accuracy did not improve from 0.89100\n",
      "625/625 [==============================] - 2s 3ms/step - loss: 0.0092 - accuracy: 0.9968 - val_loss: 0.8713 - val_accuracy: 0.8724\n",
      "Epoch 10/50\n",
      "613/625 [============================>.] - ETA: 0s - loss: 0.0071 - accuracy: 0.9970\n",
      "Epoch 10: val_accuracy did not improve from 0.89100\n",
      "625/625 [==============================] - 2s 2ms/step - loss: 0.0072 - accuracy: 0.9969 - val_loss: 0.8881 - val_accuracy: 0.8758\n",
      "Epoch 11/50\n",
      "601/625 [===========================>..] - ETA: 0s - loss: 0.0068 - accuracy: 0.9975\n",
      "Epoch 11: val_accuracy did not improve from 0.89100\n",
      "625/625 [==============================] - 2s 2ms/step - loss: 0.0067 - accuracy: 0.9975 - val_loss: 0.9393 - val_accuracy: 0.8702\n",
      "Epoch 12/50\n",
      "614/625 [============================>.] - ETA: 0s - loss: 0.0055 - accuracy: 0.9980\n",
      "Epoch 12: val_accuracy did not improve from 0.89100\n",
      "625/625 [==============================] - 2s 2ms/step - loss: 0.0055 - accuracy: 0.9980 - val_loss: 0.9421 - val_accuracy: 0.8712\n",
      "Epoch 13/50\n",
      "616/625 [============================>.] - ETA: 0s - loss: 0.0060 - accuracy: 0.9978\n",
      "Epoch 13: val_accuracy did not improve from 0.89100\n",
      "625/625 [==============================] - 2s 2ms/step - loss: 0.0060 - accuracy: 0.9979 - val_loss: 1.0507 - val_accuracy: 0.8732\n",
      "Epoch 14/50\n",
      "614/625 [============================>.] - ETA: 0s - loss: 0.0056 - accuracy: 0.9978\n",
      "Epoch 14: val_accuracy did not improve from 0.89100\n",
      "625/625 [==============================] - 2s 3ms/step - loss: 0.0055 - accuracy: 0.9979 - val_loss: 0.9739 - val_accuracy: 0.8760\n",
      "Epoch 15/50\n",
      "619/625 [============================>.] - ETA: 0s - loss: 0.0082 - accuracy: 0.9971\n",
      "Epoch 15: val_accuracy did not improve from 0.89100\n",
      "625/625 [==============================] - 2s 2ms/step - loss: 0.0081 - accuracy: 0.9972 - val_loss: 0.8696 - val_accuracy: 0.8750\n",
      "Epoch 16/50\n",
      "624/625 [============================>.] - ETA: 0s - loss: 0.0048 - accuracy: 0.9980\n",
      "Epoch 16: val_accuracy did not improve from 0.89100\n",
      "625/625 [==============================] - 2s 2ms/step - loss: 0.0048 - accuracy: 0.9980 - val_loss: 0.9974 - val_accuracy: 0.8746\n",
      "Epoch 17/50\n",
      "602/625 [===========================>..] - ETA: 0s - loss: 0.0036 - accuracy: 0.9986\n",
      "Epoch 17: val_accuracy did not improve from 0.89100\n",
      "625/625 [==============================] - 1s 2ms/step - loss: 0.0036 - accuracy: 0.9986 - val_loss: 1.0602 - val_accuracy: 0.8730\n",
      "Epoch 18/50\n",
      "601/625 [===========================>..] - ETA: 0s - loss: 0.0026 - accuracy: 0.9988\n",
      "Epoch 18: val_accuracy did not improve from 0.89100\n",
      "625/625 [==============================] - 1s 2ms/step - loss: 0.0025 - accuracy: 0.9988 - val_loss: 1.2201 - val_accuracy: 0.8714\n",
      "Epoch 19/50\n",
      "619/625 [============================>.] - ETA: 0s - loss: 0.0054 - accuracy: 0.9981\n",
      "Epoch 19: val_accuracy did not improve from 0.89100\n",
      "625/625 [==============================] - 1s 2ms/step - loss: 0.0058 - accuracy: 0.9980 - val_loss: 0.9811 - val_accuracy: 0.8780\n",
      "Epoch 20/50\n",
      "624/625 [============================>.] - ETA: 0s - loss: 0.0051 - accuracy: 0.9982\n",
      "Epoch 20: val_accuracy did not improve from 0.89100\n",
      "625/625 [==============================] - 1s 2ms/step - loss: 0.0051 - accuracy: 0.9983 - val_loss: 1.0963 - val_accuracy: 0.8690\n",
      "Epoch 21/50\n",
      "620/625 [============================>.] - ETA: 0s - loss: 0.0029 - accuracy: 0.9990\n",
      "Epoch 21: val_accuracy did not improve from 0.89100\n",
      "625/625 [==============================] - 1s 2ms/step - loss: 0.0029 - accuracy: 0.9990 - val_loss: 1.1374 - val_accuracy: 0.8716\n",
      "Epoch 22/50\n",
      "618/625 [============================>.] - ETA: 0s - loss: 0.0033 - accuracy: 0.9985\n",
      "Epoch 22: val_accuracy did not improve from 0.89100\n",
      "625/625 [==============================] - 1s 2ms/step - loss: 0.0033 - accuracy: 0.9985 - val_loss: 1.1265 - val_accuracy: 0.8736\n",
      "Epoch 23/50\n",
      "610/625 [============================>.] - ETA: 0s - loss: 0.0032 - accuracy: 0.9987\n",
      "Epoch 23: val_accuracy did not improve from 0.89100\n",
      "625/625 [==============================] - 1s 2ms/step - loss: 0.0031 - accuracy: 0.9987 - val_loss: 1.0449 - val_accuracy: 0.8728\n",
      "Epoch 24/50\n",
      "604/625 [===========================>..] - ETA: 0s - loss: 0.0032 - accuracy: 0.9986\n",
      "Epoch 24: val_accuracy did not improve from 0.89100\n",
      "625/625 [==============================] - 1s 2ms/step - loss: 0.0032 - accuracy: 0.9986 - val_loss: 1.1949 - val_accuracy: 0.8728\n",
      "Epoch 25/50\n",
      "603/625 [===========================>..] - ETA: 0s - loss: 0.0035 - accuracy: 0.9987\n",
      "Epoch 25: val_accuracy did not improve from 0.89100\n",
      "625/625 [==============================] - 1s 2ms/step - loss: 0.0035 - accuracy: 0.9987 - val_loss: 1.1319 - val_accuracy: 0.8728\n",
      "Epoch 26/50\n",
      "604/625 [===========================>..] - ETA: 0s - loss: 0.0028 - accuracy: 0.9987\n",
      "Epoch 26: val_accuracy did not improve from 0.89100\n",
      "625/625 [==============================] - 1s 2ms/step - loss: 0.0027 - accuracy: 0.9987 - val_loss: 1.2242 - val_accuracy: 0.8644\n",
      "Epoch 27/50\n",
      "618/625 [============================>.] - ETA: 0s - loss: 0.0016 - accuracy: 0.9992\n",
      "Epoch 27: val_accuracy did not improve from 0.89100\n",
      "625/625 [==============================] - 1s 2ms/step - loss: 0.0016 - accuracy: 0.9992 - val_loss: 1.3225 - val_accuracy: 0.8714\n",
      "Epoch 28/50\n",
      "608/625 [============================>.] - ETA: 0s - loss: 0.0019 - accuracy: 0.9993\n",
      "Epoch 28: val_accuracy did not improve from 0.89100\n",
      "625/625 [==============================] - 1s 2ms/step - loss: 0.0019 - accuracy: 0.9994 - val_loss: 1.3120 - val_accuracy: 0.8752\n",
      "Epoch 29/50\n",
      "618/625 [============================>.] - ETA: 0s - loss: 0.0047 - accuracy: 0.9982\n",
      "Epoch 29: val_accuracy did not improve from 0.89100\n",
      "625/625 [==============================] - 1s 2ms/step - loss: 0.0047 - accuracy: 0.9983 - val_loss: 1.0954 - val_accuracy: 0.8750\n",
      "Epoch 30/50\n",
      "611/625 [============================>.] - ETA: 0s - loss: 0.0029 - accuracy: 0.9989\n",
      "Epoch 30: val_accuracy did not improve from 0.89100\n",
      "625/625 [==============================] - 1s 2ms/step - loss: 0.0029 - accuracy: 0.9988 - val_loss: 1.2455 - val_accuracy: 0.8726\n",
      "Epoch 31/50\n",
      "624/625 [============================>.] - ETA: 0s - loss: 0.0052 - accuracy: 0.9985\n",
      "Epoch 31: val_accuracy did not improve from 0.89100\n",
      "625/625 [==============================] - 1s 2ms/step - loss: 0.0052 - accuracy: 0.9985 - val_loss: 1.0453 - val_accuracy: 0.8716\n",
      "Epoch 32/50\n",
      "607/625 [============================>.] - ETA: 0s - loss: 0.0022 - accuracy: 0.9990\n",
      "Epoch 32: val_accuracy did not improve from 0.89100\n",
      "625/625 [==============================] - 2s 2ms/step - loss: 0.0022 - accuracy: 0.9990 - val_loss: 1.2421 - val_accuracy: 0.8726\n",
      "Epoch 33/50\n",
      "602/625 [===========================>..] - ETA: 0s - loss: 0.0024 - accuracy: 0.9992\n",
      "Epoch 33: val_accuracy did not improve from 0.89100\n",
      "625/625 [==============================] - 1s 2ms/step - loss: 0.0024 - accuracy: 0.9992 - val_loss: 1.2323 - val_accuracy: 0.8710\n",
      "Epoch 34/50\n",
      "613/625 [============================>.] - ETA: 0s - loss: 0.0031 - accuracy: 0.9988\n",
      "Epoch 34: val_accuracy did not improve from 0.89100\n",
      "625/625 [==============================] - 2s 2ms/step - loss: 0.0035 - accuracy: 0.9987 - val_loss: 1.2048 - val_accuracy: 0.8546\n",
      "Epoch 35/50\n",
      "620/625 [============================>.] - ETA: 0s - loss: 0.0022 - accuracy: 0.9991\n",
      "Epoch 35: val_accuracy did not improve from 0.89100\n",
      "625/625 [==============================] - 1s 2ms/step - loss: 0.0022 - accuracy: 0.9991 - val_loss: 1.2375 - val_accuracy: 0.8696\n",
      "Epoch 36/50\n",
      "607/625 [============================>.] - ETA: 0s - loss: 0.0026 - accuracy: 0.9989\n",
      "Epoch 36: val_accuracy did not improve from 0.89100\n",
      "625/625 [==============================] - 1s 2ms/step - loss: 0.0027 - accuracy: 0.9989 - val_loss: 1.1606 - val_accuracy: 0.8672\n",
      "Epoch 37/50\n",
      "608/625 [============================>.] - ETA: 0s - loss: 0.0021 - accuracy: 0.9990\n",
      "Epoch 37: val_accuracy did not improve from 0.89100\n",
      "625/625 [==============================] - 2s 2ms/step - loss: 0.0021 - accuracy: 0.9991 - val_loss: 1.3427 - val_accuracy: 0.8694\n",
      "Epoch 38/50\n",
      "622/625 [============================>.] - ETA: 0s - loss: 0.0025 - accuracy: 0.9990\n",
      "Epoch 38: val_accuracy did not improve from 0.89100\n",
      "625/625 [==============================] - 2s 2ms/step - loss: 0.0025 - accuracy: 0.9990 - val_loss: 1.3129 - val_accuracy: 0.8712\n",
      "Epoch 39/50\n",
      "620/625 [============================>.] - ETA: 0s - loss: 0.0021 - accuracy: 0.9992\n",
      "Epoch 39: val_accuracy did not improve from 0.89100\n",
      "625/625 [==============================] - 2s 3ms/step - loss: 0.0021 - accuracy: 0.9992 - val_loss: 1.4576 - val_accuracy: 0.8652\n",
      "Epoch 40/50\n",
      "621/625 [============================>.] - ETA: 0s - loss: 0.0026 - accuracy: 0.9988\n",
      "Epoch 40: val_accuracy did not improve from 0.89100\n",
      "625/625 [==============================] - 2s 3ms/step - loss: 0.0026 - accuracy: 0.9988 - val_loss: 1.3377 - val_accuracy: 0.8680\n",
      "Epoch 41/50\n",
      "603/625 [===========================>..] - ETA: 0s - loss: 0.0027 - accuracy: 0.9990\n",
      "Epoch 41: val_accuracy did not improve from 0.89100\n",
      "625/625 [==============================] - 2s 2ms/step - loss: 0.0028 - accuracy: 0.9990 - val_loss: 1.2526 - val_accuracy: 0.8680\n",
      "Epoch 42/50\n",
      "620/625 [============================>.] - ETA: 0s - loss: 0.0022 - accuracy: 0.9991\n",
      "Epoch 42: val_accuracy did not improve from 0.89100\n",
      "625/625 [==============================] - 2s 3ms/step - loss: 0.0022 - accuracy: 0.9991 - val_loss: 1.2949 - val_accuracy: 0.8654\n",
      "Epoch 43/50\n",
      "621/625 [============================>.] - ETA: 0s - loss: 0.0030 - accuracy: 0.9991\n",
      "Epoch 43: val_accuracy did not improve from 0.89100\n",
      "625/625 [==============================] - 2s 2ms/step - loss: 0.0030 - accuracy: 0.9991 - val_loss: 1.2956 - val_accuracy: 0.8692\n",
      "Epoch 44/50\n",
      "611/625 [============================>.] - ETA: 0s - loss: 0.0023 - accuracy: 0.9992\n",
      "Epoch 44: val_accuracy did not improve from 0.89100\n",
      "625/625 [==============================] - 2s 3ms/step - loss: 0.0023 - accuracy: 0.9992 - val_loss: 1.3689 - val_accuracy: 0.8692\n",
      "Epoch 45/50\n",
      "617/625 [============================>.] - ETA: 0s - loss: 0.0022 - accuracy: 0.9992\n",
      "Epoch 45: val_accuracy did not improve from 0.89100\n",
      "625/625 [==============================] - 2s 3ms/step - loss: 0.0022 - accuracy: 0.9992 - val_loss: 1.3395 - val_accuracy: 0.8682\n",
      "Epoch 46/50\n",
      "619/625 [============================>.] - ETA: 0s - loss: 0.0032 - accuracy: 0.9992\n",
      "Epoch 46: val_accuracy did not improve from 0.89100\n",
      "625/625 [==============================] - 2s 3ms/step - loss: 0.0032 - accuracy: 0.9992 - val_loss: 1.2407 - val_accuracy: 0.8704\n",
      "Epoch 47/50\n",
      "620/625 [============================>.] - ETA: 0s - loss: 0.0049 - accuracy: 0.9986\n",
      "Epoch 47: val_accuracy did not improve from 0.89100\n",
      "625/625 [==============================] - 2s 3ms/step - loss: 0.0049 - accuracy: 0.9986 - val_loss: 1.1973 - val_accuracy: 0.8688\n",
      "Epoch 48/50\n",
      "602/625 [===========================>..] - ETA: 0s - loss: 0.0019 - accuracy: 0.9996\n",
      "Epoch 48: val_accuracy did not improve from 0.89100\n",
      "625/625 [==============================] - 2s 2ms/step - loss: 0.0019 - accuracy: 0.9995 - val_loss: 1.3748 - val_accuracy: 0.8678\n",
      "Epoch 49/50\n",
      "607/625 [============================>.] - ETA: 0s - loss: 0.0026 - accuracy: 0.9989\n",
      "Epoch 49: val_accuracy did not improve from 0.89100\n",
      "625/625 [==============================] - 2s 2ms/step - loss: 0.0033 - accuracy: 0.9989 - val_loss: 1.2548 - val_accuracy: 0.8708\n",
      "Epoch 50/50\n",
      "625/625 [==============================] - ETA: 0s - loss: 0.0026 - accuracy: 0.9991\n",
      "Epoch 50: val_accuracy did not improve from 0.89100\n",
      "625/625 [==============================] - 2s 2ms/step - loss: 0.0026 - accuracy: 0.9991 - val_loss: 1.3228 - val_accuracy: 0.8710\n"
     ]
    },
    {
     "data": {
      "text/plain": [
       "<keras.callbacks.History at 0x1ab1f711d00>"
      ]
     },
     "execution_count": 58,
     "metadata": {},
     "output_type": "execute_result"
    }
   ],
   "source": [
    "model.compile('adam', loss=BinaryCrossentropy(), metrics='accuracy')\n",
    "\n",
    "model.fit(x=train_x,\n",
    "         y=train_y,\n",
    "         batch_size=32,\n",
    "         epochs=50,\n",
    "         validation_data=(val_x, val_y),\n",
    "         callbacks=callbacks)"
   ]
  },
  {
   "cell_type": "code",
   "execution_count": 59,
   "id": "89080395",
   "metadata": {},
   "outputs": [
    {
     "data": {
      "text/plain": [
       "<tensorflow.python.training.tracking.util.CheckpointLoadStatus at 0x1ab1f6c5fd0>"
      ]
     },
     "execution_count": 59,
     "metadata": {},
     "output_type": "execute_result"
    }
   ],
   "source": [
    "model.load_weights('./models_tfidf_ffnn/checkpoint')"
   ]
  },
  {
   "cell_type": "code",
   "execution_count": 60,
   "id": "7a7cfc8c",
   "metadata": {},
   "outputs": [
    {
     "name": "stdout",
     "output_type": "stream",
     "text": [
      "f1 : 0.9585342333654773\n",
      "acc: 0.957\n"
     ]
    },
    {
     "data": {
      "image/png": "[encoded data removed]",
      "text/plain": [
       "<Figure size 432x288 with 2 Axes>"
      ]
     },
     "metadata": {
      "needs_background": "light"
     },
     "output_type": "display_data"
    }
   ],
   "source": [
    "predict_result(model, train_x[:1000], train_y[:1000])"
   ]
  },
  {
   "cell_type": "code",
   "execution_count": 61,
   "id": "369946eb",
   "metadata": {},
   "outputs": [
    {
     "name": "stdout",
     "output_type": "stream",
     "text": [
      "f1 : 0.8708578755459392\n",
      "acc: 0.87108\n"
     ]
    },
    {
     "data": {
      "image/png": "[encoded data removed]",
      "text/plain": [
       "<Figure size 432x288 with 2 Axes>"
      ]
     },
     "metadata": {
      "needs_background": "light"
     },
     "output_type": "display_data"
    }
   ],
   "source": [
    "predict_result(model, test_x, test_y)"
   ]
  },
  {
   "cell_type": "markdown",
   "id": "8537ab76",
   "metadata": {},
   "source": [
    "# Feature 2 (Spacy document vector)"
   ]
  },
  {
   "cell_type": "code",
   "execution_count": 14,
   "id": "2bc1c49d",
   "metadata": {},
   "outputs": [],
   "source": [
    "def get_spacy_vector_and_one_hot(df):\n",
    "    text_list = df['text'].to_list()\n",
    "    x = []\n",
    "    for doc in tqdm_notebook(nlp.pipe(text_list, disable=[\"tagger\", \"parser\", \"lemmatizer\", 'attribute_ruler', 'ner']),total=len(text_list) ):\n",
    "        x.append(doc.vector)\n",
    "    x = pd.DataFrame(x)\n",
    "    y = df['label'].apply(one_hot).tolist()\n",
    "    y = np.array(y)\n",
    "    return x, y"
   ]
  },
  {
   "cell_type": "code",
   "execution_count": 15,
   "id": "417ebdc0",
   "metadata": {},
   "outputs": [
    {
     "data": {
      "application/vnd.jupyter.widget-view+json": {
       "model_id": "1d7a596a04304b4ab5a6ac2133565daf",
       "version_major": 2,
       "version_minor": 0
      },
      "text/plain": [
       "  0%|          | 0/25000 [00:00<?, ?it/s]"
      ]
     },
     "metadata": {},
     "output_type": "display_data"
    },
    {
     "data": {
      "application/vnd.jupyter.widget-view+json": {
       "model_id": "0da53371cc1545e0b5c71509ce192679",
       "version_major": 2,
       "version_minor": 0
      },
      "text/plain": [
       "  0%|          | 0/25000 [00:00<?, ?it/s]"
      ]
     },
     "metadata": {},
     "output_type": "display_data"
    }
   ],
   "source": [
    "train_val_x, train_val_y = get_spacy_vector_and_one_hot(train_df)\n",
    "test_x, test_y = get_spacy_vector_and_one_hot(test_df)"
   ]
  },
  {
   "cell_type": "markdown",
   "id": "ae9c6db6",
   "metadata": {},
   "source": [
    "# Splitting training data into train and validation set"
   ]
  },
  {
   "cell_type": "code",
   "execution_count": 16,
   "id": "f4046f07",
   "metadata": {},
   "outputs": [],
   "source": [
    "train_x, val_x = train_val_x[:train_len], train_val_x[train_len:]\n",
    "train_y, val_y = train_val_y[:train_len], train_val_y[train_len:]"
   ]
  },
  {
   "cell_type": "markdown",
   "id": "4d7254df",
   "metadata": {},
   "source": [
    "# Model 2 (FFNN w Spacy Doc Vector)"
   ]
  },
  {
   "cell_type": "code",
   "execution_count": 17,
   "id": "43e85f02",
   "metadata": {},
   "outputs": [
    {
     "name": "stdout",
     "output_type": "stream",
     "text": [
      "Model: \"sequential_1\"\n",
      "_________________________________________________________________\n",
      " Layer (type)                Output Shape              Param #   \n",
      "=================================================================\n",
      " dense_4 (Dense)             (None, 512)               154112    \n",
      "                                                                 \n",
      " dense_5 (Dense)             (None, 1024)              525312    \n",
      "                                                                 \n",
      " dropout_2 (Dropout)         (None, 1024)              0         \n",
      "                                                                 \n",
      " dense_6 (Dense)             (None, 512)               524800    \n",
      "                                                                 \n",
      " dense_7 (Dense)             (None, 2)                 1026      \n",
      "                                                                 \n",
      "=================================================================\n",
      "Total params: 1,205,250\n",
      "Trainable params: 1,205,250\n",
      "Non-trainable params: 0\n",
      "_________________________________________________________________\n"
     ]
    }
   ],
   "source": [
    "model = Sequential([\n",
    "    Dense(512, input_shape=(300,), activation='relu'),\n",
    "    Dense(1024, activation='relu'),\n",
    "    Dropout(0.3),\n",
    "    Dense(512, activation='relu'),\n",
    "    Dense(2, activation='sigmoid')\n",
    "])\n",
    "\n",
    "callbacks=[\n",
    "    ModelCheckpoint(filepath='./models_spacy_ffnn/checkpoint',\n",
    "                   save_best_only=True, save_weights_only=True, verbose=1,monitor='val_accuracy')\n",
    "]\n",
    "\n",
    "model.summary()"
   ]
  },
  {
   "cell_type": "code",
   "execution_count": 18,
   "id": "f73a5cec",
   "metadata": {},
   "outputs": [
    {
     "name": "stdout",
     "output_type": "stream",
     "text": [
      "Epoch 1/50\n",
      "612/625 [============================>.] - ETA: 0s - loss: 0.3985 - accuracy: 0.8200\n",
      "Epoch 1: val_accuracy improved from -inf to 0.84920, saving model to ./models_spacy_ffnn\\checkpoint\n",
      "625/625 [==============================] - 2s 3ms/step - loss: 0.3982 - accuracy: 0.8199 - val_loss: 0.3529 - val_accuracy: 0.8492\n",
      "Epoch 2/50\n",
      "611/625 [============================>.] - ETA: 0s - loss: 0.3532 - accuracy: 0.8489\n",
      "Epoch 2: val_accuracy did not improve from 0.84920\n",
      "625/625 [==============================] - 1s 2ms/step - loss: 0.3540 - accuracy: 0.8484 - val_loss: 0.3646 - val_accuracy: 0.8422\n",
      "Epoch 3/50\n",
      "615/625 [============================>.] - ETA: 0s - loss: 0.3416 - accuracy: 0.8532\n",
      "Epoch 3: val_accuracy did not improve from 0.84920\n",
      "625/625 [==============================] - 1s 2ms/step - loss: 0.3418 - accuracy: 0.8530 - val_loss: 0.3580 - val_accuracy: 0.8388\n",
      "Epoch 4/50\n",
      "609/625 [============================>.] - ETA: 0s - loss: 0.3302 - accuracy: 0.8573\n",
      "Epoch 4: val_accuracy improved from 0.84920 to 0.85780, saving model to ./models_spacy_ffnn\\checkpoint\n",
      "625/625 [==============================] - 2s 3ms/step - loss: 0.3312 - accuracy: 0.8564 - val_loss: 0.3445 - val_accuracy: 0.8578\n",
      "Epoch 5/50\n",
      "612/625 [============================>.] - ETA: 0s - loss: 0.3241 - accuracy: 0.8646\n",
      "Epoch 5: val_accuracy improved from 0.85780 to 0.85860, saving model to ./models_spacy_ffnn\\checkpoint\n",
      "625/625 [==============================] - 2s 3ms/step - loss: 0.3229 - accuracy: 0.8650 - val_loss: 0.3399 - val_accuracy: 0.8586\n",
      "Epoch 6/50\n",
      "624/625 [============================>.] - ETA: 0s - loss: 0.3100 - accuracy: 0.8688\n",
      "Epoch 6: val_accuracy did not improve from 0.85860\n",
      "625/625 [==============================] - 1s 2ms/step - loss: 0.3100 - accuracy: 0.8688 - val_loss: 0.3611 - val_accuracy: 0.8442\n",
      "Epoch 7/50\n",
      "597/625 [===========================>..] - ETA: 0s - loss: 0.2955 - accuracy: 0.8747\n",
      "Epoch 7: val_accuracy did not improve from 0.85860\n",
      "625/625 [==============================] - 1s 2ms/step - loss: 0.2962 - accuracy: 0.8744 - val_loss: 0.3396 - val_accuracy: 0.8554\n",
      "Epoch 8/50\n",
      "603/625 [===========================>..] - ETA: 0s - loss: 0.2880 - accuracy: 0.8779\n",
      "Epoch 8: val_accuracy did not improve from 0.85860\n",
      "625/625 [==============================] - 1s 2ms/step - loss: 0.2871 - accuracy: 0.8786 - val_loss: 0.3750 - val_accuracy: 0.8566\n",
      "Epoch 9/50\n",
      "613/625 [============================>.] - ETA: 0s - loss: 0.2738 - accuracy: 0.8839\n",
      "Epoch 9: val_accuracy did not improve from 0.85860\n",
      "625/625 [==============================] - 1s 2ms/step - loss: 0.2738 - accuracy: 0.8838 - val_loss: 0.3435 - val_accuracy: 0.8568\n",
      "Epoch 10/50\n",
      "618/625 [============================>.] - ETA: 0s - loss: 0.2565 - accuracy: 0.8911\n",
      "Epoch 10: val_accuracy did not improve from 0.85860\n",
      "625/625 [==============================] - 1s 2ms/step - loss: 0.2562 - accuracy: 0.8915 - val_loss: 0.3796 - val_accuracy: 0.8462\n",
      "Epoch 11/50\n",
      "625/625 [==============================] - ETA: 0s - loss: 0.2428 - accuracy: 0.8990\n",
      "Epoch 11: val_accuracy did not improve from 0.85860\n",
      "625/625 [==============================] - 1s 2ms/step - loss: 0.2428 - accuracy: 0.8990 - val_loss: 0.3823 - val_accuracy: 0.8562\n",
      "Epoch 12/50\n",
      "624/625 [============================>.] - ETA: 0s - loss: 0.2235 - accuracy: 0.9080\n",
      "Epoch 12: val_accuracy did not improve from 0.85860\n",
      "625/625 [==============================] - 1s 2ms/step - loss: 0.2234 - accuracy: 0.9081 - val_loss: 0.3981 - val_accuracy: 0.8472\n",
      "Epoch 13/50\n",
      "614/625 [============================>.] - ETA: 0s - loss: 0.2113 - accuracy: 0.9128\n",
      "Epoch 13: val_accuracy did not improve from 0.85860\n",
      "625/625 [==============================] - 1s 2ms/step - loss: 0.2114 - accuracy: 0.9125 - val_loss: 0.3877 - val_accuracy: 0.8494\n",
      "Epoch 14/50\n",
      "620/625 [============================>.] - ETA: 0s - loss: 0.1928 - accuracy: 0.9213\n",
      "Epoch 14: val_accuracy did not improve from 0.85860\n",
      "625/625 [==============================] - 1s 2ms/step - loss: 0.1929 - accuracy: 0.9214 - val_loss: 0.4485 - val_accuracy: 0.8426\n",
      "Epoch 15/50\n",
      "600/625 [===========================>..] - ETA: 0s - loss: 0.1808 - accuracy: 0.9269\n",
      "Epoch 15: val_accuracy did not improve from 0.85860\n",
      "625/625 [==============================] - 1s 2ms/step - loss: 0.1812 - accuracy: 0.9263 - val_loss: 0.4670 - val_accuracy: 0.8444\n",
      "Epoch 16/50\n",
      "606/625 [============================>.] - ETA: 0s - loss: 0.1690 - accuracy: 0.9328\n",
      "Epoch 16: val_accuracy did not improve from 0.85860\n",
      "625/625 [==============================] - 1s 2ms/step - loss: 0.1694 - accuracy: 0.9325 - val_loss: 0.4723 - val_accuracy: 0.8468\n",
      "Epoch 17/50\n",
      "599/625 [===========================>..] - ETA: 0s - loss: 0.1573 - accuracy: 0.9372\n",
      "Epoch 17: val_accuracy did not improve from 0.85860\n",
      "625/625 [==============================] - 1s 2ms/step - loss: 0.1568 - accuracy: 0.9376 - val_loss: 0.5275 - val_accuracy: 0.8422\n",
      "Epoch 18/50\n",
      "604/625 [===========================>..] - ETA: 0s - loss: 0.1426 - accuracy: 0.9439\n",
      "Epoch 18: val_accuracy did not improve from 0.85860\n",
      "625/625 [==============================] - 1s 2ms/step - loss: 0.1437 - accuracy: 0.9434 - val_loss: 0.5058 - val_accuracy: 0.8474\n",
      "Epoch 19/50\n",
      "612/625 [============================>.] - ETA: 0s - loss: 0.1312 - accuracy: 0.9488\n",
      "Epoch 19: val_accuracy did not improve from 0.85860\n",
      "625/625 [==============================] - 1s 2ms/step - loss: 0.1319 - accuracy: 0.9487 - val_loss: 0.5948 - val_accuracy: 0.8384\n",
      "Epoch 20/50\n",
      "621/625 [============================>.] - ETA: 0s - loss: 0.1270 - accuracy: 0.9490\n",
      "Epoch 20: val_accuracy did not improve from 0.85860\n",
      "625/625 [==============================] - 1s 2ms/step - loss: 0.1269 - accuracy: 0.9490 - val_loss: 0.6183 - val_accuracy: 0.8346\n",
      "Epoch 21/50\n",
      "615/625 [============================>.] - ETA: 0s - loss: 0.1162 - accuracy: 0.9549\n",
      "Epoch 21: val_accuracy did not improve from 0.85860\n",
      "625/625 [==============================] - 1s 2ms/step - loss: 0.1158 - accuracy: 0.9550 - val_loss: 0.6535 - val_accuracy: 0.8496\n",
      "Epoch 22/50\n",
      "604/625 [===========================>..] - ETA: 0s - loss: 0.1106 - accuracy: 0.9577\n",
      "Epoch 22: val_accuracy did not improve from 0.85860\n",
      "625/625 [==============================] - 1s 2ms/step - loss: 0.1101 - accuracy: 0.9578 - val_loss: 0.6984 - val_accuracy: 0.8444\n",
      "Epoch 23/50\n",
      "607/625 [============================>.] - ETA: 0s - loss: 0.1015 - accuracy: 0.9606\n",
      "Epoch 23: val_accuracy did not improve from 0.85860\n",
      "625/625 [==============================] - 1s 2ms/step - loss: 0.1015 - accuracy: 0.9607 - val_loss: 0.7079 - val_accuracy: 0.8442\n",
      "Epoch 24/50\n",
      "610/625 [============================>.] - ETA: 0s - loss: 0.0954 - accuracy: 0.9633\n",
      "Epoch 24: val_accuracy did not improve from 0.85860\n",
      "625/625 [==============================] - 1s 2ms/step - loss: 0.0954 - accuracy: 0.9633 - val_loss: 0.7764 - val_accuracy: 0.8308\n",
      "Epoch 25/50\n",
      "613/625 [============================>.] - ETA: 0s - loss: 0.0951 - accuracy: 0.9634\n",
      "Epoch 25: val_accuracy did not improve from 0.85860\n",
      "625/625 [==============================] - 1s 2ms/step - loss: 0.0953 - accuracy: 0.9635 - val_loss: 0.7652 - val_accuracy: 0.8408\n",
      "Epoch 26/50\n",
      "602/625 [===========================>..] - ETA: 0s - loss: 0.0836 - accuracy: 0.9686\n",
      "Epoch 26: val_accuracy did not improve from 0.85860\n",
      "625/625 [==============================] - 1s 2ms/step - loss: 0.0832 - accuracy: 0.9686 - val_loss: 0.7001 - val_accuracy: 0.8420\n",
      "Epoch 27/50\n",
      "617/625 [============================>.] - ETA: 0s - loss: 0.0713 - accuracy: 0.9729\n",
      "Epoch 27: val_accuracy did not improve from 0.85860\n",
      "625/625 [==============================] - 1s 2ms/step - loss: 0.0719 - accuracy: 0.9727 - val_loss: 0.7848 - val_accuracy: 0.8430\n",
      "Epoch 28/50\n",
      "598/625 [===========================>..] - ETA: 0s - loss: 0.0755 - accuracy: 0.9718\n",
      "Epoch 28: val_accuracy did not improve from 0.85860\n",
      "625/625 [==============================] - 1s 2ms/step - loss: 0.0760 - accuracy: 0.9717 - val_loss: 0.7063 - val_accuracy: 0.8284\n",
      "Epoch 29/50\n",
      "618/625 [============================>.] - ETA: 0s - loss: 0.0707 - accuracy: 0.9733\n",
      "Epoch 29: val_accuracy did not improve from 0.85860\n",
      "625/625 [==============================] - 1s 2ms/step - loss: 0.0708 - accuracy: 0.9732 - val_loss: 0.7913 - val_accuracy: 0.8460\n"
     ]
    },
    {
     "name": "stdout",
     "output_type": "stream",
     "text": [
      "Epoch 30/50\n",
      "610/625 [============================>.] - ETA: 0s - loss: 0.0657 - accuracy: 0.9753\n",
      "Epoch 30: val_accuracy did not improve from 0.85860\n",
      "625/625 [==============================] - 1s 2ms/step - loss: 0.0650 - accuracy: 0.9755 - val_loss: 0.8401 - val_accuracy: 0.8460\n",
      "Epoch 31/50\n",
      "623/625 [============================>.] - ETA: 0s - loss: 0.0582 - accuracy: 0.9790\n",
      "Epoch 31: val_accuracy did not improve from 0.85860\n",
      "625/625 [==============================] - 1s 2ms/step - loss: 0.0585 - accuracy: 0.9789 - val_loss: 0.8343 - val_accuracy: 0.8344\n",
      "Epoch 32/50\n",
      "605/625 [============================>.] - ETA: 0s - loss: 0.0574 - accuracy: 0.9780\n",
      "Epoch 32: val_accuracy did not improve from 0.85860\n",
      "625/625 [==============================] - 1s 2ms/step - loss: 0.0579 - accuracy: 0.9779 - val_loss: 0.7585 - val_accuracy: 0.8410\n",
      "Epoch 33/50\n",
      "596/625 [===========================>..] - ETA: 0s - loss: 0.0575 - accuracy: 0.9789\n",
      "Epoch 33: val_accuracy did not improve from 0.85860\n",
      "625/625 [==============================] - 1s 2ms/step - loss: 0.0575 - accuracy: 0.9790 - val_loss: 0.8152 - val_accuracy: 0.8326\n",
      "Epoch 34/50\n",
      "618/625 [============================>.] - ETA: 0s - loss: 0.0551 - accuracy: 0.9799\n",
      "Epoch 34: val_accuracy did not improve from 0.85860\n",
      "625/625 [==============================] - 1s 2ms/step - loss: 0.0550 - accuracy: 0.9800 - val_loss: 0.8798 - val_accuracy: 0.8418\n",
      "Epoch 35/50\n",
      "622/625 [============================>.] - ETA: 0s - loss: 0.0502 - accuracy: 0.9816\n",
      "Epoch 35: val_accuracy did not improve from 0.85860\n",
      "625/625 [==============================] - 1s 2ms/step - loss: 0.0502 - accuracy: 0.9816 - val_loss: 1.0023 - val_accuracy: 0.8384\n",
      "Epoch 36/50\n",
      "599/625 [===========================>..] - ETA: 0s - loss: 0.0469 - accuracy: 0.9830\n",
      "Epoch 36: val_accuracy did not improve from 0.85860\n",
      "625/625 [==============================] - 1s 2ms/step - loss: 0.0472 - accuracy: 0.9830 - val_loss: 0.9887 - val_accuracy: 0.8344\n",
      "Epoch 37/50\n",
      "603/625 [===========================>..] - ETA: 0s - loss: 0.0417 - accuracy: 0.9840\n",
      "Epoch 37: val_accuracy did not improve from 0.85860\n",
      "625/625 [==============================] - 1s 2ms/step - loss: 0.0419 - accuracy: 0.9840 - val_loss: 0.9814 - val_accuracy: 0.8328\n",
      "Epoch 38/50\n",
      "613/625 [============================>.] - ETA: 0s - loss: 0.0451 - accuracy: 0.9838\n",
      "Epoch 38: val_accuracy did not improve from 0.85860\n",
      "625/625 [==============================] - 1s 2ms/step - loss: 0.0453 - accuracy: 0.9837 - val_loss: 1.1468 - val_accuracy: 0.8236\n",
      "Epoch 39/50\n",
      "609/625 [============================>.] - ETA: 0s - loss: 0.0467 - accuracy: 0.9825\n",
      "Epoch 39: val_accuracy did not improve from 0.85860\n",
      "625/625 [==============================] - 1s 2ms/step - loss: 0.0468 - accuracy: 0.9826 - val_loss: 0.9227 - val_accuracy: 0.8442\n",
      "Epoch 40/50\n",
      "619/625 [============================>.] - ETA: 0s - loss: 0.0360 - accuracy: 0.9867\n",
      "Epoch 40: val_accuracy did not improve from 0.85860\n",
      "625/625 [==============================] - 1s 2ms/step - loss: 0.0362 - accuracy: 0.9866 - val_loss: 1.2640 - val_accuracy: 0.8376\n",
      "Epoch 41/50\n",
      "609/625 [============================>.] - ETA: 0s - loss: 0.0366 - accuracy: 0.9864\n",
      "Epoch 41: val_accuracy did not improve from 0.85860\n",
      "625/625 [==============================] - 1s 2ms/step - loss: 0.0369 - accuracy: 0.9862 - val_loss: 1.0320 - val_accuracy: 0.8242\n",
      "Epoch 42/50\n",
      "617/625 [============================>.] - ETA: 0s - loss: 0.0429 - accuracy: 0.9842\n",
      "Epoch 42: val_accuracy did not improve from 0.85860\n",
      "625/625 [==============================] - 1s 2ms/step - loss: 0.0438 - accuracy: 0.9839 - val_loss: 0.8462 - val_accuracy: 0.8186\n",
      "Epoch 43/50\n",
      "619/625 [============================>.] - ETA: 0s - loss: 0.0345 - accuracy: 0.9882\n",
      "Epoch 43: val_accuracy did not improve from 0.85860\n",
      "625/625 [==============================] - 1s 2ms/step - loss: 0.0345 - accuracy: 0.9882 - val_loss: 1.1158 - val_accuracy: 0.8394\n",
      "Epoch 44/50\n",
      "608/625 [============================>.] - ETA: 0s - loss: 0.0337 - accuracy: 0.9885\n",
      "Epoch 44: val_accuracy did not improve from 0.85860\n",
      "625/625 [==============================] - 1s 2ms/step - loss: 0.0336 - accuracy: 0.9886 - val_loss: 0.9273 - val_accuracy: 0.8420\n",
      "Epoch 45/50\n",
      "618/625 [============================>.] - ETA: 0s - loss: 0.0330 - accuracy: 0.9876\n",
      "Epoch 45: val_accuracy did not improve from 0.85860\n",
      "625/625 [==============================] - 1s 2ms/step - loss: 0.0331 - accuracy: 0.9876 - val_loss: 1.1957 - val_accuracy: 0.8436\n",
      "Epoch 46/50\n",
      "601/625 [===========================>..] - ETA: 0s - loss: 0.0349 - accuracy: 0.9874\n",
      "Epoch 46: val_accuracy did not improve from 0.85860\n",
      "625/625 [==============================] - 1s 2ms/step - loss: 0.0356 - accuracy: 0.9872 - val_loss: 1.0172 - val_accuracy: 0.8320\n",
      "Epoch 47/50\n",
      "618/625 [============================>.] - ETA: 0s - loss: 0.0339 - accuracy: 0.9890\n",
      "Epoch 47: val_accuracy did not improve from 0.85860\n",
      "625/625 [==============================] - 1s 2ms/step - loss: 0.0342 - accuracy: 0.9889 - val_loss: 1.1581 - val_accuracy: 0.8244\n",
      "Epoch 48/50\n",
      "611/625 [============================>.] - ETA: 0s - loss: 0.0332 - accuracy: 0.9882\n",
      "Epoch 48: val_accuracy did not improve from 0.85860\n",
      "625/625 [==============================] - 1s 2ms/step - loss: 0.0328 - accuracy: 0.9883 - val_loss: 1.2385 - val_accuracy: 0.8410\n",
      "Epoch 49/50\n",
      "622/625 [============================>.] - ETA: 0s - loss: 0.0295 - accuracy: 0.9891\n",
      "Epoch 49: val_accuracy did not improve from 0.85860\n",
      "625/625 [==============================] - 1s 2ms/step - loss: 0.0295 - accuracy: 0.9890 - val_loss: 1.2138 - val_accuracy: 0.8346\n",
      "Epoch 50/50\n",
      "619/625 [============================>.] - ETA: 0s - loss: 0.0309 - accuracy: 0.9893\n",
      "Epoch 50: val_accuracy did not improve from 0.85860\n",
      "625/625 [==============================] - 1s 2ms/step - loss: 0.0312 - accuracy: 0.9891 - val_loss: 1.2152 - val_accuracy: 0.8328\n"
     ]
    },
    {
     "data": {
      "text/plain": [
       "<keras.callbacks.History at 0x1a87b5e4550>"
      ]
     },
     "execution_count": 18,
     "metadata": {},
     "output_type": "execute_result"
    }
   ],
   "source": [
    "model.compile('adam', loss=BinaryCrossentropy(), metrics='accuracy')\n",
    "\n",
    "model.fit(x=train_x,\n",
    "         y=train_y,\n",
    "         batch_size=32,\n",
    "         epochs=50,\n",
    "         validation_data=(val_x, val_y),\n",
    "         callbacks=callbacks)"
   ]
  },
  {
   "cell_type": "code",
   "execution_count": 19,
   "id": "f8634d3c",
   "metadata": {},
   "outputs": [
    {
     "data": {
      "text/plain": [
       "<tensorflow.python.training.tracking.util.CheckpointLoadStatus at 0x1ab164d3e80>"
      ]
     },
     "execution_count": 19,
     "metadata": {},
     "output_type": "execute_result"
    }
   ],
   "source": [
    "model.load_weights('./models_spacy_ffnn/checkpoint')"
   ]
  },
  {
   "cell_type": "code",
   "execution_count": 20,
   "id": "7d64ff2f",
   "metadata": {},
   "outputs": [
    {
     "name": "stdout",
     "output_type": "stream",
     "text": [
      "f1 : 0.8880382775119617\n",
      "acc: 0.883\n"
     ]
    },
    {
     "data": {
      "image/png": "[encoded data removed]",
      "text/plain": [
       "<Figure size 432x288 with 2 Axes>"
      ]
     },
     "metadata": {
      "needs_background": "light"
     },
     "output_type": "display_data"
    }
   ],
   "source": [
    "predict_result(model, train_x[:1000], train_y[:1000])"
   ]
  },
  {
   "cell_type": "code",
   "execution_count": 21,
   "id": "39a4d075",
   "metadata": {},
   "outputs": [
    {
     "name": "stdout",
     "output_type": "stream",
     "text": [
      "f1 : 0.8542562847784049\n",
      "acc: 0.85228\n"
     ]
    },
    {
     "data": {
      "image/png": "[encoded data removed]",
      "text/plain": [
       "<Figure size 432x288 with 2 Axes>"
      ]
     },
     "metadata": {
      "needs_background": "light"
     },
     "output_type": "display_data"
    }
   ],
   "source": [
    "predict_result(model, test_x, test_y)"
   ]
  },
  {
   "cell_type": "markdown",
   "id": "edfc07a5",
   "metadata": {},
   "source": [
    "# Feature 3 (Text to Sequences)"
   ]
  },
  {
   "cell_type": "code",
   "execution_count": 72,
   "id": "48b97d89",
   "metadata": {},
   "outputs": [],
   "source": [
    "def get_sequences_and_one_hot(df):\n",
    "    sequences = tokenizer.texts_to_sequences(df['text'].values)\n",
    "    x = pad_sequences(sequences, maxlen=max_words)\n",
    "    y = df['label'].apply(one_hot).tolist()\n",
    "    y = np.array(y)\n",
    "    return x, y"
   ]
  },
  {
   "cell_type": "code",
   "execution_count": 73,
   "id": "a0f03db1",
   "metadata": {},
   "outputs": [],
   "source": [
    "train_val_x, train_val_y = get_sequences_and_one_hot(train_df)\n",
    "test_x, test_y = get_sequences_and_one_hot(test_df)"
   ]
  },
  {
   "cell_type": "code",
   "execution_count": 74,
   "id": "60100106",
   "metadata": {},
   "outputs": [],
   "source": [
    "train_x, val_x = train_val_x[:train_len], train_val_x[train_len:]\n",
    "train_y, val_y = train_val_y[:train_len], train_val_y[train_len:]"
   ]
  },
  {
   "cell_type": "markdown",
   "id": "043170bf",
   "metadata": {},
   "source": [
    "# Model 3 (LSTM)"
   ]
  },
  {
   "cell_type": "code",
   "execution_count": 76,
   "id": "458106b9",
   "metadata": {},
   "outputs": [
    {
     "name": "stdout",
     "output_type": "stream",
     "text": [
      "Model: \"sequential_7\"\n",
      "_________________________________________________________________\n",
      " Layer (type)                Output Shape              Param #   \n",
      "=================================================================\n",
      " embedding_6 (Embedding)     (None, 300, 300)          153600    \n",
      "                                                                 \n",
      " lstm_4 (LSTM)               (None, 512)               1665024   \n",
      "                                                                 \n",
      " dropout_19 (Dropout)        (None, 512)               0         \n",
      "                                                                 \n",
      " dense_32 (Dense)            (None, 64)                32832     \n",
      "                                                                 \n",
      " dropout_20 (Dropout)        (None, 64)                0         \n",
      "                                                                 \n",
      " dense_33 (Dense)            (None, 2)                 130       \n",
      "                                                                 \n",
      "=================================================================\n",
      "Total params: 1,851,586\n",
      "Trainable params: 1,851,586\n",
      "Non-trainable params: 0\n",
      "_________________________________________________________________\n"
     ]
    }
   ],
   "source": [
    "model = Sequential([\n",
    "    Embedding(512, embedding_size, input_length=max_words),\n",
    "    LSTM(512),\n",
    "    Dropout(0.2),\n",
    "    Dense(64, activation='relu'),\n",
    "    Dropout(0.2),\n",
    "    Dense(2, activation='sigmoid')\n",
    "])\n",
    "\n",
    "callbacks=[\n",
    "    ModelCheckpoint(filepath='./models_t2s_lstm/checkpoint',\n",
    "                   save_best_only=True, save_weights_only=True, verbose=1,monitor='val_accuracy')\n",
    "]\n",
    "\n",
    "model.summary()"
   ]
  },
  {
   "cell_type": "code",
   "execution_count": 77,
   "id": "70966035",
   "metadata": {},
   "outputs": [
    {
     "name": "stdout",
     "output_type": "stream",
     "text": [
      "Epoch 1/50\n",
      "78/79 [============================>.] - ETA: 0s - loss: 0.6842 - accuracy: 0.5917\n",
      "Epoch 1: val_accuracy improved from -inf to 0.61580, saving model to ./models_t2s_lstm\\checkpoint\n",
      "79/79 [==============================] - 11s 131ms/step - loss: 0.6842 - accuracy: 0.5917 - val_loss: 0.6483 - val_accuracy: 0.6158\n",
      "Epoch 2/50\n",
      "78/79 [============================>.] - ETA: 0s - loss: 0.5121 - accuracy: 0.7472\n",
      "Epoch 2: val_accuracy improved from 0.61580 to 0.80560, saving model to ./models_t2s_lstm\\checkpoint\n",
      "79/79 [==============================] - 10s 129ms/step - loss: 0.5124 - accuracy: 0.7470 - val_loss: 0.4337 - val_accuracy: 0.8056\n",
      "Epoch 3/50\n",
      "78/79 [============================>.] - ETA: 0s - loss: 0.4057 - accuracy: 0.8242\n",
      "Epoch 3: val_accuracy improved from 0.80560 to 0.80820, saving model to ./models_t2s_lstm\\checkpoint\n",
      "79/79 [==============================] - 10s 131ms/step - loss: 0.4060 - accuracy: 0.8240 - val_loss: 0.4243 - val_accuracy: 0.8082\n",
      "Epoch 4/50\n",
      "78/79 [============================>.] - ETA: 0s - loss: 0.3956 - accuracy: 0.8288\n",
      "Epoch 4: val_accuracy improved from 0.80820 to 0.83600, saving model to ./models_t2s_lstm\\checkpoint\n",
      "79/79 [==============================] - 10s 131ms/step - loss: 0.3956 - accuracy: 0.8288 - val_loss: 0.3858 - val_accuracy: 0.8360\n",
      "Epoch 5/50\n",
      "78/79 [============================>.] - ETA: 0s - loss: 0.3687 - accuracy: 0.8430\n",
      "Epoch 5: val_accuracy did not improve from 0.83600\n",
      "79/79 [==============================] - 10s 126ms/step - loss: 0.3687 - accuracy: 0.8429 - val_loss: 0.3849 - val_accuracy: 0.8334\n",
      "Epoch 6/50\n",
      "78/79 [============================>.] - ETA: 0s - loss: 0.3599 - accuracy: 0.8465\n",
      "Epoch 6: val_accuracy did not improve from 0.83600\n",
      "79/79 [==============================] - 10s 126ms/step - loss: 0.3599 - accuracy: 0.8464 - val_loss: 0.4279 - val_accuracy: 0.8120\n",
      "Epoch 7/50\n",
      "78/79 [============================>.] - ETA: 0s - loss: 0.3749 - accuracy: 0.8390\n",
      "Epoch 7: val_accuracy did not improve from 0.83600\n",
      "79/79 [==============================] - 10s 126ms/step - loss: 0.3749 - accuracy: 0.8391 - val_loss: 0.3937 - val_accuracy: 0.8278\n",
      "Epoch 8/50\n",
      "78/79 [============================>.] - ETA: 0s - loss: 0.3518 - accuracy: 0.8489\n",
      "Epoch 8: val_accuracy did not improve from 0.83600\n",
      "79/79 [==============================] - 10s 126ms/step - loss: 0.3517 - accuracy: 0.8490 - val_loss: 0.4012 - val_accuracy: 0.8230\n",
      "Epoch 9/50\n",
      "78/79 [============================>.] - ETA: 0s - loss: 0.3525 - accuracy: 0.8503\n",
      "Epoch 9: val_accuracy did not improve from 0.83600\n",
      "79/79 [==============================] - 10s 126ms/step - loss: 0.3525 - accuracy: 0.8503 - val_loss: 0.3996 - val_accuracy: 0.8246\n",
      "Epoch 10/50\n",
      "78/79 [============================>.] - ETA: 0s - loss: 0.3421 - accuracy: 0.8535\n",
      "Epoch 10: val_accuracy did not improve from 0.83600\n",
      "79/79 [==============================] - 10s 126ms/step - loss: 0.3422 - accuracy: 0.8534 - val_loss: 0.4028 - val_accuracy: 0.8158\n",
      "Epoch 11/50\n",
      "78/79 [============================>.] - ETA: 0s - loss: 0.3362 - accuracy: 0.8574\n",
      "Epoch 11: val_accuracy did not improve from 0.83600\n",
      "79/79 [==============================] - 10s 127ms/step - loss: 0.3364 - accuracy: 0.8573 - val_loss: 0.4089 - val_accuracy: 0.8130\n",
      "Epoch 12/50\n",
      "78/79 [============================>.] - ETA: 0s - loss: 0.3336 - accuracy: 0.8604\n",
      "Epoch 12: val_accuracy did not improve from 0.83600\n",
      "79/79 [==============================] - 10s 126ms/step - loss: 0.3336 - accuracy: 0.8605 - val_loss: 0.4024 - val_accuracy: 0.8254\n",
      "Epoch 13/50\n",
      "78/79 [============================>.] - ETA: 0s - loss: 0.3265 - accuracy: 0.8627\n",
      "Epoch 13: val_accuracy did not improve from 0.83600\n",
      "79/79 [==============================] - 10s 126ms/step - loss: 0.3264 - accuracy: 0.8627 - val_loss: 0.4545 - val_accuracy: 0.8122\n",
      "Epoch 14/50\n",
      "78/79 [============================>.] - ETA: 0s - loss: 0.3197 - accuracy: 0.8654\n",
      "Epoch 14: val_accuracy did not improve from 0.83600\n",
      "79/79 [==============================] - 10s 125ms/step - loss: 0.3197 - accuracy: 0.8654 - val_loss: 0.4347 - val_accuracy: 0.8218\n",
      "Epoch 15/50\n",
      "78/79 [============================>.] - ETA: 0s - loss: 0.3068 - accuracy: 0.8702\n",
      "Epoch 15: val_accuracy did not improve from 0.83600\n",
      "79/79 [==============================] - 10s 127ms/step - loss: 0.3071 - accuracy: 0.8700 - val_loss: 0.4296 - val_accuracy: 0.8192\n",
      "Epoch 16/50\n",
      "78/79 [============================>.] - ETA: 0s - loss: 0.3013 - accuracy: 0.8733\n",
      "Epoch 16: val_accuracy did not improve from 0.83600\n",
      "79/79 [==============================] - 10s 127ms/step - loss: 0.3013 - accuracy: 0.8734 - val_loss: 0.4277 - val_accuracy: 0.8200\n",
      "Epoch 17/50\n",
      "78/79 [============================>.] - ETA: 0s - loss: 0.3024 - accuracy: 0.8747\n",
      "Epoch 17: val_accuracy did not improve from 0.83600\n",
      "79/79 [==============================] - 10s 126ms/step - loss: 0.3024 - accuracy: 0.8747 - val_loss: 0.4279 - val_accuracy: 0.8152\n",
      "Epoch 18/50\n",
      "78/79 [============================>.] - ETA: 0s - loss: 0.2952 - accuracy: 0.8740\n",
      "Epoch 18: val_accuracy did not improve from 0.83600\n",
      "79/79 [==============================] - 10s 128ms/step - loss: 0.2952 - accuracy: 0.8740 - val_loss: 0.4417 - val_accuracy: 0.8188\n",
      "Epoch 19/50\n",
      "78/79 [============================>.] - ETA: 0s - loss: 0.2730 - accuracy: 0.8845\n",
      "Epoch 19: val_accuracy did not improve from 0.83600\n",
      "79/79 [==============================] - 10s 127ms/step - loss: 0.2728 - accuracy: 0.8845 - val_loss: 0.4572 - val_accuracy: 0.8156\n",
      "Epoch 20/50\n",
      "78/79 [============================>.] - ETA: 0s - loss: 0.2633 - accuracy: 0.8877\n",
      "Epoch 20: val_accuracy did not improve from 0.83600\n",
      "79/79 [==============================] - 10s 124ms/step - loss: 0.2635 - accuracy: 0.8876 - val_loss: 0.5085 - val_accuracy: 0.8040\n",
      "Epoch 21/50\n",
      "78/79 [============================>.] - ETA: 0s - loss: 0.2679 - accuracy: 0.8843\n",
      "Epoch 21: val_accuracy did not improve from 0.83600\n",
      "79/79 [==============================] - 10s 125ms/step - loss: 0.2681 - accuracy: 0.8843 - val_loss: 0.5079 - val_accuracy: 0.8000\n",
      "Epoch 22/50\n",
      "78/79 [============================>.] - ETA: 0s - loss: 0.2527 - accuracy: 0.8925\n",
      "Epoch 22: val_accuracy did not improve from 0.83600\n",
      "79/79 [==============================] - 10s 129ms/step - loss: 0.2528 - accuracy: 0.8925 - val_loss: 0.5052 - val_accuracy: 0.8096\n",
      "Epoch 23/50\n",
      "78/79 [============================>.] - ETA: 0s - loss: 0.2437 - accuracy: 0.8943\n",
      "Epoch 23: val_accuracy did not improve from 0.83600\n",
      "79/79 [==============================] - 10s 127ms/step - loss: 0.2439 - accuracy: 0.8942 - val_loss: 0.4792 - val_accuracy: 0.8070\n",
      "Epoch 24/50\n",
      "78/79 [============================>.] - ETA: 0s - loss: 0.2379 - accuracy: 0.8988\n",
      "Epoch 24: val_accuracy did not improve from 0.83600\n",
      "79/79 [==============================] - 10s 126ms/step - loss: 0.2380 - accuracy: 0.8988 - val_loss: 0.5270 - val_accuracy: 0.8102\n",
      "Epoch 25/50\n",
      "78/79 [============================>.] - ETA: 0s - loss: 0.2243 - accuracy: 0.9044\n",
      "Epoch 25: val_accuracy did not improve from 0.83600\n",
      "79/79 [==============================] - 10s 126ms/step - loss: 0.2243 - accuracy: 0.9043 - val_loss: 0.5634 - val_accuracy: 0.7936\n",
      "Epoch 26/50\n",
      "78/79 [============================>.] - ETA: 0s - loss: 0.2225 - accuracy: 0.9028\n",
      "Epoch 26: val_accuracy did not improve from 0.83600\n",
      "79/79 [==============================] - 10s 125ms/step - loss: 0.2227 - accuracy: 0.9026 - val_loss: 0.6410 - val_accuracy: 0.7964\n",
      "Epoch 27/50\n",
      "78/79 [============================>.] - ETA: 0s - loss: 0.2186 - accuracy: 0.9045\n",
      "Epoch 27: val_accuracy did not improve from 0.83600\n",
      "79/79 [==============================] - 10s 125ms/step - loss: 0.2187 - accuracy: 0.9046 - val_loss: 0.5692 - val_accuracy: 0.7964\n",
      "Epoch 28/50\n",
      "78/79 [============================>.] - ETA: 0s - loss: 0.1995 - accuracy: 0.9119\n",
      "Epoch 28: val_accuracy did not improve from 0.83600\n",
      "79/79 [==============================] - 10s 126ms/step - loss: 0.1997 - accuracy: 0.9119 - val_loss: 0.6653 - val_accuracy: 0.7962\n",
      "Epoch 29/50\n",
      "78/79 [============================>.] - ETA: 0s - loss: 0.1900 - accuracy: 0.9159\n",
      "Epoch 29: val_accuracy did not improve from 0.83600\n",
      "79/79 [==============================] - 10s 125ms/step - loss: 0.1900 - accuracy: 0.9159 - val_loss: 0.6527 - val_accuracy: 0.7856\n"
     ]
    },
    {
     "name": "stdout",
     "output_type": "stream",
     "text": [
      "Epoch 30/50\n",
      "78/79 [============================>.] - ETA: 0s - loss: 0.1767 - accuracy: 0.9208\n",
      "Epoch 30: val_accuracy did not improve from 0.83600\n",
      "79/79 [==============================] - 10s 125ms/step - loss: 0.1768 - accuracy: 0.9207 - val_loss: 0.6990 - val_accuracy: 0.7946\n",
      "Epoch 31/50\n",
      "78/79 [============================>.] - ETA: 0s - loss: 0.1931 - accuracy: 0.9179\n",
      "Epoch 31: val_accuracy did not improve from 0.83600\n",
      "79/79 [==============================] - 10s 125ms/step - loss: 0.1930 - accuracy: 0.9179 - val_loss: 0.6258 - val_accuracy: 0.7982\n",
      "Epoch 32/50\n",
      "78/79 [============================>.] - ETA: 0s - loss: 0.1667 - accuracy: 0.9256\n",
      "Epoch 32: val_accuracy did not improve from 0.83600\n",
      "79/79 [==============================] - 10s 125ms/step - loss: 0.1667 - accuracy: 0.9256 - val_loss: 0.7235 - val_accuracy: 0.7972\n",
      "Epoch 33/50\n",
      "78/79 [============================>.] - ETA: 0s - loss: 0.1533 - accuracy: 0.9310\n",
      "Epoch 33: val_accuracy did not improve from 0.83600\n",
      "79/79 [==============================] - 10s 125ms/step - loss: 0.1534 - accuracy: 0.9309 - val_loss: 0.7250 - val_accuracy: 0.7964\n",
      "Epoch 34/50\n",
      "78/79 [============================>.] - ETA: 0s - loss: 0.1475 - accuracy: 0.9358\n",
      "Epoch 34: val_accuracy did not improve from 0.83600\n",
      "79/79 [==============================] - 10s 126ms/step - loss: 0.1475 - accuracy: 0.9359 - val_loss: 0.7695 - val_accuracy: 0.7828\n",
      "Epoch 35/50\n",
      "78/79 [============================>.] - ETA: 0s - loss: 0.1997 - accuracy: 0.9147\n",
      "Epoch 35: val_accuracy did not improve from 0.83600\n",
      "79/79 [==============================] - 10s 125ms/step - loss: 0.1999 - accuracy: 0.9146 - val_loss: 0.6224 - val_accuracy: 0.7936\n",
      "Epoch 36/50\n",
      "78/79 [============================>.] - ETA: 0s - loss: 0.1697 - accuracy: 0.9251\n",
      "Epoch 36: val_accuracy did not improve from 0.83600\n",
      "79/79 [==============================] - 10s 126ms/step - loss: 0.1696 - accuracy: 0.9251 - val_loss: 0.7460 - val_accuracy: 0.7860\n",
      "Epoch 37/50\n",
      "78/79 [============================>.] - ETA: 0s - loss: 0.1381 - accuracy: 0.9424\n",
      "Epoch 37: val_accuracy did not improve from 0.83600\n",
      "79/79 [==============================] - 10s 127ms/step - loss: 0.1382 - accuracy: 0.9423 - val_loss: 0.7945 - val_accuracy: 0.7810\n",
      "Epoch 38/50\n",
      "78/79 [============================>.] - ETA: 0s - loss: 0.1336 - accuracy: 0.9437\n",
      "Epoch 38: val_accuracy did not improve from 0.83600\n",
      "79/79 [==============================] - 10s 126ms/step - loss: 0.1338 - accuracy: 0.9435 - val_loss: 0.7958 - val_accuracy: 0.7844\n",
      "Epoch 39/50\n",
      "78/79 [============================>.] - ETA: 0s - loss: 0.1601 - accuracy: 0.9349\n",
      "Epoch 39: val_accuracy did not improve from 0.83600\n",
      "79/79 [==============================] - 10s 126ms/step - loss: 0.1599 - accuracy: 0.9351 - val_loss: 0.7756 - val_accuracy: 0.7864\n",
      "Epoch 40/50\n",
      "78/79 [============================>.] - ETA: 0s - loss: 0.1201 - accuracy: 0.9496\n",
      "Epoch 40: val_accuracy did not improve from 0.83600\n",
      "79/79 [==============================] - 10s 126ms/step - loss: 0.1202 - accuracy: 0.9495 - val_loss: 0.8472 - val_accuracy: 0.7930\n",
      "Epoch 41/50\n",
      "78/79 [============================>.] - ETA: 0s - loss: 0.1022 - accuracy: 0.9601\n",
      "Epoch 41: val_accuracy did not improve from 0.83600\n",
      "79/79 [==============================] - 10s 126ms/step - loss: 0.1021 - accuracy: 0.9602 - val_loss: 0.9048 - val_accuracy: 0.7992\n",
      "Epoch 42/50\n",
      "78/79 [============================>.] - ETA: 0s - loss: 0.1172 - accuracy: 0.9534\n",
      "Epoch 42: val_accuracy did not improve from 0.83600\n",
      "79/79 [==============================] - 10s 128ms/step - loss: 0.1172 - accuracy: 0.9534 - val_loss: 0.8850 - val_accuracy: 0.7894\n",
      "Epoch 43/50\n",
      "78/79 [============================>.] - ETA: 0s - loss: 0.0869 - accuracy: 0.9644\n",
      "Epoch 43: val_accuracy did not improve from 0.83600\n",
      "79/79 [==============================] - 10s 128ms/step - loss: 0.0869 - accuracy: 0.9645 - val_loss: 0.9430 - val_accuracy: 0.7900\n",
      "Epoch 44/50\n",
      "78/79 [============================>.] - ETA: 0s - loss: 0.0722 - accuracy: 0.9710\n",
      "Epoch 44: val_accuracy did not improve from 0.83600\n",
      "79/79 [==============================] - 10s 127ms/step - loss: 0.0722 - accuracy: 0.9710 - val_loss: 1.0873 - val_accuracy: 0.7812\n",
      "Epoch 45/50\n",
      "78/79 [============================>.] - ETA: 0s - loss: 0.0946 - accuracy: 0.9641\n",
      "Epoch 45: val_accuracy did not improve from 0.83600\n",
      "79/79 [==============================] - 10s 127ms/step - loss: 0.0945 - accuracy: 0.9641 - val_loss: 1.0486 - val_accuracy: 0.7968\n",
      "Epoch 46/50\n",
      "78/79 [============================>.] - ETA: 0s - loss: 0.0616 - accuracy: 0.9762\n",
      "Epoch 46: val_accuracy did not improve from 0.83600\n",
      "79/79 [==============================] - 10s 126ms/step - loss: 0.0616 - accuracy: 0.9761 - val_loss: 1.0713 - val_accuracy: 0.7828\n",
      "Epoch 47/50\n",
      "78/79 [============================>.] - ETA: 0s - loss: 0.0532 - accuracy: 0.9792\n",
      "Epoch 47: val_accuracy did not improve from 0.83600\n",
      "79/79 [==============================] - 10s 127ms/step - loss: 0.0532 - accuracy: 0.9793 - val_loss: 1.1880 - val_accuracy: 0.7820\n",
      "Epoch 48/50\n",
      "78/79 [============================>.] - ETA: 0s - loss: 0.1002 - accuracy: 0.9650\n",
      "Epoch 48: val_accuracy did not improve from 0.83600\n",
      "79/79 [==============================] - 10s 127ms/step - loss: 0.1001 - accuracy: 0.9650 - val_loss: 0.9406 - val_accuracy: 0.7898\n",
      "Epoch 49/50\n",
      "78/79 [============================>.] - ETA: 0s - loss: 0.0912 - accuracy: 0.9672\n",
      "Epoch 49: val_accuracy did not improve from 0.83600\n",
      "79/79 [==============================] - 10s 127ms/step - loss: 0.0911 - accuracy: 0.9673 - val_loss: 0.9826 - val_accuracy: 0.7886\n",
      "Epoch 50/50\n",
      "78/79 [============================>.] - ETA: 0s - loss: 0.0387 - accuracy: 0.9858\n",
      "Epoch 50: val_accuracy did not improve from 0.83600\n",
      "79/79 [==============================] - 10s 127ms/step - loss: 0.0387 - accuracy: 0.9858 - val_loss: 1.1955 - val_accuracy: 0.7848\n"
     ]
    },
    {
     "data": {
      "text/plain": [
       "<keras.callbacks.History at 0x1ab6de4bf70>"
      ]
     },
     "execution_count": 77,
     "metadata": {},
     "output_type": "execute_result"
    }
   ],
   "source": [
    "model.compile('adam', loss=BinaryCrossentropy(), metrics='accuracy')\n",
    "\n",
    "model.fit(x=train_x,\n",
    "         y=train_y,\n",
    "         batch_size=256,\n",
    "         epochs=50,\n",
    "         validation_data=(val_x, val_y),\n",
    "         callbacks=callbacks)"
   ]
  },
  {
   "cell_type": "code",
   "execution_count": 78,
   "id": "ddadf5f1",
   "metadata": {},
   "outputs": [
    {
     "data": {
      "text/plain": [
       "<tensorflow.python.training.tracking.util.CheckpointLoadStatus at 0x1ab6e63f340>"
      ]
     },
     "execution_count": 78,
     "metadata": {},
     "output_type": "execute_result"
    }
   ],
   "source": [
    "model.load_weights('./models_t2s_lstm/checkpoint')"
   ]
  },
  {
   "cell_type": "code",
   "execution_count": 79,
   "id": "0a4daaa4",
   "metadata": {},
   "outputs": [
    {
     "name": "stdout",
     "output_type": "stream",
     "text": [
      "f1 : 0.8557504873294347\n",
      "acc: 0.852\n"
     ]
    },
    {
     "data": {
      "image/png": "[encoded data removed]",
      "text/plain": [
       "<Figure size 432x288 with 2 Axes>"
      ]
     },
     "metadata": {
      "needs_background": "light"
     },
     "output_type": "display_data"
    }
   ],
   "source": [
    "predict_result(model, train_x[:1000], train_y[:1000])"
   ]
  },
  {
   "cell_type": "code",
   "execution_count": 80,
   "id": "1becb778",
   "metadata": {},
   "outputs": [
    {
     "name": "stdout",
     "output_type": "stream",
     "text": [
      "f1 : 0.8371132382730271\n",
      "acc: 0.83596\n"
     ]
    },
    {
     "data": {
      "image/png": "[encoded data removed]",
      "text/plain": [
       "<Figure size 432x288 with 2 Axes>"
      ]
     },
     "metadata": {
      "needs_background": "light"
     },
     "output_type": "display_data"
    }
   ],
   "source": [
    "predict_result(model, test_x, test_y)"
   ]
  },
  {
   "cell_type": "markdown",
   "id": "a972fac1",
   "metadata": {},
   "source": [
    "# Model 4 (Bi-LSTM)"
   ]
  },
  {
   "cell_type": "code",
   "execution_count": 30,
   "id": "e8eb82f7",
   "metadata": {},
   "outputs": [
    {
     "name": "stdout",
     "output_type": "stream",
     "text": [
      "Model: \"sequential_3\"\n",
      "_________________________________________________________________\n",
      " Layer (type)                Output Shape              Param #   \n",
      "=================================================================\n",
      " embedding_1 (Embedding)     (None, 300, 300)          76800     \n",
      "                                                                 \n",
      " bidirectional (Bidirectiona  (None, 512)              1140736   \n",
      " l)                                                              \n",
      "                                                                 \n",
      " dropout_6 (Dropout)         (None, 512)               0         \n",
      "                                                                 \n",
      " dense_11 (Dense)            (None, 64)                32832     \n",
      "                                                                 \n",
      " dropout_7 (Dropout)         (None, 64)                0         \n",
      "                                                                 \n",
      " dense_12 (Dense)            (None, 2)                 130       \n",
      "                                                                 \n",
      "=================================================================\n",
      "Total params: 1,250,498\n",
      "Trainable params: 1,250,498\n",
      "Non-trainable params: 0\n",
      "_________________________________________________________________\n"
     ]
    }
   ],
   "source": [
    "model = Sequential([\n",
    "    Embedding(512, embedding_size, input_length=max_words),\n",
    "    Bidirectional(LSTM(256)),\n",
    "    Dropout(0.4),\n",
    "    Dense(64, activation='relu'),\n",
    "    Dropout(0.4),\n",
    "    Dense(2, activation='sigmoid')\n",
    "])\n",
    "\n",
    "callbacks=[\n",
    "    ModelCheckpoint(filepath='./models_t2s_bilstm/checkpoint',\n",
    "                   save_best_only=True, save_weights_only=True, verbose=1,monitor='val_accuracy')\n",
    "]\n",
    "\n",
    "model.summary()"
   ]
  },
  {
   "cell_type": "code",
   "execution_count": 31,
   "id": "be9eb1e8",
   "metadata": {},
   "outputs": [
    {
     "name": "stdout",
     "output_type": "stream",
     "text": [
      "Epoch 1/50\n",
      "156/157 [============================>.] - ETA: 0s - loss: 0.6094 - accuracy: 0.6607\n",
      "Epoch 1: val_accuracy improved from -inf to 0.76120, saving model to ./models_t2s_bilstm\\checkpoint\n",
      "157/157 [==============================] - 11s 62ms/step - loss: 0.6092 - accuracy: 0.6608 - val_loss: 0.5048 - val_accuracy: 0.7612\n",
      "Epoch 2/50\n",
      "157/157 [==============================] - ETA: 0s - loss: 0.4930 - accuracy: 0.7742\n",
      "Epoch 2: val_accuracy improved from 0.76120 to 0.77400, saving model to ./models_t2s_bilstm\\checkpoint\n",
      "157/157 [==============================] - 9s 60ms/step - loss: 0.4930 - accuracy: 0.7742 - val_loss: 0.4748 - val_accuracy: 0.7740\n",
      "Epoch 3/50\n",
      "157/157 [==============================] - ETA: 0s - loss: 0.4758 - accuracy: 0.7797\n",
      "Epoch 3: val_accuracy did not improve from 0.77400\n",
      "157/157 [==============================] - 9s 54ms/step - loss: 0.4758 - accuracy: 0.7797 - val_loss: 0.4682 - val_accuracy: 0.7718\n",
      "Epoch 4/50\n",
      "157/157 [==============================] - ETA: 0s - loss: 0.4703 - accuracy: 0.7858\n",
      "Epoch 4: val_accuracy did not improve from 0.77400\n",
      "157/157 [==============================] - 8s 53ms/step - loss: 0.4703 - accuracy: 0.7858 - val_loss: 0.4727 - val_accuracy: 0.7712\n",
      "Epoch 5/50\n",
      "157/157 [==============================] - ETA: 0s - loss: 0.4552 - accuracy: 0.7904\n",
      "Epoch 5: val_accuracy did not improve from 0.77400\n",
      "157/157 [==============================] - 8s 52ms/step - loss: 0.4552 - accuracy: 0.7904 - val_loss: 0.4562 - val_accuracy: 0.7732\n",
      "Epoch 6/50\n",
      "156/157 [============================>.] - ETA: 0s - loss: 0.4522 - accuracy: 0.7926\n",
      "Epoch 6: val_accuracy improved from 0.77400 to 0.77620, saving model to ./models_t2s_bilstm\\checkpoint\n",
      "157/157 [==============================] - 8s 53ms/step - loss: 0.4519 - accuracy: 0.7928 - val_loss: 0.4608 - val_accuracy: 0.7762\n",
      "Epoch 7/50\n",
      "157/157 [==============================] - ETA: 0s - loss: 0.4474 - accuracy: 0.7971\n",
      "Epoch 7: val_accuracy did not improve from 0.77620\n",
      "157/157 [==============================] - 8s 52ms/step - loss: 0.4474 - accuracy: 0.7971 - val_loss: 0.4750 - val_accuracy: 0.7724\n",
      "Epoch 8/50\n",
      "156/157 [============================>.] - ETA: 0s - loss: 0.4457 - accuracy: 0.7988\n",
      "Epoch 8: val_accuracy did not improve from 0.77620\n",
      "157/157 [==============================] - 9s 55ms/step - loss: 0.4455 - accuracy: 0.7990 - val_loss: 0.4809 - val_accuracy: 0.7742\n",
      "Epoch 9/50\n",
      "156/157 [============================>.] - ETA: 0s - loss: 0.4425 - accuracy: 0.8010\n",
      "Epoch 9: val_accuracy improved from 0.77620 to 0.77940, saving model to ./models_t2s_bilstm\\checkpoint\n",
      "157/157 [==============================] - 9s 58ms/step - loss: 0.4425 - accuracy: 0.8009 - val_loss: 0.5138 - val_accuracy: 0.7794\n",
      "Epoch 10/50\n",
      "156/157 [============================>.] - ETA: 0s - loss: 0.4256 - accuracy: 0.8071\n",
      "Epoch 10: val_accuracy did not improve from 0.77940\n",
      "157/157 [==============================] - 9s 56ms/step - loss: 0.4256 - accuracy: 0.8071 - val_loss: 0.4609 - val_accuracy: 0.7786\n",
      "Epoch 11/50\n",
      "156/157 [============================>.] - ETA: 0s - loss: 0.4194 - accuracy: 0.8107\n",
      "Epoch 11: val_accuracy did not improve from 0.77940\n",
      "157/157 [==============================] - 9s 55ms/step - loss: 0.4193 - accuracy: 0.8108 - val_loss: 0.4769 - val_accuracy: 0.7792\n",
      "Epoch 12/50\n",
      "156/157 [============================>.] - ETA: 0s - loss: 0.4131 - accuracy: 0.8155\n",
      "Epoch 12: val_accuracy did not improve from 0.77940\n",
      "157/157 [==============================] - 9s 57ms/step - loss: 0.4133 - accuracy: 0.8154 - val_loss: 0.4677 - val_accuracy: 0.7784\n",
      "Epoch 13/50\n",
      "157/157 [==============================] - ETA: 0s - loss: 0.4033 - accuracy: 0.8157\n",
      "Epoch 13: val_accuracy improved from 0.77940 to 0.78180, saving model to ./models_t2s_bilstm\\checkpoint\n",
      "157/157 [==============================] - 9s 58ms/step - loss: 0.4033 - accuracy: 0.8157 - val_loss: 0.4658 - val_accuracy: 0.7818\n",
      "Epoch 14/50\n",
      "156/157 [============================>.] - ETA: 0s - loss: 0.4062 - accuracy: 0.8162\n",
      "Epoch 14: val_accuracy did not improve from 0.78180\n",
      "157/157 [==============================] - 9s 56ms/step - loss: 0.4064 - accuracy: 0.8159 - val_loss: 0.4764 - val_accuracy: 0.7692\n",
      "Epoch 15/50\n",
      "157/157 [==============================] - ETA: 0s - loss: 0.3938 - accuracy: 0.8239\n",
      "Epoch 15: val_accuracy did not improve from 0.78180\n",
      "157/157 [==============================] - 8s 54ms/step - loss: 0.3938 - accuracy: 0.8239 - val_loss: 0.4797 - val_accuracy: 0.7768\n",
      "Epoch 16/50\n",
      "156/157 [============================>.] - ETA: 0s - loss: 0.3885 - accuracy: 0.8248\n",
      "Epoch 16: val_accuracy did not improve from 0.78180\n",
      "157/157 [==============================] - 8s 53ms/step - loss: 0.3885 - accuracy: 0.8248 - val_loss: 0.4746 - val_accuracy: 0.7816\n",
      "Epoch 17/50\n",
      "157/157 [==============================] - ETA: 0s - loss: 0.3776 - accuracy: 0.8299\n",
      "Epoch 17: val_accuracy did not improve from 0.78180\n",
      "157/157 [==============================] - 8s 54ms/step - loss: 0.3776 - accuracy: 0.8299 - val_loss: 0.4824 - val_accuracy: 0.7788\n",
      "Epoch 18/50\n",
      "156/157 [============================>.] - ETA: 0s - loss: 0.3698 - accuracy: 0.8317\n",
      "Epoch 18: val_accuracy did not improve from 0.78180\n",
      "157/157 [==============================] - 8s 53ms/step - loss: 0.3698 - accuracy: 0.8317 - val_loss: 0.4831 - val_accuracy: 0.7710\n",
      "Epoch 19/50\n",
      "156/157 [============================>.] - ETA: 0s - loss: 0.3730 - accuracy: 0.8297\n",
      "Epoch 19: val_accuracy did not improve from 0.78180\n",
      "157/157 [==============================] - 8s 52ms/step - loss: 0.3729 - accuracy: 0.8298 - val_loss: 0.5074 - val_accuracy: 0.7808\n",
      "Epoch 20/50\n",
      "157/157 [==============================] - ETA: 0s - loss: 0.3620 - accuracy: 0.8350\n",
      "Epoch 20: val_accuracy did not improve from 0.78180\n",
      "157/157 [==============================] - 8s 53ms/step - loss: 0.3620 - accuracy: 0.8350 - val_loss: 0.5193 - val_accuracy: 0.7762\n",
      "Epoch 21/50\n",
      "156/157 [============================>.] - ETA: 0s - loss: 0.3579 - accuracy: 0.8376\n",
      "Epoch 21: val_accuracy did not improve from 0.78180\n",
      "157/157 [==============================] - 8s 54ms/step - loss: 0.3582 - accuracy: 0.8374 - val_loss: 0.5077 - val_accuracy: 0.7748\n",
      "Epoch 22/50\n",
      "156/157 [============================>.] - ETA: 0s - loss: 0.3502 - accuracy: 0.8421\n",
      "Epoch 22: val_accuracy did not improve from 0.78180\n",
      "157/157 [==============================] - 9s 54ms/step - loss: 0.3500 - accuracy: 0.8423 - val_loss: 0.5349 - val_accuracy: 0.7768\n",
      "Epoch 23/50\n",
      "157/157 [==============================] - ETA: 0s - loss: 0.3302 - accuracy: 0.8500\n",
      "Epoch 23: val_accuracy did not improve from 0.78180\n",
      "157/157 [==============================] - 8s 52ms/step - loss: 0.3302 - accuracy: 0.8500 - val_loss: 0.5368 - val_accuracy: 0.7776\n",
      "Epoch 24/50\n",
      "157/157 [==============================] - ETA: 0s - loss: 0.3143 - accuracy: 0.8588\n",
      "Epoch 24: val_accuracy did not improve from 0.78180\n",
      "157/157 [==============================] - 8s 52ms/step - loss: 0.3143 - accuracy: 0.8588 - val_loss: 0.5845 - val_accuracy: 0.7736\n",
      "Epoch 25/50\n",
      "157/157 [==============================] - ETA: 0s - loss: 0.3102 - accuracy: 0.8590\n",
      "Epoch 25: val_accuracy did not improve from 0.78180\n",
      "157/157 [==============================] - 8s 53ms/step - loss: 0.3102 - accuracy: 0.8590 - val_loss: 0.5667 - val_accuracy: 0.7714\n",
      "Epoch 26/50\n",
      "156/157 [============================>.] - ETA: 0s - loss: 0.2903 - accuracy: 0.8692\n",
      "Epoch 26: val_accuracy did not improve from 0.78180\n",
      "157/157 [==============================] - 9s 54ms/step - loss: 0.2903 - accuracy: 0.8691 - val_loss: 0.5955 - val_accuracy: 0.7524\n",
      "Epoch 27/50\n",
      "156/157 [============================>.] - ETA: 0s - loss: 0.2806 - accuracy: 0.8727\n",
      "Epoch 27: val_accuracy did not improve from 0.78180\n",
      "157/157 [==============================] - 8s 54ms/step - loss: 0.2807 - accuracy: 0.8727 - val_loss: 0.6230 - val_accuracy: 0.7606\n",
      "Epoch 28/50\n",
      "157/157 [==============================] - ETA: 0s - loss: 0.2615 - accuracy: 0.8820\n",
      "Epoch 28: val_accuracy did not improve from 0.78180\n",
      "157/157 [==============================] - 9s 54ms/step - loss: 0.2615 - accuracy: 0.8820 - val_loss: 0.6720 - val_accuracy: 0.7706\n",
      "Epoch 29/50\n",
      "157/157 [==============================] - ETA: 0s - loss: 0.2546 - accuracy: 0.8886\n",
      "Epoch 29: val_accuracy did not improve from 0.78180\n",
      "157/157 [==============================] - 8s 54ms/step - loss: 0.2546 - accuracy: 0.8886 - val_loss: 0.6509 - val_accuracy: 0.7590\n",
      "Epoch 30/50\n",
      "156/157 [============================>.] - ETA: 0s - loss: 0.2235 - accuracy: 0.9008\n",
      "Epoch 30: val_accuracy did not improve from 0.78180\n",
      "157/157 [==============================] - 8s 54ms/step - loss: 0.2235 - accuracy: 0.9007 - val_loss: 0.7371 - val_accuracy: 0.7566\n",
      "Epoch 31/50\n",
      "156/157 [============================>.] - ETA: 0s - loss: 0.2338 - accuracy: 0.8971\n",
      "Epoch 31: val_accuracy did not improve from 0.78180\n",
      "157/157 [==============================] - 9s 54ms/step - loss: 0.2339 - accuracy: 0.8971 - val_loss: 0.7314 - val_accuracy: 0.7492\n",
      "Epoch 32/50\n",
      "157/157 [==============================] - ETA: 0s - loss: 0.2121 - accuracy: 0.9085\n",
      "Epoch 32: val_accuracy did not improve from 0.78180\n",
      "157/157 [==============================] - 8s 53ms/step - loss: 0.2121 - accuracy: 0.9085 - val_loss: 0.8191 - val_accuracy: 0.7316\n",
      "Epoch 33/50\n",
      "157/157 [==============================] - ETA: 0s - loss: 0.2118 - accuracy: 0.9084\n",
      "Epoch 33: val_accuracy did not improve from 0.78180\n",
      "157/157 [==============================] - 8s 54ms/step - loss: 0.2118 - accuracy: 0.9084 - val_loss: 0.7937 - val_accuracy: 0.7490\n",
      "Epoch 34/50\n",
      "156/157 [============================>.] - ETA: 0s - loss: 0.1566 - accuracy: 0.9345\n",
      "Epoch 34: val_accuracy did not improve from 0.78180\n",
      "157/157 [==============================] - 9s 55ms/step - loss: 0.1567 - accuracy: 0.9344 - val_loss: 0.9141 - val_accuracy: 0.7522\n",
      "Epoch 35/50\n",
      "156/157 [============================>.] - ETA: 0s - loss: 0.1428 - accuracy: 0.9409\n",
      "Epoch 35: val_accuracy did not improve from 0.78180\n",
      "157/157 [==============================] - 9s 55ms/step - loss: 0.1430 - accuracy: 0.9409 - val_loss: 1.0446 - val_accuracy: 0.7556\n",
      "Epoch 36/50\n",
      "156/157 [============================>.] - ETA: 0s - loss: 0.1401 - accuracy: 0.9435\n",
      "Epoch 36: val_accuracy did not improve from 0.78180\n",
      "157/157 [==============================] - 9s 55ms/step - loss: 0.1402 - accuracy: 0.9434 - val_loss: 1.0594 - val_accuracy: 0.7346\n",
      "Epoch 37/50\n",
      "157/157 [==============================] - ETA: 0s - loss: 0.1208 - accuracy: 0.9524\n",
      "Epoch 37: val_accuracy did not improve from 0.78180\n",
      "157/157 [==============================] - 8s 54ms/step - loss: 0.1208 - accuracy: 0.9524 - val_loss: 1.1147 - val_accuracy: 0.7334\n",
      "Epoch 38/50\n",
      "156/157 [============================>.] - ETA: 0s - loss: 0.1126 - accuracy: 0.9564\n",
      "Epoch 38: val_accuracy did not improve from 0.78180\n",
      "157/157 [==============================] - 8s 54ms/step - loss: 0.1125 - accuracy: 0.9564 - val_loss: 1.1673 - val_accuracy: 0.7418\n",
      "Epoch 39/50\n",
      "156/157 [============================>.] - ETA: 0s - loss: 0.1139 - accuracy: 0.9555\n",
      "Epoch 39: val_accuracy did not improve from 0.78180\n",
      "157/157 [==============================] - 8s 53ms/step - loss: 0.1141 - accuracy: 0.9555 - val_loss: 1.1008 - val_accuracy: 0.7470\n",
      "Epoch 40/50\n",
      "156/157 [============================>.] - ETA: 0s - loss: 0.0902 - accuracy: 0.9662\n",
      "Epoch 40: val_accuracy did not improve from 0.78180\n",
      "157/157 [==============================] - 8s 53ms/step - loss: 0.0901 - accuracy: 0.9663 - val_loss: 1.1765 - val_accuracy: 0.7414\n",
      "Epoch 41/50\n",
      "157/157 [==============================] - ETA: 0s - loss: 0.1434 - accuracy: 0.9471\n",
      "Epoch 41: val_accuracy did not improve from 0.78180\n",
      "157/157 [==============================] - 8s 53ms/step - loss: 0.1434 - accuracy: 0.9471 - val_loss: 1.0251 - val_accuracy: 0.7410\n",
      "Epoch 42/50\n",
      "157/157 [==============================] - ETA: 0s - loss: 0.0744 - accuracy: 0.9724\n",
      "Epoch 42: val_accuracy did not improve from 0.78180\n",
      "157/157 [==============================] - 8s 53ms/step - loss: 0.0744 - accuracy: 0.9724 - val_loss: 1.2033 - val_accuracy: 0.7246\n",
      "Epoch 43/50\n",
      "156/157 [============================>.] - ETA: 0s - loss: 0.0584 - accuracy: 0.9809\n",
      "Epoch 43: val_accuracy did not improve from 0.78180\n",
      "157/157 [==============================] - 9s 55ms/step - loss: 0.0585 - accuracy: 0.9809 - val_loss: 1.4049 - val_accuracy: 0.7312\n",
      "Epoch 44/50\n",
      "156/157 [============================>.] - ETA: 0s - loss: 0.0508 - accuracy: 0.9820\n",
      "Epoch 44: val_accuracy did not improve from 0.78180\n",
      "157/157 [==============================] - 9s 55ms/step - loss: 0.0507 - accuracy: 0.9821 - val_loss: 1.4572 - val_accuracy: 0.7588\n",
      "Epoch 45/50\n",
      "156/157 [============================>.] - ETA: 0s - loss: 0.0432 - accuracy: 0.9850\n",
      "Epoch 45: val_accuracy did not improve from 0.78180\n",
      "157/157 [==============================] - 8s 53ms/step - loss: 0.0432 - accuracy: 0.9850 - val_loss: 1.5904 - val_accuracy: 0.7444\n",
      "Epoch 46/50\n",
      "156/157 [============================>.] - ETA: 0s - loss: 0.0455 - accuracy: 0.9841\n",
      "Epoch 46: val_accuracy did not improve from 0.78180\n",
      "157/157 [==============================] - 8s 54ms/step - loss: 0.0457 - accuracy: 0.9840 - val_loss: 1.5337 - val_accuracy: 0.7462\n",
      "Epoch 47/50\n",
      "156/157 [============================>.] - ETA: 0s - loss: 0.0893 - accuracy: 0.9697\n",
      "Epoch 47: val_accuracy did not improve from 0.78180\n",
      "157/157 [==============================] - 9s 56ms/step - loss: 0.0893 - accuracy: 0.9696 - val_loss: 1.2421 - val_accuracy: 0.7278\n",
      "Epoch 48/50\n",
      "157/157 [==============================] - ETA: 0s - loss: 0.0480 - accuracy: 0.9833\n",
      "Epoch 48: val_accuracy did not improve from 0.78180\n",
      "157/157 [==============================] - 9s 57ms/step - loss: 0.0480 - accuracy: 0.9833 - val_loss: 1.4899 - val_accuracy: 0.7526\n",
      "Epoch 49/50\n",
      "156/157 [============================>.] - ETA: 0s - loss: 0.0464 - accuracy: 0.9848\n",
      "Epoch 49: val_accuracy did not improve from 0.78180\n",
      "157/157 [==============================] - 9s 55ms/step - loss: 0.0466 - accuracy: 0.9847 - val_loss: 1.3721 - val_accuracy: 0.7256\n",
      "Epoch 50/50\n",
      "156/157 [============================>.] - ETA: 0s - loss: 0.0582 - accuracy: 0.9806\n",
      "Epoch 50: val_accuracy did not improve from 0.78180\n",
      "157/157 [==============================] - 8s 53ms/step - loss: 0.0582 - accuracy: 0.9805 - val_loss: 1.4576 - val_accuracy: 0.7214\n"
     ]
    },
    {
     "data": {
      "text/plain": [
       "<keras.callbacks.History at 0x1a87d349880>"
      ]
     },
     "execution_count": 31,
     "metadata": {},
     "output_type": "execute_result"
    }
   ],
   "source": [
    "model.compile('adam', loss=BinaryCrossentropy(), metrics='accuracy')\n",
    "\n",
    "model.fit(x=train_x,\n",
    "         y=train_y,\n",
    "         batch_size=128,\n",
    "         epochs=50,\n",
    "         validation_data=(val_x, val_y),\n",
    "         callbacks=callbacks)"
   ]
  },
  {
   "cell_type": "code",
   "execution_count": 32,
   "id": "4c7d85e9",
   "metadata": {},
   "outputs": [
    {
     "data": {
      "text/plain": [
       "<tensorflow.python.training.tracking.util.CheckpointLoadStatus at 0x1a838038ac0>"
      ]
     },
     "execution_count": 32,
     "metadata": {},
     "output_type": "execute_result"
    }
   ],
   "source": [
    "model.load_weights('./models_t2s_bilstm/checkpoint')"
   ]
  },
  {
   "cell_type": "code",
   "execution_count": 33,
   "id": "613abd49",
   "metadata": {},
   "outputs": [
    {
     "name": "stdout",
     "output_type": "stream",
     "text": [
      "f1 : 0.8599221789883268\n",
      "acc: 0.856\n"
     ]
    },
    {
     "data": {
      "image/png": "[encoded data removed]",
      "text/plain": [
       "<Figure size 432x288 with 2 Axes>"
      ]
     },
     "metadata": {
      "needs_background": "light"
     },
     "output_type": "display_data"
    }
   ],
   "source": [
    "predict_result(model, train_x[:1000], train_y[:1000])"
   ]
  },
  {
   "cell_type": "code",
   "execution_count": 34,
   "id": "08ebffe5",
   "metadata": {},
   "outputs": [
    {
     "name": "stdout",
     "output_type": "stream",
     "text": [
      "f1 : 0.7918560980430916\n",
      "acc: 0.7894\n"
     ]
    },
    {
     "data": {
      "image/png": "[encoded data removed]",
      "text/plain": [
       "<Figure size 432x288 with 2 Axes>"
      ]
     },
     "metadata": {
      "needs_background": "light"
     },
     "output_type": "display_data"
    }
   ],
   "source": [
    "predict_result(model, test_x, test_y)"
   ]
  },
  {
   "cell_type": "markdown",
   "id": "315550f2",
   "metadata": {},
   "source": [
    "# Feature 3 (Glove Embeddings)"
   ]
  },
  {
   "cell_type": "code",
   "execution_count": 35,
   "id": "6027bd15",
   "metadata": {},
   "outputs": [
    {
     "data": {
      "application/vnd.jupyter.widget-view+json": {
       "model_id": "10c12dc8610a4c038220abf09a7780e1",
       "version_major": 2,
       "version_minor": 0
      },
      "text/plain": [
       "0it [00:00, ?it/s]"
      ]
     },
     "metadata": {},
     "output_type": "display_data"
    },
    {
     "data": {
      "text/plain": [
       "1917494"
      ]
     },
     "execution_count": 35,
     "metadata": {},
     "output_type": "execute_result"
    }
   ],
   "source": [
    "path = './glove.42B.300d/glove.42B.300d.txt'\n",
    "\n",
    "embeddings_index = {}\n",
    "\n",
    "with open(path, encoding='utf8') as f:\n",
    "    for line in tqdm_notebook(f):\n",
    "        word, coef = line.split(maxsplit=1)\n",
    "        coef = np.fromstring(coef, 'f', sep=' ')\n",
    "        embeddings_index[word] = coef\n",
    "        \n",
    "len(embeddings_index)"
   ]
  },
  {
   "cell_type": "code",
   "execution_count": 36,
   "id": "55fc6de8",
   "metadata": {},
   "outputs": [
    {
     "name": "stdout",
     "output_type": "stream",
     "text": [
      "Converted 18943 words (1057 misses)\n"
     ]
    }
   ],
   "source": [
    "embedding_dim = 300\n",
    "\n",
    "num_tokens = len(vocab) + 2\n",
    "\n",
    "hits = 0\n",
    "misses = 0\n",
    "\n",
    "# Prepare embedding matrix\n",
    "embedding_matrix = np.zeros((num_tokens, embedding_dim))\n",
    "\n",
    "for word, i in word_index.items():\n",
    "    embedding_vector = embeddings_index.get(word)\n",
    "    if embedding_vector is not None :\n",
    "        # Words not found in embedding index will be all-zeros.\n",
    "        # This includes the representation for \"padding\" and \"OOV\"\n",
    "        embedding_matrix[i] = embedding_vector\n",
    "        hits += 1\n",
    "    else:\n",
    "        misses += 1\n",
    "print(\"Converted %d words (%d misses)\" % (hits, misses))"
   ]
  },
  {
   "cell_type": "code",
   "execution_count": 37,
   "id": "a123a9ba",
   "metadata": {},
   "outputs": [],
   "source": [
    "def get_vector_and_one_hot(df):\n",
    "    x = vectorizer(np.array([[s] for s in tqdm_notebook(df['text'])])).numpy() \n",
    "    y = df['label'].apply(one_hot).tolist()\n",
    "    y = np.array(y)\n",
    "    return x, y"
   ]
  },
  {
   "cell_type": "code",
   "execution_count": 38,
   "id": "36bad41f",
   "metadata": {},
   "outputs": [
    {
     "data": {
      "application/vnd.jupyter.widget-view+json": {
       "model_id": "41b802e0340b4aad95e38564d8f7e6f9",
       "version_major": 2,
       "version_minor": 0
      },
      "text/plain": [
       "  0%|          | 0/25000 [00:00<?, ?it/s]"
      ]
     },
     "metadata": {},
     "output_type": "display_data"
    },
    {
     "data": {
      "application/vnd.jupyter.widget-view+json": {
       "model_id": "70712e89fbd04fb0bae36896f550fcb4",
       "version_major": 2,
       "version_minor": 0
      },
      "text/plain": [
       "  0%|          | 0/25000 [00:00<?, ?it/s]"
      ]
     },
     "metadata": {},
     "output_type": "display_data"
    }
   ],
   "source": [
    "train_val_x, train_val_y = get_vector_and_one_hot(train_df)\n",
    "test_x, test_y = get_vector_and_one_hot(test_df)"
   ]
  },
  {
   "cell_type": "code",
   "execution_count": 39,
   "id": "711083fe",
   "metadata": {},
   "outputs": [],
   "source": [
    "train_x, val_x = train_val_x[:train_len], train_val_x[train_len:]\n",
    "train_y, val_y = train_val_y[:train_len], train_val_y[train_len:]"
   ]
  },
  {
   "cell_type": "markdown",
   "id": "f12abb91",
   "metadata": {},
   "source": [
    "# Model 4 "
   ]
  },
  {
   "cell_type": "code",
   "execution_count": 41,
   "id": "5123dcf4",
   "metadata": {
    "scrolled": true
   },
   "outputs": [
    {
     "name": "stdout",
     "output_type": "stream",
     "text": [
      "Model: \"model_1\"\n",
      "_________________________________________________________________\n",
      " Layer (type)                Output Shape              Param #   \n",
      "=================================================================\n",
      " input_2 (InputLayer)        [(None, None)]            0         \n",
      "                                                                 \n",
      " embedding_3 (Embedding)     (None, None, 300)         6000600   \n",
      "                                                                 \n",
      " dense_17 (Dense)            (None, None, 256)         77056     \n",
      "                                                                 \n",
      " dropout_10 (Dropout)        (None, None, 256)         0         \n",
      "                                                                 \n",
      " dense_18 (Dense)            (None, None, 256)         65792     \n",
      "                                                                 \n",
      " dropout_11 (Dropout)        (None, None, 256)         0         \n",
      "                                                                 \n",
      " dense_19 (Dense)            (None, None, 256)         65792     \n",
      "                                                                 \n",
      " global_max_pooling1d_1 (Glo  (None, 256)              0         \n",
      " balMaxPooling1D)                                                \n",
      "                                                                 \n",
      " dense_20 (Dense)            (None, 2)                 514       \n",
      "                                                                 \n",
      "=================================================================\n",
      "Total params: 6,209,754\n",
      "Trainable params: 209,154\n",
      "Non-trainable params: 6,000,600\n",
      "_________________________________________________________________\n"
     ]
    }
   ],
   "source": [
    "embedding_layer = Embedding(\n",
    "    num_tokens,\n",
    "    embedding_dim,\n",
    "    embeddings_initializer=tf.keras.initializers.Constant(embedding_matrix),\n",
    "    trainable=False,\n",
    ")\n",
    "int_sequences_input = tf.keras.Input(shape=(None,), dtype=\"int64\")\n",
    "embedded_sequences = embedding_layer(int_sequences_input)\n",
    "x = Dense(256, activation=\"relu\")(embedded_sequences)\n",
    "x = Dropout(0.5)(x)\n",
    "x = Dense(256, activation=\"relu\")(x)\n",
    "x = Dropout(0.5)(x)\n",
    "x = Dense(256, activation=\"relu\")(x)\n",
    "x = GlobalMaxPooling1D()(x)\n",
    "\n",
    "preds = Dense(2, activation=\"sigmoid\")(x)\n",
    "\n",
    "model = tf.keras.Model(int_sequences_input, preds)\n",
    "\n",
    "callbacks=[\n",
    "    ModelCheckpoint(filepath='./models_glove_ffnn/checkpoint',\n",
    "                   save_best_only=True, save_weights_only=True, verbose=1,monitor='val_accuracy')\n",
    "]\n",
    "\n",
    "model.summary()"
   ]
  },
  {
   "cell_type": "code",
   "execution_count": 42,
   "id": "3a0420cc",
   "metadata": {},
   "outputs": [
    {
     "name": "stdout",
     "output_type": "stream",
     "text": [
      "Epoch 1/50\n",
      "156/157 [============================>.] - ETA: 0s - loss: 0.5419 - accuracy: 0.7044\n",
      "Epoch 1: val_accuracy improved from -inf to 0.77020, saving model to ./models_glove_ffnn\\checkpoint\n",
      "157/157 [==============================] - 3s 16ms/step - loss: 0.5415 - accuracy: 0.7046 - val_loss: 0.4849 - val_accuracy: 0.7702\n",
      "Epoch 2/50\n",
      "156/157 [============================>.] - ETA: 0s - loss: 0.3773 - accuracy: 0.8321\n",
      "Epoch 2: val_accuracy did not improve from 0.77020\n",
      "157/157 [==============================] - 2s 13ms/step - loss: 0.3776 - accuracy: 0.8320 - val_loss: 0.5199 - val_accuracy: 0.7196\n",
      "Epoch 3/50\n",
      "156/157 [============================>.] - ETA: 0s - loss: 0.3530 - accuracy: 0.8482\n",
      "Epoch 3: val_accuracy improved from 0.77020 to 0.77480, saving model to ./models_glove_ffnn\\checkpoint\n",
      "157/157 [==============================] - 2s 15ms/step - loss: 0.3531 - accuracy: 0.8481 - val_loss: 0.4896 - val_accuracy: 0.7748\n",
      "Epoch 4/50\n",
      "156/157 [============================>.] - ETA: 0s - loss: 0.3380 - accuracy: 0.8536\n",
      "Epoch 4: val_accuracy did not improve from 0.77480\n",
      "157/157 [==============================] - 2s 13ms/step - loss: 0.3380 - accuracy: 0.8536 - val_loss: 0.5222 - val_accuracy: 0.7148\n",
      "Epoch 5/50\n",
      "156/157 [============================>.] - ETA: 0s - loss: 0.3292 - accuracy: 0.8584\n",
      "Epoch 5: val_accuracy improved from 0.77480 to 0.79740, saving model to ./models_glove_ffnn\\checkpoint\n",
      "157/157 [==============================] - 2s 15ms/step - loss: 0.3293 - accuracy: 0.8584 - val_loss: 0.4655 - val_accuracy: 0.7974\n",
      "Epoch 6/50\n",
      "156/157 [============================>.] - ETA: 0s - loss: 0.3151 - accuracy: 0.8665\n",
      "Epoch 6: val_accuracy did not improve from 0.79740\n",
      "157/157 [==============================] - 2s 13ms/step - loss: 0.3148 - accuracy: 0.8666 - val_loss: 0.4772 - val_accuracy: 0.7834\n",
      "Epoch 7/50\n",
      "156/157 [============================>.] - ETA: 0s - loss: 0.3084 - accuracy: 0.8688\n",
      "Epoch 7: val_accuracy did not improve from 0.79740\n",
      "157/157 [==============================] - 2s 13ms/step - loss: 0.3082 - accuracy: 0.8688 - val_loss: 0.5112 - val_accuracy: 0.7260\n",
      "Epoch 8/50\n",
      "156/157 [============================>.] - ETA: 0s - loss: 0.2981 - accuracy: 0.8758\n",
      "Epoch 8: val_accuracy did not improve from 0.79740\n",
      "157/157 [==============================] - 2s 13ms/step - loss: 0.2984 - accuracy: 0.8755 - val_loss: 0.4561 - val_accuracy: 0.7934\n",
      "Epoch 9/50\n",
      "156/157 [============================>.] - ETA: 0s - loss: 0.2920 - accuracy: 0.8752\n",
      "Epoch 9: val_accuracy did not improve from 0.79740\n",
      "157/157 [==============================] - 2s 13ms/step - loss: 0.2920 - accuracy: 0.8752 - val_loss: 0.5152 - val_accuracy: 0.7102\n",
      "Epoch 10/50\n",
      "156/157 [============================>.] - ETA: 0s - loss: 0.2828 - accuracy: 0.8802\n",
      "Epoch 10: val_accuracy improved from 0.79740 to 0.83060, saving model to ./models_glove_ffnn\\checkpoint\n",
      "157/157 [==============================] - 2s 15ms/step - loss: 0.2826 - accuracy: 0.8802 - val_loss: 0.4298 - val_accuracy: 0.8306\n",
      "Epoch 11/50\n",
      "156/157 [============================>.] - ETA: 0s - loss: 0.2745 - accuracy: 0.8873\n",
      "Epoch 11: val_accuracy did not improve from 0.83060\n",
      "157/157 [==============================] - 2s 13ms/step - loss: 0.2744 - accuracy: 0.8872 - val_loss: 0.4931 - val_accuracy: 0.7346\n",
      "Epoch 12/50\n",
      "156/157 [============================>.] - ETA: 0s - loss: 0.2655 - accuracy: 0.8888\n",
      "Epoch 12: val_accuracy did not improve from 0.83060\n",
      "157/157 [==============================] - 2s 13ms/step - loss: 0.2656 - accuracy: 0.8887 - val_loss: 0.5334 - val_accuracy: 0.7048\n",
      "Epoch 13/50\n",
      "156/157 [============================>.] - ETA: 0s - loss: 0.2699 - accuracy: 0.8877\n",
      "Epoch 13: val_accuracy did not improve from 0.83060\n",
      "157/157 [==============================] - 2s 13ms/step - loss: 0.2701 - accuracy: 0.8876 - val_loss: 0.4428 - val_accuracy: 0.7906\n",
      "Epoch 14/50\n",
      "154/157 [============================>.] - ETA: 0s - loss: 0.2565 - accuracy: 0.8928\n",
      "Epoch 14: val_accuracy did not improve from 0.83060\n",
      "157/157 [==============================] - 2s 13ms/step - loss: 0.2566 - accuracy: 0.8929 - val_loss: 0.4793 - val_accuracy: 0.7458\n",
      "Epoch 15/50\n",
      "155/157 [============================>.] - ETA: 0s - loss: 0.2509 - accuracy: 0.8965\n",
      "Epoch 15: val_accuracy did not improve from 0.83060\n",
      "157/157 [==============================] - 2s 13ms/step - loss: 0.2510 - accuracy: 0.8967 - val_loss: 0.4899 - val_accuracy: 0.7374\n",
      "Epoch 16/50\n",
      "154/157 [============================>.] - ETA: 0s - loss: 0.2482 - accuracy: 0.8975\n",
      "Epoch 16: val_accuracy did not improve from 0.83060\n",
      "157/157 [==============================] - 2s 13ms/step - loss: 0.2481 - accuracy: 0.8977 - val_loss: 0.4666 - val_accuracy: 0.7626\n",
      "Epoch 17/50\n",
      "154/157 [============================>.] - ETA: 0s - loss: 0.2428 - accuracy: 0.9019\n",
      "Epoch 17: val_accuracy did not improve from 0.83060\n",
      "157/157 [==============================] - 2s 13ms/step - loss: 0.2428 - accuracy: 0.9018 - val_loss: 0.4396 - val_accuracy: 0.7898\n",
      "Epoch 18/50\n",
      "157/157 [==============================] - ETA: 0s - loss: 0.2370 - accuracy: 0.9033\n",
      "Epoch 18: val_accuracy did not improve from 0.83060\n",
      "157/157 [==============================] - 2s 13ms/step - loss: 0.2370 - accuracy: 0.9033 - val_loss: 0.4789 - val_accuracy: 0.7476\n",
      "Epoch 19/50\n",
      "156/157 [============================>.] - ETA: 0s - loss: 0.2299 - accuracy: 0.9074\n",
      "Epoch 19: val_accuracy improved from 0.83060 to 0.83620, saving model to ./models_glove_ffnn\\checkpoint\n",
      "157/157 [==============================] - 2s 15ms/step - loss: 0.2300 - accuracy: 0.9073 - val_loss: 0.3947 - val_accuracy: 0.8362\n",
      "Epoch 20/50\n",
      "154/157 [============================>.] - ETA: 0s - loss: 0.2331 - accuracy: 0.9022\n",
      "Epoch 20: val_accuracy did not improve from 0.83620\n",
      "157/157 [==============================] - 2s 13ms/step - loss: 0.2333 - accuracy: 0.9020 - val_loss: 0.4129 - val_accuracy: 0.8170\n",
      "Epoch 21/50\n",
      "156/157 [============================>.] - ETA: 0s - loss: 0.2283 - accuracy: 0.9070\n",
      "Epoch 21: val_accuracy did not improve from 0.83620\n",
      "157/157 [==============================] - 2s 13ms/step - loss: 0.2284 - accuracy: 0.9070 - val_loss: 0.4261 - val_accuracy: 0.8014\n",
      "Epoch 22/50\n",
      "156/157 [============================>.] - ETA: 0s - loss: 0.2214 - accuracy: 0.9085\n",
      "Epoch 22: val_accuracy did not improve from 0.83620\n",
      "157/157 [==============================] - 2s 13ms/step - loss: 0.2213 - accuracy: 0.9085 - val_loss: 0.4219 - val_accuracy: 0.8048\n",
      "Epoch 23/50\n",
      "156/157 [============================>.] - ETA: 0s - loss: 0.2178 - accuracy: 0.9134\n",
      "Epoch 23: val_accuracy did not improve from 0.83620\n",
      "157/157 [==============================] - 2s 13ms/step - loss: 0.2177 - accuracy: 0.9135 - val_loss: 0.4421 - val_accuracy: 0.7878\n",
      "Epoch 24/50\n",
      "156/157 [============================>.] - ETA: 0s - loss: 0.2174 - accuracy: 0.9124\n",
      "Epoch 24: val_accuracy improved from 0.83620 to 0.85200, saving model to ./models_glove_ffnn\\checkpoint\n",
      "157/157 [==============================] - 2s 15ms/step - loss: 0.2172 - accuracy: 0.9124 - val_loss: 0.3714 - val_accuracy: 0.8520\n",
      "Epoch 25/50\n",
      "155/157 [============================>.] - ETA: 0s - loss: 0.2093 - accuracy: 0.9144\n",
      "Epoch 25: val_accuracy did not improve from 0.85200\n",
      "157/157 [==============================] - 2s 13ms/step - loss: 0.2093 - accuracy: 0.9146 - val_loss: 0.3894 - val_accuracy: 0.8356\n",
      "Epoch 26/50\n",
      "156/157 [============================>.] - ETA: 0s - loss: 0.2066 - accuracy: 0.9178\n",
      "Epoch 26: val_accuracy did not improve from 0.85200\n",
      "157/157 [==============================] - 2s 13ms/step - loss: 0.2066 - accuracy: 0.9179 - val_loss: 0.3896 - val_accuracy: 0.8346\n",
      "Epoch 27/50\n",
      "156/157 [============================>.] - ETA: 0s - loss: 0.2031 - accuracy: 0.9190\n",
      "Epoch 27: val_accuracy did not improve from 0.85200\n",
      "157/157 [==============================] - 2s 12ms/step - loss: 0.2031 - accuracy: 0.9190 - val_loss: 0.4083 - val_accuracy: 0.8122\n",
      "Epoch 28/50\n",
      "156/157 [============================>.] - ETA: 0s - loss: 0.2025 - accuracy: 0.9178\n",
      "Epoch 28: val_accuracy did not improve from 0.85200\n",
      "157/157 [==============================] - 2s 13ms/step - loss: 0.2022 - accuracy: 0.9179 - val_loss: 0.4117 - val_accuracy: 0.8102\n",
      "Epoch 29/50\n",
      "156/157 [============================>.] - ETA: 0s - loss: 0.2022 - accuracy: 0.9175\n",
      "Epoch 29: val_accuracy did not improve from 0.85200\n",
      "157/157 [==============================] - 2s 12ms/step - loss: 0.2024 - accuracy: 0.9174 - val_loss: 0.4819 - val_accuracy: 0.7552\n",
      "Epoch 30/50\n",
      "156/157 [============================>.] - ETA: 0s - loss: 0.1962 - accuracy: 0.9186\n",
      "Epoch 30: val_accuracy did not improve from 0.85200\n",
      "157/157 [==============================] - 2s 12ms/step - loss: 0.1965 - accuracy: 0.9185 - val_loss: 0.4213 - val_accuracy: 0.8056\n",
      "Epoch 31/50\n",
      "156/157 [============================>.] - ETA: 0s - loss: 0.1940 - accuracy: 0.9216\n",
      "Epoch 31: val_accuracy did not improve from 0.85200\n",
      "157/157 [==============================] - 2s 13ms/step - loss: 0.1941 - accuracy: 0.9216 - val_loss: 0.3939 - val_accuracy: 0.8260\n",
      "Epoch 32/50\n",
      "156/157 [============================>.] - ETA: 0s - loss: 0.1893 - accuracy: 0.9239\n",
      "Epoch 32: val_accuracy did not improve from 0.85200\n",
      "157/157 [==============================] - 2s 13ms/step - loss: 0.1893 - accuracy: 0.9238 - val_loss: 0.3977 - val_accuracy: 0.8204\n",
      "Epoch 33/50\n",
      "156/157 [============================>.] - ETA: 0s - loss: 0.1897 - accuracy: 0.9215\n",
      "Epoch 33: val_accuracy did not improve from 0.85200\n",
      "157/157 [==============================] - 2s 13ms/step - loss: 0.1897 - accuracy: 0.9214 - val_loss: 0.4393 - val_accuracy: 0.7880\n",
      "Epoch 34/50\n",
      "156/157 [============================>.] - ETA: 0s - loss: 0.1846 - accuracy: 0.9266\n",
      "Epoch 34: val_accuracy did not improve from 0.85200\n",
      "157/157 [==============================] - 2s 13ms/step - loss: 0.1845 - accuracy: 0.9266 - val_loss: 0.3947 - val_accuracy: 0.8216\n",
      "Epoch 35/50\n",
      "156/157 [============================>.] - ETA: 0s - loss: 0.1834 - accuracy: 0.9258\n",
      "Epoch 35: val_accuracy did not improve from 0.85200\n",
      "157/157 [==============================] - 2s 13ms/step - loss: 0.1833 - accuracy: 0.9258 - val_loss: 0.4301 - val_accuracy: 0.7944\n",
      "Epoch 36/50\n",
      "156/157 [============================>.] - ETA: 0s - loss: 0.1822 - accuracy: 0.9280\n",
      "Epoch 36: val_accuracy did not improve from 0.85200\n",
      "157/157 [==============================] - 2s 13ms/step - loss: 0.1825 - accuracy: 0.9279 - val_loss: 0.3775 - val_accuracy: 0.8372\n",
      "Epoch 37/50\n",
      "156/157 [============================>.] - ETA: 0s - loss: 0.1832 - accuracy: 0.9248\n",
      "Epoch 37: val_accuracy did not improve from 0.85200\n",
      "157/157 [==============================] - 2s 13ms/step - loss: 0.1832 - accuracy: 0.9248 - val_loss: 0.4254 - val_accuracy: 0.7962\n",
      "Epoch 38/50\n",
      "156/157 [============================>.] - ETA: 0s - loss: 0.1793 - accuracy: 0.9295\n",
      "Epoch 38: val_accuracy did not improve from 0.85200\n",
      "157/157 [==============================] - 2s 13ms/step - loss: 0.1796 - accuracy: 0.9295 - val_loss: 0.4128 - val_accuracy: 0.8042\n",
      "Epoch 39/50\n",
      "156/157 [============================>.] - ETA: 0s - loss: 0.1744 - accuracy: 0.9300\n",
      "Epoch 39: val_accuracy did not improve from 0.85200\n",
      "157/157 [==============================] - 2s 13ms/step - loss: 0.1745 - accuracy: 0.9300 - val_loss: 0.4444 - val_accuracy: 0.7830\n",
      "Epoch 40/50\n",
      "156/157 [============================>.] - ETA: 0s - loss: 0.1757 - accuracy: 0.9297\n",
      "Epoch 40: val_accuracy did not improve from 0.85200\n",
      "157/157 [==============================] - 2s 13ms/step - loss: 0.1765 - accuracy: 0.9295 - val_loss: 0.4152 - val_accuracy: 0.8034\n",
      "Epoch 41/50\n",
      "156/157 [============================>.] - ETA: 0s - loss: 0.1702 - accuracy: 0.9328\n",
      "Epoch 41: val_accuracy did not improve from 0.85200\n",
      "157/157 [==============================] - 2s 12ms/step - loss: 0.1701 - accuracy: 0.9328 - val_loss: 0.3964 - val_accuracy: 0.8172\n",
      "Epoch 42/50\n",
      "156/157 [============================>.] - ETA: 0s - loss: 0.1676 - accuracy: 0.9332\n",
      "Epoch 42: val_accuracy did not improve from 0.85200\n",
      "157/157 [==============================] - 2s 13ms/step - loss: 0.1675 - accuracy: 0.9333 - val_loss: 0.4203 - val_accuracy: 0.8034\n",
      "Epoch 43/50\n",
      "156/157 [============================>.] - ETA: 0s - loss: 0.1654 - accuracy: 0.9342\n",
      "Epoch 43: val_accuracy did not improve from 0.85200\n",
      "157/157 [==============================] - 2s 13ms/step - loss: 0.1654 - accuracy: 0.9342 - val_loss: 0.4173 - val_accuracy: 0.8040\n",
      "Epoch 44/50\n",
      "156/157 [============================>.] - ETA: 0s - loss: 0.1646 - accuracy: 0.9342\n",
      "Epoch 44: val_accuracy improved from 0.85200 to 0.85880, saving model to ./models_glove_ffnn\\checkpoint\n",
      "157/157 [==============================] - 2s 15ms/step - loss: 0.1645 - accuracy: 0.9342 - val_loss: 0.3529 - val_accuracy: 0.8588\n",
      "Epoch 45/50\n",
      "156/157 [============================>.] - ETA: 0s - loss: 0.1645 - accuracy: 0.9337\n",
      "Epoch 45: val_accuracy did not improve from 0.85880\n",
      "157/157 [==============================] - 2s 13ms/step - loss: 0.1645 - accuracy: 0.9337 - val_loss: 0.4017 - val_accuracy: 0.8192\n",
      "Epoch 46/50\n",
      "156/157 [============================>.] - ETA: 0s - loss: 0.1678 - accuracy: 0.9334\n",
      "Epoch 46: val_accuracy did not improve from 0.85880\n",
      "157/157 [==============================] - 2s 13ms/step - loss: 0.1678 - accuracy: 0.9335 - val_loss: 0.4590 - val_accuracy: 0.7748\n",
      "Epoch 47/50\n",
      "156/157 [============================>.] - ETA: 0s - loss: 0.1584 - accuracy: 0.9377\n",
      "Epoch 47: val_accuracy did not improve from 0.85880\n",
      "157/157 [==============================] - 2s 13ms/step - loss: 0.1583 - accuracy: 0.9377 - val_loss: 0.4272 - val_accuracy: 0.7956\n",
      "Epoch 48/50\n",
      "156/157 [============================>.] - ETA: 0s - loss: 0.1564 - accuracy: 0.9363\n",
      "Epoch 48: val_accuracy did not improve from 0.85880\n",
      "157/157 [==============================] - 2s 13ms/step - loss: 0.1563 - accuracy: 0.9364 - val_loss: 0.4061 - val_accuracy: 0.8106\n",
      "Epoch 49/50\n",
      "156/157 [============================>.] - ETA: 0s - loss: 0.1556 - accuracy: 0.9362\n",
      "Epoch 49: val_accuracy did not improve from 0.85880\n",
      "157/157 [==============================] - 2s 13ms/step - loss: 0.1556 - accuracy: 0.9362 - val_loss: 0.4246 - val_accuracy: 0.7970\n",
      "Epoch 50/50\n",
      "156/157 [============================>.] - ETA: 0s - loss: 0.1629 - accuracy: 0.9344\n",
      "Epoch 50: val_accuracy did not improve from 0.85880\n",
      "157/157 [==============================] - 2s 13ms/step - loss: 0.1628 - accuracy: 0.9344 - val_loss: 0.4192 - val_accuracy: 0.8064\n"
     ]
    },
    {
     "data": {
      "text/plain": [
       "<keras.callbacks.History at 0x1aa28a9d550>"
      ]
     },
     "execution_count": 42,
     "metadata": {},
     "output_type": "execute_result"
    }
   ],
   "source": [
    "model.compile('adam', loss=BinaryCrossentropy(), metrics='accuracy')\n",
    "\n",
    "model.fit(x=train_x,\n",
    "         y=train_y,\n",
    "         batch_size=128,\n",
    "         epochs=50,\n",
    "         validation_data=(val_x, val_y),\n",
    "         callbacks=callbacks)"
   ]
  },
  {
   "cell_type": "code",
   "execution_count": 43,
   "id": "6f5faf96",
   "metadata": {},
   "outputs": [
    {
     "data": {
      "text/plain": [
       "<tensorflow.python.training.tracking.util.CheckpointLoadStatus at 0x1aa28dd4df0>"
      ]
     },
     "execution_count": 43,
     "metadata": {},
     "output_type": "execute_result"
    }
   ],
   "source": [
    "model.load_weights('./models_glove_ffnn/checkpoint')"
   ]
  },
  {
   "cell_type": "code",
   "execution_count": 44,
   "id": "2ee0d98b",
   "metadata": {},
   "outputs": [
    {
     "name": "stdout",
     "output_type": "stream",
     "text": [
      "f1 : 0.937691521961185\n",
      "acc: 0.939\n"
     ]
    },
    {
     "data": {
      "image/png": "[encoded data removed]",
      "text/plain": [
       "<Figure size 432x288 with 2 Axes>"
      ]
     },
     "metadata": {
      "needs_background": "light"
     },
     "output_type": "display_data"
    }
   ],
   "source": [
    "predict_result(model, train_x[:1000], train_y[:1000])"
   ]
  },
  {
   "cell_type": "code",
   "execution_count": 45,
   "id": "46cbf625",
   "metadata": {},
   "outputs": [
    {
     "name": "stdout",
     "output_type": "stream",
     "text": [
      "f1 : 0.7940058543405129\n",
      "acc: 0.8114\n"
     ]
    },
    {
     "data": {
      "image/png": "[encoded data removed]",
      "text/plain": [
       "<Figure size 432x288 with 2 Axes>"
      ]
     },
     "metadata": {
      "needs_background": "light"
     },
     "output_type": "display_data"
    }
   ],
   "source": [
    "predict_result(model, test_x, test_y)"
   ]
  },
  {
   "cell_type": "code",
   "execution_count": 46,
   "id": "18e9ab3f",
   "metadata": {},
   "outputs": [
    {
     "name": "stdout",
     "output_type": "stream",
     "text": [
      "Model: \"model_2\"\n",
      "_________________________________________________________________\n",
      " Layer (type)                Output Shape              Param #   \n",
      "=================================================================\n",
      " input_3 (InputLayer)        [(None, None)]            0         \n",
      "                                                                 \n",
      " embedding_4 (Embedding)     (None, None, 300)         6000600   \n",
      "                                                                 \n",
      " bidirectional_1 (Bidirectio  (None, 256)              439296    \n",
      " nal)                                                            \n",
      "                                                                 \n",
      " dropout_12 (Dropout)        (None, 256)               0         \n",
      "                                                                 \n",
      " dense_21 (Dense)            (None, 256)               65792     \n",
      "                                                                 \n",
      " flatten (Flatten)           (None, 256)               0         \n",
      "                                                                 \n",
      " dense_22 (Dense)            (None, 2)                 514       \n",
      "                                                                 \n",
      "=================================================================\n",
      "Total params: 6,506,202\n",
      "Trainable params: 505,602\n",
      "Non-trainable params: 6,000,600\n",
      "_________________________________________________________________\n"
     ]
    }
   ],
   "source": [
    "embedding_layer = Embedding(\n",
    "    num_tokens,\n",
    "    embedding_dim,\n",
    "    embeddings_initializer=tf.keras.initializers.Constant(embedding_matrix),\n",
    "    trainable=False,\n",
    ")\n",
    "int_sequences_input = tf.keras.Input(shape=(None,), dtype=\"int64\")\n",
    "embedded_sequences = embedding_layer(int_sequences_input)\n",
    "x = Bidirectional(LSTM(128))(embedded_sequences)\n",
    "x = Dropout(0.5)(x)\n",
    "x = Dense(256, activation=\"relu\")(x)\n",
    "x = Flatten()(x)\n",
    "\n",
    "preds = Dense(2, activation=\"sigmoid\")(x)\n",
    "\n",
    "model = tf.keras.Model(int_sequences_input, preds)\n",
    "\n",
    "callbacks=[\n",
    "    ModelCheckpoint(filepath='./models_glove_bilstm/checkpoint',\n",
    "                   save_best_only=True, save_weights_only=True, verbose=1,monitor='val_accuracy')\n",
    "]\n",
    "\n",
    "model.summary()"
   ]
  },
  {
   "cell_type": "code",
   "execution_count": 47,
   "id": "9186fe14",
   "metadata": {},
   "outputs": [
    {
     "name": "stdout",
     "output_type": "stream",
     "text": [
      "Epoch 1/50\n",
      "157/157 [==============================] - ETA: 0s - loss: 0.5362 - accuracy: 0.7479\n",
      "Epoch 1: val_accuracy improved from -inf to 0.82260, saving model to ./models_glove_bilstm\\checkpoint\n",
      "157/157 [==============================] - 10s 52ms/step - loss: 0.5362 - accuracy: 0.7479 - val_loss: 0.4366 - val_accuracy: 0.8226\n",
      "Epoch 2/50\n",
      "157/157 [==============================] - ETA: 0s - loss: 0.4121 - accuracy: 0.8235\n",
      "Epoch 2: val_accuracy improved from 0.82260 to 0.83480, saving model to ./models_glove_bilstm\\checkpoint\n",
      "157/157 [==============================] - 8s 49ms/step - loss: 0.4121 - accuracy: 0.8235 - val_loss: 0.3910 - val_accuracy: 0.8348\n",
      "Epoch 3/50\n",
      "157/157 [==============================] - ETA: 0s - loss: 0.3585 - accuracy: 0.8507\n",
      "Epoch 3: val_accuracy improved from 0.83480 to 0.84640, saving model to ./models_glove_bilstm\\checkpoint\n",
      "157/157 [==============================] - 7s 45ms/step - loss: 0.3585 - accuracy: 0.8507 - val_loss: 0.3635 - val_accuracy: 0.8464\n",
      "Epoch 4/50\n",
      "157/157 [==============================] - ETA: 0s - loss: 0.3365 - accuracy: 0.8594\n",
      "Epoch 4: val_accuracy improved from 0.84640 to 0.86700, saving model to ./models_glove_bilstm\\checkpoint\n",
      "157/157 [==============================] - 7s 44ms/step - loss: 0.3365 - accuracy: 0.8594 - val_loss: 0.3187 - val_accuracy: 0.8670\n",
      "Epoch 5/50\n",
      "157/157 [==============================] - ETA: 0s - loss: 0.2990 - accuracy: 0.8781\n",
      "Epoch 5: val_accuracy improved from 0.86700 to 0.86800, saving model to ./models_glove_bilstm\\checkpoint\n",
      "157/157 [==============================] - 7s 48ms/step - loss: 0.2990 - accuracy: 0.8781 - val_loss: 0.3271 - val_accuracy: 0.8680\n",
      "Epoch 6/50\n",
      "157/157 [==============================] - ETA: 0s - loss: 0.2759 - accuracy: 0.8900\n",
      "Epoch 6: val_accuracy improved from 0.86800 to 0.87580, saving model to ./models_glove_bilstm\\checkpoint\n",
      "157/157 [==============================] - 7s 45ms/step - loss: 0.2759 - accuracy: 0.8900 - val_loss: 0.3288 - val_accuracy: 0.8758\n",
      "Epoch 7/50\n",
      "157/157 [==============================] - ETA: 0s - loss: 0.2493 - accuracy: 0.9010\n",
      "Epoch 7: val_accuracy improved from 0.87580 to 0.87640, saving model to ./models_glove_bilstm\\checkpoint\n",
      "157/157 [==============================] - 7s 46ms/step - loss: 0.2493 - accuracy: 0.9010 - val_loss: 0.3087 - val_accuracy: 0.8764\n",
      "Epoch 8/50\n",
      "157/157 [==============================] - ETA: 0s - loss: 0.2299 - accuracy: 0.9104\n",
      "Epoch 8: val_accuracy improved from 0.87640 to 0.87760, saving model to ./models_glove_bilstm\\checkpoint\n",
      "157/157 [==============================] - 7s 48ms/step - loss: 0.2299 - accuracy: 0.9104 - val_loss: 0.3416 - val_accuracy: 0.8776\n",
      "Epoch 9/50\n",
      "157/157 [==============================] - ETA: 0s - loss: 0.2007 - accuracy: 0.9223\n",
      "Epoch 9: val_accuracy did not improve from 0.87760\n",
      "157/157 [==============================] - 7s 44ms/step - loss: 0.2007 - accuracy: 0.9223 - val_loss: 0.3200 - val_accuracy: 0.8774\n",
      "Epoch 10/50\n",
      "156/157 [============================>.] - ETA: 0s - loss: 0.1836 - accuracy: 0.9291\n",
      "Epoch 10: val_accuracy did not improve from 0.87760\n",
      "157/157 [==============================] - 7s 45ms/step - loss: 0.1835 - accuracy: 0.9291 - val_loss: 0.3260 - val_accuracy: 0.8748\n",
      "Epoch 11/50\n",
      "156/157 [============================>.] - ETA: 0s - loss: 0.1571 - accuracy: 0.9390\n",
      "Epoch 11: val_accuracy did not improve from 0.87760\n",
      "157/157 [==============================] - 7s 43ms/step - loss: 0.1570 - accuracy: 0.9391 - val_loss: 0.3714 - val_accuracy: 0.8744\n",
      "Epoch 12/50\n",
      "156/157 [============================>.] - ETA: 0s - loss: 0.1367 - accuracy: 0.9487\n",
      "Epoch 12: val_accuracy did not improve from 0.87760\n",
      "157/157 [==============================] - 7s 46ms/step - loss: 0.1368 - accuracy: 0.9487 - val_loss: 0.3583 - val_accuracy: 0.8726\n",
      "Epoch 13/50\n",
      "156/157 [============================>.] - ETA: 0s - loss: 0.1109 - accuracy: 0.9595\n",
      "Epoch 13: val_accuracy did not improve from 0.87760\n",
      "157/157 [==============================] - 7s 47ms/step - loss: 0.1110 - accuracy: 0.9594 - val_loss: 0.4551 - val_accuracy: 0.8560\n",
      "Epoch 14/50\n",
      "156/157 [============================>.] - ETA: 0s - loss: 0.1063 - accuracy: 0.9601\n",
      "Epoch 14: val_accuracy did not improve from 0.87760\n",
      "157/157 [==============================] - 7s 45ms/step - loss: 0.1064 - accuracy: 0.9600 - val_loss: 0.4368 - val_accuracy: 0.8714\n",
      "Epoch 15/50\n",
      "157/157 [==============================] - ETA: 0s - loss: 0.1453 - accuracy: 0.9456\n",
      "Epoch 15: val_accuracy did not improve from 0.87760\n",
      "157/157 [==============================] - 7s 45ms/step - loss: 0.1453 - accuracy: 0.9456 - val_loss: 0.4335 - val_accuracy: 0.8684\n",
      "Epoch 16/50\n",
      "156/157 [============================>.] - ETA: 0s - loss: 0.0797 - accuracy: 0.9710\n",
      "Epoch 16: val_accuracy did not improve from 0.87760\n",
      "157/157 [==============================] - 7s 45ms/step - loss: 0.0796 - accuracy: 0.9710 - val_loss: 0.4524 - val_accuracy: 0.8698\n",
      "Epoch 17/50\n",
      "157/157 [==============================] - ETA: 0s - loss: 0.0514 - accuracy: 0.9822\n",
      "Epoch 17: val_accuracy did not improve from 0.87760\n",
      "157/157 [==============================] - 7s 45ms/step - loss: 0.0514 - accuracy: 0.9822 - val_loss: 0.5583 - val_accuracy: 0.8692\n",
      "Epoch 18/50\n",
      "156/157 [============================>.] - ETA: 0s - loss: 0.0417 - accuracy: 0.9851\n",
      "Epoch 18: val_accuracy did not improve from 0.87760\n",
      "157/157 [==============================] - 7s 43ms/step - loss: 0.0416 - accuracy: 0.9851 - val_loss: 0.5804 - val_accuracy: 0.8632\n",
      "Epoch 19/50\n",
      "157/157 [==============================] - ETA: 0s - loss: 0.0444 - accuracy: 0.9858\n",
      "Epoch 19: val_accuracy did not improve from 0.87760\n",
      "157/157 [==============================] - 6s 40ms/step - loss: 0.0444 - accuracy: 0.9858 - val_loss: 0.6453 - val_accuracy: 0.8578\n",
      "Epoch 20/50\n",
      "157/157 [==============================] - ETA: 0s - loss: 0.0402 - accuracy: 0.9874\n",
      "Epoch 20: val_accuracy did not improve from 0.87760\n",
      "157/157 [==============================] - 6s 40ms/step - loss: 0.0402 - accuracy: 0.9874 - val_loss: 0.5696 - val_accuracy: 0.8678\n",
      "Epoch 21/50\n",
      "157/157 [==============================] - ETA: 0s - loss: 0.0318 - accuracy: 0.9884\n",
      "Epoch 21: val_accuracy did not improve from 0.87760\n",
      "157/157 [==============================] - 6s 41ms/step - loss: 0.0318 - accuracy: 0.9884 - val_loss: 0.7095 - val_accuracy: 0.8704\n",
      "Epoch 22/50\n",
      "156/157 [============================>.] - ETA: 0s - loss: 0.0346 - accuracy: 0.9883\n",
      "Epoch 22: val_accuracy improved from 0.87760 to 0.87860, saving model to ./models_glove_bilstm\\checkpoint\n",
      "157/157 [==============================] - 7s 45ms/step - loss: 0.0346 - accuracy: 0.9883 - val_loss: 0.5951 - val_accuracy: 0.8786\n",
      "Epoch 23/50\n",
      "157/157 [==============================] - ETA: 0s - loss: 0.0226 - accuracy: 0.9929\n",
      "Epoch 23: val_accuracy did not improve from 0.87860\n",
      "157/157 [==============================] - 7s 42ms/step - loss: 0.0226 - accuracy: 0.9929 - val_loss: 0.6964 - val_accuracy: 0.8692\n",
      "Epoch 24/50\n",
      "157/157 [==============================] - ETA: 0s - loss: 0.0269 - accuracy: 0.9909\n",
      "Epoch 24: val_accuracy did not improve from 0.87860\n",
      "157/157 [==============================] - 7s 43ms/step - loss: 0.0269 - accuracy: 0.9909 - val_loss: 0.6657 - val_accuracy: 0.8778\n",
      "Epoch 25/50\n",
      "157/157 [==============================] - ETA: 0s - loss: 0.0251 - accuracy: 0.9923\n",
      "Epoch 25: val_accuracy did not improve from 0.87860\n",
      "157/157 [==============================] - 7s 46ms/step - loss: 0.0251 - accuracy: 0.9923 - val_loss: 0.8231 - val_accuracy: 0.8590\n",
      "Epoch 26/50\n",
      "156/157 [============================>.] - ETA: 0s - loss: 0.0202 - accuracy: 0.9930\n",
      "Epoch 26: val_accuracy did not improve from 0.87860\n",
      "157/157 [==============================] - 7s 46ms/step - loss: 0.0203 - accuracy: 0.9930 - val_loss: 0.7765 - val_accuracy: 0.8666\n",
      "Epoch 27/50\n",
      "157/157 [==============================] - ETA: 0s - loss: 0.0288 - accuracy: 0.9910\n",
      "Epoch 27: val_accuracy did not improve from 0.87860\n",
      "157/157 [==============================] - 8s 48ms/step - loss: 0.0288 - accuracy: 0.9910 - val_loss: 0.7017 - val_accuracy: 0.8736\n",
      "Epoch 28/50\n",
      "156/157 [============================>.] - ETA: 0s - loss: 0.0298 - accuracy: 0.9901\n",
      "Epoch 28: val_accuracy did not improve from 0.87860\n"
     ]
    },
    {
     "name": "stdout",
     "output_type": "stream",
     "text": [
      "157/157 [==============================] - 7s 47ms/step - loss: 0.0298 - accuracy: 0.9901 - val_loss: 0.6045 - val_accuracy: 0.8686\n",
      "Epoch 29/50\n",
      "157/157 [==============================] - ETA: 0s - loss: 0.0081 - accuracy: 0.9974\n",
      "Epoch 29: val_accuracy improved from 0.87860 to 0.87920, saving model to ./models_glove_bilstm\\checkpoint\n",
      "157/157 [==============================] - 8s 49ms/step - loss: 0.0081 - accuracy: 0.9974 - val_loss: 0.8698 - val_accuracy: 0.8792\n",
      "Epoch 30/50\n",
      "157/157 [==============================] - ETA: 0s - loss: 0.0107 - accuracy: 0.9969\n",
      "Epoch 30: val_accuracy did not improve from 0.87920\n",
      "157/157 [==============================] - 7s 45ms/step - loss: 0.0107 - accuracy: 0.9969 - val_loss: 0.8029 - val_accuracy: 0.8648\n",
      "Epoch 31/50\n",
      "157/157 [==============================] - ETA: 0s - loss: 0.0218 - accuracy: 0.9923\n",
      "Epoch 31: val_accuracy did not improve from 0.87920\n",
      "157/157 [==============================] - 7s 44ms/step - loss: 0.0218 - accuracy: 0.9923 - val_loss: 0.7991 - val_accuracy: 0.8650\n",
      "Epoch 32/50\n",
      "157/157 [==============================] - ETA: 0s - loss: 0.0282 - accuracy: 0.9907\n",
      "Epoch 32: val_accuracy did not improve from 0.87920\n",
      "157/157 [==============================] - 6s 40ms/step - loss: 0.0282 - accuracy: 0.9907 - val_loss: 0.7410 - val_accuracy: 0.8724\n",
      "Epoch 33/50\n",
      "157/157 [==============================] - ETA: 0s - loss: 0.0103 - accuracy: 0.9966\n",
      "Epoch 33: val_accuracy did not improve from 0.87920\n",
      "157/157 [==============================] - 6s 39ms/step - loss: 0.0103 - accuracy: 0.9966 - val_loss: 0.8660 - val_accuracy: 0.8750\n",
      "Epoch 34/50\n",
      "156/157 [============================>.] - ETA: 0s - loss: 0.0079 - accuracy: 0.9976\n",
      "Epoch 34: val_accuracy did not improve from 0.87920\n",
      "157/157 [==============================] - 7s 44ms/step - loss: 0.0079 - accuracy: 0.9977 - val_loss: 0.9759 - val_accuracy: 0.8730\n",
      "Epoch 35/50\n",
      "156/157 [============================>.] - ETA: 0s - loss: 0.0067 - accuracy: 0.9981\n",
      "Epoch 35: val_accuracy did not improve from 0.87920\n",
      "157/157 [==============================] - 7s 46ms/step - loss: 0.0067 - accuracy: 0.9981 - val_loss: 0.8732 - val_accuracy: 0.8740\n",
      "Epoch 36/50\n",
      "156/157 [============================>.] - ETA: 0s - loss: 0.0063 - accuracy: 0.9981\n",
      "Epoch 36: val_accuracy did not improve from 0.87920\n",
      "157/157 [==============================] - 7s 46ms/step - loss: 0.0062 - accuracy: 0.9981 - val_loss: 1.0001 - val_accuracy: 0.8786\n",
      "Epoch 37/50\n",
      "157/157 [==============================] - ETA: 0s - loss: 0.0075 - accuracy: 0.9977\n",
      "Epoch 37: val_accuracy did not improve from 0.87920\n",
      "157/157 [==============================] - 7s 46ms/step - loss: 0.0075 - accuracy: 0.9977 - val_loss: 0.8729 - val_accuracy: 0.8662\n",
      "Epoch 38/50\n",
      "156/157 [============================>.] - ETA: 0s - loss: 0.0073 - accuracy: 0.9980\n",
      "Epoch 38: val_accuracy did not improve from 0.87920\n",
      "157/157 [==============================] - 7s 47ms/step - loss: 0.0073 - accuracy: 0.9980 - val_loss: 0.9451 - val_accuracy: 0.8748\n",
      "Epoch 39/50\n",
      "157/157 [==============================] - ETA: 0s - loss: 0.0037 - accuracy: 0.9987\n",
      "Epoch 39: val_accuracy did not improve from 0.87920\n",
      "157/157 [==============================] - 7s 44ms/step - loss: 0.0037 - accuracy: 0.9987 - val_loss: 1.0538 - val_accuracy: 0.8764\n",
      "Epoch 40/50\n",
      "156/157 [============================>.] - ETA: 0s - loss: 0.0133 - accuracy: 0.9956\n",
      "Epoch 40: val_accuracy did not improve from 0.87920\n",
      "157/157 [==============================] - 7s 44ms/step - loss: 0.0133 - accuracy: 0.9956 - val_loss: 0.8126 - val_accuracy: 0.8690\n",
      "Epoch 41/50\n",
      "157/157 [==============================] - ETA: 0s - loss: 0.0106 - accuracy: 0.9970\n",
      "Epoch 41: val_accuracy did not improve from 0.87920\n",
      "157/157 [==============================] - 7s 43ms/step - loss: 0.0106 - accuracy: 0.9970 - val_loss: 0.9402 - val_accuracy: 0.8782\n",
      "Epoch 42/50\n",
      "157/157 [==============================] - ETA: 0s - loss: 0.0498 - accuracy: 0.9851\n",
      "Epoch 42: val_accuracy did not improve from 0.87920\n",
      "157/157 [==============================] - 7s 44ms/step - loss: 0.0498 - accuracy: 0.9851 - val_loss: 0.7112 - val_accuracy: 0.8752\n",
      "Epoch 43/50\n",
      "157/157 [==============================] - ETA: 0s - loss: 0.0117 - accuracy: 0.9956\n",
      "Epoch 43: val_accuracy did not improve from 0.87920\n",
      "157/157 [==============================] - 7s 42ms/step - loss: 0.0117 - accuracy: 0.9956 - val_loss: 0.8387 - val_accuracy: 0.8740\n",
      "Epoch 44/50\n",
      "157/157 [==============================] - ETA: 0s - loss: 0.0059 - accuracy: 0.9979\n",
      "Epoch 44: val_accuracy did not improve from 0.87920\n",
      "157/157 [==============================] - 7s 44ms/step - loss: 0.0059 - accuracy: 0.9979 - val_loss: 0.9701 - val_accuracy: 0.8752\n",
      "Epoch 45/50\n",
      "156/157 [============================>.] - ETA: 0s - loss: 0.0083 - accuracy: 0.9973\n",
      "Epoch 45: val_accuracy did not improve from 0.87920\n",
      "157/157 [==============================] - 7s 43ms/step - loss: 0.0083 - accuracy: 0.9973 - val_loss: 0.9777 - val_accuracy: 0.8480\n",
      "Epoch 46/50\n",
      "156/157 [============================>.] - ETA: 0s - loss: 0.0145 - accuracy: 0.9960\n",
      "Epoch 46: val_accuracy did not improve from 0.87920\n",
      "157/157 [==============================] - 7s 44ms/step - loss: 0.0145 - accuracy: 0.9960 - val_loss: 0.9015 - val_accuracy: 0.8704\n",
      "Epoch 47/50\n",
      "157/157 [==============================] - ETA: 0s - loss: 0.0104 - accuracy: 0.9966\n",
      "Epoch 47: val_accuracy did not improve from 0.87920\n",
      "157/157 [==============================] - 7s 45ms/step - loss: 0.0104 - accuracy: 0.9966 - val_loss: 0.8452 - val_accuracy: 0.8660\n",
      "Epoch 48/50\n",
      "157/157 [==============================] - ETA: 0s - loss: 0.0117 - accuracy: 0.9966\n",
      "Epoch 48: val_accuracy did not improve from 0.87920\n",
      "157/157 [==============================] - 7s 45ms/step - loss: 0.0117 - accuracy: 0.9966 - val_loss: 0.8752 - val_accuracy: 0.8752\n",
      "Epoch 49/50\n",
      "156/157 [============================>.] - ETA: 0s - loss: 0.0030 - accuracy: 0.9990\n",
      "Epoch 49: val_accuracy did not improve from 0.87920\n",
      "157/157 [==============================] - 7s 43ms/step - loss: 0.0030 - accuracy: 0.9991 - val_loss: 1.0403 - val_accuracy: 0.8728\n",
      "Epoch 50/50\n",
      "157/157 [==============================] - ETA: 0s - loss: 0.0075 - accuracy: 0.9977\n",
      "Epoch 50: val_accuracy did not improve from 0.87920\n",
      "157/157 [==============================] - 7s 44ms/step - loss: 0.0075 - accuracy: 0.9977 - val_loss: 0.9909 - val_accuracy: 0.8670\n"
     ]
    },
    {
     "data": {
      "text/plain": [
       "<keras.callbacks.History at 0x1a837d13bb0>"
      ]
     },
     "execution_count": 47,
     "metadata": {},
     "output_type": "execute_result"
    }
   ],
   "source": [
    "model.compile('adam', loss=BinaryCrossentropy(), metrics='accuracy')\n",
    "\n",
    "model.fit(x=train_x,\n",
    "         y=train_y,\n",
    "         batch_size=128,\n",
    "         epochs=50,\n",
    "         validation_data=(val_x, val_y),\n",
    "         callbacks=callbacks)"
   ]
  },
  {
   "cell_type": "code",
   "execution_count": 48,
   "id": "fceba0ff",
   "metadata": {},
   "outputs": [
    {
     "data": {
      "text/plain": [
       "<tensorflow.python.training.tracking.util.CheckpointLoadStatus at 0x1aa28572c40>"
      ]
     },
     "execution_count": 48,
     "metadata": {},
     "output_type": "execute_result"
    }
   ],
   "source": [
    "model.load_weights('./models_glove_bilstm/checkpoint')"
   ]
  },
  {
   "cell_type": "code",
   "execution_count": 49,
   "id": "17d06c83",
   "metadata": {},
   "outputs": [
    {
     "name": "stdout",
     "output_type": "stream",
     "text": [
      "f1 : 0.9990224828934506\n",
      "acc: 0.999\n"
     ]
    },
    {
     "data": {
      "image/png": "[encoded data removed]",
      "text/plain": [
       "<Figure size 432x288 with 2 Axes>"
      ]
     },
     "metadata": {
      "needs_background": "light"
     },
     "output_type": "display_data"
    }
   ],
   "source": [
    "predict_result(model, train_x[:1000], train_y[:1000])"
   ]
  },
  {
   "cell_type": "code",
   "execution_count": 50,
   "id": "1959c5cc",
   "metadata": {},
   "outputs": [
    {
     "name": "stdout",
     "output_type": "stream",
     "text": [
      "f1 : 0.8758346520514108\n",
      "acc: 0.87132\n"
     ]
    },
    {
     "data": {
      "image/png": "[encoded data removed]",
      "text/plain": [
       "<Figure size 432x288 with 2 Axes>"
      ]
     },
     "metadata": {
      "needs_background": "light"
     },
     "output_type": "display_data"
    }
   ],
   "source": [
    "predict_result(model, test_x, test_y)"
   ]
  },
  {
   "cell_type": "code",
   "execution_count": null,
   "id": "4b573fce",
   "metadata": {},
   "outputs": [],
   "source": []
  },
  {
   "cell_type": "code",
   "execution_count": null,
   "id": "8512defd",
   "metadata": {},
   "outputs": [],
   "source": []
  }
 ],
 "metadata": {
  "kernelspec": {
   "display_name": "Python 3 (ipykernel)",
   "language": "python",
   "name": "python3"
  },
  "language_info": {
   "codemirror_mode": {
    "name": "ipython",
    "version": 3
   },
   "file_extension": ".py",
   "mimetype": "text/x-python",
   "name": "python",
   "nbconvert_exporter": "python",
   "pygments_lexer": "ipython3",
   "version": "3.9.0"
  }
 },
 "nbformat": 4,
 "nbformat_minor": 5
}
