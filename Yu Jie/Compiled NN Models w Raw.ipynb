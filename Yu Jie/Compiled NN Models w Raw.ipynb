{
 "cells": [
  {
   "cell_type": "code",
   "execution_count": 1,
   "id": "f1e270fc",
   "metadata": {},
   "outputs": [],
   "source": [
    "import spacy\n",
    "import pandas as pd\n",
    "import tensorflow as tf\n",
    "from tensorflow.keras.models import Sequential, load_model\n",
    "from tensorflow.keras.layers import Dense, LSTM, GRU, Bidirectional, Dropout, Flatten, Embedding, TextVectorization, GlobalMaxPooling1D\n",
    "from tensorflow.keras.callbacks import ModelCheckpoint\n",
    "from tensorflow.keras.optimizers import SGD, Adam, RMSprop\n",
    "from tensorflow.keras.losses import BinaryCrossentropy\n",
    "from tensorflow.keras.preprocessing.text import Tokenizer\n",
    "from tensorflow.keras.preprocessing.sequence import pad_sequences\n",
    "from sklearn.model_selection import train_test_split\n",
    "from sklearn.feature_extraction.text import TfidfVectorizer, CountVectorizer\n",
    "from sklearn.metrics import f1_score, accuracy_score\n",
    "import scikitplot as skplt\n",
    "import numpy as np\n",
    "from tqdm.notebook import tqdm_notebook\n",
    "import time\n"
   ]
  },
  {
   "cell_type": "markdown",
   "id": "5df37571",
   "metadata": {},
   "source": [
    "# Read in raw data"
   ]
  },
  {
   "cell_type": "code",
   "execution_count": 2,
   "id": "6c4039a3",
   "metadata": {},
   "outputs": [],
   "source": [
    "train_df = pd.read_json('../processed_data/train.json')\n",
    "test_df = pd.read_json('../processed_data/test.json')\n",
    "\n",
    "train_df = train_df[['text', 'label']]\n",
    "test_df = test_df[['text', 'label']]"
   ]
  },
  {
   "cell_type": "code",
   "execution_count": 3,
   "id": "013cd404",
   "metadata": {},
   "outputs": [
    {
     "data": {
      "text/html": [
       "<div>\n",
       "<style scoped>\n",
       "    .dataframe tbody tr th:only-of-type {\n",
       "        vertical-align: middle;\n",
       "    }\n",
       "\n",
       "    .dataframe tbody tr th {\n",
       "        vertical-align: top;\n",
       "    }\n",
       "\n",
       "    .dataframe thead th {\n",
       "        text-align: right;\n",
       "    }\n",
       "</style>\n",
       "<table border=\"1\" class=\"dataframe\">\n",
       "  <thead>\n",
       "    <tr style=\"text-align: right;\">\n",
       "      <th></th>\n",
       "      <th>text</th>\n",
       "      <th>label</th>\n",
       "    </tr>\n",
       "  </thead>\n",
       "  <tbody>\n",
       "    <tr>\n",
       "      <th>0</th>\n",
       "      <td>Bromwell High is a cartoon comedy. It ran at t...</td>\n",
       "      <td>+</td>\n",
       "    </tr>\n",
       "    <tr>\n",
       "      <th>1</th>\n",
       "      <td>Homelessness (or Houselessness as George Carli...</td>\n",
       "      <td>+</td>\n",
       "    </tr>\n",
       "    <tr>\n",
       "      <th>2</th>\n",
       "      <td>Brilliant over-acting by Lesley Ann Warren. Be...</td>\n",
       "      <td>+</td>\n",
       "    </tr>\n",
       "    <tr>\n",
       "      <th>3</th>\n",
       "      <td>This is easily the most underrated film inn th...</td>\n",
       "      <td>+</td>\n",
       "    </tr>\n",
       "    <tr>\n",
       "      <th>4</th>\n",
       "      <td>This is not the typical Mel Brooks film. It wa...</td>\n",
       "      <td>+</td>\n",
       "    </tr>\n",
       "    <tr>\n",
       "      <th>...</th>\n",
       "      <td>...</td>\n",
       "      <td>...</td>\n",
       "    </tr>\n",
       "    <tr>\n",
       "      <th>24995</th>\n",
       "      <td>Towards the end of the movie, I felt it was to...</td>\n",
       "      <td>-</td>\n",
       "    </tr>\n",
       "    <tr>\n",
       "      <th>24996</th>\n",
       "      <td>This is the kind of movie that my enemies cont...</td>\n",
       "      <td>-</td>\n",
       "    </tr>\n",
       "    <tr>\n",
       "      <th>24997</th>\n",
       "      <td>I saw 'Descent' last night at the Stockholm Fi...</td>\n",
       "      <td>-</td>\n",
       "    </tr>\n",
       "    <tr>\n",
       "      <th>24998</th>\n",
       "      <td>Some films that you pick up for a pound turn o...</td>\n",
       "      <td>-</td>\n",
       "    </tr>\n",
       "    <tr>\n",
       "      <th>24999</th>\n",
       "      <td>This is one of the dumbest films, I've ever se...</td>\n",
       "      <td>-</td>\n",
       "    </tr>\n",
       "  </tbody>\n",
       "</table>\n",
       "<p>25000 rows × 2 columns</p>\n",
       "</div>"
      ],
      "text/plain": [
       "                                                    text label\n",
       "0      Bromwell High is a cartoon comedy. It ran at t...     +\n",
       "1      Homelessness (or Houselessness as George Carli...     +\n",
       "2      Brilliant over-acting by Lesley Ann Warren. Be...     +\n",
       "3      This is easily the most underrated film inn th...     +\n",
       "4      This is not the typical Mel Brooks film. It wa...     +\n",
       "...                                                  ...   ...\n",
       "24995  Towards the end of the movie, I felt it was to...     -\n",
       "24996  This is the kind of movie that my enemies cont...     -\n",
       "24997  I saw 'Descent' last night at the Stockholm Fi...     -\n",
       "24998  Some films that you pick up for a pound turn o...     -\n",
       "24999  This is one of the dumbest films, I've ever se...     -\n",
       "\n",
       "[25000 rows x 2 columns]"
      ]
     },
     "execution_count": 3,
     "metadata": {},
     "output_type": "execute_result"
    }
   ],
   "source": [
    "train_df"
   ]
  },
  {
   "cell_type": "code",
   "execution_count": 4,
   "id": "e922fa52",
   "metadata": {},
   "outputs": [
    {
     "data": {
      "text/html": [
       "<div>\n",
       "<style scoped>\n",
       "    .dataframe tbody tr th:only-of-type {\n",
       "        vertical-align: middle;\n",
       "    }\n",
       "\n",
       "    .dataframe tbody tr th {\n",
       "        vertical-align: top;\n",
       "    }\n",
       "\n",
       "    .dataframe thead th {\n",
       "        text-align: right;\n",
       "    }\n",
       "</style>\n",
       "<table border=\"1\" class=\"dataframe\">\n",
       "  <thead>\n",
       "    <tr style=\"text-align: right;\">\n",
       "      <th></th>\n",
       "      <th>text</th>\n",
       "      <th>label</th>\n",
       "    </tr>\n",
       "  </thead>\n",
       "  <tbody>\n",
       "    <tr>\n",
       "      <th>0</th>\n",
       "      <td>In Panic In The Streets Richard Widmark plays ...</td>\n",
       "      <td>+</td>\n",
       "    </tr>\n",
       "    <tr>\n",
       "      <th>1</th>\n",
       "      <td>If you ask me the first one was really better ...</td>\n",
       "      <td>-</td>\n",
       "    </tr>\n",
       "    <tr>\n",
       "      <th>2</th>\n",
       "      <td>I am a big fan a Faerie Tale Theatre and I've ...</td>\n",
       "      <td>+</td>\n",
       "    </tr>\n",
       "    <tr>\n",
       "      <th>3</th>\n",
       "      <td>I just finished reading a book about Dillinger...</td>\n",
       "      <td>-</td>\n",
       "    </tr>\n",
       "    <tr>\n",
       "      <th>4</th>\n",
       "      <td>Greg Davis and Bryan Daly take some crazed sta...</td>\n",
       "      <td>-</td>\n",
       "    </tr>\n",
       "    <tr>\n",
       "      <th>...</th>\n",
       "      <td>...</td>\n",
       "      <td>...</td>\n",
       "    </tr>\n",
       "    <tr>\n",
       "      <th>24995</th>\n",
       "      <td>My roommates &amp; I nearly shorted out our TV fro...</td>\n",
       "      <td>-</td>\n",
       "    </tr>\n",
       "    <tr>\n",
       "      <th>24996</th>\n",
       "      <td>Michelle Rodriguez is the defining actress who...</td>\n",
       "      <td>+</td>\n",
       "    </tr>\n",
       "    <tr>\n",
       "      <th>24997</th>\n",
       "      <td>Nice movie with a great soundtrack which spans...</td>\n",
       "      <td>+</td>\n",
       "    </tr>\n",
       "    <tr>\n",
       "      <th>24998</th>\n",
       "      <td>Even though this was a made-for-TV production,...</td>\n",
       "      <td>-</td>\n",
       "    </tr>\n",
       "    <tr>\n",
       "      <th>24999</th>\n",
       "      <td>I saw this on cable recently and kinda enjoyed...</td>\n",
       "      <td>-</td>\n",
       "    </tr>\n",
       "  </tbody>\n",
       "</table>\n",
       "<p>25000 rows × 2 columns</p>\n",
       "</div>"
      ],
      "text/plain": [
       "                                                    text label\n",
       "0      In Panic In The Streets Richard Widmark plays ...     +\n",
       "1      If you ask me the first one was really better ...     -\n",
       "2      I am a big fan a Faerie Tale Theatre and I've ...     +\n",
       "3      I just finished reading a book about Dillinger...     -\n",
       "4      Greg Davis and Bryan Daly take some crazed sta...     -\n",
       "...                                                  ...   ...\n",
       "24995  My roommates & I nearly shorted out our TV fro...     -\n",
       "24996  Michelle Rodriguez is the defining actress who...     +\n",
       "24997  Nice movie with a great soundtrack which spans...     +\n",
       "24998  Even though this was a made-for-TV production,...     -\n",
       "24999  I saw this on cable recently and kinda enjoyed...     -\n",
       "\n",
       "[25000 rows x 2 columns]"
      ]
     },
     "execution_count": 4,
     "metadata": {},
     "output_type": "execute_result"
    }
   ],
   "source": [
    "train_df = train_df.sample(len(train_df), random_state=42, ignore_index=True)\n",
    "train_df"
   ]
  },
  {
   "cell_type": "markdown",
   "id": "653b5e92",
   "metadata": {},
   "source": [
    "# Storing some important variables"
   ]
  },
  {
   "cell_type": "code",
   "execution_count": 5,
   "id": "bdd01e50",
   "metadata": {},
   "outputs": [],
   "source": [
    "train_len = int(0.8*len(train_df))\n",
    "\n",
    "max_words=300\n",
    "embedding_size=300\n",
    "count_vectorizer = CountVectorizer(max_features=10000)\n",
    "count_vectorizer.fit(train_df['text'].values)\n",
    "# For feature 1\n",
    "tfidf_vectorizer = TfidfVectorizer(max_features=10000)\n",
    "tfidf_vectorizer.fit(train_df['text'].values)\n",
    "\n",
    "# For feature 2\n",
    "nlp = spacy.load('en_core_web_lg')\n",
    "\n",
    "# For feature 3\n",
    "tokenizer = Tokenizer()\n",
    "tokenizer.fit_on_texts(train_df['text'].values)\n",
    "\n",
    "#For feature 4\n",
    "vectorizer = TextVectorization(max_tokens=20000, output_sequence_length=max_words)\n",
    "vectorizer.adapt(train_df['text'].values)\n",
    "vocab = vectorizer.get_vocabulary()\n",
    "word_index = dict(zip(vocab, range(len(vocab))))\n",
    "\n",
    "def predict_result(model, x, y_true):\n",
    "    y_pred = model.predict(x)\n",
    "    y_pred = np.argmax(y_pred, axis=1)\n",
    "    y_true = np.argmax(y_true, axis=1)\n",
    "    skplt.metrics.plot_confusion_matrix(y_true, y_pred)\n",
    "    print(f'f1 : {f1_score(y_true, y_pred)}')\n",
    "    print(f'acc: {accuracy_score(y_true, y_pred)}')   "
   ]
  },
  {
   "cell_type": "code",
   "execution_count": 6,
   "id": "acdf12cc",
   "metadata": {},
   "outputs": [],
   "source": [
    "def one_hot(row):\n",
    "    if row == '-':\n",
    "        return [1, 0]\n",
    "    else:\n",
    "        return [0, 1]\n",
    "    \n",
    "def get_count_vector_and_one_hot(df):\n",
    "    x = count_vectorizer.transform(df['text'].values).todense()\n",
    "    x = pd.DataFrame(x)\n",
    "    y = df['label'].apply(one_hot).tolist()\n",
    "    y = np.array(y)\n",
    "    return x, y"
   ]
  },
  {
   "cell_type": "code",
   "execution_count": 7,
   "id": "1cbb0ea7",
   "metadata": {},
   "outputs": [],
   "source": [
    "train_val_x, train_val_y = get_count_vector_and_one_hot(train_df)\n",
    "test_x, test_y = get_count_vector_and_one_hot(test_df)"
   ]
  },
  {
   "cell_type": "code",
   "execution_count": 8,
   "id": "c772a394",
   "metadata": {},
   "outputs": [],
   "source": [
    "train_x, val_x = train_val_x[:train_len], train_val_x[train_len:]\n",
    "train_y, val_y = train_val_y[:train_len], train_val_y[train_len:]"
   ]
  },
  {
   "cell_type": "code",
   "execution_count": 9,
   "id": "0b9a3e03",
   "metadata": {},
   "outputs": [
    {
     "name": "stdout",
     "output_type": "stream",
     "text": [
      "Model: \"sequential\"\n",
      "_________________________________________________________________\n",
      " Layer (type)                Output Shape              Param #   \n",
      "=================================================================\n",
      " dense (Dense)               (None, 64)                640064    \n",
      "                                                                 \n",
      " dropout (Dropout)           (None, 64)                0         \n",
      "                                                                 \n",
      " dense_1 (Dense)             (None, 64)                4160      \n",
      "                                                                 \n",
      " dropout_1 (Dropout)         (None, 64)                0         \n",
      "                                                                 \n",
      " dense_2 (Dense)             (None, 2)                 130       \n",
      "                                                                 \n",
      "=================================================================\n",
      "Total params: 644,354\n",
      "Trainable params: 644,354\n",
      "Non-trainable params: 0\n",
      "_________________________________________________________________\n"
     ]
    }
   ],
   "source": [
    "model = Sequential([\n",
    "    Dense(64, input_shape=(train_x.shape[1],), activation='relu'),\n",
    "    Dropout(0.3),\n",
    "    Dense(64, activation='relu'),\n",
    "    Dropout(0.3),\n",
    "    Dense(2, activation='sigmoid')\n",
    "])\n",
    "\n",
    "callbacks=[\n",
    "    ModelCheckpoint(filepath='./models_count_ffnn_raw/checkpoint',\n",
    "                   save_best_only=True, save_weights_only=True, verbose=1,monitor='val_accuracy')\n",
    "]\n",
    "\n",
    "\n",
    "model.summary()\n"
   ]
  },
  {
   "cell_type": "code",
   "execution_count": 10,
   "id": "3a84c364",
   "metadata": {},
   "outputs": [
    {
     "name": "stdout",
     "output_type": "stream",
     "text": [
      "Epoch 1/50\n",
      "624/625 [============================>.] - ETA: 0s - loss: 0.3790 - accuracy: 0.8424\n",
      "Epoch 1: val_accuracy improved from -inf to 0.88980, saving model to ./models_count_ffnn_raw\\checkpoint\n",
      "625/625 [==============================] - 3s 3ms/step - loss: 0.3789 - accuracy: 0.8425 - val_loss: 0.2738 - val_accuracy: 0.8898\n",
      "Epoch 2/50\n",
      "619/625 [============================>.] - ETA: 0s - loss: 0.1988 - accuracy: 0.9248\n",
      "Epoch 2: val_accuracy did not improve from 0.88980\n",
      "625/625 [==============================] - 2s 3ms/step - loss: 0.1986 - accuracy: 0.9250 - val_loss: 0.2833 - val_accuracy: 0.8842\n",
      "Epoch 3/50\n",
      "607/625 [============================>.] - ETA: 0s - loss: 0.1265 - accuracy: 0.9536\n",
      "Epoch 3: val_accuracy did not improve from 0.88980\n",
      "625/625 [==============================] - 2s 2ms/step - loss: 0.1264 - accuracy: 0.9536 - val_loss: 0.3382 - val_accuracy: 0.8884\n",
      "Epoch 4/50\n",
      "602/625 [===========================>..] - ETA: 0s - loss: 0.0867 - accuracy: 0.9698\n",
      "Epoch 4: val_accuracy did not improve from 0.88980\n",
      "625/625 [==============================] - 2s 2ms/step - loss: 0.0885 - accuracy: 0.9692 - val_loss: 0.4338 - val_accuracy: 0.8826\n",
      "Epoch 5/50\n",
      "616/625 [============================>.] - ETA: 0s - loss: 0.0604 - accuracy: 0.9793\n",
      "Epoch 5: val_accuracy did not improve from 0.88980\n",
      "625/625 [==============================] - 2s 2ms/step - loss: 0.0604 - accuracy: 0.9793 - val_loss: 0.4672 - val_accuracy: 0.8802\n",
      "Epoch 6/50\n",
      "607/625 [============================>.] - ETA: 0s - loss: 0.0443 - accuracy: 0.9847\n",
      "Epoch 6: val_accuracy did not improve from 0.88980\n",
      "625/625 [==============================] - 2s 2ms/step - loss: 0.0451 - accuracy: 0.9843 - val_loss: 0.5335 - val_accuracy: 0.8800\n",
      "Epoch 7/50\n",
      "617/625 [============================>.] - ETA: 0s - loss: 0.0402 - accuracy: 0.9852\n",
      "Epoch 7: val_accuracy did not improve from 0.88980\n",
      "625/625 [==============================] - 2s 2ms/step - loss: 0.0404 - accuracy: 0.9851 - val_loss: 0.5832 - val_accuracy: 0.8864\n",
      "Epoch 8/50\n",
      "621/625 [============================>.] - ETA: 0s - loss: 0.0270 - accuracy: 0.9907\n",
      "Epoch 8: val_accuracy did not improve from 0.88980\n",
      "625/625 [==============================] - 2s 2ms/step - loss: 0.0271 - accuracy: 0.9906 - val_loss: 0.6748 - val_accuracy: 0.8810\n",
      "Epoch 9/50\n",
      "607/625 [============================>.] - ETA: 0s - loss: 0.0333 - accuracy: 0.9887\n",
      "Epoch 9: val_accuracy did not improve from 0.88980\n",
      "625/625 [==============================] - 2s 2ms/step - loss: 0.0329 - accuracy: 0.9888 - val_loss: 0.6777 - val_accuracy: 0.8834\n",
      "Epoch 10/50\n",
      "614/625 [============================>.] - ETA: 0s - loss: 0.0273 - accuracy: 0.9900\n",
      "Epoch 10: val_accuracy did not improve from 0.88980\n",
      "625/625 [==============================] - 1s 2ms/step - loss: 0.0273 - accuracy: 0.9900 - val_loss: 0.6534 - val_accuracy: 0.8828\n",
      "Epoch 11/50\n",
      "613/625 [============================>.] - ETA: 0s - loss: 0.0243 - accuracy: 0.9914\n",
      "Epoch 11: val_accuracy did not improve from 0.88980\n",
      "625/625 [==============================] - 2s 3ms/step - loss: 0.0242 - accuracy: 0.9914 - val_loss: 0.7087 - val_accuracy: 0.8838\n",
      "Epoch 12/50\n",
      "608/625 [============================>.] - ETA: 0s - loss: 0.0222 - accuracy: 0.9927\n",
      "Epoch 12: val_accuracy did not improve from 0.88980\n",
      "625/625 [==============================] - 2s 2ms/step - loss: 0.0231 - accuracy: 0.9922 - val_loss: 0.7061 - val_accuracy: 0.8778\n",
      "Epoch 13/50\n",
      "600/625 [===========================>..] - ETA: 0s - loss: 0.0228 - accuracy: 0.9920\n",
      "Epoch 13: val_accuracy did not improve from 0.88980\n",
      "625/625 [==============================] - 2s 2ms/step - loss: 0.0225 - accuracy: 0.9921 - val_loss: 0.7323 - val_accuracy: 0.8788\n",
      "Epoch 14/50\n",
      "609/625 [============================>.] - ETA: 0s - loss: 0.0255 - accuracy: 0.9913\n",
      "Epoch 14: val_accuracy did not improve from 0.88980\n",
      "625/625 [==============================] - 2s 2ms/step - loss: 0.0252 - accuracy: 0.9915 - val_loss: 0.6675 - val_accuracy: 0.8818\n",
      "Epoch 15/50\n",
      "610/625 [============================>.] - ETA: 0s - loss: 0.0205 - accuracy: 0.9932\n",
      "Epoch 15: val_accuracy did not improve from 0.88980\n",
      "625/625 [==============================] - 2s 2ms/step - loss: 0.0205 - accuracy: 0.9932 - val_loss: 0.6902 - val_accuracy: 0.8810\n",
      "Epoch 16/50\n",
      "599/625 [===========================>..] - ETA: 0s - loss: 0.0181 - accuracy: 0.9939\n",
      "Epoch 16: val_accuracy did not improve from 0.88980\n",
      "625/625 [==============================] - 2s 2ms/step - loss: 0.0190 - accuracy: 0.9937 - val_loss: 0.6627 - val_accuracy: 0.8798\n",
      "Epoch 17/50\n",
      "615/625 [============================>.] - ETA: 0s - loss: 0.0175 - accuracy: 0.9939\n",
      "Epoch 17: val_accuracy did not improve from 0.88980\n",
      "625/625 [==============================] - 2s 2ms/step - loss: 0.0176 - accuracy: 0.9938 - val_loss: 0.6822 - val_accuracy: 0.8842\n",
      "Epoch 18/50\n",
      "617/625 [============================>.] - ETA: 0s - loss: 0.0193 - accuracy: 0.9932\n",
      "Epoch 18: val_accuracy did not improve from 0.88980\n",
      "625/625 [==============================] - 2s 2ms/step - loss: 0.0192 - accuracy: 0.9933 - val_loss: 0.7095 - val_accuracy: 0.8850\n",
      "Epoch 19/50\n",
      "609/625 [============================>.] - ETA: 0s - loss: 0.0177 - accuracy: 0.9943\n",
      "Epoch 19: val_accuracy did not improve from 0.88980\n",
      "625/625 [==============================] - 2s 2ms/step - loss: 0.0175 - accuracy: 0.9943 - val_loss: 0.7229 - val_accuracy: 0.8784\n",
      "Epoch 20/50\n",
      "609/625 [============================>.] - ETA: 0s - loss: 0.0160 - accuracy: 0.9951\n",
      "Epoch 20: val_accuracy did not improve from 0.88980\n",
      "625/625 [==============================] - 2s 3ms/step - loss: 0.0159 - accuracy: 0.9951 - val_loss: 0.7452 - val_accuracy: 0.8846\n",
      "Epoch 21/50\n",
      "623/625 [============================>.] - ETA: 0s - loss: 0.0144 - accuracy: 0.9949\n",
      "Epoch 21: val_accuracy did not improve from 0.88980\n",
      "625/625 [==============================] - 1s 2ms/step - loss: 0.0145 - accuracy: 0.9949 - val_loss: 0.8005 - val_accuracy: 0.8862\n",
      "Epoch 22/50\n",
      "606/625 [============================>.] - ETA: 0s - loss: 0.0143 - accuracy: 0.9951\n",
      "Epoch 22: val_accuracy did not improve from 0.88980\n",
      "625/625 [==============================] - 1s 2ms/step - loss: 0.0141 - accuracy: 0.9952 - val_loss: 0.8142 - val_accuracy: 0.8864\n",
      "Epoch 23/50\n",
      "601/625 [===========================>..] - ETA: 0s - loss: 0.0126 - accuracy: 0.9957\n",
      "Epoch 23: val_accuracy did not improve from 0.88980\n",
      "625/625 [==============================] - 1s 2ms/step - loss: 0.0126 - accuracy: 0.9958 - val_loss: 0.8255 - val_accuracy: 0.8816\n",
      "Epoch 24/50\n",
      "609/625 [============================>.] - ETA: 0s - loss: 0.0126 - accuracy: 0.9959\n",
      "Epoch 24: val_accuracy did not improve from 0.88980\n",
      "625/625 [==============================] - 1s 2ms/step - loss: 0.0126 - accuracy: 0.9959 - val_loss: 0.8911 - val_accuracy: 0.8836\n",
      "Epoch 25/50\n",
      "612/625 [============================>.] - ETA: 0s - loss: 0.0171 - accuracy: 0.9950\n",
      "Epoch 25: val_accuracy did not improve from 0.88980\n",
      "625/625 [==============================] - 1s 2ms/step - loss: 0.0169 - accuracy: 0.9951 - val_loss: 0.7930 - val_accuracy: 0.8792\n",
      "Epoch 26/50\n",
      "617/625 [============================>.] - ETA: 0s - loss: 0.0158 - accuracy: 0.9950\n",
      "Epoch 26: val_accuracy did not improve from 0.88980\n",
      "625/625 [==============================] - 1s 2ms/step - loss: 0.0157 - accuracy: 0.9951 - val_loss: 0.8598 - val_accuracy: 0.8862\n",
      "Epoch 27/50\n",
      "613/625 [============================>.] - ETA: 0s - loss: 0.0114 - accuracy: 0.9964\n",
      "Epoch 27: val_accuracy did not improve from 0.88980\n",
      "625/625 [==============================] - 1s 2ms/step - loss: 0.0117 - accuracy: 0.9963 - val_loss: 0.9795 - val_accuracy: 0.8770\n",
      "Epoch 28/50\n",
      "618/625 [============================>.] - ETA: 0s - loss: 0.0125 - accuracy: 0.9957\n",
      "Epoch 28: val_accuracy did not improve from 0.88980\n",
      "625/625 [==============================] - 1s 2ms/step - loss: 0.0126 - accuracy: 0.9956 - val_loss: 0.8739 - val_accuracy: 0.8834\n",
      "Epoch 29/50\n",
      "617/625 [============================>.] - ETA: 0s - loss: 0.0163 - accuracy: 0.9955\n",
      "Epoch 29: val_accuracy did not improve from 0.88980\n",
      "625/625 [==============================] - 1s 2ms/step - loss: 0.0161 - accuracy: 0.9955 - val_loss: 0.8625 - val_accuracy: 0.8850\n",
      "Epoch 30/50\n"
     ]
    },
    {
     "name": "stdout",
     "output_type": "stream",
     "text": [
      "610/625 [============================>.] - ETA: 0s - loss: 0.0103 - accuracy: 0.9962\n",
      "Epoch 30: val_accuracy did not improve from 0.88980\n",
      "625/625 [==============================] - 1s 2ms/step - loss: 0.0103 - accuracy: 0.9962 - val_loss: 0.8255 - val_accuracy: 0.8814\n",
      "Epoch 31/50\n",
      "612/625 [============================>.] - ETA: 0s - loss: 0.0098 - accuracy: 0.9969\n",
      "Epoch 31: val_accuracy did not improve from 0.88980\n",
      "625/625 [==============================] - 1s 2ms/step - loss: 0.0098 - accuracy: 0.9969 - val_loss: 0.8883 - val_accuracy: 0.8848\n",
      "Epoch 32/50\n",
      "609/625 [============================>.] - ETA: 0s - loss: 0.0097 - accuracy: 0.9969\n",
      "Epoch 32: val_accuracy did not improve from 0.88980\n",
      "625/625 [==============================] - 1s 2ms/step - loss: 0.0098 - accuracy: 0.9967 - val_loss: 0.8956 - val_accuracy: 0.8856\n",
      "Epoch 33/50\n",
      "598/625 [===========================>..] - ETA: 0s - loss: 0.0101 - accuracy: 0.9966\n",
      "Epoch 33: val_accuracy did not improve from 0.88980\n",
      "625/625 [==============================] - 1s 2ms/step - loss: 0.0104 - accuracy: 0.9964 - val_loss: 1.1063 - val_accuracy: 0.8772\n",
      "Epoch 34/50\n",
      "604/625 [===========================>..] - ETA: 0s - loss: 0.0085 - accuracy: 0.9974\n",
      "Epoch 34: val_accuracy did not improve from 0.88980\n",
      "625/625 [==============================] - 1s 2ms/step - loss: 0.0089 - accuracy: 0.9973 - val_loss: 0.8000 - val_accuracy: 0.8822\n",
      "Epoch 35/50\n",
      "612/625 [============================>.] - ETA: 0s - loss: 0.0132 - accuracy: 0.9964\n",
      "Epoch 35: val_accuracy did not improve from 0.88980\n",
      "625/625 [==============================] - 1s 2ms/step - loss: 0.0135 - accuracy: 0.9963 - val_loss: 0.7960 - val_accuracy: 0.8844\n",
      "Epoch 36/50\n",
      "622/625 [============================>.] - ETA: 0s - loss: 0.0086 - accuracy: 0.9975\n",
      "Epoch 36: val_accuracy did not improve from 0.88980\n",
      "625/625 [==============================] - 1s 2ms/step - loss: 0.0085 - accuracy: 0.9975 - val_loss: 0.8583 - val_accuracy: 0.8870\n",
      "Epoch 37/50\n",
      "609/625 [============================>.] - ETA: 0s - loss: 0.0102 - accuracy: 0.9968\n",
      "Epoch 37: val_accuracy did not improve from 0.88980\n",
      "625/625 [==============================] - 1s 2ms/step - loss: 0.0103 - accuracy: 0.9967 - val_loss: 0.8317 - val_accuracy: 0.8844\n",
      "Epoch 38/50\n",
      "616/625 [============================>.] - ETA: 0s - loss: 0.0091 - accuracy: 0.9973\n",
      "Epoch 38: val_accuracy did not improve from 0.88980\n",
      "625/625 [==============================] - 1s 2ms/step - loss: 0.0090 - accuracy: 0.9973 - val_loss: 0.9143 - val_accuracy: 0.8868\n",
      "Epoch 39/50\n",
      "610/625 [============================>.] - ETA: 0s - loss: 0.0076 - accuracy: 0.9971\n",
      "Epoch 39: val_accuracy improved from 0.88980 to 0.89040, saving model to ./models_count_ffnn_raw\\checkpoint\n",
      "625/625 [==============================] - 2s 3ms/step - loss: 0.0079 - accuracy: 0.9970 - val_loss: 0.9515 - val_accuracy: 0.8904\n",
      "Epoch 40/50\n",
      "598/625 [===========================>..] - ETA: 0s - loss: 0.0090 - accuracy: 0.9973\n",
      "Epoch 40: val_accuracy did not improve from 0.89040\n",
      "625/625 [==============================] - 1s 2ms/step - loss: 0.0092 - accuracy: 0.9973 - val_loss: 0.8597 - val_accuracy: 0.8854\n",
      "Epoch 41/50\n",
      "621/625 [============================>.] - ETA: 0s - loss: 0.0092 - accuracy: 0.9972\n",
      "Epoch 41: val_accuracy did not improve from 0.89040\n",
      "625/625 [==============================] - 1s 2ms/step - loss: 0.0091 - accuracy: 0.9973 - val_loss: 0.9066 - val_accuracy: 0.8844\n",
      "Epoch 42/50\n",
      "602/625 [===========================>..] - ETA: 0s - loss: 0.0073 - accuracy: 0.9978\n",
      "Epoch 42: val_accuracy did not improve from 0.89040\n",
      "625/625 [==============================] - 1s 2ms/step - loss: 0.0074 - accuracy: 0.9977 - val_loss: 0.9684 - val_accuracy: 0.8866\n",
      "Epoch 43/50\n",
      "611/625 [============================>.] - ETA: 0s - loss: 0.0108 - accuracy: 0.9971\n",
      "Epoch 43: val_accuracy did not improve from 0.89040\n",
      "625/625 [==============================] - 1s 2ms/step - loss: 0.0108 - accuracy: 0.9970 - val_loss: 0.8115 - val_accuracy: 0.8848\n",
      "Epoch 44/50\n",
      "605/625 [============================>.] - ETA: 0s - loss: 0.0085 - accuracy: 0.9970\n",
      "Epoch 44: val_accuracy did not improve from 0.89040\n",
      "625/625 [==============================] - 1s 2ms/step - loss: 0.0087 - accuracy: 0.9969 - val_loss: 1.0110 - val_accuracy: 0.8838\n",
      "Epoch 45/50\n",
      "623/625 [============================>.] - ETA: 0s - loss: 0.0082 - accuracy: 0.9979\n",
      "Epoch 45: val_accuracy did not improve from 0.89040\n",
      "625/625 [==============================] - 1s 2ms/step - loss: 0.0081 - accuracy: 0.9980 - val_loss: 0.9318 - val_accuracy: 0.8834\n",
      "Epoch 46/50\n",
      "623/625 [============================>.] - ETA: 0s - loss: 0.0055 - accuracy: 0.9986\n",
      "Epoch 46: val_accuracy did not improve from 0.89040\n",
      "625/625 [==============================] - 1s 2ms/step - loss: 0.0055 - accuracy: 0.9987 - val_loss: 0.9230 - val_accuracy: 0.8860\n",
      "Epoch 47/50\n",
      "603/625 [===========================>..] - ETA: 0s - loss: 0.0059 - accuracy: 0.9980\n",
      "Epoch 47: val_accuracy did not improve from 0.89040\n",
      "625/625 [==============================] - 2s 2ms/step - loss: 0.0058 - accuracy: 0.9980 - val_loss: 1.0598 - val_accuracy: 0.8852\n",
      "Epoch 48/50\n",
      "622/625 [============================>.] - ETA: 0s - loss: 0.0075 - accuracy: 0.9979\n",
      "Epoch 48: val_accuracy did not improve from 0.89040\n",
      "625/625 [==============================] - 1s 2ms/step - loss: 0.0075 - accuracy: 0.9979 - val_loss: 0.9712 - val_accuracy: 0.8842\n",
      "Epoch 49/50\n",
      "600/625 [===========================>..] - ETA: 0s - loss: 0.0093 - accuracy: 0.9972\n",
      "Epoch 49: val_accuracy did not improve from 0.89040\n",
      "625/625 [==============================] - 1s 2ms/step - loss: 0.0091 - accuracy: 0.9973 - val_loss: 0.9170 - val_accuracy: 0.8818\n",
      "Epoch 50/50\n",
      "610/625 [============================>.] - ETA: 0s - loss: 0.0069 - accuracy: 0.9979\n",
      "Epoch 50: val_accuracy did not improve from 0.89040\n",
      "625/625 [==============================] - 2s 2ms/step - loss: 0.0068 - accuracy: 0.9979 - val_loss: 0.9631 - val_accuracy: 0.8848\n",
      "74.68747639656067\n"
     ]
    }
   ],
   "source": [
    "model.compile('adam', loss=BinaryCrossentropy(), metrics='accuracy')\n",
    "\n",
    "st = time.time()\n",
    "model.fit(x=train_x,\n",
    "         y=train_y,\n",
    "         batch_size=32,\n",
    "         epochs=50,\n",
    "         validation_data=(val_x, val_y),\n",
    "         callbacks=callbacks)\n",
    "et = time.time()\n",
    "\n",
    "print(et - st)"
   ]
  },
  {
   "cell_type": "code",
   "execution_count": 11,
   "id": "90e0ec1f",
   "metadata": {},
   "outputs": [
    {
     "data": {
      "text/plain": [
       "<tensorflow.python.training.tracking.util.CheckpointLoadStatus at 0x13a4ecd4520>"
      ]
     },
     "execution_count": 11,
     "metadata": {},
     "output_type": "execute_result"
    }
   ],
   "source": [
    "model.load_weights('./models_count_ffnn_raw/checkpoint')"
   ]
  },
  {
   "cell_type": "code",
   "execution_count": 12,
   "id": "7ea5c7b1",
   "metadata": {},
   "outputs": [
    {
     "name": "stdout",
     "output_type": "stream",
     "text": [
      "f1 : 1.0\n",
      "acc: 1.0\n"
     ]
    },
    {
     "data": {
      "image/png": "[encoded data removed]",
      "text/plain": [
       "<Figure size 432x288 with 2 Axes>"
      ]
     },
     "metadata": {
      "needs_background": "light"
     },
     "output_type": "display_data"
    }
   ],
   "source": [
    "predict_result(model, train_x[:1000], train_y[:1000])"
   ]
  },
  {
   "cell_type": "code",
   "execution_count": 13,
   "id": "d8424a9c",
   "metadata": {},
   "outputs": [
    {
     "name": "stdout",
     "output_type": "stream",
     "text": [
      "f1 : 0.8589622447721952\n",
      "acc: 0.86268\n"
     ]
    },
    {
     "data": {
      "image/png": "[encoded data removed]",
      "text/plain": [
       "<Figure size 432x288 with 2 Axes>"
      ]
     },
     "metadata": {
      "needs_background": "light"
     },
     "output_type": "display_data"
    }
   ],
   "source": [
    "predict_result(model, test_x, test_y)"
   ]
  },
  {
   "cell_type": "markdown",
   "id": "782b5dc4",
   "metadata": {},
   "source": [
    "# Feature 1 (TF-IDF)"
   ]
  },
  {
   "cell_type": "code",
   "execution_count": 14,
   "id": "bfd72403",
   "metadata": {},
   "outputs": [],
   "source": [
    "def get_tfidf_vector_and_one_hot(df):\n",
    "    x = tfidf_vectorizer.transform(df['text'].values).todense()\n",
    "    x = pd.DataFrame(x)\n",
    "    y = df['label'].apply(one_hot).tolist()\n",
    "    y = np.array(y)\n",
    "    return x, y"
   ]
  },
  {
   "cell_type": "code",
   "execution_count": 15,
   "id": "8038418b",
   "metadata": {},
   "outputs": [],
   "source": [
    "train_val_x, train_val_y = get_tfidf_vector_and_one_hot(train_df)\n",
    "test_x, test_y = get_tfidf_vector_and_one_hot(test_df)"
   ]
  },
  {
   "cell_type": "code",
   "execution_count": 16,
   "id": "ab328908",
   "metadata": {},
   "outputs": [],
   "source": [
    "train_x, val_x = train_val_x[:train_len], train_val_x[train_len:]\n",
    "train_y, val_y = train_val_y[:train_len], train_val_y[train_len:]"
   ]
  },
  {
   "cell_type": "markdown",
   "id": "aedefd3d",
   "metadata": {},
   "source": [
    "# Model 1 (FFNN w TF-IDF)"
   ]
  },
  {
   "cell_type": "code",
   "execution_count": 17,
   "id": "f7c3793f",
   "metadata": {},
   "outputs": [
    {
     "name": "stdout",
     "output_type": "stream",
     "text": [
      "Model: \"sequential_1\"\n",
      "_________________________________________________________________\n",
      " Layer (type)                Output Shape              Param #   \n",
      "=================================================================\n",
      " dense_3 (Dense)             (None, 64)                640064    \n",
      "                                                                 \n",
      " dropout_2 (Dropout)         (None, 64)                0         \n",
      "                                                                 \n",
      " dense_4 (Dense)             (None, 64)                4160      \n",
      "                                                                 \n",
      " dropout_3 (Dropout)         (None, 64)                0         \n",
      "                                                                 \n",
      " dense_5 (Dense)             (None, 2)                 130       \n",
      "                                                                 \n",
      "=================================================================\n",
      "Total params: 644,354\n",
      "Trainable params: 644,354\n",
      "Non-trainable params: 0\n",
      "_________________________________________________________________\n"
     ]
    }
   ],
   "source": [
    "model = Sequential([\n",
    "    Dense(64, input_shape=(train_x.shape[1],), activation='relu'),\n",
    "    Dropout(0.3),\n",
    "    Dense(64, activation='relu'),\n",
    "    Dropout(0.3),\n",
    "    Dense(2, activation='sigmoid')\n",
    "])\n",
    "\n",
    "callbacks=[\n",
    "    ModelCheckpoint(filepath='./models_tfidf_ffnn_raw/checkpoint',\n",
    "                   save_best_only=True, save_weights_only=True, verbose=1,monitor='val_accuracy')\n",
    "]\n",
    "\n",
    "model.summary()"
   ]
  },
  {
   "cell_type": "code",
   "execution_count": 18,
   "id": "85da1409",
   "metadata": {},
   "outputs": [
    {
     "name": "stdout",
     "output_type": "stream",
     "text": [
      "Epoch 1/50\n",
      "619/625 [============================>.] - ETA: 0s - loss: 0.3570 - accuracy: 0.8510\n",
      "Epoch 1: val_accuracy improved from -inf to 0.89900, saving model to ./models_tfidf_ffnn_raw\\checkpoint\n",
      "625/625 [==============================] - 2s 3ms/step - loss: 0.3557 - accuracy: 0.8517 - val_loss: 0.2588 - val_accuracy: 0.8990\n",
      "Epoch 2/50\n",
      "602/625 [===========================>..] - ETA: 0s - loss: 0.1651 - accuracy: 0.9399\n",
      "Epoch 2: val_accuracy did not improve from 0.89900\n",
      "625/625 [==============================] - 1s 2ms/step - loss: 0.1655 - accuracy: 0.9397 - val_loss: 0.2938 - val_accuracy: 0.8852\n",
      "Epoch 3/50\n",
      "608/625 [============================>.] - ETA: 0s - loss: 0.0941 - accuracy: 0.9685\n",
      "Epoch 3: val_accuracy did not improve from 0.89900\n",
      "625/625 [==============================] - 2s 3ms/step - loss: 0.0937 - accuracy: 0.9686 - val_loss: 0.3663 - val_accuracy: 0.8824\n",
      "Epoch 4/50\n",
      "623/625 [============================>.] - ETA: 0s - loss: 0.0478 - accuracy: 0.9841\n",
      "Epoch 4: val_accuracy did not improve from 0.89900\n",
      "625/625 [==============================] - 1s 2ms/step - loss: 0.0478 - accuracy: 0.9841 - val_loss: 0.4477 - val_accuracy: 0.8806\n",
      "Epoch 5/50\n",
      "610/625 [============================>.] - ETA: 0s - loss: 0.0225 - accuracy: 0.9936\n",
      "Epoch 5: val_accuracy did not improve from 0.89900\n",
      "625/625 [==============================] - 2s 2ms/step - loss: 0.0231 - accuracy: 0.9933 - val_loss: 0.5761 - val_accuracy: 0.8740\n",
      "Epoch 6/50\n",
      "602/625 [===========================>..] - ETA: 0s - loss: 0.0122 - accuracy: 0.9964\n",
      "Epoch 6: val_accuracy did not improve from 0.89900\n",
      "625/625 [==============================] - 1s 2ms/step - loss: 0.0121 - accuracy: 0.9965 - val_loss: 0.7094 - val_accuracy: 0.8722\n",
      "Epoch 7/50\n",
      "624/625 [============================>.] - ETA: 0s - loss: 0.0094 - accuracy: 0.9969\n",
      "Epoch 7: val_accuracy did not improve from 0.89900\n",
      "625/625 [==============================] - 1s 2ms/step - loss: 0.0094 - accuracy: 0.9969 - val_loss: 0.8340 - val_accuracy: 0.8640\n",
      "Epoch 8/50\n",
      "619/625 [============================>.] - ETA: 0s - loss: 0.0092 - accuracy: 0.9973\n",
      "Epoch 8: val_accuracy did not improve from 0.89900\n",
      "625/625 [==============================] - 2s 2ms/step - loss: 0.0091 - accuracy: 0.9973 - val_loss: 0.8062 - val_accuracy: 0.8700\n",
      "Epoch 9/50\n",
      "608/625 [============================>.] - ETA: 0s - loss: 0.0068 - accuracy: 0.9978\n",
      "Epoch 9: val_accuracy did not improve from 0.89900\n",
      "625/625 [==============================] - 1s 2ms/step - loss: 0.0068 - accuracy: 0.9978 - val_loss: 0.8525 - val_accuracy: 0.8744\n",
      "Epoch 10/50\n",
      "612/625 [============================>.] - ETA: 0s - loss: 0.0042 - accuracy: 0.9987\n",
      "Epoch 10: val_accuracy did not improve from 0.89900\n",
      "625/625 [==============================] - 1s 2ms/step - loss: 0.0042 - accuracy: 0.9987 - val_loss: 0.9462 - val_accuracy: 0.8714\n",
      "Epoch 11/50\n",
      "622/625 [============================>.] - ETA: 0s - loss: 0.0054 - accuracy: 0.9983\n",
      "Epoch 11: val_accuracy did not improve from 0.89900\n",
      "625/625 [==============================] - 1s 2ms/step - loss: 0.0055 - accuracy: 0.9983 - val_loss: 0.9734 - val_accuracy: 0.8696\n",
      "Epoch 12/50\n",
      "617/625 [============================>.] - ETA: 0s - loss: 0.0054 - accuracy: 0.9977\n",
      "Epoch 12: val_accuracy did not improve from 0.89900\n",
      "625/625 [==============================] - 2s 2ms/step - loss: 0.0054 - accuracy: 0.9977 - val_loss: 0.9997 - val_accuracy: 0.8706\n",
      "Epoch 13/50\n",
      "611/625 [============================>.] - ETA: 0s - loss: 0.0060 - accuracy: 0.9976\n",
      "Epoch 13: val_accuracy did not improve from 0.89900\n",
      "625/625 [==============================] - 2s 2ms/step - loss: 0.0060 - accuracy: 0.9977 - val_loss: 0.8959 - val_accuracy: 0.8714\n",
      "Epoch 14/50\n",
      "606/625 [============================>.] - ETA: 0s - loss: 0.0039 - accuracy: 0.9988\n",
      "Epoch 14: val_accuracy did not improve from 0.89900\n",
      "625/625 [==============================] - 1s 2ms/step - loss: 0.0038 - accuracy: 0.9988 - val_loss: 1.0230 - val_accuracy: 0.8714\n",
      "Epoch 15/50\n",
      "600/625 [===========================>..] - ETA: 0s - loss: 0.0030 - accuracy: 0.9986\n",
      "Epoch 15: val_accuracy did not improve from 0.89900\n",
      "625/625 [==============================] - 1s 2ms/step - loss: 0.0031 - accuracy: 0.9986 - val_loss: 1.0305 - val_accuracy: 0.8690\n",
      "Epoch 16/50\n",
      "619/625 [============================>.] - ETA: 0s - loss: 0.0032 - accuracy: 0.9982\n",
      "Epoch 16: val_accuracy did not improve from 0.89900\n",
      "625/625 [==============================] - 1s 2ms/step - loss: 0.0032 - accuracy: 0.9983 - val_loss: 1.1001 - val_accuracy: 0.8724\n",
      "Epoch 17/50\n",
      "602/625 [===========================>..] - ETA: 0s - loss: 0.0037 - accuracy: 0.9988\n",
      "Epoch 17: val_accuracy did not improve from 0.89900\n",
      "625/625 [==============================] - 1s 2ms/step - loss: 0.0038 - accuracy: 0.9987 - val_loss: 1.1296 - val_accuracy: 0.8720\n",
      "Epoch 18/50\n",
      "611/625 [============================>.] - ETA: 0s - loss: 0.0041 - accuracy: 0.9982\n",
      "Epoch 18: val_accuracy did not improve from 0.89900\n",
      "625/625 [==============================] - 1s 2ms/step - loss: 0.0040 - accuracy: 0.9983 - val_loss: 1.0843 - val_accuracy: 0.8708\n",
      "Epoch 19/50\n",
      "600/625 [===========================>..] - ETA: 0s - loss: 0.0038 - accuracy: 0.9986\n",
      "Epoch 19: val_accuracy did not improve from 0.89900\n",
      "625/625 [==============================] - 1s 2ms/step - loss: 0.0037 - accuracy: 0.9987 - val_loss: 1.1921 - val_accuracy: 0.8706\n",
      "Epoch 20/50\n",
      "603/625 [===========================>..] - ETA: 0s - loss: 0.0032 - accuracy: 0.9988\n",
      "Epoch 20: val_accuracy did not improve from 0.89900\n",
      "625/625 [==============================] - 1s 2ms/step - loss: 0.0032 - accuracy: 0.9988 - val_loss: 1.1202 - val_accuracy: 0.8726\n",
      "Epoch 21/50\n",
      "616/625 [============================>.] - ETA: 0s - loss: 0.0023 - accuracy: 0.9990\n",
      "Epoch 21: val_accuracy did not improve from 0.89900\n",
      "625/625 [==============================] - 1s 2ms/step - loss: 0.0023 - accuracy: 0.9991 - val_loss: 1.3103 - val_accuracy: 0.8712\n",
      "Epoch 22/50\n",
      "610/625 [============================>.] - ETA: 0s - loss: 0.0035 - accuracy: 0.9987\n",
      "Epoch 22: val_accuracy did not improve from 0.89900\n",
      "625/625 [==============================] - 1s 2ms/step - loss: 0.0036 - accuracy: 0.9986 - val_loss: 1.2624 - val_accuracy: 0.8714\n",
      "Epoch 23/50\n",
      "616/625 [============================>.] - ETA: 0s - loss: 0.0041 - accuracy: 0.9984\n",
      "Epoch 23: val_accuracy did not improve from 0.89900\n",
      "625/625 [==============================] - 1s 2ms/step - loss: 0.0040 - accuracy: 0.9984 - val_loss: 1.2131 - val_accuracy: 0.8752\n",
      "Epoch 24/50\n",
      "602/625 [===========================>..] - ETA: 0s - loss: 0.0017 - accuracy: 0.9991\n",
      "Epoch 24: val_accuracy did not improve from 0.89900\n",
      "625/625 [==============================] - 1s 2ms/step - loss: 0.0017 - accuracy: 0.9991 - val_loss: 1.3961 - val_accuracy: 0.8708\n",
      "Epoch 25/50\n",
      "604/625 [===========================>..] - ETA: 0s - loss: 0.0035 - accuracy: 0.9987\n",
      "Epoch 25: val_accuracy did not improve from 0.89900\n",
      "625/625 [==============================] - 1s 2ms/step - loss: 0.0036 - accuracy: 0.9985 - val_loss: 1.2112 - val_accuracy: 0.8782\n",
      "Epoch 26/50\n",
      "613/625 [============================>.] - ETA: 0s - loss: 0.0021 - accuracy: 0.9990\n",
      "Epoch 26: val_accuracy did not improve from 0.89900\n",
      "625/625 [==============================] - 1s 2ms/step - loss: 0.0020 - accuracy: 0.9991 - val_loss: 1.2762 - val_accuracy: 0.8748\n",
      "Epoch 27/50\n",
      "620/625 [============================>.] - ETA: 0s - loss: 0.0027 - accuracy: 0.9989\n",
      "Epoch 27: val_accuracy did not improve from 0.89900\n",
      "625/625 [==============================] - 1s 2ms/step - loss: 0.0027 - accuracy: 0.9989 - val_loss: 1.2304 - val_accuracy: 0.8748\n",
      "Epoch 28/50\n",
      "598/625 [===========================>..] - ETA: 0s - loss: 0.0014 - accuracy: 0.9994\n",
      "Epoch 28: val_accuracy did not improve from 0.89900\n",
      "625/625 [==============================] - 1s 2ms/step - loss: 0.0014 - accuracy: 0.9994 - val_loss: 1.3055 - val_accuracy: 0.8770\n",
      "Epoch 29/50\n",
      "624/625 [============================>.] - ETA: 0s - loss: 0.0028 - accuracy: 0.9990\n",
      "Epoch 29: val_accuracy did not improve from 0.89900\n",
      "625/625 [==============================] - 1s 2ms/step - loss: 0.0028 - accuracy: 0.9991 - val_loss: 1.2161 - val_accuracy: 0.8740\n",
      "Epoch 30/50\n"
     ]
    },
    {
     "name": "stdout",
     "output_type": "stream",
     "text": [
      "613/625 [============================>.] - ETA: 0s - loss: 0.0031 - accuracy: 0.9989\n",
      "Epoch 30: val_accuracy did not improve from 0.89900\n",
      "625/625 [==============================] - 1s 2ms/step - loss: 0.0031 - accuracy: 0.9989 - val_loss: 1.2228 - val_accuracy: 0.8764\n",
      "Epoch 31/50\n",
      "604/625 [===========================>..] - ETA: 0s - loss: 0.0030 - accuracy: 0.9992\n",
      "Epoch 31: val_accuracy did not improve from 0.89900\n",
      "625/625 [==============================] - 1s 2ms/step - loss: 0.0029 - accuracy: 0.9992 - val_loss: 1.2814 - val_accuracy: 0.8720\n",
      "Epoch 32/50\n",
      "612/625 [============================>.] - ETA: 0s - loss: 0.0035 - accuracy: 0.9987\n",
      "Epoch 32: val_accuracy did not improve from 0.89900\n",
      "625/625 [==============================] - 1s 2ms/step - loss: 0.0035 - accuracy: 0.9987 - val_loss: 1.2083 - val_accuracy: 0.8672\n",
      "Epoch 33/50\n",
      "617/625 [============================>.] - ETA: 0s - loss: 0.0028 - accuracy: 0.9990\n",
      "Epoch 33: val_accuracy did not improve from 0.89900\n",
      "625/625 [==============================] - 1s 2ms/step - loss: 0.0028 - accuracy: 0.9991 - val_loss: 1.2180 - val_accuracy: 0.8666\n",
      "Epoch 34/50\n",
      "625/625 [==============================] - ETA: 0s - loss: 0.0021 - accuracy: 0.9993\n",
      "Epoch 34: val_accuracy did not improve from 0.89900\n",
      "625/625 [==============================] - 1s 2ms/step - loss: 0.0021 - accuracy: 0.9993 - val_loss: 1.3141 - val_accuracy: 0.8746\n",
      "Epoch 35/50\n",
      "625/625 [==============================] - ETA: 0s - loss: 0.0019 - accuracy: 0.9994\n",
      "Epoch 35: val_accuracy did not improve from 0.89900\n",
      "625/625 [==============================] - 1s 2ms/step - loss: 0.0019 - accuracy: 0.9994 - val_loss: 1.3079 - val_accuracy: 0.8720\n",
      "Epoch 36/50\n",
      "619/625 [============================>.] - ETA: 0s - loss: 0.0018 - accuracy: 0.9993\n",
      "Epoch 36: val_accuracy did not improve from 0.89900\n",
      "625/625 [==============================] - 1s 2ms/step - loss: 0.0018 - accuracy: 0.9993 - val_loss: 1.4171 - val_accuracy: 0.8704\n",
      "Epoch 37/50\n",
      "625/625 [==============================] - ETA: 0s - loss: 0.0038 - accuracy: 0.9984\n",
      "Epoch 37: val_accuracy did not improve from 0.89900\n",
      "625/625 [==============================] - 1s 2ms/step - loss: 0.0038 - accuracy: 0.9984 - val_loss: 1.2745 - val_accuracy: 0.8658\n",
      "Epoch 38/50\n",
      "617/625 [============================>.] - ETA: 0s - loss: 0.0016 - accuracy: 0.9995  \n",
      "Epoch 38: val_accuracy did not improve from 0.89900\n",
      "625/625 [==============================] - 1s 2ms/step - loss: 0.0016 - accuracy: 0.9995 - val_loss: 1.4594 - val_accuracy: 0.8644\n",
      "Epoch 39/50\n",
      "601/625 [===========================>..] - ETA: 0s - loss: 0.0012 - accuracy: 0.9995\n",
      "Epoch 39: val_accuracy did not improve from 0.89900\n",
      "625/625 [==============================] - 1s 2ms/step - loss: 0.0017 - accuracy: 0.9995 - val_loss: 1.4360 - val_accuracy: 0.8722\n",
      "Epoch 40/50\n",
      "624/625 [============================>.] - ETA: 0s - loss: 0.0010 - accuracy: 0.9997\n",
      "Epoch 40: val_accuracy did not improve from 0.89900\n",
      "625/625 [==============================] - 1s 2ms/step - loss: 0.0010 - accuracy: 0.9997 - val_loss: 1.4522 - val_accuracy: 0.8716\n",
      "Epoch 41/50\n",
      "621/625 [============================>.] - ETA: 0s - loss: 0.0027 - accuracy: 0.9994\n",
      "Epoch 41: val_accuracy did not improve from 0.89900\n",
      "625/625 [==============================] - 1s 2ms/step - loss: 0.0027 - accuracy: 0.9994 - val_loss: 1.4457 - val_accuracy: 0.8666\n",
      "Epoch 42/50\n",
      "624/625 [============================>.] - ETA: 0s - loss: 0.0040 - accuracy: 0.9991\n",
      "Epoch 42: val_accuracy did not improve from 0.89900\n",
      "625/625 [==============================] - 1s 2ms/step - loss: 0.0040 - accuracy: 0.9991 - val_loss: 1.3115 - val_accuracy: 0.8708\n",
      "Epoch 43/50\n",
      "608/625 [============================>.] - ETA: 0s - loss: 0.0015 - accuracy: 0.9996\n",
      "Epoch 43: val_accuracy did not improve from 0.89900\n",
      "625/625 [==============================] - 1s 2ms/step - loss: 0.0015 - accuracy: 0.9996 - val_loss: 1.4307 - val_accuracy: 0.8696\n",
      "Epoch 44/50\n",
      "599/625 [===========================>..] - ETA: 0s - loss: 0.0013 - accuracy: 0.9993\n",
      "Epoch 44: val_accuracy did not improve from 0.89900\n",
      "625/625 [==============================] - 1s 2ms/step - loss: 0.0013 - accuracy: 0.9993 - val_loss: 1.4202 - val_accuracy: 0.8728\n",
      "Epoch 45/50\n",
      "610/625 [============================>.] - ETA: 0s - loss: 0.0016 - accuracy: 0.9993\n",
      "Epoch 45: val_accuracy did not improve from 0.89900\n",
      "625/625 [==============================] - 1s 2ms/step - loss: 0.0016 - accuracy: 0.9993 - val_loss: 1.4483 - val_accuracy: 0.8704\n",
      "Epoch 46/50\n",
      "602/625 [===========================>..] - ETA: 0s - loss: 0.0011 - accuracy: 0.9995  \n",
      "Epoch 46: val_accuracy did not improve from 0.89900\n",
      "625/625 [==============================] - 2s 2ms/step - loss: 0.0012 - accuracy: 0.9995 - val_loss: 1.4619 - val_accuracy: 0.8676\n",
      "Epoch 47/50\n",
      "603/625 [===========================>..] - ETA: 0s - loss: 0.0010 - accuracy: 0.9997\n",
      "Epoch 47: val_accuracy did not improve from 0.89900\n",
      "625/625 [==============================] - 1s 2ms/step - loss: 0.0010 - accuracy: 0.9997 - val_loss: 1.5490 - val_accuracy: 0.8728\n",
      "Epoch 48/50\n",
      "616/625 [============================>.] - ETA: 0s - loss: 0.0017 - accuracy: 0.9994\n",
      "Epoch 48: val_accuracy did not improve from 0.89900\n",
      "625/625 [==============================] - 1s 2ms/step - loss: 0.0017 - accuracy: 0.9995 - val_loss: 1.4185 - val_accuracy: 0.8674\n",
      "Epoch 49/50\n",
      "617/625 [============================>.] - ETA: 0s - loss: 0.0021 - accuracy: 0.9994\n",
      "Epoch 49: val_accuracy did not improve from 0.89900\n",
      "625/625 [==============================] - 1s 2ms/step - loss: 0.0021 - accuracy: 0.9995 - val_loss: 1.4900 - val_accuracy: 0.8650\n",
      "Epoch 50/50\n",
      "603/625 [===========================>..] - ETA: 0s - loss: 0.0024 - accuracy: 0.9994\n",
      "Epoch 50: val_accuracy did not improve from 0.89900\n",
      "625/625 [==============================] - 1s 2ms/step - loss: 0.0024 - accuracy: 0.9994 - val_loss: 1.2804 - val_accuracy: 0.8676\n",
      "72.66036176681519\n"
     ]
    }
   ],
   "source": [
    "model.compile('adam', loss=BinaryCrossentropy(), metrics='accuracy')\n",
    "st = time.time()\n",
    "model.fit(x=train_x,\n",
    "         y=train_y,\n",
    "         batch_size=32,\n",
    "         epochs=50,\n",
    "         validation_data=(val_x, val_y),\n",
    "         callbacks=callbacks)\n",
    "et = time.time()\n",
    "print(et - st)"
   ]
  },
  {
   "cell_type": "code",
   "execution_count": 19,
   "id": "89080395",
   "metadata": {},
   "outputs": [
    {
     "data": {
      "text/plain": [
       "<tensorflow.python.training.tracking.util.CheckpointLoadStatus at 0x13c256c8400>"
      ]
     },
     "execution_count": 19,
     "metadata": {},
     "output_type": "execute_result"
    }
   ],
   "source": [
    "model.load_weights('./models_tfidf_ffnn_raw/checkpoint')"
   ]
  },
  {
   "cell_type": "code",
   "execution_count": 20,
   "id": "7a7cfc8c",
   "metadata": {},
   "outputs": [
    {
     "name": "stdout",
     "output_type": "stream",
     "text": [
      "f1 : 0.954110898661568\n",
      "acc: 0.952\n"
     ]
    },
    {
     "data": {
      "image/png": "[encoded data removed]",
      "text/plain": [
       "<Figure size 432x288 with 2 Axes>"
      ]
     },
     "metadata": {
      "needs_background": "light"
     },
     "output_type": "display_data"
    }
   ],
   "source": [
    "predict_result(model, train_x[:1000], train_y[:1000])"
   ]
  },
  {
   "cell_type": "code",
   "execution_count": 21,
   "id": "369946eb",
   "metadata": {},
   "outputs": [
    {
     "name": "stdout",
     "output_type": "stream",
     "text": [
      "f1 : 0.8780566022608836\n",
      "acc: 0.87832\n"
     ]
    },
    {
     "data": {
      "image/png": "[encoded data removed]",
      "text/plain": [
       "<Figure size 432x288 with 2 Axes>"
      ]
     },
     "metadata": {
      "needs_background": "light"
     },
     "output_type": "display_data"
    }
   ],
   "source": [
    "predict_result(model, test_x, test_y)"
   ]
  },
  {
   "cell_type": "markdown",
   "id": "8537ab76",
   "metadata": {},
   "source": [
    "# Feature 2 (Spacy document vector)"
   ]
  },
  {
   "cell_type": "code",
   "execution_count": 22,
   "id": "2bc1c49d",
   "metadata": {},
   "outputs": [],
   "source": [
    "def get_spacy_vector_and_one_hot(df):\n",
    "    text_list = df['text'].to_list()\n",
    "    x = []\n",
    "    for doc in tqdm_notebook(nlp.pipe(text_list, disable=[\"tagger\", \"parser\", \"lemmatizer\", 'attribute_ruler', 'ner']),total=len(text_list) ):\n",
    "        x.append(doc.vector)\n",
    "    x = pd.DataFrame(x)\n",
    "    y = df['label'].apply(one_hot).tolist()\n",
    "    y = np.array(y)\n",
    "    return x, y"
   ]
  },
  {
   "cell_type": "code",
   "execution_count": 23,
   "id": "417ebdc0",
   "metadata": {},
   "outputs": [
    {
     "data": {
      "application/vnd.jupyter.widget-view+json": {
       "model_id": "b8e055c150494f9097e63010d91703ad",
       "version_major": 2,
       "version_minor": 0
      },
      "text/plain": [
       "  0%|          | 0/25000 [00:00<?, ?it/s]"
      ]
     },
     "metadata": {},
     "output_type": "display_data"
    },
    {
     "data": {
      "application/vnd.jupyter.widget-view+json": {
       "model_id": "61d111e7acf24bc9b0da5800f147b81e",
       "version_major": 2,
       "version_minor": 0
      },
      "text/plain": [
       "  0%|          | 0/25000 [00:00<?, ?it/s]"
      ]
     },
     "metadata": {},
     "output_type": "display_data"
    }
   ],
   "source": [
    "train_val_x, train_val_y = get_spacy_vector_and_one_hot(train_df)\n",
    "test_x, test_y = get_spacy_vector_and_one_hot(test_df)"
   ]
  },
  {
   "cell_type": "markdown",
   "id": "ae9c6db6",
   "metadata": {},
   "source": [
    "# Splitting training data into train and validation set"
   ]
  },
  {
   "cell_type": "code",
   "execution_count": 24,
   "id": "f4046f07",
   "metadata": {},
   "outputs": [],
   "source": [
    "train_x, val_x = train_val_x[:train_len], train_val_x[train_len:]\n",
    "train_y, val_y = train_val_y[:train_len], train_val_y[train_len:]"
   ]
  },
  {
   "cell_type": "markdown",
   "id": "4d7254df",
   "metadata": {},
   "source": [
    "# Model 2 (FFNN w Spacy Doc Vector)"
   ]
  },
  {
   "cell_type": "code",
   "execution_count": 25,
   "id": "43e85f02",
   "metadata": {},
   "outputs": [
    {
     "name": "stdout",
     "output_type": "stream",
     "text": [
      "Model: \"sequential_2\"\n",
      "_________________________________________________________________\n",
      " Layer (type)                Output Shape              Param #   \n",
      "=================================================================\n",
      " dense_6 (Dense)             (None, 512)               154112    \n",
      "                                                                 \n",
      " dense_7 (Dense)             (None, 1024)              525312    \n",
      "                                                                 \n",
      " dropout_4 (Dropout)         (None, 1024)              0         \n",
      "                                                                 \n",
      " dense_8 (Dense)             (None, 512)               524800    \n",
      "                                                                 \n",
      " dense_9 (Dense)             (None, 2)                 1026      \n",
      "                                                                 \n",
      "=================================================================\n",
      "Total params: 1,205,250\n",
      "Trainable params: 1,205,250\n",
      "Non-trainable params: 0\n",
      "_________________________________________________________________\n"
     ]
    }
   ],
   "source": [
    "model = Sequential([\n",
    "    Dense(512, input_shape=(300,), activation='relu'),\n",
    "    Dense(1024, activation='relu'),\n",
    "    Dropout(0.3),\n",
    "    Dense(512, activation='relu'),\n",
    "    Dense(2, activation='sigmoid')\n",
    "])\n",
    "\n",
    "callbacks=[\n",
    "    ModelCheckpoint(filepath='./models_spacy_ffnn_raw/checkpoint',\n",
    "                   save_best_only=True, save_weights_only=True, verbose=1,monitor='val_accuracy')\n",
    "]\n",
    "\n",
    "model.summary()"
   ]
  },
  {
   "cell_type": "code",
   "execution_count": 26,
   "id": "f73a5cec",
   "metadata": {},
   "outputs": [
    {
     "name": "stdout",
     "output_type": "stream",
     "text": [
      "Epoch 1/50\n",
      "611/625 [============================>.] - ETA: 0s - loss: 0.4284 - accuracy: 0.7993\n",
      "Epoch 1: val_accuracy improved from -inf to 0.84540, saving model to ./models_spacy_ffnn_raw\\checkpoint\n",
      "625/625 [==============================] - 2s 3ms/step - loss: 0.4270 - accuracy: 0.8005 - val_loss: 0.3697 - val_accuracy: 0.8454\n",
      "Epoch 2/50\n",
      "621/625 [============================>.] - ETA: 0s - loss: 0.3667 - accuracy: 0.8388\n",
      "Epoch 2: val_accuracy improved from 0.84540 to 0.85720, saving model to ./models_spacy_ffnn_raw\\checkpoint\n",
      "625/625 [==============================] - 2s 3ms/step - loss: 0.3667 - accuracy: 0.8388 - val_loss: 0.3430 - val_accuracy: 0.8572\n",
      "Epoch 3/50\n",
      "599/625 [===========================>..] - ETA: 0s - loss: 0.3550 - accuracy: 0.8468\n",
      "Epoch 3: val_accuracy did not improve from 0.85720\n",
      "625/625 [==============================] - 1s 2ms/step - loss: 0.3559 - accuracy: 0.8464 - val_loss: 0.3774 - val_accuracy: 0.8300\n",
      "Epoch 4/50\n",
      "601/625 [===========================>..] - ETA: 0s - loss: 0.3495 - accuracy: 0.8479\n",
      "Epoch 4: val_accuracy improved from 0.85720 to 0.86220, saving model to ./models_spacy_ffnn_raw\\checkpoint\n",
      "625/625 [==============================] - 2s 3ms/step - loss: 0.3510 - accuracy: 0.8468 - val_loss: 0.3554 - val_accuracy: 0.8622\n",
      "Epoch 5/50\n",
      "598/625 [===========================>..] - ETA: 0s - loss: 0.3410 - accuracy: 0.8528\n",
      "Epoch 5: val_accuracy did not improve from 0.86220\n",
      "625/625 [==============================] - 1s 2ms/step - loss: 0.3419 - accuracy: 0.8524 - val_loss: 0.3396 - val_accuracy: 0.8562\n",
      "Epoch 6/50\n",
      "623/625 [============================>.] - ETA: 0s - loss: 0.3357 - accuracy: 0.8539\n",
      "Epoch 6: val_accuracy did not improve from 0.86220\n",
      "625/625 [==============================] - 1s 2ms/step - loss: 0.3358 - accuracy: 0.8539 - val_loss: 0.3393 - val_accuracy: 0.8570\n",
      "Epoch 7/50\n",
      "624/625 [============================>.] - ETA: 0s - loss: 0.3301 - accuracy: 0.8592\n",
      "Epoch 7: val_accuracy did not improve from 0.86220\n",
      "625/625 [==============================] - 1s 2ms/step - loss: 0.3302 - accuracy: 0.8591 - val_loss: 0.4138 - val_accuracy: 0.8130\n",
      "Epoch 8/50\n",
      "613/625 [============================>.] - ETA: 0s - loss: 0.3301 - accuracy: 0.8588\n",
      "Epoch 8: val_accuracy did not improve from 0.86220\n",
      "625/625 [==============================] - 1s 2ms/step - loss: 0.3297 - accuracy: 0.8591 - val_loss: 0.3326 - val_accuracy: 0.8602\n",
      "Epoch 9/50\n",
      "619/625 [============================>.] - ETA: 0s - loss: 0.3303 - accuracy: 0.8563\n",
      "Epoch 9: val_accuracy did not improve from 0.86220\n",
      "625/625 [==============================] - 1s 2ms/step - loss: 0.3310 - accuracy: 0.8561 - val_loss: 0.3333 - val_accuracy: 0.8584\n",
      "Epoch 10/50\n",
      "599/625 [===========================>..] - ETA: 0s - loss: 0.3211 - accuracy: 0.8625\n",
      "Epoch 10: val_accuracy improved from 0.86220 to 0.86420, saving model to ./models_spacy_ffnn_raw\\checkpoint\n",
      "625/625 [==============================] - 2s 3ms/step - loss: 0.3221 - accuracy: 0.8621 - val_loss: 0.3321 - val_accuracy: 0.8642\n",
      "Epoch 11/50\n",
      "612/625 [============================>.] - ETA: 0s - loss: 0.3186 - accuracy: 0.8632\n",
      "Epoch 11: val_accuracy did not improve from 0.86420\n",
      "625/625 [==============================] - 1s 2ms/step - loss: 0.3186 - accuracy: 0.8633 - val_loss: 0.3314 - val_accuracy: 0.8642\n",
      "Epoch 12/50\n",
      "606/625 [============================>.] - ETA: 0s - loss: 0.3135 - accuracy: 0.8648\n",
      "Epoch 12: val_accuracy did not improve from 0.86420\n",
      "625/625 [==============================] - 1s 2ms/step - loss: 0.3143 - accuracy: 0.8640 - val_loss: 0.3554 - val_accuracy: 0.8452\n",
      "Epoch 13/50\n",
      "609/625 [============================>.] - ETA: 0s - loss: 0.3106 - accuracy: 0.8680\n",
      "Epoch 13: val_accuracy improved from 0.86420 to 0.86580, saving model to ./models_spacy_ffnn_raw\\checkpoint\n",
      "625/625 [==============================] - 2s 3ms/step - loss: 0.3102 - accuracy: 0.8683 - val_loss: 0.3329 - val_accuracy: 0.8658\n",
      "Epoch 14/50\n",
      "604/625 [===========================>..] - ETA: 0s - loss: 0.3074 - accuracy: 0.8675\n",
      "Epoch 14: val_accuracy did not improve from 0.86580\n",
      "625/625 [==============================] - 1s 2ms/step - loss: 0.3067 - accuracy: 0.8680 - val_loss: 0.3301 - val_accuracy: 0.8636\n",
      "Epoch 15/50\n",
      "602/625 [===========================>..] - ETA: 0s - loss: 0.3077 - accuracy: 0.8703\n",
      "Epoch 15: val_accuracy did not improve from 0.86580\n",
      "625/625 [==============================] - 1s 2ms/step - loss: 0.3066 - accuracy: 0.8708 - val_loss: 0.3280 - val_accuracy: 0.8654\n",
      "Epoch 16/50\n",
      "613/625 [============================>.] - ETA: 0s - loss: 0.2976 - accuracy: 0.8740\n",
      "Epoch 16: val_accuracy did not improve from 0.86580\n",
      "625/625 [==============================] - 1s 2ms/step - loss: 0.2979 - accuracy: 0.8737 - val_loss: 0.3612 - val_accuracy: 0.8498\n",
      "Epoch 17/50\n",
      "625/625 [==============================] - ETA: 0s - loss: 0.2971 - accuracy: 0.8728\n",
      "Epoch 17: val_accuracy did not improve from 0.86580\n",
      "625/625 [==============================] - 1s 2ms/step - loss: 0.2971 - accuracy: 0.8728 - val_loss: 0.3303 - val_accuracy: 0.8642\n",
      "Epoch 18/50\n",
      "622/625 [============================>.] - ETA: 0s - loss: 0.2925 - accuracy: 0.8735\n",
      "Epoch 18: val_accuracy improved from 0.86580 to 0.86900, saving model to ./models_spacy_ffnn_raw\\checkpoint\n",
      "625/625 [==============================] - 2s 3ms/step - loss: 0.2922 - accuracy: 0.8737 - val_loss: 0.3278 - val_accuracy: 0.8690\n",
      "Epoch 19/50\n",
      "608/625 [============================>.] - ETA: 0s - loss: 0.2861 - accuracy: 0.8787\n",
      "Epoch 19: val_accuracy did not improve from 0.86900\n",
      "625/625 [==============================] - 1s 2ms/step - loss: 0.2870 - accuracy: 0.8783 - val_loss: 0.3547 - val_accuracy: 0.8534\n",
      "Epoch 20/50\n",
      "605/625 [============================>.] - ETA: 0s - loss: 0.2825 - accuracy: 0.8807\n",
      "Epoch 20: val_accuracy did not improve from 0.86900\n",
      "625/625 [==============================] - 1s 2ms/step - loss: 0.2825 - accuracy: 0.8808 - val_loss: 0.3375 - val_accuracy: 0.8642\n",
      "Epoch 21/50\n",
      "604/625 [===========================>..] - ETA: 0s - loss: 0.2808 - accuracy: 0.8822\n",
      "Epoch 21: val_accuracy did not improve from 0.86900\n",
      "625/625 [==============================] - 1s 2ms/step - loss: 0.2807 - accuracy: 0.8824 - val_loss: 0.3455 - val_accuracy: 0.8602\n",
      "Epoch 22/50\n",
      "599/625 [===========================>..] - ETA: 0s - loss: 0.2790 - accuracy: 0.8833\n",
      "Epoch 22: val_accuracy did not improve from 0.86900\n",
      "625/625 [==============================] - 1s 2ms/step - loss: 0.2787 - accuracy: 0.8834 - val_loss: 0.3473 - val_accuracy: 0.8584\n",
      "Epoch 23/50\n",
      "624/625 [============================>.] - ETA: 0s - loss: 0.2737 - accuracy: 0.8829\n",
      "Epoch 23: val_accuracy did not improve from 0.86900\n",
      "625/625 [==============================] - 1s 2ms/step - loss: 0.2739 - accuracy: 0.8828 - val_loss: 0.3939 - val_accuracy: 0.8420\n",
      "Epoch 24/50\n",
      "624/625 [============================>.] - ETA: 0s - loss: 0.2729 - accuracy: 0.8866\n",
      "Epoch 24: val_accuracy did not improve from 0.86900\n",
      "625/625 [==============================] - 1s 2ms/step - loss: 0.2727 - accuracy: 0.8867 - val_loss: 0.3734 - val_accuracy: 0.8516\n",
      "Epoch 25/50\n",
      "603/625 [===========================>..] - ETA: 0s - loss: 0.2664 - accuracy: 0.8866\n",
      "Epoch 25: val_accuracy did not improve from 0.86900\n",
      "625/625 [==============================] - 1s 2ms/step - loss: 0.2661 - accuracy: 0.8869 - val_loss: 0.3553 - val_accuracy: 0.8620\n",
      "Epoch 26/50\n",
      "607/625 [============================>.] - ETA: 0s - loss: 0.2637 - accuracy: 0.8881\n",
      "Epoch 26: val_accuracy did not improve from 0.86900\n",
      "625/625 [==============================] - 1s 2ms/step - loss: 0.2632 - accuracy: 0.8884 - val_loss: 0.3840 - val_accuracy: 0.8566\n",
      "Epoch 27/50\n",
      "623/625 [============================>.] - ETA: 0s - loss: 0.2534 - accuracy: 0.8905\n",
      "Epoch 27: val_accuracy did not improve from 0.86900\n",
      "625/625 [==============================] - 1s 2ms/step - loss: 0.2536 - accuracy: 0.8905 - val_loss: 0.4420 - val_accuracy: 0.8316\n",
      "Epoch 28/50\n",
      "618/625 [============================>.] - ETA: 0s - loss: 0.2545 - accuracy: 0.8938\n",
      "Epoch 28: val_accuracy did not improve from 0.86900\n",
      "625/625 [==============================] - 1s 2ms/step - loss: 0.2547 - accuracy: 0.8938 - val_loss: 0.4168 - val_accuracy: 0.8398\n",
      "Epoch 29/50\n"
     ]
    },
    {
     "name": "stdout",
     "output_type": "stream",
     "text": [
      "606/625 [============================>.] - ETA: 0s - loss: 0.2480 - accuracy: 0.8967\n",
      "Epoch 29: val_accuracy did not improve from 0.86900\n",
      "625/625 [==============================] - 1s 2ms/step - loss: 0.2478 - accuracy: 0.8966 - val_loss: 0.3928 - val_accuracy: 0.8562\n",
      "Epoch 30/50\n",
      "614/625 [============================>.] - ETA: 0s - loss: 0.2486 - accuracy: 0.8953\n",
      "Epoch 30: val_accuracy did not improve from 0.86900\n",
      "625/625 [==============================] - 1s 2ms/step - loss: 0.2489 - accuracy: 0.8951 - val_loss: 0.3755 - val_accuracy: 0.8542\n",
      "Epoch 31/50\n",
      "604/625 [===========================>..] - ETA: 0s - loss: 0.2419 - accuracy: 0.9006\n",
      "Epoch 31: val_accuracy did not improve from 0.86900\n",
      "625/625 [==============================] - 1s 2ms/step - loss: 0.2420 - accuracy: 0.9003 - val_loss: 0.3807 - val_accuracy: 0.8552\n",
      "Epoch 32/50\n",
      "609/625 [============================>.] - ETA: 0s - loss: 0.2370 - accuracy: 0.9021\n",
      "Epoch 32: val_accuracy did not improve from 0.86900\n",
      "625/625 [==============================] - 1s 2ms/step - loss: 0.2383 - accuracy: 0.9016 - val_loss: 0.3732 - val_accuracy: 0.8596\n",
      "Epoch 33/50\n",
      "599/625 [===========================>..] - ETA: 0s - loss: 0.2374 - accuracy: 0.9007\n",
      "Epoch 33: val_accuracy did not improve from 0.86900\n",
      "625/625 [==============================] - 1s 2ms/step - loss: 0.2379 - accuracy: 0.9007 - val_loss: 0.3698 - val_accuracy: 0.8562\n",
      "Epoch 34/50\n",
      "617/625 [============================>.] - ETA: 0s - loss: 0.2316 - accuracy: 0.9011\n",
      "Epoch 34: val_accuracy did not improve from 0.86900\n",
      "625/625 [==============================] - 1s 2ms/step - loss: 0.2309 - accuracy: 0.9017 - val_loss: 0.3976 - val_accuracy: 0.8546\n",
      "Epoch 35/50\n",
      "600/625 [===========================>..] - ETA: 0s - loss: 0.2241 - accuracy: 0.9043\n",
      "Epoch 35: val_accuracy did not improve from 0.86900\n",
      "625/625 [==============================] - 1s 2ms/step - loss: 0.2240 - accuracy: 0.9047 - val_loss: 0.3996 - val_accuracy: 0.8580\n",
      "Epoch 36/50\n",
      "601/625 [===========================>..] - ETA: 0s - loss: 0.2240 - accuracy: 0.9050\n",
      "Epoch 36: val_accuracy did not improve from 0.86900\n",
      "625/625 [==============================] - 1s 2ms/step - loss: 0.2242 - accuracy: 0.9049 - val_loss: 0.3948 - val_accuracy: 0.8574\n",
      "Epoch 37/50\n",
      "601/625 [===========================>..] - ETA: 0s - loss: 0.2157 - accuracy: 0.9094\n",
      "Epoch 37: val_accuracy did not improve from 0.86900\n",
      "625/625 [==============================] - 1s 2ms/step - loss: 0.2166 - accuracy: 0.9090 - val_loss: 0.4558 - val_accuracy: 0.8356\n",
      "Epoch 38/50\n",
      "598/625 [===========================>..] - ETA: 0s - loss: 0.2157 - accuracy: 0.9081\n",
      "Epoch 38: val_accuracy did not improve from 0.86900\n",
      "625/625 [==============================] - 1s 2ms/step - loss: 0.2174 - accuracy: 0.9076 - val_loss: 0.4191 - val_accuracy: 0.8472\n",
      "Epoch 39/50\n",
      "598/625 [===========================>..] - ETA: 0s - loss: 0.2121 - accuracy: 0.9111\n",
      "Epoch 39: val_accuracy did not improve from 0.86900\n",
      "625/625 [==============================] - 1s 2ms/step - loss: 0.2121 - accuracy: 0.9108 - val_loss: 0.4174 - val_accuracy: 0.8524\n",
      "Epoch 40/50\n",
      "614/625 [============================>.] - ETA: 0s - loss: 0.2070 - accuracy: 0.9107\n",
      "Epoch 40: val_accuracy did not improve from 0.86900\n",
      "625/625 [==============================] - 1s 2ms/step - loss: 0.2071 - accuracy: 0.9108 - val_loss: 0.4605 - val_accuracy: 0.8508\n",
      "Epoch 41/50\n",
      "624/625 [============================>.] - ETA: 0s - loss: 0.2034 - accuracy: 0.9129\n",
      "Epoch 41: val_accuracy did not improve from 0.86900\n",
      "625/625 [==============================] - 1s 2ms/step - loss: 0.2038 - accuracy: 0.9126 - val_loss: 0.4123 - val_accuracy: 0.8522\n",
      "Epoch 42/50\n",
      "610/625 [============================>.] - ETA: 0s - loss: 0.2008 - accuracy: 0.9172\n",
      "Epoch 42: val_accuracy did not improve from 0.86900\n",
      "625/625 [==============================] - 1s 2ms/step - loss: 0.2005 - accuracy: 0.9171 - val_loss: 0.4459 - val_accuracy: 0.8506\n",
      "Epoch 43/50\n",
      "611/625 [============================>.] - ETA: 0s - loss: 0.1968 - accuracy: 0.9186\n",
      "Epoch 43: val_accuracy did not improve from 0.86900\n",
      "625/625 [==============================] - 1s 2ms/step - loss: 0.1973 - accuracy: 0.9183 - val_loss: 0.4225 - val_accuracy: 0.8476\n",
      "Epoch 44/50\n",
      "607/625 [============================>.] - ETA: 0s - loss: 0.1846 - accuracy: 0.9224\n",
      "Epoch 44: val_accuracy did not improve from 0.86900\n",
      "625/625 [==============================] - 1s 2ms/step - loss: 0.1857 - accuracy: 0.9221 - val_loss: 0.4640 - val_accuracy: 0.8490\n",
      "Epoch 45/50\n",
      "610/625 [============================>.] - ETA: 0s - loss: 0.1903 - accuracy: 0.9212\n",
      "Epoch 45: val_accuracy did not improve from 0.86900\n",
      "625/625 [==============================] - 1s 2ms/step - loss: 0.1899 - accuracy: 0.9212 - val_loss: 0.4852 - val_accuracy: 0.8548\n",
      "Epoch 46/50\n",
      "597/625 [===========================>..] - ETA: 0s - loss: 0.1828 - accuracy: 0.9238\n",
      "Epoch 46: val_accuracy did not improve from 0.86900\n",
      "625/625 [==============================] - 1s 2ms/step - loss: 0.1828 - accuracy: 0.9240 - val_loss: 0.4544 - val_accuracy: 0.8518\n",
      "Epoch 47/50\n",
      "620/625 [============================>.] - ETA: 0s - loss: 0.1784 - accuracy: 0.9247\n",
      "Epoch 47: val_accuracy did not improve from 0.86900\n",
      "625/625 [==============================] - 1s 2ms/step - loss: 0.1784 - accuracy: 0.9246 - val_loss: 0.4629 - val_accuracy: 0.8432\n",
      "Epoch 48/50\n",
      "624/625 [============================>.] - ETA: 0s - loss: 0.1725 - accuracy: 0.9270\n",
      "Epoch 48: val_accuracy did not improve from 0.86900\n",
      "625/625 [==============================] - 1s 2ms/step - loss: 0.1724 - accuracy: 0.9270 - val_loss: 0.5041 - val_accuracy: 0.8508\n",
      "Epoch 49/50\n",
      "623/625 [============================>.] - ETA: 0s - loss: 0.1700 - accuracy: 0.9294\n",
      "Epoch 49: val_accuracy did not improve from 0.86900\n",
      "625/625 [==============================] - 1s 2ms/step - loss: 0.1698 - accuracy: 0.9295 - val_loss: 0.5779 - val_accuracy: 0.8354\n",
      "Epoch 50/50\n",
      "604/625 [===========================>..] - ETA: 0s - loss: 0.1658 - accuracy: 0.9303\n",
      "Epoch 50: val_accuracy did not improve from 0.86900\n",
      "625/625 [==============================] - 1s 2ms/step - loss: 0.1662 - accuracy: 0.9297 - val_loss: 0.5436 - val_accuracy: 0.8516\n",
      "68.74551701545715\n"
     ]
    }
   ],
   "source": [
    "model.compile('adam', loss=BinaryCrossentropy(), metrics='accuracy')\n",
    "st = time.time()\n",
    "model.fit(x=train_x,\n",
    "         y=train_y,\n",
    "         batch_size=32,\n",
    "         epochs=50,\n",
    "         validation_data=(val_x, val_y),\n",
    "         callbacks=callbacks)\n",
    "et = time.time()\n",
    "print(et - st)"
   ]
  },
  {
   "cell_type": "code",
   "execution_count": 27,
   "id": "f8634d3c",
   "metadata": {},
   "outputs": [
    {
     "data": {
      "text/plain": [
       "<tensorflow.python.training.tracking.util.CheckpointLoadStatus at 0x13a58714f10>"
      ]
     },
     "execution_count": 27,
     "metadata": {},
     "output_type": "execute_result"
    }
   ],
   "source": [
    "model.load_weights('./models_spacy_ffnn_raw/checkpoint')"
   ]
  },
  {
   "cell_type": "code",
   "execution_count": 28,
   "id": "7d64ff2f",
   "metadata": {},
   "outputs": [
    {
     "name": "stdout",
     "output_type": "stream",
     "text": [
      "f1 : 0.8815533980582524\n",
      "acc: 0.878\n"
     ]
    },
    {
     "data": {
      "image/png": "[encoded data removed]",
      "text/plain": [
       "<Figure size 432x288 with 2 Axes>"
      ]
     },
     "metadata": {
      "needs_background": "light"
     },
     "output_type": "display_data"
    }
   ],
   "source": [
    "predict_result(model, train_x[:1000], train_y[:1000])"
   ]
  },
  {
   "cell_type": "code",
   "execution_count": 29,
   "id": "39a4d075",
   "metadata": {},
   "outputs": [
    {
     "name": "stdout",
     "output_type": "stream",
     "text": [
      "f1 : 0.8541417999522559\n",
      "acc: 0.85336\n"
     ]
    },
    {
     "data": {
      "image/png": "[encoded data removed]",
      "text/plain": [
       "<Figure size 432x288 with 2 Axes>"
      ]
     },
     "metadata": {
      "needs_background": "light"
     },
     "output_type": "display_data"
    }
   ],
   "source": [
    "predict_result(model, test_x, test_y)"
   ]
  },
  {
   "cell_type": "markdown",
   "id": "edfc07a5",
   "metadata": {},
   "source": [
    "# Feature 3 (Text to Sequences)"
   ]
  },
  {
   "cell_type": "code",
   "execution_count": 30,
   "id": "48b97d89",
   "metadata": {},
   "outputs": [],
   "source": [
    "def get_sequences_and_one_hot(df):\n",
    "    sequences = tokenizer.texts_to_sequences(df['text'].values)\n",
    "    x = pad_sequences(sequences, maxlen=max_words)\n",
    "    y = df['label'].apply(one_hot).tolist()\n",
    "    y = np.array(y)\n",
    "    return x, y"
   ]
  },
  {
   "cell_type": "code",
   "execution_count": 31,
   "id": "a0f03db1",
   "metadata": {},
   "outputs": [],
   "source": [
    "train_val_x, train_val_y = get_sequences_and_one_hot(train_df)\n",
    "test_x, test_y = get_sequences_and_one_hot(test_df)"
   ]
  },
  {
   "cell_type": "code",
   "execution_count": 32,
   "id": "60100106",
   "metadata": {},
   "outputs": [],
   "source": [
    "train_x, val_x = train_val_x[:train_len], train_val_x[train_len:]\n",
    "train_y, val_y = train_val_y[:train_len], train_val_y[train_len:]"
   ]
  },
  {
   "cell_type": "markdown",
   "id": "043170bf",
   "metadata": {},
   "source": [
    "# Model 3 (LSTM)"
   ]
  },
  {
   "cell_type": "code",
   "execution_count": 33,
   "id": "458106b9",
   "metadata": {},
   "outputs": [
    {
     "name": "stdout",
     "output_type": "stream",
     "text": [
      "Model: \"sequential_3\"\n",
      "_________________________________________________________________\n",
      " Layer (type)                Output Shape              Param #   \n",
      "=================================================================\n",
      " embedding (Embedding)       (None, 300, 300)          153600    \n",
      "                                                                 \n",
      " lstm (LSTM)                 (None, 512)               1665024   \n",
      "                                                                 \n",
      " dropout_5 (Dropout)         (None, 512)               0         \n",
      "                                                                 \n",
      " dense_10 (Dense)            (None, 64)                32832     \n",
      "                                                                 \n",
      " dropout_6 (Dropout)         (None, 64)                0         \n",
      "                                                                 \n",
      " dense_11 (Dense)            (None, 2)                 130       \n",
      "                                                                 \n",
      "=================================================================\n",
      "Total params: 1,851,586\n",
      "Trainable params: 1,851,586\n",
      "Non-trainable params: 0\n",
      "_________________________________________________________________\n"
     ]
    }
   ],
   "source": [
    "model = Sequential([\n",
    "    Embedding(512, embedding_size, input_length=max_words),\n",
    "    LSTM(512),\n",
    "    Dropout(0.2),\n",
    "    Dense(64, activation='relu'),\n",
    "    Dropout(0.2),\n",
    "    Dense(2, activation='sigmoid')\n",
    "])\n",
    "\n",
    "callbacks=[\n",
    "    ModelCheckpoint(filepath='./models_t2s_lstm_raw/checkpoint',\n",
    "                   save_best_only=True, save_weights_only=True, verbose=1,monitor='val_accuracy')\n",
    "]\n",
    "\n",
    "model.summary()"
   ]
  },
  {
   "cell_type": "code",
   "execution_count": 34,
   "id": "70966035",
   "metadata": {},
   "outputs": [
    {
     "name": "stdout",
     "output_type": "stream",
     "text": [
      "Epoch 1/50\n",
      "624/625 [============================>.] - ETA: 0s - loss: 0.5922 - accuracy: 0.6843\n",
      "Epoch 1: val_accuracy improved from -inf to 0.75140, saving model to ./models_t2s_lstm_raw\\checkpoint\n",
      "625/625 [==============================] - 22s 32ms/step - loss: 0.5922 - accuracy: 0.6844 - val_loss: 0.5611 - val_accuracy: 0.7514\n",
      "Epoch 2/50\n",
      "625/625 [==============================] - ETA: 0s - loss: 0.5996 - accuracy: 0.6690\n",
      "Epoch 2: val_accuracy did not improve from 0.75140\n",
      "625/625 [==============================] - 20s 32ms/step - loss: 0.5996 - accuracy: 0.6690 - val_loss: 0.6931 - val_accuracy: 0.5076\n",
      "Epoch 3/50\n",
      "625/625 [==============================] - ETA: 0s - loss: 0.6923 - accuracy: 0.5120\n",
      "Epoch 3: val_accuracy did not improve from 0.75140\n",
      "625/625 [==============================] - 20s 32ms/step - loss: 0.6923 - accuracy: 0.5120 - val_loss: 0.6898 - val_accuracy: 0.5092\n",
      "Epoch 4/50\n",
      "625/625 [==============================] - ETA: 0s - loss: 0.6449 - accuracy: 0.6118\n",
      "Epoch 4: val_accuracy improved from 0.75140 to 0.75200, saving model to ./models_t2s_lstm_raw\\checkpoint\n",
      "625/625 [==============================] - 21s 33ms/step - loss: 0.6449 - accuracy: 0.6118 - val_loss: 0.6356 - val_accuracy: 0.7520\n",
      "Epoch 5/50\n",
      "625/625 [==============================] - ETA: 0s - loss: 0.5087 - accuracy: 0.7452\n",
      "Epoch 5: val_accuracy improved from 0.75200 to 0.78180, saving model to ./models_t2s_lstm_raw\\checkpoint\n",
      "625/625 [==============================] - 21s 33ms/step - loss: 0.5087 - accuracy: 0.7452 - val_loss: 0.4850 - val_accuracy: 0.7818\n",
      "Epoch 6/50\n",
      "625/625 [==============================] - ETA: 0s - loss: 0.4400 - accuracy: 0.8073\n",
      "Epoch 6: val_accuracy improved from 0.78180 to 0.80700, saving model to ./models_t2s_lstm_raw\\checkpoint\n",
      "625/625 [==============================] - 20s 33ms/step - loss: 0.4400 - accuracy: 0.8073 - val_loss: 0.4382 - val_accuracy: 0.8070\n",
      "Epoch 7/50\n",
      "625/625 [==============================] - ETA: 0s - loss: 0.4029 - accuracy: 0.8245\n",
      "Epoch 7: val_accuracy improved from 0.80700 to 0.82480, saving model to ./models_t2s_lstm_raw\\checkpoint\n",
      "625/625 [==============================] - 21s 33ms/step - loss: 0.4029 - accuracy: 0.8245 - val_loss: 0.3917 - val_accuracy: 0.8248\n",
      "Epoch 8/50\n",
      "625/625 [==============================] - ETA: 0s - loss: 0.3759 - accuracy: 0.8403\n",
      "Epoch 8: val_accuracy improved from 0.82480 to 0.83280, saving model to ./models_t2s_lstm_raw\\checkpoint\n",
      "625/625 [==============================] - 21s 33ms/step - loss: 0.3759 - accuracy: 0.8403 - val_loss: 0.3716 - val_accuracy: 0.8328\n",
      "Epoch 9/50\n",
      "625/625 [==============================] - ETA: 0s - loss: 0.3560 - accuracy: 0.8478\n",
      "Epoch 9: val_accuracy did not improve from 0.83280\n",
      "625/625 [==============================] - 20s 32ms/step - loss: 0.3560 - accuracy: 0.8478 - val_loss: 0.3787 - val_accuracy: 0.8314\n",
      "Epoch 10/50\n",
      "625/625 [==============================] - ETA: 0s - loss: 0.3447 - accuracy: 0.8529\n",
      "Epoch 10: val_accuracy improved from 0.83280 to 0.83420, saving model to ./models_t2s_lstm_raw\\checkpoint\n",
      "625/625 [==============================] - 20s 33ms/step - loss: 0.3447 - accuracy: 0.8529 - val_loss: 0.4009 - val_accuracy: 0.8342\n",
      "Epoch 11/50\n",
      "625/625 [==============================] - ETA: 0s - loss: 0.3298 - accuracy: 0.8608\n",
      "Epoch 11: val_accuracy improved from 0.83420 to 0.84740, saving model to ./models_t2s_lstm_raw\\checkpoint\n",
      "625/625 [==============================] - 21s 34ms/step - loss: 0.3298 - accuracy: 0.8608 - val_loss: 0.3669 - val_accuracy: 0.8474\n",
      "Epoch 12/50\n",
      "625/625 [==============================] - ETA: 0s - loss: 0.3193 - accuracy: 0.8651\n",
      "Epoch 12: val_accuracy did not improve from 0.84740\n",
      "625/625 [==============================] - 20s 32ms/step - loss: 0.3193 - accuracy: 0.8651 - val_loss: 0.3696 - val_accuracy: 0.8394\n",
      "Epoch 13/50\n",
      "625/625 [==============================] - ETA: 0s - loss: 0.3066 - accuracy: 0.8727\n",
      "Epoch 13: val_accuracy did not improve from 0.84740\n",
      "625/625 [==============================] - 20s 32ms/step - loss: 0.3066 - accuracy: 0.8727 - val_loss: 0.3738 - val_accuracy: 0.8432\n",
      "Epoch 14/50\n",
      "625/625 [==============================] - ETA: 0s - loss: 0.2941 - accuracy: 0.8775\n",
      "Epoch 14: val_accuracy improved from 0.84740 to 0.84920, saving model to ./models_t2s_lstm_raw\\checkpoint\n",
      "625/625 [==============================] - 20s 33ms/step - loss: 0.2941 - accuracy: 0.8775 - val_loss: 0.3696 - val_accuracy: 0.8492\n",
      "Epoch 15/50\n",
      "625/625 [==============================] - ETA: 0s - loss: 0.2831 - accuracy: 0.8806\n",
      "Epoch 15: val_accuracy did not improve from 0.84920\n",
      "625/625 [==============================] - 21s 33ms/step - loss: 0.2831 - accuracy: 0.8806 - val_loss: 0.3924 - val_accuracy: 0.8472\n",
      "Epoch 16/50\n",
      "625/625 [==============================] - ETA: 0s - loss: 0.2728 - accuracy: 0.8871\n",
      "Epoch 16: val_accuracy did not improve from 0.84920\n",
      "625/625 [==============================] - 21s 33ms/step - loss: 0.2728 - accuracy: 0.8871 - val_loss: 0.3664 - val_accuracy: 0.8482\n",
      "Epoch 17/50\n",
      "625/625 [==============================] - ETA: 0s - loss: 0.2598 - accuracy: 0.8910\n",
      "Epoch 17: val_accuracy did not improve from 0.84920\n",
      "625/625 [==============================] - 20s 33ms/step - loss: 0.2598 - accuracy: 0.8910 - val_loss: 0.4216 - val_accuracy: 0.8364\n",
      "Epoch 18/50\n",
      "625/625 [==============================] - ETA: 0s - loss: 0.2522 - accuracy: 0.8968\n",
      "Epoch 18: val_accuracy did not improve from 0.84920\n",
      "625/625 [==============================] - 20s 31ms/step - loss: 0.2522 - accuracy: 0.8968 - val_loss: 0.4011 - val_accuracy: 0.8388\n",
      "Epoch 19/50\n",
      "625/625 [==============================] - ETA: 0s - loss: 0.2372 - accuracy: 0.9021\n",
      "Epoch 19: val_accuracy did not improve from 0.84920\n",
      "625/625 [==============================] - 20s 32ms/step - loss: 0.2372 - accuracy: 0.9021 - val_loss: 0.4080 - val_accuracy: 0.8348\n",
      "Epoch 20/50\n",
      "625/625 [==============================] - ETA: 0s - loss: 0.2265 - accuracy: 0.9065\n",
      "Epoch 20: val_accuracy did not improve from 0.84920\n",
      "625/625 [==============================] - 20s 32ms/step - loss: 0.2265 - accuracy: 0.9065 - val_loss: 0.3995 - val_accuracy: 0.8368\n",
      "Epoch 21/50\n",
      "625/625 [==============================] - ETA: 0s - loss: 0.2165 - accuracy: 0.9111\n",
      "Epoch 21: val_accuracy did not improve from 0.84920\n",
      "625/625 [==============================] - 21s 33ms/step - loss: 0.2165 - accuracy: 0.9111 - val_loss: 0.4145 - val_accuracy: 0.8394\n",
      "Epoch 22/50\n",
      "625/625 [==============================] - ETA: 0s - loss: 0.2002 - accuracy: 0.9176\n",
      "Epoch 22: val_accuracy did not improve from 0.84920\n",
      "625/625 [==============================] - 21s 34ms/step - loss: 0.2002 - accuracy: 0.9176 - val_loss: 0.4501 - val_accuracy: 0.8344\n",
      "Epoch 23/50\n",
      "625/625 [==============================] - ETA: 0s - loss: 0.1863 - accuracy: 0.9240\n",
      "Epoch 23: val_accuracy did not improve from 0.84920\n",
      "625/625 [==============================] - 20s 32ms/step - loss: 0.1863 - accuracy: 0.9240 - val_loss: 0.4731 - val_accuracy: 0.8372\n",
      "Epoch 24/50\n",
      "625/625 [==============================] - ETA: 0s - loss: 0.1787 - accuracy: 0.9279\n",
      "Epoch 24: val_accuracy did not improve from 0.84920\n",
      "625/625 [==============================] - 20s 32ms/step - loss: 0.1787 - accuracy: 0.9279 - val_loss: 0.5311 - val_accuracy: 0.8358\n",
      "Epoch 25/50\n",
      "625/625 [==============================] - ETA: 0s - loss: 0.1671 - accuracy: 0.9336\n",
      "Epoch 25: val_accuracy did not improve from 0.84920\n",
      "625/625 [==============================] - 20s 31ms/step - loss: 0.1671 - accuracy: 0.9336 - val_loss: 0.4912 - val_accuracy: 0.8378\n",
      "Epoch 26/50\n",
      "625/625 [==============================] - ETA: 0s - loss: 0.1560 - accuracy: 0.9378\n",
      "Epoch 26: val_accuracy did not improve from 0.84920\n",
      "625/625 [==============================] - 20s 32ms/step - loss: 0.1560 - accuracy: 0.9378 - val_loss: 0.5558 - val_accuracy: 0.8308\n",
      "Epoch 27/50\n",
      "625/625 [==============================] - ETA: 0s - loss: 0.1434 - accuracy: 0.9433\n",
      "Epoch 27: val_accuracy did not improve from 0.84920\n",
      "625/625 [==============================] - 21s 33ms/step - loss: 0.1434 - accuracy: 0.9433 - val_loss: 0.5725 - val_accuracy: 0.8280\n",
      "Epoch 28/50\n",
      "625/625 [==============================] - ETA: 0s - loss: 0.1377 - accuracy: 0.9456\n",
      "Epoch 28: val_accuracy did not improve from 0.84920\n"
     ]
    },
    {
     "name": "stdout",
     "output_type": "stream",
     "text": [
      "625/625 [==============================] - 21s 33ms/step - loss: 0.1377 - accuracy: 0.9456 - val_loss: 0.7748 - val_accuracy: 0.8240\n",
      "Epoch 29/50\n",
      "625/625 [==============================] - ETA: 0s - loss: 0.1234 - accuracy: 0.9517\n",
      "Epoch 29: val_accuracy did not improve from 0.84920\n",
      "625/625 [==============================] - 20s 32ms/step - loss: 0.1234 - accuracy: 0.9517 - val_loss: 0.6203 - val_accuracy: 0.8270\n",
      "Epoch 30/50\n",
      "625/625 [==============================] - ETA: 0s - loss: 0.1109 - accuracy: 0.9578\n",
      "Epoch 30: val_accuracy did not improve from 0.84920\n",
      "625/625 [==============================] - 20s 31ms/step - loss: 0.1109 - accuracy: 0.9578 - val_loss: 0.6469 - val_accuracy: 0.8322\n",
      "Epoch 31/50\n",
      "625/625 [==============================] - ETA: 0s - loss: 0.1069 - accuracy: 0.9588\n",
      "Epoch 31: val_accuracy did not improve from 0.84920\n",
      "625/625 [==============================] - 20s 32ms/step - loss: 0.1069 - accuracy: 0.9588 - val_loss: 0.7123 - val_accuracy: 0.8278\n",
      "Epoch 32/50\n",
      "625/625 [==============================] - ETA: 0s - loss: 0.1074 - accuracy: 0.9603\n",
      "Epoch 32: val_accuracy did not improve from 0.84920\n",
      "625/625 [==============================] - 21s 33ms/step - loss: 0.1074 - accuracy: 0.9603 - val_loss: 0.6647 - val_accuracy: 0.8308\n",
      "Epoch 33/50\n",
      "625/625 [==============================] - ETA: 0s - loss: 0.0863 - accuracy: 0.9700\n",
      "Epoch 33: val_accuracy did not improve from 0.84920\n",
      "625/625 [==============================] - 21s 33ms/step - loss: 0.0863 - accuracy: 0.9700 - val_loss: 0.7815 - val_accuracy: 0.8232\n",
      "Epoch 34/50\n",
      "625/625 [==============================] - ETA: 0s - loss: 0.0856 - accuracy: 0.9683\n",
      "Epoch 34: val_accuracy did not improve from 0.84920\n",
      "625/625 [==============================] - 20s 32ms/step - loss: 0.0856 - accuracy: 0.9683 - val_loss: 0.7101 - val_accuracy: 0.8292\n",
      "Epoch 35/50\n",
      "625/625 [==============================] - ETA: 0s - loss: 0.0770 - accuracy: 0.9722\n",
      "Epoch 35: val_accuracy did not improve from 0.84920\n",
      "625/625 [==============================] - 20s 32ms/step - loss: 0.0770 - accuracy: 0.9722 - val_loss: 0.7705 - val_accuracy: 0.8280\n",
      "Epoch 36/50\n",
      "625/625 [==============================] - ETA: 0s - loss: 0.0676 - accuracy: 0.9758\n",
      "Epoch 36: val_accuracy did not improve from 0.84920\n",
      "625/625 [==============================] - 20s 32ms/step - loss: 0.0676 - accuracy: 0.9758 - val_loss: 0.8191 - val_accuracy: 0.8278\n",
      "Epoch 37/50\n",
      "625/625 [==============================] - ETA: 0s - loss: 0.0737 - accuracy: 0.9736\n",
      "Epoch 37: val_accuracy did not improve from 0.84920\n",
      "625/625 [==============================] - 20s 32ms/step - loss: 0.0737 - accuracy: 0.9736 - val_loss: 0.8772 - val_accuracy: 0.8234\n",
      "Epoch 38/50\n",
      "625/625 [==============================] - ETA: 0s - loss: 0.0645 - accuracy: 0.9772\n",
      "Epoch 38: val_accuracy did not improve from 0.84920\n",
      "625/625 [==============================] - 20s 32ms/step - loss: 0.0645 - accuracy: 0.9772 - val_loss: 0.9386 - val_accuracy: 0.8208\n",
      "Epoch 39/50\n",
      "625/625 [==============================] - ETA: 0s - loss: 0.0552 - accuracy: 0.9821\n",
      "Epoch 39: val_accuracy did not improve from 0.84920\n",
      "625/625 [==============================] - 20s 32ms/step - loss: 0.0552 - accuracy: 0.9821 - val_loss: 0.8482 - val_accuracy: 0.8242\n",
      "Epoch 40/50\n",
      "625/625 [==============================] - ETA: 0s - loss: 0.0502 - accuracy: 0.9819\n",
      "Epoch 40: val_accuracy did not improve from 0.84920\n",
      "625/625 [==============================] - 20s 32ms/step - loss: 0.0502 - accuracy: 0.9819 - val_loss: 0.9593 - val_accuracy: 0.8262\n",
      "Epoch 41/50\n",
      "625/625 [==============================] - ETA: 0s - loss: 0.0579 - accuracy: 0.9812\n",
      "Epoch 41: val_accuracy did not improve from 0.84920\n",
      "625/625 [==============================] - 20s 32ms/step - loss: 0.0579 - accuracy: 0.9812 - val_loss: 0.8294 - val_accuracy: 0.8236\n",
      "Epoch 42/50\n",
      "625/625 [==============================] - ETA: 0s - loss: 0.0514 - accuracy: 0.9833\n",
      "Epoch 42: val_accuracy did not improve from 0.84920\n",
      "625/625 [==============================] - 20s 32ms/step - loss: 0.0514 - accuracy: 0.9833 - val_loss: 0.9881 - val_accuracy: 0.8178\n",
      "Epoch 43/50\n",
      "625/625 [==============================] - ETA: 0s - loss: 0.0454 - accuracy: 0.9844\n",
      "Epoch 43: val_accuracy did not improve from 0.84920\n",
      "625/625 [==============================] - 20s 32ms/step - loss: 0.0454 - accuracy: 0.9844 - val_loss: 0.9372 - val_accuracy: 0.8174\n",
      "Epoch 44/50\n",
      "625/625 [==============================] - ETA: 0s - loss: 0.0435 - accuracy: 0.9855\n",
      "Epoch 44: val_accuracy did not improve from 0.84920\n",
      "625/625 [==============================] - 20s 32ms/step - loss: 0.0435 - accuracy: 0.9855 - val_loss: 0.9712 - val_accuracy: 0.8248\n",
      "Epoch 45/50\n",
      "625/625 [==============================] - ETA: 0s - loss: 0.0453 - accuracy: 0.9855\n",
      "Epoch 45: val_accuracy did not improve from 0.84920\n",
      "625/625 [==============================] - 20s 32ms/step - loss: 0.0453 - accuracy: 0.9855 - val_loss: 1.0262 - val_accuracy: 0.8256\n",
      "Epoch 46/50\n",
      "625/625 [==============================] - ETA: 0s - loss: 0.0306 - accuracy: 0.9902\n",
      "Epoch 46: val_accuracy did not improve from 0.84920\n",
      "625/625 [==============================] - 20s 32ms/step - loss: 0.0306 - accuracy: 0.9902 - val_loss: 0.9524 - val_accuracy: 0.8248\n",
      "Epoch 47/50\n",
      "625/625 [==============================] - ETA: 0s - loss: 0.0387 - accuracy: 0.9862\n",
      "Epoch 47: val_accuracy did not improve from 0.84920\n",
      "625/625 [==============================] - 20s 32ms/step - loss: 0.0387 - accuracy: 0.9862 - val_loss: 1.0639 - val_accuracy: 0.8226\n",
      "Epoch 48/50\n",
      "625/625 [==============================] - ETA: 0s - loss: 0.0350 - accuracy: 0.9882\n",
      "Epoch 48: val_accuracy did not improve from 0.84920\n",
      "625/625 [==============================] - 20s 32ms/step - loss: 0.0350 - accuracy: 0.9882 - val_loss: 0.9552 - val_accuracy: 0.8240\n",
      "Epoch 49/50\n",
      "625/625 [==============================] - ETA: 0s - loss: 0.0359 - accuracy: 0.9880\n",
      "Epoch 49: val_accuracy did not improve from 0.84920\n",
      "625/625 [==============================] - 20s 32ms/step - loss: 0.0359 - accuracy: 0.9880 - val_loss: 1.0893 - val_accuracy: 0.8250\n",
      "Epoch 50/50\n",
      "625/625 [==============================] - ETA: 0s - loss: 0.0261 - accuracy: 0.9912\n",
      "Epoch 50: val_accuracy did not improve from 0.84920\n",
      "625/625 [==============================] - 20s 32ms/step - loss: 0.0261 - accuracy: 0.9912 - val_loss: 1.0957 - val_accuracy: 0.8242\n",
      "1013.2526400089264\n"
     ]
    }
   ],
   "source": [
    "model.compile('adam', loss=BinaryCrossentropy(), metrics='accuracy')\n",
    "st = time.time()\n",
    "model.fit(x=train_x,\n",
    "         y=train_y,\n",
    "         batch_size=32,\n",
    "         epochs=50,\n",
    "         validation_data=(val_x, val_y),\n",
    "         callbacks=callbacks)\n",
    "et = time.time()\n",
    "print(et - st)"
   ]
  },
  {
   "cell_type": "code",
   "execution_count": 35,
   "id": "ddadf5f1",
   "metadata": {},
   "outputs": [
    {
     "data": {
      "text/plain": [
       "<tensorflow.python.training.tracking.util.CheckpointLoadStatus at 0x13a67c30b20>"
      ]
     },
     "execution_count": 35,
     "metadata": {},
     "output_type": "execute_result"
    }
   ],
   "source": [
    "model.load_weights('./models_t2s_lstm_raw/checkpoint')"
   ]
  },
  {
   "cell_type": "code",
   "execution_count": 36,
   "id": "0a4daaa4",
   "metadata": {},
   "outputs": [
    {
     "name": "stdout",
     "output_type": "stream",
     "text": [
      "f1 : 0.9034146341463415\n",
      "acc: 0.901\n"
     ]
    },
    {
     "data": {
      "image/png": "[encoded data removed]",
      "text/plain": [
       "<Figure size 432x288 with 2 Axes>"
      ]
     },
     "metadata": {
      "needs_background": "light"
     },
     "output_type": "display_data"
    }
   ],
   "source": [
    "predict_result(model, train_x[:1000], train_y[:1000])"
   ]
  },
  {
   "cell_type": "code",
   "execution_count": 37,
   "id": "1becb778",
   "metadata": {},
   "outputs": [
    {
     "name": "stdout",
     "output_type": "stream",
     "text": [
      "f1 : 0.8506003021388248\n",
      "acc: 0.84968\n"
     ]
    },
    {
     "data": {
      "image/png": "[encoded data removed]",
      "text/plain": [
       "<Figure size 432x288 with 2 Axes>"
      ]
     },
     "metadata": {
      "needs_background": "light"
     },
     "output_type": "display_data"
    }
   ],
   "source": [
    "predict_result(model, test_x, test_y)"
   ]
  },
  {
   "cell_type": "markdown",
   "id": "a972fac1",
   "metadata": {},
   "source": [
    "# Model 4 (Bi-LSTM)"
   ]
  },
  {
   "cell_type": "code",
   "execution_count": 38,
   "id": "e8eb82f7",
   "metadata": {},
   "outputs": [
    {
     "name": "stdout",
     "output_type": "stream",
     "text": [
      "Model: \"sequential_4\"\n",
      "_________________________________________________________________\n",
      " Layer (type)                Output Shape              Param #   \n",
      "=================================================================\n",
      " embedding_1 (Embedding)     (None, 300, 300)          153600    \n",
      "                                                                 \n",
      " bidirectional (Bidirectiona  (None, 512)              1140736   \n",
      " l)                                                              \n",
      "                                                                 \n",
      " dropout_7 (Dropout)         (None, 512)               0         \n",
      "                                                                 \n",
      " dense_12 (Dense)            (None, 64)                32832     \n",
      "                                                                 \n",
      " dropout_8 (Dropout)         (None, 64)                0         \n",
      "                                                                 \n",
      " dense_13 (Dense)            (None, 2)                 130       \n",
      "                                                                 \n",
      "=================================================================\n",
      "Total params: 1,327,298\n",
      "Trainable params: 1,327,298\n",
      "Non-trainable params: 0\n",
      "_________________________________________________________________\n"
     ]
    }
   ],
   "source": [
    "model = Sequential([\n",
    "    Embedding(512, embedding_size, input_length=max_words),\n",
    "    Bidirectional(LSTM(256)),\n",
    "    Dropout(0.4),\n",
    "    Dense(64, activation='relu'),\n",
    "    Dropout(0.4),\n",
    "    Dense(2, activation='sigmoid')\n",
    "])\n",
    "\n",
    "callbacks=[\n",
    "    ModelCheckpoint(filepath='./models_t2s_bilstm_raw/checkpoint',\n",
    "                   save_best_only=True, save_weights_only=True, verbose=1,monitor='val_accuracy')\n",
    "]\n",
    "\n",
    "model.summary()"
   ]
  },
  {
   "cell_type": "code",
   "execution_count": 39,
   "id": "be9eb1e8",
   "metadata": {},
   "outputs": [
    {
     "name": "stdout",
     "output_type": "stream",
     "text": [
      "Epoch 1/50\n",
      "625/625 [==============================] - ETA: 0s - loss: 0.6032 - accuracy: 0.6786\n",
      "Epoch 1: val_accuracy improved from -inf to 0.78520, saving model to ./models_t2s_bilstm_raw\\checkpoint\n",
      "625/625 [==============================] - 31s 47ms/step - loss: 0.6032 - accuracy: 0.6786 - val_loss: 0.5003 - val_accuracy: 0.7852\n",
      "Epoch 2/50\n",
      "625/625 [==============================] - ETA: 0s - loss: 0.5129 - accuracy: 0.7632\n",
      "Epoch 2: val_accuracy did not improve from 0.78520\n",
      "625/625 [==============================] - 28s 44ms/step - loss: 0.5129 - accuracy: 0.7632 - val_loss: 0.6711 - val_accuracy: 0.5320\n",
      "Epoch 3/50\n",
      "624/625 [============================>.] - ETA: 0s - loss: 0.5450 - accuracy: 0.7204\n",
      "Epoch 3: val_accuracy did not improve from 0.78520\n",
      "625/625 [==============================] - 29s 47ms/step - loss: 0.5447 - accuracy: 0.7206 - val_loss: 0.4973 - val_accuracy: 0.7516\n",
      "Epoch 4/50\n",
      "625/625 [==============================] - ETA: 0s - loss: 0.4734 - accuracy: 0.7829\n",
      "Epoch 4: val_accuracy improved from 0.78520 to 0.82260, saving model to ./models_t2s_bilstm_raw\\checkpoint\n",
      "625/625 [==============================] - 30s 47ms/step - loss: 0.4734 - accuracy: 0.7829 - val_loss: 0.3987 - val_accuracy: 0.8226\n",
      "Epoch 5/50\n",
      "624/625 [============================>.] - ETA: 0s - loss: 0.3864 - accuracy: 0.8312\n",
      "Epoch 5: val_accuracy did not improve from 0.82260\n",
      "625/625 [==============================] - 27s 44ms/step - loss: 0.3865 - accuracy: 0.8311 - val_loss: 0.4074 - val_accuracy: 0.8012\n",
      "Epoch 6/50\n",
      "624/625 [============================>.] - ETA: 0s - loss: 0.3634 - accuracy: 0.8410\n",
      "Epoch 6: val_accuracy improved from 0.82260 to 0.83760, saving model to ./models_t2s_bilstm_raw\\checkpoint\n",
      "625/625 [==============================] - 29s 47ms/step - loss: 0.3635 - accuracy: 0.8410 - val_loss: 0.3677 - val_accuracy: 0.8376\n",
      "Epoch 7/50\n",
      "625/625 [==============================] - ETA: 0s - loss: 0.3380 - accuracy: 0.8556\n",
      "Epoch 7: val_accuracy improved from 0.83760 to 0.84500, saving model to ./models_t2s_bilstm_raw\\checkpoint\n",
      "625/625 [==============================] - 28s 45ms/step - loss: 0.3380 - accuracy: 0.8556 - val_loss: 0.3505 - val_accuracy: 0.8450\n",
      "Epoch 8/50\n",
      "624/625 [============================>.] - ETA: 0s - loss: 0.3236 - accuracy: 0.8634\n",
      "Epoch 8: val_accuracy improved from 0.84500 to 0.85040, saving model to ./models_t2s_bilstm_raw\\checkpoint\n",
      "625/625 [==============================] - 28s 45ms/step - loss: 0.3237 - accuracy: 0.8633 - val_loss: 0.3413 - val_accuracy: 0.8504\n",
      "Epoch 9/50\n",
      "625/625 [==============================] - ETA: 0s - loss: 0.3106 - accuracy: 0.8691\n",
      "Epoch 9: val_accuracy improved from 0.85040 to 0.85240, saving model to ./models_t2s_bilstm_raw\\checkpoint\n",
      "625/625 [==============================] - 29s 46ms/step - loss: 0.3106 - accuracy: 0.8691 - val_loss: 0.3558 - val_accuracy: 0.8524\n",
      "Epoch 10/50\n",
      "624/625 [============================>.] - ETA: 0s - loss: 0.2952 - accuracy: 0.8770\n",
      "Epoch 10: val_accuracy did not improve from 0.85240\n",
      "625/625 [==============================] - 28s 45ms/step - loss: 0.2952 - accuracy: 0.8769 - val_loss: 0.3582 - val_accuracy: 0.8472\n",
      "Epoch 11/50\n",
      "624/625 [============================>.] - ETA: 0s - loss: 0.2833 - accuracy: 0.8829\n",
      "Epoch 11: val_accuracy did not improve from 0.85240\n",
      "625/625 [==============================] - 30s 48ms/step - loss: 0.2833 - accuracy: 0.8828 - val_loss: 0.3610 - val_accuracy: 0.8416\n",
      "Epoch 12/50\n",
      "624/625 [============================>.] - ETA: 0s - loss: 0.2729 - accuracy: 0.8886\n",
      "Epoch 12: val_accuracy did not improve from 0.85240\n",
      "625/625 [==============================] - 28s 45ms/step - loss: 0.2729 - accuracy: 0.8885 - val_loss: 0.3611 - val_accuracy: 0.8472\n",
      "Epoch 13/50\n",
      "624/625 [============================>.] - ETA: 0s - loss: 0.2867 - accuracy: 0.8782\n",
      "Epoch 13: val_accuracy did not improve from 0.85240\n",
      "625/625 [==============================] - 28s 46ms/step - loss: 0.2866 - accuracy: 0.8782 - val_loss: 0.3715 - val_accuracy: 0.8430\n",
      "Epoch 14/50\n",
      "624/625 [============================>.] - ETA: 0s - loss: 0.2688 - accuracy: 0.8879\n",
      "Epoch 14: val_accuracy did not improve from 0.85240\n",
      "625/625 [==============================] - 29s 46ms/step - loss: 0.2689 - accuracy: 0.8879 - val_loss: 0.3919 - val_accuracy: 0.8486\n",
      "Epoch 15/50\n",
      "625/625 [==============================] - ETA: 0s - loss: 0.2396 - accuracy: 0.9011\n",
      "Epoch 15: val_accuracy did not improve from 0.85240\n",
      "625/625 [==============================] - 30s 47ms/step - loss: 0.2396 - accuracy: 0.9011 - val_loss: 0.3778 - val_accuracy: 0.8438\n",
      "Epoch 16/50\n",
      "625/625 [==============================] - ETA: 0s - loss: 0.2249 - accuracy: 0.9099\n",
      "Epoch 16: val_accuracy did not improve from 0.85240\n",
      "625/625 [==============================] - 30s 48ms/step - loss: 0.2249 - accuracy: 0.9099 - val_loss: 0.4087 - val_accuracy: 0.8474\n",
      "Epoch 17/50\n",
      "625/625 [==============================] - ETA: 0s - loss: 0.2076 - accuracy: 0.9151\n",
      "Epoch 17: val_accuracy did not improve from 0.85240\n",
      "625/625 [==============================] - 27s 44ms/step - loss: 0.2076 - accuracy: 0.9151 - val_loss: 0.4169 - val_accuracy: 0.8318\n",
      "Epoch 18/50\n",
      "624/625 [============================>.] - ETA: 0s - loss: 0.1955 - accuracy: 0.9225\n",
      "Epoch 18: val_accuracy did not improve from 0.85240\n",
      "625/625 [==============================] - 30s 48ms/step - loss: 0.1955 - accuracy: 0.9225 - val_loss: 0.4449 - val_accuracy: 0.8400\n",
      "Epoch 19/50\n",
      "624/625 [============================>.] - ETA: 0s - loss: 0.1767 - accuracy: 0.9308\n",
      "Epoch 19: val_accuracy did not improve from 0.85240\n",
      "625/625 [==============================] - 28s 44ms/step - loss: 0.1766 - accuracy: 0.9309 - val_loss: 0.4577 - val_accuracy: 0.8360\n",
      "Epoch 20/50\n",
      "624/625 [============================>.] - ETA: 0s - loss: 0.1635 - accuracy: 0.9362\n",
      "Epoch 20: val_accuracy did not improve from 0.85240\n",
      "625/625 [==============================] - 28s 44ms/step - loss: 0.1634 - accuracy: 0.9363 - val_loss: 0.4974 - val_accuracy: 0.8422\n",
      "Epoch 21/50\n",
      "625/625 [==============================] - ETA: 0s - loss: 0.1474 - accuracy: 0.9402\n",
      "Epoch 21: val_accuracy did not improve from 0.85240\n",
      "625/625 [==============================] - 30s 48ms/step - loss: 0.1474 - accuracy: 0.9402 - val_loss: 0.5358 - val_accuracy: 0.8404\n",
      "Epoch 22/50\n",
      "625/625 [==============================] - ETA: 0s - loss: 0.1313 - accuracy: 0.9498\n",
      "Epoch 22: val_accuracy did not improve from 0.85240\n",
      "625/625 [==============================] - 28s 44ms/step - loss: 0.1313 - accuracy: 0.9498 - val_loss: 0.6190 - val_accuracy: 0.8364\n",
      "Epoch 23/50\n",
      "624/625 [============================>.] - ETA: 0s - loss: 0.1226 - accuracy: 0.9518\n",
      "Epoch 23: val_accuracy did not improve from 0.85240\n",
      "625/625 [==============================] - 28s 45ms/step - loss: 0.1225 - accuracy: 0.9518 - val_loss: 0.6361 - val_accuracy: 0.8372\n",
      "Epoch 24/50\n",
      "624/625 [============================>.] - ETA: 0s - loss: 0.1023 - accuracy: 0.9621\n",
      "Epoch 24: val_accuracy did not improve from 0.85240\n",
      "625/625 [==============================] - 30s 48ms/step - loss: 0.1026 - accuracy: 0.9620 - val_loss: 0.6442 - val_accuracy: 0.8346\n",
      "Epoch 25/50\n",
      "624/625 [============================>.] - ETA: 0s - loss: 0.0887 - accuracy: 0.9678\n",
      "Epoch 25: val_accuracy did not improve from 0.85240\n",
      "625/625 [==============================] - 28s 45ms/step - loss: 0.0887 - accuracy: 0.9679 - val_loss: 0.7194 - val_accuracy: 0.8284\n",
      "Epoch 26/50\n",
      "624/625 [============================>.] - ETA: 0s - loss: 0.0776 - accuracy: 0.9717\n",
      "Epoch 26: val_accuracy did not improve from 0.85240\n",
      "625/625 [==============================] - 29s 47ms/step - loss: 0.0777 - accuracy: 0.9716 - val_loss: 0.7839 - val_accuracy: 0.8352\n",
      "Epoch 27/50\n",
      "625/625 [==============================] - ETA: 0s - loss: 0.0748 - accuracy: 0.9743\n",
      "Epoch 27: val_accuracy did not improve from 0.85240\n",
      "625/625 [==============================] - 29s 47ms/step - loss: 0.0748 - accuracy: 0.9743 - val_loss: 0.8136 - val_accuracy: 0.8298\n",
      "Epoch 28/50\n",
      "624/625 [============================>.] - ETA: 0s - loss: 0.0618 - accuracy: 0.9780\n",
      "Epoch 28: val_accuracy did not improve from 0.85240\n",
      "625/625 [==============================] - 29s 46ms/step - loss: 0.0617 - accuracy: 0.9780 - val_loss: 0.8937 - val_accuracy: 0.8268\n"
     ]
    },
    {
     "name": "stdout",
     "output_type": "stream",
     "text": [
      "Epoch 29/50\n",
      "624/625 [============================>.] - ETA: 0s - loss: 0.0601 - accuracy: 0.9796\n",
      "Epoch 29: val_accuracy did not improve from 0.85240\n",
      "625/625 [==============================] - 28s 46ms/step - loss: 0.0601 - accuracy: 0.9796 - val_loss: 0.8575 - val_accuracy: 0.8336\n",
      "Epoch 30/50\n",
      "624/625 [============================>.] - ETA: 0s - loss: 0.0516 - accuracy: 0.9822\n",
      "Epoch 30: val_accuracy did not improve from 0.85240\n",
      "625/625 [==============================] - 27s 44ms/step - loss: 0.0516 - accuracy: 0.9822 - val_loss: 0.8283 - val_accuracy: 0.8332\n",
      "Epoch 31/50\n",
      "624/625 [============================>.] - ETA: 0s - loss: 0.0486 - accuracy: 0.9834\n",
      "Epoch 31: val_accuracy did not improve from 0.85240\n",
      "625/625 [==============================] - 30s 48ms/step - loss: 0.0487 - accuracy: 0.9833 - val_loss: 0.9245 - val_accuracy: 0.8298\n",
      "Epoch 32/50\n",
      "624/625 [============================>.] - ETA: 0s - loss: 0.0383 - accuracy: 0.9870\n",
      "Epoch 32: val_accuracy did not improve from 0.85240\n",
      "625/625 [==============================] - 27s 44ms/step - loss: 0.0384 - accuracy: 0.9869 - val_loss: 1.0518 - val_accuracy: 0.8326\n",
      "Epoch 33/50\n",
      "625/625 [==============================] - ETA: 0s - loss: 0.0431 - accuracy: 0.9851\n",
      "Epoch 33: val_accuracy did not improve from 0.85240\n",
      "625/625 [==============================] - 30s 48ms/step - loss: 0.0431 - accuracy: 0.9851 - val_loss: 0.8701 - val_accuracy: 0.8290\n",
      "Epoch 34/50\n",
      "625/625 [==============================] - ETA: 0s - loss: 0.0538 - accuracy: 0.9830\n",
      "Epoch 34: val_accuracy did not improve from 0.85240\n",
      "625/625 [==============================] - 28s 45ms/step - loss: 0.0538 - accuracy: 0.9830 - val_loss: 0.9764 - val_accuracy: 0.8276\n",
      "Epoch 35/50\n",
      "625/625 [==============================] - ETA: 0s - loss: 0.0357 - accuracy: 0.9880\n",
      "Epoch 35: val_accuracy did not improve from 0.85240\n",
      "625/625 [==============================] - 30s 48ms/step - loss: 0.0357 - accuracy: 0.9880 - val_loss: 1.0283 - val_accuracy: 0.8310\n",
      "Epoch 36/50\n",
      "625/625 [==============================] - ETA: 0s - loss: 0.0287 - accuracy: 0.9904\n",
      "Epoch 36: val_accuracy did not improve from 0.85240\n",
      "625/625 [==============================] - 28s 45ms/step - loss: 0.0287 - accuracy: 0.9904 - val_loss: 1.0963 - val_accuracy: 0.8264\n",
      "Epoch 37/50\n",
      "624/625 [============================>.] - ETA: 0s - loss: 0.0284 - accuracy: 0.9906\n",
      "Epoch 37: val_accuracy did not improve from 0.85240\n",
      "625/625 [==============================] - 28s 45ms/step - loss: 0.0284 - accuracy: 0.9905 - val_loss: 1.2373 - val_accuracy: 0.8262\n",
      "Epoch 38/50\n",
      "624/625 [============================>.] - ETA: 0s - loss: 0.0357 - accuracy: 0.9887\n",
      "Epoch 38: val_accuracy did not improve from 0.85240\n",
      "625/625 [==============================] - 28s 45ms/step - loss: 0.0357 - accuracy: 0.9887 - val_loss: 1.0971 - val_accuracy: 0.8260\n",
      "Epoch 39/50\n",
      "625/625 [==============================] - ETA: 0s - loss: 0.0247 - accuracy: 0.9924\n",
      "Epoch 39: val_accuracy did not improve from 0.85240\n",
      "625/625 [==============================] - 29s 47ms/step - loss: 0.0247 - accuracy: 0.9924 - val_loss: 1.1403 - val_accuracy: 0.8270\n",
      "Epoch 40/50\n",
      "625/625 [==============================] - ETA: 0s - loss: 0.0222 - accuracy: 0.9926\n",
      "Epoch 40: val_accuracy did not improve from 0.85240\n",
      "625/625 [==============================] - 29s 46ms/step - loss: 0.0222 - accuracy: 0.9926 - val_loss: 1.2120 - val_accuracy: 0.8280\n",
      "Epoch 41/50\n",
      "624/625 [============================>.] - ETA: 0s - loss: 0.0286 - accuracy: 0.9905\n",
      "Epoch 41: val_accuracy did not improve from 0.85240\n",
      "625/625 [==============================] - 27s 44ms/step - loss: 0.0287 - accuracy: 0.9905 - val_loss: 1.1794 - val_accuracy: 0.8202\n",
      "Epoch 42/50\n",
      "624/625 [============================>.] - ETA: 0s - loss: 0.0223 - accuracy: 0.9924\n",
      "Epoch 42: val_accuracy did not improve from 0.85240\n",
      "625/625 [==============================] - 31s 49ms/step - loss: 0.0222 - accuracy: 0.9924 - val_loss: 1.2319 - val_accuracy: 0.8266\n",
      "Epoch 43/50\n",
      "624/625 [============================>.] - ETA: 0s - loss: 0.0185 - accuracy: 0.9936\n",
      "Epoch 43: val_accuracy did not improve from 0.85240\n",
      "625/625 [==============================] - 28s 45ms/step - loss: 0.0185 - accuracy: 0.9937 - val_loss: 1.2096 - val_accuracy: 0.8256\n",
      "Epoch 44/50\n",
      "625/625 [==============================] - ETA: 0s - loss: 0.0225 - accuracy: 0.9930\n",
      "Epoch 44: val_accuracy did not improve from 0.85240\n",
      "625/625 [==============================] - 28s 45ms/step - loss: 0.0225 - accuracy: 0.9930 - val_loss: 1.1116 - val_accuracy: 0.8230\n",
      "Epoch 45/50\n",
      "625/625 [==============================] - ETA: 0s - loss: 0.0286 - accuracy: 0.9910\n",
      "Epoch 45: val_accuracy did not improve from 0.85240\n",
      "625/625 [==============================] - 31s 50ms/step - loss: 0.0286 - accuracy: 0.9910 - val_loss: 1.2568 - val_accuracy: 0.8320\n",
      "Epoch 46/50\n",
      "624/625 [============================>.] - ETA: 0s - loss: 0.0275 - accuracy: 0.9914\n",
      "Epoch 46: val_accuracy did not improve from 0.85240\n",
      "625/625 [==============================] - 27s 44ms/step - loss: 0.0275 - accuracy: 0.9914 - val_loss: 0.9904 - val_accuracy: 0.8284\n",
      "Epoch 47/50\n",
      "624/625 [============================>.] - ETA: 0s - loss: 0.0253 - accuracy: 0.9920\n",
      "Epoch 47: val_accuracy did not improve from 0.85240\n",
      "625/625 [==============================] - 29s 46ms/step - loss: 0.0254 - accuracy: 0.9919 - val_loss: 1.2155 - val_accuracy: 0.8224\n",
      "Epoch 48/50\n",
      "625/625 [==============================] - ETA: 0s - loss: 0.0197 - accuracy: 0.9938\n",
      "Epoch 48: val_accuracy did not improve from 0.85240\n",
      "625/625 [==============================] - 30s 47ms/step - loss: 0.0197 - accuracy: 0.9938 - val_loss: 1.2965 - val_accuracy: 0.8284\n",
      "Epoch 49/50\n",
      "624/625 [============================>.] - ETA: 0s - loss: 0.0207 - accuracy: 0.9928\n",
      "Epoch 49: val_accuracy did not improve from 0.85240\n",
      "625/625 [==============================] - 28s 44ms/step - loss: 0.0207 - accuracy: 0.9929 - val_loss: 1.1325 - val_accuracy: 0.8300\n",
      "Epoch 50/50\n",
      "625/625 [==============================] - ETA: 0s - loss: 0.0187 - accuracy: 0.9937\n",
      "Epoch 50: val_accuracy did not improve from 0.85240\n",
      "625/625 [==============================] - 29s 47ms/step - loss: 0.0187 - accuracy: 0.9937 - val_loss: 1.2307 - val_accuracy: 0.8264\n",
      "1437.437572002411\n"
     ]
    }
   ],
   "source": [
    "model.compile('adam', loss=BinaryCrossentropy(), metrics='accuracy')\n",
    "st = time.time()\n",
    "model.fit(x=train_x,\n",
    "         y=train_y,\n",
    "         batch_size=32,\n",
    "         epochs=50,\n",
    "         validation_data=(val_x, val_y),\n",
    "         callbacks=callbacks)\n",
    "et = time.time()\n",
    "print(et - st)"
   ]
  },
  {
   "cell_type": "code",
   "execution_count": 40,
   "id": "4c7d85e9",
   "metadata": {},
   "outputs": [
    {
     "data": {
      "text/plain": [
       "<tensorflow.python.training.tracking.util.CheckpointLoadStatus at 0x13c2ef1ef10>"
      ]
     },
     "execution_count": 40,
     "metadata": {},
     "output_type": "execute_result"
    }
   ],
   "source": [
    "model.load_weights('./models_t2s_bilstm_raw/checkpoint')"
   ]
  },
  {
   "cell_type": "code",
   "execution_count": 41,
   "id": "613abd49",
   "metadata": {},
   "outputs": [
    {
     "name": "stdout",
     "output_type": "stream",
     "text": [
      "f1 : 0.8980392156862744\n",
      "acc: 0.896\n"
     ]
    },
    {
     "data": {
      "image/png": "[encoded data removed]",
      "text/plain": [
       "<Figure size 432x288 with 2 Axes>"
      ]
     },
     "metadata": {
      "needs_background": "light"
     },
     "output_type": "display_data"
    }
   ],
   "source": [
    "predict_result(model, train_x[:1000], train_y[:1000])"
   ]
  },
  {
   "cell_type": "code",
   "execution_count": 42,
   "id": "08ebffe5",
   "metadata": {},
   "outputs": [
    {
     "name": "stdout",
     "output_type": "stream",
     "text": [
      "f1 : 0.8524193548387096\n",
      "acc: 0.8536\n"
     ]
    },
    {
     "data": {
      "image/png": "[encoded data removed]",
      "text/plain": [
       "<Figure size 432x288 with 2 Axes>"
      ]
     },
     "metadata": {
      "needs_background": "light"
     },
     "output_type": "display_data"
    }
   ],
   "source": [
    "predict_result(model, test_x, test_y)"
   ]
  },
  {
   "cell_type": "markdown",
   "id": "315550f2",
   "metadata": {},
   "source": [
    "# Feature 3 (Glove Embeddings)"
   ]
  },
  {
   "cell_type": "code",
   "execution_count": 43,
   "id": "6027bd15",
   "metadata": {},
   "outputs": [
    {
     "data": {
      "application/vnd.jupyter.widget-view+json": {
       "model_id": "fa0fc1cd1d974aae95830674355499d0",
       "version_major": 2,
       "version_minor": 0
      },
      "text/plain": [
       "0it [00:00, ?it/s]"
      ]
     },
     "metadata": {},
     "output_type": "display_data"
    },
    {
     "data": {
      "text/plain": [
       "1917494"
      ]
     },
     "execution_count": 43,
     "metadata": {},
     "output_type": "execute_result"
    }
   ],
   "source": [
    "path = './glove.42B.300d/glove.42B.300d.txt'\n",
    "embeddings_index = {}\n",
    "\n",
    "with open(path, encoding='utf8') as f:\n",
    "    for line in tqdm_notebook(f):\n",
    "        word, coef = line.split(maxsplit=1)\n",
    "        coef = np.fromstring(coef, 'f', sep=' ')\n",
    "        embeddings_index[word] = coef\n",
    "        \n",
    "len(embeddings_index)"
   ]
  },
  {
   "cell_type": "code",
   "execution_count": 44,
   "id": "55fc6de8",
   "metadata": {},
   "outputs": [
    {
     "name": "stdout",
     "output_type": "stream",
     "text": [
      "Converted 19141 words (859 misses)\n"
     ]
    }
   ],
   "source": [
    "embedding_dim = 300\n",
    "\n",
    "num_tokens = len(vocab) + 2\n",
    "\n",
    "hits = 0\n",
    "misses = 0\n",
    "\n",
    "# Prepare embedding matrix\n",
    "embedding_matrix = np.zeros((num_tokens, embedding_dim))\n",
    "\n",
    "for word, i in word_index.items():\n",
    "    embedding_vector = embeddings_index.get(word)\n",
    "    if embedding_vector is not None :\n",
    "        # Words not found in embedding index will be all-zeros.\n",
    "        # This includes the representation for \"padding\" and \"OOV\"\n",
    "        embedding_matrix[i] = embedding_vector\n",
    "        hits += 1\n",
    "    else:\n",
    "        misses += 1\n",
    "print(\"Converted %d words (%d misses)\" % (hits, misses))"
   ]
  },
  {
   "cell_type": "code",
   "execution_count": 45,
   "id": "a123a9ba",
   "metadata": {},
   "outputs": [],
   "source": [
    "def get_vector_and_one_hot(df):\n",
    "    x = vectorizer(np.array([[s] for s in tqdm_notebook(df['text'])])).numpy() \n",
    "    y = df['label'].apply(one_hot).tolist()\n",
    "    y = np.array(y)\n",
    "    return x, y"
   ]
  },
  {
   "cell_type": "code",
   "execution_count": 46,
   "id": "36bad41f",
   "metadata": {},
   "outputs": [
    {
     "data": {
      "application/vnd.jupyter.widget-view+json": {
       "model_id": "328bd4a45fc541c0ad4f8abc308f043c",
       "version_major": 2,
       "version_minor": 0
      },
      "text/plain": [
       "  0%|          | 0/25000 [00:00<?, ?it/s]"
      ]
     },
     "metadata": {},
     "output_type": "display_data"
    },
    {
     "data": {
      "application/vnd.jupyter.widget-view+json": {
       "model_id": "4bc1e32881984e7e80ffd35df8daab5d",
       "version_major": 2,
       "version_minor": 0
      },
      "text/plain": [
       "  0%|          | 0/25000 [00:00<?, ?it/s]"
      ]
     },
     "metadata": {},
     "output_type": "display_data"
    }
   ],
   "source": [
    "train_val_x, train_val_y = get_vector_and_one_hot(train_df)\n",
    "test_x, test_y = get_vector_and_one_hot(test_df)"
   ]
  },
  {
   "cell_type": "code",
   "execution_count": 47,
   "id": "711083fe",
   "metadata": {},
   "outputs": [],
   "source": [
    "train_x, val_x = train_val_x[:train_len], train_val_x[train_len:]\n",
    "train_y, val_y = train_val_y[:train_len], train_val_y[train_len:]"
   ]
  },
  {
   "cell_type": "markdown",
   "id": "f12abb91",
   "metadata": {},
   "source": [
    "# Model 4 "
   ]
  },
  {
   "cell_type": "code",
   "execution_count": 48,
   "id": "5123dcf4",
   "metadata": {
    "scrolled": true
   },
   "outputs": [
    {
     "name": "stdout",
     "output_type": "stream",
     "text": [
      "Model: \"model\"\n",
      "_________________________________________________________________\n",
      " Layer (type)                Output Shape              Param #   \n",
      "=================================================================\n",
      " input_1 (InputLayer)        [(None, None)]            0         \n",
      "                                                                 \n",
      " embedding_2 (Embedding)     (None, None, 300)         6000600   \n",
      "                                                                 \n",
      " dense_14 (Dense)            (None, None, 256)         77056     \n",
      "                                                                 \n",
      " dropout_9 (Dropout)         (None, None, 256)         0         \n",
      "                                                                 \n",
      " dense_15 (Dense)            (None, None, 256)         65792     \n",
      "                                                                 \n",
      " dropout_10 (Dropout)        (None, None, 256)         0         \n",
      "                                                                 \n",
      " dense_16 (Dense)            (None, None, 256)         65792     \n",
      "                                                                 \n",
      " global_max_pooling1d (Globa  (None, 256)              0         \n",
      " lMaxPooling1D)                                                  \n",
      "                                                                 \n",
      " dense_17 (Dense)            (None, 2)                 514       \n",
      "                                                                 \n",
      "=================================================================\n",
      "Total params: 6,209,754\n",
      "Trainable params: 209,154\n",
      "Non-trainable params: 6,000,600\n",
      "_________________________________________________________________\n"
     ]
    }
   ],
   "source": [
    "embedding_layer = Embedding(\n",
    "    num_tokens,\n",
    "    embedding_dim,\n",
    "    embeddings_initializer=tf.keras.initializers.Constant(embedding_matrix),\n",
    "    trainable=False,\n",
    ")\n",
    "int_sequences_input = tf.keras.Input(shape=(None,), dtype=\"int64\")\n",
    "embedded_sequences = embedding_layer(int_sequences_input)\n",
    "x = Dense(256, activation=\"relu\")(embedded_sequences)\n",
    "x = Dropout(0.5)(x)\n",
    "x = Dense(256, activation=\"relu\")(x)\n",
    "x = Dropout(0.5)(x)\n",
    "x = Dense(256, activation=\"relu\")(x)\n",
    "x = GlobalMaxPooling1D()(x)\n",
    "\n",
    "preds = Dense(2, activation=\"sigmoid\")(x)\n",
    "\n",
    "model = tf.keras.Model(int_sequences_input, preds)\n",
    "\n",
    "callbacks=[\n",
    "    ModelCheckpoint(filepath='./models_glove_ffnn_raw/checkpoint',\n",
    "                   save_best_only=True, save_weights_only=True, verbose=1,monitor='val_accuracy')\n",
    "]\n",
    "\n",
    "model.summary()"
   ]
  },
  {
   "cell_type": "code",
   "execution_count": 49,
   "id": "3a0420cc",
   "metadata": {},
   "outputs": [
    {
     "name": "stdout",
     "output_type": "stream",
     "text": [
      "Epoch 1/50\n",
      "615/625 [============================>.] - ETA: 0s - loss: 0.4697 - accuracy: 0.7637\n",
      "Epoch 1: val_accuracy improved from -inf to 0.83600, saving model to ./models_glove_ffnn_raw\\checkpoint\n",
      "625/625 [==============================] - 4s 5ms/step - loss: 0.4682 - accuracy: 0.7649 - val_loss: 0.4697 - val_accuracy: 0.8360\n",
      "Epoch 2/50\n",
      "616/625 [============================>.] - ETA: 0s - loss: 0.3804 - accuracy: 0.8349\n",
      "Epoch 2: val_accuracy did not improve from 0.83600\n",
      "625/625 [==============================] - 3s 4ms/step - loss: 0.3805 - accuracy: 0.8349 - val_loss: 0.4702 - val_accuracy: 0.8342\n",
      "Epoch 3/50\n",
      "612/625 [============================>.] - ETA: 0s - loss: 0.3551 - accuracy: 0.8472\n",
      "Epoch 3: val_accuracy did not improve from 0.83600\n",
      "625/625 [==============================] - 3s 4ms/step - loss: 0.3541 - accuracy: 0.8475 - val_loss: 0.4908 - val_accuracy: 0.7846\n",
      "Epoch 4/50\n",
      "623/625 [============================>.] - ETA: 0s - loss: 0.3343 - accuracy: 0.8555\n",
      "Epoch 4: val_accuracy did not improve from 0.83600\n",
      "625/625 [==============================] - 3s 4ms/step - loss: 0.3345 - accuracy: 0.8554 - val_loss: 0.4843 - val_accuracy: 0.7598\n",
      "Epoch 5/50\n",
      "614/625 [============================>.] - ETA: 0s - loss: 0.3304 - accuracy: 0.8606\n",
      "Epoch 5: val_accuracy improved from 0.83600 to 0.83920, saving model to ./models_glove_ffnn_raw\\checkpoint\n",
      "625/625 [==============================] - 3s 5ms/step - loss: 0.3303 - accuracy: 0.8605 - val_loss: 0.4442 - val_accuracy: 0.8392\n",
      "Epoch 6/50\n",
      "617/625 [============================>.] - ETA: 0s - loss: 0.3193 - accuracy: 0.8646\n",
      "Epoch 6: val_accuracy did not improve from 0.83920\n",
      "625/625 [==============================] - 3s 4ms/step - loss: 0.3191 - accuracy: 0.8644 - val_loss: 0.4518 - val_accuracy: 0.8058\n",
      "Epoch 7/50\n",
      "619/625 [============================>.] - ETA: 0s - loss: 0.3052 - accuracy: 0.8717\n",
      "Epoch 7: val_accuracy did not improve from 0.83920\n",
      "625/625 [==============================] - 3s 4ms/step - loss: 0.3052 - accuracy: 0.8716 - val_loss: 0.4550 - val_accuracy: 0.8064\n",
      "Epoch 8/50\n",
      "616/625 [============================>.] - ETA: 0s - loss: 0.2935 - accuracy: 0.8783\n",
      "Epoch 8: val_accuracy did not improve from 0.83920\n",
      "625/625 [==============================] - 3s 4ms/step - loss: 0.2938 - accuracy: 0.8784 - val_loss: 0.4494 - val_accuracy: 0.7954\n",
      "Epoch 9/50\n",
      "617/625 [============================>.] - ETA: 0s - loss: 0.2883 - accuracy: 0.8786\n",
      "Epoch 9: val_accuracy did not improve from 0.83920\n",
      "625/625 [==============================] - 3s 4ms/step - loss: 0.2891 - accuracy: 0.8784 - val_loss: 0.4512 - val_accuracy: 0.7988\n",
      "Epoch 10/50\n",
      "619/625 [============================>.] - ETA: 0s - loss: 0.2811 - accuracy: 0.8818\n",
      "Epoch 10: val_accuracy did not improve from 0.83920\n",
      "625/625 [==============================] - 3s 4ms/step - loss: 0.2814 - accuracy: 0.8816 - val_loss: 0.4259 - val_accuracy: 0.8272\n",
      "Epoch 11/50\n",
      "620/625 [============================>.] - ETA: 0s - loss: 0.2768 - accuracy: 0.8869\n",
      "Epoch 11: val_accuracy improved from 0.83920 to 0.84720, saving model to ./models_glove_ffnn_raw\\checkpoint\n",
      "625/625 [==============================] - 3s 5ms/step - loss: 0.2770 - accuracy: 0.8866 - val_loss: 0.4045 - val_accuracy: 0.8472\n",
      "Epoch 12/50\n",
      "616/625 [============================>.] - ETA: 0s - loss: 0.2685 - accuracy: 0.8887\n",
      "Epoch 12: val_accuracy did not improve from 0.84720\n",
      "625/625 [==============================] - 3s 4ms/step - loss: 0.2687 - accuracy: 0.8888 - val_loss: 0.4252 - val_accuracy: 0.8192\n",
      "Epoch 13/50\n",
      "616/625 [============================>.] - ETA: 0s - loss: 0.2606 - accuracy: 0.8925\n",
      "Epoch 13: val_accuracy did not improve from 0.84720\n",
      "625/625 [==============================] - 3s 4ms/step - loss: 0.2621 - accuracy: 0.8921 - val_loss: 0.4199 - val_accuracy: 0.8202\n",
      "Epoch 14/50\n",
      "617/625 [============================>.] - ETA: 0s - loss: 0.2577 - accuracy: 0.8941\n",
      "Epoch 14: val_accuracy did not improve from 0.84720\n",
      "625/625 [==============================] - 3s 4ms/step - loss: 0.2585 - accuracy: 0.8937 - val_loss: 0.4735 - val_accuracy: 0.7440\n",
      "Epoch 15/50\n",
      "617/625 [============================>.] - ETA: 0s - loss: 0.2580 - accuracy: 0.8935\n",
      "Epoch 15: val_accuracy did not improve from 0.84720\n",
      "625/625 [==============================] - 3s 4ms/step - loss: 0.2578 - accuracy: 0.8937 - val_loss: 0.4314 - val_accuracy: 0.8022\n",
      "Epoch 16/50\n",
      "617/625 [============================>.] - ETA: 0s - loss: 0.2509 - accuracy: 0.8988\n",
      "Epoch 16: val_accuracy did not improve from 0.84720\n",
      "625/625 [==============================] - 3s 4ms/step - loss: 0.2503 - accuracy: 0.8988 - val_loss: 0.4052 - val_accuracy: 0.8248\n",
      "Epoch 17/50\n",
      "621/625 [============================>.] - ETA: 0s - loss: 0.2430 - accuracy: 0.9014\n",
      "Epoch 17: val_accuracy did not improve from 0.84720\n",
      "625/625 [==============================] - 3s 4ms/step - loss: 0.2430 - accuracy: 0.9014 - val_loss: 0.4141 - val_accuracy: 0.8266\n",
      "Epoch 18/50\n",
      "619/625 [============================>.] - ETA: 0s - loss: 0.2363 - accuracy: 0.9027\n",
      "Epoch 18: val_accuracy did not improve from 0.84720\n",
      "625/625 [==============================] - 3s 4ms/step - loss: 0.2373 - accuracy: 0.9021 - val_loss: 0.4186 - val_accuracy: 0.8142\n",
      "Epoch 19/50\n",
      "617/625 [============================>.] - ETA: 0s - loss: 0.2388 - accuracy: 0.9025\n",
      "Epoch 19: val_accuracy did not improve from 0.84720\n",
      "625/625 [==============================] - 3s 4ms/step - loss: 0.2388 - accuracy: 0.9023 - val_loss: 0.4445 - val_accuracy: 0.7828\n",
      "Epoch 20/50\n",
      "617/625 [============================>.] - ETA: 0s - loss: 0.2337 - accuracy: 0.9040\n",
      "Epoch 20: val_accuracy did not improve from 0.84720\n",
      "625/625 [==============================] - 3s 4ms/step - loss: 0.2340 - accuracy: 0.9037 - val_loss: 0.4007 - val_accuracy: 0.8266\n",
      "Epoch 21/50\n",
      "615/625 [============================>.] - ETA: 0s - loss: 0.2269 - accuracy: 0.9070\n",
      "Epoch 21: val_accuracy did not improve from 0.84720\n",
      "625/625 [==============================] - 3s 4ms/step - loss: 0.2269 - accuracy: 0.9068 - val_loss: 0.4397 - val_accuracy: 0.7906\n",
      "Epoch 22/50\n",
      "620/625 [============================>.] - ETA: 0s - loss: 0.2254 - accuracy: 0.9087\n",
      "Epoch 22: val_accuracy did not improve from 0.84720\n",
      "625/625 [==============================] - 3s 4ms/step - loss: 0.2254 - accuracy: 0.9087 - val_loss: 0.4080 - val_accuracy: 0.8210\n",
      "Epoch 23/50\n",
      "616/625 [============================>.] - ETA: 0s - loss: 0.2195 - accuracy: 0.9106\n",
      "Epoch 23: val_accuracy did not improve from 0.84720\n",
      "625/625 [==============================] - 3s 4ms/step - loss: 0.2188 - accuracy: 0.9109 - val_loss: 0.4254 - val_accuracy: 0.7990\n",
      "Epoch 24/50\n",
      "616/625 [============================>.] - ETA: 0s - loss: 0.2143 - accuracy: 0.9132\n",
      "Epoch 24: val_accuracy did not improve from 0.84720\n",
      "625/625 [==============================] - 3s 4ms/step - loss: 0.2143 - accuracy: 0.9133 - val_loss: 0.3915 - val_accuracy: 0.8416\n",
      "Epoch 25/50\n",
      "622/625 [============================>.] - ETA: 0s - loss: 0.2144 - accuracy: 0.9132\n",
      "Epoch 25: val_accuracy did not improve from 0.84720\n",
      "625/625 [==============================] - 3s 4ms/step - loss: 0.2141 - accuracy: 0.9133 - val_loss: 0.4170 - val_accuracy: 0.8064\n",
      "Epoch 26/50\n",
      "621/625 [============================>.] - ETA: 0s - loss: 0.2152 - accuracy: 0.9128\n",
      "Epoch 26: val_accuracy did not improve from 0.84720\n",
      "625/625 [==============================] - 3s 4ms/step - loss: 0.2152 - accuracy: 0.9128 - val_loss: 0.4401 - val_accuracy: 0.7868\n",
      "Epoch 27/50\n",
      "625/625 [==============================] - ETA: 0s - loss: 0.2058 - accuracy: 0.9156\n",
      "Epoch 27: val_accuracy did not improve from 0.84720\n",
      "625/625 [==============================] - 3s 4ms/step - loss: 0.2058 - accuracy: 0.9156 - val_loss: 0.3834 - val_accuracy: 0.8448\n",
      "Epoch 28/50\n",
      "616/625 [============================>.] - ETA: 0s - loss: 0.2083 - accuracy: 0.9157\n",
      "Epoch 28: val_accuracy did not improve from 0.84720\n",
      "625/625 [==============================] - 3s 4ms/step - loss: 0.2083 - accuracy: 0.9154 - val_loss: 0.4027 - val_accuracy: 0.8212\n",
      "Epoch 29/50\n",
      "617/625 [============================>.] - ETA: 0s - loss: 0.2033 - accuracy: 0.9176\n",
      "Epoch 29: val_accuracy did not improve from 0.84720\n",
      "625/625 [==============================] - 3s 4ms/step - loss: 0.2036 - accuracy: 0.9174 - val_loss: 0.4069 - val_accuracy: 0.8172\n"
     ]
    },
    {
     "name": "stdout",
     "output_type": "stream",
     "text": [
      "Epoch 30/50\n",
      "616/625 [============================>.] - ETA: 0s - loss: 0.1995 - accuracy: 0.9185\n",
      "Epoch 30: val_accuracy did not improve from 0.84720\n",
      "625/625 [==============================] - 3s 4ms/step - loss: 0.1992 - accuracy: 0.9186 - val_loss: 0.4013 - val_accuracy: 0.8174\n",
      "Epoch 31/50\n",
      "617/625 [============================>.] - ETA: 0s - loss: 0.2024 - accuracy: 0.9150\n",
      "Epoch 31: val_accuracy did not improve from 0.84720\n",
      "625/625 [==============================] - 3s 4ms/step - loss: 0.2024 - accuracy: 0.9150 - val_loss: 0.4038 - val_accuracy: 0.8186\n",
      "Epoch 32/50\n",
      "613/625 [============================>.] - ETA: 0s - loss: 0.1942 - accuracy: 0.9202\n",
      "Epoch 32: val_accuracy did not improve from 0.84720\n",
      "625/625 [==============================] - 3s 4ms/step - loss: 0.1944 - accuracy: 0.9199 - val_loss: 0.3845 - val_accuracy: 0.8386\n",
      "Epoch 33/50\n",
      "615/625 [============================>.] - ETA: 0s - loss: 0.1967 - accuracy: 0.9200\n",
      "Epoch 33: val_accuracy did not improve from 0.84720\n",
      "625/625 [==============================] - 3s 4ms/step - loss: 0.1964 - accuracy: 0.9204 - val_loss: 0.4001 - val_accuracy: 0.8172\n",
      "Epoch 34/50\n",
      "616/625 [============================>.] - ETA: 0s - loss: 0.1919 - accuracy: 0.9236\n",
      "Epoch 34: val_accuracy did not improve from 0.84720\n",
      "625/625 [==============================] - 3s 4ms/step - loss: 0.1914 - accuracy: 0.9238 - val_loss: 0.3877 - val_accuracy: 0.8290\n",
      "Epoch 35/50\n",
      "617/625 [============================>.] - ETA: 0s - loss: 0.1867 - accuracy: 0.9256\n",
      "Epoch 35: val_accuracy did not improve from 0.84720\n",
      "625/625 [==============================] - 3s 4ms/step - loss: 0.1866 - accuracy: 0.9255 - val_loss: 0.3882 - val_accuracy: 0.8318\n",
      "Epoch 36/50\n",
      "617/625 [============================>.] - ETA: 0s - loss: 0.1798 - accuracy: 0.9272\n",
      "Epoch 36: val_accuracy did not improve from 0.84720\n",
      "625/625 [==============================] - 3s 4ms/step - loss: 0.1793 - accuracy: 0.9273 - val_loss: 0.3837 - val_accuracy: 0.8370\n",
      "Epoch 37/50\n",
      "617/625 [============================>.] - ETA: 0s - loss: 0.1793 - accuracy: 0.9262\n",
      "Epoch 37: val_accuracy did not improve from 0.84720\n",
      "625/625 [==============================] - 3s 4ms/step - loss: 0.1797 - accuracy: 0.9261 - val_loss: 0.3947 - val_accuracy: 0.8286\n",
      "Epoch 38/50\n",
      "616/625 [============================>.] - ETA: 0s - loss: 0.1822 - accuracy: 0.9254\n",
      "Epoch 38: val_accuracy did not improve from 0.84720\n",
      "625/625 [==============================] - 3s 4ms/step - loss: 0.1826 - accuracy: 0.9251 - val_loss: 0.4283 - val_accuracy: 0.7994\n",
      "Epoch 39/50\n",
      "617/625 [============================>.] - ETA: 0s - loss: 0.1810 - accuracy: 0.9271\n",
      "Epoch 39: val_accuracy did not improve from 0.84720\n",
      "625/625 [==============================] - 3s 4ms/step - loss: 0.1813 - accuracy: 0.9270 - val_loss: 0.3981 - val_accuracy: 0.8254\n",
      "Epoch 40/50\n",
      "617/625 [============================>.] - ETA: 0s - loss: 0.1762 - accuracy: 0.9288\n",
      "Epoch 40: val_accuracy did not improve from 0.84720\n",
      "625/625 [==============================] - 3s 4ms/step - loss: 0.1768 - accuracy: 0.9286 - val_loss: 0.4426 - val_accuracy: 0.7890\n",
      "Epoch 41/50\n",
      "617/625 [============================>.] - ETA: 0s - loss: 0.1779 - accuracy: 0.9273\n",
      "Epoch 41: val_accuracy did not improve from 0.84720\n",
      "625/625 [==============================] - 3s 4ms/step - loss: 0.1774 - accuracy: 0.9274 - val_loss: 0.3869 - val_accuracy: 0.8336\n",
      "Epoch 42/50\n",
      "617/625 [============================>.] - ETA: 0s - loss: 0.1755 - accuracy: 0.9305\n",
      "Epoch 42: val_accuracy did not improve from 0.84720\n",
      "625/625 [==============================] - 3s 4ms/step - loss: 0.1754 - accuracy: 0.9308 - val_loss: 0.4016 - val_accuracy: 0.8220\n",
      "Epoch 43/50\n",
      "617/625 [============================>.] - ETA: 0s - loss: 0.1714 - accuracy: 0.9318\n",
      "Epoch 43: val_accuracy did not improve from 0.84720\n",
      "625/625 [==============================] - 3s 4ms/step - loss: 0.1716 - accuracy: 0.9317 - val_loss: 0.3870 - val_accuracy: 0.8302\n",
      "Epoch 44/50\n",
      "613/625 [============================>.] - ETA: 0s - loss: 0.1718 - accuracy: 0.9315\n",
      "Epoch 44: val_accuracy did not improve from 0.84720\n",
      "625/625 [==============================] - 3s 4ms/step - loss: 0.1717 - accuracy: 0.9317 - val_loss: 0.4156 - val_accuracy: 0.8086\n",
      "Epoch 45/50\n",
      "616/625 [============================>.] - ETA: 0s - loss: 0.1716 - accuracy: 0.9296\n",
      "Epoch 45: val_accuracy did not improve from 0.84720\n",
      "625/625 [==============================] - 3s 4ms/step - loss: 0.1707 - accuracy: 0.9299 - val_loss: 0.4395 - val_accuracy: 0.7950\n",
      "Epoch 46/50\n",
      "621/625 [============================>.] - ETA: 0s - loss: 0.1668 - accuracy: 0.9335\n",
      "Epoch 46: val_accuracy did not improve from 0.84720\n",
      "625/625 [==============================] - 3s 4ms/step - loss: 0.1669 - accuracy: 0.9335 - val_loss: 0.4125 - val_accuracy: 0.8110\n",
      "Epoch 47/50\n",
      "616/625 [============================>.] - ETA: 0s - loss: 0.1630 - accuracy: 0.9353\n",
      "Epoch 47: val_accuracy did not improve from 0.84720\n",
      "625/625 [==============================] - 3s 4ms/step - loss: 0.1637 - accuracy: 0.9348 - val_loss: 0.4140 - val_accuracy: 0.8104\n",
      "Epoch 48/50\n",
      "617/625 [============================>.] - ETA: 0s - loss: 0.1690 - accuracy: 0.9328\n",
      "Epoch 48: val_accuracy improved from 0.84720 to 0.85520, saving model to ./models_glove_ffnn_raw\\checkpoint\n",
      "625/625 [==============================] - 3s 5ms/step - loss: 0.1691 - accuracy: 0.9327 - val_loss: 0.3636 - val_accuracy: 0.8552\n",
      "Epoch 49/50\n",
      "617/625 [============================>.] - ETA: 0s - loss: 0.1622 - accuracy: 0.9350\n",
      "Epoch 49: val_accuracy improved from 0.85520 to 0.86060, saving model to ./models_glove_ffnn_raw\\checkpoint\n",
      "625/625 [==============================] - 3s 5ms/step - loss: 0.1626 - accuracy: 0.9350 - val_loss: 0.3504 - val_accuracy: 0.8606\n",
      "Epoch 50/50\n",
      "615/625 [============================>.] - ETA: 0s - loss: 0.1596 - accuracy: 0.9368\n",
      "Epoch 50: val_accuracy did not improve from 0.86060\n",
      "625/625 [==============================] - 3s 4ms/step - loss: 0.1596 - accuracy: 0.9369 - val_loss: 0.3972 - val_accuracy: 0.8256\n",
      "136.70710968971252\n"
     ]
    }
   ],
   "source": [
    "model.compile('adam', loss=BinaryCrossentropy(), metrics='accuracy')\n",
    "st = time.time()\n",
    "model.fit(x=train_x,\n",
    "         y=train_y,\n",
    "         batch_size=32,\n",
    "         epochs=50,\n",
    "         validation_data=(val_x, val_y),\n",
    "         callbacks=callbacks)\n",
    "et = time.time()\n",
    "print(et - st)"
   ]
  },
  {
   "cell_type": "code",
   "execution_count": 50,
   "id": "6f5faf96",
   "metadata": {},
   "outputs": [
    {
     "data": {
      "text/plain": [
       "<tensorflow.python.training.tracking.util.CheckpointLoadStatus at 0x13c33f276a0>"
      ]
     },
     "execution_count": 50,
     "metadata": {},
     "output_type": "execute_result"
    }
   ],
   "source": [
    "model.load_weights('./models_glove_ffnn_raw/checkpoint')"
   ]
  },
  {
   "cell_type": "code",
   "execution_count": 51,
   "id": "2ee0d98b",
   "metadata": {},
   "outputs": [
    {
     "name": "stdout",
     "output_type": "stream",
     "text": [
      "f1 : 0.9622266401590458\n",
      "acc: 0.962\n"
     ]
    },
    {
     "data": {
      "image/png": "[encoded data removed]",
      "text/plain": [
       "<Figure size 432x288 with 2 Axes>"
      ]
     },
     "metadata": {
      "needs_background": "light"
     },
     "output_type": "display_data"
    }
   ],
   "source": [
    "predict_result(model, train_x[:1000], train_y[:1000])"
   ]
  },
  {
   "cell_type": "code",
   "execution_count": 52,
   "id": "46cbf625",
   "metadata": {},
   "outputs": [
    {
     "name": "stdout",
     "output_type": "stream",
     "text": [
      "f1 : 0.8163948138854036\n",
      "acc: 0.8244\n"
     ]
    },
    {
     "data": {
      "image/png": "[encoded data removed]",
      "text/plain": [
       "<Figure size 432x288 with 2 Axes>"
      ]
     },
     "metadata": {
      "needs_background": "light"
     },
     "output_type": "display_data"
    }
   ],
   "source": [
    "predict_result(model, test_x, test_y)"
   ]
  },
  {
   "cell_type": "code",
   "execution_count": 53,
   "id": "18e9ab3f",
   "metadata": {},
   "outputs": [
    {
     "name": "stdout",
     "output_type": "stream",
     "text": [
      "Model: \"model_1\"\n",
      "_________________________________________________________________\n",
      " Layer (type)                Output Shape              Param #   \n",
      "=================================================================\n",
      " input_2 (InputLayer)        [(None, None)]            0         \n",
      "                                                                 \n",
      " embedding_3 (Embedding)     (None, None, 300)         6000600   \n",
      "                                                                 \n",
      " bidirectional_1 (Bidirectio  (None, 256)              439296    \n",
      " nal)                                                            \n",
      "                                                                 \n",
      " dropout_11 (Dropout)        (None, 256)               0         \n",
      "                                                                 \n",
      " dense_18 (Dense)            (None, 256)               65792     \n",
      "                                                                 \n",
      " flatten (Flatten)           (None, 256)               0         \n",
      "                                                                 \n",
      " dense_19 (Dense)            (None, 2)                 514       \n",
      "                                                                 \n",
      "=================================================================\n",
      "Total params: 6,506,202\n",
      "Trainable params: 505,602\n",
      "Non-trainable params: 6,000,600\n",
      "_________________________________________________________________\n"
     ]
    }
   ],
   "source": [
    "embedding_layer = Embedding(\n",
    "    num_tokens,\n",
    "    embedding_dim,\n",
    "    embeddings_initializer=tf.keras.initializers.Constant(embedding_matrix),\n",
    "    trainable=False,\n",
    ")\n",
    "int_sequences_input = tf.keras.Input(shape=(None,), dtype=\"int64\")\n",
    "embedded_sequences = embedding_layer(int_sequences_input)\n",
    "x = Bidirectional(LSTM(128))(embedded_sequences)\n",
    "x = Dropout(0.5)(x)\n",
    "x = Dense(256, activation=\"relu\")(x)\n",
    "x = Flatten()(x)\n",
    "\n",
    "preds = Dense(2, activation=\"sigmoid\")(x)\n",
    "\n",
    "model = tf.keras.Model(int_sequences_input, preds)\n",
    "\n",
    "callbacks=[\n",
    "    ModelCheckpoint(filepath='./models_glove_bilstm_raw/checkpoint',\n",
    "                   save_best_only=True, save_weights_only=True, verbose=1,monitor='val_accuracy')\n",
    "]\n",
    "\n",
    "model.summary()"
   ]
  },
  {
   "cell_type": "code",
   "execution_count": 54,
   "id": "9186fe14",
   "metadata": {},
   "outputs": [
    {
     "name": "stdout",
     "output_type": "stream",
     "text": [
      "Epoch 1/50\n",
      "625/625 [==============================] - ETA: 0s - loss: 0.6228 - accuracy: 0.6594\n",
      "Epoch 1: val_accuracy improved from -inf to 0.79880, saving model to ./models_glove_bilstm_raw\\checkpoint\n",
      "625/625 [==============================] - 29s 45ms/step - loss: 0.6228 - accuracy: 0.6594 - val_loss: 0.4599 - val_accuracy: 0.7988\n",
      "Epoch 2/50\n",
      "625/625 [==============================] - ETA: 0s - loss: 0.3810 - accuracy: 0.8406\n",
      "Epoch 2: val_accuracy improved from 0.79880 to 0.86500, saving model to ./models_glove_bilstm_raw\\checkpoint\n",
      "625/625 [==============================] - 27s 44ms/step - loss: 0.3810 - accuracy: 0.8406 - val_loss: 0.3339 - val_accuracy: 0.8650\n",
      "Epoch 3/50\n",
      "625/625 [==============================] - ETA: 0s - loss: 0.3150 - accuracy: 0.8694\n",
      "Epoch 3: val_accuracy did not improve from 0.86500\n",
      "625/625 [==============================] - 29s 46ms/step - loss: 0.3150 - accuracy: 0.8694 - val_loss: 0.3402 - val_accuracy: 0.8584\n",
      "Epoch 4/50\n",
      "624/625 [============================>.] - ETA: 0s - loss: 0.2846 - accuracy: 0.8859\n",
      "Epoch 4: val_accuracy improved from 0.86500 to 0.87760, saving model to ./models_glove_bilstm_raw\\checkpoint\n",
      "625/625 [==============================] - 28s 45ms/step - loss: 0.2845 - accuracy: 0.8860 - val_loss: 0.2914 - val_accuracy: 0.8776\n",
      "Epoch 5/50\n",
      "624/625 [============================>.] - ETA: 0s - loss: 0.2554 - accuracy: 0.8982\n",
      "Epoch 5: val_accuracy improved from 0.87760 to 0.87960, saving model to ./models_glove_bilstm_raw\\checkpoint\n",
      "625/625 [==============================] - 26s 42ms/step - loss: 0.2553 - accuracy: 0.8982 - val_loss: 0.2965 - val_accuracy: 0.8796\n",
      "Epoch 6/50\n",
      "625/625 [==============================] - ETA: 0s - loss: 0.2276 - accuracy: 0.9111\n",
      "Epoch 6: val_accuracy improved from 0.87960 to 0.88200, saving model to ./models_glove_bilstm_raw\\checkpoint\n",
      "625/625 [==============================] - 29s 46ms/step - loss: 0.2276 - accuracy: 0.9111 - val_loss: 0.2942 - val_accuracy: 0.8820\n",
      "Epoch 7/50\n",
      "625/625 [==============================] - ETA: 0s - loss: 0.1970 - accuracy: 0.9237\n",
      "Epoch 7: val_accuracy improved from 0.88200 to 0.88700, saving model to ./models_glove_bilstm_raw\\checkpoint\n",
      "625/625 [==============================] - 27s 43ms/step - loss: 0.1970 - accuracy: 0.9237 - val_loss: 0.3185 - val_accuracy: 0.8870\n",
      "Epoch 8/50\n",
      "624/625 [============================>.] - ETA: 0s - loss: 0.1663 - accuracy: 0.9367\n",
      "Epoch 8: val_accuracy did not improve from 0.88700\n",
      "625/625 [==============================] - 27s 43ms/step - loss: 0.1661 - accuracy: 0.9368 - val_loss: 0.3247 - val_accuracy: 0.8844\n",
      "Epoch 9/50\n",
      "624/625 [============================>.] - ETA: 0s - loss: 0.1289 - accuracy: 0.9524\n",
      "Epoch 9: val_accuracy did not improve from 0.88700\n",
      "625/625 [==============================] - 29s 46ms/step - loss: 0.1294 - accuracy: 0.9523 - val_loss: 0.3757 - val_accuracy: 0.8798\n",
      "Epoch 10/50\n",
      "625/625 [==============================] - ETA: 0s - loss: 0.1096 - accuracy: 0.9608\n",
      "Epoch 10: val_accuracy did not improve from 0.88700\n",
      "625/625 [==============================] - 26s 41ms/step - loss: 0.1096 - accuracy: 0.9608 - val_loss: 0.4032 - val_accuracy: 0.8754\n",
      "Epoch 11/50\n",
      "624/625 [============================>.] - ETA: 0s - loss: 0.1050 - accuracy: 0.9649\n",
      "Epoch 11: val_accuracy did not improve from 0.88700\n",
      "625/625 [==============================] - 27s 43ms/step - loss: 0.1051 - accuracy: 0.9649 - val_loss: 0.3704 - val_accuracy: 0.8580\n",
      "Epoch 12/50\n",
      "625/625 [==============================] - ETA: 0s - loss: 0.1012 - accuracy: 0.9633\n",
      "Epoch 12: val_accuracy did not improve from 0.88700\n",
      "625/625 [==============================] - 28s 44ms/step - loss: 0.1012 - accuracy: 0.9633 - val_loss: 0.4458 - val_accuracy: 0.8846\n",
      "Epoch 13/50\n",
      "625/625 [==============================] - ETA: 0s - loss: 0.0635 - accuracy: 0.9779\n",
      "Epoch 13: val_accuracy did not improve from 0.88700\n",
      "625/625 [==============================] - 27s 44ms/step - loss: 0.0635 - accuracy: 0.9779 - val_loss: 0.4501 - val_accuracy: 0.8730\n",
      "Epoch 14/50\n",
      "624/625 [============================>.] - ETA: 0s - loss: 0.0653 - accuracy: 0.9768\n",
      "Epoch 14: val_accuracy did not improve from 0.88700\n",
      "625/625 [==============================] - 27s 44ms/step - loss: 0.0653 - accuracy: 0.9768 - val_loss: 0.4520 - val_accuracy: 0.8810\n",
      "Epoch 15/50\n",
      "625/625 [==============================] - ETA: 0s - loss: 0.0497 - accuracy: 0.9833\n",
      "Epoch 15: val_accuracy did not improve from 0.88700\n",
      "625/625 [==============================] - 29s 46ms/step - loss: 0.0497 - accuracy: 0.9833 - val_loss: 0.5239 - val_accuracy: 0.8766\n",
      "Epoch 16/50\n",
      "625/625 [==============================] - ETA: 0s - loss: 0.0412 - accuracy: 0.9857\n",
      "Epoch 16: val_accuracy did not improve from 0.88700\n",
      "625/625 [==============================] - 27s 43ms/step - loss: 0.0412 - accuracy: 0.9857 - val_loss: 0.6210 - val_accuracy: 0.8744\n",
      "Epoch 17/50\n",
      "624/625 [============================>.] - ETA: 0s - loss: 0.0332 - accuracy: 0.9886\n",
      "Epoch 17: val_accuracy did not improve from 0.88700\n",
      "625/625 [==============================] - 27s 43ms/step - loss: 0.0332 - accuracy: 0.9887 - val_loss: 0.6036 - val_accuracy: 0.8772\n",
      "Epoch 18/50\n",
      "625/625 [==============================] - ETA: 0s - loss: 0.0265 - accuracy: 0.9912\n",
      "Epoch 18: val_accuracy did not improve from 0.88700\n",
      "625/625 [==============================] - 28s 45ms/step - loss: 0.0265 - accuracy: 0.9912 - val_loss: 0.5932 - val_accuracy: 0.8740\n",
      "Epoch 19/50\n",
      "624/625 [============================>.] - ETA: 0s - loss: 0.0232 - accuracy: 0.9919\n",
      "Epoch 19: val_accuracy did not improve from 0.88700\n",
      "625/625 [==============================] - 29s 46ms/step - loss: 0.0232 - accuracy: 0.9919 - val_loss: 0.6795 - val_accuracy: 0.8822\n",
      "Epoch 20/50\n",
      "625/625 [==============================] - ETA: 0s - loss: 0.0306 - accuracy: 0.9898\n",
      "Epoch 20: val_accuracy did not improve from 0.88700\n",
      "625/625 [==============================] - 27s 43ms/step - loss: 0.0306 - accuracy: 0.9898 - val_loss: 0.7003 - val_accuracy: 0.8852\n",
      "Epoch 21/50\n",
      "624/625 [============================>.] - ETA: 0s - loss: 0.0195 - accuracy: 0.9939\n",
      "Epoch 21: val_accuracy did not improve from 0.88700\n",
      "625/625 [==============================] - 27s 44ms/step - loss: 0.0196 - accuracy: 0.9938 - val_loss: 0.7240 - val_accuracy: 0.8740\n",
      "Epoch 22/50\n",
      "624/625 [============================>.] - ETA: 0s - loss: 0.0253 - accuracy: 0.9918\n",
      "Epoch 22: val_accuracy did not improve from 0.88700\n",
      "625/625 [==============================] - 28s 45ms/step - loss: 0.0252 - accuracy: 0.9918 - val_loss: 0.6543 - val_accuracy: 0.8828\n",
      "Epoch 23/50\n",
      "625/625 [==============================] - ETA: 0s - loss: 0.0181 - accuracy: 0.9950\n",
      "Epoch 23: val_accuracy did not improve from 0.88700\n",
      "625/625 [==============================] - 26s 41ms/step - loss: 0.0181 - accuracy: 0.9950 - val_loss: 0.6910 - val_accuracy: 0.8802\n",
      "Epoch 24/50\n",
      "624/625 [============================>.] - ETA: 0s - loss: 0.0211 - accuracy: 0.9932\n",
      "Epoch 24: val_accuracy did not improve from 0.88700\n",
      "625/625 [==============================] - 27s 44ms/step - loss: 0.0211 - accuracy: 0.9933 - val_loss: 0.6063 - val_accuracy: 0.8744\n",
      "Epoch 25/50\n",
      "625/625 [==============================] - ETA: 0s - loss: 0.0146 - accuracy: 0.9953\n",
      "Epoch 25: val_accuracy did not improve from 0.88700\n",
      "625/625 [==============================] - 26s 42ms/step - loss: 0.0146 - accuracy: 0.9953 - val_loss: 0.7287 - val_accuracy: 0.8746\n",
      "Epoch 26/50\n",
      "625/625 [==============================] - ETA: 0s - loss: 0.0174 - accuracy: 0.9947\n",
      "Epoch 26: val_accuracy did not improve from 0.88700\n",
      "625/625 [==============================] - 27s 44ms/step - loss: 0.0174 - accuracy: 0.9947 - val_loss: 0.7543 - val_accuracy: 0.8828\n",
      "Epoch 27/50\n",
      "625/625 [==============================] - ETA: 0s - loss: 0.0149 - accuracy: 0.9948\n",
      "Epoch 27: val_accuracy did not improve from 0.88700\n",
      "625/625 [==============================] - 26s 42ms/step - loss: 0.0149 - accuracy: 0.9948 - val_loss: 0.7221 - val_accuracy: 0.8746\n",
      "Epoch 28/50\n",
      "624/625 [============================>.] - ETA: 0s - loss: 0.0192 - accuracy: 0.9939\n",
      "Epoch 28: val_accuracy did not improve from 0.88700\n",
      "625/625 [==============================] - 28s 46ms/step - loss: 0.0192 - accuracy: 0.9940 - val_loss: 0.6509 - val_accuracy: 0.8830\n"
     ]
    },
    {
     "name": "stdout",
     "output_type": "stream",
     "text": [
      "Epoch 29/50\n",
      "625/625 [==============================] - ETA: 0s - loss: 0.0111 - accuracy: 0.9962\n",
      "Epoch 29: val_accuracy did not improve from 0.88700\n",
      "625/625 [==============================] - 27s 44ms/step - loss: 0.0111 - accuracy: 0.9962 - val_loss: 0.8460 - val_accuracy: 0.8840\n",
      "Epoch 30/50\n",
      "624/625 [============================>.] - ETA: 0s - loss: 0.0168 - accuracy: 0.9944\n",
      "Epoch 30: val_accuracy did not improve from 0.88700\n",
      "625/625 [==============================] - 27s 43ms/step - loss: 0.0168 - accuracy: 0.9944 - val_loss: 0.8454 - val_accuracy: 0.8806\n",
      "Epoch 31/50\n",
      "625/625 [==============================] - ETA: 0s - loss: 0.0127 - accuracy: 0.9954\n",
      "Epoch 31: val_accuracy did not improve from 0.88700\n",
      "625/625 [==============================] - 28s 44ms/step - loss: 0.0127 - accuracy: 0.9954 - val_loss: 0.7783 - val_accuracy: 0.8806\n",
      "Epoch 32/50\n",
      "625/625 [==============================] - ETA: 0s - loss: 0.0119 - accuracy: 0.9965\n",
      "Epoch 32: val_accuracy did not improve from 0.88700\n",
      "625/625 [==============================] - 27s 43ms/step - loss: 0.0119 - accuracy: 0.9965 - val_loss: 0.8009 - val_accuracy: 0.8816\n",
      "Epoch 33/50\n",
      "625/625 [==============================] - ETA: 0s - loss: 0.0132 - accuracy: 0.9959\n",
      "Epoch 33: val_accuracy did not improve from 0.88700\n",
      "625/625 [==============================] - 28s 45ms/step - loss: 0.0132 - accuracy: 0.9959 - val_loss: 0.8601 - val_accuracy: 0.8828\n",
      "Epoch 34/50\n",
      "625/625 [==============================] - ETA: 0s - loss: 0.0145 - accuracy: 0.9955\n",
      "Epoch 34: val_accuracy did not improve from 0.88700\n",
      "625/625 [==============================] - 27s 44ms/step - loss: 0.0145 - accuracy: 0.9955 - val_loss: 0.8392 - val_accuracy: 0.8734\n",
      "Epoch 35/50\n",
      "624/625 [============================>.] - ETA: 0s - loss: 0.0126 - accuracy: 0.9956\n",
      "Epoch 35: val_accuracy did not improve from 0.88700\n",
      "625/625 [==============================] - 26s 41ms/step - loss: 0.0126 - accuracy: 0.9956 - val_loss: 0.7846 - val_accuracy: 0.8810\n",
      "Epoch 36/50\n",
      "625/625 [==============================] - ETA: 0s - loss: 0.0114 - accuracy: 0.9963\n",
      "Epoch 36: val_accuracy did not improve from 0.88700\n",
      "625/625 [==============================] - 30s 48ms/step - loss: 0.0114 - accuracy: 0.9963 - val_loss: 0.7606 - val_accuracy: 0.8816\n",
      "Epoch 37/50\n",
      "624/625 [============================>.] - ETA: 0s - loss: 0.0100 - accuracy: 0.9966\n",
      "Epoch 37: val_accuracy did not improve from 0.88700\n",
      "625/625 [==============================] - 26s 42ms/step - loss: 0.0100 - accuracy: 0.9966 - val_loss: 0.8515 - val_accuracy: 0.8756\n",
      "Epoch 38/50\n",
      "624/625 [============================>.] - ETA: 0s - loss: 0.0151 - accuracy: 0.9956\n",
      "Epoch 38: val_accuracy did not improve from 0.88700\n",
      "625/625 [==============================] - 27s 43ms/step - loss: 0.0152 - accuracy: 0.9955 - val_loss: 0.6725 - val_accuracy: 0.8732\n",
      "Epoch 39/50\n",
      "624/625 [============================>.] - ETA: 0s - loss: 0.0149 - accuracy: 0.9948\n",
      "Epoch 39: val_accuracy did not improve from 0.88700\n",
      "625/625 [==============================] - 27s 44ms/step - loss: 0.0149 - accuracy: 0.9948 - val_loss: 0.7576 - val_accuracy: 0.8734\n",
      "Epoch 40/50\n",
      "625/625 [==============================] - ETA: 0s - loss: 0.0119 - accuracy: 0.9959\n",
      "Epoch 40: val_accuracy did not improve from 0.88700\n",
      "625/625 [==============================] - 26s 42ms/step - loss: 0.0119 - accuracy: 0.9959 - val_loss: 0.8685 - val_accuracy: 0.8862\n",
      "Epoch 41/50\n",
      "625/625 [==============================] - ETA: 0s - loss: 0.0075 - accuracy: 0.9976\n",
      "Epoch 41: val_accuracy did not improve from 0.88700\n",
      "625/625 [==============================] - 26s 42ms/step - loss: 0.0075 - accuracy: 0.9976 - val_loss: 0.9661 - val_accuracy: 0.8750\n",
      "Epoch 42/50\n",
      "625/625 [==============================] - ETA: 0s - loss: 0.0120 - accuracy: 0.9961\n",
      "Epoch 42: val_accuracy did not improve from 0.88700\n",
      "625/625 [==============================] - 26s 42ms/step - loss: 0.0120 - accuracy: 0.9961 - val_loss: 0.7837 - val_accuracy: 0.8800\n",
      "Epoch 43/50\n",
      "624/625 [============================>.] - ETA: 0s - loss: 0.0083 - accuracy: 0.9970\n",
      "Epoch 43: val_accuracy did not improve from 0.88700\n",
      "625/625 [==============================] - 27s 44ms/step - loss: 0.0083 - accuracy: 0.9970 - val_loss: 0.9076 - val_accuracy: 0.8806\n",
      "Epoch 44/50\n",
      "625/625 [==============================] - ETA: 0s - loss: 0.0117 - accuracy: 0.9958\n",
      "Epoch 44: val_accuracy did not improve from 0.88700\n",
      "625/625 [==============================] - 27s 44ms/step - loss: 0.0117 - accuracy: 0.9958 - val_loss: 0.7901 - val_accuracy: 0.8786\n",
      "Epoch 45/50\n",
      "625/625 [==============================] - ETA: 0s - loss: 0.0108 - accuracy: 0.9965\n",
      "Epoch 45: val_accuracy did not improve from 0.88700\n",
      "625/625 [==============================] - 26s 42ms/step - loss: 0.0108 - accuracy: 0.9965 - val_loss: 0.8123 - val_accuracy: 0.8744\n",
      "Epoch 46/50\n",
      "624/625 [============================>.] - ETA: 0s - loss: 0.0122 - accuracy: 0.9962\n",
      "Epoch 46: val_accuracy did not improve from 0.88700\n",
      "625/625 [==============================] - 26s 41ms/step - loss: 0.0122 - accuracy: 0.9962 - val_loss: 0.7924 - val_accuracy: 0.8816\n",
      "Epoch 47/50\n",
      "625/625 [==============================] - ETA: 0s - loss: 0.0065 - accuracy: 0.9975\n",
      "Epoch 47: val_accuracy did not improve from 0.88700\n",
      "625/625 [==============================] - 28s 44ms/step - loss: 0.0065 - accuracy: 0.9975 - val_loss: 0.9769 - val_accuracy: 0.8776\n",
      "Epoch 48/50\n",
      "624/625 [============================>.] - ETA: 0s - loss: 0.0075 - accuracy: 0.9974\n",
      "Epoch 48: val_accuracy did not improve from 0.88700\n",
      "625/625 [==============================] - 28s 44ms/step - loss: 0.0075 - accuracy: 0.9974 - val_loss: 0.8335 - val_accuracy: 0.8714\n",
      "Epoch 49/50\n",
      "625/625 [==============================] - ETA: 0s - loss: 0.0101 - accuracy: 0.9972\n",
      "Epoch 49: val_accuracy did not improve from 0.88700\n",
      "625/625 [==============================] - 27s 43ms/step - loss: 0.0101 - accuracy: 0.9972 - val_loss: 0.9658 - val_accuracy: 0.8766\n",
      "Epoch 50/50\n",
      "624/625 [============================>.] - ETA: 0s - loss: 0.0064 - accuracy: 0.9980\n",
      "Epoch 50: val_accuracy did not improve from 0.88700\n",
      "625/625 [==============================] - 28s 45ms/step - loss: 0.0064 - accuracy: 0.9980 - val_loss: 0.9541 - val_accuracy: 0.8740\n",
      "1365.5601675510406\n"
     ]
    }
   ],
   "source": [
    "model.compile('adam', loss=BinaryCrossentropy(), metrics='accuracy')\n",
    "st = time.time()\n",
    "model.fit(x=train_x,\n",
    "         y=train_y,\n",
    "         batch_size=32,\n",
    "         epochs=50,\n",
    "         validation_data=(val_x, val_y),\n",
    "         callbacks=callbacks)\n",
    "et = time.time()\n",
    "print(et - st)"
   ]
  },
  {
   "cell_type": "code",
   "execution_count": 55,
   "id": "fceba0ff",
   "metadata": {},
   "outputs": [
    {
     "data": {
      "text/plain": [
       "<tensorflow.python.training.tracking.util.CheckpointLoadStatus at 0x13c33f7fcd0>"
      ]
     },
     "execution_count": 55,
     "metadata": {},
     "output_type": "execute_result"
    }
   ],
   "source": [
    "model.load_weights('./models_glove_bilstm_raw/checkpoint')"
   ]
  },
  {
   "cell_type": "code",
   "execution_count": 56,
   "id": "17d06c83",
   "metadata": {},
   "outputs": [
    {
     "name": "stdout",
     "output_type": "stream",
     "text": [
      "f1 : 0.9439528023598821\n",
      "acc: 0.943\n"
     ]
    },
    {
     "data": {
      "image/png": "[encoded data removed]",
      "text/plain": [
       "<Figure size 432x288 with 2 Axes>"
      ]
     },
     "metadata": {
      "needs_background": "light"
     },
     "output_type": "display_data"
    }
   ],
   "source": [
    "predict_result(model, train_x[:1000], train_y[:1000])"
   ]
  },
  {
   "cell_type": "code",
   "execution_count": 57,
   "id": "1959c5cc",
   "metadata": {},
   "outputs": [
    {
     "name": "stdout",
     "output_type": "stream",
     "text": [
      "f1 : 0.8808707921789961\n",
      "acc: 0.8818\n"
     ]
    },
    {
     "data": {
      "image/png": "[encoded data removed]",
      "text/plain": [
       "<Figure size 432x288 with 2 Axes>"
      ]
     },
     "metadata": {
      "needs_background": "light"
     },
     "output_type": "display_data"
    }
   ],
   "source": [
    "predict_result(model, test_x, test_y)"
   ]
  },
  {
   "cell_type": "code",
   "execution_count": null,
   "id": "8512defd",
   "metadata": {},
   "outputs": [],
   "source": []
  }
 ],
 "metadata": {
  "kernelspec": {
   "display_name": "Python 3 (ipykernel)",
   "language": "python",
   "name": "python3"
  },
  "language_info": {
   "codemirror_mode": {
    "name": "ipython",
    "version": 3
   },
   "file_extension": ".py",
   "mimetype": "text/x-python",
   "name": "python",
   "nbconvert_exporter": "python",
   "pygments_lexer": "ipython3",
   "version": "3.9.0"
  }
 },
 "nbformat": 4,
 "nbformat_minor": 5
}
