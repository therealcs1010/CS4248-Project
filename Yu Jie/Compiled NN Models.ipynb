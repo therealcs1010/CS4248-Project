{
 "cells": [
  {
   "cell_type": "code",
   "execution_count": 1,
   "id": "f1e270fc",
   "metadata": {},
   "outputs": [],
   "source": [
    "import spacy\n",
    "import pandas as pd\n",
    "import tensorflow as tf\n",
    "from tensorflow.keras.models import Sequential, load_model\n",
    "from tensorflow.keras.layers import Dense, LSTM, GRU, Bidirectional, Dropout, Flatten, Embedding, TextVectorization, GlobalMaxPooling1D\n",
    "from tensorflow.keras.callbacks import ModelCheckpoint\n",
    "from tensorflow.keras.optimizers import SGD, Adam, RMSprop\n",
    "from tensorflow.keras.losses import BinaryCrossentropy\n",
    "from tensorflow.keras.preprocessing.text import Tokenizer\n",
    "from tensorflow.keras.preprocessing.sequence import pad_sequences\n",
    "from sklearn.model_selection import train_test_split\n",
    "from sklearn.feature_extraction.text import TfidfVectorizer\n",
    "from sklearn.metrics import f1_score, accuracy_score\n",
    "import scikitplot as skplt\n",
    "import numpy as np\n",
    "from tqdm.notebook import tqdm_notebook\n"
   ]
  },
  {
   "cell_type": "markdown",
   "id": "5df37571",
   "metadata": {},
   "source": [
    "# Read in preprocessed data"
   ]
  },
  {
   "cell_type": "code",
   "execution_count": 2,
   "id": "6c4039a3",
   "metadata": {},
   "outputs": [],
   "source": [
    "train_x = pd.read_csv('./x_train.csv')\n",
    "train_y = pd.read_csv('./y_train.csv')\n",
    "test_x = pd.read_csv('./x_test.csv')\n",
    "test_y = pd.read_csv('./y_test.csv')\n",
    "\n",
    "train_df = pd.concat([train_x, train_y], axis=1)\n",
    "test_df = pd.concat([test_x, test_y], axis=1)\n",
    "\n",
    "train_df = train_df[['text', 'label']]\n",
    "test_df = test_df[['text', 'label']]"
   ]
  },
  {
   "cell_type": "code",
   "execution_count": 3,
   "id": "013cd404",
   "metadata": {},
   "outputs": [
    {
     "data": {
      "text/html": [
       "<div>\n",
       "<style scoped>\n",
       "    .dataframe tbody tr th:only-of-type {\n",
       "        vertical-align: middle;\n",
       "    }\n",
       "\n",
       "    .dataframe tbody tr th {\n",
       "        vertical-align: top;\n",
       "    }\n",
       "\n",
       "    .dataframe thead th {\n",
       "        text-align: right;\n",
       "    }\n",
       "</style>\n",
       "<table border=\"1\" class=\"dataframe\">\n",
       "  <thead>\n",
       "    <tr style=\"text-align: right;\">\n",
       "      <th></th>\n",
       "      <th>text</th>\n",
       "      <th>label</th>\n",
       "    </tr>\n",
       "  </thead>\n",
       "  <tbody>\n",
       "    <tr>\n",
       "      <th>0</th>\n",
       "      <td>bromwell high cartoon comedy ran time program ...</td>\n",
       "      <td>+</td>\n",
       "    </tr>\n",
       "    <tr>\n",
       "      <th>1</th>\n",
       "      <td>homelessness houselessness george carlin state...</td>\n",
       "      <td>+</td>\n",
       "    </tr>\n",
       "    <tr>\n",
       "      <th>2</th>\n",
       "      <td>brilliant overacting lesley ann warren best dr...</td>\n",
       "      <td>+</td>\n",
       "    </tr>\n",
       "    <tr>\n",
       "      <th>3</th>\n",
       "      <td>easily underrated film inn brook cannon sure f...</td>\n",
       "      <td>+</td>\n",
       "    </tr>\n",
       "    <tr>\n",
       "      <th>4</th>\n",
       "      <td>typical mel brook film much le slapstick movie...</td>\n",
       "      <td>+</td>\n",
       "    </tr>\n",
       "    <tr>\n",
       "      <th>...</th>\n",
       "      <td>...</td>\n",
       "      <td>...</td>\n",
       "    </tr>\n",
       "    <tr>\n",
       "      <th>24995</th>\n",
       "      <td>towards end movie felt technical felt like cla...</td>\n",
       "      <td>-</td>\n",
       "    </tr>\n",
       "    <tr>\n",
       "      <th>24996</th>\n",
       "      <td>kind movie enemy content watch time bloody tru...</td>\n",
       "      <td>-</td>\n",
       "    </tr>\n",
       "    <tr>\n",
       "      <th>24997</th>\n",
       "      <td>saw descent last night stockholm film festival...</td>\n",
       "      <td>-</td>\n",
       "    </tr>\n",
       "    <tr>\n",
       "      <th>24998</th>\n",
       "      <td>film pick pound turn rather good 23rd century ...</td>\n",
       "      <td>-</td>\n",
       "    </tr>\n",
       "    <tr>\n",
       "      <th>24999</th>\n",
       "      <td>one dumbest film ive ever seen rip nearly ever...</td>\n",
       "      <td>-</td>\n",
       "    </tr>\n",
       "  </tbody>\n",
       "</table>\n",
       "<p>25000 rows × 2 columns</p>\n",
       "</div>"
      ],
      "text/plain": [
       "                                                    text label\n",
       "0      bromwell high cartoon comedy ran time program ...     +\n",
       "1      homelessness houselessness george carlin state...     +\n",
       "2      brilliant overacting lesley ann warren best dr...     +\n",
       "3      easily underrated film inn brook cannon sure f...     +\n",
       "4      typical mel brook film much le slapstick movie...     +\n",
       "...                                                  ...   ...\n",
       "24995  towards end movie felt technical felt like cla...     -\n",
       "24996  kind movie enemy content watch time bloody tru...     -\n",
       "24997  saw descent last night stockholm film festival...     -\n",
       "24998  film pick pound turn rather good 23rd century ...     -\n",
       "24999  one dumbest film ive ever seen rip nearly ever...     -\n",
       "\n",
       "[25000 rows x 2 columns]"
      ]
     },
     "execution_count": 3,
     "metadata": {},
     "output_type": "execute_result"
    }
   ],
   "source": [
    "train_df"
   ]
  },
  {
   "cell_type": "code",
   "execution_count": 4,
   "id": "e922fa52",
   "metadata": {},
   "outputs": [
    {
     "data": {
      "text/html": [
       "<div>\n",
       "<style scoped>\n",
       "    .dataframe tbody tr th:only-of-type {\n",
       "        vertical-align: middle;\n",
       "    }\n",
       "\n",
       "    .dataframe tbody tr th {\n",
       "        vertical-align: top;\n",
       "    }\n",
       "\n",
       "    .dataframe thead th {\n",
       "        text-align: right;\n",
       "    }\n",
       "</style>\n",
       "<table border=\"1\" class=\"dataframe\">\n",
       "  <thead>\n",
       "    <tr style=\"text-align: right;\">\n",
       "      <th></th>\n",
       "      <th>text</th>\n",
       "      <th>label</th>\n",
       "    </tr>\n",
       "  </thead>\n",
       "  <tbody>\n",
       "    <tr>\n",
       "      <th>0</th>\n",
       "      <td>panic street richard widmark play u navy docto...</td>\n",
       "      <td>+</td>\n",
       "    </tr>\n",
       "    <tr>\n",
       "      <th>1</th>\n",
       "      <td>ask first one really better one look sarah g r...</td>\n",
       "      <td>-</td>\n",
       "    </tr>\n",
       "    <tr>\n",
       "      <th>2</th>\n",
       "      <td>big fan faerie tale theatre ive seen one best ...</td>\n",
       "      <td>+</td>\n",
       "    </tr>\n",
       "    <tr>\n",
       "      <th>3</th>\n",
       "      <td>finished reading book dillinger movie horribly...</td>\n",
       "      <td>-</td>\n",
       "    </tr>\n",
       "    <tr>\n",
       "      <th>4</th>\n",
       "      <td>greg davis bryan daly take crazed statement te...</td>\n",
       "      <td>-</td>\n",
       "    </tr>\n",
       "    <tr>\n",
       "      <th>...</th>\n",
       "      <td>...</td>\n",
       "      <td>...</td>\n",
       "    </tr>\n",
       "    <tr>\n",
       "      <th>24995</th>\n",
       "      <td>roommate nearly shorted tv numerous spittakes ...</td>\n",
       "      <td>-</td>\n",
       "    </tr>\n",
       "    <tr>\n",
       "      <th>24996</th>\n",
       "      <td>michelle rodriguez defining actress could char...</td>\n",
       "      <td>+</td>\n",
       "    </tr>\n",
       "    <tr>\n",
       "      <th>24997</th>\n",
       "      <td>nice movie great soundtrack span rock landscap...</td>\n",
       "      <td>+</td>\n",
       "    </tr>\n",
       "    <tr>\n",
       "      <th>24998</th>\n",
       "      <td>even though madefortv production there absolut...</td>\n",
       "      <td>-</td>\n",
       "    </tr>\n",
       "    <tr>\n",
       "      <th>24999</th>\n",
       "      <td>saw cable recently kinda enjoyed ive reading c...</td>\n",
       "      <td>-</td>\n",
       "    </tr>\n",
       "  </tbody>\n",
       "</table>\n",
       "<p>25000 rows × 2 columns</p>\n",
       "</div>"
      ],
      "text/plain": [
       "                                                    text label\n",
       "0      panic street richard widmark play u navy docto...     +\n",
       "1      ask first one really better one look sarah g r...     -\n",
       "2      big fan faerie tale theatre ive seen one best ...     +\n",
       "3      finished reading book dillinger movie horribly...     -\n",
       "4      greg davis bryan daly take crazed statement te...     -\n",
       "...                                                  ...   ...\n",
       "24995  roommate nearly shorted tv numerous spittakes ...     -\n",
       "24996  michelle rodriguez defining actress could char...     +\n",
       "24997  nice movie great soundtrack span rock landscap...     +\n",
       "24998  even though madefortv production there absolut...     -\n",
       "24999  saw cable recently kinda enjoyed ive reading c...     -\n",
       "\n",
       "[25000 rows x 2 columns]"
      ]
     },
     "execution_count": 4,
     "metadata": {},
     "output_type": "execute_result"
    }
   ],
   "source": [
    "train_df = train_df.sample(len(train_df), random_state=42, ignore_index=True)\n",
    "train_df"
   ]
  },
  {
   "cell_type": "markdown",
   "id": "653b5e92",
   "metadata": {},
   "source": [
    "# Storing some important variables"
   ]
  },
  {
   "cell_type": "code",
   "execution_count": 5,
   "id": "bdd01e50",
   "metadata": {},
   "outputs": [],
   "source": [
    "train_len = int(0.8*len(train_df))\n",
    "\n",
    "max_words=300\n",
    "embedding_size=300\n",
    "\n",
    "# For feature 1\n",
    "tfidf_vectorizer = TfidfVectorizer(max_features=20000)\n",
    "tfidf_vectorizer.fit(train_df['text'].values)\n",
    "\n",
    "# For feature 2\n",
    "nlp = spacy.load('en_core_web_lg')\n",
    "\n",
    "# For feature 3\n",
    "tokenizer = Tokenizer()\n",
    "tokenizer.fit_on_texts(train_df['text'].values)\n",
    "\n",
    "#For feature 4\n",
    "vectorizer = TextVectorization(max_tokens=20000, output_sequence_length=max_words)\n",
    "vectorizer.adapt(train_df['text'].values)\n",
    "vocab = vectorizer.get_vocabulary()\n",
    "word_index = dict(zip(vocab, range(len(vocab))))\n",
    "\n",
    "def predict_result(model, x, y_true):\n",
    "    y_pred = model.predict(x)\n",
    "    y_pred = np.argmax(y_pred, axis=1)\n",
    "    y_true = np.argmax(y_true, axis=1)\n",
    "    skplt.metrics.plot_confusion_matrix(y_true, y_pred)\n",
    "    print(f'f1 : {f1_score(y_true, y_pred)}')\n",
    "    print(f'acc: {accuracy_score(y_true, y_pred)}')    "
   ]
  },
  {
   "cell_type": "markdown",
   "id": "789d4c73",
   "metadata": {},
   "source": [
    "# Feature 1 (TF-IDF)"
   ]
  },
  {
   "cell_type": "code",
   "execution_count": 6,
   "id": "bfd72403",
   "metadata": {},
   "outputs": [],
   "source": [
    "def one_hot(row):\n",
    "    if row == '-':\n",
    "        return [1, 0]\n",
    "    else:\n",
    "        return [0, 1]\n",
    "    \n",
    "def get_tfidf_vector_and_one_hot(df):\n",
    "    x = tfidf_vectorizer.transform(df['text'].values).todense()\n",
    "    x = pd.DataFrame(x)\n",
    "    y = df['label'].apply(one_hot).tolist()\n",
    "    y = np.array(y)\n",
    "    return x, y"
   ]
  },
  {
   "cell_type": "code",
   "execution_count": 7,
   "id": "8038418b",
   "metadata": {},
   "outputs": [],
   "source": [
    "train_val_x, train_val_y = get_tfidf_vector_and_one_hot(train_df)\n",
    "test_x, test_y = get_tfidf_vector_and_one_hot(test_df)"
   ]
  },
  {
   "cell_type": "code",
   "execution_count": 8,
   "id": "ab328908",
   "metadata": {},
   "outputs": [],
   "source": [
    "train_x, val_x = train_val_x[:train_len], train_val_x[train_len:]\n",
    "train_y, val_y = train_val_y[:train_len], train_val_y[train_len:]"
   ]
  },
  {
   "cell_type": "markdown",
   "id": "10e20db9",
   "metadata": {},
   "source": [
    "# Model 1 (FFNN w TF-IDF)"
   ]
  },
  {
   "cell_type": "code",
   "execution_count": 9,
   "id": "f7c3793f",
   "metadata": {},
   "outputs": [
    {
     "name": "stdout",
     "output_type": "stream",
     "text": [
      "Model: \"sequential\"\n",
      "_________________________________________________________________\n",
      " Layer (type)                Output Shape              Param #   \n",
      "=================================================================\n",
      " dense (Dense)               (None, 64)                1280064   \n",
      "                                                                 \n",
      " dropout (Dropout)           (None, 64)                0         \n",
      "                                                                 \n",
      " dense_1 (Dense)             (None, 64)                4160      \n",
      "                                                                 \n",
      " dropout_1 (Dropout)         (None, 64)                0         \n",
      "                                                                 \n",
      " dense_2 (Dense)             (None, 64)                4160      \n",
      "                                                                 \n",
      " dense_3 (Dense)             (None, 2)                 130       \n",
      "                                                                 \n",
      "=================================================================\n",
      "Total params: 1,288,514\n",
      "Trainable params: 1,288,514\n",
      "Non-trainable params: 0\n",
      "_________________________________________________________________\n"
     ]
    }
   ],
   "source": [
    "model = Sequential([\n",
    "    Dense(64, input_shape=(train_x.shape[1],), activation='relu'),\n",
    "    Dropout(0.3),\n",
    "    Dense(64, activation='relu'),\n",
    "    Dropout(0.3),\n",
    "    Dense(64, activation='relu'),\n",
    "    Dense(2, activation='sigmoid')\n",
    "])\n",
    "\n",
    "callbacks=[\n",
    "    ModelCheckpoint(filepath='./models_tfidf_ffnn/checkpoint',\n",
    "                   save_best_only=True, save_weights_only=True, verbose=1,monitor='val_accuracy')\n",
    "]\n",
    "\n",
    "model.summary()"
   ]
  },
  {
   "cell_type": "code",
   "execution_count": 10,
   "id": "85da1409",
   "metadata": {},
   "outputs": [
    {
     "name": "stdout",
     "output_type": "stream",
     "text": [
      "Epoch 1/10\n",
      "625/625 [==============================] - ETA: 0s - loss: 0.3471 - accuracy: 0.8509\n",
      "Epoch 1: val_accuracy improved from -inf to 0.89360, saving model to ./models_tfidf_ffnn\\checkpoint\n",
      "625/625 [==============================] - 3s 4ms/step - loss: 0.3471 - accuracy: 0.8509 - val_loss: 0.2637 - val_accuracy: 0.8936\n",
      "Epoch 2/10\n",
      "617/625 [============================>.] - ETA: 0s - loss: 0.1255 - accuracy: 0.9545\n",
      "Epoch 2: val_accuracy did not improve from 0.89360\n",
      "625/625 [==============================] - 2s 3ms/step - loss: 0.1268 - accuracy: 0.9539 - val_loss: 0.2981 - val_accuracy: 0.8882\n",
      "Epoch 3/10\n",
      "614/625 [============================>.] - ETA: 0s - loss: 0.0469 - accuracy: 0.9840\n",
      "Epoch 3: val_accuracy did not improve from 0.89360\n",
      "625/625 [==============================] - 2s 3ms/step - loss: 0.0469 - accuracy: 0.9840 - val_loss: 0.4422 - val_accuracy: 0.8780\n",
      "Epoch 4/10\n",
      "609/625 [============================>.] - ETA: 0s - loss: 0.0193 - accuracy: 0.9938\n",
      "Epoch 4: val_accuracy did not improve from 0.89360\n",
      "625/625 [==============================] - 2s 3ms/step - loss: 0.0192 - accuracy: 0.9938 - val_loss: 0.6145 - val_accuracy: 0.8776\n",
      "Epoch 5/10\n",
      "607/625 [============================>.] - ETA: 0s - loss: 0.0118 - accuracy: 0.9964\n",
      "Epoch 5: val_accuracy did not improve from 0.89360\n",
      "625/625 [==============================] - 2s 3ms/step - loss: 0.0118 - accuracy: 0.9963 - val_loss: 0.7340 - val_accuracy: 0.8772\n",
      "Epoch 6/10\n",
      "614/625 [============================>.] - ETA: 0s - loss: 0.0074 - accuracy: 0.9975\n",
      "Epoch 6: val_accuracy did not improve from 0.89360\n",
      "625/625 [==============================] - 2s 3ms/step - loss: 0.0075 - accuracy: 0.9973 - val_loss: 0.8036 - val_accuracy: 0.8734\n",
      "Epoch 7/10\n",
      "625/625 [==============================] - ETA: 0s - loss: 0.0095 - accuracy: 0.9969\n",
      "Epoch 7: val_accuracy did not improve from 0.89360\n",
      "625/625 [==============================] - 2s 3ms/step - loss: 0.0095 - accuracy: 0.9969 - val_loss: 0.7493 - val_accuracy: 0.8742\n",
      "Epoch 8/10\n",
      "610/625 [============================>.] - ETA: 0s - loss: 0.0065 - accuracy: 0.9975\n",
      "Epoch 8: val_accuracy did not improve from 0.89360\n",
      "625/625 [==============================] - 2s 3ms/step - loss: 0.0065 - accuracy: 0.9976 - val_loss: 0.8906 - val_accuracy: 0.8786\n",
      "Epoch 9/10\n",
      "612/625 [============================>.] - ETA: 0s - loss: 0.0067 - accuracy: 0.9981\n",
      "Epoch 9: val_accuracy did not improve from 0.89360\n",
      "625/625 [==============================] - 2s 3ms/step - loss: 0.0067 - accuracy: 0.9981 - val_loss: 0.8657 - val_accuracy: 0.8768\n",
      "Epoch 10/10\n",
      "610/625 [============================>.] - ETA: 0s - loss: 0.0049 - accuracy: 0.9984\n",
      "Epoch 10: val_accuracy did not improve from 0.89360\n",
      "625/625 [==============================] - 2s 3ms/step - loss: 0.0048 - accuracy: 0.9984 - val_loss: 0.8972 - val_accuracy: 0.8792\n"
     ]
    },
    {
     "data": {
      "text/plain": [
       "<keras.callbacks.History at 0x294ae0dc9a0>"
      ]
     },
     "execution_count": 10,
     "metadata": {},
     "output_type": "execute_result"
    }
   ],
   "source": [
    "model.compile('adam', loss=BinaryCrossentropy(), metrics='accuracy')\n",
    "\n",
    "model.fit(x=train_x,\n",
    "         y=train_y,\n",
    "         batch_size=32,\n",
    "         epochs=10,\n",
    "         validation_data=(val_x, val_y),\n",
    "         callbacks=callbacks)"
   ]
  },
  {
   "cell_type": "code",
   "execution_count": 11,
   "id": "89080395",
   "metadata": {},
   "outputs": [
    {
     "data": {
      "text/plain": [
       "<tensorflow.python.training.tracking.util.CheckpointLoadStatus at 0x29624002340>"
      ]
     },
     "execution_count": 11,
     "metadata": {},
     "output_type": "execute_result"
    }
   ],
   "source": [
    "model.load_weights('./models_tfidf_ffnn/checkpoint')"
   ]
  },
  {
   "cell_type": "code",
   "execution_count": 12,
   "id": "75866710",
   "metadata": {},
   "outputs": [
    {
     "name": "stdout",
     "output_type": "stream",
     "text": [
      "f1 : 0.9729206963249517\n",
      "acc: 0.972\n"
     ]
    },
    {
     "data": {
      "image/png": "[encoded data removed]",
      "text/plain": [
       "<Figure size 432x288 with 2 Axes>"
      ]
     },
     "metadata": {
      "needs_background": "light"
     },
     "output_type": "display_data"
    }
   ],
   "source": [
    "predict_result(model, train_x[:1000], train_y[:1000])"
   ]
  },
  {
   "cell_type": "code",
   "execution_count": 13,
   "id": "9ca6a8ba",
   "metadata": {},
   "outputs": [
    {
     "ename": "InternalError",
     "evalue": "Failed copying input tensor from /job:localhost/replica:0/task:0/device:CPU:0 to /job:localhost/replica:0/task:0/device:GPU:0 in order to run _EagerConst: Dst tensor is not initialized.",
     "output_type": "error",
     "traceback": [
      "\u001b[1;31m---------------------------------------------------------------------------\u001b[0m",
      "\u001b[1;31mInternalError\u001b[0m                             Traceback (most recent call last)",
      "Input \u001b[1;32mIn [13]\u001b[0m, in \u001b[0;36m<module>\u001b[1;34m\u001b[0m\n\u001b[1;32m----> 1\u001b[0m \u001b[43mpredict_result\u001b[49m\u001b[43m(\u001b[49m\u001b[43mmodel\u001b[49m\u001b[43m,\u001b[49m\u001b[43m \u001b[49m\u001b[43mtest_x\u001b[49m\u001b[43m,\u001b[49m\u001b[43m \u001b[49m\u001b[43mtest_y\u001b[49m\u001b[43m)\u001b[49m\n",
      "Input \u001b[1;32mIn [5]\u001b[0m, in \u001b[0;36mpredict_result\u001b[1;34m(model, x, y_true)\u001b[0m\n\u001b[0;32m     23\u001b[0m \u001b[38;5;28;01mdef\u001b[39;00m \u001b[38;5;21mpredict_result\u001b[39m(model, x, y_true):\n\u001b[1;32m---> 24\u001b[0m     y_pred \u001b[38;5;241m=\u001b[39m \u001b[43mmodel\u001b[49m\u001b[38;5;241;43m.\u001b[39;49m\u001b[43mpredict\u001b[49m\u001b[43m(\u001b[49m\u001b[43mx\u001b[49m\u001b[43m)\u001b[49m\n\u001b[0;32m     25\u001b[0m     y_pred \u001b[38;5;241m=\u001b[39m np\u001b[38;5;241m.\u001b[39margmax(y_pred, axis\u001b[38;5;241m=\u001b[39m\u001b[38;5;241m1\u001b[39m)\n\u001b[0;32m     26\u001b[0m     y_true \u001b[38;5;241m=\u001b[39m np\u001b[38;5;241m.\u001b[39margmax(y_true, axis\u001b[38;5;241m=\u001b[39m\u001b[38;5;241m1\u001b[39m)\n",
      "File \u001b[1;32md:\\coding\\venv\\lib\\site-packages\\keras\\utils\\traceback_utils.py:67\u001b[0m, in \u001b[0;36mfilter_traceback.<locals>.error_handler\u001b[1;34m(*args, **kwargs)\u001b[0m\n\u001b[0;32m     65\u001b[0m \u001b[38;5;28;01mexcept\u001b[39;00m \u001b[38;5;167;01mException\u001b[39;00m \u001b[38;5;28;01mas\u001b[39;00m e:  \u001b[38;5;66;03m# pylint: disable=broad-except\u001b[39;00m\n\u001b[0;32m     66\u001b[0m   filtered_tb \u001b[38;5;241m=\u001b[39m _process_traceback_frames(e\u001b[38;5;241m.\u001b[39m__traceback__)\n\u001b[1;32m---> 67\u001b[0m   \u001b[38;5;28;01mraise\u001b[39;00m e\u001b[38;5;241m.\u001b[39mwith_traceback(filtered_tb) \u001b[38;5;28;01mfrom\u001b[39;00m \u001b[38;5;28mNone\u001b[39m\n\u001b[0;32m     68\u001b[0m \u001b[38;5;28;01mfinally\u001b[39;00m:\n\u001b[0;32m     69\u001b[0m   \u001b[38;5;28;01mdel\u001b[39;00m filtered_tb\n",
      "File \u001b[1;32md:\\coding\\venv\\lib\\site-packages\\tensorflow\\python\\framework\\constant_op.py:102\u001b[0m, in \u001b[0;36mconvert_to_eager_tensor\u001b[1;34m(value, ctx, dtype)\u001b[0m\n\u001b[0;32m    100\u001b[0m     dtype \u001b[38;5;241m=\u001b[39m dtypes\u001b[38;5;241m.\u001b[39mas_dtype(dtype)\u001b[38;5;241m.\u001b[39mas_datatype_enum\n\u001b[0;32m    101\u001b[0m ctx\u001b[38;5;241m.\u001b[39mensure_initialized()\n\u001b[1;32m--> 102\u001b[0m \u001b[38;5;28;01mreturn\u001b[39;00m \u001b[43mops\u001b[49m\u001b[38;5;241;43m.\u001b[39;49m\u001b[43mEagerTensor\u001b[49m\u001b[43m(\u001b[49m\u001b[43mvalue\u001b[49m\u001b[43m,\u001b[49m\u001b[43m \u001b[49m\u001b[43mctx\u001b[49m\u001b[38;5;241;43m.\u001b[39;49m\u001b[43mdevice_name\u001b[49m\u001b[43m,\u001b[49m\u001b[43m \u001b[49m\u001b[43mdtype\u001b[49m\u001b[43m)\u001b[49m\n",
      "\u001b[1;31mInternalError\u001b[0m: Failed copying input tensor from /job:localhost/replica:0/task:0/device:CPU:0 to /job:localhost/replica:0/task:0/device:GPU:0 in order to run _EagerConst: Dst tensor is not initialized."
     ]
    }
   ],
   "source": [
    "predict_result(model, test_x, test_y)"
   ]
  },
  {
   "cell_type": "markdown",
   "id": "8537ab76",
   "metadata": {},
   "source": [
    "# Feature 2 (Spacy document vector)"
   ]
  },
  {
   "cell_type": "code",
   "execution_count": 14,
   "id": "2bc1c49d",
   "metadata": {},
   "outputs": [],
   "source": [
    "def get_spacy_vector_and_one_hot(df):\n",
    "    text_list = df['text'].to_list()\n",
    "    x = []\n",
    "    for doc in tqdm_notebook(nlp.pipe(text_list, disable=[\"tagger\", \"parser\", \"lemmatizer\", 'attribute_ruler', 'ner']),total=len(text_list) ):\n",
    "        x.append(doc.vector)\n",
    "    x = pd.DataFrame(x)\n",
    "    y = df['label'].apply(one_hot).tolist()\n",
    "    y = np.array(y)\n",
    "    return x, y"
   ]
  },
  {
   "cell_type": "code",
   "execution_count": 15,
   "id": "417ebdc0",
   "metadata": {},
   "outputs": [
    {
     "data": {
      "application/vnd.jupyter.widget-view+json": {
       "model_id": "cdf7569dec4945deacf6542a6c846be7",
       "version_major": 2,
       "version_minor": 0
      },
      "text/plain": [
       "  0%|          | 0/25000 [00:00<?, ?it/s]"
      ]
     },
     "metadata": {},
     "output_type": "display_data"
    },
    {
     "data": {
      "application/vnd.jupyter.widget-view+json": {
       "model_id": "7fb61d8595e840799c25c26d820a7e7e",
       "version_major": 2,
       "version_minor": 0
      },
      "text/plain": [
       "  0%|          | 0/25000 [00:00<?, ?it/s]"
      ]
     },
     "metadata": {},
     "output_type": "display_data"
    }
   ],
   "source": [
    "train_val_x, train_val_y = get_spacy_vector_and_one_hot(train_df)\n",
    "test_x, test_y = get_spacy_vector_and_one_hot(test_df)"
   ]
  },
  {
   "cell_type": "markdown",
   "id": "ae9c6db6",
   "metadata": {},
   "source": [
    "# Splitting training data into train and validation set"
   ]
  },
  {
   "cell_type": "code",
   "execution_count": 16,
   "id": "f4046f07",
   "metadata": {},
   "outputs": [],
   "source": [
    "train_x, val_x = train_val_x[:train_len], train_val_x[train_len:]\n",
    "train_y, val_y = train_val_y[:train_len], train_val_y[train_len:]"
   ]
  },
  {
   "cell_type": "markdown",
   "id": "4d7254df",
   "metadata": {},
   "source": [
    "# Model 2 (FFNN w Spacy Doc Vector)"
   ]
  },
  {
   "cell_type": "code",
   "execution_count": 17,
   "id": "43e85f02",
   "metadata": {},
   "outputs": [
    {
     "name": "stdout",
     "output_type": "stream",
     "text": [
      "Model: \"sequential_1\"\n",
      "_________________________________________________________________\n",
      " Layer (type)                Output Shape              Param #   \n",
      "=================================================================\n",
      " dense_4 (Dense)             (None, 512)               154112    \n",
      "                                                                 \n",
      " dense_5 (Dense)             (None, 1024)              525312    \n",
      "                                                                 \n",
      " dropout_2 (Dropout)         (None, 1024)              0         \n",
      "                                                                 \n",
      " dense_6 (Dense)             (None, 1024)              1049600   \n",
      "                                                                 \n",
      " dropout_3 (Dropout)         (None, 1024)              0         \n",
      "                                                                 \n",
      " dense_7 (Dense)             (None, 1024)              1049600   \n",
      "                                                                 \n",
      " dropout_4 (Dropout)         (None, 1024)              0         \n",
      "                                                                 \n",
      " dense_8 (Dense)             (None, 512)               524800    \n",
      "                                                                 \n",
      " dense_9 (Dense)             (None, 2)                 1026      \n",
      "                                                                 \n",
      "=================================================================\n",
      "Total params: 3,304,450\n",
      "Trainable params: 3,304,450\n",
      "Non-trainable params: 0\n",
      "_________________________________________________________________\n"
     ]
    }
   ],
   "source": [
    "model = Sequential([\n",
    "    Dense(512, input_shape=(300,), activation='relu'),\n",
    "    Dense(1024, activation='relu'),\n",
    "    Dropout(0.3),\n",
    "    Dense(1024, activation='relu'),\n",
    "    Dropout(0.3),\n",
    "    Dense(1024, activation='relu'),\n",
    "    Dropout(0.3),\n",
    "    Dense(512, activation='relu'),\n",
    "    Dense(2, activation='sigmoid')\n",
    "])\n",
    "\n",
    "callbacks=[\n",
    "    ModelCheckpoint(filepath='./models_spacy_ffnn/checkpoint',\n",
    "                   save_best_only=True, save_weights_only=True, verbose=1,monitor='val_accuracy')\n",
    "]\n",
    "\n",
    "model.summary()"
   ]
  },
  {
   "cell_type": "code",
   "execution_count": 18,
   "id": "f73a5cec",
   "metadata": {},
   "outputs": [
    {
     "name": "stdout",
     "output_type": "stream",
     "text": [
      "Epoch 1/50\n",
      "617/625 [============================>.] - ETA: 0s - loss: 0.4075 - accuracy: 0.8194\n",
      "Epoch 1: val_accuracy improved from -inf to 0.80720, saving model to ./models_spacy_ffnn\\checkpoint\n",
      "625/625 [==============================] - 3s 4ms/step - loss: 0.4068 - accuracy: 0.8199 - val_loss: 0.4012 - val_accuracy: 0.8072\n",
      "Epoch 2/50\n",
      "621/625 [============================>.] - ETA: 0s - loss: 0.3614 - accuracy: 0.8427\n",
      "Epoch 2: val_accuracy improved from 0.80720 to 0.85160, saving model to ./models_spacy_ffnn\\checkpoint\n",
      "625/625 [==============================] - 2s 4ms/step - loss: 0.3613 - accuracy: 0.8429 - val_loss: 0.3479 - val_accuracy: 0.8516\n",
      "Epoch 3/50\n",
      "621/625 [============================>.] - ETA: 0s - loss: 0.3479 - accuracy: 0.8527\n",
      "Epoch 3: val_accuracy improved from 0.85160 to 0.85720, saving model to ./models_spacy_ffnn\\checkpoint\n",
      "625/625 [==============================] - 2s 4ms/step - loss: 0.3480 - accuracy: 0.8528 - val_loss: 0.3421 - val_accuracy: 0.8572\n",
      "Epoch 4/50\n",
      "607/625 [============================>.] - ETA: 0s - loss: 0.3364 - accuracy: 0.8571\n",
      "Epoch 4: val_accuracy improved from 0.85720 to 0.85960, saving model to ./models_spacy_ffnn\\checkpoint\n",
      "625/625 [==============================] - 2s 4ms/step - loss: 0.3370 - accuracy: 0.8571 - val_loss: 0.3475 - val_accuracy: 0.8596\n",
      "Epoch 5/50\n",
      "610/625 [============================>.] - ETA: 0s - loss: 0.3260 - accuracy: 0.8604\n",
      "Epoch 5: val_accuracy improved from 0.85960 to 0.86360, saving model to ./models_spacy_ffnn\\checkpoint\n",
      "625/625 [==============================] - 2s 4ms/step - loss: 0.3263 - accuracy: 0.8599 - val_loss: 0.3415 - val_accuracy: 0.8636\n",
      "Epoch 6/50\n",
      "611/625 [============================>.] - ETA: 0s - loss: 0.3182 - accuracy: 0.8650\n",
      "Epoch 6: val_accuracy did not improve from 0.86360\n",
      "625/625 [==============================] - 2s 3ms/step - loss: 0.3187 - accuracy: 0.8648 - val_loss: 0.3355 - val_accuracy: 0.8552\n",
      "Epoch 7/50\n",
      "620/625 [============================>.] - ETA: 0s - loss: 0.3071 - accuracy: 0.8690\n",
      "Epoch 7: val_accuracy did not improve from 0.86360\n",
      "625/625 [==============================] - 2s 3ms/step - loss: 0.3066 - accuracy: 0.8690 - val_loss: 0.3649 - val_accuracy: 0.8344\n",
      "Epoch 8/50\n",
      "611/625 [============================>.] - ETA: 0s - loss: 0.2963 - accuracy: 0.8777\n",
      "Epoch 8: val_accuracy did not improve from 0.86360\n",
      "625/625 [==============================] - 2s 3ms/step - loss: 0.2959 - accuracy: 0.8781 - val_loss: 0.3503 - val_accuracy: 0.8580\n",
      "Epoch 9/50\n",
      "612/625 [============================>.] - ETA: 0s - loss: 0.2828 - accuracy: 0.8825\n",
      "Epoch 9: val_accuracy did not improve from 0.86360\n",
      "625/625 [==============================] - 2s 3ms/step - loss: 0.2834 - accuracy: 0.8823 - val_loss: 0.3487 - val_accuracy: 0.8554\n",
      "Epoch 10/50\n",
      "618/625 [============================>.] - ETA: 0s - loss: 0.2692 - accuracy: 0.8889\n",
      "Epoch 10: val_accuracy did not improve from 0.86360\n",
      "625/625 [==============================] - 2s 3ms/step - loss: 0.2694 - accuracy: 0.8888 - val_loss: 0.3791 - val_accuracy: 0.8420\n",
      "Epoch 11/50\n",
      "616/625 [============================>.] - ETA: 0s - loss: 0.2541 - accuracy: 0.8944\n",
      "Epoch 11: val_accuracy did not improve from 0.86360\n",
      "625/625 [==============================] - 2s 3ms/step - loss: 0.2541 - accuracy: 0.8942 - val_loss: 0.4714 - val_accuracy: 0.8368\n",
      "Epoch 12/50\n",
      "611/625 [============================>.] - ETA: 0s - loss: 0.2395 - accuracy: 0.8998\n",
      "Epoch 12: val_accuracy did not improve from 0.86360\n",
      "625/625 [==============================] - 2s 3ms/step - loss: 0.2396 - accuracy: 0.8997 - val_loss: 0.3785 - val_accuracy: 0.8550\n",
      "Epoch 13/50\n",
      "616/625 [============================>.] - ETA: 0s - loss: 0.2228 - accuracy: 0.9089\n",
      "Epoch 13: val_accuracy did not improve from 0.86360\n",
      "625/625 [==============================] - 2s 3ms/step - loss: 0.2229 - accuracy: 0.9090 - val_loss: 0.4665 - val_accuracy: 0.8328\n",
      "Epoch 14/50\n",
      "613/625 [============================>.] - ETA: 0s - loss: 0.2111 - accuracy: 0.9125\n",
      "Epoch 14: val_accuracy did not improve from 0.86360\n",
      "625/625 [==============================] - 2s 3ms/step - loss: 0.2109 - accuracy: 0.9126 - val_loss: 0.4325 - val_accuracy: 0.8524\n",
      "Epoch 15/50\n",
      "617/625 [============================>.] - ETA: 0s - loss: 0.1995 - accuracy: 0.9187\n",
      "Epoch 15: val_accuracy did not improve from 0.86360\n",
      "625/625 [==============================] - 2s 3ms/step - loss: 0.1997 - accuracy: 0.9188 - val_loss: 0.5009 - val_accuracy: 0.8506\n",
      "Epoch 16/50\n",
      "623/625 [============================>.] - ETA: 0s - loss: 0.1906 - accuracy: 0.9221\n",
      "Epoch 16: val_accuracy did not improve from 0.86360\n",
      "625/625 [==============================] - 2s 3ms/step - loss: 0.1907 - accuracy: 0.9219 - val_loss: 0.4459 - val_accuracy: 0.8478\n",
      "Epoch 17/50\n",
      "617/625 [============================>.] - ETA: 0s - loss: 0.1740 - accuracy: 0.9289\n",
      "Epoch 17: val_accuracy did not improve from 0.86360\n",
      "625/625 [==============================] - 2s 3ms/step - loss: 0.1755 - accuracy: 0.9284 - val_loss: 0.4545 - val_accuracy: 0.8288\n",
      "Epoch 18/50\n",
      "623/625 [============================>.] - ETA: 0s - loss: 0.1622 - accuracy: 0.9338\n",
      "Epoch 18: val_accuracy did not improve from 0.86360\n",
      "625/625 [==============================] - 2s 3ms/step - loss: 0.1622 - accuracy: 0.9338 - val_loss: 0.4925 - val_accuracy: 0.8462\n",
      "Epoch 19/50\n",
      "622/625 [============================>.] - ETA: 0s - loss: 0.1573 - accuracy: 0.9386\n",
      "Epoch 19: val_accuracy did not improve from 0.86360\n",
      "625/625 [==============================] - 2s 3ms/step - loss: 0.1569 - accuracy: 0.9388 - val_loss: 0.5347 - val_accuracy: 0.8464\n",
      "Epoch 20/50\n",
      "615/625 [============================>.] - ETA: 0s - loss: 0.1417 - accuracy: 0.9435\n",
      "Epoch 20: val_accuracy did not improve from 0.86360\n",
      "625/625 [==============================] - 2s 3ms/step - loss: 0.1420 - accuracy: 0.9434 - val_loss: 0.6637 - val_accuracy: 0.8396\n",
      "Epoch 21/50\n",
      "616/625 [============================>.] - ETA: 0s - loss: 0.1387 - accuracy: 0.9461\n",
      "Epoch 21: val_accuracy did not improve from 0.86360\n",
      "625/625 [==============================] - 2s 3ms/step - loss: 0.1381 - accuracy: 0.9463 - val_loss: 0.6084 - val_accuracy: 0.8492\n",
      "Epoch 22/50\n",
      "610/625 [============================>.] - ETA: 0s - loss: 0.1280 - accuracy: 0.9504\n",
      "Epoch 22: val_accuracy did not improve from 0.86360\n",
      "625/625 [==============================] - 2s 3ms/step - loss: 0.1282 - accuracy: 0.9503 - val_loss: 0.6237 - val_accuracy: 0.8404\n",
      "Epoch 23/50\n",
      "608/625 [============================>.] - ETA: 0s - loss: 0.1212 - accuracy: 0.9521\n",
      "Epoch 23: val_accuracy did not improve from 0.86360\n",
      "625/625 [==============================] - 2s 3ms/step - loss: 0.1211 - accuracy: 0.9524 - val_loss: 0.7531 - val_accuracy: 0.8506\n",
      "Epoch 24/50\n",
      "625/625 [==============================] - ETA: 0s - loss: 0.1123 - accuracy: 0.9581\n",
      "Epoch 24: val_accuracy did not improve from 0.86360\n",
      "625/625 [==============================] - 2s 3ms/step - loss: 0.1123 - accuracy: 0.9581 - val_loss: 0.6290 - val_accuracy: 0.8358\n",
      "Epoch 25/50\n",
      "611/625 [============================>.] - ETA: 0s - loss: 0.1036 - accuracy: 0.9600\n",
      "Epoch 25: val_accuracy did not improve from 0.86360\n",
      "625/625 [==============================] - 2s 3ms/step - loss: 0.1034 - accuracy: 0.9601 - val_loss: 0.7103 - val_accuracy: 0.8432\n",
      "Epoch 26/50\n",
      "620/625 [============================>.] - ETA: 0s - loss: 0.1026 - accuracy: 0.9612\n",
      "Epoch 26: val_accuracy did not improve from 0.86360\n",
      "625/625 [==============================] - 2s 3ms/step - loss: 0.1026 - accuracy: 0.9613 - val_loss: 0.7563 - val_accuracy: 0.8416\n",
      "Epoch 27/50\n",
      "623/625 [============================>.] - ETA: 0s - loss: 0.1019 - accuracy: 0.9616\n",
      "Epoch 27: val_accuracy did not improve from 0.86360\n",
      "625/625 [==============================] - 2s 3ms/step - loss: 0.1018 - accuracy: 0.9617 - val_loss: 0.7112 - val_accuracy: 0.8454\n",
      "Epoch 28/50\n",
      "614/625 [============================>.] - ETA: 0s - loss: 0.0945 - accuracy: 0.9650\n",
      "Epoch 28: val_accuracy did not improve from 0.86360\n",
      "625/625 [==============================] - 2s 3ms/step - loss: 0.0949 - accuracy: 0.9650 - val_loss: 0.7039 - val_accuracy: 0.8392\n",
      "Epoch 29/50\n",
      "618/625 [============================>.] - ETA: 0s - loss: 0.0814 - accuracy: 0.9685\n",
      "Epoch 29: val_accuracy did not improve from 0.86360\n"
     ]
    },
    {
     "name": "stdout",
     "output_type": "stream",
     "text": [
      "625/625 [==============================] - 2s 3ms/step - loss: 0.0814 - accuracy: 0.9686 - val_loss: 0.8625 - val_accuracy: 0.8420\n",
      "Epoch 30/50\n",
      "610/625 [============================>.] - ETA: 0s - loss: 0.0803 - accuracy: 0.9699\n",
      "Epoch 30: val_accuracy did not improve from 0.86360\n",
      "625/625 [==============================] - 2s 3ms/step - loss: 0.0797 - accuracy: 0.9702 - val_loss: 0.9038 - val_accuracy: 0.8434\n",
      "Epoch 31/50\n",
      "612/625 [============================>.] - ETA: 0s - loss: 0.0777 - accuracy: 0.9707\n",
      "Epoch 31: val_accuracy did not improve from 0.86360\n",
      "625/625 [==============================] - 2s 3ms/step - loss: 0.0779 - accuracy: 0.9707 - val_loss: 1.0803 - val_accuracy: 0.8458\n",
      "Epoch 32/50\n",
      "624/625 [============================>.] - ETA: 0s - loss: 0.0744 - accuracy: 0.9725\n",
      "Epoch 32: val_accuracy did not improve from 0.86360\n",
      "625/625 [==============================] - 2s 3ms/step - loss: 0.0744 - accuracy: 0.9725 - val_loss: 0.8516 - val_accuracy: 0.8432\n",
      "Epoch 33/50\n",
      "625/625 [==============================] - ETA: 0s - loss: 0.0711 - accuracy: 0.9732\n",
      "Epoch 33: val_accuracy did not improve from 0.86360\n",
      "625/625 [==============================] - 2s 3ms/step - loss: 0.0711 - accuracy: 0.9732 - val_loss: 1.1073 - val_accuracy: 0.8276\n",
      "Epoch 34/50\n",
      "605/625 [============================>.] - ETA: 0s - loss: 0.0636 - accuracy: 0.9750\n",
      "Epoch 34: val_accuracy did not improve from 0.86360\n",
      "625/625 [==============================] - 2s 3ms/step - loss: 0.0648 - accuracy: 0.9748 - val_loss: 0.7623 - val_accuracy: 0.8352\n",
      "Epoch 35/50\n",
      "611/625 [============================>.] - ETA: 0s - loss: 0.0635 - accuracy: 0.9757\n",
      "Epoch 35: val_accuracy did not improve from 0.86360\n",
      "625/625 [==============================] - 2s 3ms/step - loss: 0.0641 - accuracy: 0.9756 - val_loss: 0.8919 - val_accuracy: 0.8388\n",
      "Epoch 36/50\n",
      "623/625 [============================>.] - ETA: 0s - loss: 0.0586 - accuracy: 0.9782\n",
      "Epoch 36: val_accuracy did not improve from 0.86360\n",
      "625/625 [==============================] - 2s 3ms/step - loss: 0.0586 - accuracy: 0.9782 - val_loss: 0.8794 - val_accuracy: 0.8374\n",
      "Epoch 37/50\n",
      "622/625 [============================>.] - ETA: 0s - loss: 0.0625 - accuracy: 0.9764\n",
      "Epoch 37: val_accuracy did not improve from 0.86360\n",
      "625/625 [==============================] - 2s 3ms/step - loss: 0.0625 - accuracy: 0.9765 - val_loss: 1.0149 - val_accuracy: 0.8356\n",
      "Epoch 38/50\n",
      "612/625 [============================>.] - ETA: 0s - loss: 0.0648 - accuracy: 0.9764\n",
      "Epoch 38: val_accuracy did not improve from 0.86360\n",
      "625/625 [==============================] - 2s 3ms/step - loss: 0.0642 - accuracy: 0.9766 - val_loss: 1.5820 - val_accuracy: 0.8416\n",
      "Epoch 39/50\n",
      "622/625 [============================>.] - ETA: 0s - loss: 0.0683 - accuracy: 0.9754\n",
      "Epoch 39: val_accuracy did not improve from 0.86360\n",
      "625/625 [==============================] - 2s 3ms/step - loss: 0.0681 - accuracy: 0.9754 - val_loss: 0.9528 - val_accuracy: 0.8396\n",
      "Epoch 40/50\n",
      "611/625 [============================>.] - ETA: 0s - loss: 0.0515 - accuracy: 0.9814\n",
      "Epoch 40: val_accuracy did not improve from 0.86360\n",
      "625/625 [==============================] - 2s 3ms/step - loss: 0.0512 - accuracy: 0.9815 - val_loss: 1.4679 - val_accuracy: 0.8364\n",
      "Epoch 41/50\n",
      "610/625 [============================>.] - ETA: 0s - loss: 0.0503 - accuracy: 0.9823\n",
      "Epoch 41: val_accuracy did not improve from 0.86360\n",
      "625/625 [==============================] - 2s 3ms/step - loss: 0.0508 - accuracy: 0.9819 - val_loss: 0.9938 - val_accuracy: 0.8404\n",
      "Epoch 42/50\n",
      "625/625 [==============================] - ETA: 0s - loss: 0.0502 - accuracy: 0.9821\n",
      "Epoch 42: val_accuracy did not improve from 0.86360\n",
      "625/625 [==============================] - 2s 3ms/step - loss: 0.0502 - accuracy: 0.9821 - val_loss: 0.9773 - val_accuracy: 0.8388\n",
      "Epoch 43/50\n",
      "610/625 [============================>.] - ETA: 0s - loss: 0.0526 - accuracy: 0.9808\n",
      "Epoch 43: val_accuracy did not improve from 0.86360\n",
      "625/625 [==============================] - 2s 3ms/step - loss: 0.0517 - accuracy: 0.9811 - val_loss: 2.2017 - val_accuracy: 0.8348\n",
      "Epoch 44/50\n",
      "610/625 [============================>.] - ETA: 0s - loss: 0.0599 - accuracy: 0.9787\n",
      "Epoch 44: val_accuracy did not improve from 0.86360\n",
      "625/625 [==============================] - 2s 3ms/step - loss: 0.0605 - accuracy: 0.9784 - val_loss: 0.9677 - val_accuracy: 0.8418\n",
      "Epoch 45/50\n",
      "613/625 [============================>.] - ETA: 0s - loss: 0.0415 - accuracy: 0.9846\n",
      "Epoch 45: val_accuracy did not improve from 0.86360\n",
      "625/625 [==============================] - 2s 3ms/step - loss: 0.0413 - accuracy: 0.9847 - val_loss: 1.3433 - val_accuracy: 0.8388\n",
      "Epoch 46/50\n",
      "614/625 [============================>.] - ETA: 0s - loss: 0.0464 - accuracy: 0.9837\n",
      "Epoch 46: val_accuracy did not improve from 0.86360\n",
      "625/625 [==============================] - 2s 3ms/step - loss: 0.0464 - accuracy: 0.9836 - val_loss: 1.2756 - val_accuracy: 0.8408\n",
      "Epoch 47/50\n",
      "618/625 [============================>.] - ETA: 0s - loss: 0.0421 - accuracy: 0.9850\n",
      "Epoch 47: val_accuracy did not improve from 0.86360\n",
      "625/625 [==============================] - 2s 3ms/step - loss: 0.0423 - accuracy: 0.9850 - val_loss: 1.3658 - val_accuracy: 0.8326\n",
      "Epoch 48/50\n",
      "620/625 [============================>.] - ETA: 0s - loss: 0.0398 - accuracy: 0.9860\n",
      "Epoch 48: val_accuracy did not improve from 0.86360\n",
      "625/625 [==============================] - 2s 3ms/step - loss: 0.0399 - accuracy: 0.9859 - val_loss: 1.1565 - val_accuracy: 0.8322\n",
      "Epoch 49/50\n",
      "616/625 [============================>.] - ETA: 0s - loss: 0.0419 - accuracy: 0.9852\n",
      "Epoch 49: val_accuracy did not improve from 0.86360\n",
      "625/625 [==============================] - 2s 3ms/step - loss: 0.0417 - accuracy: 0.9852 - val_loss: 1.1687 - val_accuracy: 0.8338\n",
      "Epoch 50/50\n",
      "611/625 [============================>.] - ETA: 0s - loss: 0.0398 - accuracy: 0.9858\n",
      "Epoch 50: val_accuracy did not improve from 0.86360\n",
      "625/625 [==============================] - 2s 3ms/step - loss: 0.0393 - accuracy: 0.9859 - val_loss: 2.1350 - val_accuracy: 0.8306\n"
     ]
    },
    {
     "data": {
      "text/plain": [
       "<keras.callbacks.History at 0x29623cb4a00>"
      ]
     },
     "execution_count": 18,
     "metadata": {},
     "output_type": "execute_result"
    }
   ],
   "source": [
    "model.compile('adam', loss=BinaryCrossentropy(), metrics='accuracy')\n",
    "\n",
    "model.fit(x=train_x,\n",
    "         y=train_y,\n",
    "         batch_size=32,\n",
    "         epochs=50,\n",
    "         validation_data=(val_x, val_y),\n",
    "         callbacks=callbacks)"
   ]
  },
  {
   "cell_type": "code",
   "execution_count": 19,
   "id": "f8634d3c",
   "metadata": {},
   "outputs": [
    {
     "data": {
      "text/plain": [
       "<tensorflow.python.training.tracking.util.CheckpointLoadStatus at 0x296242f2880>"
      ]
     },
     "execution_count": 19,
     "metadata": {},
     "output_type": "execute_result"
    }
   ],
   "source": [
    "model.load_weights('./models_spacy_ffnn/checkpoint')"
   ]
  },
  {
   "cell_type": "code",
   "execution_count": 20,
   "id": "7d64ff2f",
   "metadata": {},
   "outputs": [
    {
     "name": "stdout",
     "output_type": "stream",
     "text": [
      "f1 : 0.890625\n",
      "acc: 0.888\n"
     ]
    },
    {
     "data": {
      "image/png": "[encoded data removed]",
      "text/plain": [
       "<Figure size 432x288 with 2 Axes>"
      ]
     },
     "metadata": {
      "needs_background": "light"
     },
     "output_type": "display_data"
    }
   ],
   "source": [
    "predict_result(model, train_x[:1000], train_y[:1000])"
   ]
  },
  {
   "cell_type": "code",
   "execution_count": 21,
   "id": "39a4d075",
   "metadata": {},
   "outputs": [
    {
     "name": "stdout",
     "output_type": "stream",
     "text": [
      "f1 : 0.854632972322503\n",
      "acc: 0.85504\n"
     ]
    },
    {
     "data": {
      "image/png": "[encoded data removed]",
      "text/plain": [
       "<Figure size 432x288 with 2 Axes>"
      ]
     },
     "metadata": {
      "needs_background": "light"
     },
     "output_type": "display_data"
    }
   ],
   "source": [
    "predict_result(model, test_x, test_y)"
   ]
  },
  {
   "cell_type": "markdown",
   "id": "edfc07a5",
   "metadata": {},
   "source": [
    "# Feature 3 (Text to Sequences)"
   ]
  },
  {
   "cell_type": "code",
   "execution_count": 22,
   "id": "48b97d89",
   "metadata": {},
   "outputs": [],
   "source": [
    "def get_sequences_and_one_hot(df):\n",
    "    sequences = tokenizer.texts_to_sequences(df['text'].values)\n",
    "    x = pad_sequences(sequences, maxlen=max_words)\n",
    "    y = df['label'].apply(one_hot).tolist()\n",
    "    y = np.array(y)\n",
    "    return x, y"
   ]
  },
  {
   "cell_type": "code",
   "execution_count": 23,
   "id": "a0f03db1",
   "metadata": {},
   "outputs": [],
   "source": [
    "train_val_x, train_val_y = get_sequences_and_one_hot(train_df)\n",
    "test_x, test_y = get_sequences_and_one_hot(test_df)"
   ]
  },
  {
   "cell_type": "code",
   "execution_count": 24,
   "id": "60100106",
   "metadata": {},
   "outputs": [],
   "source": [
    "train_x, val_x = train_val_x[:train_len], train_val_x[train_len:]\n",
    "train_y, val_y = train_val_y[:train_len], train_val_y[train_len:]"
   ]
  },
  {
   "cell_type": "markdown",
   "id": "043170bf",
   "metadata": {},
   "source": [
    "# Model 3 (LSTM)"
   ]
  },
  {
   "cell_type": "code",
   "execution_count": 25,
   "id": "458106b9",
   "metadata": {},
   "outputs": [
    {
     "name": "stdout",
     "output_type": "stream",
     "text": [
      "Model: \"sequential_2\"\n",
      "_________________________________________________________________\n",
      " Layer (type)                Output Shape              Param #   \n",
      "=================================================================\n",
      " embedding (Embedding)       (None, 300, 300)          76800     \n",
      "                                                                 \n",
      " lstm (LSTM)                 (None, 128)               219648    \n",
      "                                                                 \n",
      " dropout_5 (Dropout)         (None, 128)               0         \n",
      "                                                                 \n",
      " dense_10 (Dense)            (None, 64)                8256      \n",
      "                                                                 \n",
      " dropout_6 (Dropout)         (None, 64)                0         \n",
      "                                                                 \n",
      " dense_11 (Dense)            (None, 64)                4160      \n",
      "                                                                 \n",
      " dropout_7 (Dropout)         (None, 64)                0         \n",
      "                                                                 \n",
      " dense_12 (Dense)            (None, 2)                 130       \n",
      "                                                                 \n",
      "=================================================================\n",
      "Total params: 308,994\n",
      "Trainable params: 308,994\n",
      "Non-trainable params: 0\n",
      "_________________________________________________________________\n"
     ]
    }
   ],
   "source": [
    "model = Sequential([\n",
    "    Embedding(256, embedding_size, input_length=max_words),\n",
    "    LSTM(128),\n",
    "    Dropout(0.2),\n",
    "    Dense(64, activation='relu'),\n",
    "    Dropout(0.2),\n",
    "    Dense(64, activation='relu'),\n",
    "    Dropout(0.2),\n",
    "    Dense(2, activation='sigmoid')\n",
    "])\n",
    "\n",
    "callbacks=[\n",
    "    ModelCheckpoint(filepath='./models_t2s_lstm/checkpoint',\n",
    "                   save_best_only=True, save_weights_only=True, verbose=1,monitor='val_accuracy')\n",
    "]\n",
    "\n",
    "model.summary()"
   ]
  },
  {
   "cell_type": "code",
   "execution_count": 26,
   "id": "70966035",
   "metadata": {},
   "outputs": [
    {
     "name": "stdout",
     "output_type": "stream",
     "text": [
      "Epoch 1/10\n",
      "77/79 [============================>.] - ETA: 0s - loss: 0.5955 - accuracy: 0.6818\n",
      "Epoch 1: val_accuracy improved from -inf to 0.75880, saving model to ./models_t2s_lstm\\checkpoint\n",
      "79/79 [==============================] - 5s 37ms/step - loss: 0.5937 - accuracy: 0.6835 - val_loss: 0.5143 - val_accuracy: 0.7588\n",
      "Epoch 2/10\n",
      "77/79 [============================>.] - ETA: 0s - loss: 0.4783 - accuracy: 0.7791\n",
      "Epoch 2: val_accuracy improved from 0.75880 to 0.78300, saving model to ./models_t2s_lstm\\checkpoint\n",
      "79/79 [==============================] - 3s 34ms/step - loss: 0.4781 - accuracy: 0.7790 - val_loss: 0.4592 - val_accuracy: 0.7830\n",
      "Epoch 3/10\n",
      "79/79 [==============================] - ETA: 0s - loss: 0.4620 - accuracy: 0.7858\n",
      "Epoch 3: val_accuracy did not improve from 0.78300\n",
      "79/79 [==============================] - 2s 31ms/step - loss: 0.4620 - accuracy: 0.7858 - val_loss: 0.5066 - val_accuracy: 0.7748\n",
      "Epoch 4/10\n",
      "79/79 [==============================] - ETA: 0s - loss: 0.4494 - accuracy: 0.7955\n",
      "Epoch 4: val_accuracy did not improve from 0.78300\n",
      "79/79 [==============================] - 3s 32ms/step - loss: 0.4494 - accuracy: 0.7955 - val_loss: 0.4940 - val_accuracy: 0.7790\n",
      "Epoch 5/10\n",
      "79/79 [==============================] - ETA: 0s - loss: 0.4530 - accuracy: 0.7908\n",
      "Epoch 5: val_accuracy did not improve from 0.78300\n",
      "79/79 [==============================] - 3s 32ms/step - loss: 0.4530 - accuracy: 0.7908 - val_loss: 0.4778 - val_accuracy: 0.7740\n",
      "Epoch 6/10\n",
      "77/79 [============================>.] - ETA: 0s - loss: 0.4471 - accuracy: 0.7947\n",
      "Epoch 6: val_accuracy did not improve from 0.78300\n",
      "79/79 [==============================] - 3s 32ms/step - loss: 0.4476 - accuracy: 0.7946 - val_loss: 0.4981 - val_accuracy: 0.7580\n",
      "Epoch 7/10\n",
      "79/79 [==============================] - ETA: 0s - loss: 0.4572 - accuracy: 0.7860\n",
      "Epoch 7: val_accuracy did not improve from 0.78300\n",
      "79/79 [==============================] - 3s 32ms/step - loss: 0.4572 - accuracy: 0.7860 - val_loss: 0.5219 - val_accuracy: 0.7648\n",
      "Epoch 8/10\n",
      "78/79 [============================>.] - ETA: 0s - loss: 0.4438 - accuracy: 0.7951\n",
      "Epoch 8: val_accuracy did not improve from 0.78300\n",
      "79/79 [==============================] - 2s 31ms/step - loss: 0.4439 - accuracy: 0.7951 - val_loss: 0.4727 - val_accuracy: 0.7672\n",
      "Epoch 9/10\n",
      "79/79 [==============================] - ETA: 0s - loss: 0.4403 - accuracy: 0.7974\n",
      "Epoch 9: val_accuracy did not improve from 0.78300\n",
      "79/79 [==============================] - 3s 32ms/step - loss: 0.4403 - accuracy: 0.7974 - val_loss: 0.4666 - val_accuracy: 0.7742\n",
      "Epoch 10/10\n",
      "78/79 [============================>.] - ETA: 0s - loss: 0.4309 - accuracy: 0.8019\n",
      "Epoch 10: val_accuracy did not improve from 0.78300\n",
      "79/79 [==============================] - 2s 31ms/step - loss: 0.4310 - accuracy: 0.8018 - val_loss: 0.5057 - val_accuracy: 0.7598\n"
     ]
    },
    {
     "data": {
      "text/plain": [
       "<keras.callbacks.History at 0x296260b7bb0>"
      ]
     },
     "execution_count": 26,
     "metadata": {},
     "output_type": "execute_result"
    }
   ],
   "source": [
    "model.compile('adam', loss=BinaryCrossentropy(), metrics='accuracy')\n",
    "\n",
    "model.fit(x=train_x,\n",
    "         y=train_y,\n",
    "         batch_size=256,\n",
    "         epochs=10,\n",
    "         validation_data=(val_x, val_y),\n",
    "         callbacks=callbacks)"
   ]
  },
  {
   "cell_type": "code",
   "execution_count": 27,
   "id": "ddadf5f1",
   "metadata": {},
   "outputs": [
    {
     "data": {
      "text/plain": [
       "<tensorflow.python.training.tracking.util.CheckpointLoadStatus at 0x296260be3d0>"
      ]
     },
     "execution_count": 27,
     "metadata": {},
     "output_type": "execute_result"
    }
   ],
   "source": [
    "model.load_weights('./models_t2s_lstm/checkpoint')"
   ]
  },
  {
   "cell_type": "code",
   "execution_count": 28,
   "id": "0a4daaa4",
   "metadata": {},
   "outputs": [
    {
     "name": "stdout",
     "output_type": "stream",
     "text": [
      "f1 : 0.8156097560975609\n",
      "acc: 0.811\n"
     ]
    },
    {
     "data": {
      "image/png": "[encoded data removed]",
      "text/plain": [
       "<Figure size 432x288 with 2 Axes>"
      ]
     },
     "metadata": {
      "needs_background": "light"
     },
     "output_type": "display_data"
    }
   ],
   "source": [
    "predict_result(model, train_x[:1000], train_y[:1000])"
   ]
  },
  {
   "cell_type": "code",
   "execution_count": 29,
   "id": "1becb778",
   "metadata": {},
   "outputs": [
    {
     "name": "stdout",
     "output_type": "stream",
     "text": [
      "f1 : 0.7897383515361044\n",
      "acc: 0.78592\n"
     ]
    },
    {
     "data": {
      "image/png": "[encoded data removed]",
      "text/plain": [
       "<Figure size 432x288 with 2 Axes>"
      ]
     },
     "metadata": {
      "needs_background": "light"
     },
     "output_type": "display_data"
    }
   ],
   "source": [
    "predict_result(model, test_x, test_y)"
   ]
  },
  {
   "cell_type": "markdown",
   "id": "c369556c",
   "metadata": {},
   "source": [
    "# Model 3 (GRU)"
   ]
  },
  {
   "cell_type": "code",
   "execution_count": 30,
   "id": "0ac99d51",
   "metadata": {},
   "outputs": [
    {
     "name": "stdout",
     "output_type": "stream",
     "text": [
      "Model: \"sequential_3\"\n",
      "_________________________________________________________________\n",
      " Layer (type)                Output Shape              Param #   \n",
      "=================================================================\n",
      " embedding_1 (Embedding)     (None, 300, 300)          76800     \n",
      "                                                                 \n",
      " gru (GRU)                   (None, 128)               165120    \n",
      "                                                                 \n",
      " dropout_8 (Dropout)         (None, 128)               0         \n",
      "                                                                 \n",
      " dense_13 (Dense)            (None, 64)                8256      \n",
      "                                                                 \n",
      " dropout_9 (Dropout)         (None, 64)                0         \n",
      "                                                                 \n",
      " dense_14 (Dense)            (None, 2)                 130       \n",
      "                                                                 \n",
      "=================================================================\n",
      "Total params: 250,306\n",
      "Trainable params: 250,306\n",
      "Non-trainable params: 0\n",
      "_________________________________________________________________\n"
     ]
    }
   ],
   "source": [
    "model = Sequential([\n",
    "    Embedding(256, embedding_size, input_length=max_words),\n",
    "    GRU(128),\n",
    "    Dropout(0.4),\n",
    "    Dense(64, activation='relu'),\n",
    "    Dropout(0.4),\n",
    "    Dense(2, activation='sigmoid')\n",
    "])\n",
    "\n",
    "callbacks=[\n",
    "    ModelCheckpoint(filepath='./models_t2s_gru/checkpoint',\n",
    "                   save_best_only=True, save_weights_only=True, verbose=1,monitor='val_accuracy')\n",
    "]\n",
    "\n",
    "model.summary()"
   ]
  },
  {
   "cell_type": "code",
   "execution_count": 31,
   "id": "8fbec0fd",
   "metadata": {},
   "outputs": [
    {
     "name": "stdout",
     "output_type": "stream",
     "text": [
      "Epoch 1/10\n",
      "157/157 [==============================] - ETA: 0s - loss: 0.6264 - accuracy: 0.6444\n",
      "Epoch 1: val_accuracy improved from -inf to 0.74580, saving model to ./models_t2s_gru\\checkpoint\n",
      "157/157 [==============================] - 6s 30ms/step - loss: 0.6264 - accuracy: 0.6444 - val_loss: 0.5103 - val_accuracy: 0.7458\n",
      "Epoch 2/10\n",
      "156/157 [============================>.] - ETA: 0s - loss: 0.4891 - accuracy: 0.7727\n",
      "Epoch 2: val_accuracy improved from 0.74580 to 0.77280, saving model to ./models_t2s_gru\\checkpoint\n",
      "157/157 [==============================] - 4s 28ms/step - loss: 0.4891 - accuracy: 0.7727 - val_loss: 0.4768 - val_accuracy: 0.7728\n",
      "Epoch 3/10\n",
      "156/157 [============================>.] - ETA: 0s - loss: 0.4655 - accuracy: 0.7884\n",
      "Epoch 3: val_accuracy improved from 0.77280 to 0.78340, saving model to ./models_t2s_gru\\checkpoint\n",
      "157/157 [==============================] - 4s 27ms/step - loss: 0.4655 - accuracy: 0.7885 - val_loss: 0.4543 - val_accuracy: 0.7834\n",
      "Epoch 4/10\n",
      "156/157 [============================>.] - ETA: 0s - loss: 0.4557 - accuracy: 0.7914\n",
      "Epoch 4: val_accuracy did not improve from 0.78340\n",
      "157/157 [==============================] - 4s 27ms/step - loss: 0.4558 - accuracy: 0.7912 - val_loss: 0.4558 - val_accuracy: 0.7814\n",
      "Epoch 5/10\n",
      "155/157 [============================>.] - ETA: 0s - loss: 0.4464 - accuracy: 0.7956\n",
      "Epoch 5: val_accuracy improved from 0.78340 to 0.78420, saving model to ./models_t2s_gru\\checkpoint\n",
      "157/157 [==============================] - 5s 30ms/step - loss: 0.4471 - accuracy: 0.7952 - val_loss: 0.4535 - val_accuracy: 0.7842\n",
      "Epoch 6/10\n",
      "156/157 [============================>.] - ETA: 0s - loss: 0.4318 - accuracy: 0.8047\n",
      "Epoch 6: val_accuracy did not improve from 0.78420\n",
      "157/157 [==============================] - 5s 29ms/step - loss: 0.4318 - accuracy: 0.8047 - val_loss: 0.4544 - val_accuracy: 0.7814\n",
      "Epoch 7/10\n",
      "156/157 [============================>.] - ETA: 0s - loss: 0.4238 - accuracy: 0.8063\n",
      "Epoch 7: val_accuracy did not improve from 0.78420\n",
      "157/157 [==============================] - 4s 28ms/step - loss: 0.4237 - accuracy: 0.8063 - val_loss: 0.4642 - val_accuracy: 0.7808\n",
      "Epoch 8/10\n",
      "156/157 [============================>.] - ETA: 0s - loss: 0.4229 - accuracy: 0.8068\n",
      "Epoch 8: val_accuracy did not improve from 0.78420\n",
      "157/157 [==============================] - 4s 28ms/step - loss: 0.4227 - accuracy: 0.8070 - val_loss: 0.4549 - val_accuracy: 0.7824\n",
      "Epoch 9/10\n",
      "156/157 [============================>.] - ETA: 0s - loss: 0.4167 - accuracy: 0.8094\n",
      "Epoch 9: val_accuracy did not improve from 0.78420\n",
      "157/157 [==============================] - 4s 27ms/step - loss: 0.4167 - accuracy: 0.8094 - val_loss: 0.4578 - val_accuracy: 0.7812\n",
      "Epoch 10/10\n",
      "155/157 [============================>.] - ETA: 0s - loss: 0.4096 - accuracy: 0.8109\n",
      "Epoch 10: val_accuracy did not improve from 0.78420\n",
      "157/157 [==============================] - 4s 27ms/step - loss: 0.4095 - accuracy: 0.8111 - val_loss: 0.4577 - val_accuracy: 0.7760\n"
     ]
    },
    {
     "data": {
      "text/plain": [
       "<keras.callbacks.History at 0x294bc435ca0>"
      ]
     },
     "execution_count": 31,
     "metadata": {},
     "output_type": "execute_result"
    }
   ],
   "source": [
    "model.compile('adam', loss=BinaryCrossentropy(), metrics='accuracy')\n",
    "\n",
    "model.fit(x=train_x,\n",
    "         y=train_y,\n",
    "         batch_size=128,\n",
    "         epochs=10,\n",
    "         validation_data=(val_x, val_y),\n",
    "         callbacks=callbacks)"
   ]
  },
  {
   "cell_type": "code",
   "execution_count": 32,
   "id": "9692c8d2",
   "metadata": {},
   "outputs": [
    {
     "data": {
      "text/plain": [
       "<tensorflow.python.training.tracking.util.CheckpointLoadStatus at 0x298077a8c70>"
      ]
     },
     "execution_count": 32,
     "metadata": {},
     "output_type": "execute_result"
    }
   ],
   "source": [
    "model.load_weights('./models_t2s_gru/checkpoint')"
   ]
  },
  {
   "cell_type": "code",
   "execution_count": 33,
   "id": "ff15827e",
   "metadata": {
    "scrolled": true
   },
   "outputs": [
    {
     "name": "stdout",
     "output_type": "stream",
     "text": [
      "f1 : 0.8354935194416749\n",
      "acc: 0.835\n"
     ]
    },
    {
     "data": {
      "image/png": "[encoded data removed]",
      "text/plain": [
       "<Figure size 432x288 with 2 Axes>"
      ]
     },
     "metadata": {
      "needs_background": "light"
     },
     "output_type": "display_data"
    }
   ],
   "source": [
    "predict_result(model, train_x[:1000], train_y[:1000])"
   ]
  },
  {
   "cell_type": "code",
   "execution_count": 34,
   "id": "aa1c0d45",
   "metadata": {},
   "outputs": [
    {
     "name": "stdout",
     "output_type": "stream",
     "text": [
      "f1 : 0.7884201551017094\n",
      "acc: 0.79156\n"
     ]
    },
    {
     "data": {
      "image/png": "[encoded data removed]",
      "text/plain": [
       "<Figure size 432x288 with 2 Axes>"
      ]
     },
     "metadata": {
      "needs_background": "light"
     },
     "output_type": "display_data"
    }
   ],
   "source": [
    "predict_result(model, test_x, test_y)"
   ]
  },
  {
   "cell_type": "markdown",
   "id": "a972fac1",
   "metadata": {},
   "source": [
    "# Model 4 (Bi-LSTM)"
   ]
  },
  {
   "cell_type": "code",
   "execution_count": 35,
   "id": "e8eb82f7",
   "metadata": {},
   "outputs": [
    {
     "name": "stdout",
     "output_type": "stream",
     "text": [
      "Model: \"sequential_4\"\n",
      "_________________________________________________________________\n",
      " Layer (type)                Output Shape              Param #   \n",
      "=================================================================\n",
      " embedding_2 (Embedding)     (None, 300, 300)          76800     \n",
      "                                                                 \n",
      " bidirectional (Bidirectiona  (None, 512)              1140736   \n",
      " l)                                                              \n",
      "                                                                 \n",
      " dropout_10 (Dropout)        (None, 512)               0         \n",
      "                                                                 \n",
      " dense_15 (Dense)            (None, 64)                32832     \n",
      "                                                                 \n",
      " dropout_11 (Dropout)        (None, 64)                0         \n",
      "                                                                 \n",
      " dense_16 (Dense)            (None, 2)                 130       \n",
      "                                                                 \n",
      "=================================================================\n",
      "Total params: 1,250,498\n",
      "Trainable params: 1,250,498\n",
      "Non-trainable params: 0\n",
      "_________________________________________________________________\n"
     ]
    }
   ],
   "source": [
    "model = Sequential([\n",
    "    Embedding(256, embedding_size, input_length=max_words),\n",
    "    Bidirectional(LSTM(256)),\n",
    "    Dropout(0.4),\n",
    "    Dense(64, activation='relu'),\n",
    "    Dropout(0.4),\n",
    "    Dense(2, activation='sigmoid')\n",
    "])\n",
    "\n",
    "callbacks=[\n",
    "    ModelCheckpoint(filepath='./models_t2s_bilstm/checkpoint',\n",
    "                   save_best_only=True, save_weights_only=True, verbose=1,monitor='val_accuracy')\n",
    "]\n",
    "\n",
    "model.summary()"
   ]
  },
  {
   "cell_type": "code",
   "execution_count": 36,
   "id": "be9eb1e8",
   "metadata": {},
   "outputs": [
    {
     "name": "stdout",
     "output_type": "stream",
     "text": [
      "Epoch 1/10\n",
      "156/157 [============================>.] - ETA: 0s - loss: 0.5958 - accuracy: 0.6832\n",
      "Epoch 1: val_accuracy improved from -inf to 0.66580, saving model to ./models_t2s_bilstm\\checkpoint\n",
      "157/157 [==============================] - 12s 63ms/step - loss: 0.5958 - accuracy: 0.6833 - val_loss: 0.6160 - val_accuracy: 0.6658\n",
      "Epoch 2/10\n",
      "156/157 [============================>.] - ETA: 0s - loss: 0.5239 - accuracy: 0.7516\n",
      "Epoch 2: val_accuracy improved from 0.66580 to 0.76880, saving model to ./models_t2s_bilstm\\checkpoint\n",
      "157/157 [==============================] - 9s 60ms/step - loss: 0.5239 - accuracy: 0.7517 - val_loss: 0.4863 - val_accuracy: 0.7688\n",
      "Epoch 3/10\n",
      "156/157 [============================>.] - ETA: 0s - loss: 0.4739 - accuracy: 0.7835\n",
      "Epoch 3: val_accuracy improved from 0.76880 to 0.77760, saving model to ./models_t2s_bilstm\\checkpoint\n",
      "157/157 [==============================] - 9s 61ms/step - loss: 0.4739 - accuracy: 0.7834 - val_loss: 0.4666 - val_accuracy: 0.7776\n",
      "Epoch 4/10\n",
      "156/157 [============================>.] - ETA: 0s - loss: 0.4654 - accuracy: 0.7881\n",
      "Epoch 4: val_accuracy did not improve from 0.77760\n",
      "157/157 [==============================] - 9s 59ms/step - loss: 0.4654 - accuracy: 0.7882 - val_loss: 0.4821 - val_accuracy: 0.7732\n",
      "Epoch 5/10\n",
      "156/157 [============================>.] - ETA: 0s - loss: 0.4746 - accuracy: 0.7821\n",
      "Epoch 5: val_accuracy did not improve from 0.77760\n",
      "157/157 [==============================] - 9s 60ms/step - loss: 0.4744 - accuracy: 0.7822 - val_loss: 0.4789 - val_accuracy: 0.7748\n",
      "Epoch 6/10\n",
      "156/157 [============================>.] - ETA: 0s - loss: 0.4495 - accuracy: 0.7947\n",
      "Epoch 6: val_accuracy did not improve from 0.77760\n",
      "157/157 [==============================] - 9s 60ms/step - loss: 0.4495 - accuracy: 0.7947 - val_loss: 0.4897 - val_accuracy: 0.7704\n",
      "Epoch 7/10\n",
      "157/157 [==============================] - ETA: 0s - loss: 0.4483 - accuracy: 0.7961\n",
      "Epoch 7: val_accuracy did not improve from 0.77760\n",
      "157/157 [==============================] - 9s 60ms/step - loss: 0.4483 - accuracy: 0.7961 - val_loss: 0.4719 - val_accuracy: 0.7670\n",
      "Epoch 8/10\n",
      "157/157 [==============================] - ETA: 0s - loss: 0.4439 - accuracy: 0.7944\n",
      "Epoch 8: val_accuracy did not improve from 0.77760\n",
      "157/157 [==============================] - 9s 60ms/step - loss: 0.4439 - accuracy: 0.7944 - val_loss: 0.4624 - val_accuracy: 0.7750\n",
      "Epoch 9/10\n",
      "156/157 [============================>.] - ETA: 0s - loss: 0.4435 - accuracy: 0.7939\n",
      "Epoch 9: val_accuracy did not improve from 0.77760\n",
      "157/157 [==============================] - 9s 60ms/step - loss: 0.4433 - accuracy: 0.7940 - val_loss: 0.5075 - val_accuracy: 0.7620\n",
      "Epoch 10/10\n",
      "156/157 [============================>.] - ETA: 0s - loss: 0.4340 - accuracy: 0.8024\n",
      "Epoch 10: val_accuracy did not improve from 0.77760\n",
      "157/157 [==============================] - 9s 59ms/step - loss: 0.4338 - accuracy: 0.8026 - val_loss: 0.5045 - val_accuracy: 0.7742\n"
     ]
    },
    {
     "data": {
      "text/plain": [
       "<keras.callbacks.History at 0x294bcfc99d0>"
      ]
     },
     "execution_count": 36,
     "metadata": {},
     "output_type": "execute_result"
    }
   ],
   "source": [
    "model.compile('adam', loss=BinaryCrossentropy(), metrics='accuracy')\n",
    "\n",
    "model.fit(x=train_x,\n",
    "         y=train_y,\n",
    "         batch_size=128,\n",
    "         epochs=10,\n",
    "         validation_data=(val_x, val_y),\n",
    "         callbacks=callbacks)"
   ]
  },
  {
   "cell_type": "code",
   "execution_count": 37,
   "id": "4c7d85e9",
   "metadata": {},
   "outputs": [
    {
     "data": {
      "text/plain": [
       "<tensorflow.python.training.tracking.util.CheckpointLoadStatus at 0x294bcea1160>"
      ]
     },
     "execution_count": 37,
     "metadata": {},
     "output_type": "execute_result"
    }
   ],
   "source": [
    "model.load_weights('./models_t2s_bilstm/checkpoint')"
   ]
  },
  {
   "cell_type": "code",
   "execution_count": 38,
   "id": "613abd49",
   "metadata": {},
   "outputs": [
    {
     "name": "stdout",
     "output_type": "stream",
     "text": [
      "f1 : 0.821811100292113\n",
      "acc: 0.817\n"
     ]
    },
    {
     "data": {
      "image/png": "[encoded data removed]",
      "text/plain": [
       "<Figure size 432x288 with 2 Axes>"
      ]
     },
     "metadata": {
      "needs_background": "light"
     },
     "output_type": "display_data"
    }
   ],
   "source": [
    "predict_result(model, train_x[:1000], train_y[:1000])"
   ]
  },
  {
   "cell_type": "code",
   "execution_count": 39,
   "id": "08ebffe5",
   "metadata": {},
   "outputs": [
    {
     "name": "stdout",
     "output_type": "stream",
     "text": [
      "f1 : 0.7905548996458087\n",
      "acc: 0.78712\n"
     ]
    },
    {
     "data": {
      "image/png": "[encoded data removed]",
      "text/plain": [
       "<Figure size 432x288 with 2 Axes>"
      ]
     },
     "metadata": {
      "needs_background": "light"
     },
     "output_type": "display_data"
    }
   ],
   "source": [
    "predict_result(model, test_x, test_y)"
   ]
  },
  {
   "cell_type": "markdown",
   "id": "315550f2",
   "metadata": {},
   "source": [
    "# Feature 3 (Glove Embeddings)"
   ]
  },
  {
   "cell_type": "code",
   "execution_count": 40,
   "id": "6027bd15",
   "metadata": {},
   "outputs": [
    {
     "data": {
      "application/vnd.jupyter.widget-view+json": {
       "model_id": "19a0170161974722834981d3ac5cd4a4",
       "version_major": 2,
       "version_minor": 0
      },
      "text/plain": [
       "0it [00:00, ?it/s]"
      ]
     },
     "metadata": {},
     "output_type": "display_data"
    },
    {
     "data": {
      "text/plain": [
       "1917494"
      ]
     },
     "execution_count": 40,
     "metadata": {},
     "output_type": "execute_result"
    }
   ],
   "source": [
    "path = './glove.42B.300d/glove.42B.300d.txt'\n",
    "\n",
    "embeddings_index = {}\n",
    "\n",
    "with open(path, encoding='utf8') as f:\n",
    "    for line in tqdm_notebook(f):\n",
    "        word, coef = line.split(maxsplit=1)\n",
    "        coef = np.fromstring(coef, 'f', sep=' ')\n",
    "        embeddings_index[word] = coef\n",
    "        \n",
    "len(embeddings_index)"
   ]
  },
  {
   "cell_type": "code",
   "execution_count": 41,
   "id": "55fc6de8",
   "metadata": {},
   "outputs": [
    {
     "name": "stdout",
     "output_type": "stream",
     "text": [
      "Converted 18943 words (1057 misses)\n"
     ]
    }
   ],
   "source": [
    "embedding_dim = 300\n",
    "\n",
    "num_tokens = len(vocab) + 2\n",
    "\n",
    "hits = 0\n",
    "misses = 0\n",
    "\n",
    "# Prepare embedding matrix\n",
    "embedding_matrix = np.zeros((num_tokens, embedding_dim))\n",
    "\n",
    "for word, i in word_index.items():\n",
    "    embedding_vector = embeddings_index.get(word)\n",
    "    if embedding_vector is not None :\n",
    "        # Words not found in embedding index will be all-zeros.\n",
    "        # This includes the representation for \"padding\" and \"OOV\"\n",
    "        embedding_matrix[i] = embedding_vector\n",
    "        hits += 1\n",
    "    else:\n",
    "        misses += 1\n",
    "print(\"Converted %d words (%d misses)\" % (hits, misses))"
   ]
  },
  {
   "cell_type": "code",
   "execution_count": 42,
   "id": "a123a9ba",
   "metadata": {},
   "outputs": [],
   "source": [
    "def get_vector_and_one_hot(df):\n",
    "    x = vectorizer(np.array([[s] for s in tqdm_notebook(df['text'])])).numpy() \n",
    "    y = df['label'].apply(one_hot).tolist()\n",
    "    y = np.array(y)\n",
    "    return x, y"
   ]
  },
  {
   "cell_type": "code",
   "execution_count": 43,
   "id": "36bad41f",
   "metadata": {},
   "outputs": [
    {
     "data": {
      "application/vnd.jupyter.widget-view+json": {
       "model_id": "62c7f78c0d6a420ab89416319c7a00b4",
       "version_major": 2,
       "version_minor": 0
      },
      "text/plain": [
       "  0%|          | 0/25000 [00:00<?, ?it/s]"
      ]
     },
     "metadata": {},
     "output_type": "display_data"
    },
    {
     "data": {
      "application/vnd.jupyter.widget-view+json": {
       "model_id": "cadf7f36601f4fa1ad92d12177416329",
       "version_major": 2,
       "version_minor": 0
      },
      "text/plain": [
       "  0%|          | 0/25000 [00:00<?, ?it/s]"
      ]
     },
     "metadata": {},
     "output_type": "display_data"
    }
   ],
   "source": [
    "train_val_x, train_val_y = get_vector_and_one_hot(train_df)\n",
    "test_x, test_y = get_vector_and_one_hot(test_df)"
   ]
  },
  {
   "cell_type": "code",
   "execution_count": 44,
   "id": "711083fe",
   "metadata": {},
   "outputs": [],
   "source": [
    "train_x, val_x = train_val_x[:train_len], train_val_x[train_len:]\n",
    "train_y, val_y = train_val_y[:train_len], train_val_y[train_len:]"
   ]
  },
  {
   "cell_type": "markdown",
   "id": "f12abb91",
   "metadata": {},
   "source": [
    "# Model 4 "
   ]
  },
  {
   "cell_type": "code",
   "execution_count": 45,
   "id": "5123dcf4",
   "metadata": {
    "scrolled": true
   },
   "outputs": [
    {
     "name": "stdout",
     "output_type": "stream",
     "text": [
      "Model: \"model\"\n",
      "_________________________________________________________________\n",
      " Layer (type)                Output Shape              Param #   \n",
      "=================================================================\n",
      " input_1 (InputLayer)        [(None, None)]            0         \n",
      "                                                                 \n",
      " embedding_3 (Embedding)     (None, None, 300)         6000600   \n",
      "                                                                 \n",
      " dense_17 (Dense)            (None, None, 256)         77056     \n",
      "                                                                 \n",
      " dropout_12 (Dropout)        (None, None, 256)         0         \n",
      "                                                                 \n",
      " dense_18 (Dense)            (None, None, 256)         65792     \n",
      "                                                                 \n",
      " dropout_13 (Dropout)        (None, None, 256)         0         \n",
      "                                                                 \n",
      " dense_19 (Dense)            (None, None, 256)         65792     \n",
      "                                                                 \n",
      " global_max_pooling1d (Globa  (None, 256)              0         \n",
      " lMaxPooling1D)                                                  \n",
      "                                                                 \n",
      " dense_20 (Dense)            (None, 2)                 514       \n",
      "                                                                 \n",
      "=================================================================\n",
      "Total params: 6,209,754\n",
      "Trainable params: 209,154\n",
      "Non-trainable params: 6,000,600\n",
      "_________________________________________________________________\n"
     ]
    }
   ],
   "source": [
    "embedding_layer = Embedding(\n",
    "    num_tokens,\n",
    "    embedding_dim,\n",
    "    embeddings_initializer=tf.keras.initializers.Constant(embedding_matrix),\n",
    "    trainable=False,\n",
    ")\n",
    "int_sequences_input = tf.keras.Input(shape=(None,), dtype=\"int64\")\n",
    "embedded_sequences = embedding_layer(int_sequences_input)\n",
    "x = Dense(256, activation=\"relu\")(embedded_sequences)\n",
    "x = Dropout(0.5)(x)\n",
    "x = Dense(256, activation=\"relu\")(x)\n",
    "x = Dropout(0.5)(x)\n",
    "x = Dense(256, activation=\"relu\")(x)\n",
    "x = GlobalMaxPooling1D()(x)\n",
    "\n",
    "preds = Dense(2, activation=\"sigmoid\")(x)\n",
    "\n",
    "model = tf.keras.Model(int_sequences_input, preds)\n",
    "\n",
    "callbacks=[\n",
    "    ModelCheckpoint(filepath='./models_glove_ffnn/checkpoint',\n",
    "                   save_best_only=True, save_weights_only=True, verbose=1,monitor='val_accuracy')\n",
    "]\n",
    "\n",
    "model.summary()"
   ]
  },
  {
   "cell_type": "code",
   "execution_count": 46,
   "id": "3a0420cc",
   "metadata": {},
   "outputs": [
    {
     "name": "stdout",
     "output_type": "stream",
     "text": [
      "Epoch 1/100\n",
      "156/157 [============================>.] - ETA: 0s - loss: 0.5049 - accuracy: 0.7475\n",
      "Epoch 1: val_accuracy improved from -inf to 0.80060, saving model to ./models_glove_ffnn\\checkpoint\n",
      "157/157 [==============================] - 3s 17ms/step - loss: 0.5047 - accuracy: 0.7477 - val_loss: 0.4465 - val_accuracy: 0.8006\n",
      "Epoch 2/100\n",
      "154/157 [============================>.] - ETA: 0s - loss: 0.3700 - accuracy: 0.8402\n",
      "Epoch 2: val_accuracy improved from 0.80060 to 0.80560, saving model to ./models_glove_ffnn\\checkpoint\n",
      "157/157 [==============================] - 3s 16ms/step - loss: 0.3695 - accuracy: 0.8406 - val_loss: 0.4546 - val_accuracy: 0.8056\n",
      "Epoch 3/100\n",
      "154/157 [============================>.] - ETA: 0s - loss: 0.3553 - accuracy: 0.8474\n",
      "Epoch 3: val_accuracy improved from 0.80560 to 0.84620, saving model to ./models_glove_ffnn\\checkpoint\n",
      "157/157 [==============================] - 3s 16ms/step - loss: 0.3554 - accuracy: 0.8470 - val_loss: 0.4415 - val_accuracy: 0.8462\n",
      "Epoch 4/100\n",
      "153/157 [============================>.] - ETA: 0s - loss: 0.3351 - accuracy: 0.8575\n",
      "Epoch 4: val_accuracy did not improve from 0.84620\n",
      "157/157 [==============================] - 2s 14ms/step - loss: 0.3353 - accuracy: 0.8576 - val_loss: 0.4902 - val_accuracy: 0.7434\n",
      "Epoch 5/100\n",
      "153/157 [============================>.] - ETA: 0s - loss: 0.3244 - accuracy: 0.8618\n",
      "Epoch 5: val_accuracy did not improve from 0.84620\n",
      "157/157 [==============================] - 2s 14ms/step - loss: 0.3240 - accuracy: 0.8623 - val_loss: 0.4552 - val_accuracy: 0.8078\n",
      "Epoch 6/100\n",
      "154/157 [============================>.] - ETA: 0s - loss: 0.3124 - accuracy: 0.8681\n",
      "Epoch 6: val_accuracy did not improve from 0.84620\n",
      "157/157 [==============================] - 2s 14ms/step - loss: 0.3121 - accuracy: 0.8684 - val_loss: 0.4407 - val_accuracy: 0.8358\n",
      "Epoch 7/100\n",
      "156/157 [============================>.] - ETA: 0s - loss: 0.3101 - accuracy: 0.8676\n",
      "Epoch 7: val_accuracy did not improve from 0.84620\n",
      "157/157 [==============================] - 2s 14ms/step - loss: 0.3101 - accuracy: 0.8676 - val_loss: 0.4679 - val_accuracy: 0.7792\n",
      "Epoch 8/100\n",
      "155/157 [============================>.] - ETA: 0s - loss: 0.2962 - accuracy: 0.8756\n",
      "Epoch 8: val_accuracy did not improve from 0.84620\n",
      "157/157 [==============================] - 2s 14ms/step - loss: 0.2959 - accuracy: 0.8758 - val_loss: 0.5283 - val_accuracy: 0.6858\n",
      "Epoch 9/100\n",
      "154/157 [============================>.] - ETA: 0s - loss: 0.2921 - accuracy: 0.8780\n",
      "Epoch 9: val_accuracy did not improve from 0.84620\n",
      "157/157 [==============================] - 2s 14ms/step - loss: 0.2916 - accuracy: 0.8784 - val_loss: 0.4316 - val_accuracy: 0.8352\n",
      "Epoch 10/100\n",
      "156/157 [============================>.] - ETA: 0s - loss: 0.2834 - accuracy: 0.8802\n",
      "Epoch 10: val_accuracy did not improve from 0.84620\n",
      "157/157 [==============================] - 2s 14ms/step - loss: 0.2833 - accuracy: 0.8802 - val_loss: 0.4487 - val_accuracy: 0.7906\n",
      "Epoch 11/100\n",
      "156/157 [============================>.] - ETA: 0s - loss: 0.2722 - accuracy: 0.8863\n",
      "Epoch 11: val_accuracy improved from 0.84620 to 0.84920, saving model to ./models_glove_ffnn\\checkpoint\n",
      "157/157 [==============================] - 2s 16ms/step - loss: 0.2721 - accuracy: 0.8863 - val_loss: 0.4090 - val_accuracy: 0.8492\n",
      "Epoch 12/100\n",
      "155/157 [============================>.] - ETA: 0s - loss: 0.2764 - accuracy: 0.8858\n",
      "Epoch 12: val_accuracy did not improve from 0.84920\n",
      "157/157 [==============================] - 2s 14ms/step - loss: 0.2765 - accuracy: 0.8857 - val_loss: 0.4072 - val_accuracy: 0.8466\n",
      "Epoch 13/100\n",
      "155/157 [============================>.] - ETA: 0s - loss: 0.2658 - accuracy: 0.8895\n",
      "Epoch 13: val_accuracy did not improve from 0.84920\n",
      "157/157 [==============================] - 2s 14ms/step - loss: 0.2659 - accuracy: 0.8895 - val_loss: 0.4302 - val_accuracy: 0.8114\n",
      "Epoch 14/100\n",
      "156/157 [============================>.] - ETA: 0s - loss: 0.2629 - accuracy: 0.8915\n",
      "Epoch 14: val_accuracy did not improve from 0.84920\n",
      "157/157 [==============================] - 2s 14ms/step - loss: 0.2631 - accuracy: 0.8914 - val_loss: 0.4031 - val_accuracy: 0.8452\n",
      "Epoch 15/100\n",
      "156/157 [============================>.] - ETA: 0s - loss: 0.2519 - accuracy: 0.8956\n",
      "Epoch 15: val_accuracy did not improve from 0.84920\n",
      "157/157 [==============================] - 2s 14ms/step - loss: 0.2518 - accuracy: 0.8956 - val_loss: 0.4126 - val_accuracy: 0.8382\n",
      "Epoch 16/100\n",
      "156/157 [============================>.] - ETA: 0s - loss: 0.2517 - accuracy: 0.8976\n",
      "Epoch 16: val_accuracy did not improve from 0.84920\n",
      "157/157 [==============================] - 2s 14ms/step - loss: 0.2520 - accuracy: 0.8975 - val_loss: 0.4121 - val_accuracy: 0.8406\n",
      "Epoch 17/100\n",
      "155/157 [============================>.] - ETA: 0s - loss: 0.2507 - accuracy: 0.8966\n",
      "Epoch 17: val_accuracy improved from 0.84920 to 0.85160, saving model to ./models_glove_ffnn\\checkpoint\n",
      "157/157 [==============================] - 2s 16ms/step - loss: 0.2503 - accuracy: 0.8967 - val_loss: 0.3933 - val_accuracy: 0.8516\n",
      "Epoch 18/100\n",
      "154/157 [============================>.] - ETA: 0s - loss: 0.2422 - accuracy: 0.9004\n",
      "Epoch 18: val_accuracy did not improve from 0.85160\n",
      "157/157 [==============================] - 2s 13ms/step - loss: 0.2414 - accuracy: 0.9010 - val_loss: 0.3966 - val_accuracy: 0.8450\n",
      "Epoch 19/100\n",
      "156/157 [============================>.] - ETA: 0s - loss: 0.2353 - accuracy: 0.9031\n",
      "Epoch 19: val_accuracy did not improve from 0.85160\n",
      "157/157 [==============================] - 2s 14ms/step - loss: 0.2354 - accuracy: 0.9030 - val_loss: 0.4015 - val_accuracy: 0.8390\n",
      "Epoch 20/100\n",
      "155/157 [============================>.] - ETA: 0s - loss: 0.2379 - accuracy: 0.9017\n",
      "Epoch 20: val_accuracy did not improve from 0.85160\n",
      "157/157 [==============================] - 2s 14ms/step - loss: 0.2375 - accuracy: 0.9020 - val_loss: 0.4011 - val_accuracy: 0.8488\n",
      "Epoch 21/100\n",
      "156/157 [============================>.] - ETA: 0s - loss: 0.2298 - accuracy: 0.9080\n",
      "Epoch 21: val_accuracy did not improve from 0.85160\n",
      "157/157 [==============================] - 2s 13ms/step - loss: 0.2296 - accuracy: 0.9081 - val_loss: 0.4031 - val_accuracy: 0.8436\n",
      "Epoch 22/100\n",
      "154/157 [============================>.] - ETA: 0s - loss: 0.2233 - accuracy: 0.9075\n",
      "Epoch 22: val_accuracy did not improve from 0.85160\n",
      "157/157 [==============================] - 2s 14ms/step - loss: 0.2229 - accuracy: 0.9075 - val_loss: 0.3975 - val_accuracy: 0.8386\n",
      "Epoch 23/100\n",
      "156/157 [============================>.] - ETA: 0s - loss: 0.2251 - accuracy: 0.9082\n",
      "Epoch 23: val_accuracy did not improve from 0.85160\n",
      "157/157 [==============================] - 2s 14ms/step - loss: 0.2249 - accuracy: 0.9082 - val_loss: 0.4073 - val_accuracy: 0.8432\n",
      "Epoch 24/100\n",
      "156/157 [============================>.] - ETA: 0s - loss: 0.2168 - accuracy: 0.9118\n",
      "Epoch 24: val_accuracy did not improve from 0.85160\n",
      "157/157 [==============================] - 2s 13ms/step - loss: 0.2170 - accuracy: 0.9117 - val_loss: 0.4015 - val_accuracy: 0.8408\n",
      "Epoch 25/100\n",
      "154/157 [============================>.] - ETA: 0s - loss: 0.2208 - accuracy: 0.9105\n",
      "Epoch 25: val_accuracy did not improve from 0.85160\n",
      "157/157 [==============================] - 2s 14ms/step - loss: 0.2208 - accuracy: 0.9107 - val_loss: 0.3843 - val_accuracy: 0.8468\n",
      "Epoch 26/100\n",
      "157/157 [==============================] - ETA: 0s - loss: 0.2169 - accuracy: 0.9111\n",
      "Epoch 26: val_accuracy improved from 0.85160 to 0.85540, saving model to ./models_glove_ffnn\\checkpoint\n",
      "157/157 [==============================] - 3s 16ms/step - loss: 0.2169 - accuracy: 0.9111 - val_loss: 0.3810 - val_accuracy: 0.8554\n",
      "Epoch 27/100\n",
      "153/157 [============================>.] - ETA: 0s - loss: 0.2137 - accuracy: 0.9141\n",
      "Epoch 27: val_accuracy did not improve from 0.85540\n",
      "157/157 [==============================] - 2s 14ms/step - loss: 0.2135 - accuracy: 0.9143 - val_loss: 0.3877 - val_accuracy: 0.8532\n",
      "Epoch 28/100\n",
      "153/157 [============================>.] - ETA: 0s - loss: 0.2105 - accuracy: 0.9146\n",
      "Epoch 28: val_accuracy did not improve from 0.85540\n",
      "157/157 [==============================] - 2s 14ms/step - loss: 0.2097 - accuracy: 0.9147 - val_loss: 0.3844 - val_accuracy: 0.8484\n",
      "Epoch 29/100\n"
     ]
    },
    {
     "name": "stdout",
     "output_type": "stream",
     "text": [
      "155/157 [============================>.] - ETA: 0s - loss: 0.2045 - accuracy: 0.9179\n",
      "Epoch 29: val_accuracy did not improve from 0.85540\n",
      "157/157 [==============================] - 2s 14ms/step - loss: 0.2049 - accuracy: 0.9176 - val_loss: 0.3959 - val_accuracy: 0.8342\n",
      "Epoch 30/100\n",
      "154/157 [============================>.] - ETA: 0s - loss: 0.2062 - accuracy: 0.9169\n",
      "Epoch 30: val_accuracy did not improve from 0.85540\n",
      "157/157 [==============================] - 2s 14ms/step - loss: 0.2064 - accuracy: 0.9166 - val_loss: 0.3773 - val_accuracy: 0.8514\n",
      "Epoch 31/100\n",
      "154/157 [============================>.] - ETA: 0s - loss: 0.1969 - accuracy: 0.9187\n",
      "Epoch 31: val_accuracy did not improve from 0.85540\n",
      "157/157 [==============================] - 2s 14ms/step - loss: 0.1970 - accuracy: 0.9185 - val_loss: 0.3778 - val_accuracy: 0.8446\n",
      "Epoch 32/100\n",
      "156/157 [============================>.] - ETA: 0s - loss: 0.2060 - accuracy: 0.9170\n",
      "Epoch 32: val_accuracy did not improve from 0.85540\n",
      "157/157 [==============================] - 2s 14ms/step - loss: 0.2058 - accuracy: 0.9170 - val_loss: 0.4083 - val_accuracy: 0.8194\n",
      "Epoch 33/100\n",
      "155/157 [============================>.] - ETA: 0s - loss: 0.1979 - accuracy: 0.9204\n",
      "Epoch 33: val_accuracy did not improve from 0.85540\n",
      "157/157 [==============================] - 2s 14ms/step - loss: 0.1977 - accuracy: 0.9205 - val_loss: 0.3806 - val_accuracy: 0.8546\n",
      "Epoch 34/100\n",
      "156/157 [============================>.] - ETA: 0s - loss: 0.1922 - accuracy: 0.9239\n",
      "Epoch 34: val_accuracy improved from 0.85540 to 0.86480, saving model to ./models_glove_ffnn\\checkpoint\n",
      "157/157 [==============================] - 3s 16ms/step - loss: 0.1924 - accuracy: 0.9238 - val_loss: 0.3634 - val_accuracy: 0.8648\n",
      "Epoch 35/100\n",
      "157/157 [==============================] - ETA: 0s - loss: 0.1902 - accuracy: 0.9237\n",
      "Epoch 35: val_accuracy did not improve from 0.86480\n",
      "157/157 [==============================] - 2s 14ms/step - loss: 0.1902 - accuracy: 0.9237 - val_loss: 0.3840 - val_accuracy: 0.8396\n",
      "Epoch 36/100\n",
      "155/157 [============================>.] - ETA: 0s - loss: 0.1881 - accuracy: 0.9231\n",
      "Epoch 36: val_accuracy did not improve from 0.86480\n",
      "157/157 [==============================] - 2s 14ms/step - loss: 0.1882 - accuracy: 0.9231 - val_loss: 0.3711 - val_accuracy: 0.8548\n",
      "Epoch 37/100\n",
      "156/157 [============================>.] - ETA: 0s - loss: 0.1867 - accuracy: 0.9249\n",
      "Epoch 37: val_accuracy did not improve from 0.86480\n",
      "157/157 [==============================] - 2s 14ms/step - loss: 0.1868 - accuracy: 0.9248 - val_loss: 0.4102 - val_accuracy: 0.8130\n",
      "Epoch 38/100\n",
      "154/157 [============================>.] - ETA: 0s - loss: 0.1853 - accuracy: 0.9256\n",
      "Epoch 38: val_accuracy did not improve from 0.86480\n",
      "157/157 [==============================] - 2s 14ms/step - loss: 0.1852 - accuracy: 0.9255 - val_loss: 0.3751 - val_accuracy: 0.8442\n",
      "Epoch 39/100\n",
      "153/157 [============================>.] - ETA: 0s - loss: 0.1808 - accuracy: 0.9275\n",
      "Epoch 39: val_accuracy did not improve from 0.86480\n",
      "157/157 [==============================] - 2s 14ms/step - loss: 0.1818 - accuracy: 0.9270 - val_loss: 0.3904 - val_accuracy: 0.8340\n",
      "Epoch 40/100\n",
      "156/157 [============================>.] - ETA: 0s - loss: 0.1791 - accuracy: 0.9269\n",
      "Epoch 40: val_accuracy did not improve from 0.86480\n",
      "157/157 [==============================] - 2s 14ms/step - loss: 0.1790 - accuracy: 0.9269 - val_loss: 0.3807 - val_accuracy: 0.8440\n",
      "Epoch 41/100\n",
      "155/157 [============================>.] - ETA: 0s - loss: 0.1746 - accuracy: 0.9287\n",
      "Epoch 41: val_accuracy did not improve from 0.86480\n",
      "157/157 [==============================] - 2s 14ms/step - loss: 0.1743 - accuracy: 0.9287 - val_loss: 0.3646 - val_accuracy: 0.8520\n",
      "Epoch 42/100\n",
      "155/157 [============================>.] - ETA: 0s - loss: 0.1819 - accuracy: 0.9268\n",
      "Epoch 42: val_accuracy did not improve from 0.86480\n",
      "157/157 [==============================] - 2s 14ms/step - loss: 0.1818 - accuracy: 0.9268 - val_loss: 0.3851 - val_accuracy: 0.8374\n",
      "Epoch 43/100\n",
      "156/157 [============================>.] - ETA: 0s - loss: 0.1742 - accuracy: 0.9291\n",
      "Epoch 43: val_accuracy did not improve from 0.86480\n",
      "157/157 [==============================] - 2s 14ms/step - loss: 0.1743 - accuracy: 0.9291 - val_loss: 0.3874 - val_accuracy: 0.8292\n",
      "Epoch 44/100\n",
      "155/157 [============================>.] - ETA: 0s - loss: 0.1697 - accuracy: 0.9304\n",
      "Epoch 44: val_accuracy did not improve from 0.86480\n",
      "157/157 [==============================] - 2s 14ms/step - loss: 0.1697 - accuracy: 0.9302 - val_loss: 0.3696 - val_accuracy: 0.8466\n",
      "Epoch 45/100\n",
      "157/157 [==============================] - ETA: 0s - loss: 0.1726 - accuracy: 0.9308\n",
      "Epoch 45: val_accuracy did not improve from 0.86480\n",
      "157/157 [==============================] - 2s 14ms/step - loss: 0.1726 - accuracy: 0.9308 - val_loss: 0.3696 - val_accuracy: 0.8422\n",
      "Epoch 46/100\n",
      "156/157 [============================>.] - ETA: 0s - loss: 0.1679 - accuracy: 0.9320\n",
      "Epoch 46: val_accuracy did not improve from 0.86480\n",
      "157/157 [==============================] - 2s 14ms/step - loss: 0.1678 - accuracy: 0.9321 - val_loss: 0.3692 - val_accuracy: 0.8446\n",
      "Epoch 47/100\n",
      "157/157 [==============================] - ETA: 0s - loss: 0.1722 - accuracy: 0.9320\n",
      "Epoch 47: val_accuracy did not improve from 0.86480\n",
      "157/157 [==============================] - 2s 14ms/step - loss: 0.1722 - accuracy: 0.9320 - val_loss: 0.3671 - val_accuracy: 0.8552\n",
      "Epoch 48/100\n",
      "156/157 [============================>.] - ETA: 0s - loss: 0.1596 - accuracy: 0.9367\n",
      "Epoch 48: val_accuracy did not improve from 0.86480\n",
      "157/157 [==============================] - 2s 14ms/step - loss: 0.1596 - accuracy: 0.9367 - val_loss: 0.3676 - val_accuracy: 0.8444\n",
      "Epoch 49/100\n",
      "153/157 [============================>.] - ETA: 0s - loss: 0.1638 - accuracy: 0.9357\n",
      "Epoch 49: val_accuracy did not improve from 0.86480\n",
      "157/157 [==============================] - 2s 14ms/step - loss: 0.1646 - accuracy: 0.9352 - val_loss: 0.3625 - val_accuracy: 0.8504\n",
      "Epoch 50/100\n",
      "154/157 [============================>.] - ETA: 0s - loss: 0.1601 - accuracy: 0.9373\n",
      "Epoch 50: val_accuracy did not improve from 0.86480\n",
      "157/157 [==============================] - 2s 14ms/step - loss: 0.1605 - accuracy: 0.9372 - val_loss: 0.3602 - val_accuracy: 0.8528\n",
      "Epoch 51/100\n",
      "156/157 [============================>.] - ETA: 0s - loss: 0.1626 - accuracy: 0.9329\n",
      "Epoch 51: val_accuracy did not improve from 0.86480\n",
      "157/157 [==============================] - 2s 14ms/step - loss: 0.1625 - accuracy: 0.9330 - val_loss: 0.3761 - val_accuracy: 0.8452\n",
      "Epoch 52/100\n",
      "154/157 [============================>.] - ETA: 0s - loss: 0.1532 - accuracy: 0.9392\n",
      "Epoch 52: val_accuracy did not improve from 0.86480\n",
      "157/157 [==============================] - 2s 14ms/step - loss: 0.1537 - accuracy: 0.9388 - val_loss: 0.3628 - val_accuracy: 0.8520\n",
      "Epoch 53/100\n",
      "156/157 [============================>.] - ETA: 0s - loss: 0.1560 - accuracy: 0.9393\n",
      "Epoch 53: val_accuracy did not improve from 0.86480\n",
      "157/157 [==============================] - 2s 14ms/step - loss: 0.1561 - accuracy: 0.9392 - val_loss: 0.3726 - val_accuracy: 0.8430\n",
      "Epoch 54/100\n",
      "155/157 [============================>.] - ETA: 0s - loss: 0.1576 - accuracy: 0.9376\n",
      "Epoch 54: val_accuracy did not improve from 0.86480\n",
      "157/157 [==============================] - 2s 14ms/step - loss: 0.1577 - accuracy: 0.9376 - val_loss: 0.3719 - val_accuracy: 0.8472\n",
      "Epoch 55/100\n",
      "153/157 [============================>.] - ETA: 0s - loss: 0.1540 - accuracy: 0.9363\n",
      "Epoch 55: val_accuracy did not improve from 0.86480\n",
      "157/157 [==============================] - 2s 13ms/step - loss: 0.1536 - accuracy: 0.9366 - val_loss: 0.3671 - val_accuracy: 0.8536\n",
      "Epoch 56/100\n",
      "155/157 [============================>.] - ETA: 0s - loss: 0.1501 - accuracy: 0.9401\n",
      "Epoch 56: val_accuracy did not improve from 0.86480\n",
      "157/157 [==============================] - 2s 13ms/step - loss: 0.1499 - accuracy: 0.9402 - val_loss: 0.3512 - val_accuracy: 0.8598\n",
      "Epoch 57/100\n",
      "156/157 [============================>.] - ETA: 0s - loss: 0.1482 - accuracy: 0.9422\n",
      "Epoch 57: val_accuracy did not improve from 0.86480\n",
      "157/157 [==============================] - 2s 14ms/step - loss: 0.1483 - accuracy: 0.9421 - val_loss: 0.3563 - val_accuracy: 0.8506\n"
     ]
    },
    {
     "name": "stdout",
     "output_type": "stream",
     "text": [
      "Epoch 58/100\n",
      "153/157 [============================>.] - ETA: 0s - loss: 0.1552 - accuracy: 0.9379\n",
      "Epoch 58: val_accuracy did not improve from 0.86480\n",
      "157/157 [==============================] - 2s 14ms/step - loss: 0.1549 - accuracy: 0.9383 - val_loss: 0.3544 - val_accuracy: 0.8564\n",
      "Epoch 59/100\n",
      "153/157 [============================>.] - ETA: 0s - loss: 0.1507 - accuracy: 0.9395\n",
      "Epoch 59: val_accuracy did not improve from 0.86480\n",
      "157/157 [==============================] - 2s 14ms/step - loss: 0.1502 - accuracy: 0.9398 - val_loss: 0.3596 - val_accuracy: 0.8550\n",
      "Epoch 60/100\n",
      "154/157 [============================>.] - ETA: 0s - loss: 0.1500 - accuracy: 0.9398\n",
      "Epoch 60: val_accuracy did not improve from 0.86480\n",
      "157/157 [==============================] - 2s 14ms/step - loss: 0.1499 - accuracy: 0.9398 - val_loss: 0.3675 - val_accuracy: 0.8456\n",
      "Epoch 61/100\n",
      "154/157 [============================>.] - ETA: 0s - loss: 0.1468 - accuracy: 0.9404\n",
      "Epoch 61: val_accuracy did not improve from 0.86480\n",
      "157/157 [==============================] - 2s 14ms/step - loss: 0.1468 - accuracy: 0.9406 - val_loss: 0.3738 - val_accuracy: 0.8370\n",
      "Epoch 62/100\n",
      "155/157 [============================>.] - ETA: 0s - loss: 0.1414 - accuracy: 0.9435\n",
      "Epoch 62: val_accuracy did not improve from 0.86480\n",
      "157/157 [==============================] - 2s 14ms/step - loss: 0.1410 - accuracy: 0.9438 - val_loss: 0.3860 - val_accuracy: 0.8264\n",
      "Epoch 63/100\n",
      "155/157 [============================>.] - ETA: 0s - loss: 0.1401 - accuracy: 0.9439\n",
      "Epoch 63: val_accuracy did not improve from 0.86480\n",
      "157/157 [==============================] - 2s 14ms/step - loss: 0.1408 - accuracy: 0.9437 - val_loss: 0.3485 - val_accuracy: 0.8522\n",
      "Epoch 64/100\n",
      "154/157 [============================>.] - ETA: 0s - loss: 0.1382 - accuracy: 0.9450\n",
      "Epoch 64: val_accuracy did not improve from 0.86480\n",
      "157/157 [==============================] - 2s 14ms/step - loss: 0.1386 - accuracy: 0.9448 - val_loss: 0.3600 - val_accuracy: 0.8444\n",
      "Epoch 65/100\n",
      "155/157 [============================>.] - ETA: 0s - loss: 0.1443 - accuracy: 0.9432\n",
      "Epoch 65: val_accuracy did not improve from 0.86480\n",
      "157/157 [==============================] - 2s 14ms/step - loss: 0.1441 - accuracy: 0.9433 - val_loss: 0.3706 - val_accuracy: 0.8428\n",
      "Epoch 66/100\n",
      "153/157 [============================>.] - ETA: 0s - loss: 0.1422 - accuracy: 0.9428\n",
      "Epoch 66: val_accuracy did not improve from 0.86480\n",
      "157/157 [==============================] - 2s 14ms/step - loss: 0.1425 - accuracy: 0.9431 - val_loss: 0.3552 - val_accuracy: 0.8514\n",
      "Epoch 67/100\n",
      "156/157 [============================>.] - ETA: 0s - loss: 0.1413 - accuracy: 0.9438\n",
      "Epoch 67: val_accuracy did not improve from 0.86480\n",
      "157/157 [==============================] - 2s 14ms/step - loss: 0.1412 - accuracy: 0.9439 - val_loss: 0.3684 - val_accuracy: 0.8480\n",
      "Epoch 68/100\n",
      "154/157 [============================>.] - ETA: 0s - loss: 0.1357 - accuracy: 0.9451\n",
      "Epoch 68: val_accuracy did not improve from 0.86480\n",
      "157/157 [==============================] - 2s 13ms/step - loss: 0.1360 - accuracy: 0.9448 - val_loss: 0.3650 - val_accuracy: 0.8406\n",
      "Epoch 69/100\n",
      "157/157 [==============================] - ETA: 0s - loss: 0.1358 - accuracy: 0.9470\n",
      "Epoch 69: val_accuracy did not improve from 0.86480\n",
      "157/157 [==============================] - 2s 14ms/step - loss: 0.1358 - accuracy: 0.9470 - val_loss: 0.3644 - val_accuracy: 0.8476\n",
      "Epoch 70/100\n",
      "154/157 [============================>.] - ETA: 0s - loss: 0.1407 - accuracy: 0.9447\n",
      "Epoch 70: val_accuracy did not improve from 0.86480\n",
      "157/157 [==============================] - 2s 13ms/step - loss: 0.1402 - accuracy: 0.9448 - val_loss: 0.3648 - val_accuracy: 0.8486\n",
      "Epoch 71/100\n",
      "153/157 [============================>.] - ETA: 0s - loss: 0.1390 - accuracy: 0.9428\n",
      "Epoch 71: val_accuracy did not improve from 0.86480\n",
      "157/157 [==============================] - 2s 13ms/step - loss: 0.1384 - accuracy: 0.9431 - val_loss: 0.3618 - val_accuracy: 0.8460\n",
      "Epoch 72/100\n",
      "155/157 [============================>.] - ETA: 0s - loss: 0.1348 - accuracy: 0.9447\n",
      "Epoch 72: val_accuracy did not improve from 0.86480\n",
      "157/157 [==============================] - 2s 13ms/step - loss: 0.1347 - accuracy: 0.9448 - val_loss: 0.3609 - val_accuracy: 0.8470\n",
      "Epoch 73/100\n",
      "155/157 [============================>.] - ETA: 0s - loss: 0.1295 - accuracy: 0.9496\n",
      "Epoch 73: val_accuracy did not improve from 0.86480\n",
      "157/157 [==============================] - 2s 13ms/step - loss: 0.1295 - accuracy: 0.9496 - val_loss: 0.3678 - val_accuracy: 0.8454\n",
      "Epoch 74/100\n",
      "156/157 [============================>.] - ETA: 0s - loss: 0.1332 - accuracy: 0.9468\n",
      "Epoch 74: val_accuracy did not improve from 0.86480\n",
      "157/157 [==============================] - 2s 13ms/step - loss: 0.1333 - accuracy: 0.9468 - val_loss: 0.3511 - val_accuracy: 0.8466\n",
      "Epoch 75/100\n",
      "153/157 [============================>.] - ETA: 0s - loss: 0.1291 - accuracy: 0.9478\n",
      "Epoch 75: val_accuracy did not improve from 0.86480\n",
      "157/157 [==============================] - 2s 13ms/step - loss: 0.1287 - accuracy: 0.9477 - val_loss: 0.3620 - val_accuracy: 0.8398\n",
      "Epoch 76/100\n",
      "156/157 [============================>.] - ETA: 0s - loss: 0.1363 - accuracy: 0.9457\n",
      "Epoch 76: val_accuracy did not improve from 0.86480\n",
      "157/157 [==============================] - 2s 13ms/step - loss: 0.1364 - accuracy: 0.9456 - val_loss: 0.3788 - val_accuracy: 0.8352\n",
      "Epoch 77/100\n",
      "157/157 [==============================] - ETA: 0s - loss: 0.1279 - accuracy: 0.9480\n",
      "Epoch 77: val_accuracy did not improve from 0.86480\n",
      "157/157 [==============================] - 2s 14ms/step - loss: 0.1279 - accuracy: 0.9480 - val_loss: 0.3575 - val_accuracy: 0.8476\n",
      "Epoch 78/100\n",
      "153/157 [============================>.] - ETA: 0s - loss: 0.1264 - accuracy: 0.9500\n",
      "Epoch 78: val_accuracy did not improve from 0.86480\n",
      "157/157 [==============================] - 2s 14ms/step - loss: 0.1261 - accuracy: 0.9499 - val_loss: 0.3588 - val_accuracy: 0.8478\n",
      "Epoch 79/100\n",
      "155/157 [============================>.] - ETA: 0s - loss: 0.1312 - accuracy: 0.9469\n",
      "Epoch 79: val_accuracy did not improve from 0.86480\n",
      "157/157 [==============================] - 2s 14ms/step - loss: 0.1312 - accuracy: 0.9469 - val_loss: 0.3598 - val_accuracy: 0.8478\n",
      "Epoch 80/100\n",
      "155/157 [============================>.] - ETA: 0s - loss: 0.1267 - accuracy: 0.9496\n",
      "Epoch 80: val_accuracy did not improve from 0.86480\n",
      "157/157 [==============================] - 2s 14ms/step - loss: 0.1271 - accuracy: 0.9495 - val_loss: 0.3585 - val_accuracy: 0.8514\n",
      "Epoch 81/100\n",
      "153/157 [============================>.] - ETA: 0s - loss: 0.1208 - accuracy: 0.9529\n",
      "Epoch 81: val_accuracy did not improve from 0.86480\n",
      "157/157 [==============================] - 2s 14ms/step - loss: 0.1208 - accuracy: 0.9528 - val_loss: 0.3486 - val_accuracy: 0.8500\n",
      "Epoch 82/100\n",
      "154/157 [============================>.] - ETA: 0s - loss: 0.1228 - accuracy: 0.9517\n",
      "Epoch 82: val_accuracy did not improve from 0.86480\n",
      "157/157 [==============================] - 2s 14ms/step - loss: 0.1226 - accuracy: 0.9517 - val_loss: 0.3443 - val_accuracy: 0.8568\n",
      "Epoch 83/100\n",
      "153/157 [============================>.] - ETA: 0s - loss: 0.1236 - accuracy: 0.9504\n",
      "Epoch 83: val_accuracy did not improve from 0.86480\n",
      "157/157 [==============================] - 2s 14ms/step - loss: 0.1235 - accuracy: 0.9505 - val_loss: 0.3563 - val_accuracy: 0.8512\n",
      "Epoch 84/100\n",
      "153/157 [============================>.] - ETA: 0s - loss: 0.1202 - accuracy: 0.9529\n",
      "Epoch 84: val_accuracy did not improve from 0.86480\n",
      "157/157 [==============================] - 2s 14ms/step - loss: 0.1198 - accuracy: 0.9531 - val_loss: 0.3730 - val_accuracy: 0.8420\n",
      "Epoch 85/100\n",
      "157/157 [==============================] - ETA: 0s - loss: 0.1262 - accuracy: 0.9507\n",
      "Epoch 85: val_accuracy did not improve from 0.86480\n",
      "157/157 [==============================] - 2s 13ms/step - loss: 0.1262 - accuracy: 0.9507 - val_loss: 0.3536 - val_accuracy: 0.8490\n",
      "Epoch 86/100\n",
      "157/157 [==============================] - ETA: 0s - loss: 0.1242 - accuracy: 0.9505\n",
      "Epoch 86: val_accuracy did not improve from 0.86480\n",
      "157/157 [==============================] - 2s 14ms/step - loss: 0.1242 - accuracy: 0.9505 - val_loss: 0.3545 - val_accuracy: 0.8516\n",
      "Epoch 87/100\n"
     ]
    },
    {
     "name": "stdout",
     "output_type": "stream",
     "text": [
      "154/157 [============================>.] - ETA: 0s - loss: 0.1155 - accuracy: 0.9539\n",
      "Epoch 87: val_accuracy did not improve from 0.86480\n",
      "157/157 [==============================] - 2s 14ms/step - loss: 0.1155 - accuracy: 0.9539 - val_loss: 0.3519 - val_accuracy: 0.8506\n",
      "Epoch 88/100\n",
      "155/157 [============================>.] - ETA: 0s - loss: 0.1193 - accuracy: 0.9519\n",
      "Epoch 88: val_accuracy did not improve from 0.86480\n",
      "157/157 [==============================] - 2s 14ms/step - loss: 0.1188 - accuracy: 0.9521 - val_loss: 0.3427 - val_accuracy: 0.8524\n",
      "Epoch 89/100\n",
      "154/157 [============================>.] - ETA: 0s - loss: 0.1253 - accuracy: 0.9500\n",
      "Epoch 89: val_accuracy did not improve from 0.86480\n",
      "157/157 [==============================] - 2s 14ms/step - loss: 0.1253 - accuracy: 0.9499 - val_loss: 0.3352 - val_accuracy: 0.8594\n",
      "Epoch 90/100\n",
      "155/157 [============================>.] - ETA: 0s - loss: 0.1108 - accuracy: 0.9565\n",
      "Epoch 90: val_accuracy did not improve from 0.86480\n",
      "157/157 [==============================] - 2s 14ms/step - loss: 0.1107 - accuracy: 0.9564 - val_loss: 0.3409 - val_accuracy: 0.8580\n",
      "Epoch 91/100\n",
      "153/157 [============================>.] - ETA: 0s - loss: 0.1129 - accuracy: 0.9544\n",
      "Epoch 91: val_accuracy did not improve from 0.86480\n",
      "157/157 [==============================] - 2s 14ms/step - loss: 0.1128 - accuracy: 0.9542 - val_loss: 0.3511 - val_accuracy: 0.8508\n",
      "Epoch 92/100\n",
      "156/157 [============================>.] - ETA: 0s - loss: 0.1172 - accuracy: 0.9534\n",
      "Epoch 92: val_accuracy did not improve from 0.86480\n",
      "157/157 [==============================] - 2s 14ms/step - loss: 0.1173 - accuracy: 0.9534 - val_loss: 0.3727 - val_accuracy: 0.8406\n",
      "Epoch 93/100\n",
      "155/157 [============================>.] - ETA: 0s - loss: 0.1202 - accuracy: 0.9522\n",
      "Epoch 93: val_accuracy did not improve from 0.86480\n",
      "157/157 [==============================] - 2s 14ms/step - loss: 0.1201 - accuracy: 0.9523 - val_loss: 0.3565 - val_accuracy: 0.8444\n",
      "Epoch 94/100\n",
      "153/157 [============================>.] - ETA: 0s - loss: 0.1112 - accuracy: 0.9574\n",
      "Epoch 94: val_accuracy did not improve from 0.86480\n",
      "157/157 [==============================] - 2s 14ms/step - loss: 0.1111 - accuracy: 0.9574 - val_loss: 0.3471 - val_accuracy: 0.8490\n",
      "Epoch 95/100\n",
      "154/157 [============================>.] - ETA: 0s - loss: 0.1135 - accuracy: 0.9546\n",
      "Epoch 95: val_accuracy did not improve from 0.86480\n",
      "157/157 [==============================] - 2s 14ms/step - loss: 0.1134 - accuracy: 0.9546 - val_loss: 0.3477 - val_accuracy: 0.8524\n",
      "Epoch 96/100\n",
      "153/157 [============================>.] - ETA: 0s - loss: 0.1134 - accuracy: 0.9555\n",
      "Epoch 96: val_accuracy did not improve from 0.86480\n",
      "157/157 [==============================] - 2s 14ms/step - loss: 0.1139 - accuracy: 0.9550 - val_loss: 0.3474 - val_accuracy: 0.8516\n",
      "Epoch 97/100\n",
      "157/157 [==============================] - ETA: 0s - loss: 0.1100 - accuracy: 0.9568\n",
      "Epoch 97: val_accuracy did not improve from 0.86480\n",
      "157/157 [==============================] - 2s 14ms/step - loss: 0.1100 - accuracy: 0.9568 - val_loss: 0.3529 - val_accuracy: 0.8442\n",
      "Epoch 98/100\n",
      "154/157 [============================>.] - ETA: 0s - loss: 0.1107 - accuracy: 0.9572\n",
      "Epoch 98: val_accuracy did not improve from 0.86480\n",
      "157/157 [==============================] - 2s 14ms/step - loss: 0.1109 - accuracy: 0.9572 - val_loss: 0.3517 - val_accuracy: 0.8470\n",
      "Epoch 99/100\n",
      "153/157 [============================>.] - ETA: 0s - loss: 0.1104 - accuracy: 0.9577\n",
      "Epoch 99: val_accuracy did not improve from 0.86480\n",
      "157/157 [==============================] - 2s 14ms/step - loss: 0.1104 - accuracy: 0.9577 - val_loss: 0.3600 - val_accuracy: 0.8446\n",
      "Epoch 100/100\n",
      "155/157 [============================>.] - ETA: 0s - loss: 0.1138 - accuracy: 0.9549\n",
      "Epoch 100: val_accuracy did not improve from 0.86480\n",
      "157/157 [==============================] - 2s 14ms/step - loss: 0.1141 - accuracy: 0.9548 - val_loss: 0.3623 - val_accuracy: 0.8434\n"
     ]
    },
    {
     "data": {
      "text/plain": [
       "<keras.callbacks.History at 0x294ae08d2e0>"
      ]
     },
     "execution_count": 46,
     "metadata": {},
     "output_type": "execute_result"
    }
   ],
   "source": [
    "model.compile('adam', loss=BinaryCrossentropy(), metrics='accuracy')\n",
    "\n",
    "model.fit(x=train_x,\n",
    "         y=train_y,\n",
    "         batch_size=128,\n",
    "         epochs=100,\n",
    "         validation_data=(val_x, val_y),\n",
    "         callbacks=callbacks)"
   ]
  },
  {
   "cell_type": "code",
   "execution_count": 47,
   "id": "6f5faf96",
   "metadata": {},
   "outputs": [
    {
     "data": {
      "text/plain": [
       "<tensorflow.python.training.tracking.util.CheckpointLoadStatus at 0x294bc85aa60>"
      ]
     },
     "execution_count": 47,
     "metadata": {},
     "output_type": "execute_result"
    }
   ],
   "source": [
    "model.load_weights('./models_glove_ffnn/checkpoint')"
   ]
  },
  {
   "cell_type": "code",
   "execution_count": 48,
   "id": "2ee0d98b",
   "metadata": {},
   "outputs": [
    {
     "name": "stdout",
     "output_type": "stream",
     "text": [
      "f1 : 0.9318854886475815\n",
      "acc: 0.931\n"
     ]
    },
    {
     "data": {
      "image/png": "[encoded data removed]",
      "text/plain": [
       "<Figure size 432x288 with 2 Axes>"
      ]
     },
     "metadata": {
      "needs_background": "light"
     },
     "output_type": "display_data"
    }
   ],
   "source": [
    "predict_result(model, train_x[:1000], train_y[:1000])"
   ]
  },
  {
   "cell_type": "code",
   "execution_count": 49,
   "id": "46cbf625",
   "metadata": {},
   "outputs": [
    {
     "name": "stdout",
     "output_type": "stream",
     "text": [
      "f1 : 0.8266765897626727\n",
      "acc: 0.83232\n"
     ]
    },
    {
     "data": {
      "image/png": "[encoded data removed]",
      "text/plain": [
       "<Figure size 432x288 with 2 Axes>"
      ]
     },
     "metadata": {
      "needs_background": "light"
     },
     "output_type": "display_data"
    }
   ],
   "source": [
    "predict_result(model, test_x, test_y)"
   ]
  },
  {
   "cell_type": "code",
   "execution_count": 50,
   "id": "18e9ab3f",
   "metadata": {},
   "outputs": [
    {
     "name": "stdout",
     "output_type": "stream",
     "text": [
      "Model: \"model_1\"\n",
      "_________________________________________________________________\n",
      " Layer (type)                Output Shape              Param #   \n",
      "=================================================================\n",
      " input_2 (InputLayer)        [(None, None)]            0         \n",
      "                                                                 \n",
      " embedding_4 (Embedding)     (None, None, 300)         6000600   \n",
      "                                                                 \n",
      " bidirectional_1 (Bidirectio  (None, 256)              439296    \n",
      " nal)                                                            \n",
      "                                                                 \n",
      " dropout_14 (Dropout)        (None, 256)               0         \n",
      "                                                                 \n",
      " dense_21 (Dense)            (None, 256)               65792     \n",
      "                                                                 \n",
      " flatten (Flatten)           (None, 256)               0         \n",
      "                                                                 \n",
      " dense_22 (Dense)            (None, 2)                 514       \n",
      "                                                                 \n",
      "=================================================================\n",
      "Total params: 6,506,202\n",
      "Trainable params: 505,602\n",
      "Non-trainable params: 6,000,600\n",
      "_________________________________________________________________\n"
     ]
    }
   ],
   "source": [
    "embedding_layer = Embedding(\n",
    "    num_tokens,\n",
    "    embedding_dim,\n",
    "    embeddings_initializer=tf.keras.initializers.Constant(embedding_matrix),\n",
    "    trainable=False,\n",
    ")\n",
    "int_sequences_input = tf.keras.Input(shape=(None,), dtype=\"int64\")\n",
    "embedded_sequences = embedding_layer(int_sequences_input)\n",
    "x = Bidirectional(LSTM(128))(embedded_sequences)\n",
    "x = Dropout(0.5)(x)\n",
    "x = Dense(256, activation=\"relu\")(x)\n",
    "x = Flatten()(x)\n",
    "\n",
    "preds = Dense(2, activation=\"sigmoid\")(x)\n",
    "\n",
    "model = tf.keras.Model(int_sequences_input, preds)\n",
    "\n",
    "callbacks=[\n",
    "    ModelCheckpoint(filepath='./models_glove_bilstm/checkpoint',\n",
    "                   save_best_only=True, save_weights_only=True, verbose=1,monitor='val_accuracy')\n",
    "]\n",
    "\n",
    "model.summary()"
   ]
  },
  {
   "cell_type": "code",
   "execution_count": null,
   "id": "9186fe14",
   "metadata": {},
   "outputs": [
    {
     "name": "stdout",
     "output_type": "stream",
     "text": [
      "Epoch 1/100\n",
      "157/157 [==============================] - ETA: 0s - loss: 0.5108 - accuracy: 0.7582\n",
      "Epoch 1: val_accuracy improved from -inf to 0.67880, saving model to ./models_glove_bilstm\\checkpoint\n",
      "157/157 [==============================] - 10s 55ms/step - loss: 0.5108 - accuracy: 0.7582 - val_loss: 0.6167 - val_accuracy: 0.6788\n",
      "Epoch 2/100\n",
      "157/157 [==============================] - ETA: 0s - loss: 0.4285 - accuracy: 0.8166\n",
      "Epoch 2: val_accuracy improved from 0.67880 to 0.81920, saving model to ./models_glove_bilstm\\checkpoint\n",
      "157/157 [==============================] - 8s 50ms/step - loss: 0.4285 - accuracy: 0.8166 - val_loss: 0.3963 - val_accuracy: 0.8192\n",
      "Epoch 3/100\n",
      "157/157 [==============================] - ETA: 0s - loss: 0.3668 - accuracy: 0.8486\n",
      "Epoch 3: val_accuracy improved from 0.81920 to 0.84700, saving model to ./models_glove_bilstm\\checkpoint\n",
      "157/157 [==============================] - 8s 48ms/step - loss: 0.3668 - accuracy: 0.8486 - val_loss: 0.3535 - val_accuracy: 0.8470\n",
      "Epoch 4/100\n",
      "157/157 [==============================] - ETA: 0s - loss: 0.3293 - accuracy: 0.8640\n",
      "Epoch 4: val_accuracy improved from 0.84700 to 0.86200, saving model to ./models_glove_bilstm\\checkpoint\n",
      "157/157 [==============================] - 8s 51ms/step - loss: 0.3293 - accuracy: 0.8640 - val_loss: 0.3332 - val_accuracy: 0.8620\n",
      "Epoch 5/100\n",
      "157/157 [==============================] - ETA: 0s - loss: 0.3089 - accuracy: 0.8726\n",
      "Epoch 5: val_accuracy improved from 0.86200 to 0.86660, saving model to ./models_glove_bilstm\\checkpoint\n",
      "157/157 [==============================] - 8s 51ms/step - loss: 0.3089 - accuracy: 0.8726 - val_loss: 0.3245 - val_accuracy: 0.8666\n",
      "Epoch 6/100\n",
      "157/157 [==============================] - ETA: 0s - loss: 0.2827 - accuracy: 0.8860\n",
      "Epoch 6: val_accuracy improved from 0.86660 to 0.86980, saving model to ./models_glove_bilstm\\checkpoint\n",
      "157/157 [==============================] - 8s 52ms/step - loss: 0.2827 - accuracy: 0.8860 - val_loss: 0.3188 - val_accuracy: 0.8698\n",
      "Epoch 7/100\n",
      "157/157 [==============================] - ETA: 0s - loss: 0.2616 - accuracy: 0.8946\n",
      "Epoch 7: val_accuracy improved from 0.86980 to 0.87640, saving model to ./models_glove_bilstm\\checkpoint\n",
      "157/157 [==============================] - 8s 50ms/step - loss: 0.2616 - accuracy: 0.8946 - val_loss: 0.3095 - val_accuracy: 0.8764\n",
      "Epoch 8/100\n",
      "157/157 [==============================] - ETA: 0s - loss: 0.2437 - accuracy: 0.9021\n",
      "Epoch 8: val_accuracy did not improve from 0.87640\n",
      "157/157 [==============================] - 7s 46ms/step - loss: 0.2437 - accuracy: 0.9021 - val_loss: 0.3082 - val_accuracy: 0.8648\n",
      "Epoch 9/100\n",
      "157/157 [==============================] - ETA: 0s - loss: 0.2146 - accuracy: 0.9153\n",
      "Epoch 9: val_accuracy did not improve from 0.87640\n",
      "157/157 [==============================] - 7s 45ms/step - loss: 0.2146 - accuracy: 0.9153 - val_loss: 0.3214 - val_accuracy: 0.8736\n",
      "Epoch 10/100\n",
      "156/157 [============================>.] - ETA: 0s - loss: 0.1932 - accuracy: 0.9250\n",
      "Epoch 10: val_accuracy did not improve from 0.87640\n",
      "157/157 [==============================] - 7s 45ms/step - loss: 0.1931 - accuracy: 0.9251 - val_loss: 0.3175 - val_accuracy: 0.8762\n",
      "Epoch 11/100\n",
      "156/157 [============================>.] - ETA: 0s - loss: 0.1673 - accuracy: 0.9346\n",
      "Epoch 11: val_accuracy did not improve from 0.87640\n",
      "157/157 [==============================] - 8s 48ms/step - loss: 0.1673 - accuracy: 0.9347 - val_loss: 0.3609 - val_accuracy: 0.8672\n",
      "Epoch 12/100\n",
      "156/157 [============================>.] - ETA: 0s - loss: 0.1463 - accuracy: 0.9432\n",
      "Epoch 12: val_accuracy improved from 0.87640 to 0.87780, saving model to ./models_glove_bilstm\\checkpoint\n",
      "157/157 [==============================] - 8s 50ms/step - loss: 0.1463 - accuracy: 0.9431 - val_loss: 0.3618 - val_accuracy: 0.8778\n",
      "Epoch 13/100\n",
      "156/157 [============================>.] - ETA: 0s - loss: 0.1250 - accuracy: 0.9522\n",
      "Epoch 13: val_accuracy did not improve from 0.87780\n",
      "157/157 [==============================] - 8s 50ms/step - loss: 0.1251 - accuracy: 0.9521 - val_loss: 0.3569 - val_accuracy: 0.8752\n",
      "Epoch 14/100\n",
      "156/157 [============================>.] - ETA: 0s - loss: 0.1200 - accuracy: 0.9550\n",
      "Epoch 14: val_accuracy did not improve from 0.87780\n",
      "157/157 [==============================] - 8s 50ms/step - loss: 0.1200 - accuracy: 0.9550 - val_loss: 0.3906 - val_accuracy: 0.8768\n",
      "Epoch 15/100\n",
      "157/157 [==============================] - ETA: 0s - loss: 0.0947 - accuracy: 0.9657\n",
      "Epoch 15: val_accuracy did not improve from 0.87780\n",
      "157/157 [==============================] - 8s 51ms/step - loss: 0.0947 - accuracy: 0.9657 - val_loss: 0.4016 - val_accuracy: 0.8616\n",
      "Epoch 16/100\n",
      "156/157 [============================>.] - ETA: 0s - loss: 0.0744 - accuracy: 0.9728\n",
      "Epoch 16: val_accuracy did not improve from 0.87780\n",
      "157/157 [==============================] - 8s 50ms/step - loss: 0.0743 - accuracy: 0.9728 - val_loss: 0.4638 - val_accuracy: 0.8670\n",
      "Epoch 17/100\n",
      "156/157 [============================>.] - ETA: 0s - loss: 0.0599 - accuracy: 0.9786\n",
      "Epoch 17: val_accuracy did not improve from 0.87780\n",
      "157/157 [==============================] - 8s 49ms/step - loss: 0.0599 - accuracy: 0.9786 - val_loss: 0.5288 - val_accuracy: 0.8668\n",
      "Epoch 18/100\n",
      "157/157 [==============================] - ETA: 0s - loss: 0.0533 - accuracy: 0.9807\n",
      "Epoch 18: val_accuracy did not improve from 0.87780\n",
      "157/157 [==============================] - 8s 49ms/step - loss: 0.0533 - accuracy: 0.9807 - val_loss: 0.6146 - val_accuracy: 0.8722\n",
      "Epoch 19/100\n",
      "156/157 [============================>.] - ETA: 0s - loss: 0.0591 - accuracy: 0.9797\n",
      "Epoch 19: val_accuracy did not improve from 0.87780\n",
      "157/157 [==============================] - 7s 46ms/step - loss: 0.0590 - accuracy: 0.9797 - val_loss: 0.5508 - val_accuracy: 0.8686\n",
      "Epoch 20/100\n",
      "156/157 [============================>.] - ETA: 0s - loss: 0.0454 - accuracy: 0.9840\n",
      "Epoch 20: val_accuracy did not improve from 0.87780\n",
      "157/157 [==============================] - 8s 48ms/step - loss: 0.0454 - accuracy: 0.9840 - val_loss: 0.5693 - val_accuracy: 0.8642\n",
      "Epoch 21/100\n",
      "157/157 [==============================] - ETA: 0s - loss: 0.0275 - accuracy: 0.9902\n",
      "Epoch 21: val_accuracy did not improve from 0.87780\n",
      "157/157 [==============================] - 7s 48ms/step - loss: 0.0275 - accuracy: 0.9902 - val_loss: 0.7104 - val_accuracy: 0.8718\n",
      "Epoch 22/100\n",
      "156/157 [============================>.] - ETA: 0s - loss: 0.0343 - accuracy: 0.9885\n",
      "Epoch 22: val_accuracy did not improve from 0.87780\n",
      "157/157 [==============================] - 8s 50ms/step - loss: 0.0343 - accuracy: 0.9886 - val_loss: 0.5541 - val_accuracy: 0.8624\n",
      "Epoch 23/100\n",
      "157/157 [==============================] - ETA: 0s - loss: 0.0313 - accuracy: 0.9895\n",
      "Epoch 23: val_accuracy did not improve from 0.87780\n",
      "157/157 [==============================] - 8s 48ms/step - loss: 0.0313 - accuracy: 0.9895 - val_loss: 0.7011 - val_accuracy: 0.8744\n",
      "Epoch 24/100\n",
      "157/157 [==============================] - ETA: 0s - loss: 0.0244 - accuracy: 0.9916\n",
      "Epoch 24: val_accuracy did not improve from 0.87780\n",
      "157/157 [==============================] - 7s 46ms/step - loss: 0.0244 - accuracy: 0.9916 - val_loss: 0.6894 - val_accuracy: 0.8680\n",
      "Epoch 25/100\n",
      "157/157 [==============================] - ETA: 0s - loss: 0.0156 - accuracy: 0.9942\n",
      "Epoch 25: val_accuracy did not improve from 0.87780\n",
      "157/157 [==============================] - 7s 46ms/step - loss: 0.0156 - accuracy: 0.9942 - val_loss: 0.7814 - val_accuracy: 0.8694\n",
      "Epoch 26/100\n",
      "157/157 [==============================] - ETA: 0s - loss: 0.0119 - accuracy: 0.9959\n",
      "Epoch 26: val_accuracy did not improve from 0.87780\n",
      "157/157 [==============================] - 7s 45ms/step - loss: 0.0119 - accuracy: 0.9959 - val_loss: 0.8412 - val_accuracy: 0.8690\n",
      "Epoch 27/100\n",
      "156/157 [============================>.] - ETA: 0s - loss: 0.0142 - accuracy: 0.9951\n",
      "Epoch 27: val_accuracy did not improve from 0.87780\n",
      "157/157 [==============================] - 7s 44ms/step - loss: 0.0142 - accuracy: 0.9952 - val_loss: 0.8421 - val_accuracy: 0.8720\n",
      "Epoch 28/100\n",
      "157/157 [==============================] - ETA: 0s - loss: 0.0263 - accuracy: 0.9912\n",
      "Epoch 28: val_accuracy improved from 0.87780 to 0.87860, saving model to ./models_glove_bilstm\\checkpoint\n"
     ]
    },
    {
     "name": "stdout",
     "output_type": "stream",
     "text": [
      "157/157 [==============================] - 7s 47ms/step - loss: 0.0263 - accuracy: 0.9912 - val_loss: 0.6579 - val_accuracy: 0.8786\n",
      "Epoch 29/100\n",
      "157/157 [==============================] - ETA: 0s - loss: 0.0258 - accuracy: 0.9919\n",
      "Epoch 29: val_accuracy did not improve from 0.87860\n",
      "157/157 [==============================] - 7s 46ms/step - loss: 0.0258 - accuracy: 0.9919 - val_loss: 0.7423 - val_accuracy: 0.8648\n",
      "Epoch 30/100\n",
      "157/157 [==============================] - ETA: 0s - loss: 0.0206 - accuracy: 0.9932\n",
      "Epoch 30: val_accuracy did not improve from 0.87860\n",
      "157/157 [==============================] - 7s 48ms/step - loss: 0.0206 - accuracy: 0.9932 - val_loss: 0.7525 - val_accuracy: 0.8738\n",
      "Epoch 31/100\n",
      "156/157 [============================>.] - ETA: 0s - loss: 0.0110 - accuracy: 0.9968\n",
      "Epoch 31: val_accuracy improved from 0.87860 to 0.87880, saving model to ./models_glove_bilstm\\checkpoint\n",
      "157/157 [==============================] - 8s 51ms/step - loss: 0.0110 - accuracy: 0.9969 - val_loss: 0.8902 - val_accuracy: 0.8788\n",
      "Epoch 32/100\n",
      "157/157 [==============================] - ETA: 0s - loss: 0.0117 - accuracy: 0.9963\n",
      "Epoch 32: val_accuracy did not improve from 0.87880\n",
      "157/157 [==============================] - 8s 50ms/step - loss: 0.0117 - accuracy: 0.9963 - val_loss: 0.8822 - val_accuracy: 0.8638\n",
      "Epoch 33/100\n",
      "156/157 [============================>.] - ETA: 0s - loss: 0.0153 - accuracy: 0.9947\n",
      "Epoch 33: val_accuracy did not improve from 0.87880\n",
      "157/157 [==============================] - 8s 51ms/step - loss: 0.0153 - accuracy: 0.9948 - val_loss: 0.8099 - val_accuracy: 0.8758\n",
      "Epoch 34/100\n",
      "156/157 [============================>.] - ETA: 0s - loss: 0.0174 - accuracy: 0.9943\n",
      "Epoch 34: val_accuracy did not improve from 0.87880\n",
      "157/157 [==============================] - 8s 50ms/step - loss: 0.0173 - accuracy: 0.9944 - val_loss: 0.8536 - val_accuracy: 0.8754\n",
      "Epoch 35/100\n",
      "157/157 [==============================] - ETA: 0s - loss: 0.0107 - accuracy: 0.9963\n",
      "Epoch 35: val_accuracy did not improve from 0.87880\n",
      "157/157 [==============================] - 8s 50ms/step - loss: 0.0107 - accuracy: 0.9963 - val_loss: 0.8903 - val_accuracy: 0.8730\n",
      "Epoch 36/100\n",
      "157/157 [==============================] - ETA: 0s - loss: 0.0149 - accuracy: 0.9952\n",
      "Epoch 36: val_accuracy did not improve from 0.87880\n",
      "157/157 [==============================] - 8s 48ms/step - loss: 0.0149 - accuracy: 0.9952 - val_loss: 0.8382 - val_accuracy: 0.8560\n",
      "Epoch 37/100\n",
      "157/157 [==============================] - ETA: 0s - loss: 0.0104 - accuracy: 0.9967\n",
      "Epoch 37: val_accuracy did not improve from 0.87880\n",
      "157/157 [==============================] - 7s 46ms/step - loss: 0.0104 - accuracy: 0.9967 - val_loss: 0.8842 - val_accuracy: 0.8676\n",
      "Epoch 38/100\n",
      "156/157 [============================>.] - ETA: 0s - loss: 0.0074 - accuracy: 0.9973\n",
      "Epoch 38: val_accuracy did not improve from 0.87880\n",
      "157/157 [==============================] - 7s 45ms/step - loss: 0.0074 - accuracy: 0.9973 - val_loss: 0.9681 - val_accuracy: 0.8748\n",
      "Epoch 39/100\n",
      "157/157 [==============================] - ETA: 0s - loss: 0.0071 - accuracy: 0.9978\n",
      "Epoch 39: val_accuracy did not improve from 0.87880\n",
      "157/157 [==============================] - 7s 46ms/step - loss: 0.0071 - accuracy: 0.9978 - val_loss: 0.9463 - val_accuracy: 0.8666\n",
      "Epoch 40/100\n",
      "157/157 [==============================] - ETA: 0s - loss: 0.0137 - accuracy: 0.9954\n",
      "Epoch 40: val_accuracy did not improve from 0.87880\n",
      "157/157 [==============================] - 8s 48ms/step - loss: 0.0137 - accuracy: 0.9954 - val_loss: 0.8383 - val_accuracy: 0.8700\n",
      "Epoch 41/100\n",
      "157/157 [==============================] - ETA: 0s - loss: 0.0157 - accuracy: 0.9951\n",
      "Epoch 41: val_accuracy did not improve from 0.87880\n",
      "157/157 [==============================] - 8s 49ms/step - loss: 0.0157 - accuracy: 0.9951 - val_loss: 0.8159 - val_accuracy: 0.8666\n",
      "Epoch 42/100\n",
      "156/157 [============================>.] - ETA: 0s - loss: 0.0231 - accuracy: 0.9933\n",
      "Epoch 42: val_accuracy did not improve from 0.87880\n",
      "157/157 [==============================] - 8s 50ms/step - loss: 0.0231 - accuracy: 0.9933 - val_loss: 0.6201 - val_accuracy: 0.8732\n",
      "Epoch 43/100\n",
      "157/157 [==============================] - ETA: 0s - loss: 0.0124 - accuracy: 0.9961\n",
      "Epoch 43: val_accuracy did not improve from 0.87880\n",
      "157/157 [==============================] - 8s 49ms/step - loss: 0.0124 - accuracy: 0.9961 - val_loss: 0.8460 - val_accuracy: 0.8652\n",
      "Epoch 44/100\n",
      "157/157 [==============================] - ETA: 0s - loss: 0.0060 - accuracy: 0.9981\n",
      "Epoch 44: val_accuracy did not improve from 0.87880\n",
      "157/157 [==============================] - 8s 50ms/step - loss: 0.0060 - accuracy: 0.9981 - val_loss: 0.9775 - val_accuracy: 0.8766\n",
      "Epoch 45/100\n",
      "157/157 [==============================] - ETA: 0s - loss: 0.0053 - accuracy: 0.9981\n",
      "Epoch 45: val_accuracy improved from 0.87880 to 0.87980, saving model to ./models_glove_bilstm\\checkpoint\n",
      "157/157 [==============================] - 8s 50ms/step - loss: 0.0053 - accuracy: 0.9981 - val_loss: 0.9555 - val_accuracy: 0.8798\n",
      "Epoch 46/100\n",
      "156/157 [============================>.] - ETA: 0s - loss: 0.0034 - accuracy: 0.9989\n",
      "Epoch 46: val_accuracy improved from 0.87980 to 0.88180, saving model to ./models_glove_bilstm\\checkpoint\n",
      "157/157 [==============================] - 8s 50ms/step - loss: 0.0034 - accuracy: 0.9989 - val_loss: 1.0805 - val_accuracy: 0.8818\n",
      "Epoch 47/100\n",
      "156/157 [============================>.] - ETA: 0s - loss: 0.0023 - accuracy: 0.9994\n",
      "Epoch 47: val_accuracy did not improve from 0.88180\n",
      "157/157 [==============================] - 7s 45ms/step - loss: 0.0023 - accuracy: 0.9995 - val_loss: 1.1192 - val_accuracy: 0.8784\n",
      "Epoch 48/100\n",
      "156/157 [============================>.] - ETA: 0s - loss: 0.2117 - accuracy: 0.9325\n",
      "Epoch 48: val_accuracy did not improve from 0.88180\n",
      "157/157 [==============================] - 7s 46ms/step - loss: 0.2116 - accuracy: 0.9326 - val_loss: 0.4421 - val_accuracy: 0.8538\n",
      "Epoch 49/100\n",
      "156/157 [============================>.] - ETA: 0s - loss: 0.0692 - accuracy: 0.9763\n",
      "Epoch 49: val_accuracy did not improve from 0.88180\n",
      "157/157 [==============================] - 7s 47ms/step - loss: 0.0693 - accuracy: 0.9762 - val_loss: 0.5428 - val_accuracy: 0.8712\n",
      "Epoch 50/100\n",
      "157/157 [==============================] - ETA: 0s - loss: 0.1540 - accuracy: 0.9433\n",
      "Epoch 50: val_accuracy did not improve from 0.88180\n",
      "157/157 [==============================] - 8s 48ms/step - loss: 0.1540 - accuracy: 0.9433 - val_loss: 0.5095 - val_accuracy: 0.8730\n",
      "Epoch 51/100\n",
      "157/157 [==============================] - ETA: 0s - loss: 0.0334 - accuracy: 0.9884\n",
      "Epoch 51: val_accuracy did not improve from 0.88180\n",
      "157/157 [==============================] - 8s 49ms/step - loss: 0.0334 - accuracy: 0.9884 - val_loss: 0.6653 - val_accuracy: 0.8708\n",
      "Epoch 52/100\n",
      "157/157 [==============================] - ETA: 0s - loss: 0.0159 - accuracy: 0.9948\n",
      "Epoch 52: val_accuracy did not improve from 0.88180\n",
      "157/157 [==============================] - 8s 50ms/step - loss: 0.0159 - accuracy: 0.9948 - val_loss: 0.7963 - val_accuracy: 0.8694\n",
      "Epoch 53/100\n",
      "156/157 [============================>.] - ETA: 0s - loss: 0.0123 - accuracy: 0.9962\n",
      "Epoch 53: val_accuracy did not improve from 0.88180\n",
      "157/157 [==============================] - 8s 49ms/step - loss: 0.0123 - accuracy: 0.9962 - val_loss: 0.8731 - val_accuracy: 0.8758\n",
      "Epoch 54/100\n",
      "157/157 [==============================] - ETA: 0s - loss: 0.0143 - accuracy: 0.9952\n",
      "Epoch 54: val_accuracy did not improve from 0.88180\n",
      "157/157 [==============================] - 7s 45ms/step - loss: 0.0143 - accuracy: 0.9952 - val_loss: 0.7533 - val_accuracy: 0.8600\n",
      "Epoch 55/100\n",
      "156/157 [============================>.] - ETA: 0s - loss: 0.0352 - accuracy: 0.9905\n",
      "Epoch 55: val_accuracy did not improve from 0.88180\n",
      "157/157 [==============================] - 7s 45ms/step - loss: 0.0352 - accuracy: 0.9905 - val_loss: 0.7121 - val_accuracy: 0.8750\n",
      "Epoch 56/100\n",
      "157/157 [==============================] - ETA: 0s - loss: 0.0068 - accuracy: 0.9983\n",
      "Epoch 56: val_accuracy did not improve from 0.88180\n",
      "157/157 [==============================] - 7s 44ms/step - loss: 0.0068 - accuracy: 0.9983 - val_loss: 0.8113 - val_accuracy: 0.8768\n",
      "Epoch 57/100\n"
     ]
    },
    {
     "name": "stdout",
     "output_type": "stream",
     "text": [
      "157/157 [==============================] - ETA: 0s - loss: 0.0055 - accuracy: 0.9984\n",
      "Epoch 57: val_accuracy did not improve from 0.88180\n",
      "157/157 [==============================] - 7s 45ms/step - loss: 0.0055 - accuracy: 0.9984 - val_loss: 0.8842 - val_accuracy: 0.8696\n",
      "Epoch 58/100\n",
      "157/157 [==============================] - ETA: 0s - loss: 0.0066 - accuracy: 0.9979\n",
      "Epoch 58: val_accuracy did not improve from 0.88180\n",
      "157/157 [==============================] - 7s 44ms/step - loss: 0.0066 - accuracy: 0.9979 - val_loss: 0.8721 - val_accuracy: 0.8778\n",
      "Epoch 59/100\n",
      "157/157 [==============================] - ETA: 0s - loss: 0.0041 - accuracy: 0.9987\n",
      "Epoch 59: val_accuracy did not improve from 0.88180\n",
      "157/157 [==============================] - 7s 44ms/step - loss: 0.0041 - accuracy: 0.9987 - val_loss: 0.9481 - val_accuracy: 0.8780\n",
      "Epoch 60/100\n",
      "157/157 [==============================] - ETA: 0s - loss: 0.0078 - accuracy: 0.9976\n",
      "Epoch 60: val_accuracy did not improve from 0.88180\n",
      "157/157 [==============================] - 7s 44ms/step - loss: 0.0078 - accuracy: 0.9976 - val_loss: 0.9315 - val_accuracy: 0.8752\n",
      "Epoch 61/100\n",
      "157/157 [==============================] - ETA: 0s - loss: 0.0027 - accuracy: 0.9991\n",
      "Epoch 61: val_accuracy did not improve from 0.88180\n",
      "157/157 [==============================] - 7s 45ms/step - loss: 0.0027 - accuracy: 0.9991 - val_loss: 0.9940 - val_accuracy: 0.8786\n",
      "Epoch 62/100\n",
      "157/157 [==============================] - ETA: 0s - loss: 0.0062 - accuracy: 0.9980\n",
      "Epoch 62: val_accuracy did not improve from 0.88180\n",
      "157/157 [==============================] - 7s 45ms/step - loss: 0.0062 - accuracy: 0.9980 - val_loss: 0.9573 - val_accuracy: 0.8790\n",
      "Epoch 63/100\n",
      "157/157 [==============================] - ETA: 0s - loss: 0.0064 - accuracy: 0.9979\n",
      "Epoch 63: val_accuracy did not improve from 0.88180\n",
      "157/157 [==============================] - 7s 45ms/step - loss: 0.0064 - accuracy: 0.9979 - val_loss: 0.9936 - val_accuracy: 0.8724\n",
      "Epoch 64/100\n",
      "157/157 [==============================] - ETA: 0s - loss: 0.0223 - accuracy: 0.9929\n",
      "Epoch 64: val_accuracy did not improve from 0.88180\n",
      "157/157 [==============================] - 7s 46ms/step - loss: 0.0223 - accuracy: 0.9929 - val_loss: 0.8145 - val_accuracy: 0.8682\n",
      "Epoch 65/100\n",
      "156/157 [============================>.] - ETA: 0s - loss: 0.0098 - accuracy: 0.9968\n",
      "Epoch 65: val_accuracy did not improve from 0.88180\n",
      "157/157 [==============================] - 7s 46ms/step - loss: 0.0098 - accuracy: 0.9968 - val_loss: 0.8788 - val_accuracy: 0.8738\n",
      "Epoch 66/100\n",
      "157/157 [==============================] - ETA: 0s - loss: 0.0057 - accuracy: 0.9984\n",
      "Epoch 66: val_accuracy did not improve from 0.88180\n",
      "157/157 [==============================] - 7s 45ms/step - loss: 0.0057 - accuracy: 0.9984 - val_loss: 0.9466 - val_accuracy: 0.8696\n",
      "Epoch 67/100\n",
      "156/157 [============================>.] - ETA: 0s - loss: 0.0076 - accuracy: 0.9973\n",
      "Epoch 67: val_accuracy did not improve from 0.88180\n",
      "157/157 [==============================] - 7s 45ms/step - loss: 0.0075 - accuracy: 0.9973 - val_loss: 1.0601 - val_accuracy: 0.8634\n",
      "Epoch 68/100\n",
      "157/157 [==============================] - ETA: 0s - loss: 0.0101 - accuracy: 0.9968\n",
      "Epoch 68: val_accuracy did not improve from 0.88180\n",
      "157/157 [==============================] - 7s 45ms/step - loss: 0.0101 - accuracy: 0.9968 - val_loss: 0.9140 - val_accuracy: 0.8658\n",
      "Epoch 69/100\n",
      "156/157 [============================>.] - ETA: 0s - loss: 0.0047 - accuracy: 0.9987\n",
      "Epoch 69: val_accuracy did not improve from 0.88180\n",
      "157/157 [==============================] - 7s 45ms/step - loss: 0.0047 - accuracy: 0.9987 - val_loss: 0.9959 - val_accuracy: 0.8674\n",
      "Epoch 70/100\n",
      "156/157 [============================>.] - ETA: 0s - loss: 0.0049 - accuracy: 0.9983\n",
      "Epoch 70: val_accuracy did not improve from 0.88180\n",
      "157/157 [==============================] - 7s 44ms/step - loss: 0.0049 - accuracy: 0.9984 - val_loss: 0.9833 - val_accuracy: 0.8706\n",
      "Epoch 71/100\n",
      "157/157 [==============================] - ETA: 0s - loss: 0.0028 - accuracy: 0.9991\n",
      "Epoch 71: val_accuracy did not improve from 0.88180\n",
      "157/157 [==============================] - 7s 45ms/step - loss: 0.0028 - accuracy: 0.9991 - val_loss: 1.1295 - val_accuracy: 0.8650\n",
      "Epoch 72/100\n",
      "156/157 [============================>.] - ETA: 0s - loss: 0.0136 - accuracy: 0.9962\n",
      "Epoch 72: val_accuracy did not improve from 0.88180\n",
      "157/157 [==============================] - 7s 46ms/step - loss: 0.0136 - accuracy: 0.9962 - val_loss: 0.9231 - val_accuracy: 0.8700\n",
      "Epoch 73/100\n",
      "156/157 [============================>.] - ETA: 0s - loss: 0.0074 - accuracy: 0.9977\n",
      "Epoch 73: val_accuracy did not improve from 0.88180\n",
      "157/157 [==============================] - 7s 46ms/step - loss: 0.0074 - accuracy: 0.9977 - val_loss: 0.9071 - val_accuracy: 0.8686\n",
      "Epoch 74/100\n",
      "157/157 [==============================] - ETA: 0s - loss: 0.0056 - accuracy: 0.9983\n",
      "Epoch 74: val_accuracy did not improve from 0.88180\n",
      "157/157 [==============================] - 7s 45ms/step - loss: 0.0056 - accuracy: 0.9983 - val_loss: 0.9901 - val_accuracy: 0.8724\n",
      "Epoch 75/100\n",
      "157/157 [==============================] - ETA: 0s - loss: 0.0134 - accuracy: 0.9956\n",
      "Epoch 75: val_accuracy did not improve from 0.88180\n",
      "157/157 [==============================] - 7s 45ms/step - loss: 0.0134 - accuracy: 0.9956 - val_loss: 0.8896 - val_accuracy: 0.8728\n",
      "Epoch 76/100\n",
      "157/157 [==============================] - ETA: 0s - loss: 0.0077 - accuracy: 0.9976\n",
      "Epoch 76: val_accuracy did not improve from 0.88180\n",
      "157/157 [==============================] - 7s 45ms/step - loss: 0.0077 - accuracy: 0.9976 - val_loss: 0.9279 - val_accuracy: 0.8698\n",
      "Epoch 77/100\n",
      "157/157 [==============================] - ETA: 0s - loss: 0.0083 - accuracy: 0.9970\n",
      "Epoch 77: val_accuracy did not improve from 0.88180\n",
      "157/157 [==============================] - 7s 45ms/step - loss: 0.0083 - accuracy: 0.9970 - val_loss: 0.9372 - val_accuracy: 0.8752\n",
      "Epoch 78/100\n",
      "157/157 [==============================] - ETA: 0s - loss: 0.0061 - accuracy: 0.9981\n",
      "Epoch 78: val_accuracy did not improve from 0.88180\n",
      "157/157 [==============================] - 7s 45ms/step - loss: 0.0061 - accuracy: 0.9981 - val_loss: 0.9819 - val_accuracy: 0.8736\n",
      "Epoch 79/100\n",
      "157/157 [==============================] - ETA: 0s - loss: 0.0016 - accuracy: 0.9995\n",
      "Epoch 79: val_accuracy did not improve from 0.88180\n",
      "157/157 [==============================] - 7s 45ms/step - loss: 0.0016 - accuracy: 0.9995 - val_loss: 1.1036 - val_accuracy: 0.8746\n",
      "Epoch 80/100\n",
      "156/157 [============================>.] - ETA: 0s - loss: 0.0016 - accuracy: 0.9994\n",
      "Epoch 80: val_accuracy did not improve from 0.88180\n",
      "157/157 [==============================] - 7s 45ms/step - loss: 0.0016 - accuracy: 0.9994 - val_loss: 1.1768 - val_accuracy: 0.8770\n",
      "Epoch 81/100\n",
      "157/157 [==============================] - ETA: 0s - loss: 0.0224 - accuracy: 0.9939\n",
      "Epoch 81: val_accuracy did not improve from 0.88180\n",
      "157/157 [==============================] - 7s 46ms/step - loss: 0.0224 - accuracy: 0.9939 - val_loss: 0.7664 - val_accuracy: 0.8694\n",
      "Epoch 82/100\n",
      "157/157 [==============================] - ETA: 0s - loss: 0.0058 - accuracy: 0.9984\n",
      "Epoch 82: val_accuracy did not improve from 0.88180\n",
      "157/157 [==============================] - 7s 46ms/step - loss: 0.0058 - accuracy: 0.9984 - val_loss: 0.8782 - val_accuracy: 0.8768\n",
      "Epoch 83/100\n",
      "156/157 [============================>.] - ETA: 0s - loss: 0.0067 - accuracy: 0.9980\n",
      "Epoch 83: val_accuracy did not improve from 0.88180\n",
      "157/157 [==============================] - 7s 46ms/step - loss: 0.0067 - accuracy: 0.9980 - val_loss: 0.8802 - val_accuracy: 0.8688\n",
      "Epoch 84/100\n",
      "157/157 [==============================] - ETA: 0s - loss: 0.0022 - accuracy: 0.9994\n",
      "Epoch 84: val_accuracy did not improve from 0.88180\n",
      "157/157 [==============================] - 7s 46ms/step - loss: 0.0022 - accuracy: 0.9994 - val_loss: 1.0848 - val_accuracy: 0.8686\n",
      "Epoch 85/100\n",
      "157/157 [==============================] - ETA: 0s - loss: 0.0051 - accuracy: 0.9985\n",
      "Epoch 85: val_accuracy did not improve from 0.88180\n",
      "157/157 [==============================] - 7s 45ms/step - loss: 0.0051 - accuracy: 0.9985 - val_loss: 1.0227 - val_accuracy: 0.8716\n",
      "Epoch 86/100\n"
     ]
    },
    {
     "name": "stdout",
     "output_type": "stream",
     "text": [
      "156/157 [============================>.] - ETA: 0s - loss: 0.0073 - accuracy: 0.9976\n",
      "Epoch 86: val_accuracy did not improve from 0.88180\n",
      "157/157 [==============================] - 7s 46ms/step - loss: 0.0073 - accuracy: 0.9977 - val_loss: 1.0009 - val_accuracy: 0.8776\n",
      "Epoch 87/100\n",
      "157/157 [==============================] - ETA: 0s - loss: 0.0060 - accuracy: 0.9984\n",
      "Epoch 87: val_accuracy did not improve from 0.88180\n",
      "157/157 [==============================] - 7s 46ms/step - loss: 0.0060 - accuracy: 0.9984 - val_loss: 0.9840 - val_accuracy: 0.8732\n",
      "Epoch 88/100\n",
      "157/157 [==============================] - ETA: 0s - loss: 0.0010 - accuracy: 0.9998  \n",
      "Epoch 88: val_accuracy did not improve from 0.88180\n",
      "157/157 [==============================] - 7s 45ms/step - loss: 0.0010 - accuracy: 0.9998 - val_loss: 1.0898 - val_accuracy: 0.8730\n",
      "Epoch 89/100\n",
      "157/157 [==============================] - ETA: 0s - loss: 9.1455e-04 - accuracy: 0.9998\n",
      "Epoch 89: val_accuracy did not improve from 0.88180\n",
      "157/157 [==============================] - 7s 46ms/step - loss: 9.1455e-04 - accuracy: 0.9998 - val_loss: 1.1666 - val_accuracy: 0.8714\n",
      "Epoch 90/100\n",
      "156/157 [============================>.] - ETA: 0s - loss: 0.0017 - accuracy: 0.9996    \n",
      "Epoch 90: val_accuracy did not improve from 0.88180\n",
      "157/157 [==============================] - 7s 46ms/step - loss: 0.0017 - accuracy: 0.9996 - val_loss: 1.2874 - val_accuracy: 0.8714\n",
      "Epoch 91/100\n",
      "157/157 [==============================] - ETA: 0s - loss: 0.0034 - accuracy: 0.9988\n",
      "Epoch 91: val_accuracy did not improve from 0.88180\n",
      "157/157 [==============================] - 7s 45ms/step - loss: 0.0034 - accuracy: 0.9988 - val_loss: 1.2534 - val_accuracy: 0.8584\n",
      "Epoch 92/100\n",
      "156/157 [============================>.] - ETA: 0s - loss: 0.0155 - accuracy: 0.9954\n",
      "Epoch 92: val_accuracy did not improve from 0.88180\n",
      "157/157 [==============================] - 7s 45ms/step - loss: 0.0154 - accuracy: 0.9955 - val_loss: 0.8151 - val_accuracy: 0.8676\n",
      "Epoch 93/100\n",
      "157/157 [==============================] - ETA: 0s - loss: 0.0080 - accuracy: 0.9977\n",
      "Epoch 93: val_accuracy did not improve from 0.88180\n",
      "157/157 [==============================] - 7s 46ms/step - loss: 0.0080 - accuracy: 0.9977 - val_loss: 0.8257 - val_accuracy: 0.8736\n",
      "Epoch 94/100\n",
      "157/157 [==============================] - ETA: 0s - loss: 0.0035 - accuracy: 0.9987\n",
      "Epoch 94: val_accuracy did not improve from 0.88180\n",
      "157/157 [==============================] - 7s 46ms/step - loss: 0.0035 - accuracy: 0.9987 - val_loss: 0.9563 - val_accuracy: 0.8728\n",
      "Epoch 95/100\n",
      "156/157 [============================>.] - ETA: 0s - loss: 0.0067 - accuracy: 0.9976\n",
      "Epoch 95: val_accuracy did not improve from 0.88180\n",
      "157/157 [==============================] - 7s 46ms/step - loss: 0.0067 - accuracy: 0.9976 - val_loss: 0.9692 - val_accuracy: 0.8712\n",
      "Epoch 96/100\n",
      "  5/157 [..............................] - ETA: 6s - loss: 0.0020 - accuracy: 0.9984    "
     ]
    }
   ],
   "source": [
    "model.compile('adam', loss=BinaryCrossentropy(), metrics='accuracy')\n",
    "\n",
    "model.fit(x=train_x,\n",
    "         y=train_y,\n",
    "         batch_size=128,\n",
    "         epochs=100,\n",
    "         validation_data=(val_x, val_y),\n",
    "         callbacks=callbacks)"
   ]
  },
  {
   "cell_type": "code",
   "execution_count": null,
   "id": "fceba0ff",
   "metadata": {},
   "outputs": [],
   "source": [
    "model.load_weights('./models_glove_bilstm/checkpoint')"
   ]
  },
  {
   "cell_type": "code",
   "execution_count": null,
   "id": "17d06c83",
   "metadata": {},
   "outputs": [],
   "source": [
    "predict_result(model, train_x[:1000], train_y[:1000])"
   ]
  },
  {
   "cell_type": "code",
   "execution_count": null,
   "id": "1959c5cc",
   "metadata": {},
   "outputs": [],
   "source": [
    "predict_result(model, test_x, test_y)"
   ]
  },
  {
   "cell_type": "code",
   "execution_count": null,
   "id": "4b573fce",
   "metadata": {},
   "outputs": [],
   "source": []
  },
  {
   "cell_type": "code",
   "execution_count": null,
   "id": "8512defd",
   "metadata": {},
   "outputs": [],
   "source": []
  }
 ],
 "metadata": {
  "kernelspec": {
   "display_name": "Python 3 (ipykernel)",
   "language": "python",
   "name": "python3"
  },
  "language_info": {
   "codemirror_mode": {
    "name": "ipython",
    "version": 3
   },
   "file_extension": ".py",
   "mimetype": "text/x-python",
   "name": "python",
   "nbconvert_exporter": "python",
   "pygments_lexer": "ipython3",
   "version": "3.9.0"
  }
 },
 "nbformat": 4,
 "nbformat_minor": 5
}
